{
  "cells": [
    {
      "cell_type": "markdown",
      "metadata": {
        "id": "view-in-github",
        "colab_type": "text"
      },
      "source": [
        "<a href=\"https://colab.research.google.com/github/Geon27/3-2-googlecolab/blob/main/%EA%B5%AC%EA%B8%80%ED%8A%B8%EB%A0%8C%EB%93%9C_%ED%8C%80%ED%94%8C_0605_%EC%B5%9C%EC%A2%85%EC%9D%BC%EA%B9%8C%3F.ipynb\" target=\"_parent\"><img src=\"https://colab.research.google.com/assets/colab-badge.svg\" alt=\"Open In Colab\"/></a>"
      ]
    },
    {
      "cell_type": "markdown",
      "source": [
        "# **구글 트렌드와 외래관광객 실태 설문지를 활용한 대만 관광객분석**\n",
        "# **(Google Colab을 통한 분석)**\n",
        "\n",
        "\n",
        "**1686067 신원재    1786071 육건    2093045 이다현**"
      ],
      "metadata": {
        "id": "w2Nw5nYrtLyu"
      }
    },
    {
      "cell_type": "markdown",
      "metadata": {
        "id": "3-gYetd6FSIX"
      },
      "source": [
        "## **한글폰트 사용을 위한 셋팅**\n",
        "\n",
        "* 코랩에서 한글폰트를 사용하기 위해 실행해야 함\n",
        "* 한편 아래코드는 두번 실행을 해야 하는데 한번 실행 후 **런타임을 다시시작 (ctrl + M .)** 한뒤 한번 더 실행 해야함\n",
        "* 영역을 한번에 실행하기: **(Ctrl + Shift + Enter)**\n",
        "* 셀만 실행하기: **(Ctrl + Enter)**"
      ]
    },
    {
      "cell_type": "code",
      "execution_count": null,
      "metadata": {
        "colab": {
          "base_uri": "https://localhost:8080/"
        },
        "id": "y_9ZjXlBFSIX",
        "outputId": "efe98c1f-950d-413b-aa1b-9f9bcefdb998"
      },
      "outputs": [
        {
          "output_type": "stream",
          "name": "stdout",
          "text": [
            "Reading package lists... Done\n",
            "Building dependency tree       \n",
            "Reading state information... Done\n",
            "The following package was automatically installed and is no longer required:\n",
            "  libnvidia-common-460\n",
            "Use 'sudo apt autoremove' to remove it.\n",
            "The following NEW packages will be installed:\n",
            "  fonts-nanum\n",
            "0 upgraded, 1 newly installed, 0 to remove and 45 not upgraded.\n",
            "Need to get 9,604 kB of archives.\n",
            "After this operation, 29.5 MB of additional disk space will be used.\n",
            "Get:1 http://archive.ubuntu.com/ubuntu bionic/universe amd64 fonts-nanum all 20170925-1 [9,604 kB]\n",
            "Fetched 9,604 kB in 1s (9,777 kB/s)\n",
            "debconf: unable to initialize frontend: Dialog\n",
            "debconf: (No usable dialog-like program is installed, so the dialog based frontend cannot be used. at /usr/share/perl5/Debconf/FrontEnd/Dialog.pm line 76, <> line 1.)\n",
            "debconf: falling back to frontend: Readline\n",
            "debconf: unable to initialize frontend: Readline\n",
            "debconf: (This frontend requires a controlling tty.)\n",
            "debconf: falling back to frontend: Teletype\n",
            "dpkg-preconfigure: unable to re-open stdin: \n",
            "Selecting previously unselected package fonts-nanum.\n",
            "(Reading database ... 155632 files and directories currently installed.)\n",
            "Preparing to unpack .../fonts-nanum_20170925-1_all.deb ...\n",
            "Unpacking fonts-nanum (20170925-1) ...\n",
            "Setting up fonts-nanum (20170925-1) ...\n",
            "Processing triggers for fontconfig (2.12.6-0ubuntu2) ...\n",
            "/usr/share/fonts: caching, new cache contents: 0 fonts, 1 dirs\n",
            "/usr/share/fonts/truetype: caching, new cache contents: 0 fonts, 3 dirs\n",
            "/usr/share/fonts/truetype/humor-sans: caching, new cache contents: 1 fonts, 0 dirs\n",
            "/usr/share/fonts/truetype/liberation: caching, new cache contents: 16 fonts, 0 dirs\n",
            "/usr/share/fonts/truetype/nanum: caching, new cache contents: 10 fonts, 0 dirs\n",
            "/usr/local/share/fonts: caching, new cache contents: 0 fonts, 0 dirs\n",
            "/root/.local/share/fonts: skipping, no such directory\n",
            "/root/.fonts: skipping, no such directory\n",
            "/var/cache/fontconfig: cleaning cache directory\n",
            "/root/.cache/fontconfig: not cleaning non-existent cache directory\n",
            "/root/.fontconfig: not cleaning non-existent cache directory\n",
            "fc-cache: succeeded\n"
          ]
        }
      ],
      "source": [
        "# http://corazzon.github.io/matplotlib_font_setting\n",
        "# 한글폰트 불러오기: 런타임을 다시 시작한 후 적용되기 때문에 실행 후\n",
        "# 런타임 다시 시작 후 다시 한번 실행하기\n",
        "!sudo apt-get install -y fonts-nanum\n",
        "!sudo fc-cache -fv\n",
        "!rm ~/.cache/matplotlib -rf\n",
        "# 필요한 패키지와 라이브러리를 가져옴\n",
        "import matplotlib as mpl\n",
        "import matplotlib.pyplot as plt\n",
        "import matplotlib.font_manager as fm\n",
        "plt.rc('font', family='NanumBarunGothic') \n",
        "# 그래프를 노트북 안에 그리기 위해 설정\n",
        "%matplotlib inline\n",
        "# 그래프에서 마이너스 폰트 깨지는 문제에 대한 대처\n",
        "mpl.rcParams['axes.unicode_minus'] = False"
      ]
    },
    {
      "cell_type": "markdown",
      "metadata": {
        "id": "C-oFcEkYFSIX"
      },
      "source": [
        "* 아래 코드를 사용하여 한글세팅 확인을 위한 임의 데이터 생성\n",
        "* 아래 코드를 실행할 때 만약 한글 셋팅이 잘 안되었다면 그래프가 깨지게 됨"
      ]
    },
    {
      "cell_type": "code",
      "execution_count": null,
      "metadata": {
        "colab": {
          "base_uri": "https://localhost:8080/"
        },
        "id": "pIzHrjh3FSIX",
        "outputId": "9fe70b4a-1833-4b9b-eb55-a6d511ef7d77"
      },
      "outputs": [
        {
          "output_type": "execute_result",
          "data": {
            "text/plain": [
              "Text(0.5, 0, '시간(분)')"
            ]
          },
          "metadata": {},
          "execution_count": 2
        },
        {
          "output_type": "stream",
          "name": "stderr",
          "text": [
            "findfont: Font family ['NanumBarunGothic'] not found. Falling back to DejaVu Sans.\n",
            "/usr/local/lib/python3.7/dist-packages/matplotlib/backends/backend_agg.py:214: RuntimeWarning: Glyph 49884 missing from current font.\n",
            "  font.set_text(s, 0.0, flags=flags)\n",
            "/usr/local/lib/python3.7/dist-packages/matplotlib/backends/backend_agg.py:214: RuntimeWarning: Glyph 44036 missing from current font.\n",
            "  font.set_text(s, 0.0, flags=flags)\n",
            "/usr/local/lib/python3.7/dist-packages/matplotlib/backends/backend_agg.py:214: RuntimeWarning: Glyph 48324 missing from current font.\n",
            "  font.set_text(s, 0.0, flags=flags)\n",
            "/usr/local/lib/python3.7/dist-packages/matplotlib/backends/backend_agg.py:214: RuntimeWarning: Glyph 44032 missing from current font.\n",
            "  font.set_text(s, 0.0, flags=flags)\n",
            "/usr/local/lib/python3.7/dist-packages/matplotlib/backends/backend_agg.py:214: RuntimeWarning: Glyph 44201 missing from current font.\n",
            "  font.set_text(s, 0.0, flags=flags)\n",
            "/usr/local/lib/python3.7/dist-packages/matplotlib/backends/backend_agg.py:214: RuntimeWarning: Glyph 52628 missing from current font.\n",
            "  font.set_text(s, 0.0, flags=flags)\n",
            "/usr/local/lib/python3.7/dist-packages/matplotlib/backends/backend_agg.py:214: RuntimeWarning: Glyph 51060 missing from current font.\n",
            "  font.set_text(s, 0.0, flags=flags)\n",
            "findfont: Font family ['NanumBarunGothic'] not found. Falling back to DejaVu Sans.\n",
            "/usr/local/lib/python3.7/dist-packages/matplotlib/backends/backend_agg.py:214: RuntimeWarning: Glyph 48516 missing from current font.\n",
            "  font.set_text(s, 0.0, flags=flags)\n",
            "/usr/local/lib/python3.7/dist-packages/matplotlib/backends/backend_agg.py:183: RuntimeWarning: Glyph 49884 missing from current font.\n",
            "  font.set_text(s, 0, flags=flags)\n",
            "/usr/local/lib/python3.7/dist-packages/matplotlib/backends/backend_agg.py:183: RuntimeWarning: Glyph 44036 missing from current font.\n",
            "  font.set_text(s, 0, flags=flags)\n",
            "/usr/local/lib/python3.7/dist-packages/matplotlib/backends/backend_agg.py:183: RuntimeWarning: Glyph 48516 missing from current font.\n",
            "  font.set_text(s, 0, flags=flags)\n",
            "/usr/local/lib/python3.7/dist-packages/matplotlib/backends/backend_agg.py:214: RuntimeWarning: Glyph 51452 missing from current font.\n",
            "  font.set_text(s, 0.0, flags=flags)\n",
            "/usr/local/lib/python3.7/dist-packages/matplotlib/backends/backend_agg.py:214: RuntimeWarning: Glyph 49885 missing from current font.\n",
            "  font.set_text(s, 0.0, flags=flags)\n",
            "/usr/local/lib/python3.7/dist-packages/matplotlib/backends/backend_agg.py:183: RuntimeWarning: Glyph 51452 missing from current font.\n",
            "  font.set_text(s, 0, flags=flags)\n",
            "/usr/local/lib/python3.7/dist-packages/matplotlib/backends/backend_agg.py:183: RuntimeWarning: Glyph 49885 missing from current font.\n",
            "  font.set_text(s, 0, flags=flags)\n",
            "/usr/local/lib/python3.7/dist-packages/matplotlib/backends/backend_agg.py:183: RuntimeWarning: Glyph 44032 missing from current font.\n",
            "  font.set_text(s, 0, flags=flags)\n",
            "/usr/local/lib/python3.7/dist-packages/matplotlib/backends/backend_agg.py:183: RuntimeWarning: Glyph 44201 missing from current font.\n",
            "  font.set_text(s, 0, flags=flags)\n",
            "/usr/local/lib/python3.7/dist-packages/matplotlib/backends/backend_agg.py:183: RuntimeWarning: Glyph 48324 missing from current font.\n",
            "  font.set_text(s, 0, flags=flags)\n",
            "/usr/local/lib/python3.7/dist-packages/matplotlib/backends/backend_agg.py:183: RuntimeWarning: Glyph 52628 missing from current font.\n",
            "  font.set_text(s, 0, flags=flags)\n",
            "/usr/local/lib/python3.7/dist-packages/matplotlib/backends/backend_agg.py:183: RuntimeWarning: Glyph 51060 missing from current font.\n",
            "  font.set_text(s, 0, flags=flags)\n"
          ]
        },
        {
          "output_type": "display_data",
          "data": {
            "text/plain": [
              "<Figure size 720x576 with 1 Axes>"
            ],
            "image/png": "[encoded data removed]"
          },
          "metadata": {
            "needs_background": "light"
          }
        }
      ],
      "source": [
        "# 데이터 준비\n",
        "import numpy as np\n",
        "#임의 데이터 생성\n",
        "data = np.random.randint(-200, 100, 50).cumsum()\n",
        "plt.figure(figsize=(10,8)); plt.plot(range(50), data, 'r'); plt.title('시간별 가격추이')\n",
        "plt.ylabel('주식가격'); plt.xlabel('시간(분)')"
      ]
    },
    {
      "cell_type": "markdown",
      "metadata": {
        "id": "8-5tyqMiFSIX"
      },
      "source": [
        "# **기본 시스템 세팅**\n",
        "\n",
        "\n",
        "---\n",
        "\n",
        "\n",
        "\n",
        "\n",
        "1.  구글 드라이브 연동\n",
        "2.  구글 코랩의 작업환경과 구글 드라이브의 작업폴더 동기화\n",
        "\n",
        "\n",
        "\n"
      ]
    },
    {
      "cell_type": "markdown",
      "metadata": {
        "id": "uQun8iJGFSIY"
      },
      "source": [
        "* 구글 드라이브 연동**(구글 계정 필수)**"
      ]
    },
    {
      "cell_type": "code",
      "execution_count": null,
      "metadata": {
        "colab": {
          "base_uri": "https://localhost:8080/"
        },
        "id": "mZE_Db-8FSIY",
        "outputId": "b74cf023-fc4f-402e-9163-41de5866cca7"
      },
      "outputs": [
        {
          "output_type": "stream",
          "name": "stdout",
          "text": [
            "Mounted at /content/drive\n"
          ]
        }
      ],
      "source": [
        "#구글 드라이브 연동\n",
        "from google.colab import drive\n",
        "drive.mount('/content/drive') \n",
        "\n",
        "# 아래 출력되는 URL에 접속하여 이용 동의 후 생성되는 인증코드를 복사해서 붙여넣기"
      ]
    },
    {
      "cell_type": "markdown",
      "metadata": {
        "id": "FQljeuSEFSIY"
      },
      "source": [
        "* 구글 드라이브와 동기화를 위해 폴더설정 및 경로설정"
      ]
    },
    {
      "cell_type": "code",
      "execution_count": 157,
      "metadata": {
        "id": "PvITcG-ZFSIY",
        "colab": {
          "base_uri": "https://localhost:8080/",
          "height": 229
        },
        "outputId": "73e7dd72-dbe9-4d6f-8360-23476b443834"
      },
      "outputs": [
        {
          "ename": "FileExistsError",
          "evalue": "ignored",
          "output_type": "error",
          "traceback": [
            "\u001b[0;31m---------------------------------------------------------------------------\u001b[0m",
            "\u001b[0;31mFileExistsError\u001b[0m                           Traceback (most recent call last)",
            "\u001b[0;32m<ipython-input-157-c2962406ac93>\u001b[0m in \u001b[0;36m<module>\u001b[0;34m()\u001b[0m\n\u001b[1;32m      3\u001b[0m \u001b[0mnb_path\u001b[0m \u001b[0;34m=\u001b[0m \u001b[0;34m'/content/notebooks'\u001b[0m\u001b[0;34m\u001b[0m\u001b[0;34m\u001b[0m\u001b[0m\n\u001b[1;32m      4\u001b[0m \u001b[0;31m#create a symbolic link for pointing to /content/mnt/My Drive/Colab Notebooks\u001b[0m\u001b[0;34m\u001b[0m\u001b[0;34m\u001b[0m\u001b[0;34m\u001b[0m\u001b[0m\n\u001b[0;32m----> 5\u001b[0;31m \u001b[0mos\u001b[0m\u001b[0;34m.\u001b[0m\u001b[0msymlink\u001b[0m\u001b[0;34m(\u001b[0m\u001b[0;34m'/content/mnt/My Drive/Colab Notebooks'\u001b[0m\u001b[0;34m,\u001b[0m \u001b[0mnb_path\u001b[0m\u001b[0;34m)\u001b[0m\u001b[0;34m\u001b[0m\u001b[0;34m\u001b[0m\u001b[0m\n\u001b[0m\u001b[1;32m      6\u001b[0m \u001b[0msys\u001b[0m\u001b[0;34m.\u001b[0m\u001b[0mpath\u001b[0m\u001b[0;34m.\u001b[0m\u001b[0minsert\u001b[0m\u001b[0;34m(\u001b[0m\u001b[0;36m0\u001b[0m\u001b[0;34m,\u001b[0m \u001b[0mnb_path\u001b[0m\u001b[0;34m)\u001b[0m\u001b[0;34m\u001b[0m\u001b[0;34m\u001b[0m\u001b[0m\n",
            "\u001b[0;31mFileExistsError\u001b[0m: [Errno 17] File exists: '/content/mnt/My Drive/Colab Notebooks' -> '/content/notebooks'"
          ]
        }
      ],
      "source": [
        "# 폴더설정, 같은 런타임에서 두번실행할때 에러 발생하지만 문제는 아님\n",
        "import os, sys\n",
        "nb_path = '/content/notebooks'\n",
        "#create a symbolic link for pointing to /content/mnt/My Drive/Colab Notebooks\n",
        "os.symlink('/content/mnt/My Drive/Colab Notebooks', nb_path)\n",
        "sys.path.insert(0, nb_path) "
      ]
    },
    {
      "cell_type": "code",
      "execution_count": null,
      "metadata": {
        "colab": {
          "base_uri": "https://localhost:8080/",
          "height": 35
        },
        "id": "AYTA62hPFSIY",
        "outputId": "d6f62b76-9f88-4639-d64e-754b73904474"
      },
      "outputs": [
        {
          "output_type": "execute_result",
          "data": {
            "text/plain": [
              "'/content/drive/MyDrive/Colab Notebooks'"
            ],
            "application/vnd.google.colaboratory.intrinsic+json": {
              "type": "string"
            }
          },
          "metadata": {},
          "execution_count": 5
        }
      ],
      "source": [
        "# 작업할 경로를 google drive가 있는 위치로 변경(작업폴더설정)\n",
        "os.chdir('/content/drive/MyDrive/Colab Notebooks/') \n",
        "os.getcwd()"
      ]
    },
    {
      "cell_type": "markdown",
      "metadata": {
        "id": "g1WG__0IFSIZ"
      },
      "source": [
        "## **R추가 사용을 위한 셋팅**\n",
        "\n",
        "---\n",
        "1.   R magic설정\n",
        "\n",
        "2.   패키지의 경로를 지정\n",
        "3.  리눅스 형태로 설치해야 하는 패키지 설치\n",
        "\n",
        "4. 패키지 개별설치 자동로드\n",
        "5. 패키지 자동설치 자동로드\n",
        "6. 파이썬 패키지 설치 및 장소 지정\n",
        "7. 추가 파이썬 패키지 한번에 인스톨\n",
        "8. 필요한 파이썬 패키지 로드\n",
        "\n",
        "<U> **위 사항들을 모두 정상적으로 마쳐야 분석을 실행할 때 에러가 발생하지 않는다.**\n",
        "\n"
      ]
    },
    {
      "cell_type": "code",
      "execution_count": null,
      "metadata": {
        "id": "l8c5o5ayFSIZ"
      },
      "outputs": [],
      "source": [
        "#R magic설정\n",
        "# Load in the r magic\n",
        "%reload_ext rpy2.ipython\n",
        "%config IPCompleter.greedy=True\n",
        "%config InlineBackend.figure_format = 'retina'"
      ]
    },
    {
      "cell_type": "code",
      "execution_count": null,
      "metadata": {
        "id": "UsIFIGogFSIZ"
      },
      "outputs": [],
      "source": [
        "# 설치되어 있는 패키지 확인 및 라이브러리 경로 설정\n",
        "%%R\n",
        "#print(library())\n",
        ".libPaths(\"/content/drive/MyDrive/Colab Notebooks/r-lib\")"
      ]
    },
    {
      "cell_type": "code",
      "execution_count": null,
      "metadata": {
        "id": "zqWN_mrWFSIZ"
      },
      "outputs": [],
      "source": [
        "# 1.리눅스 형태로 설치안되는 패키지 설치 (필요시 계속 추가)\n",
        "!sudo apt-get install -y libv8-dev # V8\n",
        "!sudo apt install libmagick++-dev  # Magick++ for summarytools, 불가할때 있음"
      ]
    },
    {
      "cell_type": "code",
      "execution_count": null,
      "metadata": {
        "id": "714_DoxXFSIZ"
      },
      "outputs": [],
      "source": [
        "# 2.패키지 개별설치 자동로드\n",
        "%%R\n",
        "if (!require(DiagrammeRsvg)) {install.packages(\"DiagrammeRsvg\") \n",
        "   library(DiagrammeRsvg)}\n",
        "if (!require(DiagrammeR)) {install.packages(\"DiagrammeR\") \n",
        "   library(DiagrammeR)}\n",
        "if (!require(magrittr)) {install.packages(\"magrittr\") \n",
        "   library(magrittr)}\n",
        "# if (!require(rsvg)) {install.packages(\"rsvg\") \n",
        "   #library(rsvg)}\n",
        "#if (!require(summarytools)) {install.packages(\"summarytools\") #, 불가할때 있음\n",
        "#  library(summarytools)}\n",
        "#if (!require(rsvg)) {install.packages(\"rcorr\") \n",
        "#   library(rcorr)}\n",
        "if (!require(pacman)) {install.packages(\"pacman\")\n",
        "   library(pacman)}\n",
        "pacman::p_load(\"corrplot\", \"stargazer\", \"plotly\", \"openxlsx\",\"ggplot2\", #  \"lazyeval\"\n",
        "          \"readxl\",\"dplyr\",\"htmltools\", \"sjmisc\",\"lawstat\",\n",
        "          \"lawstat\",\"Hmisc\",\"gmodels\", \"car\", \"equatiomatic\", \"report\") # \"webr\",\"moonBook\","
      ]
    },
    {
      "cell_type": "code",
      "execution_count": null,
      "metadata": {
        "id": "-giaVb69FSIZ"
      },
      "outputs": [],
      "source": [
        "## 3.패키지 자동설치 자동로드\n",
        "%%R\n",
        "packages = c(\"astsa\",\"openxlsx\",\"Hmisc\",\"stargazer\",\"corrplot\")#\"rsvg\")\n",
        "package.check <- lapply(packages, FUN = function(x) {\n",
        "  if (!require(x, character.only = TRUE)) {\n",
        "    install.packages(x, dependencies = TRUE)\n",
        "    library(x, character.only = TRUE)}})"
      ]
    },
    {
      "cell_type": "markdown",
      "metadata": {
        "id": "T_MWtYgu3mhY"
      },
      "source": [
        "#**구글 코랩에서 파이썬 사용을 위한 셋팅**"
      ]
    },
    {
      "cell_type": "markdown",
      "metadata": {
        "id": "Wc31CvrWvpy2"
      },
      "source": [
        "## **패키지 설치 및 로드**\n",
        "---\n",
        "1. 파이썬 라이브러리 경로설정\n",
        "2. 파이선 패키지 설치 경로설정과 한번에 인스톨 (인스톨 후 #처리)\n",
        "3. 경로설정과 인스톨이 이전에 잘 되었다면 인스톨 과정없이 바로 패키지 로드 가능"
      ]
    },
    {
      "cell_type": "code",
      "execution_count": null,
      "metadata": {
        "id": "vecuRpl1FSIZ"
      },
      "outputs": [],
      "source": [
        "# 파이썬 라이브러리 경로지정\n",
        "import sys\n",
        "print(sys.path)\n",
        "sys.path.append('/content/drive/MyDrive/Colab Notebooks/package_collection')"
      ]
    },
    {
      "cell_type": "code",
      "execution_count": null,
      "metadata": {
        "id": "_KMwUrlZu2NY"
      },
      "outputs": [],
      "source": [
        "# 추가 파이썬 패키지 위치설정과 함께 한번에 인스톨\n",
        "!pip install --target=$nb_path pytrends plotly openpyxl numpy pandas matplotlib FinanceDataReader"
      ]
    },
    {
      "cell_type": "code",
      "execution_count": null,
      "metadata": {
        "id": "5dQk0EpoeUgj"
      },
      "outputs": [],
      "source": [
        "# 경제데이터를 가져오는 패키지\n",
        "!pip install -U finance-datareader"
      ]
    },
    {
      "cell_type": "code",
      "execution_count": null,
      "metadata": {
        "id": "F-R-QH1PGCOH"
      },
      "outputs": [],
      "source": [
        "pip install pytrends"
      ]
    },
    {
      "cell_type": "code",
      "execution_count": null,
      "metadata": {
        "id": "HrjcaVJfFSIa"
      },
      "outputs": [],
      "source": [
        "# 필요 imports\n",
        "import numpy as np\n",
        "import pandas as pd\n",
        "from pandas import DataFrame\n",
        "import warnings\n",
        "warnings.filterwarnings('ignore')\n",
        "\n",
        "from pytrends.request import TrendReq\n",
        "from tkinter import *\n",
        "#import tkinter.filedialog\n",
        "import matplotlib.font_manager as fm\n",
        "\n",
        "import plotly\n",
        "import plotly.graph_objects as go\n",
        "from plotly.offline import download_plotlyjs, init_notebook_mode, iplot\n",
        "import plotly.offline as pyo\n",
        "init_notebook_mode(connected=True)\n",
        "from IPython.display import HTML\n",
        "import plotly.express as px\n",
        "\n",
        "from collections import Counter\n",
        "from wordcloud import WordCloud\n",
        "from matplotlib import pyplot as plt\n",
        "\n",
        "import urllib.request, datetime, time, json"
      ]
    },
    {
      "cell_type": "markdown",
      "metadata": {
        "id": "pJhz9cwxFSIa"
      },
      "source": [
        "#**구글 코랩에서 파이썬과 R을 이용한 구글 트렌드 활용**"
      ]
    },
    {
      "cell_type": "markdown",
      "metadata": {
        "id": "ZpCOEg6MFSIa"
      },
      "source": [
        "> # 구글트렌드란?\n",
        "* 구글 트렌드는 전 세계 구글 검색량을 기반으로 트렌드를 예측하는 도구로 사용됨.\n",
        "* 구글 검색사이트에서 여러 용어들을 검색할 수 있고 이에 대한 빈도,관련내용 등이 축척된 것이 구글 트렌드 웹사이트이다.\n",
        "* 사람들은 관심 있는 것을 더 많이 검색한다.'라는 가정에 근거해 볼 때 해당 키워드 검색량이 많을수록 인지도는 크다고 할 수 가 있다.\n",
        "* **장점**: 몇 년 치의 통계 데이터를 지표(SVI, search volume index)로 볼 수 있어서 검색어에 대한 변화추이를 볼 수 있다.\n",
        "* **단점**: 이 검색량은 구글에서만 한정되므로 구글을 적게 사용하는 나라에서는 그 신뢰도가 떨어진다고 할 수 있다."
      ]
    },
    {
      "cell_type": "markdown",
      "metadata": {
        "id": "LrW0TlObFSIa"
      },
      "source": [
        "#### 구글트렌드의 카테고리 사이트 주소\n",
        "\n",
        "#### [Google Trends Categories](https://github.com/pat310/google-trends-api/wiki/Google-Trends-Categories)\n",
        "\n",
        "\n",
        "\n"
      ]
    },
    {
      "cell_type": "markdown",
      "metadata": {
        "id": "f8rrFeWyFSIa"
      },
      "source": [
        "# **분석환경설정**"
      ]
    },
    {
      "cell_type": "markdown",
      "metadata": {
        "id": "YIUYx92mFSIa"
      },
      "source": [
        "#### 앞에서 한번에 파이썬 패키지가 설치되지않았다면 핵심 패키지만 아래에서 인스톨, 잘 설치된 경우 생략가능"
      ]
    },
    {
      "cell_type": "code",
      "execution_count": null,
      "metadata": {
        "colab": {
          "base_uri": "https://localhost:8080/"
        },
        "id": "HO4DRDCnFSIb",
        "outputId": "06f7417e-a17f-4b9b-99f2-e0c7194393f6"
      },
      "outputs": [
        {
          "output_type": "stream",
          "name": "stdout",
          "text": [
            "Looking in indexes: https://pypi.org/simple, https://us-python.pkg.dev/colab-wheels/public/simple/\n",
            "Requirement already satisfied: pytrends in /usr/local/lib/python3.7/dist-packages (4.8.0)\n",
            "Requirement already satisfied: lxml in /usr/local/lib/python3.7/dist-packages (from pytrends) (4.2.6)\n",
            "Requirement already satisfied: pandas>=0.25 in /usr/local/lib/python3.7/dist-packages (from pytrends) (1.3.5)\n",
            "Requirement already satisfied: requests>=2.0 in /usr/local/lib/python3.7/dist-packages (from pytrends) (2.23.0)\n",
            "Requirement already satisfied: numpy>=1.17.3 in /usr/local/lib/python3.7/dist-packages (from pandas>=0.25->pytrends) (1.21.6)\n",
            "Requirement already satisfied: python-dateutil>=2.7.3 in /usr/local/lib/python3.7/dist-packages (from pandas>=0.25->pytrends) (2.8.2)\n",
            "Requirement already satisfied: pytz>=2017.3 in /usr/local/lib/python3.7/dist-packages (from pandas>=0.25->pytrends) (2022.1)\n",
            "Requirement already satisfied: six>=1.5 in /usr/local/lib/python3.7/dist-packages (from python-dateutil>=2.7.3->pandas>=0.25->pytrends) (1.15.0)\n",
            "Requirement already satisfied: chardet<4,>=3.0.2 in /usr/local/lib/python3.7/dist-packages (from requests>=2.0->pytrends) (3.0.4)\n",
            "Requirement already satisfied: urllib3!=1.25.0,!=1.25.1,<1.26,>=1.21.1 in /usr/local/lib/python3.7/dist-packages (from requests>=2.0->pytrends) (1.24.3)\n",
            "Requirement already satisfied: certifi>=2017.4.17 in /usr/local/lib/python3.7/dist-packages (from requests>=2.0->pytrends) (2022.5.18.1)\n",
            "Requirement already satisfied: idna<3,>=2.5 in /usr/local/lib/python3.7/dist-packages (from requests>=2.0->pytrends) (2.10)\n",
            "Looking in indexes: https://pypi.org/simple, https://us-python.pkg.dev/colab-wheels/public/simple/\n",
            "Requirement already satisfied: pandas in /usr/local/lib/python3.7/dist-packages (1.3.5)\n",
            "Requirement already satisfied: numpy>=1.17.3 in /usr/local/lib/python3.7/dist-packages (from pandas) (1.21.6)\n",
            "Requirement already satisfied: pytz>=2017.3 in /usr/local/lib/python3.7/dist-packages (from pandas) (2022.1)\n",
            "Requirement already satisfied: python-dateutil>=2.7.3 in /usr/local/lib/python3.7/dist-packages (from pandas) (2.8.2)\n",
            "Requirement already satisfied: six>=1.5 in /usr/local/lib/python3.7/dist-packages (from python-dateutil>=2.7.3->pandas) (1.15.0)\n",
            "Looking in indexes: https://pypi.org/simple, https://us-python.pkg.dev/colab-wheels/public/simple/\n",
            "Requirement already satisfied: matplotlib in /usr/local/lib/python3.7/dist-packages (3.2.2)\n",
            "Requirement already satisfied: python-dateutil>=2.1 in /usr/local/lib/python3.7/dist-packages (from matplotlib) (2.8.2)\n",
            "Requirement already satisfied: cycler>=0.10 in /usr/local/lib/python3.7/dist-packages (from matplotlib) (0.11.0)\n",
            "Requirement already satisfied: kiwisolver>=1.0.1 in /usr/local/lib/python3.7/dist-packages (from matplotlib) (1.4.2)\n",
            "Requirement already satisfied: numpy>=1.11 in /usr/local/lib/python3.7/dist-packages (from matplotlib) (1.21.6)\n",
            "Requirement already satisfied: pyparsing!=2.0.4,!=2.1.2,!=2.1.6,>=2.0.1 in /usr/local/lib/python3.7/dist-packages (from matplotlib) (3.0.9)\n",
            "Requirement already satisfied: typing-extensions in /usr/local/lib/python3.7/dist-packages (from kiwisolver>=1.0.1->matplotlib) (4.2.0)\n",
            "Requirement already satisfied: six>=1.5 in /usr/local/lib/python3.7/dist-packages (from python-dateutil>=2.1->matplotlib) (1.15.0)\n"
          ]
        }
      ],
      "source": [
        "#### 패키지 인스톨 및 로드\n",
        "!pip install pytrends\n",
        "!pip install pandas\n",
        "!pip install matplotlib"
      ]
    },
    {
      "cell_type": "markdown",
      "metadata": {
        "id": "TXYio8AtFSIb"
      },
      "source": [
        "# **키워드 설정**\n",
        "1.   pytrends 호출\n",
        "2.   pytrends 설정\n",
        "\n",
        "\n",
        "\n",
        "\n"
      ]
    },
    {
      "cell_type": "code",
      "execution_count": null,
      "metadata": {
        "id": "dTz3KjbNFSIb"
      },
      "outputs": [],
      "source": [
        "###############################################################\n",
        "###################### pytrends 호출  ##########################\n",
        "###############################################################\n",
        "pytrend = TrendReq()"
      ]
    },
    {
      "cell_type": "markdown",
      "metadata": {
        "id": "47Tywc0dHmpy"
      },
      "source": [
        "# 대만 관광객 분석"
      ]
    },
    {
      "cell_type": "code",
      "execution_count": null,
      "metadata": {
        "id": "94fggOXuEw6T"
      },
      "outputs": [],
      "source": [
        "kw_list=[\"韓國觀光\", \"韓國飯店\", \"韓國機場\", \"韓國免稅店\"]\n",
        "\n",
        "### 한국관광, 한국호텔, 한국공항, 한국면세점\n",
        "\n",
        "pytrend.build_payload(kw_list, # 주제 아니고 검색어\n",
        "                      geo='TW',\n",
        "                      timeframe='2013-01-01 2019-12-31',\n",
        "                      cat=67, \n",
        "                      gprop='')"
      ]
    },
    {
      "cell_type": "markdown",
      "metadata": {
        "id": "6h4O-0YSBy3-"
      },
      "source": [
        "# **SVI지수 도출**\n",
        "\n",
        "\n",
        "*   대략적 그림 그리기(그래프로 보여줌)\n",
        "*   엑셀파일로 저장\n",
        "\n"
      ]
    },
    {
      "cell_type": "code",
      "execution_count": null,
      "metadata": {
        "colab": {
          "base_uri": "https://localhost:8080/",
          "height": 455
        },
        "id": "k8sbk5ocBy3-",
        "outputId": "c078f0dc-d90b-4650-8b89-ba835495e961"
      },
      "outputs": [
        {
          "output_type": "execute_result",
          "data": {
            "text/plain": [
              "            韓國觀光  韓國飯店  韓國機場  韓國免稅店  isPartial\n",
              "date                                          \n",
              "2013-01-01    67    18    34      1      False\n",
              "2013-02-01    51    10    35      7      False\n",
              "2013-03-01    56    14    34      3      False\n",
              "2013-04-01    48     7    19      0      False\n",
              "2013-05-01    47     9    30      4      False\n",
              "...          ...   ...   ...    ...        ...\n",
              "2019-08-01    21    34    82     24      False\n",
              "2019-09-01    13    32    95     34      False\n",
              "2019-10-01    22    39    89     34      False\n",
              "2019-11-01    26    35    82     30      False\n",
              "2019-12-01    17    38    64     22      False\n",
              "\n",
              "[84 rows x 5 columns]"
            ],
            "text/html": [
              "\n",
              "  <div id=\"df-e6be1b3e-0ad3-4df1-869f-3d5e9df7e384\">\n",
              "    <div class=\"colab-df-container\">\n",
              "      <div>\n",
              "<style scoped>\n",
              "    .dataframe tbody tr th:only-of-type {\n",
              "        vertical-align: middle;\n",
              "    }\n",
              "\n",
              "    .dataframe tbody tr th {\n",
              "        vertical-align: top;\n",
              "    }\n",
              "\n",
              "    .dataframe thead th {\n",
              "        text-align: right;\n",
              "    }\n",
              "</style>\n",
              "<table border=\"1\" class=\"dataframe\">\n",
              "  <thead>\n",
              "    <tr style=\"text-align: right;\">\n",
              "      <th></th>\n",
              "      <th>韓國觀光</th>\n",
              "      <th>韓國飯店</th>\n",
              "      <th>韓國機場</th>\n",
              "      <th>韓國免稅店</th>\n",
              "      <th>isPartial</th>\n",
              "    </tr>\n",
              "    <tr>\n",
              "      <th>date</th>\n",
              "      <th></th>\n",
              "      <th></th>\n",
              "      <th></th>\n",
              "      <th></th>\n",
              "      <th></th>\n",
              "    </tr>\n",
              "  </thead>\n",
              "  <tbody>\n",
              "    <tr>\n",
              "      <th>2013-01-01</th>\n",
              "      <td>67</td>\n",
              "      <td>18</td>\n",
              "      <td>34</td>\n",
              "      <td>1</td>\n",
              "      <td>False</td>\n",
              "    </tr>\n",
              "    <tr>\n",
              "      <th>2013-02-01</th>\n",
              "      <td>51</td>\n",
              "      <td>10</td>\n",
              "      <td>35</td>\n",
              "      <td>7</td>\n",
              "      <td>False</td>\n",
              "    </tr>\n",
              "    <tr>\n",
              "      <th>2013-03-01</th>\n",
              "      <td>56</td>\n",
              "      <td>14</td>\n",
              "      <td>34</td>\n",
              "      <td>3</td>\n",
              "      <td>False</td>\n",
              "    </tr>\n",
              "    <tr>\n",
              "      <th>2013-04-01</th>\n",
              "      <td>48</td>\n",
              "      <td>7</td>\n",
              "      <td>19</td>\n",
              "      <td>0</td>\n",
              "      <td>False</td>\n",
              "    </tr>\n",
              "    <tr>\n",
              "      <th>2013-05-01</th>\n",
              "      <td>47</td>\n",
              "      <td>9</td>\n",
              "      <td>30</td>\n",
              "      <td>4</td>\n",
              "      <td>False</td>\n",
              "    </tr>\n",
              "    <tr>\n",
              "      <th>...</th>\n",
              "      <td>...</td>\n",
              "      <td>...</td>\n",
              "      <td>...</td>\n",
              "      <td>...</td>\n",
              "      <td>...</td>\n",
              "    </tr>\n",
              "    <tr>\n",
              "      <th>2019-08-01</th>\n",
              "      <td>21</td>\n",
              "      <td>34</td>\n",
              "      <td>82</td>\n",
              "      <td>24</td>\n",
              "      <td>False</td>\n",
              "    </tr>\n",
              "    <tr>\n",
              "      <th>2019-09-01</th>\n",
              "      <td>13</td>\n",
              "      <td>32</td>\n",
              "      <td>95</td>\n",
              "      <td>34</td>\n",
              "      <td>False</td>\n",
              "    </tr>\n",
              "    <tr>\n",
              "      <th>2019-10-01</th>\n",
              "      <td>22</td>\n",
              "      <td>39</td>\n",
              "      <td>89</td>\n",
              "      <td>34</td>\n",
              "      <td>False</td>\n",
              "    </tr>\n",
              "    <tr>\n",
              "      <th>2019-11-01</th>\n",
              "      <td>26</td>\n",
              "      <td>35</td>\n",
              "      <td>82</td>\n",
              "      <td>30</td>\n",
              "      <td>False</td>\n",
              "    </tr>\n",
              "    <tr>\n",
              "      <th>2019-12-01</th>\n",
              "      <td>17</td>\n",
              "      <td>38</td>\n",
              "      <td>64</td>\n",
              "      <td>22</td>\n",
              "      <td>False</td>\n",
              "    </tr>\n",
              "  </tbody>\n",
              "</table>\n",
              "<p>84 rows × 5 columns</p>\n",
              "</div>\n",
              "      <button class=\"colab-df-convert\" onclick=\"convertToInteractive('df-e6be1b3e-0ad3-4df1-869f-3d5e9df7e384')\"\n",
              "              title=\"Convert this dataframe to an interactive table.\"\n",
              "              style=\"display:none;\">\n",
              "        \n",
              "  <svg xmlns=\"http://www.w3.org/2000/svg\" height=\"24px\"viewBox=\"0 0 24 24\"\n",
              "       width=\"24px\">\n",
              "    <path d=\"M0 0h24v24H0V0z\" fill=\"none\"/>\n",
              "    <path d=\"M18.56 5.44l.94 2.06.94-2.06 2.06-.94-2.06-.94-.94-2.06-.94 2.06-2.06.94zm-11 1L8.5 8.5l.94-2.06 2.06-.94-2.06-.94L8.5 2.5l-.94 2.06-2.06.94zm10 10l.94 2.06.94-2.06 2.06-.94-2.06-.94-.94-2.06-.94 2.06-2.06.94z\"/><path d=\"M17.41 7.96l-1.37-1.37c-.4-.4-.92-.59-1.43-.59-.52 0-1.04.2-1.43.59L10.3 9.45l-7.72 7.72c-.78.78-.78 2.05 0 2.83L4 21.41c.39.39.9.59 1.41.59.51 0 1.02-.2 1.41-.59l7.78-7.78 2.81-2.81c.8-.78.8-2.07 0-2.86zM5.41 20L4 18.59l7.72-7.72 1.47 1.35L5.41 20z\"/>\n",
              "  </svg>\n",
              "      </button>\n",
              "      \n",
              "  <style>\n",
              "    .colab-df-container {\n",
              "      display:flex;\n",
              "      flex-wrap:wrap;\n",
              "      gap: 12px;\n",
              "    }\n",
              "\n",
              "    .colab-df-convert {\n",
              "      background-color: #E8F0FE;\n",
              "      border: none;\n",
              "      border-radius: 50%;\n",
              "      cursor: pointer;\n",
              "      display: none;\n",
              "      fill: #1967D2;\n",
              "      height: 32px;\n",
              "      padding: 0 0 0 0;\n",
              "      width: 32px;\n",
              "    }\n",
              "\n",
              "    .colab-df-convert:hover {\n",
              "      background-color: #E2EBFA;\n",
              "      box-shadow: 0px 1px 2px rgba(60, 64, 67, 0.3), 0px 1px 3px 1px rgba(60, 64, 67, 0.15);\n",
              "      fill: #174EA6;\n",
              "    }\n",
              "\n",
              "    [theme=dark] .colab-df-convert {\n",
              "      background-color: #3B4455;\n",
              "      fill: #D2E3FC;\n",
              "    }\n",
              "\n",
              "    [theme=dark] .colab-df-convert:hover {\n",
              "      background-color: #434B5C;\n",
              "      box-shadow: 0px 1px 3px 1px rgba(0, 0, 0, 0.15);\n",
              "      filter: drop-shadow(0px 1px 2px rgba(0, 0, 0, 0.3));\n",
              "      fill: #FFFFFF;\n",
              "    }\n",
              "  </style>\n",
              "\n",
              "      <script>\n",
              "        const buttonEl =\n",
              "          document.querySelector('#df-e6be1b3e-0ad3-4df1-869f-3d5e9df7e384 button.colab-df-convert');\n",
              "        buttonEl.style.display =\n",
              "          google.colab.kernel.accessAllowed ? 'block' : 'none';\n",
              "\n",
              "        async function convertToInteractive(key) {\n",
              "          const element = document.querySelector('#df-e6be1b3e-0ad3-4df1-869f-3d5e9df7e384');\n",
              "          const dataTable =\n",
              "            await google.colab.kernel.invokeFunction('convertToInteractive',\n",
              "                                                     [key], {});\n",
              "          if (!dataTable) return;\n",
              "\n",
              "          const docLinkHtml = 'Like what you see? Visit the ' +\n",
              "            '<a target=\"_blank\" href=https://colab.research.google.com/notebooks/data_table.ipynb>data table notebook</a>'\n",
              "            + ' to learn more about interactive tables.';\n",
              "          element.innerHTML = '';\n",
              "          dataTable['output_type'] = 'display_data';\n",
              "          await google.colab.output.renderOutput(dataTable, element);\n",
              "          const docLink = document.createElement('div');\n",
              "          docLink.innerHTML = docLinkHtml;\n",
              "          element.appendChild(docLink);\n",
              "        }\n",
              "      </script>\n",
              "    </div>\n",
              "  </div>\n",
              "  "
            ]
          },
          "metadata": {},
          "execution_count": 19
        }
      ],
      "source": [
        "# Interest Over Time: SVI지수 도출\n",
        "interest_over_time_df = pytrend.interest_over_time()\n",
        "interest_over_time_df"
      ]
    },
    {
      "cell_type": "code",
      "execution_count": null,
      "metadata": {
        "colab": {
          "base_uri": "https://localhost:8080/"
        },
        "id": "U825o_FCMvLG",
        "outputId": "1b73a37e-b1c0-4f98-a315-abc4f7a7d8a4"
      },
      "outputs": [
        {
          "output_type": "stream",
          "name": "stdout",
          "text": [
            "        date  韓國觀光  韓國飯店  韓國機場  韓國免稅店\n",
            "0 2013-01-01    67    18    34      1\n",
            "1 2013-02-01    51    10    35      7\n",
            "2 2013-03-01    56    14    34      3\n",
            "3 2013-04-01    48     7    19      0\n",
            "4 2013-05-01    47     9    30      4\n",
            "(84, 5)\n",
            "['date', '韓國觀光', '韓國飯店', '韓國機場', '韓國免稅店']\n"
          ]
        }
      ],
      "source": [
        "otime_df = interest_over_time_df\n",
        "otime_df = otime_df.drop('isPartial', axis = 1)\n",
        "otime_df.reset_index(level=0,inplace=True) #reset_index\n",
        "print(otime_df.head())\n",
        "print(otime_df.shape)\n",
        "# Extract column names\n",
        "print(list(otime_df.columns))"
      ]
    },
    {
      "cell_type": "code",
      "execution_count": null,
      "metadata": {
        "id": "au7P-8p25w-r"
      },
      "outputs": [],
      "source": [
        "# ## interest_over_time_df 엑셀파일저장\n",
        "otime_df.to_excel('/content/drive/MyDrive/Colab Notebooks/otime_df.xlsx', sheet_name='sheet1')"
      ]
    },
    {
      "cell_type": "code",
      "execution_count": null,
      "metadata": {
        "colab": {
          "base_uri": "https://localhost:8080/",
          "height": 315
        },
        "id": "au7cS2PoBy3-",
        "outputId": "49a28047-89cb-4047-a125-538866dd149e"
      },
      "outputs": [
        {
          "output_type": "execute_result",
          "data": {
            "text/plain": [
              "<matplotlib.axes._subplots.AxesSubplot at 0x7fbf636ebf90>"
            ]
          },
          "metadata": {},
          "execution_count": 22
        },
        {
          "output_type": "display_data",
          "data": {
            "text/plain": [
              "<Figure size 864x216 with 0 Axes>"
            ]
          },
          "metadata": {}
        },
        {
          "output_type": "display_data",
          "data": {
            "text/plain": [
              "<Figure size 432x288 with 1 Axes>"
            ],
            "image/png": "[encoded data removed]"
          },
          "metadata": {
            "image/png": {
              "width": 375,
              "height": 261
            },
            "needs_background": "light"
          }
        }
      ],
      "source": [
        "### 대략적 그림 그리기\n",
        "plt.figure(figsize=(12, 3))\n",
        "interest_over_time_df.plot()"
      ]
    },
    {
      "cell_type": "markdown",
      "metadata": {
        "id": "fou0J0UAsYyD"
      },
      "source": [
        "# **출입국 데이터 크롤링**\n",
        "\n",
        "\n",
        "*  관련 국가의 한국방문 관광객수를 크롤링함"
      ]
    },
    {
      "cell_type": "code",
      "execution_count": null,
      "metadata": {
        "id": "MKp5M4lGYo8T"
      },
      "outputs": [],
      "source": [
        "def get_request_url(url):\n",
        "    req = urllib.request.Request(url)\n",
        "    try:\n",
        "        response = urllib.request.urlopen(req)\n",
        "#         print('Success: ' + str(datetime.datetime.now()))\n",
        "        return response.read().decode('utf-8')\n",
        "    except Exception as e:\n",
        "        print(e)\n",
        "        return None"
      ]
    },
    {
      "cell_type": "code",
      "execution_count": null,
      "metadata": {
        "id": "yY84wQtiYo8U"
      },
      "outputs": [],
      "source": [
        "def getNatVisitor(yyyymm,nat_cd,ed_cd):\n",
        "    access_key= '%2F6qJF976MsrShUlma86PLp0i2IJhfeVL1ttB%2FO%2BxAC%2Bpz1A%2BQYmVBreUXeKx%2F9SPsrXw8EOXSz1AQz1qrib5zw%3D%3D'\n",
        "    end_point = 'http://openapi.tour.go.kr/openapi/service/EdrcntTourismStatsService/getEdrcntTourismStatsList'\n",
        "    end_point += '?_type=json'   \n",
        "    end_point += '&YM='+ yyyymm\n",
        "    end_point += '&NAT_CD=' + nat_cd\n",
        "    end_point += '&ED_CD' + ed_cd\n",
        "    end_point += '&serviceKey=' + access_key\n",
        "    retData = get_request_url(end_point)\n",
        "    if retData == None:\n",
        "        return None\n",
        "    else:\n",
        "        return json.loads(retData)"
      ]
    },
    {
      "cell_type": "code",
      "execution_count": null,
      "metadata": {
        "id": "3mTN29hhYo8V"
      },
      "outputs": [],
      "source": [
        "nations = dict(한국=100, 아프가니스탄=101, 바레인=104, 방글라데시=105, 부탄=106, 브루나이=107, 미얀마=108, 영령인도양섬=109\n",
        "               , 캄보디아=110, 스리랑카=111, 중국=112, 대만=113 ,키프로스=114 ,북한=118 ,홍콩=120 ,홍콩난민=121 ,인도=124, 인도네시아=125\n",
        "               , 이란=126, 이라크=127, 이스라엘=128 ,일본=130 ,요르단=131 ,카자흐스탄=133 ,키르기스스탄=134 ,쿠웨이트=135 ,라오스=138\n",
        "               , 레바논=139, 마카오=142, 말레이시아=143, 몰디브=144, 몽골=145, 마요트=146, 네팔=148, 오만=150, 파키스탄=153\n",
        "               , 팔레스타인=154, 필리핀=155, 티모르=156, 카타르=159, 사우디아라비아=162, 시킴왕국=163, 싱가포르=164, 시리아=165\n",
        "               , 타지키스탄=169, 태국=170, 터키=171, 투르크메니스탄=172, 아랍에미리트연합=180, 우즈베키스탄=181, 베트남=185\n",
        "               , 예멘공화국=191, 예멘인민민주공화국=192, 앵귈라=200 ,앤티가바부다=201 ,아르헨티나=202 ,아루바=203 ,바하마=205\n",
        "               , 바베이도스=206, 벨리즈=207 ,볼리비아=208 ,브라질=209 ,버뮤다=210 ,부베트=211 ,케이맨제도=212 ,캐나다=213, 칠레=214\n",
        "               , 콜롬비아=215, 코스타리카=216, 쿠바=217, 도미니카연방=220, 도미니카공화국=221, 이스터제도=223, 에콰도르=224, 엘살바도르=225\n",
        "               , 포클랜드=226 ,불령가이아나=227 ,그레나다=229 ,과들루프=230 ,과테말라=231 ,가이아나=232 ,아이티=235 ,온두라스=236\n",
        "               , 자메이카=240, 마르티니크=247, 멕시코=248 ,몬서래트=249 ,네덜란드령앤틸리스=251, 니카라과=252, 파나마=255, 파라과이=256\n",
        "               , 페루=257, 푸에르토리코=258, 남조지아남샌드위치군도=260, 상피에르미클롱=261, 세인트크리스토퍼네비스=262\n",
        "               , 세인트루시아=263, 세인트빈센트그레나딘=264, 수리남=265 ,트리니다드토바고=268, 터크스케이커스=269, 우루과이=274\n",
        "               , 미국=275, 미국인근섬=276, 베네수엘라=280, 미령버진아일랜드=281, 영령버진아일랜드=282, 알바니아=301, 안도라=302\n",
        "               , 오스트리아=303, 아르메니아=304, 아제르바이잔=305, 벨기에=306, 불가리아=307, 벨로루시=308, 보스니아헤르체고비나=309\n",
        "               , 체코=310, 페로섬=311, 에스토니아=312, 덴마크=313, 영국보호민=314, 영국속국민=315, 영국=316, 영국속령지시민=317\n",
        "               , 영국외지민=318, 영국외지시민=319, 핀란드=320, 프랑스=321, 그루지야=323, 독일=324, 동독=325, 그리스=326, 지브롤터=327\n",
        "               , 그린란드=328, 헝가리=329, 아이슬란드=333, 아일랜드=334, 이탈리아=335, 코소보=337, 라트비아=339, 리히텐슈타인=340\n",
        "               , 룩셈부르크=341, 리투아니아=342, 마케도니아=343, 몰타=344, 모나코=345, 몰도바=346, 몬테네그로=347, 네덜란드=350\n",
        "               , 노르웨이=352, 폴란드=360, 포르투갈=361, 루마니아=365, 러시아연방=366, 세르비아=367, 슬로바크=368, 슬로베니아=370\n",
        "               , 산마리노=371, 스페인=372, 스웨덴=373, 스위스=374, 스발바르=375, 우크라이나=378, 독립국가연합=380, 바티칸=390\n",
        "               , 크로아티아=391, 유고슬라비아=395, 세르비아앤몬테네그로=396, 오스트레일리아=404, 캐롤라인군도=411, 쿡아일랜드=412\n",
        "               , 크리스마스=413, 코코스=414, 피지=418, 불령폴리네시아=419, 불령남태평양섬=420, 괌=423, 허드맥도날드=425, 키리바시=429\n",
        "               , 북마리아나군도=434, 미크로네시아=435, 마라아나군도=436, 마샬군도=437, 미드웨이=438, 나우루=441, 뉴칼레도니아=443\n",
        "               , 뉴질랜드=446, 니우에=447, 노폴크=448, 팔라우=451, 파푸아뉴기니=452, 핏캐른=454, 사모아=461, 미령사모아=462\n",
        "               , 솔로몬군도=463, 호주령솔로몬군도=464, 통가=473, 토켈라우=474, 투발루=475, 비누아투=485, 웨이크아일랜드=490\n",
        "               , 월리스푸투나=491, 알제리=502, 앙골라=503, 보츠와나=506, 부룬디=507, 카메룬=510, 카나리아군도=511, 카보베르데=512\n",
        "               , 중앙아프리카공화국=513, 차드=514, 코모로=515, 콩고=516, 콩고민주공화국=517, 베냉=520, 지부티=521, 이집트=525\n",
        "               , 적도기니=526, 에티오피아=527, 에리트레아=528, 가봉=530, 감비아=531, 가나=532, 기니=533, 기니비사우=534\n",
        "               , 코트디부아르=537, 케냐=540, 레소토=542, 라이베리아=543, 리비아=544, 마다가스카르=550, 말라위=551, 말리=552\n",
        "               , 모리타니=553, 모리셔스=554, 모로코=555, 모잠비크=556, 나미비아=560, 니제르=561, 나이지리아=562, 레위니옹=564\n",
        "               , 짐바브웨=565, 르완다=566, 상투메프린시페=571, 세네갈=572, 세이셸=573, 시에라리온=574, 소말리아=575, 남아프리카공화국=576\n",
        "               , 세인트헬레나=577, 수단=578, 스와질란드=579, 남수단공화국=580, 탄자니아=583, 토고=584, 튀니지=585, 우간다=588\n",
        "               , 부르키나파소=589, 서사하라=591, 자이르=594, 잠비아=595, 남극대륙=620, 공해=666, 국제연합=900, 승무원=998, 교포=999)"
      ]
    },
    {
      "cell_type": "code",
      "execution_count": null,
      "metadata": {
        "colab": {
          "base_uri": "https://localhost:8080/"
        },
        "id": "JWjJmI2HHs0D",
        "outputId": "f8297c44-3cef-4b1d-d108-8248be7de312"
      },
      "outputs": [
        {
          "output_type": "execute_result",
          "data": {
            "text/plain": [
              "[113]"
            ]
          },
          "metadata": {},
          "execution_count": 26
        }
      ],
      "source": [
        "nations2=[nations['대만']]\n",
        "nations2"
      ]
    },
    {
      "cell_type": "code",
      "execution_count": null,
      "metadata": {
        "id": "t0W73tQ-Yo8X"
      },
      "outputs": [],
      "source": [
        "for n in nations2:\n",
        "    nation_code = str(n)\n",
        "    ed_cd = \"E\"\n",
        "    #nStartYear = 2005\n",
        "    #nEndYear = 2020\n",
        "    nStartYear = 2013\n",
        "    nEndYear = 2019\n",
        "    jsonResult = []\n",
        "    for year in range(nStartYear, nEndYear+1):\n",
        "        for month in range(1, 13):\n",
        "            yyyymm = \"{0}{1:0>2}\".format(str(year), str(month))\n",
        "            retJson = getNatVisitor(yyyymm, nation_code, ed_cd)\n",
        "            jsonData = retJson['response']['body']['items']['item']\n",
        "            name = jsonData['natKorNm'].replace(' ','')\n",
        "            national_code = jsonData['natCd']\n",
        "            num_Visitors = jsonData['num']\n",
        "            jsonResult.append({'nation' : name, 'nation_code': national_code, 'num_visitors' : num_Visitors, 'yyyymm': yyyymm})\n",
        "    jsonResult\n",
        "    fname = '{0}({1})_해외방문객정보_{2}_{3}'.format(name, nation_code, nStartYear, nEndYear)\n",
        "    with open(fname,'w', encoding='utf8') as f:\n",
        "        retJson = json.dumps(jsonResult,indent=4, sort_keys=True, ensure_ascii=False)\n",
        "        f.write(retJson)"
      ]
    },
    {
      "cell_type": "markdown",
      "metadata": {
        "id": "qnq4FKsHDK0Z"
      },
      "source": [
        "# **데이터 변환**"
      ]
    },
    {
      "cell_type": "markdown",
      "metadata": {
        "id": "EvitU8Fx2fLE"
      },
      "source": [
        "#### 저장된 인바운드관광객수를 로드(현재 visnum_TW)"
      ]
    },
    {
      "cell_type": "code",
      "execution_count": null,
      "metadata": {
        "colab": {
          "base_uri": "https://localhost:8080/"
        },
        "id": "ixhT518qYo8Y",
        "outputId": "3a4da6ca-79f5-4921-c48c-b7fbf8f9e8ea"
      },
      "outputs": [
        {
          "output_type": "stream",
          "name": "stdout",
          "text": [
            "   nation  nation_code  num_visitors  yyyymm\n",
            "0      대만          113         45171  201301\n",
            "1      대만          113         45437  201302\n",
            "2      대만          113         42102  201303\n",
            "3      대만          113         35107  201304\n",
            "4      대만          113         41361  201305\n",
            "..    ...          ...           ...     ...\n",
            "79     대만          113        109273  201908\n",
            "80     대만          113        102758  201909\n",
            "81     대만          113        127944  201910\n",
            "82     대만          113        102241  201911\n",
            "83     대만          113         90379  201912\n",
            "\n",
            "[84 rows x 4 columns]\n",
            "    Unnamed: 0       date  韓國觀光  韓國飯店  韓國機場  韓國免稅店\n",
            "0            0 2013-01-01    67    18    34      1\n",
            "1            1 2013-02-01    51    10    35      7\n",
            "2            2 2013-03-01    56    14    34      3\n",
            "3            3 2013-04-01    48     7    19      0\n",
            "4            4 2013-05-01    47     9    30      4\n",
            "..         ...        ...   ...   ...   ...    ...\n",
            "79          79 2019-08-01    21    34    82     24\n",
            "80          80 2019-09-01    13    32    95     34\n",
            "81          81 2019-10-01    22    39    89     34\n",
            "82          82 2019-11-01    26    35    82     30\n",
            "83          83 2019-12-01    17    38    64     22\n",
            "\n",
            "[84 rows x 6 columns]\n",
            "<class 'pandas.core.frame.DataFrame'>\n"
          ]
        }
      ],
      "source": [
        "from pandas import json_normalize\n",
        "visnum_TW = pd.read_json('/content/drive/MyDrive/Colab Notebooks/대만(113)_해외방문객정보_2013_2019') # , orient ='index'\n",
        "otime_df = pd.read_excel('/content/drive/MyDrive/Colab Notebooks/otime_df.xlsx', sheet_name='sheet1')\n",
        "print(visnum_TW) # 출입국 데이터중 인바운드 대만 관광객수\n",
        "print(otime_df)  # 구글 SVI지수\n",
        "print(type(visnum_TW)) # visnum_TW의 변수타입"
      ]
    },
    {
      "cell_type": "code",
      "execution_count": null,
      "metadata": {
        "colab": {
          "base_uri": "https://localhost:8080/"
        },
        "id": "p78buhwMTq2J",
        "outputId": "63e9fed7-4c8e-4531-809b-0165537d5f91"
      },
      "outputs": [
        {
          "output_type": "stream",
          "name": "stdout",
          "text": [
            "    Unnamed: 0       date  韓國觀光  韓國飯店  韓國機場  韓國免稅店\n",
            "0            0 2013-01-01    67    18    34      1\n",
            "1            1 2013-02-01    51    10    35      7\n",
            "2            2 2013-03-01    56    14    34      3\n",
            "3            3 2013-04-01    48     7    19      0\n",
            "4            4 2013-05-01    47     9    30      4\n",
            "..         ...        ...   ...   ...   ...    ...\n",
            "79          79 2019-08-01    21    34    82     24\n",
            "80          80 2019-09-01    13    32    95     34\n",
            "81          81 2019-10-01    22    39    89     34\n",
            "82          82 2019-11-01    26    35    82     30\n",
            "83          83 2019-12-01    17    38    64     22\n",
            "\n",
            "[84 rows x 6 columns]\n"
          ]
        }
      ],
      "source": [
        "print(otime_df)  # 구글 SVI지수"
      ]
    },
    {
      "cell_type": "code",
      "execution_count": null,
      "metadata": {
        "colab": {
          "base_uri": "https://localhost:8080/"
        },
        "id": "FI4yq-Z8I2lZ",
        "outputId": "33b20e78-43ae-4e9d-97f3-97eeac4beacc"
      },
      "outputs": [
        {
          "output_type": "stream",
          "name": "stdout",
          "text": [
            "   nation  nation_code  num_visitors  yyyymm date_merge\n",
            "0      대만          113         45171  201301 2013-01-31\n",
            "1      대만          113         45437  201302 2013-02-28\n",
            "2      대만          113         42102  201303 2013-03-31\n",
            "3      대만          113         35107  201304 2013-04-30\n",
            "4      대만          113         41361  201305 2013-05-31\n",
            "..    ...          ...           ...     ...        ...\n",
            "79     대만          113        109273  201908 2019-08-31\n",
            "80     대만          113        102758  201909 2019-09-30\n",
            "81     대만          113        127944  201910 2019-10-31\n",
            "82     대만          113        102241  201911 2019-11-30\n",
            "83     대만          113         90379  201912 2019-12-31\n",
            "\n",
            "[84 rows x 5 columns]\n",
            "    Unnamed: 0       date  韓國觀光  韓國飯店  韓國機場  韓國免稅店 date_merge\n",
            "0            0 2013-01-01    67    18    34      1 2013-01-31\n",
            "1            1 2013-02-01    51    10    35      7 2013-02-28\n",
            "2            2 2013-03-01    56    14    34      3 2013-03-31\n",
            "3            3 2013-04-01    48     7    19      0 2013-04-30\n",
            "4            4 2013-05-01    47     9    30      4 2013-05-31\n",
            "..         ...        ...   ...   ...   ...    ...        ...\n",
            "79          79 2019-08-01    21    34    82     24 2019-08-31\n",
            "80          80 2019-09-01    13    32    95     34 2019-09-30\n",
            "81          81 2019-10-01    22    39    89     34 2019-10-31\n",
            "82          82 2019-11-01    26    35    82     30 2019-11-30\n",
            "83          83 2019-12-01    17    38    64     22 2019-12-31\n",
            "\n",
            "[84 rows x 7 columns]\n"
          ]
        }
      ],
      "source": [
        "visnum_TW['date_merge']=pd.date_range(start='2013-01-01', end='2019-12-31', freq='M') # visnum_TW에서 2013년 1월부터 2020년 1월까지 월별로 날짜를 만들고 이를 date_merge에 저장\n",
        "otime_df['date_merge']=pd.date_range(start='2013-01-01', end='2019-12-31', freq='M')  # otime_df에서 2013년 1월부터 2020년 1월까지 월별로 날짜를 만들고 이를 date_merge에 저장\n",
        "print(visnum_TW)\n",
        "print(otime_df)"
      ]
    },
    {
      "cell_type": "code",
      "execution_count": null,
      "metadata": {
        "colab": {
          "base_uri": "https://localhost:8080/",
          "height": 711
        },
        "id": "rWMtc7pMAdhR",
        "outputId": "e42df490-b721-4608-813b-2bb101db1f23"
      },
      "outputs": [
        {
          "output_type": "execute_result",
          "data": {
            "text/plain": [
              "   nation  nation_code  num_visitors  yyyymm date_merge  Unnamed: 0  \\\n",
              "0      대만          113         45171  201301 2013-01-31           0   \n",
              "1      대만          113         45437  201302 2013-02-28           1   \n",
              "2      대만          113         42102  201303 2013-03-31           2   \n",
              "3      대만          113         35107  201304 2013-04-30           3   \n",
              "4      대만          113         41361  201305 2013-05-31           4   \n",
              "..    ...          ...           ...     ...        ...         ...   \n",
              "79     대만          113        109273  201908 2019-08-31          79   \n",
              "80     대만          113        102758  201909 2019-09-30          80   \n",
              "81     대만          113        127944  201910 2019-10-31          81   \n",
              "82     대만          113        102241  201911 2019-11-30          82   \n",
              "83     대만          113         90379  201912 2019-12-31          83   \n",
              "\n",
              "         date  韓國觀光  韓國飯店  韓國機場  韓國免稅店 date_merge  \n",
              "0  2013-01-01    67    18    34      1 2013-01-31  \n",
              "1  2013-02-01    51    10    35      7 2013-02-28  \n",
              "2  2013-03-01    56    14    34      3 2013-03-31  \n",
              "3  2013-04-01    48     7    19      0 2013-04-30  \n",
              "4  2013-05-01    47     9    30      4 2013-05-31  \n",
              "..        ...   ...   ...   ...    ...        ...  \n",
              "79 2019-08-01    21    34    82     24 2019-08-31  \n",
              "80 2019-09-01    13    32    95     34 2019-09-30  \n",
              "81 2019-10-01    22    39    89     34 2019-10-31  \n",
              "82 2019-11-01    26    35    82     30 2019-11-30  \n",
              "83 2019-12-01    17    38    64     22 2019-12-31  \n",
              "\n",
              "[84 rows x 12 columns]"
            ],
            "text/html": [
              "\n",
              "  <div id=\"df-ff3430a5-8c82-46f3-b105-da133c49202b\">\n",
              "    <div class=\"colab-df-container\">\n",
              "      <div>\n",
              "<style scoped>\n",
              "    .dataframe tbody tr th:only-of-type {\n",
              "        vertical-align: middle;\n",
              "    }\n",
              "\n",
              "    .dataframe tbody tr th {\n",
              "        vertical-align: top;\n",
              "    }\n",
              "\n",
              "    .dataframe thead th {\n",
              "        text-align: right;\n",
              "    }\n",
              "</style>\n",
              "<table border=\"1\" class=\"dataframe\">\n",
              "  <thead>\n",
              "    <tr style=\"text-align: right;\">\n",
              "      <th></th>\n",
              "      <th>nation</th>\n",
              "      <th>nation_code</th>\n",
              "      <th>num_visitors</th>\n",
              "      <th>yyyymm</th>\n",
              "      <th>date_merge</th>\n",
              "      <th>Unnamed: 0</th>\n",
              "      <th>date</th>\n",
              "      <th>韓國觀光</th>\n",
              "      <th>韓國飯店</th>\n",
              "      <th>韓國機場</th>\n",
              "      <th>韓國免稅店</th>\n",
              "      <th>date_merge</th>\n",
              "    </tr>\n",
              "  </thead>\n",
              "  <tbody>\n",
              "    <tr>\n",
              "      <th>0</th>\n",
              "      <td>대만</td>\n",
              "      <td>113</td>\n",
              "      <td>45171</td>\n",
              "      <td>201301</td>\n",
              "      <td>2013-01-31</td>\n",
              "      <td>0</td>\n",
              "      <td>2013-01-01</td>\n",
              "      <td>67</td>\n",
              "      <td>18</td>\n",
              "      <td>34</td>\n",
              "      <td>1</td>\n",
              "      <td>2013-01-31</td>\n",
              "    </tr>\n",
              "    <tr>\n",
              "      <th>1</th>\n",
              "      <td>대만</td>\n",
              "      <td>113</td>\n",
              "      <td>45437</td>\n",
              "      <td>201302</td>\n",
              "      <td>2013-02-28</td>\n",
              "      <td>1</td>\n",
              "      <td>2013-02-01</td>\n",
              "      <td>51</td>\n",
              "      <td>10</td>\n",
              "      <td>35</td>\n",
              "      <td>7</td>\n",
              "      <td>2013-02-28</td>\n",
              "    </tr>\n",
              "    <tr>\n",
              "      <th>2</th>\n",
              "      <td>대만</td>\n",
              "      <td>113</td>\n",
              "      <td>42102</td>\n",
              "      <td>201303</td>\n",
              "      <td>2013-03-31</td>\n",
              "      <td>2</td>\n",
              "      <td>2013-03-01</td>\n",
              "      <td>56</td>\n",
              "      <td>14</td>\n",
              "      <td>34</td>\n",
              "      <td>3</td>\n",
              "      <td>2013-03-31</td>\n",
              "    </tr>\n",
              "    <tr>\n",
              "      <th>3</th>\n",
              "      <td>대만</td>\n",
              "      <td>113</td>\n",
              "      <td>35107</td>\n",
              "      <td>201304</td>\n",
              "      <td>2013-04-30</td>\n",
              "      <td>3</td>\n",
              "      <td>2013-04-01</td>\n",
              "      <td>48</td>\n",
              "      <td>7</td>\n",
              "      <td>19</td>\n",
              "      <td>0</td>\n",
              "      <td>2013-04-30</td>\n",
              "    </tr>\n",
              "    <tr>\n",
              "      <th>4</th>\n",
              "      <td>대만</td>\n",
              "      <td>113</td>\n",
              "      <td>41361</td>\n",
              "      <td>201305</td>\n",
              "      <td>2013-05-31</td>\n",
              "      <td>4</td>\n",
              "      <td>2013-05-01</td>\n",
              "      <td>47</td>\n",
              "      <td>9</td>\n",
              "      <td>30</td>\n",
              "      <td>4</td>\n",
              "      <td>2013-05-31</td>\n",
              "    </tr>\n",
              "    <tr>\n",
              "      <th>...</th>\n",
              "      <td>...</td>\n",
              "      <td>...</td>\n",
              "      <td>...</td>\n",
              "      <td>...</td>\n",
              "      <td>...</td>\n",
              "      <td>...</td>\n",
              "      <td>...</td>\n",
              "      <td>...</td>\n",
              "      <td>...</td>\n",
              "      <td>...</td>\n",
              "      <td>...</td>\n",
              "      <td>...</td>\n",
              "    </tr>\n",
              "    <tr>\n",
              "      <th>79</th>\n",
              "      <td>대만</td>\n",
              "      <td>113</td>\n",
              "      <td>109273</td>\n",
              "      <td>201908</td>\n",
              "      <td>2019-08-31</td>\n",
              "      <td>79</td>\n",
              "      <td>2019-08-01</td>\n",
              "      <td>21</td>\n",
              "      <td>34</td>\n",
              "      <td>82</td>\n",
              "      <td>24</td>\n",
              "      <td>2019-08-31</td>\n",
              "    </tr>\n",
              "    <tr>\n",
              "      <th>80</th>\n",
              "      <td>대만</td>\n",
              "      <td>113</td>\n",
              "      <td>102758</td>\n",
              "      <td>201909</td>\n",
              "      <td>2019-09-30</td>\n",
              "      <td>80</td>\n",
              "      <td>2019-09-01</td>\n",
              "      <td>13</td>\n",
              "      <td>32</td>\n",
              "      <td>95</td>\n",
              "      <td>34</td>\n",
              "      <td>2019-09-30</td>\n",
              "    </tr>\n",
              "    <tr>\n",
              "      <th>81</th>\n",
              "      <td>대만</td>\n",
              "      <td>113</td>\n",
              "      <td>127944</td>\n",
              "      <td>201910</td>\n",
              "      <td>2019-10-31</td>\n",
              "      <td>81</td>\n",
              "      <td>2019-10-01</td>\n",
              "      <td>22</td>\n",
              "      <td>39</td>\n",
              "      <td>89</td>\n",
              "      <td>34</td>\n",
              "      <td>2019-10-31</td>\n",
              "    </tr>\n",
              "    <tr>\n",
              "      <th>82</th>\n",
              "      <td>대만</td>\n",
              "      <td>113</td>\n",
              "      <td>102241</td>\n",
              "      <td>201911</td>\n",
              "      <td>2019-11-30</td>\n",
              "      <td>82</td>\n",
              "      <td>2019-11-01</td>\n",
              "      <td>26</td>\n",
              "      <td>35</td>\n",
              "      <td>82</td>\n",
              "      <td>30</td>\n",
              "      <td>2019-11-30</td>\n",
              "    </tr>\n",
              "    <tr>\n",
              "      <th>83</th>\n",
              "      <td>대만</td>\n",
              "      <td>113</td>\n",
              "      <td>90379</td>\n",
              "      <td>201912</td>\n",
              "      <td>2019-12-31</td>\n",
              "      <td>83</td>\n",
              "      <td>2019-12-01</td>\n",
              "      <td>17</td>\n",
              "      <td>38</td>\n",
              "      <td>64</td>\n",
              "      <td>22</td>\n",
              "      <td>2019-12-31</td>\n",
              "    </tr>\n",
              "  </tbody>\n",
              "</table>\n",
              "<p>84 rows × 12 columns</p>\n",
              "</div>\n",
              "      <button class=\"colab-df-convert\" onclick=\"convertToInteractive('df-ff3430a5-8c82-46f3-b105-da133c49202b')\"\n",
              "              title=\"Convert this dataframe to an interactive table.\"\n",
              "              style=\"display:none;\">\n",
              "        \n",
              "  <svg xmlns=\"http://www.w3.org/2000/svg\" height=\"24px\"viewBox=\"0 0 24 24\"\n",
              "       width=\"24px\">\n",
              "    <path d=\"M0 0h24v24H0V0z\" fill=\"none\"/>\n",
              "    <path d=\"M18.56 5.44l.94 2.06.94-2.06 2.06-.94-2.06-.94-.94-2.06-.94 2.06-2.06.94zm-11 1L8.5 8.5l.94-2.06 2.06-.94-2.06-.94L8.5 2.5l-.94 2.06-2.06.94zm10 10l.94 2.06.94-2.06 2.06-.94-2.06-.94-.94-2.06-.94 2.06-2.06.94z\"/><path d=\"M17.41 7.96l-1.37-1.37c-.4-.4-.92-.59-1.43-.59-.52 0-1.04.2-1.43.59L10.3 9.45l-7.72 7.72c-.78.78-.78 2.05 0 2.83L4 21.41c.39.39.9.59 1.41.59.51 0 1.02-.2 1.41-.59l7.78-7.78 2.81-2.81c.8-.78.8-2.07 0-2.86zM5.41 20L4 18.59l7.72-7.72 1.47 1.35L5.41 20z\"/>\n",
              "  </svg>\n",
              "      </button>\n",
              "      \n",
              "  <style>\n",
              "    .colab-df-container {\n",
              "      display:flex;\n",
              "      flex-wrap:wrap;\n",
              "      gap: 12px;\n",
              "    }\n",
              "\n",
              "    .colab-df-convert {\n",
              "      background-color: #E8F0FE;\n",
              "      border: none;\n",
              "      border-radius: 50%;\n",
              "      cursor: pointer;\n",
              "      display: none;\n",
              "      fill: #1967D2;\n",
              "      height: 32px;\n",
              "      padding: 0 0 0 0;\n",
              "      width: 32px;\n",
              "    }\n",
              "\n",
              "    .colab-df-convert:hover {\n",
              "      background-color: #E2EBFA;\n",
              "      box-shadow: 0px 1px 2px rgba(60, 64, 67, 0.3), 0px 1px 3px 1px rgba(60, 64, 67, 0.15);\n",
              "      fill: #174EA6;\n",
              "    }\n",
              "\n",
              "    [theme=dark] .colab-df-convert {\n",
              "      background-color: #3B4455;\n",
              "      fill: #D2E3FC;\n",
              "    }\n",
              "\n",
              "    [theme=dark] .colab-df-convert:hover {\n",
              "      background-color: #434B5C;\n",
              "      box-shadow: 0px 1px 3px 1px rgba(0, 0, 0, 0.15);\n",
              "      filter: drop-shadow(0px 1px 2px rgba(0, 0, 0, 0.3));\n",
              "      fill: #FFFFFF;\n",
              "    }\n",
              "  </style>\n",
              "\n",
              "      <script>\n",
              "        const buttonEl =\n",
              "          document.querySelector('#df-ff3430a5-8c82-46f3-b105-da133c49202b button.colab-df-convert');\n",
              "        buttonEl.style.display =\n",
              "          google.colab.kernel.accessAllowed ? 'block' : 'none';\n",
              "\n",
              "        async function convertToInteractive(key) {\n",
              "          const element = document.querySelector('#df-ff3430a5-8c82-46f3-b105-da133c49202b');\n",
              "          const dataTable =\n",
              "            await google.colab.kernel.invokeFunction('convertToInteractive',\n",
              "                                                     [key], {});\n",
              "          if (!dataTable) return;\n",
              "\n",
              "          const docLinkHtml = 'Like what you see? Visit the ' +\n",
              "            '<a target=\"_blank\" href=https://colab.research.google.com/notebooks/data_table.ipynb>data table notebook</a>'\n",
              "            + ' to learn more about interactive tables.';\n",
              "          element.innerHTML = '';\n",
              "          dataTable['output_type'] = 'display_data';\n",
              "          await google.colab.output.renderOutput(dataTable, element);\n",
              "          const docLink = document.createElement('div');\n",
              "          docLink.innerHTML = docLinkHtml;\n",
              "          element.appendChild(docLink);\n",
              "        }\n",
              "      </script>\n",
              "    </div>\n",
              "  </div>\n",
              "  "
            ]
          },
          "metadata": {},
          "execution_count": 31
        }
      ],
      "source": [
        "merge_df_SVI_num = pd.concat([visnum_TW, otime_df], axis=1)\n",
        "merge_df_SVI_num"
      ]
    },
    {
      "cell_type": "code",
      "execution_count": null,
      "metadata": {
        "id": "b7eAd7SvgFB0"
      },
      "outputs": [],
      "source": [
        "merge_df_SVI_num.to_excel('/content/drive/MyDrive/Colab Notebooks/merge_df_SVI_num.xlsx', sheet_name='sheet1')"
      ]
    },
    {
      "cell_type": "markdown",
      "metadata": {
        "id": "jRFzU9yAEnoc"
      },
      "source": [
        "#### merge를 통해 특정 컬럼의 값을 기준으로 통합"
      ]
    },
    {
      "cell_type": "code",
      "execution_count": null,
      "metadata": {
        "colab": {
          "base_uri": "https://localhost:8080/",
          "height": 711
        },
        "id": "-eOVfSgdEk4O",
        "outputId": "bf6e8f0f-e213-42df-cdd7-4ddba9e38858"
      },
      "outputs": [
        {
          "output_type": "execute_result",
          "data": {
            "text/plain": [
              "   nation  nation_code  num_visitors  yyyymm date_merge  Unnamed: 0  \\\n",
              "0      대만          113         45171  201301 2013-01-31           0   \n",
              "1      대만          113         45437  201302 2013-02-28           1   \n",
              "2      대만          113         42102  201303 2013-03-31           2   \n",
              "3      대만          113         35107  201304 2013-04-30           3   \n",
              "4      대만          113         41361  201305 2013-05-31           4   \n",
              "..    ...          ...           ...     ...        ...         ...   \n",
              "79     대만          113        109273  201908 2019-08-31          79   \n",
              "80     대만          113        102758  201909 2019-09-30          80   \n",
              "81     대만          113        127944  201910 2019-10-31          81   \n",
              "82     대만          113        102241  201911 2019-11-30          82   \n",
              "83     대만          113         90379  201912 2019-12-31          83   \n",
              "\n",
              "         date  韓國觀光  韓國飯店  韓國機場  韓國免稅店 date_merge  \n",
              "0  2013-01-01    67    18    34      1 2013-01-31  \n",
              "1  2013-02-01    51    10    35      7 2013-02-28  \n",
              "2  2013-03-01    56    14    34      3 2013-03-31  \n",
              "3  2013-04-01    48     7    19      0 2013-04-30  \n",
              "4  2013-05-01    47     9    30      4 2013-05-31  \n",
              "..        ...   ...   ...   ...    ...        ...  \n",
              "79 2019-08-01    21    34    82     24 2019-08-31  \n",
              "80 2019-09-01    13    32    95     34 2019-09-30  \n",
              "81 2019-10-01    22    39    89     34 2019-10-31  \n",
              "82 2019-11-01    26    35    82     30 2019-11-30  \n",
              "83 2019-12-01    17    38    64     22 2019-12-31  \n",
              "\n",
              "[84 rows x 12 columns]"
            ],
            "text/html": [
              "\n",
              "  <div id=\"df-ec14a63d-6459-44ac-9f76-63ed7d695fa0\">\n",
              "    <div class=\"colab-df-container\">\n",
              "      <div>\n",
              "<style scoped>\n",
              "    .dataframe tbody tr th:only-of-type {\n",
              "        vertical-align: middle;\n",
              "    }\n",
              "\n",
              "    .dataframe tbody tr th {\n",
              "        vertical-align: top;\n",
              "    }\n",
              "\n",
              "    .dataframe thead th {\n",
              "        text-align: right;\n",
              "    }\n",
              "</style>\n",
              "<table border=\"1\" class=\"dataframe\">\n",
              "  <thead>\n",
              "    <tr style=\"text-align: right;\">\n",
              "      <th></th>\n",
              "      <th>nation</th>\n",
              "      <th>nation_code</th>\n",
              "      <th>num_visitors</th>\n",
              "      <th>yyyymm</th>\n",
              "      <th>date_merge</th>\n",
              "      <th>Unnamed: 0</th>\n",
              "      <th>date</th>\n",
              "      <th>韓國觀光</th>\n",
              "      <th>韓國飯店</th>\n",
              "      <th>韓國機場</th>\n",
              "      <th>韓國免稅店</th>\n",
              "      <th>date_merge</th>\n",
              "    </tr>\n",
              "  </thead>\n",
              "  <tbody>\n",
              "    <tr>\n",
              "      <th>0</th>\n",
              "      <td>대만</td>\n",
              "      <td>113</td>\n",
              "      <td>45171</td>\n",
              "      <td>201301</td>\n",
              "      <td>2013-01-31</td>\n",
              "      <td>0</td>\n",
              "      <td>2013-01-01</td>\n",
              "      <td>67</td>\n",
              "      <td>18</td>\n",
              "      <td>34</td>\n",
              "      <td>1</td>\n",
              "      <td>2013-01-31</td>\n",
              "    </tr>\n",
              "    <tr>\n",
              "      <th>1</th>\n",
              "      <td>대만</td>\n",
              "      <td>113</td>\n",
              "      <td>45437</td>\n",
              "      <td>201302</td>\n",
              "      <td>2013-02-28</td>\n",
              "      <td>1</td>\n",
              "      <td>2013-02-01</td>\n",
              "      <td>51</td>\n",
              "      <td>10</td>\n",
              "      <td>35</td>\n",
              "      <td>7</td>\n",
              "      <td>2013-02-28</td>\n",
              "    </tr>\n",
              "    <tr>\n",
              "      <th>2</th>\n",
              "      <td>대만</td>\n",
              "      <td>113</td>\n",
              "      <td>42102</td>\n",
              "      <td>201303</td>\n",
              "      <td>2013-03-31</td>\n",
              "      <td>2</td>\n",
              "      <td>2013-03-01</td>\n",
              "      <td>56</td>\n",
              "      <td>14</td>\n",
              "      <td>34</td>\n",
              "      <td>3</td>\n",
              "      <td>2013-03-31</td>\n",
              "    </tr>\n",
              "    <tr>\n",
              "      <th>3</th>\n",
              "      <td>대만</td>\n",
              "      <td>113</td>\n",
              "      <td>35107</td>\n",
              "      <td>201304</td>\n",
              "      <td>2013-04-30</td>\n",
              "      <td>3</td>\n",
              "      <td>2013-04-01</td>\n",
              "      <td>48</td>\n",
              "      <td>7</td>\n",
              "      <td>19</td>\n",
              "      <td>0</td>\n",
              "      <td>2013-04-30</td>\n",
              "    </tr>\n",
              "    <tr>\n",
              "      <th>4</th>\n",
              "      <td>대만</td>\n",
              "      <td>113</td>\n",
              "      <td>41361</td>\n",
              "      <td>201305</td>\n",
              "      <td>2013-05-31</td>\n",
              "      <td>4</td>\n",
              "      <td>2013-05-01</td>\n",
              "      <td>47</td>\n",
              "      <td>9</td>\n",
              "      <td>30</td>\n",
              "      <td>4</td>\n",
              "      <td>2013-05-31</td>\n",
              "    </tr>\n",
              "    <tr>\n",
              "      <th>...</th>\n",
              "      <td>...</td>\n",
              "      <td>...</td>\n",
              "      <td>...</td>\n",
              "      <td>...</td>\n",
              "      <td>...</td>\n",
              "      <td>...</td>\n",
              "      <td>...</td>\n",
              "      <td>...</td>\n",
              "      <td>...</td>\n",
              "      <td>...</td>\n",
              "      <td>...</td>\n",
              "      <td>...</td>\n",
              "    </tr>\n",
              "    <tr>\n",
              "      <th>79</th>\n",
              "      <td>대만</td>\n",
              "      <td>113</td>\n",
              "      <td>109273</td>\n",
              "      <td>201908</td>\n",
              "      <td>2019-08-31</td>\n",
              "      <td>79</td>\n",
              "      <td>2019-08-01</td>\n",
              "      <td>21</td>\n",
              "      <td>34</td>\n",
              "      <td>82</td>\n",
              "      <td>24</td>\n",
              "      <td>2019-08-31</td>\n",
              "    </tr>\n",
              "    <tr>\n",
              "      <th>80</th>\n",
              "      <td>대만</td>\n",
              "      <td>113</td>\n",
              "      <td>102758</td>\n",
              "      <td>201909</td>\n",
              "      <td>2019-09-30</td>\n",
              "      <td>80</td>\n",
              "      <td>2019-09-01</td>\n",
              "      <td>13</td>\n",
              "      <td>32</td>\n",
              "      <td>95</td>\n",
              "      <td>34</td>\n",
              "      <td>2019-09-30</td>\n",
              "    </tr>\n",
              "    <tr>\n",
              "      <th>81</th>\n",
              "      <td>대만</td>\n",
              "      <td>113</td>\n",
              "      <td>127944</td>\n",
              "      <td>201910</td>\n",
              "      <td>2019-10-31</td>\n",
              "      <td>81</td>\n",
              "      <td>2019-10-01</td>\n",
              "      <td>22</td>\n",
              "      <td>39</td>\n",
              "      <td>89</td>\n",
              "      <td>34</td>\n",
              "      <td>2019-10-31</td>\n",
              "    </tr>\n",
              "    <tr>\n",
              "      <th>82</th>\n",
              "      <td>대만</td>\n",
              "      <td>113</td>\n",
              "      <td>102241</td>\n",
              "      <td>201911</td>\n",
              "      <td>2019-11-30</td>\n",
              "      <td>82</td>\n",
              "      <td>2019-11-01</td>\n",
              "      <td>26</td>\n",
              "      <td>35</td>\n",
              "      <td>82</td>\n",
              "      <td>30</td>\n",
              "      <td>2019-11-30</td>\n",
              "    </tr>\n",
              "    <tr>\n",
              "      <th>83</th>\n",
              "      <td>대만</td>\n",
              "      <td>113</td>\n",
              "      <td>90379</td>\n",
              "      <td>201912</td>\n",
              "      <td>2019-12-31</td>\n",
              "      <td>83</td>\n",
              "      <td>2019-12-01</td>\n",
              "      <td>17</td>\n",
              "      <td>38</td>\n",
              "      <td>64</td>\n",
              "      <td>22</td>\n",
              "      <td>2019-12-31</td>\n",
              "    </tr>\n",
              "  </tbody>\n",
              "</table>\n",
              "<p>84 rows × 12 columns</p>\n",
              "</div>\n",
              "      <button class=\"colab-df-convert\" onclick=\"convertToInteractive('df-ec14a63d-6459-44ac-9f76-63ed7d695fa0')\"\n",
              "              title=\"Convert this dataframe to an interactive table.\"\n",
              "              style=\"display:none;\">\n",
              "        \n",
              "  <svg xmlns=\"http://www.w3.org/2000/svg\" height=\"24px\"viewBox=\"0 0 24 24\"\n",
              "       width=\"24px\">\n",
              "    <path d=\"M0 0h24v24H0V0z\" fill=\"none\"/>\n",
              "    <path d=\"M18.56 5.44l.94 2.06.94-2.06 2.06-.94-2.06-.94-.94-2.06-.94 2.06-2.06.94zm-11 1L8.5 8.5l.94-2.06 2.06-.94-2.06-.94L8.5 2.5l-.94 2.06-2.06.94zm10 10l.94 2.06.94-2.06 2.06-.94-2.06-.94-.94-2.06-.94 2.06-2.06.94z\"/><path d=\"M17.41 7.96l-1.37-1.37c-.4-.4-.92-.59-1.43-.59-.52 0-1.04.2-1.43.59L10.3 9.45l-7.72 7.72c-.78.78-.78 2.05 0 2.83L4 21.41c.39.39.9.59 1.41.59.51 0 1.02-.2 1.41-.59l7.78-7.78 2.81-2.81c.8-.78.8-2.07 0-2.86zM5.41 20L4 18.59l7.72-7.72 1.47 1.35L5.41 20z\"/>\n",
              "  </svg>\n",
              "      </button>\n",
              "      \n",
              "  <style>\n",
              "    .colab-df-container {\n",
              "      display:flex;\n",
              "      flex-wrap:wrap;\n",
              "      gap: 12px;\n",
              "    }\n",
              "\n",
              "    .colab-df-convert {\n",
              "      background-color: #E8F0FE;\n",
              "      border: none;\n",
              "      border-radius: 50%;\n",
              "      cursor: pointer;\n",
              "      display: none;\n",
              "      fill: #1967D2;\n",
              "      height: 32px;\n",
              "      padding: 0 0 0 0;\n",
              "      width: 32px;\n",
              "    }\n",
              "\n",
              "    .colab-df-convert:hover {\n",
              "      background-color: #E2EBFA;\n",
              "      box-shadow: 0px 1px 2px rgba(60, 64, 67, 0.3), 0px 1px 3px 1px rgba(60, 64, 67, 0.15);\n",
              "      fill: #174EA6;\n",
              "    }\n",
              "\n",
              "    [theme=dark] .colab-df-convert {\n",
              "      background-color: #3B4455;\n",
              "      fill: #D2E3FC;\n",
              "    }\n",
              "\n",
              "    [theme=dark] .colab-df-convert:hover {\n",
              "      background-color: #434B5C;\n",
              "      box-shadow: 0px 1px 3px 1px rgba(0, 0, 0, 0.15);\n",
              "      filter: drop-shadow(0px 1px 2px rgba(0, 0, 0, 0.3));\n",
              "      fill: #FFFFFF;\n",
              "    }\n",
              "  </style>\n",
              "\n",
              "      <script>\n",
              "        const buttonEl =\n",
              "          document.querySelector('#df-ec14a63d-6459-44ac-9f76-63ed7d695fa0 button.colab-df-convert');\n",
              "        buttonEl.style.display =\n",
              "          google.colab.kernel.accessAllowed ? 'block' : 'none';\n",
              "\n",
              "        async function convertToInteractive(key) {\n",
              "          const element = document.querySelector('#df-ec14a63d-6459-44ac-9f76-63ed7d695fa0');\n",
              "          const dataTable =\n",
              "            await google.colab.kernel.invokeFunction('convertToInteractive',\n",
              "                                                     [key], {});\n",
              "          if (!dataTable) return;\n",
              "\n",
              "          const docLinkHtml = 'Like what you see? Visit the ' +\n",
              "            '<a target=\"_blank\" href=https://colab.research.google.com/notebooks/data_table.ipynb>data table notebook</a>'\n",
              "            + ' to learn more about interactive tables.';\n",
              "          element.innerHTML = '';\n",
              "          dataTable['output_type'] = 'display_data';\n",
              "          await google.colab.output.renderOutput(dataTable, element);\n",
              "          const docLink = document.createElement('div');\n",
              "          docLink.innerHTML = docLinkHtml;\n",
              "          element.appendChild(docLink);\n",
              "        }\n",
              "      </script>\n",
              "    </div>\n",
              "  </div>\n",
              "  "
            ]
          },
          "metadata": {},
          "execution_count": 33
        }
      ],
      "source": [
        "merge_df = pd.concat([merge_df_SVI_num], axis=1)\n",
        "merge_df"
      ]
    },
    {
      "cell_type": "markdown",
      "metadata": {
        "id": "poVIRgoUvHBu"
      },
      "source": [
        "#### 파이썬의 데이터를 R로 변환"
      ]
    },
    {
      "cell_type": "code",
      "execution_count": null,
      "metadata": {
        "colab": {
          "base_uri": "https://localhost:8080/"
        },
        "id": "udrEGb41Kw4r",
        "outputId": "0924140f-1f0c-4332-8c60-d3e02eda2c95"
      },
      "outputs": [
        {
          "output_type": "stream",
          "name": "stdout",
          "text": [
            "  nation  nation_code  num_visitors  yyyymm date_merge  Unnamed: 0       date  \\\n",
            "0     대만          113         45171  201301 2013-01-31           0 2013-01-01   \n",
            "1     대만          113         45437  201302 2013-02-28           1 2013-02-01   \n",
            "2     대만          113         42102  201303 2013-03-31           2 2013-03-01   \n",
            "3     대만          113         35107  201304 2013-04-30           3 2013-04-01   \n",
            "4     대만          113         41361  201305 2013-05-31           4 2013-05-01   \n",
            "\n",
            "   韓國觀光  韓國飯店  韓國機場  韓國免稅店 date_merge  \n",
            "0    67    18    34      1 2013-01-31  \n",
            "1    51    10    35      7 2013-02-28  \n",
            "2    56    14    34      3 2013-03-31  \n",
            "3    48     7    19      0 2013-04-30  \n",
            "4    47     9    30      4 2013-05-31  \n"
          ]
        }
      ],
      "source": [
        "%R -i merge_df\n",
        "print(merge_df.head())"
      ]
    },
    {
      "cell_type": "code",
      "execution_count": null,
      "metadata": {
        "colab": {
          "base_uri": "https://localhost:8080/"
        },
        "id": "SvVQYK-IlAuP",
        "outputId": "a5e004c2-d3ab-4476-ad6a-b10dd52c544a"
      },
      "outputs": [
        {
          "output_type": "stream",
          "name": "stdout",
          "text": [
            "  nation nation_code num_visitors yyyymm date_merge Unnamed: 0       date\n",
            "0   대만         113        45171 201301 2013-01-31          0 2013-01-01\n",
            "1   대만         113        45437 201302 2013-02-28          1 2013-02-01\n",
            "2   대만         113        42102 201303 2013-03-31          2 2013-03-01\n",
            "3   대만         113        35107 201304 2013-04-30          3 2013-04-01\n",
            "4   대만         113        41361 201305 2013-05-31          4 2013-05-01\n",
            "5   대만         113        53808 201306 2013-06-30          5 2013-06-01\n",
            "  韓國觀光 韓國飯店 韓國機場 韓國免稅店\n",
            "0       67       18       34          1\n",
            "1       51       10       35          7\n",
            "2       56       14       34          3\n",
            "3       48        7       19          0\n",
            "4       47        9       30          4\n",
            "5       42        9       20          3\n",
            "   nation nation_code num_visitors yyyymm date_merge Unnamed: 0       date\n",
            "78   대만         113       113587 201907 2019-07-31         78 2019-07-01\n",
            "79   대만         113       109273 201908 2019-08-31         79 2019-08-01\n",
            "80   대만         113       102758 201909 2019-09-30         80 2019-09-01\n",
            "81   대만         113       127944 201910 2019-10-31         81 2019-10-01\n",
            "82   대만         113       102241 201911 2019-11-30         82 2019-11-01\n",
            "83   대만         113        90379 201912 2019-12-31         83 2019-12-01\n",
            "   韓國觀光 韓國飯店 韓國機場 韓國免稅店\n",
            "78       18       33       68         25\n",
            "79       21       34       82         24\n",
            "80       13       32       95         34\n",
            "81       22       39       89         34\n",
            "82       26       35       82         30\n",
            "83       17       38       64         22\n",
            " [1] \"nation\"       \"nation_code\"  \"num_visitors\" \"yyyymm\"       \"date_merge\"  \n",
            " [6] \"Unnamed: 0\"   \"date\"         \"韓國觀光\"     \"韓國飯店\"     \"韓國機場\"    \n",
            "[11] \"韓國免稅店\"  \n"
          ]
        }
      ],
      "source": [
        "%%R\n",
        "print(head(merge_df))\n",
        "print(tail(merge_df))\n",
        "print(names(merge_df))"
      ]
    },
    {
      "cell_type": "code",
      "execution_count": null,
      "metadata": {
        "id": "4_y5flGRJGyi"
      },
      "outputs": [],
      "source": [
        "merge_df.to_excel('/content/drive/MyDrive/Colab Notebooks//merge_df_SVI_num.xlsx')"
      ]
    },
    {
      "cell_type": "markdown",
      "metadata": {
        "id": "DCcisniz2zEp"
      },
      "source": [
        "# **상관분석(R)**"
      ]
    },
    {
      "cell_type": "code",
      "execution_count": null,
      "metadata": {
        "colab": {
          "base_uri": "https://localhost:8080/",
          "height": 497
        },
        "id": "CByJL_LrLKn4",
        "outputId": "1d7247cc-e85c-4964-be88-fe2d60049d72"
      },
      "outputs": [
        {
          "output_type": "display_data",
          "data": {
            "image/png": "[encoded data removed]"
          },
          "metadata": {}
        }
      ],
      "source": [
        "%%R\n",
        "#### 상관관계 시각화\n",
        "library(corrplot)\n",
        "Dataset <- subset(merge_df,select=c(韓國免稅店,韓國飯店,韓國機場,韓國觀光,num_visitors))\n",
        "M <- cor(Dataset)\n",
        "corrplot(M, order=\"hclust\", addrect=3)"
      ]
    },
    {
      "cell_type": "code",
      "execution_count": null,
      "metadata": {
        "colab": {
          "base_uri": "https://localhost:8080/"
        },
        "id": "2YNBmpMqxWI1",
        "outputId": "4ea074fd-24ba-490c-976b-47d5db459a30"
      },
      "outputs": [
        {
          "output_type": "stream",
          "name": "stdout",
          "text": [
            "             韓國免稅店 韓國飯店 韓國機場 韓國觀光 num_visitors\n",
            "韓國免稅店        1.000    0.696    0.846   -0.574        0.840\n",
            "韓國飯店          0.696    1.000    0.840   -0.445        0.773\n",
            "韓國機場          0.846    0.840    1.000   -0.542        0.867\n",
            "韓國觀光         -0.574   -0.445   -0.542    1.000       -0.565\n",
            "num_visitors      0.840    0.773    0.867   -0.565        1.000\n",
            "             韓國免稅店 韓國飯店 韓國機場 韓國觀光 num_visitors\n",
            "韓國免稅店           NA 2.03e-13 0.00e+00 1.17e-08     0.00e+00\n",
            "韓國飯店       2.03e-13       NA 0.00e+00 2.26e-05     0.00e+00\n",
            "韓國機場       0.00e+00 0.00e+00       NA 9.94e-08     0.00e+00\n",
            "韓國觀光       1.17e-08 2.26e-05 9.94e-08       NA     2.11e-08\n",
            "num_visitors   0.00e+00 0.00e+00 0.00e+00 2.11e-08           NA\n"
          ]
        }
      ],
      "source": [
        "%%R\n",
        "#### 상관관계 숫자표시\n",
        "library(Hmisc)\n",
        "res2 <- rcorr(as.matrix(Dataset))\n",
        "print(res2$r, digits=3)\n",
        "print(res2$P, digits=3)\n",
        "#한국여행이 가장 상관관계가 높음"
      ]
    },
    {
      "cell_type": "markdown",
      "metadata": {
        "id": "rHMJd_XN24hs"
      },
      "source": [
        "# **회귀분석(R)**"
      ]
    },
    {
      "cell_type": "code",
      "execution_count": null,
      "metadata": {
        "colab": {
          "base_uri": "https://localhost:8080/",
          "height": 977
        },
        "id": "MPzq58PL0IWv",
        "outputId": "a64b387d-ac4f-44e6-8e07-fc973d89cce9"
      },
      "outputs": [
        {
          "output_type": "display_data",
          "data": {
            "image/png": "[encoded data removed]"
          },
          "metadata": {}
        },
        {
          "output_type": "display_data",
          "data": {
            "image/png": "[encoded data removed]"
          },
          "metadata": {}
        }
      ],
      "source": [
        "%%R\n",
        "x = ts(subset(Dataset,select=c(韓國免稅店,韓國飯店,韓國機場,韓國觀光)))\n",
        "# x_old = ts(subset(Dataset,select=c(Close,POILWTIUSDM)))\n",
        "x_SVI = ts(subset(Dataset,select=c(韓國免稅店,韓國飯店,韓國機場,韓國觀光)))\n",
        "y = ts(subset(Dataset,select=c(num_visitors)))\n",
        "plot(x,y, pch=20,main = \"X versus Y\")\n",
        "# plot(x_old,y, pch=20,main = \"X versus Y\")\n",
        "plot(x_SVI,y, pch=20,main = \"X versus Y\")"
      ]
    },
    {
      "cell_type": "code",
      "execution_count": null,
      "metadata": {
        "id": "KSvQu62R-5U0"
      },
      "outputs": [],
      "source": [
        "# %%R\n",
        "# #library(astsa)\n",
        "# reg_old=lm(y~Close+POILWTIUSDM,data=Dataset)\n",
        "# print(summary(reg_old))\n",
        "# acf2(residuals(reg_old))"
      ]
    },
    {
      "cell_type": "code",
      "execution_count": null,
      "metadata": {
        "colab": {
          "base_uri": "https://localhost:8080/",
          "height": 1000
        },
        "id": "BOtScjOx_L-E",
        "outputId": "eb45fc3f-c432-446a-f5d7-eb7a62eb9e39"
      },
      "outputs": [
        {
          "output_type": "stream",
          "name": "stdout",
          "text": [
            "\n",
            "Call:\n",
            "lm(formula = y ~ 韓國免稅店 + 韓國飯店 + 韓國機場 + \n",
            "    韓國觀光, data = Dataset)\n",
            "\n",
            "Residuals:\n",
            "     Min       1Q   Median       3Q      Max \n",
            "-23726.2  -7332.4   -177.8   8061.9  22698.5 \n",
            "\n",
            "Coefficients:\n",
            "            Estimate Std. Error t value Pr(>|t|)    \n",
            "(Intercept) 26022.43    6285.56   4.140 8.63e-05 ***\n",
            "韓國免稅店   1006.38     275.66   3.651 0.000468 ***\n",
            "韓國飯店      400.79     212.08   1.890 0.062446 .  \n",
            "韓國機場      421.34     138.33   3.046 0.003151 ** \n",
            "韓國觀光     -120.61      92.08  -1.310 0.194031    \n",
            "---\n",
            "Signif. codes:  0 ‘***’ 0.001 ‘**’ 0.01 ‘*’ 0.05 ‘.’ 0.1 ‘ ’ 1\n",
            "\n",
            "Residual standard error: 10920 on 79 degrees of freedom\n",
            "Multiple R-squared:  0.8045,\tAdjusted R-squared:  0.7946 \n",
            "F-statistic: 81.28 on 4 and 79 DF,  p-value: < 2.2e-16\n",
            "\n",
            "     [,1] [,2] [,3]  [,4]  [,5]  [,6]  [,7]  [,8] [,9] [,10] [,11] [,12] [,13]\n",
            "ACF  0.33 0.19 0.14 -0.03 -0.21 -0.05 -0.20 -0.14 0.06  0.11  0.16  0.17  0.09\n",
            "PACF 0.33 0.09 0.06 -0.12 -0.23  0.10 -0.17  0.00 0.15  0.08  0.14 -0.04 -0.03\n",
            "     [,14] [,15] [,16] [,17] [,18] [,19] [,20]\n",
            "ACF   0.10 -0.03 -0.05 -0.17  0.02 -0.08  0.10\n",
            "PACF  0.08 -0.13  0.06 -0.15  0.24 -0.08  0.13\n"
          ]
        },
        {
          "output_type": "display_data",
          "data": {
            "image/png": "[encoded data removed]"
          },
          "metadata": {}
        }
      ],
      "source": [
        "%%R\n",
        "#library(astsa)\n",
        "reg_SVI=lm(y~韓國免稅店+韓國飯店+韓國機場+韓國觀光,data=Dataset)\n",
        "print(summary(reg_SVI))\n",
        "acf2(residuals(reg_SVI))"
      ]
    },
    {
      "cell_type": "code",
      "execution_count": null,
      "metadata": {
        "colab": {
          "base_uri": "https://localhost:8080/",
          "height": 1000
        },
        "id": "iYkiWAX-Bb4a",
        "outputId": "715203e6-7bc4-4c91-eb7a-707647a6f306"
      },
      "outputs": [
        {
          "output_type": "stream",
          "name": "stdout",
          "text": [
            "\n",
            "Call:\n",
            "lm(formula = y ~ 韓國免稅店 + 韓國飯店 + 韓國機場 + \n",
            "    韓國觀光, data = Dataset)\n",
            "\n",
            "Residuals:\n",
            "     Min       1Q   Median       3Q      Max \n",
            "-23726.2  -7332.4   -177.8   8061.9  22698.5 \n",
            "\n",
            "Coefficients:\n",
            "            Estimate Std. Error t value Pr(>|t|)    \n",
            "(Intercept) 26022.43    6285.56   4.140 8.63e-05 ***\n",
            "韓國免稅店   1006.38     275.66   3.651 0.000468 ***\n",
            "韓國飯店      400.79     212.08   1.890 0.062446 .  \n",
            "韓國機場      421.34     138.33   3.046 0.003151 ** \n",
            "韓國觀光     -120.61      92.08  -1.310 0.194031    \n",
            "---\n",
            "Signif. codes:  0 ‘***’ 0.001 ‘**’ 0.01 ‘*’ 0.05 ‘.’ 0.1 ‘ ’ 1\n",
            "\n",
            "Residual standard error: 10920 on 79 degrees of freedom\n",
            "Multiple R-squared:  0.8045,\tAdjusted R-squared:  0.7946 \n",
            "F-statistic: 81.28 on 4 and 79 DF,  p-value: < 2.2e-16\n",
            "\n",
            "     [,1] [,2] [,3]  [,4]  [,5]  [,6]  [,7]  [,8] [,9] [,10] [,11] [,12] [,13]\n",
            "ACF  0.33 0.19 0.14 -0.03 -0.21 -0.05 -0.20 -0.14 0.06  0.11  0.16  0.17  0.09\n",
            "PACF 0.33 0.09 0.06 -0.12 -0.23  0.10 -0.17  0.00 0.15  0.08  0.14 -0.04 -0.03\n",
            "     [,14] [,15] [,16] [,17] [,18] [,19] [,20]\n",
            "ACF   0.10 -0.03 -0.05 -0.17  0.02 -0.08  0.10\n",
            "PACF  0.08 -0.13  0.06 -0.15  0.24 -0.08  0.13\n"
          ]
        },
        {
          "output_type": "display_data",
          "data": {
            "image/png": "[encoded data removed]"
          },
          "metadata": {}
        }
      ],
      "source": [
        "%%R\n",
        "#library(astsa)\n",
        "reg_all=lm(y~韓國免稅店+韓國飯店+韓國機場+韓國觀光,data=Dataset)\n",
        "print(summary(reg_all))\n",
        "acf2(residuals(reg_all))"
      ]
    },
    {
      "cell_type": "code",
      "execution_count": null,
      "metadata": {
        "colab": {
          "base_uri": "https://localhost:8080/"
        },
        "id": "KwQtu9uCCHcY",
        "outputId": "262ed654-610d-498a-8e1d-d9bc28ef0701"
      },
      "outputs": [
        {
          "output_type": "stream",
          "name": "stdout",
          "text": [
            "\n",
            "============================================================\n",
            "                                   Dependent variable:      \n",
            "                              ------------------------------\n",
            "                                            y               \n",
            "                                  mod.SVI        mod.all    \n",
            "                                    (1)            (2)      \n",
            "------------------------------------------------------------\n",
            "韓國免稅店                            1,006.381      1,006.381   \n",
            "                               t = 3.651***    t = 3.651*** \n",
            "韓國飯店                              400.792        400.792    \n",
            "                                 t = 1.890      t = 1.890   \n",
            "韓國機場                              421.345        421.345    \n",
            "                                t = 3.046**    t = 3.046**  \n",
            "韓國觀光                             -120.615        -120.615   \n",
            "                                t = -1.310      t = -1.310  \n",
            "Constant                        26,022.430      26,022.430  \n",
            "                               t = 4.140***    t = 4.140*** \n",
            "------------------------------------------------------------\n",
            "Observations                        84              84      \n",
            "R2                                 0.805          0.805     \n",
            "Adjusted R2                        0.795          0.795     \n",
            "Residual Std. Error (df = 79)   10,924.150      10,924.150  \n",
            "F Statistic (df = 4; 79)         81.278***      81.278***   \n",
            "============================================================\n",
            "Note:                          *p<0.05; **p<0.01; ***p<0.001\n"
          ]
        }
      ],
      "source": [
        "%%R\n",
        "stargazer(reg_SVI,reg_all, type = \"text\", report = \"vct*\", star.cutoffs = c(0.05, 0.01, 0.001),\n",
        "          column.labels = c(\"mod.SVI\",\"mod.all\"), \n",
        "          single.row = TRUE)"
      ]
    },
    {
      "cell_type": "markdown",
      "source": [
        "# **구글 트렌드에 있는 데이터로는 다른 분석 과제를 수행하는데 무리가 있다고 판단, 관광지식정보시스템에 있는 관광객 실태 조사 설문지를 활용하여 2013 ~ 2019 년의 외래 관광객의 모든 데이터 중 대만 관광객만 추리고, 데이터량과 가장 최신의 자료인 2019년도의 설문지로 분석 진행**\n",
        "\n",
        "\n",
        "**https://know.tour.go.kr/stat/fResearchSumDis19Re.do**"
      ],
      "metadata": {
        "id": "iQcrul0dvJ9P"
      }
    },
    {
      "cell_type": "markdown",
      "source": [
        "**사용한 분석과 각 변수**\n",
        "\n",
        " - one way anova -  방한 목적에 따라 방한 횟수\n",
        " - 다중회귀분석 - 각 관광지, 총 방문객 수\n",
        "교차분석 : 방한목적 - 성별 (질적, 질적)\n",
        "상관분석 : 동반자수 - 1인 평균 지출 경비 단체여행 총액(양적, 양적)\n",
        " - 다중회귀분석 : 대만관광객의 총 방문객 수 - 쇼핑, 관광지매력도, 숙박비, \n",
        " - t-test : 성별 - 관광만족도"
      ],
      "metadata": {
        "id": "ZdXqUPGl-TYr"
      }
    },
    {
      "cell_type": "markdown",
      "source": [
        "## 설문지 데이터 로드(github를 활용)"
      ],
      "metadata": {
        "id": "iCD-V1Qyv-HM"
      }
    },
    {
      "cell_type": "code",
      "source": [
        "%%R\n",
        "### 데이터 로드\n",
        "# if (!require(readxl)) {install.packages(\"readxl\")\n",
        "#   library(readxl)}\n",
        "# url <- \"https://github.com/HakJun-Song/class/blob/master/incheon0427.xlsx?raw=true\"\n",
        "# destfile <- \"incheon0427.xlsx\"\n",
        "# curl::curl_download(url, destfile)\n",
        "# incheon0427 <- read_excel(destfile)\n",
        "\n",
        "tw_data <- read.xlsx(\"https://github.com/Geon27/3-2-googlecolab/raw/main/2019_Taiwan.xlsx\")"
      ],
      "metadata": {
        "id": "Phc2LEQw-Sz0"
      },
      "execution_count": null,
      "outputs": []
    },
    {
      "cell_type": "markdown",
      "source": [
        "#### 데이터 변환\n",
        "\n",
        "(tw_data의 자료 확인)"
      ],
      "metadata": {
        "id": "kaFWPGVB5OGL"
      }
    },
    {
      "cell_type": "code",
      "source": [
        "%%R\n",
        "str(tw_data)"
      ],
      "metadata": {
        "id": "j_9dPryE5RHq",
        "colab": {
          "base_uri": "https://localhost:8080/"
        },
        "outputId": "d5ee455e-de8e-49af-ec5f-41ee0f4c6dfd"
      },
      "execution_count": null,
      "outputs": [
        {
          "output_type": "stream",
          "name": "stdout",
          "text": [
            "'data.frame':\t1222 obs. of  439 variables:\n",
            " $ Q1            : num  1 5 1 1 1 1 10 2 10 1 ...\n",
            " $ Q2A1          : num  2 3 3 4 3 1 2 1 2 2 ...\n",
            " $ Q2A2          : num  NA NA NA NA NA NA NA NA NA NA ...\n",
            " $ Q2A3          : num  NA NA NA NA NA NA NA NA NA NA ...\n",
            " $ Q2A4          : num  NA NA NA NA NA NA NA NA NA NA ...\n",
            " $ Q2A5          : num  NA NA NA NA NA NA NA NA NA NA ...\n",
            " $ Q2_1          : num  10 2 3 4 3 NA 4 NA 2 4 ...\n",
            " $ Q3A1          : num  1 1 1 1 1 1 1 1 1 1 ...\n",
            " $ Q3A2          : num  NA NA NA NA NA NA NA NA NA NA ...\n",
            " $ Q3A3          : num  NA NA NA NA NA NA NA NA NA NA ...\n",
            " $ Q3A4          : num  NA NA NA NA NA NA NA NA NA NA ...\n",
            " $ Q3B1          : num  98 98 98 98 98 98 98 98 98 98 ...\n",
            " $ Q3B2          : num  98 98 98 98 98 98 98 98 98 98 ...\n",
            " $ Q4            : num  1 1 1 1 1 1 1 1 1 1 ...\n",
            " $ Q4_1A1        : num  NA NA NA NA NA NA NA NA NA NA ...\n",
            " $ Q4_1A2        : num  NA NA NA NA NA NA NA NA NA NA ...\n",
            " $ Q4_1A3        : num  NA NA NA NA NA NA NA NA NA NA ...\n",
            " $ Q4_1A4        : num  NA NA NA NA NA NA NA NA NA NA ...\n",
            " $ Q4_1A5        : num  NA NA NA NA NA NA NA NA NA NA ...\n",
            " $ Q4_1A6        : num  NA NA NA NA NA NA NA NA NA NA ...\n",
            " $ Q4_1A7        : num  NA NA NA NA NA NA NA NA NA NA ...\n",
            " $ Q4_1A8        : num  NA NA NA NA NA NA NA NA NA NA ...\n",
            " $ Q4_1A9        : num  NA NA NA NA NA NA NA NA NA NA ...\n",
            " $ Q4_1A10       : num  NA NA NA NA NA NA NA NA NA NA ...\n",
            " $ Q5_1          : num  1 1 1 3 1 1 1 3 1 1 ...\n",
            " $ Q5_2A1        : num  10 2 1 NA 1 6 1 NA 1 5 ...\n",
            " $ Q5_2A2        : num  1 1 5 NA 9 5 2 NA 2 4 ...\n",
            " $ Q5_2A3        : num  2 12 11 NA 2 2 9 NA NA 1 ...\n",
            " $ Q6_1A1        : num  2 2 6 6 1 3 5 11 5 5 ...\n",
            " $ Q6_1A2        : num  NA 6 NA NA 6 6 6 NA 1 6 ...\n",
            " $ Q6_1A3        : num  NA 7 NA NA NA 1 2 NA NA 1 ...\n",
            " $ Q6_2A1        : num  1 1 NA NA 2 2 3 NA 1 1 ...\n",
            " $ Q6_2A2        : num  3 2 NA NA 1 1 7 NA NA 4 ...\n",
            " $ Q6_2A3        : num  4 4 NA NA 3 3 8 NA NA NA ...\n",
            " $ Q6_3A1        : num  5 2 2 2 1 7 2 2 4 1 ...\n",
            " $ Q6_3A2        : num  4 4 3 6 2 4 3 NA NA NA ...\n",
            " $ Q6_3A3        : num  3 8 NA NA 3 2 4 NA NA NA ...\n",
            " $ Q7            : num  3 4 2 4 5 4 4 1 4 5 ...\n",
            " $ Q8A1          : num  1 1 6 1 1 1 1 2 1 1 ...\n",
            " $ Q8A2          : num  2 NA 1 NA NA 6 5 1 NA 8 ...\n",
            " $ Q8A3          : num  9 NA NA NA NA 2 NA NA NA NA ...\n",
            " $ Q9_1A1        : num  1 1 2 1 1 1 2 11 1 1 ...\n",
            " $ Q9_1A2        : num  2 2 3 2 2 2 5 NA 2 2 ...\n",
            " $ Q9_1A3        : num  3 3 5 4 6 5 8 NA 3 3 ...\n",
            " $ Q9_1A4        : num  5 5 NA 6 NA 7 10 NA NA NA ...\n",
            " $ Q9_1A5        : num  10 NA NA 11 NA NA NA NA NA NA ...\n",
            " $ Q9_1A6        : num  NA NA NA NA NA NA NA NA NA NA ...\n",
            " $ Q9_1A7        : num  NA NA NA NA NA NA NA NA NA NA ...\n",
            " $ Q9_1A8        : num  NA NA NA NA NA NA NA NA NA NA ...\n",
            " $ Q9_1A9        : num  NA NA NA NA NA NA NA NA NA NA ...\n",
            " $ Q9_1A10       : num  NA NA NA NA NA NA NA NA NA NA ...\n",
            " $ Q9_1A11       : num  NA NA NA NA NA NA NA NA NA NA ...\n",
            " $ Q9_1A12       : num  NA NA NA NA NA NA NA NA NA NA ...\n",
            " $ Q9_1A13       : num  NA NA NA NA NA NA NA NA NA NA ...\n",
            " $ Q9_1A14       : num  NA NA NA NA NA NA NA NA NA NA ...\n",
            " $ Q9_1A15       : num  NA NA NA NA NA NA NA NA NA NA ...\n",
            " $ Q9_1A16       : num  NA NA NA NA NA NA NA NA NA NA ...\n",
            " $ Q9_1A17       : num  NA NA NA NA NA NA NA NA NA NA ...\n",
            " $ Q9_1A18       : num  NA NA NA NA NA NA NA NA NA NA ...\n",
            " $ Q9_1A19       : num  NA NA NA NA NA NA NA NA NA NA ...\n",
            " $ Q9_1A20       : num  NA NA NA NA NA NA NA NA NA NA ...\n",
            " $ Q9_2A1        : num  10 2 3 1 6 7 2 11 2 3 ...\n",
            " $ Q9_2A2        : num  1 3 5 6 2 5 5 NA 3 1 ...\n",
            " $ Q9_2A3        : num  5 5 NA 4 1 2 10 NA 1 2 ...\n",
            " $ Q10_1A1       : num  1 1 53 1 6 1 15 14 1 80 ...\n",
            " $ Q10_1A2       : num  3 10 43 3 10 4 1 NA 3 1 ...\n",
            " $ Q10_1A3       : num  14 13 7 4 NA 5 3 NA 71 4 ...\n",
            " $ Q10_1A4       : num  NA 14 27 5 NA 6 4 NA NA 3 ...\n",
            " $ Q10_1A5       : num  NA NA 38 NA NA 10 5 NA NA NA ...\n",
            " $ Q10_1A6       : num  NA NA 10 NA NA 13 9 NA NA NA ...\n",
            " $ Q10_1A7       : num  NA NA NA NA NA 14 20 NA NA NA ...\n",
            " $ Q10_1A8       : num  NA NA NA NA NA NA NA NA NA NA ...\n",
            " $ Q10_1A9       : num  NA NA NA NA NA NA NA NA NA NA ...\n",
            " $ Q10_1A10      : num  NA NA NA NA NA NA NA NA NA NA ...\n",
            " $ Q10_1A11      : num  NA NA NA NA NA NA NA NA NA NA ...\n",
            " $ Q10_1A12      : num  NA NA NA NA NA NA NA NA NA NA ...\n",
            " $ Q10_1A13      : num  NA NA NA NA NA NA NA NA NA NA ...\n",
            " $ Q10_1A14      : num  NA NA NA NA NA NA NA NA NA NA ...\n",
            " $ Q10_1A15      : num  NA NA NA NA NA NA NA NA NA NA ...\n",
            " $ Q10_1A16      : num  NA NA NA NA NA NA NA NA NA NA ...\n",
            " $ Q10_1A17      : num  NA NA NA NA NA NA NA NA NA NA ...\n",
            " $ Q10_1A18      : num  NA NA NA NA NA NA NA NA NA NA ...\n",
            " $ Q10_1A19      : num  NA NA NA NA NA NA NA NA NA NA ...\n",
            " $ Q10_1A20      : num  NA NA NA NA NA NA NA NA NA NA ...\n",
            " $ Q10_1A21      : num  NA NA NA NA NA NA NA NA NA NA ...\n",
            " $ Q10_1A22      : num  NA NA NA NA NA NA NA NA NA NA ...\n",
            " $ Q10_1A23      : num  NA NA NA NA NA NA NA NA NA NA ...\n",
            " $ Q10_1A24      : num  NA NA NA NA NA NA NA NA NA NA ...\n",
            " $ Q10_1A25      : num  NA NA NA NA NA NA NA NA NA NA ...\n",
            " $ Q10_1A26      : num  NA NA NA NA NA NA NA NA NA NA ...\n",
            " $ Q10_1A27      : num  NA NA NA NA NA NA NA NA NA NA ...\n",
            " $ Q10_1A28      : num  NA NA NA NA NA NA NA NA NA NA ...\n",
            " $ Q10_1A29      : num  NA NA NA NA NA NA NA NA NA NA ...\n",
            " $ Q10_1A30      : num  NA NA NA NA NA NA NA NA NA NA ...\n",
            " $ Q10_1B1       : num  1 1 1 1 1 1 1 1 1 1 ...\n",
            " $ Q10_1B2       : num  NA NA NA NA NA NA NA NA NA NA ...\n",
            " $ Q10_1B3       : num  NA NA NA NA NA NA NA NA NA NA ...\n",
            " $ Q10_1B4       : num  NA NA NA NA NA NA 4 NA NA NA ...\n",
            " $ Q10_1B5       : num  NA NA 5 NA NA NA NA NA NA NA ...\n",
            "  [list output truncated]\n"
          ]
        }
      ]
    },
    {
      "cell_type": "code",
      "source": [
        "%%R\n",
        "head(tw_data)"
      ],
      "metadata": {
        "colab": {
          "base_uri": "https://localhost:8080/"
        },
        "id": "QyI9R2sRQIYf",
        "outputId": "9a7462b3-078f-41d6-9db3-15641a19ba56"
      },
      "execution_count": null,
      "outputs": [
        {
          "output_type": "stream",
          "name": "stdout",
          "text": [
            "  Q1 Q2A1 Q2A2 Q2A3 Q2A4 Q2A5 Q2_1 Q3A1 Q3A2 Q3A3 Q3A4 Q3B1 Q3B2 Q4 Q4_1A1\n",
            "1  1    2   NA   NA   NA   NA   10    1   NA   NA   NA   98   98  1     NA\n",
            "2  5    3   NA   NA   NA   NA    2    1   NA   NA   NA   98   98  1     NA\n",
            "3  1    3   NA   NA   NA   NA    3    1   NA   NA   NA   98   98  1     NA\n",
            "4  1    4   NA   NA   NA   NA    4    1   NA   NA   NA   98   98  1     NA\n",
            "5  1    3   NA   NA   NA   NA    3    1   NA   NA   NA   98   98  1     NA\n",
            "6  1    1   NA   NA   NA   NA   NA    1   NA   NA   NA   98   98  1     NA\n",
            "  Q4_1A2 Q4_1A3 Q4_1A4 Q4_1A5 Q4_1A6 Q4_1A7 Q4_1A8 Q4_1A9 Q4_1A10 Q5_1 Q5_2A1\n",
            "1     NA     NA     NA     NA     NA     NA     NA     NA      NA    1     10\n",
            "2     NA     NA     NA     NA     NA     NA     NA     NA      NA    1      2\n",
            "3     NA     NA     NA     NA     NA     NA     NA     NA      NA    1      1\n",
            "4     NA     NA     NA     NA     NA     NA     NA     NA      NA    3     NA\n",
            "5     NA     NA     NA     NA     NA     NA     NA     NA      NA    1      1\n",
            "6     NA     NA     NA     NA     NA     NA     NA     NA      NA    1      6\n",
            "  Q5_2A2 Q5_2A3 Q6_1A1 Q6_1A2 Q6_1A3 Q6_2A1 Q6_2A2 Q6_2A3 Q6_3A1 Q6_3A2 Q6_3A3\n",
            "1      1      2      2     NA     NA      1      3      4      5      4      3\n",
            "2      1     12      2      6      7      1      2      4      2      4      8\n",
            "3      5     11      6     NA     NA     NA     NA     NA      2      3     NA\n",
            "4     NA     NA      6     NA     NA     NA     NA     NA      2      6     NA\n",
            "5      9      2      1      6     NA      2      1      3      1      2      3\n",
            "6      5      2      3      6      1      2      1      3      7      4      2\n",
            "  Q7 Q8A1 Q8A2 Q8A3 Q9_1A1 Q9_1A2 Q9_1A3 Q9_1A4 Q9_1A5 Q9_1A6 Q9_1A7 Q9_1A8\n",
            "1  3    1    2    9      1      2      3      5     10     NA     NA     NA\n",
            "2  4    1   NA   NA      1      2      3      5     NA     NA     NA     NA\n",
            "3  2    6    1   NA      2      3      5     NA     NA     NA     NA     NA\n",
            "4  4    1   NA   NA      1      2      4      6     11     NA     NA     NA\n",
            "5  5    1   NA   NA      1      2      6     NA     NA     NA     NA     NA\n",
            "6  4    1    6    2      1      2      5      7     NA     NA     NA     NA\n",
            "  Q9_1A9 Q9_1A10 Q9_1A11 Q9_1A12 Q9_1A13 Q9_1A14 Q9_1A15 Q9_1A16 Q9_1A17\n",
            "1     NA      NA      NA      NA      NA      NA      NA      NA      NA\n",
            "2     NA      NA      NA      NA      NA      NA      NA      NA      NA\n",
            "3     NA      NA      NA      NA      NA      NA      NA      NA      NA\n",
            "4     NA      NA      NA      NA      NA      NA      NA      NA      NA\n",
            "5     NA      NA      NA      NA      NA      NA      NA      NA      NA\n",
            "6     NA      NA      NA      NA      NA      NA      NA      NA      NA\n",
            "  Q9_1A18 Q9_1A19 Q9_1A20 Q9_2A1 Q9_2A2 Q9_2A3 Q10_1A1 Q10_1A2 Q10_1A3 Q10_1A4\n",
            "1      NA      NA      NA     10      1      5       1       3      14      NA\n",
            "2      NA      NA      NA      2      3      5       1      10      13      14\n",
            "3      NA      NA      NA      3      5     NA      53      43       7      27\n",
            "4      NA      NA      NA      1      6      4       1       3       4       5\n",
            "5      NA      NA      NA      6      2      1       6      10      NA      NA\n",
            "6      NA      NA      NA      7      5      2       1       4       5       6\n",
            "  Q10_1A5 Q10_1A6 Q10_1A7 Q10_1A8 Q10_1A9 Q10_1A10 Q10_1A11 Q10_1A12 Q10_1A13\n",
            "1      NA      NA      NA      NA      NA       NA       NA       NA       NA\n",
            "2      NA      NA      NA      NA      NA       NA       NA       NA       NA\n",
            "3      38      10      NA      NA      NA       NA       NA       NA       NA\n",
            "4      NA      NA      NA      NA      NA       NA       NA       NA       NA\n",
            "5      NA      NA      NA      NA      NA       NA       NA       NA       NA\n",
            "6      10      13      14      NA      NA       NA       NA       NA       NA\n",
            "  Q10_1A14 Q10_1A15 Q10_1A16 Q10_1A17 Q10_1A18 Q10_1A19 Q10_1A20 Q10_1A21\n",
            "1       NA       NA       NA       NA       NA       NA       NA       NA\n",
            "2       NA       NA       NA       NA       NA       NA       NA       NA\n",
            "3       NA       NA       NA       NA       NA       NA       NA       NA\n",
            "4       NA       NA       NA       NA       NA       NA       NA       NA\n",
            "5       NA       NA       NA       NA       NA       NA       NA       NA\n",
            "6       NA       NA       NA       NA       NA       NA       NA       NA\n",
            "  Q10_1A22 Q10_1A23 Q10_1A24 Q10_1A25 Q10_1A26 Q10_1A27 Q10_1A28 Q10_1A29\n",
            "1       NA       NA       NA       NA       NA       NA       NA       NA\n",
            "2       NA       NA       NA       NA       NA       NA       NA       NA\n",
            "3       NA       NA       NA       NA       NA       NA       NA       NA\n",
            "4       NA       NA       NA       NA       NA       NA       NA       NA\n",
            "5       NA       NA       NA       NA       NA       NA       NA       NA\n",
            "6       NA       NA       NA       NA       NA       NA       NA       NA\n",
            "  Q10_1A30 Q10_1B1 Q10_1B2 Q10_1B3 Q10_1B4 Q10_1B5 Q10_1B6 Q10_1B7 Q10_1B8\n",
            "1       NA       1      NA      NA      NA      NA      NA      NA      NA\n",
            "2       NA       1      NA      NA      NA      NA      NA      NA      NA\n",
            "3       NA       1      NA      NA      NA       5       6      NA      NA\n",
            "4       NA       1      NA      NA      NA      NA      NA      NA      NA\n",
            "5       NA       1      NA      NA      NA      NA      NA      NA      NA\n",
            "6       NA       1      NA      NA      NA      NA      NA      NA      NA\n",
            "  Q10_1B9 Q10_1B10 Q10_1B11 Q10_1B12 Q10_1B13 Q10_1B14 Q10_1B15 Q10_1B16\n",
            "1      NA       NA       NA       NA       NA       NA       NA       NA\n",
            "2      NA       NA       NA       NA       NA       NA       NA       NA\n",
            "3      NA       NA       NA       12       13       NA       NA       NA\n",
            "4      NA       NA       NA       NA       NA       NA       NA       NA\n",
            "5      NA       NA       NA       NA       NA       NA       NA       NA\n",
            "6      NA       NA       NA       NA       NA       NA       NA       NA\n",
            "  Q10_1B17 Q10_1C1 Q10_1C2 Q10_1C3 Q10_1C4 Q10_1C5 Q10_1C6 Q10_1C7 Q10_1C8\n",
            "1       NA       1      NA      NA      NA      NA      NA      NA      NA\n",
            "2       NA       1      NA      NA      NA      NA      NA      NA      NA\n",
            "3       NA       1      NA      NA      NA       5      NA       7      NA\n",
            "4       NA       1      NA      NA      NA      NA      NA      NA      NA\n",
            "5       NA       1      NA      NA      NA      NA      NA      NA      NA\n",
            "6       NA       1      NA      NA      NA      NA      NA      NA      NA\n",
            "  Q10_2A1 Q10_2A2 Q10_2A3 Q10_4_1A1 Q10_4_2A1 Q10_4_3A1 Q10_4_4A1 Q10_4_5A1\n",
            "1      14       1       3         4        NA        NA        NA        NA\n",
            "2      10      13       1         5        NA        NA        NA        NA\n",
            "3      53      43      NA         2        NA        NA        NA         0\n",
            "4       3       4       1         3        NA        NA        NA        NA\n",
            "5      10       6      NA         8        NA        NA        NA        NA\n",
            "6      10       1      13        13        NA        NA        NA        NA\n",
            "  Q10_4_6A1 Q10_4_7A1 Q10_4_8A1 Q10_4_9A1 Q10_4_10A1 Q10_4_11A1 Q10_4_12A1\n",
            "1        NA        NA        NA        NA         NA         NA         NA\n",
            "2        NA        NA        NA        NA         NA         NA         NA\n",
            "3        NA        NA        NA        NA         NA         NA         NA\n",
            "4        NA        NA        NA        NA         NA         NA         NA\n",
            "5        NA        NA        NA        NA         NA         NA         NA\n",
            "6        NA        NA        NA        NA         NA         NA         NA\n",
            "  Q10_4_13A1 Q10_4_14A1 Q10_4_15A1 Q10_4_16A1 Q10_4_17A1 MQ10_4_1A1 MQ10_4_2A1\n",
            "1         NA         NA         NA         NA         NA          4         NA\n",
            "2         NA         NA         NA         NA         NA          5         NA\n",
            "3         NA          1          1          1         NA          2         NA\n",
            "4         NA         NA         NA         NA         NA          3         NA\n",
            "5         NA         NA         NA         NA         NA          8         NA\n",
            "6         NA         NA         NA         NA         NA         13         NA\n",
            "  MQ10_4_3A1 MQ10_4_4A1 MQ10_4_5A1 MQ10_4_6A1 MQ10_4_7A1 MQ10_4_8A1 MQ10_4_9A1\n",
            "1         NA         NA         NA         NA         NA         NA         NA\n",
            "2         NA         NA         NA         NA         NA         NA         NA\n",
            "3         NA         NA          0         NA         NA         NA         NA\n",
            "4         NA         NA         NA         NA         NA         NA         NA\n",
            "5         NA         NA         NA         NA         NA         NA         NA\n",
            "6         NA         NA         NA         NA         NA         NA         NA\n",
            "  MQ10_4_10A1 MQ10_4_11A1 MQ10_4_12A1 MQ10_4_13A1 MQ10_4_14A1 MQ10_4_15A1\n",
            "1          NA          NA          NA          NA          NA          NA\n",
            "2          NA          NA          NA          NA          NA          NA\n",
            "3          NA          NA          NA          NA           1           1\n",
            "4          NA          NA          NA          NA          NA          NA\n",
            "5          NA          NA          NA          NA          NA          NA\n",
            "6          NA          NA          NA          NA          NA          NA\n",
            "  MQ10_4_16A1 MQ10_4_17A1 Q10_4_1A2 Q10_4_2A2 Q10_4_3A2 Q10_4_4A2 Q10_4_5A2\n",
            "1          NA          NA         5        NA        NA        NA        NA\n",
            "2          NA          NA         6        NA        NA        NA        NA\n",
            "3           1          NA         3        NA        NA        NA         1\n",
            "4          NA          NA         4        NA        NA        NA        NA\n",
            "5          NA          NA         9        NA        NA        NA        NA\n",
            "6          NA          NA        14        NA        NA        NA        NA\n",
            "  Q10_4_6A2 Q10_4_7A2 Q10_4_8A2 Q10_4_9A2 Q10_4_10A2 Q10_4_11A2 Q10_4_12A2\n",
            "1        NA        NA        NA        NA         NA         NA         NA\n",
            "2        NA        NA        NA        NA         NA         NA         NA\n",
            "3        NA        NA        NA        NA         NA         NA         NA\n",
            "4        NA        NA        NA        NA         NA         NA         NA\n",
            "5        NA        NA        NA        NA         NA         NA         NA\n",
            "6        NA        NA        NA        NA         NA         NA         NA\n",
            "  Q10_4_13A2 Q10_4_14A2 Q10_4_15A2 Q10_4_16A2 Q10_4_17A2 MQ10_4_1A2 MQ10_4_2A2\n",
            "1         NA         NA         NA         NA         NA          5         NA\n",
            "2         NA         NA         NA         NA         NA          6         NA\n",
            "3         NA          2          2          2         NA          3         NA\n",
            "4         NA         NA         NA         NA         NA          4         NA\n",
            "5         NA         NA         NA         NA         NA          9         NA\n",
            "6         NA         NA         NA         NA         NA         14         NA\n",
            "  MQ10_4_3A2 MQ10_4_4A2 MQ10_4_5A2 MQ10_4_6A2 MQ10_4_7A2 MQ10_4_8A2 MQ10_4_9A2\n",
            "1         NA         NA         NA         NA         NA         NA         NA\n",
            "2         NA         NA         NA         NA         NA         NA         NA\n",
            "3         NA         NA          1         NA         NA         NA         NA\n",
            "4         NA         NA         NA         NA         NA         NA         NA\n",
            "5         NA         NA         NA         NA         NA         NA         NA\n",
            "6         NA         NA         NA         NA         NA         NA         NA\n",
            "  MQ10_4_10A2 MQ10_4_11A2 MQ10_4_12A2 MQ10_4_13A2 MQ10_4_14A2 MQ10_4_15A2\n",
            "1          NA          NA          NA          NA          NA          NA\n",
            "2          NA          NA          NA          NA          NA          NA\n",
            "3          NA          NA          NA          NA           2           2\n",
            "4          NA          NA          NA          NA          NA          NA\n",
            "5          NA          NA          NA          NA          NA          NA\n",
            "6          NA          NA          NA          NA          NA          NA\n",
            "  MQ10_4_16A2 MQ10_4_17A2 Q10_6A1 MQ10_6A1 CQ10_6A1 Q10_6A2 MQ10_6A2 CQ10_6A2\n",
            "1          NA          NA       4        4        4       5        5        5\n",
            "2          NA          NA       5        5        5       6        6        6\n",
            "3           2          NA       5        5        5       6        6        6\n",
            "4          NA          NA       3        3        3       4        4        4\n",
            "5          NA          NA       8        8        8       9        9        9\n",
            "6          NA          NA      13       13       11      14       14       11\n",
            "  Q10_5A1 Q10_5A2 Q10_5A3 Q10_5A4 Q10_5A5 Q10_5A6 Q10_5A7 Q10_5A8 Q10_5_1\n",
            "1       1      NA      NA      NA      NA      NA      NA      NA       4\n",
            "2      NA      NA      NA      NA      NA      NA       7      NA      NA\n",
            "3       1      NA      NA       4      NA      NA      NA      NA       2\n",
            "4       1      NA      NA      NA      NA      NA      NA      NA       3\n",
            "5      NA      NA      NA      NA      NA      NA       7      NA      NA\n",
            "6      NA      NA      NA      NA      NA      NA       7      NA      NA\n",
            "  Q10_5_2 Q10_5_3 Q10_5_4 Q10_5_5 Q10_5_6 Q10_5_7 Q10_5_8 Q10_5B1 Q10_5B2\n",
            "1      NA      NA      NA      NA      NA      NA      NA       1      NA\n",
            "2      NA      NA      NA      NA      NA       5      NA       7      NA\n",
            "3      NA      NA       3      NA      NA      NA      NA       1      NA\n",
            "4      NA      NA      NA      NA      NA      NA      NA       1      NA\n",
            "5      NA      NA      NA      NA      NA       8      NA       7      NA\n",
            "6      NA      NA      NA      NA      NA      13      NA       7      NA\n",
            "  Q10_5B3 Q10_5B4 Q10_5B5 Q10_5B6 Q10_5B7 Q10_5B8 Q10_5B9 Q10_5B10 Q10_5B11\n",
            "1      NA      NA      NA      NA      NA      NA      NA       NA       NA\n",
            "2      NA      NA      NA      NA      NA      NA      NA       NA       NA\n",
            "3      NA      NA      NA      NA      NA      NA      NA       NA       NA\n",
            "4      NA      NA      NA      NA      NA      NA      NA       NA       NA\n",
            "5      NA      NA      NA      NA      NA      NA      NA       NA       NA\n",
            "6      NA      NA      NA      NA      NA      NA      NA       NA       NA\n",
            "  Q10_5B12 Q10_5B13 Q10_5B14 Q10_5B15 Q10_5B16 Q10_5B17 Q11_1A1 Q11_1A2 Q11_1A3\n",
            "1       NA       NA       NA       NA       NA       NA       8       2       7\n",
            "2       NA       NA       NA       NA       NA       NA       3       1       5\n",
            "3       NA       NA        4        4        4       NA       2       3      NA\n",
            "4       NA       NA       NA       NA       NA       NA       2      NA      NA\n",
            "5       NA       NA       NA       NA       NA       NA       3      10      NA\n",
            "6       NA       NA       NA       NA       NA       NA       3       6       5\n",
            "  Q11_2A1 Q11_2A2 Q11_2A3 Q12 Q13 Q13_1 Q13_2 Q13_3    Q14_1T   Q14_1A\n",
            "1       3       1      15   3   1     3     4    NA  898.7200 898.7200\n",
            "2       4       5       3   1   1     2    NA    NA 1567.8400 328.0000\n",
            "3       4       1      NA   1   1     4    NA    NA  489.3301   0.0000\n",
            "4       9       3      NA   1   1     1    NA    NA  331.2800   0.0000\n",
            "5       4      13      NA   1   1     2    NA    NA  767.5200 209.9200\n",
            "6       4       3      NA   1   1     3    NA    NA  779.6106 414.6865\n",
            "     Q14_1B Q14_1C  Q14_2_1 Q14_2_2  Q14_2_3   Q14_2_4   Q14_2_5 Q14_2_6\n",
            "1    0.0000      0       NA  570.72 328.0000   0.00000   0.00000       0\n",
            "2 1239.8400      0 393.6000      NA 984.0000 164.00000   6.56000       0\n",
            "3  489.3301      0 165.8746      NA  82.9373  74.64357 165.87460       0\n",
            "4  331.2800      0  82.0000      NA 164.0000  82.00000   0.00000       0\n",
            "5  557.6000      0 209.9200      NA 196.8000 262.40000  65.60000       0\n",
            "6  364.9241      0 414.6865      NA 165.8746 165.87460  16.58746       0\n",
            "  Q14_2_7  Q14_2_8 Q14_2_9 Q14_2_10   MQ14_1T  MQ14_1A   MQ14_1B MQ14_1C\n",
            "1       0  0.00000       0        0  898.7200 898.7200    0.0000       0\n",
            "2       0 19.68000       0        0 1567.8400 328.0000 1239.8400       0\n",
            "3       0  0.00000       0        0  489.3301   0.0000  489.3301       0\n",
            "4       0  3.28000       0        0  331.2800   0.0000  331.2800       0\n",
            "5       0 32.80000       0        0  767.5200 209.9200  557.6000       0\n",
            "6       0 16.58746       0        0  779.6106 414.6865  364.9241       0\n",
            "  MQ14_2_1 MQ14_2_2 MQ14_2_3  MQ14_2_4  MQ14_2_5 MQ14_2_6 MQ14_2_7 MQ14_2_8\n",
            "1       NA   570.72 328.0000   0.00000   0.00000        0        0  0.00000\n",
            "2 393.6000       NA 984.0000 164.00000   6.56000        0        0 19.68000\n",
            "3 165.8746       NA  82.9373  74.64357 165.87460        0        0  0.00000\n",
            "4  82.0000       NA 164.0000  82.00000   0.00000        0        0  3.28000\n",
            "5 209.9200       NA 196.8000 262.40000  65.60000        0        0 32.80000\n",
            "6 414.6865       NA 165.8746 165.87460  16.58746        0        0 16.58746\n",
            "  MQ14_2_9 MQ14_2_10 CQ14_1T CQ14_1A CQ14_1B CQ14_1C CQ14_2_1 CQ14_2_2 CQ14_2_3\n",
            "1        0         0       2       2       1       1       NA        4        4\n",
            "2        0         0       4       1       3       1        3       NA        5\n",
            "3        0         0       1       1       1       1        2       NA        2\n",
            "4        0         0       1       1       1       1        1       NA        3\n",
            "5        0         0       2       1       2       1        3       NA        3\n",
            "6        0         0       2       1       1       1        3       NA        3\n",
            "  CQ14_2_4 CQ14_2_5 CQ14_2_6 CQ14_2_7 CQ14_2_8 CQ14_2_9 CQ14_2_10  I_Q14_1T\n",
            "1        1        1        1        1        1        1         1        NA\n",
            "2        4        1        1        1        2        1         1 1567.8400\n",
            "3        3        3        1        1        1        1         1  489.3301\n",
            "4        3        1        1        1        2        1         1  331.2800\n",
            "5        4        2        1        1        3        1         1  767.5200\n",
            "6        4        1        1        1        2        1         1  779.6106\n",
            "  I_Q14_2_1 I_Q14_2_3 I_Q14_2_4 I_Q14_2_5 I_Q14_2_6 I_Q14_2_7 I_Q14_2_8\n",
            "1        NA        NA        NA        NA        NA        NA        NA\n",
            "2  393.6000  984.0000 164.00000   6.56000         0         0  19.68000\n",
            "3  165.8746   82.9373  74.64357 165.87460         0         0   0.00000\n",
            "4   82.0000  164.0000  82.00000   0.00000         0         0   3.28000\n",
            "5  209.9200  196.8000 262.40000  65.60000         0         0  32.80000\n",
            "6  414.6865  165.8746 165.87460  16.58746         0         0  16.58746\n",
            "  I_Q14_2_9 I_Q14_2_10 I_MQ14_1T I_MQ14_2_1 I_MQ14_2_3 I_MQ14_2_4 I_MQ14_2_5\n",
            "1        NA         NA        NA         NA         NA         NA         NA\n",
            "2         0          0 1567.8400   393.6000   984.0000  164.00000    6.56000\n",
            "3         0          0  489.3301   165.8746    82.9373   74.64357  165.87460\n",
            "4         0          0  331.2800    82.0000   164.0000   82.00000    0.00000\n",
            "5         0          0  767.5200   209.9200   196.8000  262.40000   65.60000\n",
            "6         0          0  779.6106   414.6865   165.8746  165.87460   16.58746\n",
            "  I_MQ14_2_6 I_MQ14_2_7 I_MQ14_2_8 I_MQ14_2_9 I_MQ14_2_10 I_CQ14_1T I_CQ14_2_1\n",
            "1         NA         NA         NA         NA          NA        NA         NA\n",
            "2          0          0   19.68000          0           0         4          3\n",
            "3          0          0    0.00000          0           0         1          2\n",
            "4          0          0    3.28000          0           0         1          1\n",
            "5          0          0   32.80000          0           0         2          3\n",
            "6          0          0   16.58746          0           0         2          3\n",
            "  I_CQ14_2_3 I_CQ14_2_4 I_CQ14_2_5 I_CQ14_2_6 I_CQ14_2_7 I_CQ14_2_8 I_CQ14_2_9\n",
            "1         NA         NA         NA         NA         NA         NA         NA\n",
            "2          5          4          1          1          1          2          1\n",
            "3          2          3          3          1          1          1          1\n",
            "4          3          3          1          1          1          2          1\n",
            "5          3          4          2          1          1          3          1\n",
            "6          3          4          1          1          1          2          1\n",
            "  I_CQ14_2_10 G_Q14_1T G_Q14_2_2 G_Q14_2_3 G_Q14_2_4 G_Q14_2_5 G_Q14_2_6\n",
            "1          NA   898.72    570.72       328         0         0         0\n",
            "2           1       NA        NA        NA        NA        NA        NA\n",
            "3           1       NA        NA        NA        NA        NA        NA\n",
            "4           1       NA        NA        NA        NA        NA        NA\n",
            "5           1       NA        NA        NA        NA        NA        NA\n",
            "6           1       NA        NA        NA        NA        NA        NA\n",
            "  G_Q14_2_7 G_Q14_2_8 G_Q14_2_9 G_Q14_2_10 G_MQ14_1T G_MQ14_2_2 G_MQ14_2_3\n",
            "1         0         0         0          0    898.72     570.72        328\n",
            "2        NA        NA        NA         NA        NA         NA         NA\n",
            "3        NA        NA        NA         NA        NA         NA         NA\n",
            "4        NA        NA        NA         NA        NA         NA         NA\n",
            "5        NA        NA        NA         NA        NA         NA         NA\n",
            "6        NA        NA        NA         NA        NA         NA         NA\n",
            "  G_MQ14_2_4 G_MQ14_2_5 G_MQ14_2_6 G_MQ14_2_7 G_MQ14_2_8 G_MQ14_2_9 G_MQ14_2_10\n",
            "1          0          0          0          0          0          0           0\n",
            "2         NA         NA         NA         NA         NA         NA          NA\n",
            "3         NA         NA         NA         NA         NA         NA          NA\n",
            "4         NA         NA         NA         NA         NA         NA          NA\n",
            "5         NA         NA         NA         NA         NA         NA          NA\n",
            "6         NA         NA         NA         NA         NA         NA          NA\n",
            "  G_CQ14_1T G_CQ14_2_2 G_CQ14_2_3 G_CQ14_2_4 G_CQ14_2_5 G_CQ14_2_6 G_CQ14_2_7\n",
            "1         2          4          4          1          1          1          1\n",
            "2        NA         NA         NA         NA         NA         NA         NA\n",
            "3        NA         NA         NA         NA         NA         NA         NA\n",
            "4        NA         NA         NA         NA         NA         NA         NA\n",
            "5        NA         NA         NA         NA         NA         NA         NA\n",
            "6        NA         NA         NA         NA         NA         NA         NA\n",
            "  G_CQ14_2_8 G_CQ14_2_9 G_CQ14_2_10 A_Q14_1T A_Q14_2_2 A_Q14_2_3 A_Q14_2_4\n",
            "1          1          1           1       NA        NA        NA        NA\n",
            "2         NA         NA          NA       NA        NA        NA        NA\n",
            "3         NA         NA          NA       NA        NA        NA        NA\n",
            "4         NA         NA          NA       NA        NA        NA        NA\n",
            "5         NA         NA          NA       NA        NA        NA        NA\n",
            "6         NA         NA          NA       NA        NA        NA        NA\n",
            "  A_Q14_2_5 A_Q14_2_6 A_Q14_2_7 A_Q14_2_8 A_Q14_2_9 A_Q14_2_10 A_MQ14_1T\n",
            "1        NA        NA        NA        NA        NA         NA        NA\n",
            "2        NA        NA        NA        NA        NA         NA        NA\n",
            "3        NA        NA        NA        NA        NA         NA        NA\n",
            "4        NA        NA        NA        NA        NA         NA        NA\n",
            "5        NA        NA        NA        NA        NA         NA        NA\n",
            "6        NA        NA        NA        NA        NA         NA        NA\n",
            "  A_MQ14_2_2 A_MQ14_2_3 A_MQ14_2_4 A_MQ14_2_5 A_MQ14_2_6 A_MQ14_2_7 A_MQ14_2_8\n",
            "1         NA         NA         NA         NA         NA         NA         NA\n",
            "2         NA         NA         NA         NA         NA         NA         NA\n",
            "3         NA         NA         NA         NA         NA         NA         NA\n",
            "4         NA         NA         NA         NA         NA         NA         NA\n",
            "5         NA         NA         NA         NA         NA         NA         NA\n",
            "6         NA         NA         NA         NA         NA         NA         NA\n",
            "  A_MQ14_2_9 A_MQ14_2_10 A_CQ14_1T A_CQ14_2_2 A_CQ14_2_3 A_CQ14_2_4 A_CQ14_2_5\n",
            "1         NA          NA        NA         NA         NA         NA         NA\n",
            "2         NA          NA        NA         NA         NA         NA         NA\n",
            "3         NA          NA        NA         NA         NA         NA         NA\n",
            "4         NA          NA        NA         NA         NA         NA         NA\n",
            "5         NA          NA        NA         NA         NA         NA         NA\n",
            "6         NA          NA        NA         NA         NA         NA         NA\n",
            "  A_CQ14_2_6 A_CQ14_2_7 A_CQ14_2_8 A_CQ14_2_9 A_CQ14_2_10 GA_Q14_2_1T\n",
            "1         NA         NA         NA         NA          NA      898.72\n",
            "2         NA         NA         NA         NA          NA          NA\n",
            "3         NA         NA         NA         NA          NA          NA\n",
            "4         NA         NA         NA         NA          NA          NA\n",
            "5         NA         NA         NA         NA          NA          NA\n",
            "6         NA         NA         NA         NA          NA          NA\n",
            "  GA_Q14_2_2 GA_Q14_2_3 GA_Q14_2_4 GA_Q14_2_5 GA_Q14_2_6 GA_Q14_2_7 GA_Q14_2_8\n",
            "1     570.72        328          0          0          0          0          0\n",
            "2         NA         NA         NA         NA         NA         NA         NA\n",
            "3         NA         NA         NA         NA         NA         NA         NA\n",
            "4         NA         NA         NA         NA         NA         NA         NA\n",
            "5         NA         NA         NA         NA         NA         NA         NA\n",
            "6         NA         NA         NA         NA         NA         NA         NA\n",
            "  GA_Q14_2_9 GA_Q14_2_10 GA_MQ14_1T GA_MQ14_2_2 GA_MQ14_2_3 GA_MQ14_2_4\n",
            "1          0           0     898.72      570.72         328           0\n",
            "2         NA          NA         NA          NA          NA          NA\n",
            "3         NA          NA         NA          NA          NA          NA\n",
            "4         NA          NA         NA          NA          NA          NA\n",
            "5         NA          NA         NA          NA          NA          NA\n",
            "6         NA          NA         NA          NA          NA          NA\n",
            "  GA_MQ14_2_5 GA_MQ14_2_6 GA_MQ14_2_7 GA_MQ14_2_8 GA_MQ14_2_9 GA_MQ14_2_10\n",
            "1           0           0           0           0           0            0\n",
            "2          NA          NA          NA          NA          NA           NA\n",
            "3          NA          NA          NA          NA          NA           NA\n",
            "4          NA          NA          NA          NA          NA           NA\n",
            "5          NA          NA          NA          NA          NA           NA\n",
            "6          NA          NA          NA          NA          NA           NA\n",
            "  GA_CQ14_1T GA_CQ14_2_2 GA_CQ14_2_3 GA_CQ14_2_4 GA_CQ14_2_5 GA_CQ14_2_6\n",
            "1          2           4           4           1           1           1\n",
            "2         NA          NA          NA          NA          NA          NA\n",
            "3         NA          NA          NA          NA          NA          NA\n",
            "4         NA          NA          NA          NA          NA          NA\n",
            "5         NA          NA          NA          NA          NA          NA\n",
            "6         NA          NA          NA          NA          NA          NA\n",
            "  GA_CQ14_2_7 GA_CQ14_2_8 GA_CQ14_2_9 GA_CQ14_2_10 DAY_MQ14_1T DAY_I_MQ14_1T\n",
            "1           1           1           1            1   179.74400            NA\n",
            "2          NA          NA          NA           NA   261.30667     261.30667\n",
            "3          NA          NA          NA           NA    81.55501      81.55501\n",
            "4          NA          NA          NA           NA    82.82000      82.82000\n",
            "5          NA          NA          NA           NA    85.28000      85.28000\n",
            "6          NA          NA          NA           NA    55.68647      55.68647\n",
            "  DAY_A_MQ14_1T DAY_GA_MQ14_1T DAY_CQ14_1T DAY_I_CQ14_1T DAY_A_CQ14_1T\n",
            "1       179.744             NA           2            NA             2\n",
            "2            NA             NA           3             3            NA\n",
            "3            NA             NA           1             1            NA\n",
            "4            NA             NA           1             1            NA\n",
            "5            NA             NA           1             1            NA\n",
            "6            NA             NA           1             1            NA\n",
            "  DAY_GA_CQ14_1T Q15_1 Q15_2A1 Q15_2A2 Q15_2A3 Q15_2A4 Q15_2A5 Q15_2A6 Q15_2A7\n",
            "1             NA     4       4       4       4       4       4       4       4\n",
            "2             NA     4       4       4       3       4       3       4       4\n",
            "3             NA     5       4       4       3       4       3       4       4\n",
            "4             NA     5       4       5       5       5       5       5       5\n",
            "5             NA     4       5       4       5       3       5       5       5\n",
            "6             NA     4       5       5       5       5       3       4       5\n",
            "  Q15_2A8 Q15_2A9 Q15_2A10 Q15_2A11 Q15_2A12 Q16 Q17  Q18      ID D_MON D_QUA\n",
            "1       4       4        4        4        4   3   3 9840 1200208    12     4\n",
            "2       5       5        3        4        5   4   4   NA 1200209    12     4\n",
            "3       3       3        3        4        0   4   4   NA 1200210    12     4\n",
            "4       5       5        4        4        4   5   5   NA 1200288    12     4\n",
            "5       5       5        4        5        4   4   4   NA 1200632    12     4\n",
            "6       5       4        3        4        0   4   4   NA 1200633    12     4\n",
            "  D_COU1 D_COU2 D_GEN D_AGE D_Q5_1 D_Q12 D_Q1 D_Q1A CITY        WT\n",
            "1      5     NA     2     3      1     2    1     1 1331 1.2140427\n",
            "2      5     NA     1     2      1     1    4     2 1331 0.9449210\n",
            "3      5     NA     2     2      1     1    1     1 1331 0.8793223\n",
            "4      5     NA     2     5      3     1    1     1 1331 0.8557239\n",
            "5      5     NA     1     2      1     1    1     1 1331 0.9449210\n",
            "6      5     NA     2     2      1     1    1     1 1331 0.8793223\n"
          ]
        }
      ]
    },
    {
      "cell_type": "code",
      "source": [
        "%%R\n",
        "dim(tw_data)"
      ],
      "metadata": {
        "colab": {
          "base_uri": "https://localhost:8080/"
        },
        "id": "oj1zxZrUQVlE",
        "outputId": "45f442d4-d4f0-4f7f-adae-dbf370c460e5"
      },
      "execution_count": null,
      "outputs": [
        {
          "output_type": "stream",
          "name": "stdout",
          "text": [
            "[1] 1222  439\n"
          ]
        }
      ]
    },
    {
      "cell_type": "code",
      "source": [
        "%%R\n",
        "names(tw_data)"
      ],
      "metadata": {
        "colab": {
          "base_uri": "https://localhost:8080/"
        },
        "id": "NAV1qxZVQe1w",
        "outputId": "a02fc5b6-f8ca-4435-d726-38add367667a"
      },
      "execution_count": null,
      "outputs": [
        {
          "output_type": "stream",
          "name": "stdout",
          "text": [
            "  [1] \"Q1\"             \"Q2A1\"           \"Q2A2\"           \"Q2A3\"          \n",
            "  [5] \"Q2A4\"           \"Q2A5\"           \"Q2_1\"           \"Q3A1\"          \n",
            "  [9] \"Q3A2\"           \"Q3A3\"           \"Q3A4\"           \"Q3B1\"          \n",
            " [13] \"Q3B2\"           \"Q4\"             \"Q4_1A1\"         \"Q4_1A2\"        \n",
            " [17] \"Q4_1A3\"         \"Q4_1A4\"         \"Q4_1A5\"         \"Q4_1A6\"        \n",
            " [21] \"Q4_1A7\"         \"Q4_1A8\"         \"Q4_1A9\"         \"Q4_1A10\"       \n",
            " [25] \"Q5_1\"           \"Q5_2A1\"         \"Q5_2A2\"         \"Q5_2A3\"        \n",
            " [29] \"Q6_1A1\"         \"Q6_1A2\"         \"Q6_1A3\"         \"Q6_2A1\"        \n",
            " [33] \"Q6_2A2\"         \"Q6_2A3\"         \"Q6_3A1\"         \"Q6_3A2\"        \n",
            " [37] \"Q6_3A3\"         \"Q7\"             \"Q8A1\"           \"Q8A2\"          \n",
            " [41] \"Q8A3\"           \"Q9_1A1\"         \"Q9_1A2\"         \"Q9_1A3\"        \n",
            " [45] \"Q9_1A4\"         \"Q9_1A5\"         \"Q9_1A6\"         \"Q9_1A7\"        \n",
            " [49] \"Q9_1A8\"         \"Q9_1A9\"         \"Q9_1A10\"        \"Q9_1A11\"       \n",
            " [53] \"Q9_1A12\"        \"Q9_1A13\"        \"Q9_1A14\"        \"Q9_1A15\"       \n",
            " [57] \"Q9_1A16\"        \"Q9_1A17\"        \"Q9_1A18\"        \"Q9_1A19\"       \n",
            " [61] \"Q9_1A20\"        \"Q9_2A1\"         \"Q9_2A2\"         \"Q9_2A3\"        \n",
            " [65] \"Q10_1A1\"        \"Q10_1A2\"        \"Q10_1A3\"        \"Q10_1A4\"       \n",
            " [69] \"Q10_1A5\"        \"Q10_1A6\"        \"Q10_1A7\"        \"Q10_1A8\"       \n",
            " [73] \"Q10_1A9\"        \"Q10_1A10\"       \"Q10_1A11\"       \"Q10_1A12\"      \n",
            " [77] \"Q10_1A13\"       \"Q10_1A14\"       \"Q10_1A15\"       \"Q10_1A16\"      \n",
            " [81] \"Q10_1A17\"       \"Q10_1A18\"       \"Q10_1A19\"       \"Q10_1A20\"      \n",
            " [85] \"Q10_1A21\"       \"Q10_1A22\"       \"Q10_1A23\"       \"Q10_1A24\"      \n",
            " [89] \"Q10_1A25\"       \"Q10_1A26\"       \"Q10_1A27\"       \"Q10_1A28\"      \n",
            " [93] \"Q10_1A29\"       \"Q10_1A30\"       \"Q10_1B1\"        \"Q10_1B2\"       \n",
            " [97] \"Q10_1B3\"        \"Q10_1B4\"        \"Q10_1B5\"        \"Q10_1B6\"       \n",
            "[101] \"Q10_1B7\"        \"Q10_1B8\"        \"Q10_1B9\"        \"Q10_1B10\"      \n",
            "[105] \"Q10_1B11\"       \"Q10_1B12\"       \"Q10_1B13\"       \"Q10_1B14\"      \n",
            "[109] \"Q10_1B15\"       \"Q10_1B16\"       \"Q10_1B17\"       \"Q10_1C1\"       \n",
            "[113] \"Q10_1C2\"        \"Q10_1C3\"        \"Q10_1C4\"        \"Q10_1C5\"       \n",
            "[117] \"Q10_1C6\"        \"Q10_1C7\"        \"Q10_1C8\"        \"Q10_2A1\"       \n",
            "[121] \"Q10_2A2\"        \"Q10_2A3\"        \"Q10_4_1A1\"      \"Q10_4_2A1\"     \n",
            "[125] \"Q10_4_3A1\"      \"Q10_4_4A1\"      \"Q10_4_5A1\"      \"Q10_4_6A1\"     \n",
            "[129] \"Q10_4_7A1\"      \"Q10_4_8A1\"      \"Q10_4_9A1\"      \"Q10_4_10A1\"    \n",
            "[133] \"Q10_4_11A1\"     \"Q10_4_12A1\"     \"Q10_4_13A1\"     \"Q10_4_14A1\"    \n",
            "[137] \"Q10_4_15A1\"     \"Q10_4_16A1\"     \"Q10_4_17A1\"     \"MQ10_4_1A1\"    \n",
            "[141] \"MQ10_4_2A1\"     \"MQ10_4_3A1\"     \"MQ10_4_4A1\"     \"MQ10_4_5A1\"    \n",
            "[145] \"MQ10_4_6A1\"     \"MQ10_4_7A1\"     \"MQ10_4_8A1\"     \"MQ10_4_9A1\"    \n",
            "[149] \"MQ10_4_10A1\"    \"MQ10_4_11A1\"    \"MQ10_4_12A1\"    \"MQ10_4_13A1\"   \n",
            "[153] \"MQ10_4_14A1\"    \"MQ10_4_15A1\"    \"MQ10_4_16A1\"    \"MQ10_4_17A1\"   \n",
            "[157] \"Q10_4_1A2\"      \"Q10_4_2A2\"      \"Q10_4_3A2\"      \"Q10_4_4A2\"     \n",
            "[161] \"Q10_4_5A2\"      \"Q10_4_6A2\"      \"Q10_4_7A2\"      \"Q10_4_8A2\"     \n",
            "[165] \"Q10_4_9A2\"      \"Q10_4_10A2\"     \"Q10_4_11A2\"     \"Q10_4_12A2\"    \n",
            "[169] \"Q10_4_13A2\"     \"Q10_4_14A2\"     \"Q10_4_15A2\"     \"Q10_4_16A2\"    \n",
            "[173] \"Q10_4_17A2\"     \"MQ10_4_1A2\"     \"MQ10_4_2A2\"     \"MQ10_4_3A2\"    \n",
            "[177] \"MQ10_4_4A2\"     \"MQ10_4_5A2\"     \"MQ10_4_6A2\"     \"MQ10_4_7A2\"    \n",
            "[181] \"MQ10_4_8A2\"     \"MQ10_4_9A2\"     \"MQ10_4_10A2\"    \"MQ10_4_11A2\"   \n",
            "[185] \"MQ10_4_12A2\"    \"MQ10_4_13A2\"    \"MQ10_4_14A2\"    \"MQ10_4_15A2\"   \n",
            "[189] \"MQ10_4_16A2\"    \"MQ10_4_17A2\"    \"Q10_6A1\"        \"MQ10_6A1\"      \n",
            "[193] \"CQ10_6A1\"       \"Q10_6A2\"        \"MQ10_6A2\"       \"CQ10_6A2\"      \n",
            "[197] \"Q10_5A1\"        \"Q10_5A2\"        \"Q10_5A3\"        \"Q10_5A4\"       \n",
            "[201] \"Q10_5A5\"        \"Q10_5A6\"        \"Q10_5A7\"        \"Q10_5A8\"       \n",
            "[205] \"Q10_5_1\"        \"Q10_5_2\"        \"Q10_5_3\"        \"Q10_5_4\"       \n",
            "[209] \"Q10_5_5\"        \"Q10_5_6\"        \"Q10_5_7\"        \"Q10_5_8\"       \n",
            "[213] \"Q10_5B1\"        \"Q10_5B2\"        \"Q10_5B3\"        \"Q10_5B4\"       \n",
            "[217] \"Q10_5B5\"        \"Q10_5B6\"        \"Q10_5B7\"        \"Q10_5B8\"       \n",
            "[221] \"Q10_5B9\"        \"Q10_5B10\"       \"Q10_5B11\"       \"Q10_5B12\"      \n",
            "[225] \"Q10_5B13\"       \"Q10_5B14\"       \"Q10_5B15\"       \"Q10_5B16\"      \n",
            "[229] \"Q10_5B17\"       \"Q11_1A1\"        \"Q11_1A2\"        \"Q11_1A3\"       \n",
            "[233] \"Q11_2A1\"        \"Q11_2A2\"        \"Q11_2A3\"        \"Q12\"           \n",
            "[237] \"Q13\"            \"Q13_1\"          \"Q13_2\"          \"Q13_3\"         \n",
            "[241] \"Q14_1T\"         \"Q14_1A\"         \"Q14_1B\"         \"Q14_1C\"        \n",
            "[245] \"Q14_2_1\"        \"Q14_2_2\"        \"Q14_2_3\"        \"Q14_2_4\"       \n",
            "[249] \"Q14_2_5\"        \"Q14_2_6\"        \"Q14_2_7\"        \"Q14_2_8\"       \n",
            "[253] \"Q14_2_9\"        \"Q14_2_10\"       \"MQ14_1T\"        \"MQ14_1A\"       \n",
            "[257] \"MQ14_1B\"        \"MQ14_1C\"        \"MQ14_2_1\"       \"MQ14_2_2\"      \n",
            "[261] \"MQ14_2_3\"       \"MQ14_2_4\"       \"MQ14_2_5\"       \"MQ14_2_6\"      \n",
            "[265] \"MQ14_2_7\"       \"MQ14_2_8\"       \"MQ14_2_9\"       \"MQ14_2_10\"     \n",
            "[269] \"CQ14_1T\"        \"CQ14_1A\"        \"CQ14_1B\"        \"CQ14_1C\"       \n",
            "[273] \"CQ14_2_1\"       \"CQ14_2_2\"       \"CQ14_2_3\"       \"CQ14_2_4\"      \n",
            "[277] \"CQ14_2_5\"       \"CQ14_2_6\"       \"CQ14_2_7\"       \"CQ14_2_8\"      \n",
            "[281] \"CQ14_2_9\"       \"CQ14_2_10\"      \"I_Q14_1T\"       \"I_Q14_2_1\"     \n",
            "[285] \"I_Q14_2_3\"      \"I_Q14_2_4\"      \"I_Q14_2_5\"      \"I_Q14_2_6\"     \n",
            "[289] \"I_Q14_2_7\"      \"I_Q14_2_8\"      \"I_Q14_2_9\"      \"I_Q14_2_10\"    \n",
            "[293] \"I_MQ14_1T\"      \"I_MQ14_2_1\"     \"I_MQ14_2_3\"     \"I_MQ14_2_4\"    \n",
            "[297] \"I_MQ14_2_5\"     \"I_MQ14_2_6\"     \"I_MQ14_2_7\"     \"I_MQ14_2_8\"    \n",
            "[301] \"I_MQ14_2_9\"     \"I_MQ14_2_10\"    \"I_CQ14_1T\"      \"I_CQ14_2_1\"    \n",
            "[305] \"I_CQ14_2_3\"     \"I_CQ14_2_4\"     \"I_CQ14_2_5\"     \"I_CQ14_2_6\"    \n",
            "[309] \"I_CQ14_2_7\"     \"I_CQ14_2_8\"     \"I_CQ14_2_9\"     \"I_CQ14_2_10\"   \n",
            "[313] \"G_Q14_1T\"       \"G_Q14_2_2\"      \"G_Q14_2_3\"      \"G_Q14_2_4\"     \n",
            "[317] \"G_Q14_2_5\"      \"G_Q14_2_6\"      \"G_Q14_2_7\"      \"G_Q14_2_8\"     \n",
            "[321] \"G_Q14_2_9\"      \"G_Q14_2_10\"     \"G_MQ14_1T\"      \"G_MQ14_2_2\"    \n",
            "[325] \"G_MQ14_2_3\"     \"G_MQ14_2_4\"     \"G_MQ14_2_5\"     \"G_MQ14_2_6\"    \n",
            "[329] \"G_MQ14_2_7\"     \"G_MQ14_2_8\"     \"G_MQ14_2_9\"     \"G_MQ14_2_10\"   \n",
            "[333] \"G_CQ14_1T\"      \"G_CQ14_2_2\"     \"G_CQ14_2_3\"     \"G_CQ14_2_4\"    \n",
            "[337] \"G_CQ14_2_5\"     \"G_CQ14_2_6\"     \"G_CQ14_2_7\"     \"G_CQ14_2_8\"    \n",
            "[341] \"G_CQ14_2_9\"     \"G_CQ14_2_10\"    \"A_Q14_1T\"       \"A_Q14_2_2\"     \n",
            "[345] \"A_Q14_2_3\"      \"A_Q14_2_4\"      \"A_Q14_2_5\"      \"A_Q14_2_6\"     \n",
            "[349] \"A_Q14_2_7\"      \"A_Q14_2_8\"      \"A_Q14_2_9\"      \"A_Q14_2_10\"    \n",
            "[353] \"A_MQ14_1T\"      \"A_MQ14_2_2\"     \"A_MQ14_2_3\"     \"A_MQ14_2_4\"    \n",
            "[357] \"A_MQ14_2_5\"     \"A_MQ14_2_6\"     \"A_MQ14_2_7\"     \"A_MQ14_2_8\"    \n",
            "[361] \"A_MQ14_2_9\"     \"A_MQ14_2_10\"    \"A_CQ14_1T\"      \"A_CQ14_2_2\"    \n",
            "[365] \"A_CQ14_2_3\"     \"A_CQ14_2_4\"     \"A_CQ14_2_5\"     \"A_CQ14_2_6\"    \n",
            "[369] \"A_CQ14_2_7\"     \"A_CQ14_2_8\"     \"A_CQ14_2_9\"     \"A_CQ14_2_10\"   \n",
            "[373] \"GA_Q14_2_1T\"    \"GA_Q14_2_2\"     \"GA_Q14_2_3\"     \"GA_Q14_2_4\"    \n",
            "[377] \"GA_Q14_2_5\"     \"GA_Q14_2_6\"     \"GA_Q14_2_7\"     \"GA_Q14_2_8\"    \n",
            "[381] \"GA_Q14_2_9\"     \"GA_Q14_2_10\"    \"GA_MQ14_1T\"     \"GA_MQ14_2_2\"   \n",
            "[385] \"GA_MQ14_2_3\"    \"GA_MQ14_2_4\"    \"GA_MQ14_2_5\"    \"GA_MQ14_2_6\"   \n",
            "[389] \"GA_MQ14_2_7\"    \"GA_MQ14_2_8\"    \"GA_MQ14_2_9\"    \"GA_MQ14_2_10\"  \n",
            "[393] \"GA_CQ14_1T\"     \"GA_CQ14_2_2\"    \"GA_CQ14_2_3\"    \"GA_CQ14_2_4\"   \n",
            "[397] \"GA_CQ14_2_5\"    \"GA_CQ14_2_6\"    \"GA_CQ14_2_7\"    \"GA_CQ14_2_8\"   \n",
            "[401] \"GA_CQ14_2_9\"    \"GA_CQ14_2_10\"   \"DAY_MQ14_1T\"    \"DAY_I_MQ14_1T\" \n",
            "[405] \"DAY_A_MQ14_1T\"  \"DAY_GA_MQ14_1T\" \"DAY_CQ14_1T\"    \"DAY_I_CQ14_1T\" \n",
            "[409] \"DAY_A_CQ14_1T\"  \"DAY_GA_CQ14_1T\" \"Q15_1\"          \"Q15_2A1\"       \n",
            "[413] \"Q15_2A2\"        \"Q15_2A3\"        \"Q15_2A4\"        \"Q15_2A5\"       \n",
            "[417] \"Q15_2A6\"        \"Q15_2A7\"        \"Q15_2A8\"        \"Q15_2A9\"       \n",
            "[421] \"Q15_2A10\"       \"Q15_2A11\"       \"Q15_2A12\"       \"Q16\"           \n",
            "[425] \"Q17\"            \"Q18\"            \"ID\"             \"D_MON\"         \n",
            "[429] \"D_QUA\"          \"D_COU1\"         \"D_COU2\"         \"D_GEN\"         \n",
            "[433] \"D_AGE\"          \"D_Q5_1\"         \"D_Q12\"          \"D_Q1\"          \n",
            "[437] \"D_Q1A\"          \"CITY\"           \"WT\"            \n"
          ]
        }
      ]
    },
    {
      "cell_type": "code",
      "source": [
        "%%R\n",
        "tw_data_ex = tw_data\n",
        "head(tw_data_ex)"
      ],
      "metadata": {
        "colab": {
          "base_uri": "https://localhost:8080/"
        },
        "id": "RGAMM2ehQqqH",
        "outputId": "c1f0a592-cfd2-45d2-d9ec-26c42e84fa9d"
      },
      "execution_count": null,
      "outputs": [
        {
          "output_type": "stream",
          "name": "stdout",
          "text": [
            "  Q1 Q2A1 Q2A2 Q2A3 Q2A4 Q2A5 Q2_1 Q3A1 Q3A2 Q3A3 Q3A4 Q3B1 Q3B2 Q4 Q4_1A1\n",
            "1  1    2   NA   NA   NA   NA   10    1   NA   NA   NA   98   98  1     NA\n",
            "2  5    3   NA   NA   NA   NA    2    1   NA   NA   NA   98   98  1     NA\n",
            "3  1    3   NA   NA   NA   NA    3    1   NA   NA   NA   98   98  1     NA\n",
            "4  1    4   NA   NA   NA   NA    4    1   NA   NA   NA   98   98  1     NA\n",
            "5  1    3   NA   NA   NA   NA    3    1   NA   NA   NA   98   98  1     NA\n",
            "6  1    1   NA   NA   NA   NA   NA    1   NA   NA   NA   98   98  1     NA\n",
            "  Q4_1A2 Q4_1A3 Q4_1A4 Q4_1A5 Q4_1A6 Q4_1A7 Q4_1A8 Q4_1A9 Q4_1A10 Q5_1 Q5_2A1\n",
            "1     NA     NA     NA     NA     NA     NA     NA     NA      NA    1     10\n",
            "2     NA     NA     NA     NA     NA     NA     NA     NA      NA    1      2\n",
            "3     NA     NA     NA     NA     NA     NA     NA     NA      NA    1      1\n",
            "4     NA     NA     NA     NA     NA     NA     NA     NA      NA    3     NA\n",
            "5     NA     NA     NA     NA     NA     NA     NA     NA      NA    1      1\n",
            "6     NA     NA     NA     NA     NA     NA     NA     NA      NA    1      6\n",
            "  Q5_2A2 Q5_2A3 Q6_1A1 Q6_1A2 Q6_1A3 Q6_2A1 Q6_2A2 Q6_2A3 Q6_3A1 Q6_3A2 Q6_3A3\n",
            "1      1      2      2     NA     NA      1      3      4      5      4      3\n",
            "2      1     12      2      6      7      1      2      4      2      4      8\n",
            "3      5     11      6     NA     NA     NA     NA     NA      2      3     NA\n",
            "4     NA     NA      6     NA     NA     NA     NA     NA      2      6     NA\n",
            "5      9      2      1      6     NA      2      1      3      1      2      3\n",
            "6      5      2      3      6      1      2      1      3      7      4      2\n",
            "  Q7 Q8A1 Q8A2 Q8A3 Q9_1A1 Q9_1A2 Q9_1A3 Q9_1A4 Q9_1A5 Q9_1A6 Q9_1A7 Q9_1A8\n",
            "1  3    1    2    9      1      2      3      5     10     NA     NA     NA\n",
            "2  4    1   NA   NA      1      2      3      5     NA     NA     NA     NA\n",
            "3  2    6    1   NA      2      3      5     NA     NA     NA     NA     NA\n",
            "4  4    1   NA   NA      1      2      4      6     11     NA     NA     NA\n",
            "5  5    1   NA   NA      1      2      6     NA     NA     NA     NA     NA\n",
            "6  4    1    6    2      1      2      5      7     NA     NA     NA     NA\n",
            "  Q9_1A9 Q9_1A10 Q9_1A11 Q9_1A12 Q9_1A13 Q9_1A14 Q9_1A15 Q9_1A16 Q9_1A17\n",
            "1     NA      NA      NA      NA      NA      NA      NA      NA      NA\n",
            "2     NA      NA      NA      NA      NA      NA      NA      NA      NA\n",
            "3     NA      NA      NA      NA      NA      NA      NA      NA      NA\n",
            "4     NA      NA      NA      NA      NA      NA      NA      NA      NA\n",
            "5     NA      NA      NA      NA      NA      NA      NA      NA      NA\n",
            "6     NA      NA      NA      NA      NA      NA      NA      NA      NA\n",
            "  Q9_1A18 Q9_1A19 Q9_1A20 Q9_2A1 Q9_2A2 Q9_2A3 Q10_1A1 Q10_1A2 Q10_1A3 Q10_1A4\n",
            "1      NA      NA      NA     10      1      5       1       3      14      NA\n",
            "2      NA      NA      NA      2      3      5       1      10      13      14\n",
            "3      NA      NA      NA      3      5     NA      53      43       7      27\n",
            "4      NA      NA      NA      1      6      4       1       3       4       5\n",
            "5      NA      NA      NA      6      2      1       6      10      NA      NA\n",
            "6      NA      NA      NA      7      5      2       1       4       5       6\n",
            "  Q10_1A5 Q10_1A6 Q10_1A7 Q10_1A8 Q10_1A9 Q10_1A10 Q10_1A11 Q10_1A12 Q10_1A13\n",
            "1      NA      NA      NA      NA      NA       NA       NA       NA       NA\n",
            "2      NA      NA      NA      NA      NA       NA       NA       NA       NA\n",
            "3      38      10      NA      NA      NA       NA       NA       NA       NA\n",
            "4      NA      NA      NA      NA      NA       NA       NA       NA       NA\n",
            "5      NA      NA      NA      NA      NA       NA       NA       NA       NA\n",
            "6      10      13      14      NA      NA       NA       NA       NA       NA\n",
            "  Q10_1A14 Q10_1A15 Q10_1A16 Q10_1A17 Q10_1A18 Q10_1A19 Q10_1A20 Q10_1A21\n",
            "1       NA       NA       NA       NA       NA       NA       NA       NA\n",
            "2       NA       NA       NA       NA       NA       NA       NA       NA\n",
            "3       NA       NA       NA       NA       NA       NA       NA       NA\n",
            "4       NA       NA       NA       NA       NA       NA       NA       NA\n",
            "5       NA       NA       NA       NA       NA       NA       NA       NA\n",
            "6       NA       NA       NA       NA       NA       NA       NA       NA\n",
            "  Q10_1A22 Q10_1A23 Q10_1A24 Q10_1A25 Q10_1A26 Q10_1A27 Q10_1A28 Q10_1A29\n",
            "1       NA       NA       NA       NA       NA       NA       NA       NA\n",
            "2       NA       NA       NA       NA       NA       NA       NA       NA\n",
            "3       NA       NA       NA       NA       NA       NA       NA       NA\n",
            "4       NA       NA       NA       NA       NA       NA       NA       NA\n",
            "5       NA       NA       NA       NA       NA       NA       NA       NA\n",
            "6       NA       NA       NA       NA       NA       NA       NA       NA\n",
            "  Q10_1A30 Q10_1B1 Q10_1B2 Q10_1B3 Q10_1B4 Q10_1B5 Q10_1B6 Q10_1B7 Q10_1B8\n",
            "1       NA       1      NA      NA      NA      NA      NA      NA      NA\n",
            "2       NA       1      NA      NA      NA      NA      NA      NA      NA\n",
            "3       NA       1      NA      NA      NA       5       6      NA      NA\n",
            "4       NA       1      NA      NA      NA      NA      NA      NA      NA\n",
            "5       NA       1      NA      NA      NA      NA      NA      NA      NA\n",
            "6       NA       1      NA      NA      NA      NA      NA      NA      NA\n",
            "  Q10_1B9 Q10_1B10 Q10_1B11 Q10_1B12 Q10_1B13 Q10_1B14 Q10_1B15 Q10_1B16\n",
            "1      NA       NA       NA       NA       NA       NA       NA       NA\n",
            "2      NA       NA       NA       NA       NA       NA       NA       NA\n",
            "3      NA       NA       NA       12       13       NA       NA       NA\n",
            "4      NA       NA       NA       NA       NA       NA       NA       NA\n",
            "5      NA       NA       NA       NA       NA       NA       NA       NA\n",
            "6      NA       NA       NA       NA       NA       NA       NA       NA\n",
            "  Q10_1B17 Q10_1C1 Q10_1C2 Q10_1C3 Q10_1C4 Q10_1C5 Q10_1C6 Q10_1C7 Q10_1C8\n",
            "1       NA       1      NA      NA      NA      NA      NA      NA      NA\n",
            "2       NA       1      NA      NA      NA      NA      NA      NA      NA\n",
            "3       NA       1      NA      NA      NA       5      NA       7      NA\n",
            "4       NA       1      NA      NA      NA      NA      NA      NA      NA\n",
            "5       NA       1      NA      NA      NA      NA      NA      NA      NA\n",
            "6       NA       1      NA      NA      NA      NA      NA      NA      NA\n",
            "  Q10_2A1 Q10_2A2 Q10_2A3 Q10_4_1A1 Q10_4_2A1 Q10_4_3A1 Q10_4_4A1 Q10_4_5A1\n",
            "1      14       1       3         4        NA        NA        NA        NA\n",
            "2      10      13       1         5        NA        NA        NA        NA\n",
            "3      53      43      NA         2        NA        NA        NA         0\n",
            "4       3       4       1         3        NA        NA        NA        NA\n",
            "5      10       6      NA         8        NA        NA        NA        NA\n",
            "6      10       1      13        13        NA        NA        NA        NA\n",
            "  Q10_4_6A1 Q10_4_7A1 Q10_4_8A1 Q10_4_9A1 Q10_4_10A1 Q10_4_11A1 Q10_4_12A1\n",
            "1        NA        NA        NA        NA         NA         NA         NA\n",
            "2        NA        NA        NA        NA         NA         NA         NA\n",
            "3        NA        NA        NA        NA         NA         NA         NA\n",
            "4        NA        NA        NA        NA         NA         NA         NA\n",
            "5        NA        NA        NA        NA         NA         NA         NA\n",
            "6        NA        NA        NA        NA         NA         NA         NA\n",
            "  Q10_4_13A1 Q10_4_14A1 Q10_4_15A1 Q10_4_16A1 Q10_4_17A1 MQ10_4_1A1 MQ10_4_2A1\n",
            "1         NA         NA         NA         NA         NA          4         NA\n",
            "2         NA         NA         NA         NA         NA          5         NA\n",
            "3         NA          1          1          1         NA          2         NA\n",
            "4         NA         NA         NA         NA         NA          3         NA\n",
            "5         NA         NA         NA         NA         NA          8         NA\n",
            "6         NA         NA         NA         NA         NA         13         NA\n",
            "  MQ10_4_3A1 MQ10_4_4A1 MQ10_4_5A1 MQ10_4_6A1 MQ10_4_7A1 MQ10_4_8A1 MQ10_4_9A1\n",
            "1         NA         NA         NA         NA         NA         NA         NA\n",
            "2         NA         NA         NA         NA         NA         NA         NA\n",
            "3         NA         NA          0         NA         NA         NA         NA\n",
            "4         NA         NA         NA         NA         NA         NA         NA\n",
            "5         NA         NA         NA         NA         NA         NA         NA\n",
            "6         NA         NA         NA         NA         NA         NA         NA\n",
            "  MQ10_4_10A1 MQ10_4_11A1 MQ10_4_12A1 MQ10_4_13A1 MQ10_4_14A1 MQ10_4_15A1\n",
            "1          NA          NA          NA          NA          NA          NA\n",
            "2          NA          NA          NA          NA          NA          NA\n",
            "3          NA          NA          NA          NA           1           1\n",
            "4          NA          NA          NA          NA          NA          NA\n",
            "5          NA          NA          NA          NA          NA          NA\n",
            "6          NA          NA          NA          NA          NA          NA\n",
            "  MQ10_4_16A1 MQ10_4_17A1 Q10_4_1A2 Q10_4_2A2 Q10_4_3A2 Q10_4_4A2 Q10_4_5A2\n",
            "1          NA          NA         5        NA        NA        NA        NA\n",
            "2          NA          NA         6        NA        NA        NA        NA\n",
            "3           1          NA         3        NA        NA        NA         1\n",
            "4          NA          NA         4        NA        NA        NA        NA\n",
            "5          NA          NA         9        NA        NA        NA        NA\n",
            "6          NA          NA        14        NA        NA        NA        NA\n",
            "  Q10_4_6A2 Q10_4_7A2 Q10_4_8A2 Q10_4_9A2 Q10_4_10A2 Q10_4_11A2 Q10_4_12A2\n",
            "1        NA        NA        NA        NA         NA         NA         NA\n",
            "2        NA        NA        NA        NA         NA         NA         NA\n",
            "3        NA        NA        NA        NA         NA         NA         NA\n",
            "4        NA        NA        NA        NA         NA         NA         NA\n",
            "5        NA        NA        NA        NA         NA         NA         NA\n",
            "6        NA        NA        NA        NA         NA         NA         NA\n",
            "  Q10_4_13A2 Q10_4_14A2 Q10_4_15A2 Q10_4_16A2 Q10_4_17A2 MQ10_4_1A2 MQ10_4_2A2\n",
            "1         NA         NA         NA         NA         NA          5         NA\n",
            "2         NA         NA         NA         NA         NA          6         NA\n",
            "3         NA          2          2          2         NA          3         NA\n",
            "4         NA         NA         NA         NA         NA          4         NA\n",
            "5         NA         NA         NA         NA         NA          9         NA\n",
            "6         NA         NA         NA         NA         NA         14         NA\n",
            "  MQ10_4_3A2 MQ10_4_4A2 MQ10_4_5A2 MQ10_4_6A2 MQ10_4_7A2 MQ10_4_8A2 MQ10_4_9A2\n",
            "1         NA         NA         NA         NA         NA         NA         NA\n",
            "2         NA         NA         NA         NA         NA         NA         NA\n",
            "3         NA         NA          1         NA         NA         NA         NA\n",
            "4         NA         NA         NA         NA         NA         NA         NA\n",
            "5         NA         NA         NA         NA         NA         NA         NA\n",
            "6         NA         NA         NA         NA         NA         NA         NA\n",
            "  MQ10_4_10A2 MQ10_4_11A2 MQ10_4_12A2 MQ10_4_13A2 MQ10_4_14A2 MQ10_4_15A2\n",
            "1          NA          NA          NA          NA          NA          NA\n",
            "2          NA          NA          NA          NA          NA          NA\n",
            "3          NA          NA          NA          NA           2           2\n",
            "4          NA          NA          NA          NA          NA          NA\n",
            "5          NA          NA          NA          NA          NA          NA\n",
            "6          NA          NA          NA          NA          NA          NA\n",
            "  MQ10_4_16A2 MQ10_4_17A2 Q10_6A1 MQ10_6A1 CQ10_6A1 Q10_6A2 MQ10_6A2 CQ10_6A2\n",
            "1          NA          NA       4        4        4       5        5        5\n",
            "2          NA          NA       5        5        5       6        6        6\n",
            "3           2          NA       5        5        5       6        6        6\n",
            "4          NA          NA       3        3        3       4        4        4\n",
            "5          NA          NA       8        8        8       9        9        9\n",
            "6          NA          NA      13       13       11      14       14       11\n",
            "  Q10_5A1 Q10_5A2 Q10_5A3 Q10_5A4 Q10_5A5 Q10_5A6 Q10_5A7 Q10_5A8 Q10_5_1\n",
            "1       1      NA      NA      NA      NA      NA      NA      NA       4\n",
            "2      NA      NA      NA      NA      NA      NA       7      NA      NA\n",
            "3       1      NA      NA       4      NA      NA      NA      NA       2\n",
            "4       1      NA      NA      NA      NA      NA      NA      NA       3\n",
            "5      NA      NA      NA      NA      NA      NA       7      NA      NA\n",
            "6      NA      NA      NA      NA      NA      NA       7      NA      NA\n",
            "  Q10_5_2 Q10_5_3 Q10_5_4 Q10_5_5 Q10_5_6 Q10_5_7 Q10_5_8 Q10_5B1 Q10_5B2\n",
            "1      NA      NA      NA      NA      NA      NA      NA       1      NA\n",
            "2      NA      NA      NA      NA      NA       5      NA       7      NA\n",
            "3      NA      NA       3      NA      NA      NA      NA       1      NA\n",
            "4      NA      NA      NA      NA      NA      NA      NA       1      NA\n",
            "5      NA      NA      NA      NA      NA       8      NA       7      NA\n",
            "6      NA      NA      NA      NA      NA      13      NA       7      NA\n",
            "  Q10_5B3 Q10_5B4 Q10_5B5 Q10_5B6 Q10_5B7 Q10_5B8 Q10_5B9 Q10_5B10 Q10_5B11\n",
            "1      NA      NA      NA      NA      NA      NA      NA       NA       NA\n",
            "2      NA      NA      NA      NA      NA      NA      NA       NA       NA\n",
            "3      NA      NA      NA      NA      NA      NA      NA       NA       NA\n",
            "4      NA      NA      NA      NA      NA      NA      NA       NA       NA\n",
            "5      NA      NA      NA      NA      NA      NA      NA       NA       NA\n",
            "6      NA      NA      NA      NA      NA      NA      NA       NA       NA\n",
            "  Q10_5B12 Q10_5B13 Q10_5B14 Q10_5B15 Q10_5B16 Q10_5B17 Q11_1A1 Q11_1A2 Q11_1A3\n",
            "1       NA       NA       NA       NA       NA       NA       8       2       7\n",
            "2       NA       NA       NA       NA       NA       NA       3       1       5\n",
            "3       NA       NA        4        4        4       NA       2       3      NA\n",
            "4       NA       NA       NA       NA       NA       NA       2      NA      NA\n",
            "5       NA       NA       NA       NA       NA       NA       3      10      NA\n",
            "6       NA       NA       NA       NA       NA       NA       3       6       5\n",
            "  Q11_2A1 Q11_2A2 Q11_2A3 Q12 Q13 Q13_1 Q13_2 Q13_3    Q14_1T   Q14_1A\n",
            "1       3       1      15   3   1     3     4    NA  898.7200 898.7200\n",
            "2       4       5       3   1   1     2    NA    NA 1567.8400 328.0000\n",
            "3       4       1      NA   1   1     4    NA    NA  489.3301   0.0000\n",
            "4       9       3      NA   1   1     1    NA    NA  331.2800   0.0000\n",
            "5       4      13      NA   1   1     2    NA    NA  767.5200 209.9200\n",
            "6       4       3      NA   1   1     3    NA    NA  779.6106 414.6865\n",
            "     Q14_1B Q14_1C  Q14_2_1 Q14_2_2  Q14_2_3   Q14_2_4   Q14_2_5 Q14_2_6\n",
            "1    0.0000      0       NA  570.72 328.0000   0.00000   0.00000       0\n",
            "2 1239.8400      0 393.6000      NA 984.0000 164.00000   6.56000       0\n",
            "3  489.3301      0 165.8746      NA  82.9373  74.64357 165.87460       0\n",
            "4  331.2800      0  82.0000      NA 164.0000  82.00000   0.00000       0\n",
            "5  557.6000      0 209.9200      NA 196.8000 262.40000  65.60000       0\n",
            "6  364.9241      0 414.6865      NA 165.8746 165.87460  16.58746       0\n",
            "  Q14_2_7  Q14_2_8 Q14_2_9 Q14_2_10   MQ14_1T  MQ14_1A   MQ14_1B MQ14_1C\n",
            "1       0  0.00000       0        0  898.7200 898.7200    0.0000       0\n",
            "2       0 19.68000       0        0 1567.8400 328.0000 1239.8400       0\n",
            "3       0  0.00000       0        0  489.3301   0.0000  489.3301       0\n",
            "4       0  3.28000       0        0  331.2800   0.0000  331.2800       0\n",
            "5       0 32.80000       0        0  767.5200 209.9200  557.6000       0\n",
            "6       0 16.58746       0        0  779.6106 414.6865  364.9241       0\n",
            "  MQ14_2_1 MQ14_2_2 MQ14_2_3  MQ14_2_4  MQ14_2_5 MQ14_2_6 MQ14_2_7 MQ14_2_8\n",
            "1       NA   570.72 328.0000   0.00000   0.00000        0        0  0.00000\n",
            "2 393.6000       NA 984.0000 164.00000   6.56000        0        0 19.68000\n",
            "3 165.8746       NA  82.9373  74.64357 165.87460        0        0  0.00000\n",
            "4  82.0000       NA 164.0000  82.00000   0.00000        0        0  3.28000\n",
            "5 209.9200       NA 196.8000 262.40000  65.60000        0        0 32.80000\n",
            "6 414.6865       NA 165.8746 165.87460  16.58746        0        0 16.58746\n",
            "  MQ14_2_9 MQ14_2_10 CQ14_1T CQ14_1A CQ14_1B CQ14_1C CQ14_2_1 CQ14_2_2 CQ14_2_3\n",
            "1        0         0       2       2       1       1       NA        4        4\n",
            "2        0         0       4       1       3       1        3       NA        5\n",
            "3        0         0       1       1       1       1        2       NA        2\n",
            "4        0         0       1       1       1       1        1       NA        3\n",
            "5        0         0       2       1       2       1        3       NA        3\n",
            "6        0         0       2       1       1       1        3       NA        3\n",
            "  CQ14_2_4 CQ14_2_5 CQ14_2_6 CQ14_2_7 CQ14_2_8 CQ14_2_9 CQ14_2_10  I_Q14_1T\n",
            "1        1        1        1        1        1        1         1        NA\n",
            "2        4        1        1        1        2        1         1 1567.8400\n",
            "3        3        3        1        1        1        1         1  489.3301\n",
            "4        3        1        1        1        2        1         1  331.2800\n",
            "5        4        2        1        1        3        1         1  767.5200\n",
            "6        4        1        1        1        2        1         1  779.6106\n",
            "  I_Q14_2_1 I_Q14_2_3 I_Q14_2_4 I_Q14_2_5 I_Q14_2_6 I_Q14_2_7 I_Q14_2_8\n",
            "1        NA        NA        NA        NA        NA        NA        NA\n",
            "2  393.6000  984.0000 164.00000   6.56000         0         0  19.68000\n",
            "3  165.8746   82.9373  74.64357 165.87460         0         0   0.00000\n",
            "4   82.0000  164.0000  82.00000   0.00000         0         0   3.28000\n",
            "5  209.9200  196.8000 262.40000  65.60000         0         0  32.80000\n",
            "6  414.6865  165.8746 165.87460  16.58746         0         0  16.58746\n",
            "  I_Q14_2_9 I_Q14_2_10 I_MQ14_1T I_MQ14_2_1 I_MQ14_2_3 I_MQ14_2_4 I_MQ14_2_5\n",
            "1        NA         NA        NA         NA         NA         NA         NA\n",
            "2         0          0 1567.8400   393.6000   984.0000  164.00000    6.56000\n",
            "3         0          0  489.3301   165.8746    82.9373   74.64357  165.87460\n",
            "4         0          0  331.2800    82.0000   164.0000   82.00000    0.00000\n",
            "5         0          0  767.5200   209.9200   196.8000  262.40000   65.60000\n",
            "6         0          0  779.6106   414.6865   165.8746  165.87460   16.58746\n",
            "  I_MQ14_2_6 I_MQ14_2_7 I_MQ14_2_8 I_MQ14_2_9 I_MQ14_2_10 I_CQ14_1T I_CQ14_2_1\n",
            "1         NA         NA         NA         NA          NA        NA         NA\n",
            "2          0          0   19.68000          0           0         4          3\n",
            "3          0          0    0.00000          0           0         1          2\n",
            "4          0          0    3.28000          0           0         1          1\n",
            "5          0          0   32.80000          0           0         2          3\n",
            "6          0          0   16.58746          0           0         2          3\n",
            "  I_CQ14_2_3 I_CQ14_2_4 I_CQ14_2_5 I_CQ14_2_6 I_CQ14_2_7 I_CQ14_2_8 I_CQ14_2_9\n",
            "1         NA         NA         NA         NA         NA         NA         NA\n",
            "2          5          4          1          1          1          2          1\n",
            "3          2          3          3          1          1          1          1\n",
            "4          3          3          1          1          1          2          1\n",
            "5          3          4          2          1          1          3          1\n",
            "6          3          4          1          1          1          2          1\n",
            "  I_CQ14_2_10 G_Q14_1T G_Q14_2_2 G_Q14_2_3 G_Q14_2_4 G_Q14_2_5 G_Q14_2_6\n",
            "1          NA   898.72    570.72       328         0         0         0\n",
            "2           1       NA        NA        NA        NA        NA        NA\n",
            "3           1       NA        NA        NA        NA        NA        NA\n",
            "4           1       NA        NA        NA        NA        NA        NA\n",
            "5           1       NA        NA        NA        NA        NA        NA\n",
            "6           1       NA        NA        NA        NA        NA        NA\n",
            "  G_Q14_2_7 G_Q14_2_8 G_Q14_2_9 G_Q14_2_10 G_MQ14_1T G_MQ14_2_2 G_MQ14_2_3\n",
            "1         0         0         0          0    898.72     570.72        328\n",
            "2        NA        NA        NA         NA        NA         NA         NA\n",
            "3        NA        NA        NA         NA        NA         NA         NA\n",
            "4        NA        NA        NA         NA        NA         NA         NA\n",
            "5        NA        NA        NA         NA        NA         NA         NA\n",
            "6        NA        NA        NA         NA        NA         NA         NA\n",
            "  G_MQ14_2_4 G_MQ14_2_5 G_MQ14_2_6 G_MQ14_2_7 G_MQ14_2_8 G_MQ14_2_9 G_MQ14_2_10\n",
            "1          0          0          0          0          0          0           0\n",
            "2         NA         NA         NA         NA         NA         NA          NA\n",
            "3         NA         NA         NA         NA         NA         NA          NA\n",
            "4         NA         NA         NA         NA         NA         NA          NA\n",
            "5         NA         NA         NA         NA         NA         NA          NA\n",
            "6         NA         NA         NA         NA         NA         NA          NA\n",
            "  G_CQ14_1T G_CQ14_2_2 G_CQ14_2_3 G_CQ14_2_4 G_CQ14_2_5 G_CQ14_2_6 G_CQ14_2_7\n",
            "1         2          4          4          1          1          1          1\n",
            "2        NA         NA         NA         NA         NA         NA         NA\n",
            "3        NA         NA         NA         NA         NA         NA         NA\n",
            "4        NA         NA         NA         NA         NA         NA         NA\n",
            "5        NA         NA         NA         NA         NA         NA         NA\n",
            "6        NA         NA         NA         NA         NA         NA         NA\n",
            "  G_CQ14_2_8 G_CQ14_2_9 G_CQ14_2_10 A_Q14_1T A_Q14_2_2 A_Q14_2_3 A_Q14_2_4\n",
            "1          1          1           1       NA        NA        NA        NA\n",
            "2         NA         NA          NA       NA        NA        NA        NA\n",
            "3         NA         NA          NA       NA        NA        NA        NA\n",
            "4         NA         NA          NA       NA        NA        NA        NA\n",
            "5         NA         NA          NA       NA        NA        NA        NA\n",
            "6         NA         NA          NA       NA        NA        NA        NA\n",
            "  A_Q14_2_5 A_Q14_2_6 A_Q14_2_7 A_Q14_2_8 A_Q14_2_9 A_Q14_2_10 A_MQ14_1T\n",
            "1        NA        NA        NA        NA        NA         NA        NA\n",
            "2        NA        NA        NA        NA        NA         NA        NA\n",
            "3        NA        NA        NA        NA        NA         NA        NA\n",
            "4        NA        NA        NA        NA        NA         NA        NA\n",
            "5        NA        NA        NA        NA        NA         NA        NA\n",
            "6        NA        NA        NA        NA        NA         NA        NA\n",
            "  A_MQ14_2_2 A_MQ14_2_3 A_MQ14_2_4 A_MQ14_2_5 A_MQ14_2_6 A_MQ14_2_7 A_MQ14_2_8\n",
            "1         NA         NA         NA         NA         NA         NA         NA\n",
            "2         NA         NA         NA         NA         NA         NA         NA\n",
            "3         NA         NA         NA         NA         NA         NA         NA\n",
            "4         NA         NA         NA         NA         NA         NA         NA\n",
            "5         NA         NA         NA         NA         NA         NA         NA\n",
            "6         NA         NA         NA         NA         NA         NA         NA\n",
            "  A_MQ14_2_9 A_MQ14_2_10 A_CQ14_1T A_CQ14_2_2 A_CQ14_2_3 A_CQ14_2_4 A_CQ14_2_5\n",
            "1         NA          NA        NA         NA         NA         NA         NA\n",
            "2         NA          NA        NA         NA         NA         NA         NA\n",
            "3         NA          NA        NA         NA         NA         NA         NA\n",
            "4         NA          NA        NA         NA         NA         NA         NA\n",
            "5         NA          NA        NA         NA         NA         NA         NA\n",
            "6         NA          NA        NA         NA         NA         NA         NA\n",
            "  A_CQ14_2_6 A_CQ14_2_7 A_CQ14_2_8 A_CQ14_2_9 A_CQ14_2_10 GA_Q14_2_1T\n",
            "1         NA         NA         NA         NA          NA      898.72\n",
            "2         NA         NA         NA         NA          NA          NA\n",
            "3         NA         NA         NA         NA          NA          NA\n",
            "4         NA         NA         NA         NA          NA          NA\n",
            "5         NA         NA         NA         NA          NA          NA\n",
            "6         NA         NA         NA         NA          NA          NA\n",
            "  GA_Q14_2_2 GA_Q14_2_3 GA_Q14_2_4 GA_Q14_2_5 GA_Q14_2_6 GA_Q14_2_7 GA_Q14_2_8\n",
            "1     570.72        328          0          0          0          0          0\n",
            "2         NA         NA         NA         NA         NA         NA         NA\n",
            "3         NA         NA         NA         NA         NA         NA         NA\n",
            "4         NA         NA         NA         NA         NA         NA         NA\n",
            "5         NA         NA         NA         NA         NA         NA         NA\n",
            "6         NA         NA         NA         NA         NA         NA         NA\n",
            "  GA_Q14_2_9 GA_Q14_2_10 GA_MQ14_1T GA_MQ14_2_2 GA_MQ14_2_3 GA_MQ14_2_4\n",
            "1          0           0     898.72      570.72         328           0\n",
            "2         NA          NA         NA          NA          NA          NA\n",
            "3         NA          NA         NA          NA          NA          NA\n",
            "4         NA          NA         NA          NA          NA          NA\n",
            "5         NA          NA         NA          NA          NA          NA\n",
            "6         NA          NA         NA          NA          NA          NA\n",
            "  GA_MQ14_2_5 GA_MQ14_2_6 GA_MQ14_2_7 GA_MQ14_2_8 GA_MQ14_2_9 GA_MQ14_2_10\n",
            "1           0           0           0           0           0            0\n",
            "2          NA          NA          NA          NA          NA           NA\n",
            "3          NA          NA          NA          NA          NA           NA\n",
            "4          NA          NA          NA          NA          NA           NA\n",
            "5          NA          NA          NA          NA          NA           NA\n",
            "6          NA          NA          NA          NA          NA           NA\n",
            "  GA_CQ14_1T GA_CQ14_2_2 GA_CQ14_2_3 GA_CQ14_2_4 GA_CQ14_2_5 GA_CQ14_2_6\n",
            "1          2           4           4           1           1           1\n",
            "2         NA          NA          NA          NA          NA          NA\n",
            "3         NA          NA          NA          NA          NA          NA\n",
            "4         NA          NA          NA          NA          NA          NA\n",
            "5         NA          NA          NA          NA          NA          NA\n",
            "6         NA          NA          NA          NA          NA          NA\n",
            "  GA_CQ14_2_7 GA_CQ14_2_8 GA_CQ14_2_9 GA_CQ14_2_10 DAY_MQ14_1T DAY_I_MQ14_1T\n",
            "1           1           1           1            1   179.74400            NA\n",
            "2          NA          NA          NA           NA   261.30667     261.30667\n",
            "3          NA          NA          NA           NA    81.55501      81.55501\n",
            "4          NA          NA          NA           NA    82.82000      82.82000\n",
            "5          NA          NA          NA           NA    85.28000      85.28000\n",
            "6          NA          NA          NA           NA    55.68647      55.68647\n",
            "  DAY_A_MQ14_1T DAY_GA_MQ14_1T DAY_CQ14_1T DAY_I_CQ14_1T DAY_A_CQ14_1T\n",
            "1       179.744             NA           2            NA             2\n",
            "2            NA             NA           3             3            NA\n",
            "3            NA             NA           1             1            NA\n",
            "4            NA             NA           1             1            NA\n",
            "5            NA             NA           1             1            NA\n",
            "6            NA             NA           1             1            NA\n",
            "  DAY_GA_CQ14_1T Q15_1 Q15_2A1 Q15_2A2 Q15_2A3 Q15_2A4 Q15_2A5 Q15_2A6 Q15_2A7\n",
            "1             NA     4       4       4       4       4       4       4       4\n",
            "2             NA     4       4       4       3       4       3       4       4\n",
            "3             NA     5       4       4       3       4       3       4       4\n",
            "4             NA     5       4       5       5       5       5       5       5\n",
            "5             NA     4       5       4       5       3       5       5       5\n",
            "6             NA     4       5       5       5       5       3       4       5\n",
            "  Q15_2A8 Q15_2A9 Q15_2A10 Q15_2A11 Q15_2A12 Q16 Q17  Q18      ID D_MON D_QUA\n",
            "1       4       4        4        4        4   3   3 9840 1200208    12     4\n",
            "2       5       5        3        4        5   4   4   NA 1200209    12     4\n",
            "3       3       3        3        4        0   4   4   NA 1200210    12     4\n",
            "4       5       5        4        4        4   5   5   NA 1200288    12     4\n",
            "5       5       5        4        5        4   4   4   NA 1200632    12     4\n",
            "6       5       4        3        4        0   4   4   NA 1200633    12     4\n",
            "  D_COU1 D_COU2 D_GEN D_AGE D_Q5_1 D_Q12 D_Q1 D_Q1A CITY        WT\n",
            "1      5     NA     2     3      1     2    1     1 1331 1.2140427\n",
            "2      5     NA     1     2      1     1    4     2 1331 0.9449210\n",
            "3      5     NA     2     2      1     1    1     1 1331 0.8793223\n",
            "4      5     NA     2     5      3     1    1     1 1331 0.8557239\n",
            "5      5     NA     1     2      1     1    1     1 1331 0.9449210\n",
            "6      5     NA     2     2      1     1    1     1 1331 0.8793223\n"
          ]
        }
      ]
    },
    {
      "cell_type": "markdown",
      "source": [
        "# 기술통계"
      ],
      "metadata": {
        "id": "YhJb-iLGRORm"
      }
    },
    {
      "cell_type": "code",
      "source": [
        "# %%R\n",
        "# tw_data_ex$visit_bi <- factor(as.numeric(tw_data_ex$visit_bi), labels=c('방문예정','방문비예정'))\n",
        "# #table(Dataset$gender)\n",
        "# frq(tw_data_ex$visit_bi, out = \"v\")"
      ],
      "metadata": {
        "id": "HhU2zaugRQx3",
        "colab": {
          "base_uri": "https://localhost:8080/",
          "height": 1000
        },
        "outputId": "9c308162-0aa2-4b9b-8013-ffcd45ea23f6"
      },
      "execution_count": null,
      "outputs": [
        {
          "output_type": "stream",
          "name": "stderr",
          "text": [
            "R[write to console]: Error in factor(as.numeric(tw_data_ex$visit_bi), labels = c(\"방문예정\",  : \n",
            "  invalid 'labels'; length 2 should be 1 or 0\n",
            "\n",
            "R[write to console]: In addition: \n",
            "R[write to console]: Warning messages:\n",
            "\n",
            "R[write to console]: 1: \n",
            "R[write to console]: In library(package, lib.loc = lib.loc, character.only = TRUE, logical.return = TRUE,  :\n",
            "R[write to console]: \n",
            " \n",
            "R[write to console]:  there is no package called ‘DiagrammeRsvg’\n",
            "\n",
            "R[write to console]: 2: \n",
            "R[write to console]: In library(package, lib.loc = lib.loc, character.only = TRUE, logical.return = TRUE,  :\n",
            "R[write to console]: \n",
            " \n",
            "R[write to console]:  there is no package called ‘DiagrammeR’\n",
            "\n",
            "R[write to console]: 3: \n",
            "R[write to console]: In library(package, lib.loc = lib.loc, character.only = TRUE, logical.return = TRUE,  :\n",
            "R[write to console]: \n",
            " \n",
            "R[write to console]:  there is no package called ‘pacman’\n",
            "\n",
            "R[write to console]: 4: \n",
            "R[write to console]: In library(package, lib.loc = lib.loc, character.only = TRUE, logical.return = TRUE,  :\n",
            "R[write to console]: \n",
            " \n",
            "R[write to console]:  there is no package called ‘astsa’\n",
            "\n"
          ]
        },
        {
          "output_type": "stream",
          "name": "stdout",
          "text": [
            "\n",
            "Error in factor(as.numeric(tw_data_ex$visit_bi), labels = c(\"방문예정\",  : \n",
            "  invalid 'labels'; length 2 should be 1 or 0\n"
          ]
        },
        {
          "output_type": "error",
          "ename": "RInterpreterError",
          "evalue": "ignored",
          "traceback": [
            "\u001b[0;31m---------------------------------------------------------------------------\u001b[0m",
            "\u001b[0;31mRRuntimeError\u001b[0m                             Traceback (most recent call last)",
            "\u001b[0;32m/usr/local/lib/python3.7/dist-packages/rpy2/ipython/rmagic.py\u001b[0m in \u001b[0;36meval\u001b[0;34m(self, code)\u001b[0m\n\u001b[1;32m    267\u001b[0m                 \u001b[0;31m# Need the newline in case the last line in code is a comment.\u001b[0m\u001b[0;34m\u001b[0m\u001b[0;34m\u001b[0m\u001b[0;34m\u001b[0m\u001b[0m\n\u001b[0;32m--> 268\u001b[0;31m                 \u001b[0mvalue\u001b[0m\u001b[0;34m,\u001b[0m \u001b[0mvisible\u001b[0m \u001b[0;34m=\u001b[0m \u001b[0mro\u001b[0m\u001b[0;34m.\u001b[0m\u001b[0mr\u001b[0m\u001b[0;34m(\u001b[0m\u001b[0;34m\"withVisible({%s\\n})\"\u001b[0m \u001b[0;34m%\u001b[0m \u001b[0mcode\u001b[0m\u001b[0;34m)\u001b[0m\u001b[0;34m\u001b[0m\u001b[0;34m\u001b[0m\u001b[0m\n\u001b[0m\u001b[1;32m    269\u001b[0m             \u001b[0;32mexcept\u001b[0m \u001b[0;34m(\u001b[0m\u001b[0mri\u001b[0m\u001b[0;34m.\u001b[0m\u001b[0membedded\u001b[0m\u001b[0;34m.\u001b[0m\u001b[0mRRuntimeError\u001b[0m\u001b[0;34m,\u001b[0m \u001b[0mValueError\u001b[0m\u001b[0;34m)\u001b[0m \u001b[0;32mas\u001b[0m \u001b[0mexception\u001b[0m\u001b[0;34m:\u001b[0m\u001b[0;34m\u001b[0m\u001b[0;34m\u001b[0m\u001b[0m\n",
            "\u001b[0;32m/usr/local/lib/python3.7/dist-packages/rpy2/robjects/__init__.py\u001b[0m in \u001b[0;36m__call__\u001b[0;34m(self, string)\u001b[0m\n\u001b[1;32m    437\u001b[0m         \u001b[0mp\u001b[0m \u001b[0;34m=\u001b[0m \u001b[0mrinterface\u001b[0m\u001b[0;34m.\u001b[0m\u001b[0mparse\u001b[0m\u001b[0;34m(\u001b[0m\u001b[0mstring\u001b[0m\u001b[0;34m)\u001b[0m\u001b[0;34m\u001b[0m\u001b[0;34m\u001b[0m\u001b[0m\n\u001b[0;32m--> 438\u001b[0;31m         \u001b[0mres\u001b[0m \u001b[0;34m=\u001b[0m \u001b[0mself\u001b[0m\u001b[0;34m.\u001b[0m\u001b[0meval\u001b[0m\u001b[0;34m(\u001b[0m\u001b[0mp\u001b[0m\u001b[0;34m)\u001b[0m\u001b[0;34m\u001b[0m\u001b[0;34m\u001b[0m\u001b[0m\n\u001b[0m\u001b[1;32m    439\u001b[0m         \u001b[0;32mreturn\u001b[0m \u001b[0mconversion\u001b[0m\u001b[0;34m.\u001b[0m\u001b[0mrpy2py\u001b[0m\u001b[0;34m(\u001b[0m\u001b[0mres\u001b[0m\u001b[0;34m)\u001b[0m\u001b[0;34m\u001b[0m\u001b[0;34m\u001b[0m\u001b[0m\n",
            "\u001b[0;32m/usr/local/lib/python3.7/dist-packages/rpy2/robjects/functions.py\u001b[0m in \u001b[0;36m__call__\u001b[0;34m(self, *args, **kwargs)\u001b[0m\n\u001b[1;32m    198\u001b[0m         return (super(SignatureTranslatedFunction, self)\n\u001b[0;32m--> 199\u001b[0;31m                 .__call__(*args, **kwargs))\n\u001b[0m\u001b[1;32m    200\u001b[0m \u001b[0;34m\u001b[0m\u001b[0m\n",
            "\u001b[0;32m/usr/local/lib/python3.7/dist-packages/rpy2/robjects/functions.py\u001b[0m in \u001b[0;36m__call__\u001b[0;34m(self, *args, **kwargs)\u001b[0m\n\u001b[1;32m    124\u001b[0m                 \u001b[0mnew_kwargs\u001b[0m\u001b[0;34m[\u001b[0m\u001b[0mk\u001b[0m\u001b[0;34m]\u001b[0m \u001b[0;34m=\u001b[0m \u001b[0mconversion\u001b[0m\u001b[0;34m.\u001b[0m\u001b[0mpy2rpy\u001b[0m\u001b[0;34m(\u001b[0m\u001b[0mv\u001b[0m\u001b[0;34m)\u001b[0m\u001b[0;34m\u001b[0m\u001b[0;34m\u001b[0m\u001b[0m\n\u001b[0;32m--> 125\u001b[0;31m         \u001b[0mres\u001b[0m \u001b[0;34m=\u001b[0m \u001b[0msuper\u001b[0m\u001b[0;34m(\u001b[0m\u001b[0mFunction\u001b[0m\u001b[0;34m,\u001b[0m \u001b[0mself\u001b[0m\u001b[0;34m)\u001b[0m\u001b[0;34m.\u001b[0m\u001b[0m__call__\u001b[0m\u001b[0;34m(\u001b[0m\u001b[0;34m*\u001b[0m\u001b[0mnew_args\u001b[0m\u001b[0;34m,\u001b[0m \u001b[0;34m**\u001b[0m\u001b[0mnew_kwargs\u001b[0m\u001b[0;34m)\u001b[0m\u001b[0;34m\u001b[0m\u001b[0;34m\u001b[0m\u001b[0m\n\u001b[0m\u001b[1;32m    126\u001b[0m         \u001b[0mres\u001b[0m \u001b[0;34m=\u001b[0m \u001b[0mconversion\u001b[0m\u001b[0;34m.\u001b[0m\u001b[0mrpy2py\u001b[0m\u001b[0;34m(\u001b[0m\u001b[0mres\u001b[0m\u001b[0;34m)\u001b[0m\u001b[0;34m\u001b[0m\u001b[0;34m\u001b[0m\u001b[0m\n",
            "\u001b[0;32m/usr/local/lib/python3.7/dist-packages/rpy2/rinterface_lib/conversion.py\u001b[0m in \u001b[0;36m_\u001b[0;34m(*args, **kwargs)\u001b[0m\n\u001b[1;32m     44\u001b[0m     \u001b[0;32mdef\u001b[0m \u001b[0m_\u001b[0m\u001b[0;34m(\u001b[0m\u001b[0;34m*\u001b[0m\u001b[0margs\u001b[0m\u001b[0;34m,\u001b[0m \u001b[0;34m**\u001b[0m\u001b[0mkwargs\u001b[0m\u001b[0;34m)\u001b[0m\u001b[0;34m:\u001b[0m\u001b[0;34m\u001b[0m\u001b[0;34m\u001b[0m\u001b[0m\n\u001b[0;32m---> 45\u001b[0;31m         \u001b[0mcdata\u001b[0m \u001b[0;34m=\u001b[0m \u001b[0mfunction\u001b[0m\u001b[0;34m(\u001b[0m\u001b[0;34m*\u001b[0m\u001b[0margs\u001b[0m\u001b[0;34m,\u001b[0m \u001b[0;34m**\u001b[0m\u001b[0mkwargs\u001b[0m\u001b[0;34m)\u001b[0m\u001b[0;34m\u001b[0m\u001b[0;34m\u001b[0m\u001b[0m\n\u001b[0m\u001b[1;32m     46\u001b[0m         \u001b[0;31m# TODO: test cdata is of the expected CType\u001b[0m\u001b[0;34m\u001b[0m\u001b[0;34m\u001b[0m\u001b[0;34m\u001b[0m\u001b[0m\n",
            "\u001b[0;32m/usr/local/lib/python3.7/dist-packages/rpy2/rinterface.py\u001b[0m in \u001b[0;36m__call__\u001b[0;34m(self, *args, **kwargs)\u001b[0m\n\u001b[1;32m    679\u001b[0m             \u001b[0;32mif\u001b[0m \u001b[0merror_occured\u001b[0m\u001b[0;34m[\u001b[0m\u001b[0;36m0\u001b[0m\u001b[0;34m]\u001b[0m\u001b[0;34m:\u001b[0m\u001b[0;34m\u001b[0m\u001b[0;34m\u001b[0m\u001b[0m\n\u001b[0;32m--> 680\u001b[0;31m                 \u001b[0;32mraise\u001b[0m \u001b[0membedded\u001b[0m\u001b[0;34m.\u001b[0m\u001b[0mRRuntimeError\u001b[0m\u001b[0;34m(\u001b[0m\u001b[0m_rinterface\u001b[0m\u001b[0;34m.\u001b[0m\u001b[0m_geterrmessage\u001b[0m\u001b[0;34m(\u001b[0m\u001b[0;34m)\u001b[0m\u001b[0;34m)\u001b[0m\u001b[0;34m\u001b[0m\u001b[0;34m\u001b[0m\u001b[0m\n\u001b[0m\u001b[1;32m    681\u001b[0m         \u001b[0;32mreturn\u001b[0m \u001b[0mres\u001b[0m\u001b[0;34m\u001b[0m\u001b[0;34m\u001b[0m\u001b[0m\n",
            "\u001b[0;31mRRuntimeError\u001b[0m: Error in factor(as.numeric(tw_data_ex$visit_bi), labels = c(\"방문예정\",  : \n  invalid 'labels'; length 2 should be 1 or 0\n",
            "\nDuring handling of the above exception, another exception occurred:\n",
            "\u001b[0;31mRInterpreterError\u001b[0m                         Traceback (most recent call last)",
            "\u001b[0;32m<ipython-input-49-1771f7afb348>\u001b[0m in \u001b[0;36m<module>\u001b[0;34m()\u001b[0m\n\u001b[0;32m----> 1\u001b[0;31m \u001b[0mget_ipython\u001b[0m\u001b[0;34m(\u001b[0m\u001b[0;34m)\u001b[0m\u001b[0;34m.\u001b[0m\u001b[0mrun_cell_magic\u001b[0m\u001b[0;34m(\u001b[0m\u001b[0;34m'R'\u001b[0m\u001b[0;34m,\u001b[0m \u001b[0;34m''\u001b[0m\u001b[0;34m,\u001b[0m \u001b[0;34m'tw_data_ex$visit_bi <- factor(as.numeric(tw_data_ex$visit_bi), labels=c(\\'방문예정\\',\\'방문비예정\\'))\\n#table(Dataset$gender)\\nfrq(tw_data_ex$visit_bi, out = \"v\")'\u001b[0m\u001b[0;34m)\u001b[0m\u001b[0;34m\u001b[0m\u001b[0;34m\u001b[0m\u001b[0m\n\u001b[0m",
            "\u001b[0;32m/usr/local/lib/python3.7/dist-packages/IPython/core/interactiveshell.py\u001b[0m in \u001b[0;36mrun_cell_magic\u001b[0;34m(self, magic_name, line, cell)\u001b[0m\n\u001b[1;32m   2115\u001b[0m             \u001b[0mmagic_arg_s\u001b[0m \u001b[0;34m=\u001b[0m \u001b[0mself\u001b[0m\u001b[0;34m.\u001b[0m\u001b[0mvar_expand\u001b[0m\u001b[0;34m(\u001b[0m\u001b[0mline\u001b[0m\u001b[0;34m,\u001b[0m \u001b[0mstack_depth\u001b[0m\u001b[0;34m)\u001b[0m\u001b[0;34m\u001b[0m\u001b[0;34m\u001b[0m\u001b[0m\n\u001b[1;32m   2116\u001b[0m             \u001b[0;32mwith\u001b[0m \u001b[0mself\u001b[0m\u001b[0;34m.\u001b[0m\u001b[0mbuiltin_trap\u001b[0m\u001b[0;34m:\u001b[0m\u001b[0;34m\u001b[0m\u001b[0;34m\u001b[0m\u001b[0m\n\u001b[0;32m-> 2117\u001b[0;31m                 \u001b[0mresult\u001b[0m \u001b[0;34m=\u001b[0m \u001b[0mfn\u001b[0m\u001b[0;34m(\u001b[0m\u001b[0mmagic_arg_s\u001b[0m\u001b[0;34m,\u001b[0m \u001b[0mcell\u001b[0m\u001b[0;34m)\u001b[0m\u001b[0;34m\u001b[0m\u001b[0;34m\u001b[0m\u001b[0m\n\u001b[0m\u001b[1;32m   2118\u001b[0m             \u001b[0;32mreturn\u001b[0m \u001b[0mresult\u001b[0m\u001b[0;34m\u001b[0m\u001b[0;34m\u001b[0m\u001b[0m\n\u001b[1;32m   2119\u001b[0m \u001b[0;34m\u001b[0m\u001b[0m\n",
            "\u001b[0;32m<decorator-gen-119>\u001b[0m in \u001b[0;36mR\u001b[0;34m(self, line, cell, local_ns)\u001b[0m\n",
            "\u001b[0;32m/usr/local/lib/python3.7/dist-packages/IPython/core/magic.py\u001b[0m in \u001b[0;36m<lambda>\u001b[0;34m(f, *a, **k)\u001b[0m\n\u001b[1;32m    186\u001b[0m     \u001b[0;31m# but it's overkill for just that one bit of state.\u001b[0m\u001b[0;34m\u001b[0m\u001b[0;34m\u001b[0m\u001b[0;34m\u001b[0m\u001b[0m\n\u001b[1;32m    187\u001b[0m     \u001b[0;32mdef\u001b[0m \u001b[0mmagic_deco\u001b[0m\u001b[0;34m(\u001b[0m\u001b[0marg\u001b[0m\u001b[0;34m)\u001b[0m\u001b[0;34m:\u001b[0m\u001b[0;34m\u001b[0m\u001b[0;34m\u001b[0m\u001b[0m\n\u001b[0;32m--> 188\u001b[0;31m         \u001b[0mcall\u001b[0m \u001b[0;34m=\u001b[0m \u001b[0;32mlambda\u001b[0m \u001b[0mf\u001b[0m\u001b[0;34m,\u001b[0m \u001b[0;34m*\u001b[0m\u001b[0ma\u001b[0m\u001b[0;34m,\u001b[0m \u001b[0;34m**\u001b[0m\u001b[0mk\u001b[0m\u001b[0;34m:\u001b[0m \u001b[0mf\u001b[0m\u001b[0;34m(\u001b[0m\u001b[0;34m*\u001b[0m\u001b[0ma\u001b[0m\u001b[0;34m,\u001b[0m \u001b[0;34m**\u001b[0m\u001b[0mk\u001b[0m\u001b[0;34m)\u001b[0m\u001b[0;34m\u001b[0m\u001b[0;34m\u001b[0m\u001b[0m\n\u001b[0m\u001b[1;32m    189\u001b[0m \u001b[0;34m\u001b[0m\u001b[0m\n\u001b[1;32m    190\u001b[0m         \u001b[0;32mif\u001b[0m \u001b[0mcallable\u001b[0m\u001b[0;34m(\u001b[0m\u001b[0marg\u001b[0m\u001b[0;34m)\u001b[0m\u001b[0;34m:\u001b[0m\u001b[0;34m\u001b[0m\u001b[0;34m\u001b[0m\u001b[0m\n",
            "\u001b[0;32m/usr/local/lib/python3.7/dist-packages/rpy2/ipython/rmagic.py\u001b[0m in \u001b[0;36mR\u001b[0;34m(self, line, cell, local_ns)\u001b[0m\n\u001b[1;32m    781\u001b[0m             \u001b[0;32mif\u001b[0m \u001b[0;32mnot\u001b[0m \u001b[0me\u001b[0m\u001b[0;34m.\u001b[0m\u001b[0mstdout\u001b[0m\u001b[0;34m.\u001b[0m\u001b[0mendswith\u001b[0m\u001b[0;34m(\u001b[0m\u001b[0me\u001b[0m\u001b[0;34m.\u001b[0m\u001b[0merr\u001b[0m\u001b[0;34m)\u001b[0m\u001b[0;34m:\u001b[0m\u001b[0;34m\u001b[0m\u001b[0;34m\u001b[0m\u001b[0m\n\u001b[1;32m    782\u001b[0m                 \u001b[0mprint\u001b[0m\u001b[0;34m(\u001b[0m\u001b[0me\u001b[0m\u001b[0;34m.\u001b[0m\u001b[0merr\u001b[0m\u001b[0;34m)\u001b[0m\u001b[0;34m\u001b[0m\u001b[0;34m\u001b[0m\u001b[0m\n\u001b[0;32m--> 783\u001b[0;31m             \u001b[0;32mraise\u001b[0m \u001b[0me\u001b[0m\u001b[0;34m\u001b[0m\u001b[0;34m\u001b[0m\u001b[0m\n\u001b[0m\u001b[1;32m    784\u001b[0m         \u001b[0;32mfinally\u001b[0m\u001b[0;34m:\u001b[0m\u001b[0;34m\u001b[0m\u001b[0;34m\u001b[0m\u001b[0m\n\u001b[1;32m    785\u001b[0m             \u001b[0;32mif\u001b[0m \u001b[0mself\u001b[0m\u001b[0;34m.\u001b[0m\u001b[0mdevice\u001b[0m \u001b[0;32min\u001b[0m \u001b[0;34m[\u001b[0m\u001b[0;34m'png'\u001b[0m\u001b[0;34m,\u001b[0m \u001b[0;34m'svg'\u001b[0m\u001b[0;34m]\u001b[0m\u001b[0;34m:\u001b[0m\u001b[0;34m\u001b[0m\u001b[0;34m\u001b[0m\u001b[0m\n",
            "\u001b[0;32m/usr/local/lib/python3.7/dist-packages/rpy2/ipython/rmagic.py\u001b[0m in \u001b[0;36mR\u001b[0;34m(self, line, cell, local_ns)\u001b[0m\n\u001b[1;32m    761\u001b[0m                     \u001b[0mreturn_output\u001b[0m \u001b[0;34m=\u001b[0m \u001b[0;32mFalse\u001b[0m\u001b[0;34m\u001b[0m\u001b[0;34m\u001b[0m\u001b[0m\n\u001b[1;32m    762\u001b[0m             \u001b[0;32melse\u001b[0m\u001b[0;34m:\u001b[0m\u001b[0;34m\u001b[0m\u001b[0;34m\u001b[0m\u001b[0m\n\u001b[0;32m--> 763\u001b[0;31m                 \u001b[0mtext_result\u001b[0m\u001b[0;34m,\u001b[0m \u001b[0mresult\u001b[0m\u001b[0;34m,\u001b[0m \u001b[0mvisible\u001b[0m \u001b[0;34m=\u001b[0m \u001b[0mself\u001b[0m\u001b[0;34m.\u001b[0m\u001b[0meval\u001b[0m\u001b[0;34m(\u001b[0m\u001b[0mcode\u001b[0m\u001b[0;34m)\u001b[0m\u001b[0;34m\u001b[0m\u001b[0;34m\u001b[0m\u001b[0m\n\u001b[0m\u001b[1;32m    764\u001b[0m                 \u001b[0mtext_output\u001b[0m \u001b[0;34m+=\u001b[0m \u001b[0mtext_result\u001b[0m\u001b[0;34m\u001b[0m\u001b[0;34m\u001b[0m\u001b[0m\n\u001b[1;32m    765\u001b[0m                 \u001b[0;32mif\u001b[0m \u001b[0mvisible\u001b[0m\u001b[0;34m:\u001b[0m\u001b[0;34m\u001b[0m\u001b[0;34m\u001b[0m\u001b[0m\n",
            "\u001b[0;32m/usr/local/lib/python3.7/dist-packages/rpy2/ipython/rmagic.py\u001b[0m in \u001b[0;36meval\u001b[0;34m(self, code)\u001b[0m\n\u001b[1;32m    271\u001b[0m                 \u001b[0mwarning_or_other_msg\u001b[0m \u001b[0;34m=\u001b[0m \u001b[0mself\u001b[0m\u001b[0;34m.\u001b[0m\u001b[0mflush\u001b[0m\u001b[0;34m(\u001b[0m\u001b[0;34m)\u001b[0m\u001b[0;34m\u001b[0m\u001b[0;34m\u001b[0m\u001b[0m\n\u001b[1;32m    272\u001b[0m                 raise RInterpreterError(code, str(exception),\n\u001b[0;32m--> 273\u001b[0;31m                                         warning_or_other_msg)\n\u001b[0m\u001b[1;32m    274\u001b[0m             \u001b[0mtext_output\u001b[0m \u001b[0;34m=\u001b[0m \u001b[0mself\u001b[0m\u001b[0;34m.\u001b[0m\u001b[0mflush\u001b[0m\u001b[0;34m(\u001b[0m\u001b[0;34m)\u001b[0m\u001b[0;34m\u001b[0m\u001b[0;34m\u001b[0m\u001b[0m\n\u001b[1;32m    275\u001b[0m             \u001b[0;32mreturn\u001b[0m \u001b[0mtext_output\u001b[0m\u001b[0;34m,\u001b[0m \u001b[0mvalue\u001b[0m\u001b[0;34m,\u001b[0m \u001b[0mvisible\u001b[0m\u001b[0;34m[\u001b[0m\u001b[0;36m0\u001b[0m\u001b[0;34m]\u001b[0m\u001b[0;34m\u001b[0m\u001b[0;34m\u001b[0m\u001b[0m\n",
            "\u001b[0;31mRInterpreterError\u001b[0m: Failed to parse and evaluate line 'tw_data_ex$visit_bi <- factor(as.numeric(tw_data_ex$visit_bi), labels=c(\\'방문예정\\',\\'방문비예정\\'))\\n#table(Dataset$gender)\\nfrq(tw_data_ex$visit_bi, out = \"v\")'.\nR error message: 'Error in factor(as.numeric(tw_data_ex$visit_bi), labels = c(\"방문예정\",  : \\n  invalid \\'labels\\'; length 2 should be 1 or 0'"
          ]
        }
      ]
    },
    {
      "cell_type": "markdown",
      "source": [
        "## 추리통계"
      ],
      "metadata": {
        "id": "-jkBI-t7QqDm"
      }
    },
    {
      "cell_type": "markdown",
      "source": [
        "### 회귀분석: 변수(들)이 하나의 종속변수에 미치는 영향력을 보기 위한 분석, 독립변수와 종속변수 모두 양적변수"
      ],
      "metadata": {
        "id": "INjSKcT1Qs-Y"
      }
    },
    {
      "cell_type": "markdown",
      "source": [
        "#### 단순회귀분석 : 독립변수(방한 목적), 종속변수(총 숙박기간)"
      ],
      "metadata": {
        "id": "4IiDae4kQv3T"
      }
    },
    {
      "cell_type": "code",
      "source": [
        "%%R\n",
        "mod1=lm(CQ10_6A1 ~ D_Q5_1, data=tw_data)\n",
        "summary(mod1)"
      ],
      "metadata": {
        "colab": {
          "base_uri": "https://localhost:8080/"
        },
        "outputId": "4861ef2d-10c1-4204-f1cf-5bd9b45c9ee1",
        "id": "gVrwoDi8xDqF"
      },
      "execution_count": null,
      "outputs": [
        {
          "output_type": "stream",
          "name": "stdout",
          "text": [
            "\n",
            "Call:\n",
            "lm(formula = CQ10_6A1 ~ D_Q5_1, data = tw_data)\n",
            "\n",
            "Residuals:\n",
            "   Min     1Q Median     3Q    Max \n",
            "-3.840 -0.840 -0.202 -0.202  9.798 \n",
            "\n",
            "Coefficients:\n",
            "            Estimate Std. Error t value Pr(>|t|)    \n",
            "(Intercept)  3.88301    0.10192  38.100  < 2e-16 ***\n",
            "D_Q5_1       0.31899    0.06909   4.617 4.31e-06 ***\n",
            "---\n",
            "Signif. codes:  0 ‘***’ 0.001 ‘**’ 0.01 ‘*’ 0.05 ‘.’ 0.1 ‘ ’ 1\n",
            "\n",
            "Residual standard error: 1.704 on 1220 degrees of freedom\n",
            "Multiple R-squared:  0.01717,\tAdjusted R-squared:  0.01637 \n",
            "F-statistic: 21.32 on 1 and 1220 DF,  p-value: 4.305e-06\n",
            "\n"
          ]
        }
      ]
    },
    {
      "cell_type": "markdown",
      "source": [
        "#### 다중회귀분석 : 독립변수(관광지 매력도(Q15_2A6), 방한목적(Q5_1), 선택 고려요인Q5_2A1,Q5_2A2,Q5_2A3), 종속변수(총 숙박기간, CQ10_6A1)"
      ],
      "metadata": {
        "id": "mZxKQLTixDqH"
      }
    },
    {
      "cell_type": "code",
      "source": [
        "%%R\n",
        "mod2=lm(CQ10_6A1 ~ Q15_2A6+Q5_1+Q5_2A1+Q5_2A2+Q5_2A3, data=tw_data)\n",
        "summary(mod2)"
      ],
      "metadata": {
        "id": "Hj4LwJWl3U9X",
        "colab": {
          "base_uri": "https://localhost:8080/"
        },
        "outputId": "e8da8d90-6b7e-4de9-89d7-e47798b2aaf9"
      },
      "execution_count": null,
      "outputs": [
        {
          "output_type": "stream",
          "name": "stdout",
          "text": [
            "\n",
            "Call:\n",
            "lm(formula = CQ10_6A1 ~ Q15_2A6 + Q5_1 + Q5_2A1 + Q5_2A2 + Q5_2A3, \n",
            "    data = tw_data)\n",
            "\n",
            "Residuals:\n",
            "    Min      1Q  Median      3Q     Max \n",
            "-3.9805 -0.3389 -0.2332 -0.0537 10.0103 \n",
            "\n",
            "Coefficients:\n",
            "            Estimate Std. Error t value Pr(>|t|)    \n",
            "(Intercept)  2.77854    0.36903   7.529 1.16e-13 ***\n",
            "Q15_2A6      0.10256    0.05570   1.841 0.065872 .  \n",
            "Q5_1         0.93912    0.25142   3.735 0.000198 ***\n",
            "Q5_2A1       0.01292    0.01522   0.849 0.396116    \n",
            "Q5_2A2      -0.01109    0.01566  -0.708 0.479004    \n",
            "Q5_2A3       0.01154    0.01259   0.916 0.359638    \n",
            "---\n",
            "Signif. codes:  0 ‘***’ 0.001 ‘**’ 0.01 ‘*’ 0.05 ‘.’ 0.1 ‘ ’ 1\n",
            "\n",
            "Residual standard error: 1.397 on 977 degrees of freedom\n",
            "  (239 observations deleted due to missingness)\n",
            "Multiple R-squared:  0.01897,\tAdjusted R-squared:  0.01395 \n",
            "F-statistic: 3.779 on 5 and 977 DF,  p-value: 0.002146\n",
            "\n"
          ]
        }
      ]
    },
    {
      "cell_type": "code",
      "source": [
        "%%R\n",
        "stargazer(mod2, type = \"text\", report = \"vct*\", star.cutoffs = c(0.05, 0.01, 0.001),\n",
        "          column.labels = c(\"coef\"), \n",
        "          single.row = TRUE)"
      ],
      "metadata": {
        "id": "uLa_ey-c3kEY",
        "colab": {
          "base_uri": "https://localhost:8080/"
        },
        "outputId": "dfc93382-e97a-4ee5-bfb8-bd99bfb25f14"
      },
      "execution_count": null,
      "outputs": [
        {
          "output_type": "stream",
          "name": "stdout",
          "text": [
            "\n",
            "=================================================\n",
            "                         Dependent variable:     \n",
            "                    -----------------------------\n",
            "                              CQ10_6A1           \n",
            "                                coef             \n",
            "-------------------------------------------------\n",
            "Q15_2A6                         0.103            \n",
            "                              t = 1.841          \n",
            "Q5_1                            0.939            \n",
            "                            t = 3.735***         \n",
            "Q5_2A1                          0.013            \n",
            "                              t = 0.849          \n",
            "Q5_2A2                         -0.011            \n",
            "                             t = -0.708          \n",
            "Q5_2A3                          0.012            \n",
            "                              t = 0.916          \n",
            "Constant                        2.779            \n",
            "                            t = 7.529***         \n",
            "-------------------------------------------------\n",
            "Observations                     983             \n",
            "R2                              0.019            \n",
            "Adjusted R2                     0.014            \n",
            "Residual Std. Error       1.397 (df = 977)       \n",
            "F Statistic             3.779** (df = 5; 977)    \n",
            "=================================================\n",
            "Note:               *p<0.05; **p<0.01; ***p<0.001\n"
          ]
        }
      ]
    },
    {
      "cell_type": "code",
      "source": [
        "%%R\n",
        "report(mod2)"
      ],
      "metadata": {
        "id": "D1aLUYA73lYI",
        "colab": {
          "base_uri": "https://localhost:8080/"
        },
        "outputId": "06faf93f-59db-42d8-ac2e-107c3a319756"
      },
      "execution_count": null,
      "outputs": [
        {
          "output_type": "stream",
          "name": "stdout",
          "text": [
            "We fitted a linear model (estimated using OLS) to predict CQ10_6A1 with Q15_2A6, Q5_1, Q5_2A1, Q5_2A2 and Q5_2A3 (formula: CQ10_6A1 ~ Q15_2A6 + Q5_1 + Q5_2A1 + Q5_2A2 + Q5_2A3). The model explains a statistically significant and very weak proportion of variance (R2 = 0.02, F(5, 977) = 3.78, p = 0.002, adj. R2 = 0.01). The model's intercept, corresponding to Q15_2A6 = 0, Q5_1 = 0, Q5_2A1 = 0, Q5_2A2 = 0 and Q5_2A3 = 0, is at 2.78 (95% CI [2.05, 3.50], t(977) = 7.53, p < .001). Within this model:\n",
            "\n",
            "  - The effect of Q15 2A6 is statistically non-significant and positive (beta = 0.10, 95% CI [-6.74e-03, 0.21], t(977) = 1.84, p = 0.066; Std. beta = 0.06, 95% CI [-3.84e-03, 0.12])\n",
            "  - The effect of Q5 1 is statistically significant and positive (beta = 0.94, 95% CI [0.45, 1.43], t(977) = 3.74, p < .001; Std. beta = 0.12, 95% CI [0.06, 0.18])\n",
            "  - The effect of Q5 2A1 is statistically non-significant and positive (beta = 0.01, 95% CI [-0.02, 0.04], t(977) = 0.85, p = 0.396; Std. beta = 0.03, 95% CI [-0.04, 0.09])\n",
            "  - The effect of Q5 2A2 is statistically non-significant and negative (beta = -0.01, 95% CI [-0.04, 0.02], t(977) = -0.71, p = 0.479; Std. beta = -0.02, 95% CI [-0.09, 0.04])\n",
            "  - The effect of Q5 2A3 is statistically non-significant and positive (beta = 0.01, 95% CI [-0.01, 0.04], t(977) = 0.92, p = 0.360; Std. beta = 0.03, 95% CI [-0.03, 0.09])\n",
            "\n",
            "Standardized parameters were obtained by fitting the model on a standardized version of the dataset. 95% Confidence Intervals (CIs) and p-values were computed using the Wald approximation."
          ]
        }
      ]
    },
    {
      "cell_type": "code",
      "source": [
        "%%R\n",
        "equatiomatic::extract_eq(mod2, use_coefs = TRUE)"
      ],
      "metadata": {
        "id": "gGzzN4-c3nGA",
        "colab": {
          "base_uri": "https://localhost:8080/"
        },
        "outputId": "51ff773f-674e-451b-c2f3-a573db65a129"
      },
      "execution_count": null,
      "outputs": [
        {
          "output_type": "stream",
          "name": "stdout",
          "text": [
            "$$\n",
            "\\operatorname{\\widehat{CQ10\\_6A1}} = 2.78 + 0.1(\\operatorname{Q15\\_2A6}) + 0.94(\\operatorname{Q5\\_1}) + 0.01(\\operatorname{Q5\\_2A1}) - 0.01(\\operatorname{Q5\\_2A2}) + 0.01(\\operatorname{Q5\\_2A3})\n",
            "$$\n"
          ]
        }
      ]
    },
    {
      "cell_type": "markdown",
      "source": [
        "$$\n",
        "\\operatorname{\\widehat{CQ10\\_6A1}} = 2.78 + 0.1(\\operatorname{Q15\\_2A6}) + 0.94(\\operatorname{Q5\\_1}) + 0.01(\\operatorname{Q5\\_2A1}) - 0.01(\\operatorname{Q5\\_2A2}) + 0.01(\\operatorname{Q5\\_2A3})\n",
        "$$"
      ],
      "metadata": {
        "id": "11fg4gTz3pD3"
      }
    },
    {
      "cell_type": "markdown",
      "source": [
        "#### 다중회귀분석: 독립변수(), 종속변수(총 방문객 수)"
      ],
      "metadata": {
        "id": "wmyJCl6KQ7PJ"
      }
    },
    {
      "cell_type": "markdown",
      "source": [
        "### 연관성분석: 변수A와 B가 얼마나 서로 관계가 있느냐?  \n",
        "\n",
        "*   교차분석: 질적변수간의 관계\n",
        "*   상관분석: 양적변수간의 관계"
      ],
      "metadata": {
        "id": "p6r3EajhRFv0"
      }
    },
    {
      "cell_type": "markdown",
      "source": [
        "#### 교차분석  : 방한목적 - 성별\n",
        "□ 질적변수(성별, 소득, 직업), 질적변수(성별, 소득, 직업): 성별 - 방한목적별"
      ],
      "metadata": {
        "id": "vIwDUT1_RInJ"
      }
    },
    {
      "cell_type": "code",
      "source": [
        "%%R\n",
        "# 교차분석 그래프 그리기와 통계분석\n",
        "# 교차분석 ct1, ct2 변수할당\n",
        "tw_data$ct1=tw_data$Q5_1; tw_data$ct2=tw_data$D_GEN\n",
        "# 추리통계학으로 확인하기\n",
        "CrossTable(tw_data$ct1, tw_data$ct2)\n",
        "mytable<-xtabs( ~ ct1+ct2,data=tw_data)\n",
        "chisq.test(mytable) "
      ],
      "metadata": {
        "id": "srCnOBrrFVvO",
        "colab": {
          "base_uri": "https://localhost:8080/"
        },
        "outputId": "4f1ce3a1-2880-4bf9-9c33-e7a2e44176b3"
      },
      "execution_count": null,
      "outputs": [
        {
          "output_type": "stream",
          "name": "stdout",
          "text": [
            "\n",
            " \n",
            "   Cell Contents\n",
            "|-------------------------|\n",
            "|                       N |\n",
            "| Chi-square contribution |\n",
            "|           N / Row Total |\n",
            "|           N / Col Total |\n",
            "|         N / Table Total |\n",
            "|-------------------------|\n",
            "\n",
            " \n",
            "Total Observations in Table:  1222 \n",
            "\n",
            " \n",
            "             | tw_data$ct2 \n",
            " tw_data$ct1 |         1 |         2 | Row Total | \n",
            "-------------|-----------|-----------|-----------|\n",
            "           1 |       311 |       713 |      1024 | \n",
            "             |     2.938 |     1.478 |           | \n",
            "             |     0.304 |     0.696 |     0.838 | \n",
            "             |     0.760 |     0.877 |           | \n",
            "             |     0.255 |     0.583 |           | \n",
            "-------------|-----------|-----------|-----------|\n",
            "           2 |        10 |        36 |        46 | \n",
            "             |     1.891 |     0.951 |           | \n",
            "             |     0.217 |     0.783 |     0.038 | \n",
            "             |     0.024 |     0.044 |           | \n",
            "             |     0.008 |     0.029 |           | \n",
            "-------------|-----------|-----------|-----------|\n",
            "           3 |        85 |        59 |       144 | \n",
            "             |    28.104 |    14.138 |           | \n",
            "             |     0.590 |     0.410 |     0.118 | \n",
            "             |     0.208 |     0.073 |           | \n",
            "             |     0.070 |     0.048 |           | \n",
            "-------------|-----------|-----------|-----------|\n",
            "           4 |         1 |         4 |         5 | \n",
            "             |     0.271 |     0.136 |           | \n",
            "             |     0.200 |     0.800 |     0.004 | \n",
            "             |     0.002 |     0.005 |           | \n",
            "             |     0.001 |     0.003 |           | \n",
            "-------------|-----------|-----------|-----------|\n",
            "           5 |         2 |         1 |         3 | \n",
            "             |     0.988 |     0.497 |           | \n",
            "             |     0.667 |     0.333 |     0.002 | \n",
            "             |     0.005 |     0.001 |           | \n",
            "             |     0.002 |     0.001 |           | \n",
            "-------------|-----------|-----------|-----------|\n",
            "Column Total |       409 |       813 |      1222 | \n",
            "             |     0.335 |     0.665 |           | \n",
            "-------------|-----------|-----------|-----------|\n",
            "\n",
            " \n",
            "\n",
            "\tPearson's Chi-squared test\n",
            "\n",
            "data:  mytable\n",
            "X-squared = 51.392, df = 4, p-value = 1.848e-10\n",
            "\n"
          ]
        }
      ]
    },
    {
      "cell_type": "markdown",
      "source": [
        "* ct1은 방한목적별(1:여가, 위락, 휴가, 2: 친구/친지 방문, 3: 사업/전문활동, 4: 교육, 5: 종교 및 순례)을, ct2는 성별(1:남자, 2:여자)를 얘기해 줌\n",
        "* 전체적으로 남자는 311(33.5%)명, 여자는 713(66.5%)명로 여자가 많음. 전체적으로 여가, 위락, 휴가를 즐기기위해 방문한 사람은 1024명(83.8%), 친구/친지 방문을 위해 방문한 사람은 46명(3.8%), 사업/전문활동을 위해 방문한 사람은 144명(11.8%),교육을 위해 방문한 사람은 5명(0.4%),종교 및 순례을 위해 방문한 사람은 3명(0.2%) 으로 나타났다.  \n",
        "* 표를 해석해보면, 대만 국적의 사람 중, 여행으로 방문하는 비율이 압도적으로 높았고, 사업/전문활동, 친구/친지 방문, 교육, 종교 및 순례 순으로 나타났다.\n"
      ],
      "metadata": {
        "id": "WTjX4mPdFZeW"
      }
    },
    {
      "cell_type": "markdown",
      "source": [
        "* chisq.test() 함수를 이용한 교차분석의 결과를 보면, p-value(유의확률)가 1.848e-10로 0.05보다 작아서 귀무가설을 기각하고 연구가설을 채택하여 성별과 방한 목적별의 변수와는 통계적으로 유의한 연관성이 있다고 할 수 있음\n",
        "  - 귀무가설: 성별과 개발이전에 방한 목적별과는 통계적으로 유의한 연관성 없다(채택되려면 p-value가 0.05보다 커야 함)\n",
        "  - 연구가설: 성별과 개발이전에 방한 목적별과는 통계적으로 유의한 연관성 있다(채택되려면 p-value가 0.05보다 작아야 함)"
      ],
      "metadata": {
        "id": "9X_IrtEeFY9m"
      }
    },
    {
      "cell_type": "markdown",
      "source": [
        "#### 상관분석  동반자수-1인평균지출경비(단체여행 총액)\n",
        "□ 양적변수(연령, 체류기간, 만족도, 방한횟수), 양적변수(연령, 체류기간, 만족도):\n",
        "\n",
        "총 체류기간(Q10_6A1) - 1인 평균 지출 경비 전체 총액(Q14_1T)"
      ],
      "metadata": {
        "id": "HwjAtM_9ROrQ"
      }
    },
    {
      "cell_type": "code",
      "source": [
        "%%R\n",
        "# 상관분석 x1, x2 변수할당\n",
        "tw_data$cor1=tw_data$Q10_6A1\n",
        "tw_data$cor2=tw_data$Q14_1T\n",
        "# 그래프로 이해하기\n",
        "ggplot(tw_data, aes(x=cor1, y=cor2)) + \n",
        "  geom_point(size = 3, color = \"red\")+ # 포인트색 설정: red(빨강)\n",
        "  xlab(' ') +             # x축이름 설정\n",
        "  ylab(' ')               # y축이름 설정"
      ],
      "metadata": {
        "id": "0Gt8H1wnFczO",
        "colab": {
          "base_uri": "https://localhost:8080/",
          "height": 497
        },
        "outputId": "124fd2fd-a679-4e17-b9ee-e2a4b989ba6b"
      },
      "execution_count": null,
      "outputs": [
        {
          "output_type": "display_data",
          "data": {
            "image/png": "[encoded data removed]"
          },
          "metadata": {}
        }
      ]
    },
    {
      "cell_type": "code",
      "source": [
        "%%R\n",
        "# 추리통계학으로 확인하기\n",
        "cor_test=cor.test(tw_data$cor1, tw_data$cor2)\n",
        "cor_test"
      ],
      "metadata": {
        "id": "8v09-vK6FhWm",
        "colab": {
          "base_uri": "https://localhost:8080/"
        },
        "outputId": "252c9972-b886-4b85-da2a-136951c1e4e0"
      },
      "execution_count": null,
      "outputs": [
        {
          "output_type": "stream",
          "name": "stdout",
          "text": [
            "\n",
            "\tPearson's product-moment correlation\n",
            "\n",
            "data:  tw_data$cor1 and tw_data$cor2\n",
            "t = 3.4294, df = 1220, p-value = 0.0006251\n",
            "alternative hypothesis: true correlation is not equal to 0\n",
            "95 percent confidence interval:\n",
            " 0.04186552 0.15295345\n",
            "sample estimates:\n",
            "       cor \n",
            "0.09771384 \n",
            "\n"
          ]
        }
      ]
    },
    {
      "cell_type": "markdown",
      "source": [
        "- Pearson 상관계수(r)는 0.554이고, 이에 대한 p-value는 0.0006251로서 기준이 되는 0.05보다 작은 값임 → 귀무가설 기각  \n",
        "- 이때 p-value가 기준값(critical value, criteria)보다 작아서(귀무가설 기각) 내재되어 있는 귀무가설(모집단에서 상관계수가 0이다, true correlation is equal to 0)을 기각하여 연구가설(모집단에서 상관계수는 0이 아니다, true correlation is not equal to 0)을 채택하게 되므로 두 변수(동반자수와 여행형태별 1인 평균 지출 경비)는 유의수준 0.05(95% 신뢰수준)에서 서로 상관관계()가 있다고 할 수 있음"
      ],
      "metadata": {
        "id": "tP7yOTkhFi1Y"
      }
    },
    {
      "cell_type": "code",
      "source": [
        "%%R\n",
        "# Correlations\n",
        "report(cor_test)\n",
        "#report(res2)"
      ],
      "metadata": {
        "id": "68cDXfWLFka2",
        "colab": {
          "base_uri": "https://localhost:8080/"
        },
        "outputId": "b347c13a-5750-4aed-83c7-3163b24da760"
      },
      "execution_count": null,
      "outputs": [
        {
          "output_type": "stream",
          "name": "stdout",
          "text": [
            "Effect sizes were labelled following Funder's (2019) recommendations.\n",
            "\n",
            "The Pearson's product-moment correlation between tw_data$cor1 and tw_data$cor2 is positive, statistically significant, and very small (r = 0.10, 95% CI [0.04, 0.15], t(1220) = 3.43, p < .001)"
          ]
        }
      ]
    },
    {
      "cell_type": "markdown",
      "source": [
        "tw_data$cor1과 tw_data$cor2 사이의 Pearson의 비교 상관 관계는 양수이며 통계적으로 유의하며 매우 작습니다(r = 0.10, 95% CI [0.04, 0.15], t(1220) = 3.43, p <.001)."
      ],
      "metadata": {
        "id": "PdZFPV9OyEbM"
      }
    },
    {
      "cell_type": "markdown",
      "source": [
        "## 차이분석: 질적 그룹변수에 따른 양적변수의 차이에 대한 추리통계"
      ],
      "metadata": {
        "id": "_WF0uGRhRZJL"
      }
    },
    {
      "cell_type": "markdown",
      "source": [
        "### t-test: 질적 그룹변수의 카테고리가 2개인 경우 (성별D_GEN - 방한목적Q5_1)\n",
        "성별에 따른 전체적인 한국여행 만족도의 차이"
      ],
      "metadata": {
        "id": "UiLhTr9eRa_5"
      }
    },
    {
      "cell_type": "code",
      "source": [
        "%%R\n",
        "### t-test\n",
        "# if (!require(lawstat)) {install.packages(\"lawstat\")\n",
        "#   library(lawstat)}\n",
        "print(leveneTest(tw_data$Q15_1, tw_data$D_GEN,                             # 형식: 양적변수, 질적변수\n",
        "            location = \"mean\", correction.method = \"zero.correction\"))"
      ],
      "metadata": {
        "id": "KE3CLr6yRihi",
        "colab": {
          "base_uri": "https://localhost:8080/"
        },
        "outputId": "f0aaf25b-4164-47ba-c72f-7220a5d0657c"
      },
      "execution_count": null,
      "outputs": [
        {
          "output_type": "stream",
          "name": "stdout",
          "text": [
            "Levene's Test for Homogeneity of Variance (center = median: \"mean\")\n",
            "        Df F value Pr(>F)\n",
            "group    1  0.1062 0.7445\n",
            "      1220               \n"
          ]
        }
      ]
    },
    {
      "cell_type": "code",
      "source": [
        "%%R\n",
        "print(t.test(tw_data$Q5_1 ~ tw_data$D_GEN, var.equal = T))\n",
        "# print(t.test(gender$sup_avg ~ analy_dataset$Q15_1, var.equal = F))"
      ],
      "metadata": {
        "id": "31DKGmv_5cnU",
        "colab": {
          "base_uri": "https://localhost:8080/"
        },
        "outputId": "423cdaa8-f68b-4f9f-befa-8102a602a9c8"
      },
      "execution_count": null,
      "outputs": [
        {
          "output_type": "stream",
          "name": "stdout",
          "text": [
            "\n",
            "\tTwo Sample t-test\n",
            "\n",
            "data:  tw_data$Q5_1 by tw_data$D_GEN\n",
            "t = 6.116, df = 1220, p-value = 1.29e-09\n",
            "alternative hypothesis: true difference in means between group 1 and group 2 is not equal to 0\n",
            "95 percent confidence interval:\n",
            " 0.1751633 0.3406178\n",
            "sample estimates:\n",
            "mean in group 1 mean in group 2 \n",
            "       1.466993        1.209102 \n",
            "\n"
          ]
        }
      ]
    },
    {
      "cell_type": "markdown",
      "source": [
        "두 표본 t-검정\n",
        "\n",
        "데이터: tw_data$Q5_1 x tw_data$D_GEN\n",
        "t = 6.203, df = 1220, p-값 = 1.29e-09\n",
        "대립 가설: 그룹 1과 그룹 2 사이의 평균의 실제 차이가 0이 아닙니다.\n",
        "95% 신뢰 구간:\n",
        "0.1751633 0.3406178\n",
        "표본 추정치:\n",
        "그룹 1의 평균, 그룹 2의 평균\n",
        "1.466993 1.209102"
      ],
      "metadata": {
        "id": "1Q0crBUoybYF"
      }
    },
    {
      "cell_type": "code",
      "source": [
        "%%R\n",
        "report(t.test(tw_data$Q5_1 ~ tw_data$D_GEN, var.equal = TRUE))"
      ],
      "metadata": {
        "id": "FbphW2ZH5c5G",
        "colab": {
          "base_uri": "https://localhost:8080/"
        },
        "outputId": "2830cb49-f316-4d68-e1cf-61b3f678a52c"
      },
      "execution_count": null,
      "outputs": [
        {
          "output_type": "stream",
          "name": "stdout",
          "text": [
            "Effect sizes were labelled following Cohen's (1988) recommendations.\n",
            "\n",
            "The Two Sample t-test testing the difference of tw_data$Q5_1 by tw_data$D_GEN (mean in group 1 = 1.47, mean in group 2 = 1.21) suggests that the effect is positive, statistically significant, and small (difference = 0.26, 95% CI [0.18, 0.34], t(1220) = 6.12, p < .001; Cohen's d = 0.37, 95% CI [0.25, 0.49])"
          ]
        }
      ]
    },
    {
      "cell_type": "markdown",
      "source": [
        ""
      ],
      "metadata": {
        "id": "Rbk51HH3cNzM"
      }
    },
    {
      "cell_type": "markdown",
      "source": [
        "두 표본t-test\n",
        "tw_data$ D_GEN(그룹 1 평균=과, 2그룹=1.21명)에 의해tw_data$ Q5_1의 차이를 테스트했던 효과가 통계적으로 유의한, 그리고 작은(차이)0.26개 95%CI[0.18, 말 0.34], t(1220)=6.12, p< .001 긍정적이다;코헨의 d)0.37 95%CI[0.25, 0.49])을 제안합니다."
      ],
      "metadata": {
        "id": "RPqHoZvucOvM"
      }
    },
    {
      "cell_type": "markdown",
      "source": [
        "### One-way Anova: 질적 그룹변수의 카테고리가 3개 이상인 경우(연령(D_AGE)에따라 방한목적(D_Q5_1)에 차이가 있는지)"
      ],
      "metadata": {
        "id": "xrbIl8q7RiOy"
      }
    },
    {
      "cell_type": "markdown",
      "source": [
        "one way anova: 연령(D_AGE)에따라 방한목적(D_Q5_1)에 차이가 있는지\n"
      ],
      "metadata": {
        "id": "Vl3NKbDBRlFq"
      }
    },
    {
      "cell_type": "code",
      "source": [
        "%%R\n",
        "print(tapply(tw_data$D_AGE ,tw_data$D_Q5_1,mean))\n",
        "tapply(tw_data$D_AGE,tw_data$D_Q5_1,sd)"
      ],
      "metadata": {
        "colab": {
          "base_uri": "https://localhost:8080/"
        },
        "id": "ljgxO1COxNX5",
        "outputId": "4116ad9e-5cf5-40d6-ca8a-9b365a22ebd9"
      },
      "execution_count": null,
      "outputs": [
        {
          "output_type": "stream",
          "name": "stdout",
          "text": [
            "       1        2        3        4        5 \n",
            "3.184570 3.652174 3.402778 2.400000 3.333333 \n",
            "        1         2         3         4         5 \n",
            "1.2784843 1.5234083 1.1051022 1.5165751 0.5773503 \n"
          ]
        }
      ]
    },
    {
      "cell_type": "code",
      "source": [
        "%%R\n",
        "# 등분산 확인하는 방법\n",
        "bartlett.test(D_AGE ~ D_Q5_1, data=tw_data) # q3: 연령"
      ],
      "metadata": {
        "id": "roM35OX7x4xQ",
        "colab": {
          "base_uri": "https://localhost:8080/"
        },
        "outputId": "9ab17c84-0998-4ab7-feec-876c3689dd41"
      },
      "execution_count": null,
      "outputs": [
        {
          "output_type": "stream",
          "name": "stdout",
          "text": [
            "\n",
            "\tBartlett test of homogeneity of variances\n",
            "\n",
            "data:  D_AGE by D_Q5_1\n",
            "Bartlett's K-squared = 9.7379, df = 4, p-value = 0.04508\n",
            "\n"
          ]
        }
      ]
    },
    {
      "cell_type": "code",
      "source": [
        "%%R\n",
        "# 등분산 만족시\n",
        "#incheon0427$q3=as.factor(incheon0427$q3)\n",
        "round(tapply(tw_data$D_AGE,tw_data$D_Q5_1,mean),3)\n",
        "round(tapply(tw_data$D_AGE,tw_data$D_Q5_1,sd),3)\n",
        "anova<-aov(D_AGE ~ D_Q5_1, data=tw_data)\n",
        "print(summary(anova))"
      ],
      "metadata": {
        "colab": {
          "base_uri": "https://localhost:8080/"
        },
        "id": "M9aup8q_yVsO",
        "outputId": "ce645081-b3f4-4376-e098-1c9e69670f5d"
      },
      "execution_count": null,
      "outputs": [
        {
          "output_type": "stream",
          "name": "stdout",
          "text": [
            "              Df Sum Sq Mean Sq F value Pr(>F)  \n",
            "D_Q5_1         4   18.1   4.514   2.802 0.0248 *\n",
            "Residuals   1217 1961.1   1.611                 \n",
            "---\n",
            "Signif. codes:  0 ‘***’ 0.001 ‘**’ 0.01 ‘*’ 0.05 ‘.’ 0.1 ‘ ’ 1\n"
          ]
        }
      ]
    },
    {
      "cell_type": "code",
      "source": [
        "%%R\n",
        "report(anova)"
      ],
      "metadata": {
        "colab": {
          "base_uri": "https://localhost:8080/"
        },
        "id": "Z0L9T0t_0wMS",
        "outputId": "eaab7fe5-2eb4-4f76-aeeb-44f7c5ff4ae9"
      },
      "execution_count": null,
      "outputs": [
        {
          "output_type": "stream",
          "name": "stderr",
          "text": [
            "R[write to console]: For one-way between subjects designs, partial eta squared is equivalent to eta squared.\n",
            "Returning eta squared.\n",
            "\n"
          ]
        },
        {
          "output_type": "stream",
          "name": "stdout",
          "text": [
            "The ANOVA (formula: D_AGE ~ D_Q5_1) suggests that:\n",
            "\n",
            "  - The main effect of D_Q5_1 is statistically significant and very small (F(4, 1217) = 2.80, p = 0.025; Eta2 = 9.12e-03, 95% CI [6.13e-04, 1.00])\n",
            "\n",
            "Effect sizes were labelled following Field's (2013) recommendations."
          ]
        }
      ]
    },
    {
      "cell_type": "markdown",
      "source": [
        "분산 분석(식: D_AGE ~ D_Q5_1)은 다음을 나타냅니다.\n",
        "\n",
        "- D_Q5_1의 주효과는 통계적으로 유의하고 매우 작습니다(F(4,1217) = 2.80, p = 0.025, Eta2 = 9.12e-03, 95% CI [6.13e-04, 1.00]).\n",
        "\n",
        "효과 크기는 현장(2013) 권고사항에 따라 라벨링되었다."
      ],
      "metadata": {
        "id": "Nytz5i2ozSuS"
      }
    },
    {
      "cell_type": "code",
      "source": [
        "%%R\n",
        "# 사후분석\n",
        "print(TukeyHSD(anova))"
      ],
      "metadata": {
        "colab": {
          "base_uri": "https://localhost:8080/"
        },
        "id": "CMT2UrMC1lK9",
        "outputId": "e275324a-27fb-4829-b3be-d187a4b1dc3f"
      },
      "execution_count": null,
      "outputs": [
        {
          "output_type": "stream",
          "name": "stdout",
          "text": [
            "  Tukey multiple comparisons of means\n",
            "    95% family-wise confidence level\n",
            "\n",
            "Fit: aov(formula = D_AGE ~ D_Q5_1, data = tw_data)\n",
            "\n",
            "$D_Q5_1\n",
            "           diff         lwr       upr     p adj\n",
            "2-1  0.46760360 -0.05506075 0.9902680 0.1044899\n",
            "3-1  0.21820747 -0.09043102 0.5268460 0.3011282\n",
            "4-1 -0.78457031 -2.33922018 0.7700796 0.6415209\n",
            "5-1  0.14876302 -1.85632989 2.1538559 0.9996243\n",
            "3-2 -0.24939614 -0.83671848 0.3379262 0.7741427\n",
            "4-2 -1.25217391 -2.88515463 0.3808068 0.2228901\n",
            "5-2 -0.31884058 -2.38525956 1.7475784 0.9934042\n",
            "4-3 -1.00277778 -2.58034100 0.5747854 0.4118415\n",
            "5-3 -0.06944444 -2.09235500 1.9534661 0.9999825\n",
            "5-4  0.93333333 -1.59922379 3.4658905 0.8523249\n",
            "\n"
          ]
        }
      ]
    },
    {
      "cell_type": "code",
      "source": [
        "%%R\n",
        "# 등분산 불만족시\n",
        "oneway.test(D_AGE ~ D_Q5_1, data=tw_data) # 정규분포는 하나 등분산은 아닐 때"
      ],
      "metadata": {
        "colab": {
          "base_uri": "https://localhost:8080/"
        },
        "id": "-g6nNo06yYjz",
        "outputId": "2fe2fc75-d2b3-4ff4-f8b7-3e36cc474079"
      },
      "execution_count": null,
      "outputs": [
        {
          "output_type": "stream",
          "name": "stdout",
          "text": [
            "\n",
            "\tOne-way analysis of means (not assuming equal variances)\n",
            "\n",
            "data:  D_AGE and D_Q5_1\n",
            "F = 2.0866, num df = 4.000, denom df = 10.482, p-value = 0.1543\n",
            "\n"
          ]
        }
      ]
    },
    {
      "cell_type": "markdown",
      "source": [
        "등분산 불만족시 사후분석 사용자 함수(패키지에서 제공되지 않더라도 프로그램 내에서 계산을 할 수 있도록 사용자가 추가로 정의한 함수)"
      ],
      "metadata": {
        "id": "lRZ_Mx-GDi4u"
      }
    },
    {
      "cell_type": "code",
      "source": [
        "%%R\n",
        "posthocTGH <- function(y, x, method=c(\"games-howell\", \"tukey\"),\n",
        "                       conf.level = 0.95, digits=2,\n",
        "                       p.adjust=\"none\", formatPvalue = TRUE) {\n",
        "  ### Based on http://www.psych.yorku.ca/cribbie/6130/games_howell.R\n",
        "  method <- tolower(method);\n",
        "  tryCatch(method <- match.arg(method), error=function(err) {\n",
        "    stop(\"Argument for 'method' not valid!\");\n",
        "  });\n",
        "  \n",
        "  res <- list(input = as.list(environment()));\n",
        "  \n",
        "  res$intermediate <- list(x = factor(x[complete.cases(x,y)]),\n",
        "                           y = y[complete.cases(x,y)]);\n",
        "  res$intermediate$n <- tapply(y, x, length);\n",
        "  res$intermediate$groups <- length(res$intermediate$n);\n",
        "  res$intermediate$df <- sum(res$intermediate$n) - res$intermediate$groups;\n",
        "  res$intermediate$means <- tapply(y, x, mean);\n",
        "  res$intermediate$variances <- tapply(y, x, var);\n",
        "  res$intermediate$names <- levels(res$intermediate$x)\n",
        "  res$intermediate$pairNames <- combn(res$intermediate$groups,2,function(ij){\n",
        "    paste0(rev(res$intermediate$names[ij]),collapse=\"-\");\n",
        "  })\n",
        "  \n",
        "  res$intermediate$descriptives <- cbind(res$intermediate$n,\n",
        "                                         res$intermediate$means,\n",
        "                                         res$intermediate$variances);\n",
        "  rownames(res$intermediate$descriptives) <- levels(res$intermediate$x);\n",
        "  colnames(res$intermediate$descriptives) <- c('n', 'means', 'variances');\n",
        "  \n",
        "  ### Start on Tukey\n",
        "  res$intermediate$errorVariance <-\n",
        "    sum((res$intermediate$n-1) * res$intermediate$variances) /\n",
        "    res$intermediate$df;\n",
        "  res$intermediate$se <- combn(res$intermediate$groups,2, function(ij) {\n",
        "    sqrt(res$intermediate$errorVariance*sum(1/res$intermediate$n[ij]));\n",
        "  } )\n",
        "  res$intermediate$dmeans <- combn(res$intermediate$groups, 2, function(ij) {\n",
        "    diff(res$intermediate$means[ij]) } )\n",
        "  res$intermediate$t <- abs(res$intermediate$dmeans)/res$intermediate$se\n",
        "  res$intermediate$p.tukey <- ptukey(res$intermediate$t*sqrt(2),\n",
        "                                     res$intermediate$groups,\n",
        "                                     res$intermediate$df,\n",
        "                                     lower.tail=FALSE);\n",
        "  res$intermediate$alpha <- (1-conf.level);\n",
        "  res$intermediate$qcrit <- qtukey(res$intermediate$alpha,\n",
        "                                   res$intermediate$groups,\n",
        "                                   res$intermediate$df,\n",
        "                                   lower.tail=FALSE) / sqrt(2);\n",
        "  res$intermediate$tukey.low <- res$intermediate$dmeans - (res$intermediate$qcrit * res$intermediate$se);\n",
        "  res$intermediate$tukey.high <- res$intermediate$dmeans + (res$intermediate$qcrit * res$intermediate$se);\n",
        "  res$output <- list();\n",
        "  res$output$tukey <- data.frame(res$intermediate$dmeans,\n",
        "                                 res$intermediate$tukey.low,\n",
        "                                 res$intermediate$tukey.high,\n",
        "                                 res$intermediate$t,\n",
        "                                 res$intermediate$df,\n",
        "                                 res$intermediate$p.tukey)\n",
        "  columnNames <- c('diff', 'ci.lo', 'ci.hi', 't', 'df', 'p');\n",
        "  if (p.adjust != \"none\") {\n",
        "    res$output$tukey$p.tukey.adjusted <- p.adjust(res$intermediate$p.tukey,\n",
        "                                                  method = p.adjust);\n",
        "    columnNames <- c(columnNames, 'p.adjusted');\n",
        "  }\n",
        "\n",
        "  rownames(res$output$tukey) <- res$intermediate$pairNames;\n",
        "  colnames(res$output$tukey) <- columnNames;\n",
        "  \n",
        "  ### Start on Games-Howell\n",
        "  res$intermediate$df.corrected <- combn(res$intermediate$groups, 2, function(ij) {               \n",
        "    sum(res$intermediate$variances[ij] /\n",
        "          res$intermediate$n[ij])^2 / \n",
        "      sum((res$intermediate$variances[ij] /\n",
        "             res$intermediate$n[ij])^2 / \n",
        "            (res$intermediate$n[ij]-1));\n",
        "  } )\n",
        "  res$intermediate$se.corrected <- combn(res$intermediate$groups,2, function(ij) {\n",
        "    sqrt(sum(res$intermediate$variances[ij]/res$intermediate$n[ij]));\n",
        "  } )\n",
        "  res$intermediate$t.corrected <- abs(res$intermediate$dmeans)/res$intermediate$se.corrected\n",
        "  \n",
        "  res$intermediate$qcrit.corrected <- \n",
        "    qtukey(res$intermediate$alpha,\n",
        "           res$intermediate$groups,\n",
        "           res$intermediate$df.corrected,\n",
        "           lower.tail=FALSE) / sqrt(2)\n",
        "  \n",
        "  res$intermediate$gh.low <- res$intermediate$dmeans - \n",
        "    res$intermediate$qcrit.corrected*res$intermediate$se.corrected\n",
        "  res$intermediate$gh.high <- res$intermediate$dmeans + \n",
        "    res$intermediate$qcrit.corrected*res$intermediate$se.corrected\n",
        "  \n",
        "  \n",
        "  res$intermediate$p.gameshowell <- ptukey(res$intermediate$t.corrected*sqrt(2),\n",
        "                                           res$intermediate$groups,\n",
        "                                           res$intermediate$df.corrected,\n",
        "                                           lower.tail=FALSE)  \n",
        "  res$output$games.howell <- data.frame(res$intermediate$dmeans,\n",
        "                                        res$intermediate$gh.low,\n",
        "                                        res$intermediate$gh.high,\n",
        "                                        res$intermediate$t.corrected,\n",
        "                                        res$intermediate$df.corrected,\n",
        "                                        res$intermediate$p.gameshowell);\n",
        "  columnNames <- c('diff', 'ci.lo', 'ci.hi', 't', 'df', 'p');\n",
        "  if (p.adjust != \"none\") {\n",
        "    res$output$games.howell$p.gameshowell.adjusted <- p.adjust(res$intermediate$p.gameshowell,\n",
        "                                                               method = p.adjust);\n",
        "    columnNames <- c(columnNames, 'p.adjusted');\n",
        "  }\n",
        "  rownames(res$output$games.howell) <- res$intermediate$pairNames;\n",
        "  colnames(res$output$games.howell) <- columnNames;\n",
        "  \n",
        "  ### Set class and return object\n",
        "  class(res) <- 'posthocTGH';\n",
        "  return(res);\n",
        "  \n",
        "}"
      ],
      "metadata": {
        "id": "f7Ey0s-T88Bf"
      },
      "execution_count": null,
      "outputs": []
    },
    {
      "cell_type": "code",
      "source": [
        "%%R\n",
        "# 사후분석\n",
        "#library(userfriendlyscience)\n",
        "densityplot(D_AGE ~ D_Q5_1, data=tw_data)\n",
        "# posthocTGH(incheon0427$q3, y = incheon0427$q10, method = 'games-howell')\n",
        "games_howell=posthocTGH(tw_data$D_AGE, y = tw_data$D_Q5_1, method = 'games-howell')\n",
        "print(games_howell$intermediate$descriptives)\n",
        "print(games_howell$output$games.howell)\n",
        "\n",
        "# pairwise.t.test(incheon0427$q10, incheon0427$q3,\n",
        "#                  p.adjust.method = \"BH\", pool.sd = FALSE)"
      ],
      "metadata": {
        "id": "vlgKt4sX5zAp",
        "colab": {
          "base_uri": "https://localhost:8080/",
          "height": 1000
        },
        "outputId": "93000060-2932-4080-ba07-6ddf222a0212"
      },
      "execution_count": null,
      "outputs": [
        {
          "output_type": "stream",
          "name": "stderr",
          "text": [
            "R[write to console]: Error in FUN(X[[i]], ...) : Calling var(x) on a factor x is defunct.\n",
            "  Use something like 'all(duplicated(x)[-1L])' to test for a constant vector.\n",
            "\n",
            "R[write to console]: In addition: \n",
            "R[write to console]: Warning messages:\n",
            "\n",
            "R[write to console]: 1: \n",
            "R[write to console]: In mean.default(X[[i]], ...) :\n",
            "R[write to console]: \n",
            " \n",
            "R[write to console]:  argument is not numeric or logical: returning NA\n",
            "\n",
            "R[write to console]: 2: \n",
            "R[write to console]: In mean.default(X[[i]], ...) :\n",
            "R[write to console]: \n",
            " \n",
            "R[write to console]:  argument is not numeric or logical: returning NA\n",
            "\n",
            "R[write to console]: 3: \n",
            "R[write to console]: In mean.default(X[[i]], ...) :\n",
            "R[write to console]: \n",
            " \n",
            "R[write to console]:  argument is not numeric or logical: returning NA\n",
            "\n",
            "R[write to console]: 4: \n",
            "R[write to console]: In mean.default(X[[i]], ...) :\n",
            "R[write to console]: \n",
            " \n",
            "R[write to console]:  argument is not numeric or logical: returning NA\n",
            "\n",
            "R[write to console]: 5: \n",
            "R[write to console]: In mean.default(X[[i]], ...) :\n",
            "R[write to console]: \n",
            " \n",
            "R[write to console]:  argument is not numeric or logical: returning NA\n",
            "\n",
            "R[write to console]: 6: \n",
            "R[write to console]: In mean.default(X[[i]], ...) :\n",
            "R[write to console]: \n",
            " \n",
            "R[write to console]:  argument is not numeric or logical: returning NA\n",
            "\n"
          ]
        },
        {
          "output_type": "stream",
          "name": "stdout",
          "text": [
            "\n",
            "Error in FUN(X[[i]], ...) : Calling var(x) on a factor x is defunct.\n",
            "  Use something like 'all(duplicated(x)[-1L])' to test for a constant vector.\n"
          ]
        },
        {
          "output_type": "error",
          "ename": "RInterpreterError",
          "evalue": "ignored",
          "traceback": [
            "\u001b[0;31m---------------------------------------------------------------------------\u001b[0m",
            "\u001b[0;31mRRuntimeError\u001b[0m                             Traceback (most recent call last)",
            "\u001b[0;32m/usr/local/lib/python3.7/dist-packages/rpy2/ipython/rmagic.py\u001b[0m in \u001b[0;36meval\u001b[0;34m(self, code)\u001b[0m\n\u001b[1;32m    267\u001b[0m                 \u001b[0;31m# Need the newline in case the last line in code is a comment.\u001b[0m\u001b[0;34m\u001b[0m\u001b[0;34m\u001b[0m\u001b[0;34m\u001b[0m\u001b[0m\n\u001b[0;32m--> 268\u001b[0;31m                 \u001b[0mvalue\u001b[0m\u001b[0;34m,\u001b[0m \u001b[0mvisible\u001b[0m \u001b[0;34m=\u001b[0m \u001b[0mro\u001b[0m\u001b[0;34m.\u001b[0m\u001b[0mr\u001b[0m\u001b[0;34m(\u001b[0m\u001b[0;34m\"withVisible({%s\\n})\"\u001b[0m \u001b[0;34m%\u001b[0m \u001b[0mcode\u001b[0m\u001b[0;34m)\u001b[0m\u001b[0;34m\u001b[0m\u001b[0;34m\u001b[0m\u001b[0m\n\u001b[0m\u001b[1;32m    269\u001b[0m             \u001b[0;32mexcept\u001b[0m \u001b[0;34m(\u001b[0m\u001b[0mri\u001b[0m\u001b[0;34m.\u001b[0m\u001b[0membedded\u001b[0m\u001b[0;34m.\u001b[0m\u001b[0mRRuntimeError\u001b[0m\u001b[0;34m,\u001b[0m \u001b[0mValueError\u001b[0m\u001b[0;34m)\u001b[0m \u001b[0;32mas\u001b[0m \u001b[0mexception\u001b[0m\u001b[0;34m:\u001b[0m\u001b[0;34m\u001b[0m\u001b[0;34m\u001b[0m\u001b[0m\n",
            "\u001b[0;32m/usr/local/lib/python3.7/dist-packages/rpy2/robjects/__init__.py\u001b[0m in \u001b[0;36m__call__\u001b[0;34m(self, string)\u001b[0m\n\u001b[1;32m    437\u001b[0m         \u001b[0mp\u001b[0m \u001b[0;34m=\u001b[0m \u001b[0mrinterface\u001b[0m\u001b[0;34m.\u001b[0m\u001b[0mparse\u001b[0m\u001b[0;34m(\u001b[0m\u001b[0mstring\u001b[0m\u001b[0;34m)\u001b[0m\u001b[0;34m\u001b[0m\u001b[0;34m\u001b[0m\u001b[0m\n\u001b[0;32m--> 438\u001b[0;31m         \u001b[0mres\u001b[0m \u001b[0;34m=\u001b[0m \u001b[0mself\u001b[0m\u001b[0;34m.\u001b[0m\u001b[0meval\u001b[0m\u001b[0;34m(\u001b[0m\u001b[0mp\u001b[0m\u001b[0;34m)\u001b[0m\u001b[0;34m\u001b[0m\u001b[0;34m\u001b[0m\u001b[0m\n\u001b[0m\u001b[1;32m    439\u001b[0m         \u001b[0;32mreturn\u001b[0m \u001b[0mconversion\u001b[0m\u001b[0;34m.\u001b[0m\u001b[0mrpy2py\u001b[0m\u001b[0;34m(\u001b[0m\u001b[0mres\u001b[0m\u001b[0;34m)\u001b[0m\u001b[0;34m\u001b[0m\u001b[0;34m\u001b[0m\u001b[0m\n",
            "\u001b[0;32m/usr/local/lib/python3.7/dist-packages/rpy2/robjects/functions.py\u001b[0m in \u001b[0;36m__call__\u001b[0;34m(self, *args, **kwargs)\u001b[0m\n\u001b[1;32m    198\u001b[0m         return (super(SignatureTranslatedFunction, self)\n\u001b[0;32m--> 199\u001b[0;31m                 .__call__(*args, **kwargs))\n\u001b[0m\u001b[1;32m    200\u001b[0m \u001b[0;34m\u001b[0m\u001b[0m\n",
            "\u001b[0;32m/usr/local/lib/python3.7/dist-packages/rpy2/robjects/functions.py\u001b[0m in \u001b[0;36m__call__\u001b[0;34m(self, *args, **kwargs)\u001b[0m\n\u001b[1;32m    124\u001b[0m                 \u001b[0mnew_kwargs\u001b[0m\u001b[0;34m[\u001b[0m\u001b[0mk\u001b[0m\u001b[0;34m]\u001b[0m \u001b[0;34m=\u001b[0m \u001b[0mconversion\u001b[0m\u001b[0;34m.\u001b[0m\u001b[0mpy2rpy\u001b[0m\u001b[0;34m(\u001b[0m\u001b[0mv\u001b[0m\u001b[0;34m)\u001b[0m\u001b[0;34m\u001b[0m\u001b[0;34m\u001b[0m\u001b[0m\n\u001b[0;32m--> 125\u001b[0;31m         \u001b[0mres\u001b[0m \u001b[0;34m=\u001b[0m \u001b[0msuper\u001b[0m\u001b[0;34m(\u001b[0m\u001b[0mFunction\u001b[0m\u001b[0;34m,\u001b[0m \u001b[0mself\u001b[0m\u001b[0;34m)\u001b[0m\u001b[0;34m.\u001b[0m\u001b[0m__call__\u001b[0m\u001b[0;34m(\u001b[0m\u001b[0;34m*\u001b[0m\u001b[0mnew_args\u001b[0m\u001b[0;34m,\u001b[0m \u001b[0;34m**\u001b[0m\u001b[0mnew_kwargs\u001b[0m\u001b[0;34m)\u001b[0m\u001b[0;34m\u001b[0m\u001b[0;34m\u001b[0m\u001b[0m\n\u001b[0m\u001b[1;32m    126\u001b[0m         \u001b[0mres\u001b[0m \u001b[0;34m=\u001b[0m \u001b[0mconversion\u001b[0m\u001b[0;34m.\u001b[0m\u001b[0mrpy2py\u001b[0m\u001b[0;34m(\u001b[0m\u001b[0mres\u001b[0m\u001b[0;34m)\u001b[0m\u001b[0;34m\u001b[0m\u001b[0;34m\u001b[0m\u001b[0m\n",
            "\u001b[0;32m/usr/local/lib/python3.7/dist-packages/rpy2/rinterface_lib/conversion.py\u001b[0m in \u001b[0;36m_\u001b[0;34m(*args, **kwargs)\u001b[0m\n\u001b[1;32m     44\u001b[0m     \u001b[0;32mdef\u001b[0m \u001b[0m_\u001b[0m\u001b[0;34m(\u001b[0m\u001b[0;34m*\u001b[0m\u001b[0margs\u001b[0m\u001b[0;34m,\u001b[0m \u001b[0;34m**\u001b[0m\u001b[0mkwargs\u001b[0m\u001b[0;34m)\u001b[0m\u001b[0;34m:\u001b[0m\u001b[0;34m\u001b[0m\u001b[0;34m\u001b[0m\u001b[0m\n\u001b[0;32m---> 45\u001b[0;31m         \u001b[0mcdata\u001b[0m \u001b[0;34m=\u001b[0m \u001b[0mfunction\u001b[0m\u001b[0;34m(\u001b[0m\u001b[0;34m*\u001b[0m\u001b[0margs\u001b[0m\u001b[0;34m,\u001b[0m \u001b[0;34m**\u001b[0m\u001b[0mkwargs\u001b[0m\u001b[0;34m)\u001b[0m\u001b[0;34m\u001b[0m\u001b[0;34m\u001b[0m\u001b[0m\n\u001b[0m\u001b[1;32m     46\u001b[0m         \u001b[0;31m# TODO: test cdata is of the expected CType\u001b[0m\u001b[0;34m\u001b[0m\u001b[0;34m\u001b[0m\u001b[0;34m\u001b[0m\u001b[0m\n",
            "\u001b[0;32m/usr/local/lib/python3.7/dist-packages/rpy2/rinterface.py\u001b[0m in \u001b[0;36m__call__\u001b[0;34m(self, *args, **kwargs)\u001b[0m\n\u001b[1;32m    679\u001b[0m             \u001b[0;32mif\u001b[0m \u001b[0merror_occured\u001b[0m\u001b[0;34m[\u001b[0m\u001b[0;36m0\u001b[0m\u001b[0;34m]\u001b[0m\u001b[0;34m:\u001b[0m\u001b[0;34m\u001b[0m\u001b[0;34m\u001b[0m\u001b[0m\n\u001b[0;32m--> 680\u001b[0;31m                 \u001b[0;32mraise\u001b[0m \u001b[0membedded\u001b[0m\u001b[0;34m.\u001b[0m\u001b[0mRRuntimeError\u001b[0m\u001b[0;34m(\u001b[0m\u001b[0m_rinterface\u001b[0m\u001b[0;34m.\u001b[0m\u001b[0m_geterrmessage\u001b[0m\u001b[0;34m(\u001b[0m\u001b[0;34m)\u001b[0m\u001b[0;34m)\u001b[0m\u001b[0;34m\u001b[0m\u001b[0;34m\u001b[0m\u001b[0m\n\u001b[0m\u001b[1;32m    681\u001b[0m         \u001b[0;32mreturn\u001b[0m \u001b[0mres\u001b[0m\u001b[0;34m\u001b[0m\u001b[0;34m\u001b[0m\u001b[0m\n",
            "\u001b[0;31mRRuntimeError\u001b[0m: Error in FUN(X[[i]], ...) : Calling var(x) on a factor x is defunct.\n  Use something like 'all(duplicated(x)[-1L])' to test for a constant vector.\n",
            "\nDuring handling of the above exception, another exception occurred:\n",
            "\u001b[0;31mRInterpreterError\u001b[0m                         Traceback (most recent call last)",
            "\u001b[0;32m<ipython-input-100-73f3fe1f6fe8>\u001b[0m in \u001b[0;36m<module>\u001b[0;34m()\u001b[0m\n\u001b[0;32m----> 1\u001b[0;31m \u001b[0mget_ipython\u001b[0m\u001b[0;34m(\u001b[0m\u001b[0;34m)\u001b[0m\u001b[0;34m.\u001b[0m\u001b[0mrun_cell_magic\u001b[0m\u001b[0;34m(\u001b[0m\u001b[0;34m'R'\u001b[0m\u001b[0;34m,\u001b[0m \u001b[0;34m''\u001b[0m\u001b[0;34m,\u001b[0m \u001b[0;34m'# 사후분석\\n#library(userfriendlyscience)\\ndensityplot(D_AGE ~ D_Q5_1, data=tw_data)\\n# posthocTGH(incheon0427$q3, y = incheon0427$q10, method = \\'games-howell\\')\\ngames_howell=posthocTGH(tw_data$D_AGE, y = tw_data$D_Q5_1, method = \\'games-howell\\')\\nprint(games_howell$intermediate$descriptives)\\nprint(games_howell$output$games.howell)\\n\\n# pairwise.t.test(incheon0427$q10, incheon0427$q3,\\n#                  p.adjust.method = \"BH\", pool.sd = FALSE)'\u001b[0m\u001b[0;34m)\u001b[0m\u001b[0;34m\u001b[0m\u001b[0;34m\u001b[0m\u001b[0m\n\u001b[0m",
            "\u001b[0;32m/usr/local/lib/python3.7/dist-packages/IPython/core/interactiveshell.py\u001b[0m in \u001b[0;36mrun_cell_magic\u001b[0;34m(self, magic_name, line, cell)\u001b[0m\n\u001b[1;32m   2115\u001b[0m             \u001b[0mmagic_arg_s\u001b[0m \u001b[0;34m=\u001b[0m \u001b[0mself\u001b[0m\u001b[0;34m.\u001b[0m\u001b[0mvar_expand\u001b[0m\u001b[0;34m(\u001b[0m\u001b[0mline\u001b[0m\u001b[0;34m,\u001b[0m \u001b[0mstack_depth\u001b[0m\u001b[0;34m)\u001b[0m\u001b[0;34m\u001b[0m\u001b[0;34m\u001b[0m\u001b[0m\n\u001b[1;32m   2116\u001b[0m             \u001b[0;32mwith\u001b[0m \u001b[0mself\u001b[0m\u001b[0;34m.\u001b[0m\u001b[0mbuiltin_trap\u001b[0m\u001b[0;34m:\u001b[0m\u001b[0;34m\u001b[0m\u001b[0;34m\u001b[0m\u001b[0m\n\u001b[0;32m-> 2117\u001b[0;31m                 \u001b[0mresult\u001b[0m \u001b[0;34m=\u001b[0m \u001b[0mfn\u001b[0m\u001b[0;34m(\u001b[0m\u001b[0mmagic_arg_s\u001b[0m\u001b[0;34m,\u001b[0m \u001b[0mcell\u001b[0m\u001b[0;34m)\u001b[0m\u001b[0;34m\u001b[0m\u001b[0;34m\u001b[0m\u001b[0m\n\u001b[0m\u001b[1;32m   2118\u001b[0m             \u001b[0;32mreturn\u001b[0m \u001b[0mresult\u001b[0m\u001b[0;34m\u001b[0m\u001b[0;34m\u001b[0m\u001b[0m\n\u001b[1;32m   2119\u001b[0m \u001b[0;34m\u001b[0m\u001b[0m\n",
            "\u001b[0;32m<decorator-gen-119>\u001b[0m in \u001b[0;36mR\u001b[0;34m(self, line, cell, local_ns)\u001b[0m\n",
            "\u001b[0;32m/usr/local/lib/python3.7/dist-packages/IPython/core/magic.py\u001b[0m in \u001b[0;36m<lambda>\u001b[0;34m(f, *a, **k)\u001b[0m\n\u001b[1;32m    186\u001b[0m     \u001b[0;31m# but it's overkill for just that one bit of state.\u001b[0m\u001b[0;34m\u001b[0m\u001b[0;34m\u001b[0m\u001b[0;34m\u001b[0m\u001b[0m\n\u001b[1;32m    187\u001b[0m     \u001b[0;32mdef\u001b[0m \u001b[0mmagic_deco\u001b[0m\u001b[0;34m(\u001b[0m\u001b[0marg\u001b[0m\u001b[0;34m)\u001b[0m\u001b[0;34m:\u001b[0m\u001b[0;34m\u001b[0m\u001b[0;34m\u001b[0m\u001b[0m\n\u001b[0;32m--> 188\u001b[0;31m         \u001b[0mcall\u001b[0m \u001b[0;34m=\u001b[0m \u001b[0;32mlambda\u001b[0m \u001b[0mf\u001b[0m\u001b[0;34m,\u001b[0m \u001b[0;34m*\u001b[0m\u001b[0ma\u001b[0m\u001b[0;34m,\u001b[0m \u001b[0;34m**\u001b[0m\u001b[0mk\u001b[0m\u001b[0;34m:\u001b[0m \u001b[0mf\u001b[0m\u001b[0;34m(\u001b[0m\u001b[0;34m*\u001b[0m\u001b[0ma\u001b[0m\u001b[0;34m,\u001b[0m \u001b[0;34m**\u001b[0m\u001b[0mk\u001b[0m\u001b[0;34m)\u001b[0m\u001b[0;34m\u001b[0m\u001b[0;34m\u001b[0m\u001b[0m\n\u001b[0m\u001b[1;32m    189\u001b[0m \u001b[0;34m\u001b[0m\u001b[0m\n\u001b[1;32m    190\u001b[0m         \u001b[0;32mif\u001b[0m \u001b[0mcallable\u001b[0m\u001b[0;34m(\u001b[0m\u001b[0marg\u001b[0m\u001b[0;34m)\u001b[0m\u001b[0;34m:\u001b[0m\u001b[0;34m\u001b[0m\u001b[0;34m\u001b[0m\u001b[0m\n",
            "\u001b[0;32m/usr/local/lib/python3.7/dist-packages/rpy2/ipython/rmagic.py\u001b[0m in \u001b[0;36mR\u001b[0;34m(self, line, cell, local_ns)\u001b[0m\n\u001b[1;32m    781\u001b[0m             \u001b[0;32mif\u001b[0m \u001b[0;32mnot\u001b[0m \u001b[0me\u001b[0m\u001b[0;34m.\u001b[0m\u001b[0mstdout\u001b[0m\u001b[0;34m.\u001b[0m\u001b[0mendswith\u001b[0m\u001b[0;34m(\u001b[0m\u001b[0me\u001b[0m\u001b[0;34m.\u001b[0m\u001b[0merr\u001b[0m\u001b[0;34m)\u001b[0m\u001b[0;34m:\u001b[0m\u001b[0;34m\u001b[0m\u001b[0;34m\u001b[0m\u001b[0m\n\u001b[1;32m    782\u001b[0m                 \u001b[0mprint\u001b[0m\u001b[0;34m(\u001b[0m\u001b[0me\u001b[0m\u001b[0;34m.\u001b[0m\u001b[0merr\u001b[0m\u001b[0;34m)\u001b[0m\u001b[0;34m\u001b[0m\u001b[0;34m\u001b[0m\u001b[0m\n\u001b[0;32m--> 783\u001b[0;31m             \u001b[0;32mraise\u001b[0m \u001b[0me\u001b[0m\u001b[0;34m\u001b[0m\u001b[0;34m\u001b[0m\u001b[0m\n\u001b[0m\u001b[1;32m    784\u001b[0m         \u001b[0;32mfinally\u001b[0m\u001b[0;34m:\u001b[0m\u001b[0;34m\u001b[0m\u001b[0;34m\u001b[0m\u001b[0m\n\u001b[1;32m    785\u001b[0m             \u001b[0;32mif\u001b[0m \u001b[0mself\u001b[0m\u001b[0;34m.\u001b[0m\u001b[0mdevice\u001b[0m \u001b[0;32min\u001b[0m \u001b[0;34m[\u001b[0m\u001b[0;34m'png'\u001b[0m\u001b[0;34m,\u001b[0m \u001b[0;34m'svg'\u001b[0m\u001b[0;34m]\u001b[0m\u001b[0;34m:\u001b[0m\u001b[0;34m\u001b[0m\u001b[0;34m\u001b[0m\u001b[0m\n",
            "\u001b[0;32m/usr/local/lib/python3.7/dist-packages/rpy2/ipython/rmagic.py\u001b[0m in \u001b[0;36mR\u001b[0;34m(self, line, cell, local_ns)\u001b[0m\n\u001b[1;32m    761\u001b[0m                     \u001b[0mreturn_output\u001b[0m \u001b[0;34m=\u001b[0m \u001b[0;32mFalse\u001b[0m\u001b[0;34m\u001b[0m\u001b[0;34m\u001b[0m\u001b[0m\n\u001b[1;32m    762\u001b[0m             \u001b[0;32melse\u001b[0m\u001b[0;34m:\u001b[0m\u001b[0;34m\u001b[0m\u001b[0;34m\u001b[0m\u001b[0m\n\u001b[0;32m--> 763\u001b[0;31m                 \u001b[0mtext_result\u001b[0m\u001b[0;34m,\u001b[0m \u001b[0mresult\u001b[0m\u001b[0;34m,\u001b[0m \u001b[0mvisible\u001b[0m \u001b[0;34m=\u001b[0m \u001b[0mself\u001b[0m\u001b[0;34m.\u001b[0m\u001b[0meval\u001b[0m\u001b[0;34m(\u001b[0m\u001b[0mcode\u001b[0m\u001b[0;34m)\u001b[0m\u001b[0;34m\u001b[0m\u001b[0;34m\u001b[0m\u001b[0m\n\u001b[0m\u001b[1;32m    764\u001b[0m                 \u001b[0mtext_output\u001b[0m \u001b[0;34m+=\u001b[0m \u001b[0mtext_result\u001b[0m\u001b[0;34m\u001b[0m\u001b[0;34m\u001b[0m\u001b[0m\n\u001b[1;32m    765\u001b[0m                 \u001b[0;32mif\u001b[0m \u001b[0mvisible\u001b[0m\u001b[0;34m:\u001b[0m\u001b[0;34m\u001b[0m\u001b[0;34m\u001b[0m\u001b[0m\n",
            "\u001b[0;32m/usr/local/lib/python3.7/dist-packages/rpy2/ipython/rmagic.py\u001b[0m in \u001b[0;36meval\u001b[0;34m(self, code)\u001b[0m\n\u001b[1;32m    271\u001b[0m                 \u001b[0mwarning_or_other_msg\u001b[0m \u001b[0;34m=\u001b[0m \u001b[0mself\u001b[0m\u001b[0;34m.\u001b[0m\u001b[0mflush\u001b[0m\u001b[0;34m(\u001b[0m\u001b[0;34m)\u001b[0m\u001b[0;34m\u001b[0m\u001b[0;34m\u001b[0m\u001b[0m\n\u001b[1;32m    272\u001b[0m                 raise RInterpreterError(code, str(exception),\n\u001b[0;32m--> 273\u001b[0;31m                                         warning_or_other_msg)\n\u001b[0m\u001b[1;32m    274\u001b[0m             \u001b[0mtext_output\u001b[0m \u001b[0;34m=\u001b[0m \u001b[0mself\u001b[0m\u001b[0;34m.\u001b[0m\u001b[0mflush\u001b[0m\u001b[0;34m(\u001b[0m\u001b[0;34m)\u001b[0m\u001b[0;34m\u001b[0m\u001b[0;34m\u001b[0m\u001b[0m\n\u001b[1;32m    275\u001b[0m             \u001b[0;32mreturn\u001b[0m \u001b[0mtext_output\u001b[0m\u001b[0;34m,\u001b[0m \u001b[0mvalue\u001b[0m\u001b[0;34m,\u001b[0m \u001b[0mvisible\u001b[0m\u001b[0;34m[\u001b[0m\u001b[0;36m0\u001b[0m\u001b[0;34m]\u001b[0m\u001b[0;34m\u001b[0m\u001b[0;34m\u001b[0m\u001b[0m\n",
            "\u001b[0;31mRInterpreterError\u001b[0m: Failed to parse and evaluate line '# 사후분석\\n#library(userfriendlyscience)\\ndensityplot(D_AGE ~ D_Q5_1, data=tw_data)\\n# posthocTGH(incheon0427$q3, y = incheon0427$q10, method = \\'games-howell\\')\\ngames_howell=posthocTGH(tw_data$D_AGE, y = tw_data$D_Q5_1, method = \\'games-howell\\')\\nprint(games_howell$intermediate$descriptives)\\nprint(games_howell$output$games.howell)\\n\\n# pairwise.t.test(incheon0427$q10, incheon0427$q3,\\n#                  p.adjust.method = \"BH\", pool.sd = FALSE)'.\nR error message: \"Error in FUN(X[[i]], ...) : Calling var(x) on a factor x is defunct.\\n  Use something like 'all(duplicated(x)[-1L])' to test for a constant vector.\""
          ]
        }
      ]
    }
  ],
  "metadata": {
    "colab": {
      "collapsed_sections": [
        "w2Nw5nYrtLyu",
        "3-gYetd6FSIX"
      ],
      "name": "구글트렌드_팀플_0605_최종일까?",
      "provenance": [],
      "include_colab_link": true
    },
    "kernelspec": {
      "display_name": "Python 3",
      "name": "python3"
    }
  },
  "nbformat": 4,
  "nbformat_minor": 0
}