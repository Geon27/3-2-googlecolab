{
  "cells": [
    {
      "cell_type": "markdown",
      "metadata": {
        "id": "view-in-github",
        "colab_type": "text"
      },
      "source": [
        "<a href=\"https://colab.research.google.com/github/Geon27/3-2-googlecolab/blob/main/incheon0427data_22_05_30.ipynb\" target=\"_parent\"><img src=\"https://colab.research.google.com/assets/colab-badge.svg\" alt=\"Open In Colab\"/></a>"
      ]
    },
    {
      "cell_type": "markdown",
      "metadata": {
        "id": "_UxuNIN0gTTB"
      },
      "source": [
        "# 인천데이터 기초통계 분석"
      ]
    },
    {
      "cell_type": "markdown",
      "metadata": {
        "id": "IYq_OTm8gba0"
      },
      "source": [
        "## 코랩에서 R을 하도록 기본셋팅"
      ]
    },
    {
      "cell_type": "markdown",
      "metadata": {
        "id": "nwTFY1SYc1Sj"
      },
      "source": [
        "rpy2패키지 활성화를 통해 코랩에서 R작업 가능"
      ]
    },
    {
      "cell_type": "code",
      "execution_count": 2,
      "metadata": {
        "id": "SkCmWjQ8s44r"
      },
      "outputs": [],
      "source": [
        "# Load in the r magic\n",
        "%reload_ext rpy2.ipython\n",
        "%config IPCompleter.greedy=True\n",
        "%config InlineBackend.figure_format = 'retina'"
      ]
    },
    {
      "cell_type": "code",
      "execution_count": 3,
      "metadata": {
        "colab": {
          "base_uri": "https://localhost:8080/"
        },
        "id": "lEwsgOxMLcJf",
        "outputId": "238817eb-15a7-4017-cdd7-e8b0f3f41416"
      },
      "outputs": [
        {
          "output_type": "stream",
          "name": "stderr",
          "text": [
            "R[write to console]: Loading required package: pacman\n",
            "\n",
            "R[write to console]: Installing package into ‘/usr/local/lib/R/site-library’\n",
            "(as ‘lib’ is unspecified)\n",
            "\n",
            "R[write to console]: trying URL 'https://cran.rstudio.com/src/contrib/pacman_0.5.1.tar.gz'\n",
            "\n",
            "R[write to console]: Content type 'application/x-gzip'\n",
            "R[write to console]:  length 274400 bytes (267 KB)\n",
            "\n",
            "R[write to console]: =\n",
            "R[write to console]: =\n",
            "R[write to console]: =\n",
            "R[write to console]: =\n",
            "R[write to console]: =\n",
            "R[write to console]: =\n",
            "R[write to console]: =\n",
            "R[write to console]: =\n",
            "R[write to console]: =\n",
            "R[write to console]: =\n",
            "R[write to console]: =\n",
            "R[write to console]: =\n",
            "R[write to console]: =\n",
            "R[write to console]: =\n",
            "R[write to console]: =\n",
            "R[write to console]: =\n",
            "R[write to console]: =\n",
            "R[write to console]: =\n",
            "R[write to console]: =\n",
            "R[write to console]: =\n",
            "R[write to console]: =\n",
            "R[write to console]: =\n",
            "R[write to console]: =\n",
            "R[write to console]: =\n",
            "R[write to console]: =\n",
            "R[write to console]: =\n",
            "R[write to console]: =\n",
            "R[write to console]: =\n",
            "R[write to console]: =\n",
            "R[write to console]: =\n",
            "R[write to console]: =\n",
            "R[write to console]: =\n",
            "R[write to console]: =\n",
            "R[write to console]: =\n",
            "R[write to console]: =\n",
            "R[write to console]: =\n",
            "R[write to console]: =\n",
            "R[write to console]: =\n",
            "R[write to console]: =\n",
            "R[write to console]: =\n",
            "R[write to console]: =\n",
            "R[write to console]: =\n",
            "R[write to console]: =\n",
            "R[write to console]: =\n",
            "R[write to console]: =\n",
            "R[write to console]: =\n",
            "R[write to console]: =\n",
            "R[write to console]: =\n",
            "R[write to console]: =\n",
            "R[write to console]: =\n",
            "R[write to console]: \n",
            "\n",
            "R[write to console]: downloaded 267 KB\n",
            "\n",
            "\n",
            "R[write to console]: \n",
            "\n",
            "R[write to console]: \n",
            "R[write to console]: The downloaded source packages are in\n",
            "\t‘/tmp/RtmpFAfTnD/downloaded_packages’\n",
            "R[write to console]: \n",
            "R[write to console]: \n",
            "\n",
            "R[write to console]: Installing package into ‘/usr/local/lib/R/site-library’\n",
            "(as ‘lib’ is unspecified)\n",
            "\n",
            "R[write to console]: also installing the dependencies ‘bayestestR’, ‘effectsize’, ‘insight’, ‘parameters’, ‘performance’, ‘datawizard’\n",
            "\n",
            "\n",
            "R[write to console]: trying URL 'https://cran.rstudio.com/src/contrib/bayestestR_0.12.1.tar.gz'\n",
            "\n",
            "R[write to console]: Content type 'application/x-gzip'\n",
            "R[write to console]:  length 458677 bytes (447 KB)\n",
            "\n",
            "R[write to console]: =\n",
            "R[write to console]: =\n",
            "R[write to console]: =\n",
            "R[write to console]: =\n",
            "R[write to console]: =\n",
            "R[write to console]: =\n",
            "R[write to console]: =\n",
            "R[write to console]: =\n",
            "R[write to console]: =\n",
            "R[write to console]: =\n",
            "R[write to console]: =\n",
            "R[write to console]: =\n",
            "R[write to console]: =\n",
            "R[write to console]: =\n",
            "R[write to console]: =\n",
            "R[write to console]: =\n",
            "R[write to console]: =\n",
            "R[write to console]: =\n",
            "R[write to console]: =\n",
            "R[write to console]: =\n",
            "R[write to console]: =\n",
            "R[write to console]: =\n",
            "R[write to console]: =\n",
            "R[write to console]: =\n",
            "R[write to console]: =\n",
            "R[write to console]: =\n",
            "R[write to console]: =\n",
            "R[write to console]: =\n",
            "R[write to console]: =\n",
            "R[write to console]: =\n",
            "R[write to console]: =\n",
            "R[write to console]: =\n",
            "R[write to console]: =\n",
            "R[write to console]: =\n",
            "R[write to console]: =\n",
            "R[write to console]: =\n",
            "R[write to console]: =\n",
            "R[write to console]: =\n",
            "R[write to console]: =\n",
            "R[write to console]: =\n",
            "R[write to console]: =\n",
            "R[write to console]: =\n",
            "R[write to console]: =\n",
            "R[write to console]: =\n",
            "R[write to console]: =\n",
            "R[write to console]: =\n",
            "R[write to console]: =\n",
            "R[write to console]: =\n",
            "R[write to console]: =\n",
            "R[write to console]: =\n",
            "R[write to console]: \n",
            "\n",
            "R[write to console]: downloaded 447 KB\n",
            "\n",
            "\n",
            "R[write to console]: trying URL 'https://cran.rstudio.com/src/contrib/effectsize_0.7.0.tar.gz'\n",
            "\n",
            "R[write to console]: Content type 'application/x-gzip'\n",
            "R[write to console]:  length 323742 bytes (316 KB)\n",
            "\n",
            "R[write to console]: =\n",
            "R[write to console]: =\n",
            "R[write to console]: =\n",
            "R[write to console]: =\n",
            "R[write to console]: =\n",
            "R[write to console]: =\n",
            "R[write to console]: =\n",
            "R[write to console]: =\n",
            "R[write to console]: =\n",
            "R[write to console]: =\n",
            "R[write to console]: =\n",
            "R[write to console]: =\n",
            "R[write to console]: =\n",
            "R[write to console]: =\n",
            "R[write to console]: =\n",
            "R[write to console]: =\n",
            "R[write to console]: =\n",
            "R[write to console]: =\n",
            "R[write to console]: =\n",
            "R[write to console]: =\n",
            "R[write to console]: =\n",
            "R[write to console]: =\n",
            "R[write to console]: =\n",
            "R[write to console]: =\n",
            "R[write to console]: =\n",
            "R[write to console]: =\n",
            "R[write to console]: =\n",
            "R[write to console]: =\n",
            "R[write to console]: =\n",
            "R[write to console]: =\n",
            "R[write to console]: =\n",
            "R[write to console]: =\n",
            "R[write to console]: =\n",
            "R[write to console]: =\n",
            "R[write to console]: =\n",
            "R[write to console]: =\n",
            "R[write to console]: =\n",
            "R[write to console]: =\n",
            "R[write to console]: =\n",
            "R[write to console]: =\n",
            "R[write to console]: =\n",
            "R[write to console]: =\n",
            "R[write to console]: =\n",
            "R[write to console]: =\n",
            "R[write to console]: =\n",
            "R[write to console]: =\n",
            "R[write to console]: =\n",
            "R[write to console]: =\n",
            "R[write to console]: =\n",
            "R[write to console]: =\n",
            "R[write to console]: \n",
            "\n",
            "R[write to console]: downloaded 316 KB\n",
            "\n",
            "\n",
            "R[write to console]: trying URL 'https://cran.rstudio.com/src/contrib/insight_0.17.1.tar.gz'\n",
            "\n",
            "R[write to console]: Content type 'application/x-gzip'\n",
            "R[write to console]:  length 863795 bytes (843 KB)\n",
            "\n",
            "R[write to console]: =\n",
            "R[write to console]: =\n",
            "R[write to console]: =\n",
            "R[write to console]: =\n",
            "R[write to console]: =\n",
            "R[write to console]: =\n",
            "R[write to console]: =\n",
            "R[write to console]: =\n",
            "R[write to console]: =\n",
            "R[write to console]: =\n",
            "R[write to console]: =\n",
            "R[write to console]: =\n",
            "R[write to console]: =\n",
            "R[write to console]: =\n",
            "R[write to console]: =\n",
            "R[write to console]: =\n",
            "R[write to console]: =\n",
            "R[write to console]: =\n",
            "R[write to console]: =\n",
            "R[write to console]: =\n",
            "R[write to console]: =\n",
            "R[write to console]: =\n",
            "R[write to console]: =\n",
            "R[write to console]: =\n",
            "R[write to console]: =\n",
            "R[write to console]: =\n",
            "R[write to console]: =\n",
            "R[write to console]: =\n",
            "R[write to console]: =\n",
            "R[write to console]: =\n",
            "R[write to console]: =\n",
            "R[write to console]: =\n",
            "R[write to console]: =\n",
            "R[write to console]: =\n",
            "R[write to console]: =\n",
            "R[write to console]: =\n",
            "R[write to console]: =\n",
            "R[write to console]: =\n",
            "R[write to console]: =\n",
            "R[write to console]: =\n",
            "R[write to console]: =\n",
            "R[write to console]: =\n",
            "R[write to console]: =\n",
            "R[write to console]: =\n",
            "R[write to console]: =\n",
            "R[write to console]: =\n",
            "R[write to console]: =\n",
            "R[write to console]: =\n",
            "R[write to console]: =\n",
            "R[write to console]: =\n",
            "R[write to console]: \n",
            "\n",
            "R[write to console]: downloaded 843 KB\n",
            "\n",
            "\n",
            "R[write to console]: trying URL 'https://cran.rstudio.com/src/contrib/parameters_0.18.1.tar.gz'\n",
            "\n",
            "R[write to console]: Content type 'application/x-gzip'\n",
            "R[write to console]:  length 567006 bytes (553 KB)\n",
            "\n",
            "R[write to console]: =\n",
            "R[write to console]: =\n",
            "R[write to console]: =\n",
            "R[write to console]: =\n",
            "R[write to console]: =\n",
            "R[write to console]: =\n",
            "R[write to console]: =\n",
            "R[write to console]: =\n",
            "R[write to console]: =\n",
            "R[write to console]: =\n",
            "R[write to console]: =\n",
            "R[write to console]: =\n",
            "R[write to console]: =\n",
            "R[write to console]: =\n",
            "R[write to console]: =\n",
            "R[write to console]: =\n",
            "R[write to console]: =\n",
            "R[write to console]: =\n",
            "R[write to console]: =\n",
            "R[write to console]: =\n",
            "R[write to console]: =\n",
            "R[write to console]: =\n",
            "R[write to console]: =\n",
            "R[write to console]: =\n",
            "R[write to console]: =\n",
            "R[write to console]: =\n",
            "R[write to console]: =\n",
            "R[write to console]: =\n",
            "R[write to console]: =\n",
            "R[write to console]: =\n",
            "R[write to console]: =\n",
            "R[write to console]: =\n",
            "R[write to console]: =\n",
            "R[write to console]: =\n",
            "R[write to console]: =\n",
            "R[write to console]: =\n",
            "R[write to console]: =\n",
            "R[write to console]: =\n",
            "R[write to console]: =\n",
            "R[write to console]: =\n",
            "R[write to console]: =\n",
            "R[write to console]: =\n",
            "R[write to console]: =\n",
            "R[write to console]: =\n",
            "R[write to console]: =\n",
            "R[write to console]: =\n",
            "R[write to console]: =\n",
            "R[write to console]: =\n",
            "R[write to console]: =\n",
            "R[write to console]: =\n",
            "R[write to console]: \n",
            "\n",
            "R[write to console]: downloaded 553 KB\n",
            "\n",
            "\n",
            "R[write to console]: trying URL 'https://cran.rstudio.com/src/contrib/performance_0.9.0.tar.gz'\n",
            "\n",
            "R[write to console]: Content type 'application/x-gzip'\n",
            "R[write to console]:  length 2203730 bytes (2.1 MB)\n",
            "\n",
            "R[write to console]: =\n",
            "R[write to console]: =\n",
            "R[write to console]: =\n",
            "R[write to console]: =\n",
            "R[write to console]: =\n",
            "R[write to console]: =\n",
            "R[write to console]: =\n",
            "R[write to console]: =\n",
            "R[write to console]: =\n",
            "R[write to console]: =\n",
            "R[write to console]: =\n",
            "R[write to console]: =\n",
            "R[write to console]: =\n",
            "R[write to console]: =\n",
            "R[write to console]: =\n",
            "R[write to console]: =\n",
            "R[write to console]: =\n",
            "R[write to console]: =\n",
            "R[write to console]: =\n",
            "R[write to console]: =\n",
            "R[write to console]: =\n",
            "R[write to console]: =\n",
            "R[write to console]: =\n",
            "R[write to console]: =\n",
            "R[write to console]: =\n",
            "R[write to console]: =\n",
            "R[write to console]: =\n",
            "R[write to console]: =\n",
            "R[write to console]: =\n",
            "R[write to console]: =\n",
            "R[write to console]: =\n",
            "R[write to console]: =\n",
            "R[write to console]: =\n",
            "R[write to console]: =\n",
            "R[write to console]: =\n",
            "R[write to console]: =\n",
            "R[write to console]: =\n",
            "R[write to console]: =\n",
            "R[write to console]: =\n",
            "R[write to console]: =\n",
            "R[write to console]: =\n",
            "R[write to console]: =\n",
            "R[write to console]: =\n",
            "R[write to console]: =\n",
            "R[write to console]: =\n",
            "R[write to console]: =\n",
            "R[write to console]: =\n",
            "R[write to console]: =\n",
            "R[write to console]: =\n",
            "R[write to console]: =\n",
            "R[write to console]: \n",
            "\n",
            "R[write to console]: downloaded 2.1 MB\n",
            "\n",
            "\n",
            "R[write to console]: trying URL 'https://cran.rstudio.com/src/contrib/datawizard_0.4.1.tar.gz'\n",
            "\n",
            "R[write to console]: Content type 'application/x-gzip'\n",
            "R[write to console]:  length 611741 bytes (597 KB)\n",
            "\n",
            "R[write to console]: =\n",
            "R[write to console]: =\n",
            "R[write to console]: =\n",
            "R[write to console]: =\n",
            "R[write to console]: =\n",
            "R[write to console]: =\n",
            "R[write to console]: =\n",
            "R[write to console]: =\n",
            "R[write to console]: =\n",
            "R[write to console]: =\n",
            "R[write to console]: =\n",
            "R[write to console]: =\n",
            "R[write to console]: =\n",
            "R[write to console]: =\n",
            "R[write to console]: =\n",
            "R[write to console]: =\n",
            "R[write to console]: =\n",
            "R[write to console]: =\n",
            "R[write to console]: =\n",
            "R[write to console]: =\n",
            "R[write to console]: =\n",
            "R[write to console]: =\n",
            "R[write to console]: =\n",
            "R[write to console]: =\n",
            "R[write to console]: =\n",
            "R[write to console]: =\n",
            "R[write to console]: =\n",
            "R[write to console]: =\n",
            "R[write to console]: =\n",
            "R[write to console]: =\n",
            "R[write to console]: =\n",
            "R[write to console]: =\n",
            "R[write to console]: =\n",
            "R[write to console]: =\n",
            "R[write to console]: =\n",
            "R[write to console]: =\n",
            "R[write to console]: =\n",
            "R[write to console]: =\n",
            "R[write to console]: =\n",
            "R[write to console]: =\n",
            "R[write to console]: =\n",
            "R[write to console]: =\n",
            "R[write to console]: =\n",
            "R[write to console]: =\n",
            "R[write to console]: =\n",
            "R[write to console]: =\n",
            "R[write to console]: =\n",
            "R[write to console]: =\n",
            "R[write to console]: =\n",
            "R[write to console]: =\n",
            "R[write to console]: \n",
            "\n",
            "R[write to console]: downloaded 597 KB\n",
            "\n",
            "\n",
            "R[write to console]: trying URL 'https://cran.rstudio.com/src/contrib/report_0.5.1.tar.gz'\n",
            "\n",
            "R[write to console]: Content type 'application/x-gzip'\n",
            "R[write to console]:  length 1852905 bytes (1.8 MB)\n",
            "\n",
            "R[write to console]: =\n",
            "R[write to console]: =\n",
            "R[write to console]: =\n",
            "R[write to console]: =\n",
            "R[write to console]: =\n",
            "R[write to console]: =\n",
            "R[write to console]: =\n",
            "R[write to console]: =\n",
            "R[write to console]: =\n",
            "R[write to console]: =\n",
            "R[write to console]: =\n",
            "R[write to console]: =\n",
            "R[write to console]: =\n",
            "R[write to console]: =\n",
            "R[write to console]: =\n",
            "R[write to console]: =\n",
            "R[write to console]: =\n",
            "R[write to console]: =\n",
            "R[write to console]: =\n",
            "R[write to console]: =\n",
            "R[write to console]: =\n",
            "R[write to console]: =\n",
            "R[write to console]: =\n",
            "R[write to console]: =\n",
            "R[write to console]: =\n",
            "R[write to console]: =\n",
            "R[write to console]: =\n",
            "R[write to console]: =\n",
            "R[write to console]: =\n",
            "R[write to console]: =\n",
            "R[write to console]: =\n",
            "R[write to console]: =\n",
            "R[write to console]: =\n",
            "R[write to console]: =\n",
            "R[write to console]: =\n",
            "R[write to console]: =\n",
            "R[write to console]: =\n",
            "R[write to console]: =\n",
            "R[write to console]: =\n",
            "R[write to console]: =\n",
            "R[write to console]: =\n",
            "R[write to console]: =\n",
            "R[write to console]: =\n",
            "R[write to console]: =\n",
            "R[write to console]: =\n",
            "R[write to console]: =\n",
            "R[write to console]: =\n",
            "R[write to console]: =\n",
            "R[write to console]: =\n",
            "R[write to console]: =\n",
            "R[write to console]: \n",
            "\n",
            "R[write to console]: downloaded 1.8 MB\n",
            "\n",
            "\n",
            "R[write to console]: \n",
            "\n",
            "R[write to console]: \n",
            "R[write to console]: The downloaded source packages are in\n",
            "\t‘/tmp/RtmpFAfTnD/downloaded_packages’\n",
            "R[write to console]: \n",
            "R[write to console]: \n",
            "\n",
            "R[write to console]: \n",
            "report installed\n",
            "\n",
            "R[write to console]: Installing package into ‘/usr/local/lib/R/site-library’\n",
            "(as ‘lib’ is unspecified)\n",
            "\n",
            "R[write to console]: also installing the dependency ‘sjlabelled’\n",
            "\n",
            "\n",
            "R[write to console]: trying URL 'https://cran.rstudio.com/src/contrib/sjlabelled_1.2.0.tar.gz'\n",
            "\n",
            "R[write to console]: Content type 'application/x-gzip'\n",
            "R[write to console]:  length 155265 bytes (151 KB)\n",
            "\n",
            "R[write to console]: =\n",
            "R[write to console]: =\n",
            "R[write to console]: =\n",
            "R[write to console]: =\n",
            "R[write to console]: =\n",
            "R[write to console]: =\n",
            "R[write to console]: =\n",
            "R[write to console]: =\n",
            "R[write to console]: =\n",
            "R[write to console]: =\n",
            "R[write to console]: =\n",
            "R[write to console]: =\n",
            "R[write to console]: =\n",
            "R[write to console]: =\n",
            "R[write to console]: =\n",
            "R[write to console]: =\n",
            "R[write to console]: =\n",
            "R[write to console]: =\n",
            "R[write to console]: =\n",
            "R[write to console]: =\n",
            "R[write to console]: =\n",
            "R[write to console]: =\n",
            "R[write to console]: =\n",
            "R[write to console]: =\n",
            "R[write to console]: =\n",
            "R[write to console]: =\n",
            "R[write to console]: =\n",
            "R[write to console]: =\n",
            "R[write to console]: =\n",
            "R[write to console]: =\n",
            "R[write to console]: =\n",
            "R[write to console]: =\n",
            "R[write to console]: =\n",
            "R[write to console]: =\n",
            "R[write to console]: =\n",
            "R[write to console]: =\n",
            "R[write to console]: =\n",
            "R[write to console]: =\n",
            "R[write to console]: =\n",
            "R[write to console]: =\n",
            "R[write to console]: =\n",
            "R[write to console]: =\n",
            "R[write to console]: =\n",
            "R[write to console]: =\n",
            "R[write to console]: =\n",
            "R[write to console]: =\n",
            "R[write to console]: =\n",
            "R[write to console]: =\n",
            "R[write to console]: =\n",
            "R[write to console]: =\n",
            "R[write to console]: \n",
            "\n",
            "R[write to console]: downloaded 151 KB\n",
            "\n",
            "\n",
            "R[write to console]: trying URL 'https://cran.rstudio.com/src/contrib/sjmisc_2.8.9.tar.gz'\n",
            "\n",
            "R[write to console]: Content type 'application/x-gzip'\n",
            "R[write to console]:  length 236957 bytes (231 KB)\n",
            "\n",
            "R[write to console]: =\n",
            "R[write to console]: =\n",
            "R[write to console]: =\n",
            "R[write to console]: =\n",
            "R[write to console]: =\n",
            "R[write to console]: =\n",
            "R[write to console]: =\n",
            "R[write to console]: =\n",
            "R[write to console]: =\n",
            "R[write to console]: =\n",
            "R[write to console]: =\n",
            "R[write to console]: =\n",
            "R[write to console]: =\n",
            "R[write to console]: =\n",
            "R[write to console]: =\n",
            "R[write to console]: =\n",
            "R[write to console]: =\n",
            "R[write to console]: =\n",
            "R[write to console]: =\n",
            "R[write to console]: =\n",
            "R[write to console]: =\n",
            "R[write to console]: =\n",
            "R[write to console]: =\n",
            "R[write to console]: =\n",
            "R[write to console]: =\n",
            "R[write to console]: =\n",
            "R[write to console]: =\n",
            "R[write to console]: =\n",
            "R[write to console]: =\n",
            "R[write to console]: =\n",
            "R[write to console]: =\n",
            "R[write to console]: =\n",
            "R[write to console]: =\n",
            "R[write to console]: =\n",
            "R[write to console]: =\n",
            "R[write to console]: =\n",
            "R[write to console]: =\n",
            "R[write to console]: =\n",
            "R[write to console]: =\n",
            "R[write to console]: =\n",
            "R[write to console]: =\n",
            "R[write to console]: =\n",
            "R[write to console]: =\n",
            "R[write to console]: =\n",
            "R[write to console]: =\n",
            "R[write to console]: =\n",
            "R[write to console]: =\n",
            "R[write to console]: =\n",
            "R[write to console]: =\n",
            "R[write to console]: =\n",
            "R[write to console]: \n",
            "\n",
            "R[write to console]: downloaded 231 KB\n",
            "\n",
            "\n",
            "R[write to console]: \n",
            "\n",
            "R[write to console]: \n",
            "R[write to console]: The downloaded source packages are in\n",
            "\t‘/tmp/RtmpFAfTnD/downloaded_packages’\n",
            "R[write to console]: \n",
            "R[write to console]: \n",
            "\n",
            "R[write to console]: \n",
            "sjmisc installed\n",
            "\n",
            "R[write to console]: Installing package into ‘/usr/local/lib/R/site-library’\n",
            "(as ‘lib’ is unspecified)\n",
            "\n",
            "R[write to console]: also installing the dependencies ‘png’, ‘jpeg’, ‘checkmate’, ‘htmlwidgets’, ‘Formula’, ‘latticeExtra’, ‘gridExtra’, ‘htmlTable’, ‘viridis’\n",
            "\n",
            "\n",
            "R[write to console]: trying URL 'https://cran.rstudio.com/src/contrib/png_0.1-7.tar.gz'\n",
            "\n",
            "R[write to console]: Content type 'application/x-gzip'\n",
            "R[write to console]:  length 24990 bytes (24 KB)\n",
            "\n",
            "R[write to console]: =\n",
            "R[write to console]: =\n",
            "R[write to console]: =\n",
            "R[write to console]: =\n",
            "R[write to console]: =\n",
            "R[write to console]: =\n",
            "R[write to console]: =\n",
            "R[write to console]: =\n",
            "R[write to console]: =\n",
            "R[write to console]: =\n",
            "R[write to console]: =\n",
            "R[write to console]: =\n",
            "R[write to console]: =\n",
            "R[write to console]: =\n",
            "R[write to console]: =\n",
            "R[write to console]: =\n",
            "R[write to console]: =\n",
            "R[write to console]: =\n",
            "R[write to console]: =\n",
            "R[write to console]: =\n",
            "R[write to console]: =\n",
            "R[write to console]: =\n",
            "R[write to console]: =\n",
            "R[write to console]: =\n",
            "R[write to console]: =\n",
            "R[write to console]: =\n",
            "R[write to console]: =\n",
            "R[write to console]: =\n",
            "R[write to console]: =\n",
            "R[write to console]: =\n",
            "R[write to console]: =\n",
            "R[write to console]: =\n",
            "R[write to console]: =\n",
            "R[write to console]: =\n",
            "R[write to console]: =\n",
            "R[write to console]: =\n",
            "R[write to console]: =\n",
            "R[write to console]: =\n",
            "R[write to console]: =\n",
            "R[write to console]: =\n",
            "R[write to console]: =\n",
            "R[write to console]: =\n",
            "R[write to console]: =\n",
            "R[write to console]: =\n",
            "R[write to console]: =\n",
            "R[write to console]: =\n",
            "R[write to console]: =\n",
            "R[write to console]: =\n",
            "R[write to console]: =\n",
            "R[write to console]: =\n",
            "R[write to console]: \n",
            "\n",
            "R[write to console]: downloaded 24 KB\n",
            "\n",
            "\n",
            "R[write to console]: trying URL 'https://cran.rstudio.com/src/contrib/jpeg_0.1-9.tar.gz'\n",
            "\n",
            "R[write to console]: Content type 'application/x-gzip'\n",
            "R[write to console]:  length 18596 bytes (18 KB)\n",
            "\n",
            "R[write to console]: =\n",
            "R[write to console]: =\n",
            "R[write to console]: =\n",
            "R[write to console]: =\n",
            "R[write to console]: =\n",
            "R[write to console]: =\n",
            "R[write to console]: =\n",
            "R[write to console]: =\n",
            "R[write to console]: =\n",
            "R[write to console]: =\n",
            "R[write to console]: =\n",
            "R[write to console]: =\n",
            "R[write to console]: =\n",
            "R[write to console]: =\n",
            "R[write to console]: =\n",
            "R[write to console]: =\n",
            "R[write to console]: =\n",
            "R[write to console]: =\n",
            "R[write to console]: =\n",
            "R[write to console]: =\n",
            "R[write to console]: =\n",
            "R[write to console]: =\n",
            "R[write to console]: =\n",
            "R[write to console]: =\n",
            "R[write to console]: =\n",
            "R[write to console]: =\n",
            "R[write to console]: =\n",
            "R[write to console]: =\n",
            "R[write to console]: =\n",
            "R[write to console]: =\n",
            "R[write to console]: =\n",
            "R[write to console]: =\n",
            "R[write to console]: =\n",
            "R[write to console]: =\n",
            "R[write to console]: =\n",
            "R[write to console]: =\n",
            "R[write to console]: =\n",
            "R[write to console]: =\n",
            "R[write to console]: =\n",
            "R[write to console]: =\n",
            "R[write to console]: =\n",
            "R[write to console]: =\n",
            "R[write to console]: =\n",
            "R[write to console]: =\n",
            "R[write to console]: =\n",
            "R[write to console]: =\n",
            "R[write to console]: =\n",
            "R[write to console]: =\n",
            "R[write to console]: =\n",
            "R[write to console]: =\n",
            "R[write to console]: \n",
            "\n",
            "R[write to console]: downloaded 18 KB\n",
            "\n",
            "\n",
            "R[write to console]: trying URL 'https://cran.rstudio.com/src/contrib/checkmate_2.1.0.tar.gz'\n",
            "\n",
            "R[write to console]: Content type 'application/x-gzip'\n",
            "R[write to console]:  length 170034 bytes (166 KB)\n",
            "\n",
            "R[write to console]: =\n",
            "R[write to console]: =\n",
            "R[write to console]: =\n",
            "R[write to console]: =\n",
            "R[write to console]: =\n",
            "R[write to console]: =\n",
            "R[write to console]: =\n",
            "R[write to console]: =\n",
            "R[write to console]: =\n",
            "R[write to console]: =\n",
            "R[write to console]: =\n",
            "R[write to console]: =\n",
            "R[write to console]: =\n",
            "R[write to console]: =\n",
            "R[write to console]: =\n",
            "R[write to console]: =\n",
            "R[write to console]: =\n",
            "R[write to console]: =\n",
            "R[write to console]: =\n",
            "R[write to console]: =\n",
            "R[write to console]: =\n",
            "R[write to console]: =\n",
            "R[write to console]: =\n",
            "R[write to console]: =\n",
            "R[write to console]: =\n",
            "R[write to console]: =\n",
            "R[write to console]: =\n",
            "R[write to console]: =\n",
            "R[write to console]: =\n",
            "R[write to console]: =\n",
            "R[write to console]: =\n",
            "R[write to console]: =\n",
            "R[write to console]: =\n",
            "R[write to console]: =\n",
            "R[write to console]: =\n",
            "R[write to console]: =\n",
            "R[write to console]: =\n",
            "R[write to console]: =\n",
            "R[write to console]: =\n",
            "R[write to console]: =\n",
            "R[write to console]: =\n",
            "R[write to console]: =\n",
            "R[write to console]: =\n",
            "R[write to console]: =\n",
            "R[write to console]: =\n",
            "R[write to console]: =\n",
            "R[write to console]: =\n",
            "R[write to console]: =\n",
            "R[write to console]: =\n",
            "R[write to console]: =\n",
            "R[write to console]: \n",
            "\n",
            "R[write to console]: downloaded 166 KB\n",
            "\n",
            "\n",
            "R[write to console]: trying URL 'https://cran.rstudio.com/src/contrib/htmlwidgets_1.5.4.tar.gz'\n",
            "\n",
            "R[write to console]: Content type 'application/x-gzip'\n",
            "R[write to console]:  length 956850 bytes (934 KB)\n",
            "\n",
            "R[write to console]: =\n",
            "R[write to console]: =\n",
            "R[write to console]: =\n",
            "R[write to console]: =\n",
            "R[write to console]: =\n",
            "R[write to console]: =\n",
            "R[write to console]: =\n",
            "R[write to console]: =\n",
            "R[write to console]: =\n",
            "R[write to console]: =\n",
            "R[write to console]: =\n",
            "R[write to console]: =\n",
            "R[write to console]: =\n",
            "R[write to console]: =\n",
            "R[write to console]: =\n",
            "R[write to console]: =\n",
            "R[write to console]: =\n",
            "R[write to console]: =\n",
            "R[write to console]: =\n",
            "R[write to console]: =\n",
            "R[write to console]: =\n",
            "R[write to console]: =\n",
            "R[write to console]: =\n",
            "R[write to console]: =\n",
            "R[write to console]: =\n",
            "R[write to console]: =\n",
            "R[write to console]: =\n",
            "R[write to console]: =\n",
            "R[write to console]: =\n",
            "R[write to console]: =\n",
            "R[write to console]: =\n",
            "R[write to console]: =\n",
            "R[write to console]: =\n",
            "R[write to console]: =\n",
            "R[write to console]: =\n",
            "R[write to console]: =\n",
            "R[write to console]: =\n",
            "R[write to console]: =\n",
            "R[write to console]: =\n",
            "R[write to console]: =\n",
            "R[write to console]: =\n",
            "R[write to console]: =\n",
            "R[write to console]: =\n",
            "R[write to console]: =\n",
            "R[write to console]: =\n",
            "R[write to console]: =\n",
            "R[write to console]: =\n",
            "R[write to console]: =\n",
            "R[write to console]: =\n",
            "R[write to console]: =\n",
            "R[write to console]: \n",
            "\n",
            "R[write to console]: downloaded 934 KB\n",
            "\n",
            "\n",
            "R[write to console]: trying URL 'https://cran.rstudio.com/src/contrib/Formula_1.2-4.tar.gz'\n",
            "\n",
            "R[write to console]: Content type 'application/x-gzip'\n",
            "R[write to console]:  length 164214 bytes (160 KB)\n",
            "\n",
            "R[write to console]: =\n",
            "R[write to console]: =\n",
            "R[write to console]: =\n",
            "R[write to console]: =\n",
            "R[write to console]: =\n",
            "R[write to console]: =\n",
            "R[write to console]: =\n",
            "R[write to console]: =\n",
            "R[write to console]: =\n",
            "R[write to console]: =\n",
            "R[write to console]: =\n",
            "R[write to console]: =\n",
            "R[write to console]: =\n",
            "R[write to console]: =\n",
            "R[write to console]: =\n",
            "R[write to console]: =\n",
            "R[write to console]: =\n",
            "R[write to console]: =\n",
            "R[write to console]: =\n",
            "R[write to console]: =\n",
            "R[write to console]: =\n",
            "R[write to console]: =\n",
            "R[write to console]: =\n",
            "R[write to console]: =\n",
            "R[write to console]: =\n",
            "R[write to console]: =\n",
            "R[write to console]: =\n",
            "R[write to console]: =\n",
            "R[write to console]: =\n",
            "R[write to console]: =\n",
            "R[write to console]: =\n",
            "R[write to console]: =\n",
            "R[write to console]: =\n",
            "R[write to console]: =\n",
            "R[write to console]: =\n",
            "R[write to console]: =\n",
            "R[write to console]: =\n",
            "R[write to console]: =\n",
            "R[write to console]: =\n",
            "R[write to console]: =\n",
            "R[write to console]: =\n",
            "R[write to console]: =\n",
            "R[write to console]: =\n",
            "R[write to console]: =\n",
            "R[write to console]: =\n",
            "R[write to console]: =\n",
            "R[write to console]: =\n",
            "R[write to console]: =\n",
            "R[write to console]: =\n",
            "R[write to console]: =\n",
            "R[write to console]: \n",
            "\n",
            "R[write to console]: downloaded 160 KB\n",
            "\n",
            "\n",
            "R[write to console]: trying URL 'https://cran.rstudio.com/src/contrib/latticeExtra_0.6-29.tar.gz'\n",
            "\n",
            "R[write to console]: Content type 'application/x-gzip'\n",
            "R[write to console]:  length 1292315 bytes (1.2 MB)\n",
            "\n",
            "R[write to console]: =\n",
            "R[write to console]: =\n",
            "R[write to console]: =\n",
            "R[write to console]: =\n",
            "R[write to console]: =\n",
            "R[write to console]: =\n",
            "R[write to console]: =\n",
            "R[write to console]: =\n",
            "R[write to console]: =\n",
            "R[write to console]: =\n",
            "R[write to console]: =\n",
            "R[write to console]: =\n",
            "R[write to console]: =\n",
            "R[write to console]: =\n",
            "R[write to console]: =\n",
            "R[write to console]: =\n",
            "R[write to console]: =\n",
            "R[write to console]: =\n",
            "R[write to console]: =\n",
            "R[write to console]: =\n",
            "R[write to console]: =\n",
            "R[write to console]: =\n",
            "R[write to console]: =\n",
            "R[write to console]: =\n",
            "R[write to console]: =\n",
            "R[write to console]: =\n",
            "R[write to console]: =\n",
            "R[write to console]: =\n",
            "R[write to console]: =\n",
            "R[write to console]: =\n",
            "R[write to console]: =\n",
            "R[write to console]: =\n",
            "R[write to console]: =\n",
            "R[write to console]: =\n",
            "R[write to console]: =\n",
            "R[write to console]: =\n",
            "R[write to console]: =\n",
            "R[write to console]: =\n",
            "R[write to console]: =\n",
            "R[write to console]: =\n",
            "R[write to console]: =\n",
            "R[write to console]: =\n",
            "R[write to console]: =\n",
            "R[write to console]: =\n",
            "R[write to console]: =\n",
            "R[write to console]: =\n",
            "R[write to console]: =\n",
            "R[write to console]: =\n",
            "R[write to console]: =\n",
            "R[write to console]: =\n",
            "R[write to console]: \n",
            "\n",
            "R[write to console]: downloaded 1.2 MB\n",
            "\n",
            "\n",
            "R[write to console]: trying URL 'https://cran.rstudio.com/src/contrib/gridExtra_2.3.tar.gz'\n",
            "\n",
            "R[write to console]: Content type 'application/x-gzip'\n",
            "R[write to console]:  length 1062844 bytes (1.0 MB)\n",
            "\n",
            "R[write to console]: =\n",
            "R[write to console]: =\n",
            "R[write to console]: =\n",
            "R[write to console]: =\n",
            "R[write to console]: =\n",
            "R[write to console]: =\n",
            "R[write to console]: =\n",
            "R[write to console]: =\n",
            "R[write to console]: =\n",
            "R[write to console]: =\n",
            "R[write to console]: =\n",
            "R[write to console]: =\n",
            "R[write to console]: =\n",
            "R[write to console]: =\n",
            "R[write to console]: =\n",
            "R[write to console]: =\n",
            "R[write to console]: =\n",
            "R[write to console]: =\n",
            "R[write to console]: =\n",
            "R[write to console]: =\n",
            "R[write to console]: =\n",
            "R[write to console]: =\n",
            "R[write to console]: =\n",
            "R[write to console]: =\n",
            "R[write to console]: =\n",
            "R[write to console]: =\n",
            "R[write to console]: =\n",
            "R[write to console]: =\n",
            "R[write to console]: =\n",
            "R[write to console]: =\n",
            "R[write to console]: =\n",
            "R[write to console]: =\n",
            "R[write to console]: =\n",
            "R[write to console]: =\n",
            "R[write to console]: =\n",
            "R[write to console]: =\n",
            "R[write to console]: =\n",
            "R[write to console]: =\n",
            "R[write to console]: =\n",
            "R[write to console]: =\n",
            "R[write to console]: =\n",
            "R[write to console]: =\n",
            "R[write to console]: =\n",
            "R[write to console]: =\n",
            "R[write to console]: =\n",
            "R[write to console]: =\n",
            "R[write to console]: =\n",
            "R[write to console]: =\n",
            "R[write to console]: =\n",
            "R[write to console]: =\n",
            "R[write to console]: \n",
            "\n",
            "R[write to console]: downloaded 1.0 MB\n",
            "\n",
            "\n",
            "R[write to console]: trying URL 'https://cran.rstudio.com/src/contrib/htmlTable_2.4.0.tar.gz'\n",
            "\n",
            "R[write to console]: Content type 'application/x-gzip'\n",
            "R[write to console]:  length 438209 bytes (427 KB)\n",
            "\n",
            "R[write to console]: =\n",
            "R[write to console]: =\n",
            "R[write to console]: =\n",
            "R[write to console]: =\n",
            "R[write to console]: =\n",
            "R[write to console]: =\n",
            "R[write to console]: =\n",
            "R[write to console]: =\n",
            "R[write to console]: =\n",
            "R[write to console]: =\n",
            "R[write to console]: =\n",
            "R[write to console]: =\n",
            "R[write to console]: =\n",
            "R[write to console]: =\n",
            "R[write to console]: =\n",
            "R[write to console]: =\n",
            "R[write to console]: =\n",
            "R[write to console]: =\n",
            "R[write to console]: =\n",
            "R[write to console]: =\n",
            "R[write to console]: =\n",
            "R[write to console]: =\n",
            "R[write to console]: =\n",
            "R[write to console]: =\n",
            "R[write to console]: =\n",
            "R[write to console]: =\n",
            "R[write to console]: =\n",
            "R[write to console]: =\n",
            "R[write to console]: =\n",
            "R[write to console]: =\n",
            "R[write to console]: =\n",
            "R[write to console]: =\n",
            "R[write to console]: =\n",
            "R[write to console]: =\n",
            "R[write to console]: =\n",
            "R[write to console]: =\n",
            "R[write to console]: =\n",
            "R[write to console]: =\n",
            "R[write to console]: =\n",
            "R[write to console]: =\n",
            "R[write to console]: =\n",
            "R[write to console]: =\n",
            "R[write to console]: =\n",
            "R[write to console]: =\n",
            "R[write to console]: =\n",
            "R[write to console]: =\n",
            "R[write to console]: =\n",
            "R[write to console]: =\n",
            "R[write to console]: =\n",
            "R[write to console]: =\n",
            "R[write to console]: \n",
            "\n",
            "R[write to console]: downloaded 427 KB\n",
            "\n",
            "\n",
            "R[write to console]: trying URL 'https://cran.rstudio.com/src/contrib/viridis_0.6.2.tar.gz'\n",
            "\n",
            "R[write to console]: Content type 'application/x-gzip'\n",
            "R[write to console]:  length 3031731 bytes (2.9 MB)\n",
            "\n",
            "R[write to console]: =\n",
            "R[write to console]: =\n",
            "R[write to console]: =\n",
            "R[write to console]: =\n",
            "R[write to console]: =\n",
            "R[write to console]: =\n",
            "R[write to console]: =\n",
            "R[write to console]: =\n",
            "R[write to console]: =\n",
            "R[write to console]: =\n",
            "R[write to console]: =\n",
            "R[write to console]: =\n",
            "R[write to console]: =\n",
            "R[write to console]: =\n",
            "R[write to console]: =\n",
            "R[write to console]: =\n",
            "R[write to console]: =\n",
            "R[write to console]: =\n",
            "R[write to console]: =\n",
            "R[write to console]: =\n",
            "R[write to console]: =\n",
            "R[write to console]: =\n",
            "R[write to console]: =\n",
            "R[write to console]: =\n",
            "R[write to console]: =\n",
            "R[write to console]: =\n",
            "R[write to console]: =\n",
            "R[write to console]: =\n",
            "R[write to console]: =\n",
            "R[write to console]: =\n",
            "R[write to console]: =\n",
            "R[write to console]: =\n",
            "R[write to console]: =\n",
            "R[write to console]: =\n",
            "R[write to console]: =\n",
            "R[write to console]: =\n",
            "R[write to console]: =\n",
            "R[write to console]: =\n",
            "R[write to console]: =\n",
            "R[write to console]: =\n",
            "R[write to console]: =\n",
            "R[write to console]: =\n",
            "R[write to console]: =\n",
            "R[write to console]: =\n",
            "R[write to console]: =\n",
            "R[write to console]: =\n",
            "R[write to console]: =\n",
            "R[write to console]: =\n",
            "R[write to console]: =\n",
            "R[write to console]: =\n",
            "R[write to console]: \n",
            "\n",
            "R[write to console]: downloaded 2.9 MB\n",
            "\n",
            "\n",
            "R[write to console]: trying URL 'https://cran.rstudio.com/src/contrib/Hmisc_4.7-0.tar.gz'\n",
            "\n",
            "R[write to console]: Content type 'application/x-gzip'\n",
            "R[write to console]:  length 790794 bytes (772 KB)\n",
            "\n",
            "R[write to console]: =\n",
            "R[write to console]: =\n",
            "R[write to console]: =\n",
            "R[write to console]: =\n",
            "R[write to console]: =\n",
            "R[write to console]: =\n",
            "R[write to console]: =\n",
            "R[write to console]: =\n",
            "R[write to console]: =\n",
            "R[write to console]: =\n",
            "R[write to console]: =\n",
            "R[write to console]: =\n",
            "R[write to console]: =\n",
            "R[write to console]: =\n",
            "R[write to console]: =\n",
            "R[write to console]: =\n",
            "R[write to console]: =\n",
            "R[write to console]: =\n",
            "R[write to console]: =\n",
            "R[write to console]: =\n",
            "R[write to console]: =\n",
            "R[write to console]: =\n",
            "R[write to console]: =\n",
            "R[write to console]: =\n",
            "R[write to console]: =\n",
            "R[write to console]: =\n",
            "R[write to console]: =\n",
            "R[write to console]: =\n",
            "R[write to console]: =\n",
            "R[write to console]: =\n",
            "R[write to console]: =\n",
            "R[write to console]: =\n",
            "R[write to console]: =\n",
            "R[write to console]: =\n",
            "R[write to console]: =\n",
            "R[write to console]: =\n",
            "R[write to console]: =\n",
            "R[write to console]: =\n",
            "R[write to console]: =\n",
            "R[write to console]: =\n",
            "R[write to console]: =\n",
            "R[write to console]: =\n",
            "R[write to console]: =\n",
            "R[write to console]: =\n",
            "R[write to console]: =\n",
            "R[write to console]: =\n",
            "R[write to console]: =\n",
            "R[write to console]: =\n",
            "R[write to console]: =\n",
            "R[write to console]: =\n",
            "R[write to console]: \n",
            "\n",
            "R[write to console]: downloaded 772 KB\n",
            "\n",
            "\n",
            "R[write to console]: \n",
            "\n",
            "R[write to console]: \n",
            "R[write to console]: The downloaded source packages are in\n",
            "\t‘/tmp/RtmpFAfTnD/downloaded_packages’\n",
            "R[write to console]: \n",
            "R[write to console]: \n",
            "\n",
            "R[write to console]: \n",
            "Hmisc installed\n",
            "\n",
            "R[write to console]: Installing package into ‘/usr/local/lib/R/site-library’\n",
            "(as ‘lib’ is unspecified)\n",
            "\n",
            "R[write to console]: also installing the dependencies ‘gtools’, ‘gdata’\n",
            "\n",
            "\n",
            "R[write to console]: trying URL 'https://cran.rstudio.com/src/contrib/gtools_3.9.2.1.tar.gz'\n",
            "\n",
            "R[write to console]: Content type 'application/x-gzip'\n",
            "R[write to console]:  length 223562 bytes (218 KB)\n",
            "\n",
            "R[write to console]: =\n",
            "R[write to console]: =\n",
            "R[write to console]: =\n",
            "R[write to console]: =\n",
            "R[write to console]: =\n",
            "R[write to console]: =\n",
            "R[write to console]: =\n",
            "R[write to console]: =\n",
            "R[write to console]: =\n",
            "R[write to console]: =\n",
            "R[write to console]: =\n",
            "R[write to console]: =\n",
            "R[write to console]: =\n",
            "R[write to console]: =\n",
            "R[write to console]: =\n",
            "R[write to console]: =\n",
            "R[write to console]: =\n",
            "R[write to console]: =\n",
            "R[write to console]: =\n",
            "R[write to console]: =\n",
            "R[write to console]: =\n",
            "R[write to console]: =\n",
            "R[write to console]: =\n",
            "R[write to console]: =\n",
            "R[write to console]: =\n",
            "R[write to console]: =\n",
            "R[write to console]: =\n",
            "R[write to console]: =\n",
            "R[write to console]: =\n",
            "R[write to console]: =\n",
            "R[write to console]: =\n",
            "R[write to console]: =\n",
            "R[write to console]: =\n",
            "R[write to console]: =\n",
            "R[write to console]: =\n",
            "R[write to console]: =\n",
            "R[write to console]: =\n",
            "R[write to console]: =\n",
            "R[write to console]: =\n",
            "R[write to console]: =\n",
            "R[write to console]: =\n",
            "R[write to console]: =\n",
            "R[write to console]: =\n",
            "R[write to console]: =\n",
            "R[write to console]: =\n",
            "R[write to console]: =\n",
            "R[write to console]: =\n",
            "R[write to console]: =\n",
            "R[write to console]: =\n",
            "R[write to console]: =\n",
            "R[write to console]: \n",
            "\n",
            "R[write to console]: downloaded 218 KB\n",
            "\n",
            "\n",
            "R[write to console]: trying URL 'https://cran.rstudio.com/src/contrib/gdata_2.18.0.1.tar.gz'\n",
            "\n",
            "R[write to console]: Content type 'application/x-gzip'\n",
            "R[write to console]:  length 1054317 bytes (1.0 MB)\n",
            "\n",
            "R[write to console]: =\n",
            "R[write to console]: =\n",
            "R[write to console]: =\n",
            "R[write to console]: =\n",
            "R[write to console]: =\n",
            "R[write to console]: =\n",
            "R[write to console]: =\n",
            "R[write to console]: =\n",
            "R[write to console]: =\n",
            "R[write to console]: =\n",
            "R[write to console]: =\n",
            "R[write to console]: =\n",
            "R[write to console]: =\n",
            "R[write to console]: =\n",
            "R[write to console]: =\n",
            "R[write to console]: =\n",
            "R[write to console]: =\n",
            "R[write to console]: =\n",
            "R[write to console]: =\n",
            "R[write to console]: =\n",
            "R[write to console]: =\n",
            "R[write to console]: =\n",
            "R[write to console]: =\n",
            "R[write to console]: =\n",
            "R[write to console]: =\n",
            "R[write to console]: =\n",
            "R[write to console]: =\n",
            "R[write to console]: =\n",
            "R[write to console]: =\n",
            "R[write to console]: =\n",
            "R[write to console]: =\n",
            "R[write to console]: =\n",
            "R[write to console]: =\n",
            "R[write to console]: =\n",
            "R[write to console]: =\n",
            "R[write to console]: =\n",
            "R[write to console]: =\n",
            "R[write to console]: =\n",
            "R[write to console]: =\n",
            "R[write to console]: =\n",
            "R[write to console]: =\n",
            "R[write to console]: =\n",
            "R[write to console]: =\n",
            "R[write to console]: =\n",
            "R[write to console]: =\n",
            "R[write to console]: =\n",
            "R[write to console]: =\n",
            "R[write to console]: =\n",
            "R[write to console]: =\n",
            "R[write to console]: =\n",
            "R[write to console]: \n",
            "\n",
            "R[write to console]: downloaded 1.0 MB\n",
            "\n",
            "\n",
            "R[write to console]: trying URL 'https://cran.rstudio.com/src/contrib/gmodels_2.18.1.1.tar.gz'\n",
            "\n",
            "R[write to console]: Content type 'application/x-gzip'\n",
            "R[write to console]:  length 33777 bytes (32 KB)\n",
            "\n",
            "R[write to console]: =\n",
            "R[write to console]: =\n",
            "R[write to console]: =\n",
            "R[write to console]: =\n",
            "R[write to console]: =\n",
            "R[write to console]: =\n",
            "R[write to console]: =\n",
            "R[write to console]: =\n",
            "R[write to console]: =\n",
            "R[write to console]: =\n",
            "R[write to console]: =\n",
            "R[write to console]: =\n",
            "R[write to console]: =\n",
            "R[write to console]: =\n",
            "R[write to console]: =\n",
            "R[write to console]: =\n",
            "R[write to console]: =\n",
            "R[write to console]: =\n",
            "R[write to console]: =\n",
            "R[write to console]: =\n",
            "R[write to console]: =\n",
            "R[write to console]: =\n",
            "R[write to console]: =\n",
            "R[write to console]: =\n",
            "R[write to console]: =\n",
            "R[write to console]: =\n",
            "R[write to console]: =\n",
            "R[write to console]: =\n",
            "R[write to console]: =\n",
            "R[write to console]: =\n",
            "R[write to console]: =\n",
            "R[write to console]: =\n",
            "R[write to console]: =\n",
            "R[write to console]: =\n",
            "R[write to console]: =\n",
            "R[write to console]: =\n",
            "R[write to console]: =\n",
            "R[write to console]: =\n",
            "R[write to console]: =\n",
            "R[write to console]: =\n",
            "R[write to console]: =\n",
            "R[write to console]: =\n",
            "R[write to console]: =\n",
            "R[write to console]: =\n",
            "R[write to console]: =\n",
            "R[write to console]: =\n",
            "R[write to console]: =\n",
            "R[write to console]: =\n",
            "R[write to console]: =\n",
            "R[write to console]: =\n",
            "R[write to console]: \n",
            "\n",
            "R[write to console]: downloaded 32 KB\n",
            "\n",
            "\n",
            "R[write to console]: \n",
            "\n",
            "R[write to console]: \n",
            "R[write to console]: The downloaded source packages are in\n",
            "\t‘/tmp/RtmpFAfTnD/downloaded_packages’\n",
            "R[write to console]: \n",
            "R[write to console]: \n",
            "\n",
            "R[write to console]: \n",
            "gmodels installed\n",
            "\n",
            "R[write to console]: Installing package into ‘/usr/local/lib/R/site-library’\n",
            "(as ‘lib’ is unspecified)\n",
            "\n",
            "R[write to console]: also installing the dependencies ‘listenv’, ‘parallelly’, ‘future’, ‘globals’, ‘Rcpp’, ‘coda’, ‘furrr’, ‘httpuv’, ‘xtable’, ‘fontawesome’, ‘sourcetools’, ‘later’, ‘promises’, ‘broom.mixed’, ‘shiny’\n",
            "\n",
            "\n",
            "R[write to console]: trying URL 'https://cran.rstudio.com/src/contrib/listenv_0.8.0.tar.gz'\n",
            "\n",
            "R[write to console]: Content type 'application/x-gzip'\n",
            "R[write to console]:  length 36762 bytes (35 KB)\n",
            "\n",
            "R[write to console]: =\n",
            "R[write to console]: =\n",
            "R[write to console]: =\n",
            "R[write to console]: =\n",
            "R[write to console]: =\n",
            "R[write to console]: =\n",
            "R[write to console]: =\n",
            "R[write to console]: =\n",
            "R[write to console]: =\n",
            "R[write to console]: =\n",
            "R[write to console]: =\n",
            "R[write to console]: =\n",
            "R[write to console]: =\n",
            "R[write to console]: =\n",
            "R[write to console]: =\n",
            "R[write to console]: =\n",
            "R[write to console]: =\n",
            "R[write to console]: =\n",
            "R[write to console]: =\n",
            "R[write to console]: =\n",
            "R[write to console]: =\n",
            "R[write to console]: =\n",
            "R[write to console]: =\n",
            "R[write to console]: =\n",
            "R[write to console]: =\n",
            "R[write to console]: =\n",
            "R[write to console]: =\n",
            "R[write to console]: =\n",
            "R[write to console]: =\n",
            "R[write to console]: =\n",
            "R[write to console]: =\n",
            "R[write to console]: =\n",
            "R[write to console]: =\n",
            "R[write to console]: =\n",
            "R[write to console]: =\n",
            "R[write to console]: =\n",
            "R[write to console]: =\n",
            "R[write to console]: =\n",
            "R[write to console]: =\n",
            "R[write to console]: =\n",
            "R[write to console]: =\n",
            "R[write to console]: =\n",
            "R[write to console]: =\n",
            "R[write to console]: =\n",
            "R[write to console]: =\n",
            "R[write to console]: =\n",
            "R[write to console]: =\n",
            "R[write to console]: =\n",
            "R[write to console]: =\n",
            "R[write to console]: =\n",
            "R[write to console]: \n",
            "\n",
            "R[write to console]: downloaded 35 KB\n",
            "\n",
            "\n",
            "R[write to console]: trying URL 'https://cran.rstudio.com/src/contrib/parallelly_1.31.1.tar.gz'\n",
            "\n",
            "R[write to console]: Content type 'application/x-gzip'\n",
            "R[write to console]:  length 121211 bytes (118 KB)\n",
            "\n",
            "R[write to console]: =\n",
            "R[write to console]: =\n",
            "R[write to console]: =\n",
            "R[write to console]: =\n",
            "R[write to console]: =\n",
            "R[write to console]: =\n",
            "R[write to console]: =\n",
            "R[write to console]: =\n",
            "R[write to console]: =\n",
            "R[write to console]: =\n",
            "R[write to console]: =\n",
            "R[write to console]: =\n",
            "R[write to console]: =\n",
            "R[write to console]: =\n",
            "R[write to console]: =\n",
            "R[write to console]: =\n",
            "R[write to console]: =\n",
            "R[write to console]: =\n",
            "R[write to console]: =\n",
            "R[write to console]: =\n",
            "R[write to console]: =\n",
            "R[write to console]: =\n",
            "R[write to console]: =\n",
            "R[write to console]: =\n",
            "R[write to console]: =\n",
            "R[write to console]: =\n",
            "R[write to console]: =\n",
            "R[write to console]: =\n",
            "R[write to console]: =\n",
            "R[write to console]: =\n",
            "R[write to console]: =\n",
            "R[write to console]: =\n",
            "R[write to console]: =\n",
            "R[write to console]: =\n",
            "R[write to console]: =\n",
            "R[write to console]: =\n",
            "R[write to console]: =\n",
            "R[write to console]: =\n",
            "R[write to console]: =\n",
            "R[write to console]: =\n",
            "R[write to console]: =\n",
            "R[write to console]: =\n",
            "R[write to console]: =\n",
            "R[write to console]: =\n",
            "R[write to console]: =\n",
            "R[write to console]: =\n",
            "R[write to console]: =\n",
            "R[write to console]: =\n",
            "R[write to console]: =\n",
            "R[write to console]: =\n",
            "R[write to console]: \n",
            "\n",
            "R[write to console]: downloaded 118 KB\n",
            "\n",
            "\n",
            "R[write to console]: trying URL 'https://cran.rstudio.com/src/contrib/future_1.26.1.tar.gz'\n",
            "\n",
            "R[write to console]: Content type 'application/x-gzip'\n",
            "R[write to console]:  length 365509 bytes (356 KB)\n",
            "\n",
            "R[write to console]: =\n",
            "R[write to console]: =\n",
            "R[write to console]: =\n",
            "R[write to console]: =\n",
            "R[write to console]: =\n",
            "R[write to console]: =\n",
            "R[write to console]: =\n",
            "R[write to console]: =\n",
            "R[write to console]: =\n",
            "R[write to console]: =\n",
            "R[write to console]: =\n",
            "R[write to console]: =\n",
            "R[write to console]: =\n",
            "R[write to console]: =\n",
            "R[write to console]: =\n",
            "R[write to console]: =\n",
            "R[write to console]: =\n",
            "R[write to console]: =\n",
            "R[write to console]: =\n",
            "R[write to console]: =\n",
            "R[write to console]: =\n",
            "R[write to console]: =\n",
            "R[write to console]: =\n",
            "R[write to console]: =\n",
            "R[write to console]: =\n",
            "R[write to console]: =\n",
            "R[write to console]: =\n",
            "R[write to console]: =\n",
            "R[write to console]: =\n",
            "R[write to console]: =\n",
            "R[write to console]: =\n",
            "R[write to console]: =\n",
            "R[write to console]: =\n",
            "R[write to console]: =\n",
            "R[write to console]: =\n",
            "R[write to console]: =\n",
            "R[write to console]: =\n",
            "R[write to console]: =\n",
            "R[write to console]: =\n",
            "R[write to console]: =\n",
            "R[write to console]: =\n",
            "R[write to console]: =\n",
            "R[write to console]: =\n",
            "R[write to console]: =\n",
            "R[write to console]: =\n",
            "R[write to console]: =\n",
            "R[write to console]: =\n",
            "R[write to console]: =\n",
            "R[write to console]: =\n",
            "R[write to console]: =\n",
            "R[write to console]: \n",
            "\n",
            "R[write to console]: downloaded 356 KB\n",
            "\n",
            "\n",
            "R[write to console]: trying URL 'https://cran.rstudio.com/src/contrib/globals_0.15.0.tar.gz'\n",
            "\n",
            "R[write to console]: Content type 'application/x-gzip'\n",
            "R[write to console]:  length 33099 bytes (32 KB)\n",
            "\n",
            "R[write to console]: =\n",
            "R[write to console]: =\n",
            "R[write to console]: =\n",
            "R[write to console]: =\n",
            "R[write to console]: =\n",
            "R[write to console]: =\n",
            "R[write to console]: =\n",
            "R[write to console]: =\n",
            "R[write to console]: =\n",
            "R[write to console]: =\n",
            "R[write to console]: =\n",
            "R[write to console]: =\n",
            "R[write to console]: =\n",
            "R[write to console]: =\n",
            "R[write to console]: =\n",
            "R[write to console]: =\n",
            "R[write to console]: =\n",
            "R[write to console]: =\n",
            "R[write to console]: =\n",
            "R[write to console]: =\n",
            "R[write to console]: =\n",
            "R[write to console]: =\n",
            "R[write to console]: =\n",
            "R[write to console]: =\n",
            "R[write to console]: =\n",
            "R[write to console]: =\n",
            "R[write to console]: =\n",
            "R[write to console]: =\n",
            "R[write to console]: =\n",
            "R[write to console]: =\n",
            "R[write to console]: =\n",
            "R[write to console]: =\n",
            "R[write to console]: =\n",
            "R[write to console]: =\n",
            "R[write to console]: =\n",
            "R[write to console]: =\n",
            "R[write to console]: =\n",
            "R[write to console]: =\n",
            "R[write to console]: =\n",
            "R[write to console]: =\n",
            "R[write to console]: =\n",
            "R[write to console]: =\n",
            "R[write to console]: =\n",
            "R[write to console]: =\n",
            "R[write to console]: =\n",
            "R[write to console]: =\n",
            "R[write to console]: =\n",
            "R[write to console]: =\n",
            "R[write to console]: =\n",
            "R[write to console]: =\n",
            "R[write to console]: \n",
            "\n",
            "R[write to console]: downloaded 32 KB\n",
            "\n",
            "\n",
            "R[write to console]: trying URL 'https://cran.rstudio.com/src/contrib/Rcpp_1.0.8.3.tar.gz'\n",
            "\n",
            "R[write to console]: Content type 'application/x-gzip'\n",
            "R[write to console]:  length 3086192 bytes (2.9 MB)\n",
            "\n",
            "R[write to console]: =\n",
            "R[write to console]: =\n",
            "R[write to console]: =\n",
            "R[write to console]: =\n",
            "R[write to console]: =\n",
            "R[write to console]: =\n",
            "R[write to console]: =\n",
            "R[write to console]: =\n",
            "R[write to console]: =\n",
            "R[write to console]: =\n",
            "R[write to console]: =\n",
            "R[write to console]: =\n",
            "R[write to console]: =\n",
            "R[write to console]: =\n",
            "R[write to console]: =\n",
            "R[write to console]: =\n",
            "R[write to console]: =\n",
            "R[write to console]: =\n",
            "R[write to console]: =\n",
            "R[write to console]: =\n",
            "R[write to console]: =\n",
            "R[write to console]: =\n",
            "R[write to console]: =\n",
            "R[write to console]: =\n",
            "R[write to console]: =\n",
            "R[write to console]: =\n",
            "R[write to console]: =\n",
            "R[write to console]: =\n",
            "R[write to console]: =\n",
            "R[write to console]: =\n",
            "R[write to console]: =\n",
            "R[write to console]: =\n",
            "R[write to console]: =\n",
            "R[write to console]: =\n",
            "R[write to console]: =\n",
            "R[write to console]: =\n",
            "R[write to console]: =\n",
            "R[write to console]: =\n",
            "R[write to console]: =\n",
            "R[write to console]: =\n",
            "R[write to console]: =\n",
            "R[write to console]: =\n",
            "R[write to console]: =\n",
            "R[write to console]: =\n",
            "R[write to console]: =\n",
            "R[write to console]: =\n",
            "R[write to console]: =\n",
            "R[write to console]: =\n",
            "R[write to console]: =\n",
            "R[write to console]: =\n",
            "R[write to console]: \n",
            "\n",
            "R[write to console]: downloaded 2.9 MB\n",
            "\n",
            "\n",
            "R[write to console]: trying URL 'https://cran.rstudio.com/src/contrib/coda_0.19-4.tar.gz'\n",
            "\n",
            "R[write to console]: Content type 'application/x-gzip'\n",
            "R[write to console]:  length 74239 bytes (72 KB)\n",
            "\n",
            "R[write to console]: =\n",
            "R[write to console]: =\n",
            "R[write to console]: =\n",
            "R[write to console]: =\n",
            "R[write to console]: =\n",
            "R[write to console]: =\n",
            "R[write to console]: =\n",
            "R[write to console]: =\n",
            "R[write to console]: =\n",
            "R[write to console]: =\n",
            "R[write to console]: =\n",
            "R[write to console]: =\n",
            "R[write to console]: =\n",
            "R[write to console]: =\n",
            "R[write to console]: =\n",
            "R[write to console]: =\n",
            "R[write to console]: =\n",
            "R[write to console]: =\n",
            "R[write to console]: =\n",
            "R[write to console]: =\n",
            "R[write to console]: =\n",
            "R[write to console]: =\n",
            "R[write to console]: =\n",
            "R[write to console]: =\n",
            "R[write to console]: =\n",
            "R[write to console]: =\n",
            "R[write to console]: =\n",
            "R[write to console]: =\n",
            "R[write to console]: =\n",
            "R[write to console]: =\n",
            "R[write to console]: =\n",
            "R[write to console]: =\n",
            "R[write to console]: =\n",
            "R[write to console]: =\n",
            "R[write to console]: =\n",
            "R[write to console]: =\n",
            "R[write to console]: =\n",
            "R[write to console]: =\n",
            "R[write to console]: =\n",
            "R[write to console]: =\n",
            "R[write to console]: =\n",
            "R[write to console]: =\n",
            "R[write to console]: =\n",
            "R[write to console]: =\n",
            "R[write to console]: =\n",
            "R[write to console]: =\n",
            "R[write to console]: =\n",
            "R[write to console]: =\n",
            "R[write to console]: =\n",
            "R[write to console]: =\n",
            "R[write to console]: \n",
            "\n",
            "R[write to console]: downloaded 72 KB\n",
            "\n",
            "\n",
            "R[write to console]: trying URL 'https://cran.rstudio.com/src/contrib/furrr_0.3.0.tar.gz'\n",
            "\n",
            "R[write to console]: Content type 'application/x-gzip'\n",
            "R[write to console]:  length 907591 bytes (886 KB)\n",
            "\n",
            "R[write to console]: =\n",
            "R[write to console]: =\n",
            "R[write to console]: =\n",
            "R[write to console]: =\n",
            "R[write to console]: =\n",
            "R[write to console]: =\n",
            "R[write to console]: =\n",
            "R[write to console]: =\n",
            "R[write to console]: =\n",
            "R[write to console]: =\n",
            "R[write to console]: =\n",
            "R[write to console]: =\n",
            "R[write to console]: =\n",
            "R[write to console]: =\n",
            "R[write to console]: =\n",
            "R[write to console]: =\n",
            "R[write to console]: =\n",
            "R[write to console]: =\n",
            "R[write to console]: =\n",
            "R[write to console]: =\n",
            "R[write to console]: =\n",
            "R[write to console]: =\n",
            "R[write to console]: =\n",
            "R[write to console]: =\n",
            "R[write to console]: =\n",
            "R[write to console]: =\n",
            "R[write to console]: =\n",
            "R[write to console]: =\n",
            "R[write to console]: =\n",
            "R[write to console]: =\n",
            "R[write to console]: =\n",
            "R[write to console]: =\n",
            "R[write to console]: =\n",
            "R[write to console]: =\n",
            "R[write to console]: =\n",
            "R[write to console]: =\n",
            "R[write to console]: =\n",
            "R[write to console]: =\n",
            "R[write to console]: =\n",
            "R[write to console]: =\n",
            "R[write to console]: =\n",
            "R[write to console]: =\n",
            "R[write to console]: =\n",
            "R[write to console]: =\n",
            "R[write to console]: =\n",
            "R[write to console]: =\n",
            "R[write to console]: =\n",
            "R[write to console]: =\n",
            "R[write to console]: =\n",
            "R[write to console]: =\n",
            "R[write to console]: \n",
            "\n",
            "R[write to console]: downloaded 886 KB\n",
            "\n",
            "\n",
            "R[write to console]: trying URL 'https://cran.rstudio.com/src/contrib/httpuv_1.6.5.tar.gz'\n",
            "\n",
            "R[write to console]: Content type 'application/x-gzip'\n",
            "R[write to console]:  length 1815063 bytes (1.7 MB)\n",
            "\n",
            "R[write to console]: =\n",
            "R[write to console]: =\n",
            "R[write to console]: =\n",
            "R[write to console]: =\n",
            "R[write to console]: =\n",
            "R[write to console]: =\n",
            "R[write to console]: =\n",
            "R[write to console]: =\n",
            "R[write to console]: =\n",
            "R[write to console]: =\n",
            "R[write to console]: =\n",
            "R[write to console]: =\n",
            "R[write to console]: =\n",
            "R[write to console]: =\n",
            "R[write to console]: =\n",
            "R[write to console]: =\n",
            "R[write to console]: =\n",
            "R[write to console]: =\n",
            "R[write to console]: =\n",
            "R[write to console]: =\n",
            "R[write to console]: =\n",
            "R[write to console]: =\n",
            "R[write to console]: =\n",
            "R[write to console]: =\n",
            "R[write to console]: =\n",
            "R[write to console]: =\n",
            "R[write to console]: =\n",
            "R[write to console]: =\n",
            "R[write to console]: =\n",
            "R[write to console]: =\n",
            "R[write to console]: =\n",
            "R[write to console]: =\n",
            "R[write to console]: =\n",
            "R[write to console]: =\n",
            "R[write to console]: =\n",
            "R[write to console]: =\n",
            "R[write to console]: =\n",
            "R[write to console]: =\n",
            "R[write to console]: =\n",
            "R[write to console]: =\n",
            "R[write to console]: =\n",
            "R[write to console]: =\n",
            "R[write to console]: =\n",
            "R[write to console]: =\n",
            "R[write to console]: =\n",
            "R[write to console]: =\n",
            "R[write to console]: =\n",
            "R[write to console]: =\n",
            "R[write to console]: =\n",
            "R[write to console]: =\n",
            "R[write to console]: \n",
            "\n",
            "R[write to console]: downloaded 1.7 MB\n",
            "\n",
            "\n",
            "R[write to console]: trying URL 'https://cran.rstudio.com/src/contrib/xtable_1.8-4.tar.gz'\n",
            "\n",
            "R[write to console]: Content type 'application/x-gzip'\n",
            "R[write to console]:  length 564589 bytes (551 KB)\n",
            "\n",
            "R[write to console]: =\n",
            "R[write to console]: =\n",
            "R[write to console]: =\n",
            "R[write to console]: =\n",
            "R[write to console]: =\n",
            "R[write to console]: =\n",
            "R[write to console]: =\n",
            "R[write to console]: =\n",
            "R[write to console]: =\n",
            "R[write to console]: =\n",
            "R[write to console]: =\n",
            "R[write to console]: =\n",
            "R[write to console]: =\n",
            "R[write to console]: =\n",
            "R[write to console]: =\n",
            "R[write to console]: =\n",
            "R[write to console]: =\n",
            "R[write to console]: =\n",
            "R[write to console]: =\n",
            "R[write to console]: =\n",
            "R[write to console]: =\n",
            "R[write to console]: =\n",
            "R[write to console]: =\n",
            "R[write to console]: =\n",
            "R[write to console]: =\n",
            "R[write to console]: =\n",
            "R[write to console]: =\n",
            "R[write to console]: =\n",
            "R[write to console]: =\n",
            "R[write to console]: =\n",
            "R[write to console]: =\n",
            "R[write to console]: =\n",
            "R[write to console]: =\n",
            "R[write to console]: =\n",
            "R[write to console]: =\n",
            "R[write to console]: =\n",
            "R[write to console]: =\n",
            "R[write to console]: =\n",
            "R[write to console]: =\n",
            "R[write to console]: =\n",
            "R[write to console]: =\n",
            "R[write to console]: =\n",
            "R[write to console]: =\n",
            "R[write to console]: =\n",
            "R[write to console]: =\n",
            "R[write to console]: =\n",
            "R[write to console]: =\n",
            "R[write to console]: =\n",
            "R[write to console]: =\n",
            "R[write to console]: =\n",
            "R[write to console]: \n",
            "\n",
            "R[write to console]: downloaded 551 KB\n",
            "\n",
            "\n",
            "R[write to console]: trying URL 'https://cran.rstudio.com/src/contrib/fontawesome_0.2.2.tar.gz'\n",
            "\n",
            "R[write to console]: Content type 'application/x-gzip'\n",
            "R[write to console]:  length 1117463 bytes (1.1 MB)\n",
            "\n",
            "R[write to console]: =\n",
            "R[write to console]: =\n",
            "R[write to console]: =\n",
            "R[write to console]: =\n",
            "R[write to console]: =\n",
            "R[write to console]: =\n",
            "R[write to console]: =\n",
            "R[write to console]: =\n",
            "R[write to console]: =\n",
            "R[write to console]: =\n",
            "R[write to console]: =\n",
            "R[write to console]: =\n",
            "R[write to console]: =\n",
            "R[write to console]: =\n",
            "R[write to console]: =\n",
            "R[write to console]: =\n",
            "R[write to console]: =\n",
            "R[write to console]: =\n",
            "R[write to console]: =\n",
            "R[write to console]: =\n",
            "R[write to console]: =\n",
            "R[write to console]: =\n",
            "R[write to console]: =\n",
            "R[write to console]: =\n",
            "R[write to console]: =\n",
            "R[write to console]: =\n",
            "R[write to console]: =\n",
            "R[write to console]: =\n",
            "R[write to console]: =\n",
            "R[write to console]: =\n",
            "R[write to console]: =\n",
            "R[write to console]: =\n",
            "R[write to console]: =\n",
            "R[write to console]: =\n",
            "R[write to console]: =\n",
            "R[write to console]: =\n",
            "R[write to console]: =\n",
            "R[write to console]: =\n",
            "R[write to console]: =\n",
            "R[write to console]: =\n",
            "R[write to console]: =\n",
            "R[write to console]: =\n",
            "R[write to console]: =\n",
            "R[write to console]: =\n",
            "R[write to console]: =\n",
            "R[write to console]: =\n",
            "R[write to console]: =\n",
            "R[write to console]: =\n",
            "R[write to console]: =\n",
            "R[write to console]: =\n",
            "R[write to console]: \n",
            "\n",
            "R[write to console]: downloaded 1.1 MB\n",
            "\n",
            "\n",
            "R[write to console]: trying URL 'https://cran.rstudio.com/src/contrib/sourcetools_0.1.7.tar.gz'\n",
            "\n",
            "R[write to console]: Content type 'application/x-gzip'\n",
            "R[write to console]:  length 24155 bytes (23 KB)\n",
            "\n",
            "R[write to console]: =\n",
            "R[write to console]: =\n",
            "R[write to console]: =\n",
            "R[write to console]: =\n",
            "R[write to console]: =\n",
            "R[write to console]: =\n",
            "R[write to console]: =\n",
            "R[write to console]: =\n",
            "R[write to console]: =\n",
            "R[write to console]: =\n",
            "R[write to console]: =\n",
            "R[write to console]: =\n",
            "R[write to console]: =\n",
            "R[write to console]: =\n",
            "R[write to console]: =\n",
            "R[write to console]: =\n",
            "R[write to console]: =\n",
            "R[write to console]: =\n",
            "R[write to console]: =\n",
            "R[write to console]: =\n",
            "R[write to console]: =\n",
            "R[write to console]: =\n",
            "R[write to console]: =\n",
            "R[write to console]: =\n",
            "R[write to console]: =\n",
            "R[write to console]: =\n",
            "R[write to console]: =\n",
            "R[write to console]: =\n",
            "R[write to console]: =\n",
            "R[write to console]: =\n",
            "R[write to console]: =\n",
            "R[write to console]: =\n",
            "R[write to console]: =\n",
            "R[write to console]: =\n",
            "R[write to console]: =\n",
            "R[write to console]: =\n",
            "R[write to console]: =\n",
            "R[write to console]: =\n",
            "R[write to console]: =\n",
            "R[write to console]: =\n",
            "R[write to console]: =\n",
            "R[write to console]: =\n",
            "R[write to console]: =\n",
            "R[write to console]: =\n",
            "R[write to console]: =\n",
            "R[write to console]: =\n",
            "R[write to console]: =\n",
            "R[write to console]: =\n",
            "R[write to console]: =\n",
            "R[write to console]: =\n",
            "R[write to console]: \n",
            "\n",
            "R[write to console]: downloaded 23 KB\n",
            "\n",
            "\n",
            "R[write to console]: trying URL 'https://cran.rstudio.com/src/contrib/later_1.3.0.tar.gz'\n",
            "\n",
            "R[write to console]: Content type 'application/x-gzip'\n",
            "R[write to console]:  length 63785 bytes (62 KB)\n",
            "\n",
            "R[write to console]: =\n",
            "R[write to console]: =\n",
            "R[write to console]: =\n",
            "R[write to console]: =\n",
            "R[write to console]: =\n",
            "R[write to console]: =\n",
            "R[write to console]: =\n",
            "R[write to console]: =\n",
            "R[write to console]: =\n",
            "R[write to console]: =\n",
            "R[write to console]: =\n",
            "R[write to console]: =\n",
            "R[write to console]: =\n",
            "R[write to console]: =\n",
            "R[write to console]: =\n",
            "R[write to console]: =\n",
            "R[write to console]: =\n",
            "R[write to console]: =\n",
            "R[write to console]: =\n",
            "R[write to console]: =\n",
            "R[write to console]: =\n",
            "R[write to console]: =\n",
            "R[write to console]: =\n",
            "R[write to console]: =\n",
            "R[write to console]: =\n",
            "R[write to console]: =\n",
            "R[write to console]: =\n",
            "R[write to console]: =\n",
            "R[write to console]: =\n",
            "R[write to console]: =\n",
            "R[write to console]: =\n",
            "R[write to console]: =\n",
            "R[write to console]: =\n",
            "R[write to console]: =\n",
            "R[write to console]: =\n",
            "R[write to console]: =\n",
            "R[write to console]: =\n",
            "R[write to console]: =\n",
            "R[write to console]: =\n",
            "R[write to console]: =\n",
            "R[write to console]: =\n",
            "R[write to console]: =\n",
            "R[write to console]: =\n",
            "R[write to console]: =\n",
            "R[write to console]: =\n",
            "R[write to console]: =\n",
            "R[write to console]: =\n",
            "R[write to console]: =\n",
            "R[write to console]: =\n",
            "R[write to console]: =\n",
            "R[write to console]: \n",
            "\n",
            "R[write to console]: downloaded 62 KB\n",
            "\n",
            "\n",
            "R[write to console]: trying URL 'https://cran.rstudio.com/src/contrib/promises_1.2.0.1.tar.gz'\n",
            "\n",
            "R[write to console]: Content type 'application/x-gzip'\n",
            "R[write to console]:  length 3120504 bytes (3.0 MB)\n",
            "\n",
            "R[write to console]: =\n",
            "R[write to console]: =\n",
            "R[write to console]: =\n",
            "R[write to console]: =\n",
            "R[write to console]: =\n",
            "R[write to console]: =\n",
            "R[write to console]: =\n",
            "R[write to console]: =\n",
            "R[write to console]: =\n",
            "R[write to console]: =\n",
            "R[write to console]: =\n",
            "R[write to console]: =\n",
            "R[write to console]: =\n",
            "R[write to console]: =\n",
            "R[write to console]: =\n",
            "R[write to console]: =\n",
            "R[write to console]: =\n",
            "R[write to console]: =\n",
            "R[write to console]: =\n",
            "R[write to console]: =\n",
            "R[write to console]: =\n",
            "R[write to console]: =\n",
            "R[write to console]: =\n",
            "R[write to console]: =\n",
            "R[write to console]: =\n",
            "R[write to console]: =\n",
            "R[write to console]: =\n",
            "R[write to console]: =\n",
            "R[write to console]: =\n",
            "R[write to console]: =\n",
            "R[write to console]: =\n",
            "R[write to console]: =\n",
            "R[write to console]: =\n",
            "R[write to console]: =\n",
            "R[write to console]: =\n",
            "R[write to console]: =\n",
            "R[write to console]: =\n",
            "R[write to console]: =\n",
            "R[write to console]: =\n",
            "R[write to console]: =\n",
            "R[write to console]: =\n",
            "R[write to console]: =\n",
            "R[write to console]: =\n",
            "R[write to console]: =\n",
            "R[write to console]: =\n",
            "R[write to console]: =\n",
            "R[write to console]: =\n",
            "R[write to console]: =\n",
            "R[write to console]: =\n",
            "R[write to console]: =\n",
            "R[write to console]: \n",
            "\n",
            "R[write to console]: downloaded 3.0 MB\n",
            "\n",
            "\n",
            "R[write to console]: trying URL 'https://cran.rstudio.com/src/contrib/broom.mixed_0.2.9.4.tar.gz'\n",
            "\n",
            "R[write to console]: Content type 'application/x-gzip'\n",
            "R[write to console]:  length 3991828 bytes (3.8 MB)\n",
            "\n",
            "R[write to console]: =\n",
            "R[write to console]: =\n",
            "R[write to console]: =\n",
            "R[write to console]: =\n",
            "R[write to console]: =\n",
            "R[write to console]: =\n",
            "R[write to console]: =\n",
            "R[write to console]: =\n",
            "R[write to console]: =\n",
            "R[write to console]: =\n",
            "R[write to console]: =\n",
            "R[write to console]: =\n",
            "R[write to console]: =\n",
            "R[write to console]: =\n",
            "R[write to console]: =\n",
            "R[write to console]: =\n",
            "R[write to console]: =\n",
            "R[write to console]: =\n",
            "R[write to console]: =\n",
            "R[write to console]: =\n",
            "R[write to console]: =\n",
            "R[write to console]: =\n",
            "R[write to console]: =\n",
            "R[write to console]: =\n",
            "R[write to console]: =\n",
            "R[write to console]: =\n",
            "R[write to console]: =\n",
            "R[write to console]: =\n",
            "R[write to console]: =\n",
            "R[write to console]: =\n",
            "R[write to console]: =\n",
            "R[write to console]: =\n",
            "R[write to console]: =\n",
            "R[write to console]: =\n",
            "R[write to console]: =\n",
            "R[write to console]: =\n",
            "R[write to console]: =\n",
            "R[write to console]: =\n",
            "R[write to console]: =\n",
            "R[write to console]: =\n",
            "R[write to console]: =\n",
            "R[write to console]: =\n",
            "R[write to console]: =\n",
            "R[write to console]: =\n",
            "R[write to console]: =\n",
            "R[write to console]: =\n",
            "R[write to console]: =\n",
            "R[write to console]: =\n",
            "R[write to console]: =\n",
            "R[write to console]: =\n",
            "R[write to console]: \n",
            "\n",
            "R[write to console]: downloaded 3.8 MB\n",
            "\n",
            "\n",
            "R[write to console]: trying URL 'https://cran.rstudio.com/src/contrib/shiny_1.7.1.tar.gz'\n",
            "\n",
            "R[write to console]: Content type 'application/x-gzip'\n",
            "R[write to console]:  length 2963486 bytes (2.8 MB)\n",
            "\n",
            "R[write to console]: =\n",
            "R[write to console]: =\n",
            "R[write to console]: =\n",
            "R[write to console]: =\n",
            "R[write to console]: =\n",
            "R[write to console]: =\n",
            "R[write to console]: =\n",
            "R[write to console]: =\n",
            "R[write to console]: =\n",
            "R[write to console]: =\n",
            "R[write to console]: =\n",
            "R[write to console]: =\n",
            "R[write to console]: =\n",
            "R[write to console]: =\n",
            "R[write to console]: =\n",
            "R[write to console]: =\n",
            "R[write to console]: =\n",
            "R[write to console]: =\n",
            "R[write to console]: =\n",
            "R[write to console]: =\n",
            "R[write to console]: =\n",
            "R[write to console]: =\n",
            "R[write to console]: =\n",
            "R[write to console]: =\n",
            "R[write to console]: =\n",
            "R[write to console]: =\n",
            "R[write to console]: =\n",
            "R[write to console]: =\n",
            "R[write to console]: =\n",
            "R[write to console]: =\n",
            "R[write to console]: =\n",
            "R[write to console]: =\n",
            "R[write to console]: =\n",
            "R[write to console]: =\n",
            "R[write to console]: =\n",
            "R[write to console]: =\n",
            "R[write to console]: =\n",
            "R[write to console]: =\n",
            "R[write to console]: =\n",
            "R[write to console]: =\n",
            "R[write to console]: =\n",
            "R[write to console]: =\n",
            "R[write to console]: =\n",
            "R[write to console]: =\n",
            "R[write to console]: =\n",
            "R[write to console]: =\n",
            "R[write to console]: =\n",
            "R[write to console]: =\n",
            "R[write to console]: =\n",
            "R[write to console]: =\n",
            "R[write to console]: \n",
            "\n",
            "R[write to console]: downloaded 2.8 MB\n",
            "\n",
            "\n",
            "R[write to console]: trying URL 'https://cran.rstudio.com/src/contrib/equatiomatic_0.3.1.tar.gz'\n",
            "\n",
            "R[write to console]: Content type 'application/x-gzip'\n",
            "R[write to console]:  length 1000254 bytes (976 KB)\n",
            "\n",
            "R[write to console]: =\n",
            "R[write to console]: =\n",
            "R[write to console]: =\n",
            "R[write to console]: =\n",
            "R[write to console]: =\n",
            "R[write to console]: =\n",
            "R[write to console]: =\n",
            "R[write to console]: =\n",
            "R[write to console]: =\n",
            "R[write to console]: =\n",
            "R[write to console]: =\n",
            "R[write to console]: =\n",
            "R[write to console]: =\n",
            "R[write to console]: =\n",
            "R[write to console]: =\n",
            "R[write to console]: =\n",
            "R[write to console]: =\n",
            "R[write to console]: =\n",
            "R[write to console]: =\n",
            "R[write to console]: =\n",
            "R[write to console]: =\n",
            "R[write to console]: =\n",
            "R[write to console]: =\n",
            "R[write to console]: =\n",
            "R[write to console]: =\n",
            "R[write to console]: =\n",
            "R[write to console]: =\n",
            "R[write to console]: =\n",
            "R[write to console]: =\n",
            "R[write to console]: =\n",
            "R[write to console]: =\n",
            "R[write to console]: =\n",
            "R[write to console]: =\n",
            "R[write to console]: =\n",
            "R[write to console]: =\n",
            "R[write to console]: =\n",
            "R[write to console]: =\n",
            "R[write to console]: =\n",
            "R[write to console]: =\n",
            "R[write to console]: =\n",
            "R[write to console]: =\n",
            "R[write to console]: =\n",
            "R[write to console]: =\n",
            "R[write to console]: =\n",
            "R[write to console]: =\n",
            "R[write to console]: =\n",
            "R[write to console]: =\n",
            "R[write to console]: =\n",
            "R[write to console]: =\n",
            "R[write to console]: =\n",
            "R[write to console]: \n",
            "\n",
            "R[write to console]: downloaded 976 KB\n",
            "\n",
            "\n",
            "R[write to console]: \n",
            "\n",
            "R[write to console]: \n",
            "R[write to console]: The downloaded source packages are in\n",
            "\t‘/tmp/RtmpFAfTnD/downloaded_packages’\n",
            "R[write to console]: \n",
            "R[write to console]: \n",
            "\n",
            "R[write to console]: \n",
            "equatiomatic installed\n",
            "\n",
            "R[write to console]: Installing package into ‘/usr/local/lib/R/site-library’\n",
            "(as ‘lib’ is unspecified)\n",
            "\n",
            "R[write to console]: trying URL 'https://cran.rstudio.com/src/contrib/stargazer_5.2.3.tar.gz'\n",
            "\n",
            "R[write to console]: Content type 'application/x-gzip'\n",
            "R[write to console]:  length 311587 bytes (304 KB)\n",
            "\n",
            "R[write to console]: =\n",
            "R[write to console]: =\n",
            "R[write to console]: =\n",
            "R[write to console]: =\n",
            "R[write to console]: =\n",
            "R[write to console]: =\n",
            "R[write to console]: =\n",
            "R[write to console]: =\n",
            "R[write to console]: =\n",
            "R[write to console]: =\n",
            "R[write to console]: =\n",
            "R[write to console]: =\n",
            "R[write to console]: =\n",
            "R[write to console]: =\n",
            "R[write to console]: =\n",
            "R[write to console]: =\n",
            "R[write to console]: =\n",
            "R[write to console]: =\n",
            "R[write to console]: =\n",
            "R[write to console]: =\n",
            "R[write to console]: =\n",
            "R[write to console]: =\n",
            "R[write to console]: =\n",
            "R[write to console]: =\n",
            "R[write to console]: =\n",
            "R[write to console]: =\n",
            "R[write to console]: =\n",
            "R[write to console]: =\n",
            "R[write to console]: =\n",
            "R[write to console]: =\n",
            "R[write to console]: =\n",
            "R[write to console]: =\n",
            "R[write to console]: =\n",
            "R[write to console]: =\n",
            "R[write to console]: =\n",
            "R[write to console]: =\n",
            "R[write to console]: =\n",
            "R[write to console]: =\n",
            "R[write to console]: =\n",
            "R[write to console]: =\n",
            "R[write to console]: =\n",
            "R[write to console]: =\n",
            "R[write to console]: =\n",
            "R[write to console]: =\n",
            "R[write to console]: =\n",
            "R[write to console]: =\n",
            "R[write to console]: =\n",
            "R[write to console]: =\n",
            "R[write to console]: =\n",
            "R[write to console]: =\n",
            "R[write to console]: \n",
            "\n",
            "R[write to console]: downloaded 304 KB\n",
            "\n",
            "\n",
            "R[write to console]: \n",
            "\n",
            "R[write to console]: \n",
            "R[write to console]: The downloaded source packages are in\n",
            "\t‘/tmp/RtmpFAfTnD/downloaded_packages’\n",
            "R[write to console]: \n",
            "R[write to console]: \n",
            "\n",
            "R[write to console]: \n",
            "stargazer installed\n",
            "\n",
            "R[write to console]: Installing package into ‘/usr/local/lib/R/site-library’\n",
            "(as ‘lib’ is unspecified)\n",
            "\n",
            "R[write to console]: also installing the dependencies ‘rbibutils’, ‘Kendall’, ‘mvtnorm’, ‘Rdpack’\n",
            "\n",
            "\n",
            "R[write to console]: trying URL 'https://cran.rstudio.com/src/contrib/rbibutils_2.2.8.tar.gz'\n",
            "\n",
            "R[write to console]: Content type 'application/x-gzip'\n",
            "R[write to console]:  length 882817 bytes (862 KB)\n",
            "\n",
            "R[write to console]: =\n",
            "R[write to console]: =\n",
            "R[write to console]: =\n",
            "R[write to console]: =\n",
            "R[write to console]: =\n",
            "R[write to console]: =\n",
            "R[write to console]: =\n",
            "R[write to console]: =\n",
            "R[write to console]: =\n",
            "R[write to console]: =\n",
            "R[write to console]: =\n",
            "R[write to console]: =\n",
            "R[write to console]: =\n",
            "R[write to console]: =\n",
            "R[write to console]: =\n",
            "R[write to console]: =\n",
            "R[write to console]: =\n",
            "R[write to console]: =\n",
            "R[write to console]: =\n",
            "R[write to console]: =\n",
            "R[write to console]: =\n",
            "R[write to console]: =\n",
            "R[write to console]: =\n",
            "R[write to console]: =\n",
            "R[write to console]: =\n",
            "R[write to console]: =\n",
            "R[write to console]: =\n",
            "R[write to console]: =\n",
            "R[write to console]: =\n",
            "R[write to console]: =\n",
            "R[write to console]: =\n",
            "R[write to console]: =\n",
            "R[write to console]: =\n",
            "R[write to console]: =\n",
            "R[write to console]: =\n",
            "R[write to console]: =\n",
            "R[write to console]: =\n",
            "R[write to console]: =\n",
            "R[write to console]: =\n",
            "R[write to console]: =\n",
            "R[write to console]: =\n",
            "R[write to console]: =\n",
            "R[write to console]: =\n",
            "R[write to console]: =\n",
            "R[write to console]: =\n",
            "R[write to console]: =\n",
            "R[write to console]: =\n",
            "R[write to console]: =\n",
            "R[write to console]: =\n",
            "R[write to console]: =\n",
            "R[write to console]: \n",
            "\n",
            "R[write to console]: downloaded 862 KB\n",
            "\n",
            "\n",
            "R[write to console]: trying URL 'https://cran.rstudio.com/src/contrib/Kendall_2.2.1.tar.gz'\n",
            "\n",
            "R[write to console]: Content type 'application/x-gzip'\n",
            "R[write to console]:  length 11836 bytes (11 KB)\n",
            "\n",
            "R[write to console]: =\n",
            "R[write to console]: =\n",
            "R[write to console]: =\n",
            "R[write to console]: =\n",
            "R[write to console]: =\n",
            "R[write to console]: =\n",
            "R[write to console]: =\n",
            "R[write to console]: =\n",
            "R[write to console]: =\n",
            "R[write to console]: =\n",
            "R[write to console]: =\n",
            "R[write to console]: =\n",
            "R[write to console]: =\n",
            "R[write to console]: =\n",
            "R[write to console]: =\n",
            "R[write to console]: =\n",
            "R[write to console]: =\n",
            "R[write to console]: =\n",
            "R[write to console]: =\n",
            "R[write to console]: =\n",
            "R[write to console]: =\n",
            "R[write to console]: =\n",
            "R[write to console]: =\n",
            "R[write to console]: =\n",
            "R[write to console]: =\n",
            "R[write to console]: =\n",
            "R[write to console]: =\n",
            "R[write to console]: =\n",
            "R[write to console]: =\n",
            "R[write to console]: =\n",
            "R[write to console]: =\n",
            "R[write to console]: =\n",
            "R[write to console]: =\n",
            "R[write to console]: =\n",
            "R[write to console]: =\n",
            "R[write to console]: =\n",
            "R[write to console]: =\n",
            "R[write to console]: =\n",
            "R[write to console]: =\n",
            "R[write to console]: =\n",
            "R[write to console]: =\n",
            "R[write to console]: =\n",
            "R[write to console]: =\n",
            "R[write to console]: =\n",
            "R[write to console]: =\n",
            "R[write to console]: =\n",
            "R[write to console]: =\n",
            "R[write to console]: =\n",
            "R[write to console]: =\n",
            "R[write to console]: =\n",
            "R[write to console]: \n",
            "\n",
            "R[write to console]: downloaded 11 KB\n",
            "\n",
            "\n",
            "R[write to console]: trying URL 'https://cran.rstudio.com/src/contrib/mvtnorm_1.1-3.tar.gz'\n",
            "\n",
            "R[write to console]: Content type 'application/x-gzip'\n",
            "R[write to console]:  length 166421 bytes (162 KB)\n",
            "\n",
            "R[write to console]: =\n",
            "R[write to console]: =\n",
            "R[write to console]: =\n",
            "R[write to console]: =\n",
            "R[write to console]: =\n",
            "R[write to console]: =\n",
            "R[write to console]: =\n",
            "R[write to console]: =\n",
            "R[write to console]: =\n",
            "R[write to console]: =\n",
            "R[write to console]: =\n",
            "R[write to console]: =\n",
            "R[write to console]: =\n",
            "R[write to console]: =\n",
            "R[write to console]: =\n",
            "R[write to console]: =\n",
            "R[write to console]: =\n",
            "R[write to console]: =\n",
            "R[write to console]: =\n",
            "R[write to console]: =\n",
            "R[write to console]: =\n",
            "R[write to console]: =\n",
            "R[write to console]: =\n",
            "R[write to console]: =\n",
            "R[write to console]: =\n",
            "R[write to console]: =\n",
            "R[write to console]: =\n",
            "R[write to console]: =\n",
            "R[write to console]: =\n",
            "R[write to console]: =\n",
            "R[write to console]: =\n",
            "R[write to console]: =\n",
            "R[write to console]: =\n",
            "R[write to console]: =\n",
            "R[write to console]: =\n",
            "R[write to console]: =\n",
            "R[write to console]: =\n",
            "R[write to console]: =\n",
            "R[write to console]: =\n",
            "R[write to console]: =\n",
            "R[write to console]: =\n",
            "R[write to console]: =\n",
            "R[write to console]: =\n",
            "R[write to console]: =\n",
            "R[write to console]: =\n",
            "R[write to console]: =\n",
            "R[write to console]: =\n",
            "R[write to console]: =\n",
            "R[write to console]: =\n",
            "R[write to console]: =\n",
            "R[write to console]: \n",
            "\n",
            "R[write to console]: downloaded 162 KB\n",
            "\n",
            "\n",
            "R[write to console]: trying URL 'https://cran.rstudio.com/src/contrib/Rdpack_2.3.tar.gz'\n",
            "\n",
            "R[write to console]: Content type 'application/x-gzip'\n",
            "R[write to console]:  length 702728 bytes (686 KB)\n",
            "\n",
            "R[write to console]: =\n",
            "R[write to console]: =\n",
            "R[write to console]: =\n",
            "R[write to console]: =\n",
            "R[write to console]: =\n",
            "R[write to console]: =\n",
            "R[write to console]: =\n",
            "R[write to console]: =\n",
            "R[write to console]: =\n",
            "R[write to console]: =\n",
            "R[write to console]: =\n",
            "R[write to console]: =\n",
            "R[write to console]: =\n",
            "R[write to console]: =\n",
            "R[write to console]: =\n",
            "R[write to console]: =\n",
            "R[write to console]: =\n",
            "R[write to console]: =\n",
            "R[write to console]: =\n",
            "R[write to console]: =\n",
            "R[write to console]: =\n",
            "R[write to console]: =\n",
            "R[write to console]: =\n",
            "R[write to console]: =\n",
            "R[write to console]: =\n",
            "R[write to console]: =\n",
            "R[write to console]: =\n",
            "R[write to console]: =\n",
            "R[write to console]: =\n",
            "R[write to console]: =\n",
            "R[write to console]: =\n",
            "R[write to console]: =\n",
            "R[write to console]: =\n",
            "R[write to console]: =\n",
            "R[write to console]: =\n",
            "R[write to console]: =\n",
            "R[write to console]: =\n",
            "R[write to console]: =\n",
            "R[write to console]: =\n",
            "R[write to console]: =\n",
            "R[write to console]: =\n",
            "R[write to console]: =\n",
            "R[write to console]: =\n",
            "R[write to console]: =\n",
            "R[write to console]: =\n",
            "R[write to console]: =\n",
            "R[write to console]: =\n",
            "R[write to console]: =\n",
            "R[write to console]: =\n",
            "R[write to console]: =\n",
            "R[write to console]: \n",
            "\n",
            "R[write to console]: downloaded 686 KB\n",
            "\n",
            "\n",
            "R[write to console]: trying URL 'https://cran.rstudio.com/src/contrib/lawstat_3.4.tar.gz'\n",
            "\n",
            "R[write to console]: Content type 'application/x-gzip'\n",
            "R[write to console]:  length 155622 bytes (151 KB)\n",
            "\n",
            "R[write to console]: =\n",
            "R[write to console]: =\n",
            "R[write to console]: =\n",
            "R[write to console]: =\n",
            "R[write to console]: =\n",
            "R[write to console]: =\n",
            "R[write to console]: =\n",
            "R[write to console]: =\n",
            "R[write to console]: =\n",
            "R[write to console]: =\n",
            "R[write to console]: =\n",
            "R[write to console]: =\n",
            "R[write to console]: =\n",
            "R[write to console]: =\n",
            "R[write to console]: =\n",
            "R[write to console]: =\n",
            "R[write to console]: =\n",
            "R[write to console]: =\n",
            "R[write to console]: =\n",
            "R[write to console]: =\n",
            "R[write to console]: =\n",
            "R[write to console]: =\n",
            "R[write to console]: =\n",
            "R[write to console]: =\n",
            "R[write to console]: =\n",
            "R[write to console]: =\n",
            "R[write to console]: =\n",
            "R[write to console]: =\n",
            "R[write to console]: =\n",
            "R[write to console]: =\n",
            "R[write to console]: =\n",
            "R[write to console]: =\n",
            "R[write to console]: =\n",
            "R[write to console]: =\n",
            "R[write to console]: =\n",
            "R[write to console]: =\n",
            "R[write to console]: =\n",
            "R[write to console]: =\n",
            "R[write to console]: =\n",
            "R[write to console]: =\n",
            "R[write to console]: =\n",
            "R[write to console]: =\n",
            "R[write to console]: =\n",
            "R[write to console]: =\n",
            "R[write to console]: =\n",
            "R[write to console]: =\n",
            "R[write to console]: =\n",
            "R[write to console]: =\n",
            "R[write to console]: =\n",
            "R[write to console]: =\n",
            "R[write to console]: \n",
            "\n",
            "R[write to console]: downloaded 151 KB\n",
            "\n",
            "\n",
            "R[write to console]: \n",
            "\n",
            "R[write to console]: \n",
            "R[write to console]: The downloaded source packages are in\n",
            "\t‘/tmp/RtmpFAfTnD/downloaded_packages’\n",
            "R[write to console]: \n",
            "R[write to console]: \n",
            "\n",
            "R[write to console]: \n",
            "lawstat installed\n",
            "\n",
            "R[write to console]: Installing package into ‘/usr/local/lib/R/site-library’\n",
            "(as ‘lib’ is unspecified)\n",
            "\n",
            "R[write to console]: trying URL 'https://cran.rstudio.com/src/contrib/scatterplot3d_0.3-41.tar.gz'\n",
            "\n",
            "R[write to console]: Content type 'application/x-gzip'\n",
            "R[write to console]:  length 460912 bytes (450 KB)\n",
            "\n",
            "R[write to console]: =\n",
            "R[write to console]: =\n",
            "R[write to console]: =\n",
            "R[write to console]: =\n",
            "R[write to console]: =\n",
            "R[write to console]: =\n",
            "R[write to console]: =\n",
            "R[write to console]: =\n",
            "R[write to console]: =\n",
            "R[write to console]: =\n",
            "R[write to console]: =\n",
            "R[write to console]: =\n",
            "R[write to console]: =\n",
            "R[write to console]: =\n",
            "R[write to console]: =\n",
            "R[write to console]: =\n",
            "R[write to console]: =\n",
            "R[write to console]: =\n",
            "R[write to console]: =\n",
            "R[write to console]: =\n",
            "R[write to console]: =\n",
            "R[write to console]: =\n",
            "R[write to console]: =\n",
            "R[write to console]: =\n",
            "R[write to console]: =\n",
            "R[write to console]: =\n",
            "R[write to console]: =\n",
            "R[write to console]: =\n",
            "R[write to console]: =\n",
            "R[write to console]: =\n",
            "R[write to console]: =\n",
            "R[write to console]: =\n",
            "R[write to console]: =\n",
            "R[write to console]: =\n",
            "R[write to console]: =\n",
            "R[write to console]: =\n",
            "R[write to console]: =\n",
            "R[write to console]: =\n",
            "R[write to console]: =\n",
            "R[write to console]: =\n",
            "R[write to console]: =\n",
            "R[write to console]: =\n",
            "R[write to console]: =\n",
            "R[write to console]: =\n",
            "R[write to console]: =\n",
            "R[write to console]: =\n",
            "R[write to console]: =\n",
            "R[write to console]: =\n",
            "R[write to console]: =\n",
            "R[write to console]: =\n",
            "R[write to console]: \n",
            "\n",
            "R[write to console]: downloaded 450 KB\n",
            "\n",
            "\n",
            "R[write to console]: \n",
            "\n",
            "R[write to console]: \n",
            "R[write to console]: The downloaded source packages are in\n",
            "\t‘/tmp/RtmpFAfTnD/downloaded_packages’\n",
            "R[write to console]: \n",
            "R[write to console]: \n",
            "\n",
            "R[write to console]: \n",
            "scatterplot3d installed\n",
            "\n",
            "R[write to console]: Installing package into ‘/usr/local/lib/R/site-library’\n",
            "(as ‘lib’ is unspecified)\n",
            "\n",
            "R[write to console]: trying URL 'https://cran.rstudio.com/src/contrib/gvlma_1.0.0.3.tar.gz'\n",
            "\n",
            "R[write to console]: Content type 'application/x-gzip'\n",
            "R[write to console]:  length 18896 bytes (18 KB)\n",
            "\n",
            "R[write to console]: =\n",
            "R[write to console]: =\n",
            "R[write to console]: =\n",
            "R[write to console]: =\n",
            "R[write to console]: =\n",
            "R[write to console]: =\n",
            "R[write to console]: =\n",
            "R[write to console]: =\n",
            "R[write to console]: =\n",
            "R[write to console]: =\n",
            "R[write to console]: =\n",
            "R[write to console]: =\n",
            "R[write to console]: =\n",
            "R[write to console]: =\n",
            "R[write to console]: =\n",
            "R[write to console]: =\n",
            "R[write to console]: =\n",
            "R[write to console]: =\n",
            "R[write to console]: =\n",
            "R[write to console]: =\n",
            "R[write to console]: =\n",
            "R[write to console]: =\n",
            "R[write to console]: =\n",
            "R[write to console]: =\n",
            "R[write to console]: =\n",
            "R[write to console]: =\n",
            "R[write to console]: =\n",
            "R[write to console]: =\n",
            "R[write to console]: =\n",
            "R[write to console]: =\n",
            "R[write to console]: =\n",
            "R[write to console]: =\n",
            "R[write to console]: =\n",
            "R[write to console]: =\n",
            "R[write to console]: =\n",
            "R[write to console]: =\n",
            "R[write to console]: =\n",
            "R[write to console]: =\n",
            "R[write to console]: =\n",
            "R[write to console]: =\n",
            "R[write to console]: =\n",
            "R[write to console]: =\n",
            "R[write to console]: =\n",
            "R[write to console]: =\n",
            "R[write to console]: =\n",
            "R[write to console]: =\n",
            "R[write to console]: =\n",
            "R[write to console]: =\n",
            "R[write to console]: =\n",
            "R[write to console]: =\n",
            "R[write to console]: \n",
            "\n",
            "R[write to console]: downloaded 18 KB\n",
            "\n",
            "\n",
            "R[write to console]: \n",
            "\n",
            "R[write to console]: \n",
            "R[write to console]: The downloaded source packages are in\n",
            "\t‘/tmp/RtmpFAfTnD/downloaded_packages’\n",
            "R[write to console]: \n",
            "R[write to console]: \n",
            "\n",
            "R[write to console]: \n",
            "gvlma installed\n",
            "\n",
            "R[write to console]: Installing package into ‘/usr/local/lib/R/site-library’\n",
            "(as ‘lib’ is unspecified)\n",
            "\n",
            "R[write to console]: also installing the dependencies ‘numDeriv’, ‘SparseM’, ‘MatrixModels’, ‘sp’, ‘minqa’, ‘nloptr’, ‘RcppEigen’, ‘carData’, ‘abind’, ‘pbkrtest’, ‘quantreg’, ‘maptools’, ‘lme4’\n",
            "\n",
            "\n",
            "R[write to console]: trying URL 'https://cran.rstudio.com/src/contrib/numDeriv_2016.8-1.1.tar.gz'\n",
            "\n",
            "R[write to console]: Content type 'application/x-gzip'\n",
            "R[write to console]:  length 76053 bytes (74 KB)\n",
            "\n",
            "R[write to console]: =\n",
            "R[write to console]: =\n",
            "R[write to console]: =\n",
            "R[write to console]: =\n",
            "R[write to console]: =\n",
            "R[write to console]: =\n",
            "R[write to console]: =\n",
            "R[write to console]: =\n",
            "R[write to console]: =\n",
            "R[write to console]: =\n",
            "R[write to console]: =\n",
            "R[write to console]: =\n",
            "R[write to console]: =\n",
            "R[write to console]: =\n",
            "R[write to console]: =\n",
            "R[write to console]: =\n",
            "R[write to console]: =\n",
            "R[write to console]: =\n",
            "R[write to console]: =\n",
            "R[write to console]: =\n",
            "R[write to console]: =\n",
            "R[write to console]: =\n",
            "R[write to console]: =\n",
            "R[write to console]: =\n",
            "R[write to console]: =\n",
            "R[write to console]: =\n",
            "R[write to console]: =\n",
            "R[write to console]: =\n",
            "R[write to console]: =\n",
            "R[write to console]: =\n",
            "R[write to console]: =\n",
            "R[write to console]: =\n",
            "R[write to console]: =\n",
            "R[write to console]: =\n",
            "R[write to console]: =\n",
            "R[write to console]: =\n",
            "R[write to console]: =\n",
            "R[write to console]: =\n",
            "R[write to console]: =\n",
            "R[write to console]: =\n",
            "R[write to console]: =\n",
            "R[write to console]: =\n",
            "R[write to console]: =\n",
            "R[write to console]: =\n",
            "R[write to console]: =\n",
            "R[write to console]: =\n",
            "R[write to console]: =\n",
            "R[write to console]: =\n",
            "R[write to console]: =\n",
            "R[write to console]: =\n",
            "R[write to console]: \n",
            "\n",
            "R[write to console]: downloaded 74 KB\n",
            "\n",
            "\n",
            "R[write to console]: trying URL 'https://cran.rstudio.com/src/contrib/SparseM_1.81.tar.gz'\n",
            "\n",
            "R[write to console]: Content type 'application/x-gzip'\n",
            "R[write to console]:  length 735100 bytes (717 KB)\n",
            "\n",
            "R[write to console]: =\n",
            "R[write to console]: =\n",
            "R[write to console]: =\n",
            "R[write to console]: =\n",
            "R[write to console]: =\n",
            "R[write to console]: =\n",
            "R[write to console]: =\n",
            "R[write to console]: =\n",
            "R[write to console]: =\n",
            "R[write to console]: =\n",
            "R[write to console]: =\n",
            "R[write to console]: =\n",
            "R[write to console]: =\n",
            "R[write to console]: =\n",
            "R[write to console]: =\n",
            "R[write to console]: =\n",
            "R[write to console]: =\n",
            "R[write to console]: =\n",
            "R[write to console]: =\n",
            "R[write to console]: =\n",
            "R[write to console]: =\n",
            "R[write to console]: =\n",
            "R[write to console]: =\n",
            "R[write to console]: =\n",
            "R[write to console]: =\n",
            "R[write to console]: =\n",
            "R[write to console]: =\n",
            "R[write to console]: =\n",
            "R[write to console]: =\n",
            "R[write to console]: =\n",
            "R[write to console]: =\n",
            "R[write to console]: =\n",
            "R[write to console]: =\n",
            "R[write to console]: =\n",
            "R[write to console]: =\n",
            "R[write to console]: =\n",
            "R[write to console]: =\n",
            "R[write to console]: =\n",
            "R[write to console]: =\n",
            "R[write to console]: =\n",
            "R[write to console]: =\n",
            "R[write to console]: =\n",
            "R[write to console]: =\n",
            "R[write to console]: =\n",
            "R[write to console]: =\n",
            "R[write to console]: =\n",
            "R[write to console]: =\n",
            "R[write to console]: =\n",
            "R[write to console]: =\n",
            "R[write to console]: =\n",
            "R[write to console]: \n",
            "\n",
            "R[write to console]: downloaded 717 KB\n",
            "\n",
            "\n",
            "R[write to console]: trying URL 'https://cran.rstudio.com/src/contrib/MatrixModels_0.5-0.tar.gz'\n",
            "\n",
            "R[write to console]: Content type 'application/x-gzip'\n",
            "R[write to console]:  length 24045 bytes (23 KB)\n",
            "\n",
            "R[write to console]: =\n",
            "R[write to console]: =\n",
            "R[write to console]: =\n",
            "R[write to console]: =\n",
            "R[write to console]: =\n",
            "R[write to console]: =\n",
            "R[write to console]: =\n",
            "R[write to console]: =\n",
            "R[write to console]: =\n",
            "R[write to console]: =\n",
            "R[write to console]: =\n",
            "R[write to console]: =\n",
            "R[write to console]: =\n",
            "R[write to console]: =\n",
            "R[write to console]: =\n",
            "R[write to console]: =\n",
            "R[write to console]: =\n",
            "R[write to console]: =\n",
            "R[write to console]: =\n",
            "R[write to console]: =\n",
            "R[write to console]: =\n",
            "R[write to console]: =\n",
            "R[write to console]: =\n",
            "R[write to console]: =\n",
            "R[write to console]: =\n",
            "R[write to console]: =\n",
            "R[write to console]: =\n",
            "R[write to console]: =\n",
            "R[write to console]: =\n",
            "R[write to console]: =\n",
            "R[write to console]: =\n",
            "R[write to console]: =\n",
            "R[write to console]: =\n",
            "R[write to console]: =\n",
            "R[write to console]: =\n",
            "R[write to console]: =\n",
            "R[write to console]: =\n",
            "R[write to console]: =\n",
            "R[write to console]: =\n",
            "R[write to console]: =\n",
            "R[write to console]: =\n",
            "R[write to console]: =\n",
            "R[write to console]: =\n",
            "R[write to console]: =\n",
            "R[write to console]: =\n",
            "R[write to console]: =\n",
            "R[write to console]: =\n",
            "R[write to console]: =\n",
            "R[write to console]: =\n",
            "R[write to console]: =\n",
            "R[write to console]: \n",
            "\n",
            "R[write to console]: downloaded 23 KB\n",
            "\n",
            "\n",
            "R[write to console]: trying URL 'https://cran.rstudio.com/src/contrib/sp_1.4-7.tar.gz'\n",
            "\n",
            "R[write to console]: Content type 'application/x-gzip'\n",
            "R[write to console]:  length 1424284 bytes (1.4 MB)\n",
            "\n",
            "R[write to console]: =\n",
            "R[write to console]: =\n",
            "R[write to console]: =\n",
            "R[write to console]: =\n",
            "R[write to console]: =\n",
            "R[write to console]: =\n",
            "R[write to console]: =\n",
            "R[write to console]: =\n",
            "R[write to console]: =\n",
            "R[write to console]: =\n",
            "R[write to console]: =\n",
            "R[write to console]: =\n",
            "R[write to console]: =\n",
            "R[write to console]: =\n",
            "R[write to console]: =\n",
            "R[write to console]: =\n",
            "R[write to console]: =\n",
            "R[write to console]: =\n",
            "R[write to console]: =\n",
            "R[write to console]: =\n",
            "R[write to console]: =\n",
            "R[write to console]: =\n",
            "R[write to console]: =\n",
            "R[write to console]: =\n",
            "R[write to console]: =\n",
            "R[write to console]: =\n",
            "R[write to console]: =\n",
            "R[write to console]: =\n",
            "R[write to console]: =\n",
            "R[write to console]: =\n",
            "R[write to console]: =\n",
            "R[write to console]: =\n",
            "R[write to console]: =\n",
            "R[write to console]: =\n",
            "R[write to console]: =\n",
            "R[write to console]: =\n",
            "R[write to console]: =\n",
            "R[write to console]: =\n",
            "R[write to console]: =\n",
            "R[write to console]: =\n",
            "R[write to console]: =\n",
            "R[write to console]: =\n",
            "R[write to console]: =\n",
            "R[write to console]: =\n",
            "R[write to console]: =\n",
            "R[write to console]: =\n",
            "R[write to console]: =\n",
            "R[write to console]: =\n",
            "R[write to console]: =\n",
            "R[write to console]: =\n",
            "R[write to console]: \n",
            "\n",
            "R[write to console]: downloaded 1.4 MB\n",
            "\n",
            "\n",
            "R[write to console]: trying URL 'https://cran.rstudio.com/src/contrib/minqa_1.2.4.tar.gz'\n",
            "\n",
            "R[write to console]: Content type 'application/x-gzip'\n",
            "R[write to console]:  length 53548 bytes (52 KB)\n",
            "\n",
            "R[write to console]: =\n",
            "R[write to console]: =\n",
            "R[write to console]: =\n",
            "R[write to console]: =\n",
            "R[write to console]: =\n",
            "R[write to console]: =\n",
            "R[write to console]: =\n",
            "R[write to console]: =\n",
            "R[write to console]: =\n",
            "R[write to console]: =\n",
            "R[write to console]: =\n",
            "R[write to console]: =\n",
            "R[write to console]: =\n",
            "R[write to console]: =\n",
            "R[write to console]: =\n",
            "R[write to console]: =\n",
            "R[write to console]: =\n",
            "R[write to console]: =\n",
            "R[write to console]: =\n",
            "R[write to console]: =\n",
            "R[write to console]: =\n",
            "R[write to console]: =\n",
            "R[write to console]: =\n",
            "R[write to console]: =\n",
            "R[write to console]: =\n",
            "R[write to console]: =\n",
            "R[write to console]: =\n",
            "R[write to console]: =\n",
            "R[write to console]: =\n",
            "R[write to console]: =\n",
            "R[write to console]: =\n",
            "R[write to console]: =\n",
            "R[write to console]: =\n",
            "R[write to console]: =\n",
            "R[write to console]: =\n",
            "R[write to console]: =\n",
            "R[write to console]: =\n",
            "R[write to console]: =\n",
            "R[write to console]: =\n",
            "R[write to console]: =\n",
            "R[write to console]: =\n",
            "R[write to console]: =\n",
            "R[write to console]: =\n",
            "R[write to console]: =\n",
            "R[write to console]: =\n",
            "R[write to console]: =\n",
            "R[write to console]: =\n",
            "R[write to console]: =\n",
            "R[write to console]: =\n",
            "R[write to console]: =\n",
            "R[write to console]: \n",
            "\n",
            "R[write to console]: downloaded 52 KB\n",
            "\n",
            "\n",
            "R[write to console]: trying URL 'https://cran.rstudio.com/src/contrib/nloptr_2.0.3.tar.gz'\n",
            "\n",
            "R[write to console]: Content type 'application/x-gzip'\n",
            "R[write to console]:  length 2219877 bytes (2.1 MB)\n",
            "\n",
            "R[write to console]: =\n",
            "R[write to console]: =\n",
            "R[write to console]: =\n",
            "R[write to console]: =\n",
            "R[write to console]: =\n",
            "R[write to console]: =\n",
            "R[write to console]: =\n",
            "R[write to console]: =\n",
            "R[write to console]: =\n",
            "R[write to console]: =\n",
            "R[write to console]: =\n",
            "R[write to console]: =\n",
            "R[write to console]: =\n",
            "R[write to console]: =\n",
            "R[write to console]: =\n",
            "R[write to console]: =\n",
            "R[write to console]: =\n",
            "R[write to console]: =\n",
            "R[write to console]: =\n",
            "R[write to console]: =\n",
            "R[write to console]: =\n",
            "R[write to console]: =\n",
            "R[write to console]: =\n",
            "R[write to console]: =\n",
            "R[write to console]: =\n",
            "R[write to console]: =\n",
            "R[write to console]: =\n",
            "R[write to console]: =\n",
            "R[write to console]: =\n",
            "R[write to console]: =\n",
            "R[write to console]: =\n",
            "R[write to console]: =\n",
            "R[write to console]: =\n",
            "R[write to console]: =\n",
            "R[write to console]: =\n",
            "R[write to console]: =\n",
            "R[write to console]: =\n",
            "R[write to console]: =\n",
            "R[write to console]: =\n",
            "R[write to console]: =\n",
            "R[write to console]: =\n",
            "R[write to console]: =\n",
            "R[write to console]: =\n",
            "R[write to console]: =\n",
            "R[write to console]: =\n",
            "R[write to console]: =\n",
            "R[write to console]: =\n",
            "R[write to console]: =\n",
            "R[write to console]: =\n",
            "R[write to console]: =\n",
            "R[write to console]: \n",
            "\n",
            "R[write to console]: downloaded 2.1 MB\n",
            "\n",
            "\n",
            "R[write to console]: trying URL 'https://cran.rstudio.com/src/contrib/RcppEigen_0.3.3.9.2.tar.gz'\n",
            "\n",
            "R[write to console]: Content type 'application/x-gzip'\n",
            "R[write to console]:  length 1476004 bytes (1.4 MB)\n",
            "\n",
            "R[write to console]: =\n",
            "R[write to console]: =\n",
            "R[write to console]: =\n",
            "R[write to console]: =\n",
            "R[write to console]: =\n",
            "R[write to console]: =\n",
            "R[write to console]: =\n",
            "R[write to console]: =\n",
            "R[write to console]: =\n",
            "R[write to console]: =\n",
            "R[write to console]: =\n",
            "R[write to console]: =\n",
            "R[write to console]: =\n",
            "R[write to console]: =\n",
            "R[write to console]: =\n",
            "R[write to console]: =\n",
            "R[write to console]: =\n",
            "R[write to console]: =\n",
            "R[write to console]: =\n",
            "R[write to console]: =\n",
            "R[write to console]: =\n",
            "R[write to console]: =\n",
            "R[write to console]: =\n",
            "R[write to console]: =\n",
            "R[write to console]: =\n",
            "R[write to console]: =\n",
            "R[write to console]: =\n",
            "R[write to console]: =\n",
            "R[write to console]: =\n",
            "R[write to console]: =\n",
            "R[write to console]: =\n",
            "R[write to console]: =\n",
            "R[write to console]: =\n",
            "R[write to console]: =\n",
            "R[write to console]: =\n",
            "R[write to console]: =\n",
            "R[write to console]: =\n",
            "R[write to console]: =\n",
            "R[write to console]: =\n",
            "R[write to console]: =\n",
            "R[write to console]: =\n",
            "R[write to console]: =\n",
            "R[write to console]: =\n",
            "R[write to console]: =\n",
            "R[write to console]: =\n",
            "R[write to console]: =\n",
            "R[write to console]: =\n",
            "R[write to console]: =\n",
            "R[write to console]: =\n",
            "R[write to console]: =\n",
            "R[write to console]: \n",
            "\n",
            "R[write to console]: downloaded 1.4 MB\n",
            "\n",
            "\n",
            "R[write to console]: trying URL 'https://cran.rstudio.com/src/contrib/carData_3.0-5.tar.gz'\n",
            "\n",
            "R[write to console]: Content type 'application/x-gzip'\n",
            "R[write to console]:  length 1004201 bytes (980 KB)\n",
            "\n",
            "R[write to console]: =\n",
            "R[write to console]: =\n",
            "R[write to console]: =\n",
            "R[write to console]: =\n",
            "R[write to console]: =\n",
            "R[write to console]: =\n",
            "R[write to console]: =\n",
            "R[write to console]: =\n",
            "R[write to console]: =\n",
            "R[write to console]: =\n",
            "R[write to console]: =\n",
            "R[write to console]: =\n",
            "R[write to console]: =\n",
            "R[write to console]: =\n",
            "R[write to console]: =\n",
            "R[write to console]: =\n",
            "R[write to console]: =\n",
            "R[write to console]: =\n",
            "R[write to console]: =\n",
            "R[write to console]: =\n",
            "R[write to console]: =\n",
            "R[write to console]: =\n",
            "R[write to console]: =\n",
            "R[write to console]: =\n",
            "R[write to console]: =\n",
            "R[write to console]: =\n",
            "R[write to console]: =\n",
            "R[write to console]: =\n",
            "R[write to console]: =\n",
            "R[write to console]: =\n",
            "R[write to console]: =\n",
            "R[write to console]: =\n",
            "R[write to console]: =\n",
            "R[write to console]: =\n",
            "R[write to console]: =\n",
            "R[write to console]: =\n",
            "R[write to console]: =\n",
            "R[write to console]: =\n",
            "R[write to console]: =\n",
            "R[write to console]: =\n",
            "R[write to console]: =\n",
            "R[write to console]: =\n",
            "R[write to console]: =\n",
            "R[write to console]: =\n",
            "R[write to console]: =\n",
            "R[write to console]: =\n",
            "R[write to console]: =\n",
            "R[write to console]: =\n",
            "R[write to console]: =\n",
            "R[write to console]: =\n",
            "R[write to console]: \n",
            "\n",
            "R[write to console]: downloaded 980 KB\n",
            "\n",
            "\n",
            "R[write to console]: trying URL 'https://cran.rstudio.com/src/contrib/abind_1.4-5.tar.gz'\n",
            "\n",
            "R[write to console]: Content type 'application/x-gzip'\n",
            "R[write to console]:  length 21810 bytes (21 KB)\n",
            "\n",
            "R[write to console]: =\n",
            "R[write to console]: =\n",
            "R[write to console]: =\n",
            "R[write to console]: =\n",
            "R[write to console]: =\n",
            "R[write to console]: =\n",
            "R[write to console]: =\n",
            "R[write to console]: =\n",
            "R[write to console]: =\n",
            "R[write to console]: =\n",
            "R[write to console]: =\n",
            "R[write to console]: =\n",
            "R[write to console]: =\n",
            "R[write to console]: =\n",
            "R[write to console]: =\n",
            "R[write to console]: =\n",
            "R[write to console]: =\n",
            "R[write to console]: =\n",
            "R[write to console]: =\n",
            "R[write to console]: =\n",
            "R[write to console]: =\n",
            "R[write to console]: =\n",
            "R[write to console]: =\n",
            "R[write to console]: =\n",
            "R[write to console]: =\n",
            "R[write to console]: =\n",
            "R[write to console]: =\n",
            "R[write to console]: =\n",
            "R[write to console]: =\n",
            "R[write to console]: =\n",
            "R[write to console]: =\n",
            "R[write to console]: =\n",
            "R[write to console]: =\n",
            "R[write to console]: =\n",
            "R[write to console]: =\n",
            "R[write to console]: =\n",
            "R[write to console]: =\n",
            "R[write to console]: =\n",
            "R[write to console]: =\n",
            "R[write to console]: =\n",
            "R[write to console]: =\n",
            "R[write to console]: =\n",
            "R[write to console]: =\n",
            "R[write to console]: =\n",
            "R[write to console]: =\n",
            "R[write to console]: =\n",
            "R[write to console]: =\n",
            "R[write to console]: =\n",
            "R[write to console]: =\n",
            "R[write to console]: =\n",
            "R[write to console]: \n",
            "\n",
            "R[write to console]: downloaded 21 KB\n",
            "\n",
            "\n",
            "R[write to console]: trying URL 'https://cran.rstudio.com/src/contrib/pbkrtest_0.5.1.tar.gz'\n",
            "\n",
            "R[write to console]: Content type 'application/x-gzip'\n",
            "R[write to console]:  length 246327 bytes (240 KB)\n",
            "\n",
            "R[write to console]: =\n",
            "R[write to console]: =\n",
            "R[write to console]: =\n",
            "R[write to console]: =\n",
            "R[write to console]: =\n",
            "R[write to console]: =\n",
            "R[write to console]: =\n",
            "R[write to console]: =\n",
            "R[write to console]: =\n",
            "R[write to console]: =\n",
            "R[write to console]: =\n",
            "R[write to console]: =\n",
            "R[write to console]: =\n",
            "R[write to console]: =\n",
            "R[write to console]: =\n",
            "R[write to console]: =\n",
            "R[write to console]: =\n",
            "R[write to console]: =\n",
            "R[write to console]: =\n",
            "R[write to console]: =\n",
            "R[write to console]: =\n",
            "R[write to console]: =\n",
            "R[write to console]: =\n",
            "R[write to console]: =\n",
            "R[write to console]: =\n",
            "R[write to console]: =\n",
            "R[write to console]: =\n",
            "R[write to console]: =\n",
            "R[write to console]: =\n",
            "R[write to console]: =\n",
            "R[write to console]: =\n",
            "R[write to console]: =\n",
            "R[write to console]: =\n",
            "R[write to console]: =\n",
            "R[write to console]: =\n",
            "R[write to console]: =\n",
            "R[write to console]: =\n",
            "R[write to console]: =\n",
            "R[write to console]: =\n",
            "R[write to console]: =\n",
            "R[write to console]: =\n",
            "R[write to console]: =\n",
            "R[write to console]: =\n",
            "R[write to console]: =\n",
            "R[write to console]: =\n",
            "R[write to console]: =\n",
            "R[write to console]: =\n",
            "R[write to console]: =\n",
            "R[write to console]: =\n",
            "R[write to console]: =\n",
            "R[write to console]: \n",
            "\n",
            "R[write to console]: downloaded 240 KB\n",
            "\n",
            "\n",
            "R[write to console]: trying URL 'https://cran.rstudio.com/src/contrib/quantreg_5.93.tar.gz'\n",
            "\n",
            "R[write to console]: Content type 'application/x-gzip'\n",
            "R[write to console]:  length 1025022 bytes (1000 KB)\n",
            "\n",
            "R[write to console]: =\n",
            "R[write to console]: =\n",
            "R[write to console]: =\n",
            "R[write to console]: =\n",
            "R[write to console]: =\n",
            "R[write to console]: =\n",
            "R[write to console]: =\n",
            "R[write to console]: =\n",
            "R[write to console]: =\n",
            "R[write to console]: =\n",
            "R[write to console]: =\n",
            "R[write to console]: =\n",
            "R[write to console]: =\n",
            "R[write to console]: =\n",
            "R[write to console]: =\n",
            "R[write to console]: =\n",
            "R[write to console]: =\n",
            "R[write to console]: =\n",
            "R[write to console]: =\n",
            "R[write to console]: =\n",
            "R[write to console]: =\n",
            "R[write to console]: =\n",
            "R[write to console]: =\n",
            "R[write to console]: =\n",
            "R[write to console]: =\n",
            "R[write to console]: =\n",
            "R[write to console]: =\n",
            "R[write to console]: =\n",
            "R[write to console]: =\n",
            "R[write to console]: =\n",
            "R[write to console]: =\n",
            "R[write to console]: =\n",
            "R[write to console]: =\n",
            "R[write to console]: =\n",
            "R[write to console]: =\n",
            "R[write to console]: =\n",
            "R[write to console]: =\n",
            "R[write to console]: =\n",
            "R[write to console]: =\n",
            "R[write to console]: =\n",
            "R[write to console]: =\n",
            "R[write to console]: =\n",
            "R[write to console]: =\n",
            "R[write to console]: =\n",
            "R[write to console]: =\n",
            "R[write to console]: =\n",
            "R[write to console]: =\n",
            "R[write to console]: =\n",
            "R[write to console]: =\n",
            "R[write to console]: =\n",
            "R[write to console]: \n",
            "\n",
            "R[write to console]: downloaded 1000 KB\n",
            "\n",
            "\n",
            "R[write to console]: trying URL 'https://cran.rstudio.com/src/contrib/maptools_1.1-4.tar.gz'\n",
            "\n",
            "R[write to console]: Content type 'application/x-gzip'\n",
            "R[write to console]:  length 1643274 bytes (1.6 MB)\n",
            "\n",
            "R[write to console]: =\n",
            "R[write to console]: =\n",
            "R[write to console]: =\n",
            "R[write to console]: =\n",
            "R[write to console]: =\n",
            "R[write to console]: =\n",
            "R[write to console]: =\n",
            "R[write to console]: =\n",
            "R[write to console]: =\n",
            "R[write to console]: =\n",
            "R[write to console]: =\n",
            "R[write to console]: =\n",
            "R[write to console]: =\n",
            "R[write to console]: =\n",
            "R[write to console]: =\n",
            "R[write to console]: =\n",
            "R[write to console]: =\n",
            "R[write to console]: =\n",
            "R[write to console]: =\n",
            "R[write to console]: =\n",
            "R[write to console]: =\n",
            "R[write to console]: =\n",
            "R[write to console]: =\n",
            "R[write to console]: =\n",
            "R[write to console]: =\n",
            "R[write to console]: =\n",
            "R[write to console]: =\n",
            "R[write to console]: =\n",
            "R[write to console]: =\n",
            "R[write to console]: =\n",
            "R[write to console]: =\n",
            "R[write to console]: =\n",
            "R[write to console]: =\n",
            "R[write to console]: =\n",
            "R[write to console]: =\n",
            "R[write to console]: =\n",
            "R[write to console]: =\n",
            "R[write to console]: =\n",
            "R[write to console]: =\n",
            "R[write to console]: =\n",
            "R[write to console]: =\n",
            "R[write to console]: =\n",
            "R[write to console]: =\n",
            "R[write to console]: =\n",
            "R[write to console]: =\n",
            "R[write to console]: =\n",
            "R[write to console]: =\n",
            "R[write to console]: =\n",
            "R[write to console]: =\n",
            "R[write to console]: =\n",
            "R[write to console]: \n",
            "\n",
            "R[write to console]: downloaded 1.6 MB\n",
            "\n",
            "\n",
            "R[write to console]: trying URL 'https://cran.rstudio.com/src/contrib/lme4_1.1-29.tar.gz'\n",
            "\n",
            "R[write to console]: Content type 'application/x-gzip'\n",
            "R[write to console]:  length 3306026 bytes (3.2 MB)\n",
            "\n",
            "R[write to console]: =\n",
            "R[write to console]: =\n",
            "R[write to console]: =\n",
            "R[write to console]: =\n",
            "R[write to console]: =\n",
            "R[write to console]: =\n",
            "R[write to console]: =\n",
            "R[write to console]: =\n",
            "R[write to console]: =\n",
            "R[write to console]: =\n",
            "R[write to console]: =\n",
            "R[write to console]: =\n",
            "R[write to console]: =\n",
            "R[write to console]: =\n",
            "R[write to console]: =\n",
            "R[write to console]: =\n",
            "R[write to console]: =\n",
            "R[write to console]: =\n",
            "R[write to console]: =\n",
            "R[write to console]: =\n",
            "R[write to console]: =\n",
            "R[write to console]: =\n",
            "R[write to console]: =\n",
            "R[write to console]: =\n",
            "R[write to console]: =\n",
            "R[write to console]: =\n",
            "R[write to console]: =\n",
            "R[write to console]: =\n",
            "R[write to console]: =\n",
            "R[write to console]: =\n",
            "R[write to console]: =\n",
            "R[write to console]: =\n",
            "R[write to console]: =\n",
            "R[write to console]: =\n",
            "R[write to console]: =\n",
            "R[write to console]: =\n",
            "R[write to console]: =\n",
            "R[write to console]: =\n",
            "R[write to console]: =\n",
            "R[write to console]: =\n",
            "R[write to console]: =\n",
            "R[write to console]: =\n",
            "R[write to console]: =\n",
            "R[write to console]: =\n",
            "R[write to console]: =\n",
            "R[write to console]: =\n",
            "R[write to console]: =\n",
            "R[write to console]: =\n",
            "R[write to console]: =\n",
            "R[write to console]: =\n",
            "R[write to console]: \n",
            "\n",
            "R[write to console]: downloaded 3.2 MB\n",
            "\n",
            "\n",
            "R[write to console]: trying URL 'https://cran.rstudio.com/src/contrib/car_3.0-13.tar.gz'\n",
            "\n",
            "R[write to console]: Content type 'application/x-gzip'\n",
            "R[write to console]:  length 494341 bytes (482 KB)\n",
            "\n",
            "R[write to console]: =\n",
            "R[write to console]: =\n",
            "R[write to console]: =\n",
            "R[write to console]: =\n",
            "R[write to console]: =\n",
            "R[write to console]: =\n",
            "R[write to console]: =\n",
            "R[write to console]: =\n",
            "R[write to console]: =\n",
            "R[write to console]: =\n",
            "R[write to console]: =\n",
            "R[write to console]: =\n",
            "R[write to console]: =\n",
            "R[write to console]: =\n",
            "R[write to console]: =\n",
            "R[write to console]: =\n",
            "R[write to console]: =\n",
            "R[write to console]: =\n",
            "R[write to console]: =\n",
            "R[write to console]: =\n",
            "R[write to console]: =\n",
            "R[write to console]: =\n",
            "R[write to console]: =\n",
            "R[write to console]: =\n",
            "R[write to console]: =\n",
            "R[write to console]: =\n",
            "R[write to console]: =\n",
            "R[write to console]: =\n",
            "R[write to console]: =\n",
            "R[write to console]: =\n",
            "R[write to console]: =\n",
            "R[write to console]: =\n",
            "R[write to console]: =\n",
            "R[write to console]: =\n",
            "R[write to console]: =\n",
            "R[write to console]: =\n",
            "R[write to console]: =\n",
            "R[write to console]: =\n",
            "R[write to console]: =\n",
            "R[write to console]: =\n",
            "R[write to console]: =\n",
            "R[write to console]: =\n",
            "R[write to console]: =\n",
            "R[write to console]: =\n",
            "R[write to console]: =\n",
            "R[write to console]: =\n",
            "R[write to console]: =\n",
            "R[write to console]: =\n",
            "R[write to console]: =\n",
            "R[write to console]: =\n",
            "R[write to console]: \n",
            "\n",
            "R[write to console]: downloaded 482 KB\n",
            "\n",
            "\n",
            "R[write to console]: \n",
            "\n",
            "R[write to console]: \n",
            "R[write to console]: The downloaded source packages are in\n",
            "\t‘/tmp/RtmpFAfTnD/downloaded_packages’\n",
            "R[write to console]: \n",
            "R[write to console]: \n",
            "\n",
            "R[write to console]: \n",
            "car installed\n",
            "\n"
          ]
        }
      ],
      "source": [
        "# 3.패키지 자동설치 자동로드1\n",
        "%%R\n",
        "if (!require(pacman)) {install.packages(\"pacman\")\n",
        "   library(pacman)}\n",
        "pacman::p_load(\"report\", \"sjmisc\",\"dplyr\",\"Hmisc\",\"gmodels\",\"equatiomatic\",\"stargazer\",\"lawstat\",\n",
        "               \"scatterplot3d\",\"stats\",\"gvlma\",\"car\")\n",
        "    #\"corrplot\", \"stargazer\", \"plotly\", \"openxlsx\",\"ggplot2\", #  \"lazyeval\"\n",
        "     #     \"readxl\",\"dplyr\",\"htmltools\", \"sjmisc\",\"lawstat\",\"report\",\n",
        "      #    \"lawstat\",\"Hmisc\") # \"webr\",\"moonBook\","
      ]
    },
    {
      "cell_type": "markdown",
      "metadata": {
        "id": "YmJjrU_qdSe0"
      },
      "source": [
        "코랩과 구글 드라이브의 연결, 데이터의 로드와 분석결과의 저장을 위해서"
      ]
    },
    {
      "cell_type": "code",
      "execution_count": 4,
      "metadata": {
        "colab": {
          "base_uri": "https://localhost:8080/"
        },
        "id": "r_flYW1tKG7a",
        "outputId": "fa9b55cf-0c2d-4d50-83ed-a82ba38afebb"
      },
      "outputs": [
        {
          "output_type": "stream",
          "name": "stdout",
          "text": [
            "Mounted at /content/drive\n"
          ]
        }
      ],
      "source": [
        "from google.colab import drive\n",
        "drive.mount('/content/drive') \n",
        "\n",
        "# 아래 출력되는 URL에 접속하여 이용 동의 후 생성되는 인증코드를 복사해서 붙여넣기"
      ]
    },
    {
      "cell_type": "markdown",
      "metadata": {
        "id": "fFgUEIlWuMKf"
      },
      "source": [
        "## 데이터 로드"
      ]
    },
    {
      "cell_type": "code",
      "execution_count": 5,
      "metadata": {
        "id": "WqoOk-UzuRun"
      },
      "outputs": [],
      "source": [
        "%%R\n",
        "incheon0427 <- read.csv(\"/content/drive/MyDrive/incheon_resort_test.csv\")"
      ]
    },
    {
      "cell_type": "code",
      "execution_count": 6,
      "metadata": {
        "colab": {
          "base_uri": "https://localhost:8080/"
        },
        "id": "4QDwl_h7Zs5P",
        "outputId": "61f1bdc9-a24a-4796-ba01-ac62782e3108"
      },
      "outputs": [
        {
          "output_type": "stream",
          "name": "stdout",
          "text": [
            "  X pos_eco1 pos_eco2 pos_eco3 neg_eco1 neg_eco2 neg_eco3 pos_soc1 pos_soc2\n",
            "1 0        4        4        4        4        4        4        4        4\n",
            "2 1        2        3        3        4        5        5        4        3\n",
            "3 2        4        3        3        4        4        4        3        4\n",
            "4 3        4        4        4        4        4        4        3        2\n",
            "5 4        4        4        3        4        2        2        3        2\n",
            "6 5        3        4        4        4        4        3        3        3\n",
            "  pos_soc3 neg_soc1 neg_soc2 neg_soc3 pos_env1 pos_env2 pos_env3 neg_env1\n",
            "1        4        4        4        4        4        4        4        4\n",
            "2        4        5        5        5        5        5        4        4\n",
            "3        3        4        4        4        3        3        3        4\n",
            "4        3        4        4        4        4        4        4        4\n",
            "5        4        4        3        3        4        3        4        4\n",
            "6        2        5        5        4        5        3        3        3\n",
            "  neg_env2 neg_env3 sup1 sup2 sup3 visit_bi stay_reg stay_time gender\n",
            "1        3        3    4    4    4        1   효성동         1      2\n",
            "2        2        5    2    3    2        1    효성1        26      1\n",
            "3        3        4    3    3    4        2     효성        20      2\n",
            "4        3        3    3    4    3        2     효성        13      2\n",
            "5        4        4    3    4    3        1     효성        22      2\n",
            "6        2        3    3    3    3        2     효성        15      1\n",
            "  prior_develop int_visit age age_range\n",
            "1             2         2  47         3\n",
            "2             2         2  31         2\n",
            "3             2         2  26         1\n",
            "4             2         2  42         3\n",
            "5             2         2  33         2\n",
            "6             2         2  21         1\n"
          ]
        }
      ],
      "source": [
        "%%R\n",
        "head(incheon0427)"
      ]
    },
    {
      "cell_type": "markdown",
      "metadata": {
        "id": "EnCBU8jAoPli"
      },
      "source": [
        "데이터의 크기를 행과 열의 순으로 보여줌"
      ]
    },
    {
      "cell_type": "code",
      "execution_count": 7,
      "metadata": {
        "colab": {
          "base_uri": "https://localhost:8080/"
        },
        "id": "vS95hojFwgO3",
        "outputId": "38cdad02-ec57-402f-c55e-1dea83bf5449"
      },
      "outputs": [
        {
          "output_type": "stream",
          "name": "stdout",
          "text": [
            "[1] 556  30\n"
          ]
        }
      ],
      "source": [
        "%%R\n",
        "dim(incheon0427)"
      ]
    },
    {
      "cell_type": "markdown",
      "metadata": {
        "id": "M1iRzxBmfEUS"
      },
      "source": [
        "### iris데이터를 토한 report 패키지의 이해"
      ]
    },
    {
      "cell_type": "code",
      "execution_count": 8,
      "metadata": {
        "colab": {
          "base_uri": "https://localhost:8080/"
        },
        "id": "twoI-cC0f4cs",
        "outputId": "7acc14cd-ca44-4e84-d751-0edb2f73f162"
      },
      "outputs": [
        {
          "output_type": "stream",
          "name": "stdout",
          "text": [
            "iris$Sepal.Length: n = 150, Mean = 5.84, SD = 0.83, Median = 5.80, MAD = 1.04, range: [4.30, 7.90], Skewness = 0.31, Kurtosis = -0.55, 0% missing"
          ]
        }
      ],
      "source": [
        "%%R\n",
        "report_text(iris$Sepal.Length)"
      ]
    },
    {
      "cell_type": "code",
      "execution_count": 9,
      "metadata": {
        "colab": {
          "base_uri": "https://localhost:8080/"
        },
        "id": "VKRV_CQ6gKeD",
        "outputId": "7be7565c-4265-4244-c6b1-398860175f43"
      },
      "outputs": [
        {
          "output_type": "stream",
          "name": "stdout",
          "text": [
            "'data.frame':\t150 obs. of  5 variables:\n",
            " $ Sepal.Length: num  5.1 4.9 4.7 4.6 5 5.4 4.6 5 4.4 4.9 ...\n",
            " $ Sepal.Width : num  3.5 3 3.2 3.1 3.6 3.9 3.4 3.4 2.9 3.1 ...\n",
            " $ Petal.Length: num  1.4 1.4 1.3 1.5 1.4 1.7 1.4 1.5 1.4 1.5 ...\n",
            " $ Petal.Width : num  0.2 0.2 0.2 0.2 0.2 0.4 0.3 0.2 0.2 0.1 ...\n",
            " $ Species     : Factor w/ 3 levels \"setosa\",\"versicolor\",..: 1 1 1 1 1 1 1 1 1 1 ...\n"
          ]
        }
      ],
      "source": [
        "%%R\n",
        "str(iris)"
      ]
    },
    {
      "cell_type": "markdown",
      "metadata": {
        "id": "S0aw1LJ_hAQZ"
      },
      "source": [
        "iris내장데이터셋에 대한 report테스트"
      ]
    },
    {
      "cell_type": "code",
      "execution_count": 10,
      "metadata": {
        "colab": {
          "base_uri": "https://localhost:8080/"
        },
        "id": "-q8OPGyvkJ-Y",
        "outputId": "37ba23f6-6d58-459e-99f5-aa69dbbb8e71"
      },
      "outputs": [
        {
          "output_type": "stream",
          "name": "stdout",
          "text": [
            "The data contains 150 observations of the following 5 variables:\n",
            "\n",
            "  - Sepal.Length: n = 150, Mean = 5.84, SD = 0.83, Median = 5.80, MAD = 1.04, range: [4.30, 7.90], Skewness = 0.31, Kurtosis = -0.55, 0% missing\n",
            "  - Sepal.Width: n = 150, Mean = 3.06, SD = 0.44, Median = 3.00, MAD = 0.44, range: [2, 4.40], Skewness = 0.32, Kurtosis = 0.23, 0% missing\n",
            "  - Petal.Length: n = 150, Mean = 3.76, SD = 1.77, Median = 4.35, MAD = 1.85, range: [1, 6.90], Skewness = -0.27, Kurtosis = -1.40, 0% missing\n",
            "  - Petal.Width: n = 150, Mean = 1.20, SD = 0.76, Median = 1.30, MAD = 1.04, range: [0.10, 2.50], Skewness = -0.10, Kurtosis = -1.34, 0% missing\n",
            "  - Species: 3 levels, namely setosa (n = 50, 33.33%), versicolor (n = 50, 33.33%) and virginica (n = 50, 33.33%)"
          ]
        }
      ],
      "source": [
        "%%R\n",
        "report(iris)"
      ]
    },
    {
      "cell_type": "markdown",
      "metadata": {
        "id": "btD7dVLrxfi5"
      },
      "source": [
        "다시 인천데이터에 대해서 556개의 행과 30개의 열이 있음을 알 수 있음"
      ]
    },
    {
      "cell_type": "code",
      "execution_count": 11,
      "metadata": {
        "colab": {
          "base_uri": "https://localhost:8080/"
        },
        "id": "N7w2oCcRw6jJ",
        "outputId": "17881246-3818-45f6-907e-71fd21729492"
      },
      "outputs": [
        {
          "output_type": "stream",
          "name": "stdout",
          "text": [
            "[1] 556\n",
            "[1] 30\n"
          ]
        }
      ],
      "source": [
        "%%R\n",
        "print(nrow(incheon0427)); print(ncol(incheon0427))"
      ]
    },
    {
      "cell_type": "code",
      "execution_count": 12,
      "metadata": {
        "colab": {
          "base_uri": "https://localhost:8080/"
        },
        "id": "1_z42UnaxD3_",
        "outputId": "bbc3efcb-0b5f-448f-b270-dda68d0a8286"
      },
      "outputs": [
        {
          "output_type": "stream",
          "name": "stdout",
          "text": [
            "[1] 556\n",
            "[1] 30\n"
          ]
        }
      ],
      "source": [
        "%%R\n",
        "dim_df=dim(incheon0427)\n",
        "#print(str(dim_df))\n",
        "print(dim_df[1])\n",
        "print(dim_df[2])"
      ]
    },
    {
      "cell_type": "code",
      "execution_count": 13,
      "metadata": {
        "colab": {
          "base_uri": "https://localhost:8080/"
        },
        "id": "opQbHrpKxpi_",
        "outputId": "0e12cf74-aeb1-4955-aa7a-8f81368f5098"
      },
      "outputs": [
        {
          "output_type": "stream",
          "name": "stdout",
          "text": [
            "행의 갯수는 556 개이다"
          ]
        }
      ],
      "source": [
        "%%R\n",
        "cat(\"행의 갯수는\",nrow(incheon0427),\"개이다\")"
      ]
    },
    {
      "cell_type": "code",
      "execution_count": 14,
      "metadata": {
        "colab": {
          "base_uri": "https://localhost:8080/"
        },
        "id": "Pjfc_xWOyD27",
        "outputId": "dc514c45-c5fa-44c1-fd23-6d714cbe2d1e"
      },
      "outputs": [
        {
          "output_type": "stream",
          "name": "stdout",
          "text": [
            "열의 갯수는 30 개이다"
          ]
        }
      ],
      "source": [
        "%%R\n",
        "cat(\"열의 갯수는\",ncol(incheon0427),\"개이다\")"
      ]
    },
    {
      "cell_type": "markdown",
      "metadata": {
        "id": "epaCQXJQobJ3"
      },
      "source": [
        "현재 로드된 데이터셋내의 변수명을 보여줌"
      ]
    },
    {
      "cell_type": "code",
      "execution_count": 15,
      "metadata": {
        "colab": {
          "base_uri": "https://localhost:8080/"
        },
        "id": "aUZERMOG0VTd",
        "outputId": "029c05fa-3c60-4daa-a722-c6cc1ed02eed"
      },
      "outputs": [
        {
          "output_type": "stream",
          "name": "stdout",
          "text": [
            " [1] \"X\"             \"pos_eco1\"      \"pos_eco2\"      \"pos_eco3\"     \n",
            " [5] \"neg_eco1\"      \"neg_eco2\"      \"neg_eco3\"      \"pos_soc1\"     \n",
            " [9] \"pos_soc2\"      \"pos_soc3\"      \"neg_soc1\"      \"neg_soc2\"     \n",
            "[13] \"neg_soc3\"      \"pos_env1\"      \"pos_env2\"      \"pos_env3\"     \n",
            "[17] \"neg_env1\"      \"neg_env2\"      \"neg_env3\"      \"sup1\"         \n",
            "[21] \"sup2\"          \"sup3\"          \"visit_bi\"      \"stay_reg\"     \n",
            "[25] \"stay_time\"     \"gender\"        \"prior_develop\" \"int_visit\"    \n",
            "[29] \"age\"           \"age_range\"    \n"
          ]
        }
      ],
      "source": [
        "%%R\n",
        "names(incheon0427)"
      ]
    },
    {
      "cell_type": "code",
      "execution_count": 16,
      "metadata": {
        "colab": {
          "base_uri": "https://localhost:8080/"
        },
        "id": "vdvAhbWUo_NL",
        "outputId": "50416a4d-1ebb-498f-8452-eccc3178f0d0"
      },
      "outputs": [
        {
          "output_type": "stream",
          "name": "stdout",
          "text": [
            "'data.frame':\t556 obs. of  30 variables:\n",
            " $ X            : int  0 1 2 3 4 5 6 7 8 9 ...\n",
            " $ pos_eco1     : int  4 2 4 4 4 3 1 3 4 3 ...\n",
            " $ pos_eco2     : int  4 3 3 4 4 4 1 3 3 3 ...\n",
            " $ pos_eco3     : int  4 3 3 4 3 4 2 3 3 3 ...\n",
            " $ neg_eco1     : int  4 4 4 4 4 4 4 5 3 4 ...\n",
            " $ neg_eco2     : int  4 5 4 4 2 4 4 5 3 3 ...\n",
            " $ neg_eco3     : int  4 5 4 4 2 3 5 5 3 3 ...\n",
            " $ pos_soc1     : int  4 4 3 3 3 3 2 2 4 3 ...\n",
            " $ pos_soc2     : int  4 3 4 2 2 3 2 2 4 3 ...\n",
            " $ pos_soc3     : int  4 4 3 3 4 2 1 2 5 3 ...\n",
            " $ neg_soc1     : int  4 5 4 4 4 5 3 5 3 4 ...\n",
            " $ neg_soc2     : int  4 5 4 4 3 5 4 5 2 3 ...\n",
            " $ neg_soc3     : int  4 5 4 4 3 4 4 5 4 3 ...\n",
            " $ pos_env1     : int  4 5 3 4 4 5 2 4 4 3 ...\n",
            " $ pos_env2     : int  4 5 3 4 3 3 2 2 4 3 ...\n",
            " $ pos_env3     : int  4 4 3 4 4 3 2 2 4 3 ...\n",
            " $ neg_env1     : int  4 4 4 4 4 3 4 5 3 4 ...\n",
            " $ neg_env2     : int  3 2 3 3 4 2 4 5 3 3 ...\n",
            " $ neg_env3     : int  3 5 4 3 4 3 4 5 3 3 ...\n",
            " $ sup1         : int  4 2 3 3 3 3 2 2 3 3 ...\n",
            " $ sup2         : int  4 3 3 4 4 3 2 2 3 3 ...\n",
            " $ sup3         : int  4 2 4 3 3 3 2 2 3 3 ...\n",
            " $ visit_bi     : int  1 1 2 2 1 2 2 2 2 2 ...\n",
            " $ stay_reg     : chr  \"효성동\" \"효성1\" \"효성\" \"효성\" ...\n",
            " $ stay_time    : int  1 26 20 13 22 15 5 20 5 24 ...\n",
            " $ gender       : int  2 1 2 2 2 1 2 1 1 1 ...\n",
            " $ prior_develop: int  2 2 2 2 2 2 2 2 2 2 ...\n",
            " $ int_visit    : int  2 2 2 2 2 2 2 2 2 2 ...\n",
            " $ age          : int  47 31 26 42 33 21 29 45 25 24 ...\n",
            " $ age_range    : int  3 2 1 3 2 1 1 3 1 1 ...\n"
          ]
        }
      ],
      "source": [
        "%%R\n",
        "str(incheon0427)"
      ]
    },
    {
      "cell_type": "markdown",
      "metadata": {
        "id": "P4kNonQqhJFy"
      },
      "source": [
        "## 데이터 변환"
      ]
    },
    {
      "cell_type": "markdown",
      "metadata": {
        "id": "UxiOJ6J_op1H"
      },
      "source": [
        "필요에 의해(분석목적에 의해) 비슷한 변수는 요인화(평균)하고 원래 질적변수로 로드되어야 하는 변수들을 질적변수로 만들어줌"
      ]
    },
    {
      "cell_type": "markdown",
      "metadata": {
        "id": "FShI0vG80azo"
      },
      "source": [
        "변수명 변경\n"
      ]
    },
    {
      "cell_type": "code",
      "execution_count": 17,
      "metadata": {
        "colab": {
          "base_uri": "https://localhost:8080/"
        },
        "id": "T-GVST1H0edp",
        "outputId": "b4c50cbe-8c58-4287-959e-93b666d5c297"
      },
      "outputs": [
        {
          "output_type": "stream",
          "name": "stdout",
          "text": [
            "  X pos_eco1 pos_eco2 pos_eco3 neg_eco1 neg_eco2 neg_eco3 pos_soc1 pos_soc2\n",
            "1 0        4        4        4        4        4        4        4        4\n",
            "2 1        2        3        3        4        5        5        4        3\n",
            "3 2        4        3        3        4        4        4        3        4\n",
            "4 3        4        4        4        4        4        4        3        2\n",
            "5 4        4        4        3        4        2        2        3        2\n",
            "6 5        3        4        4        4        4        3        3        3\n",
            "  pos_soc3 neg_soc1 neg_soc2 neg_soc3 pos_env1 pos_env2 pos_env3 neg_env1\n",
            "1        4        4        4        4        4        4        4        4\n",
            "2        4        5        5        5        5        5        4        4\n",
            "3        3        4        4        4        3        3        3        4\n",
            "4        3        4        4        4        4        4        4        4\n",
            "5        4        4        3        3        4        3        4        4\n",
            "6        2        5        5        4        5        3        3        3\n",
            "  neg_env2 neg_env3 sup1 sup2 sup3 visit_bi stay_reg stay_time gender\n",
            "1        3        3    4    4    4        1   효성동         1      2\n",
            "2        2        5    2    3    2        1    효성1        26      1\n",
            "3        3        4    3    3    4        2     효성        20      2\n",
            "4        3        3    3    4    3        2     효성        13      2\n",
            "5        4        4    3    4    3        1     효성        22      2\n",
            "6        2        3    3    3    3        2     효성        15      1\n",
            "  prior_develop int_visit age age_range\n",
            "1             2         2  47         3\n",
            "2             2         2  31         2\n",
            "3             2         2  26         1\n",
            "4             2         2  42         3\n",
            "5             2         2  33         2\n",
            "6             2         2  21         1\n"
          ]
        }
      ],
      "source": [
        "%%R\n",
        "incheon0427_ex = incheon0427\n",
        "head(incheon0427_ex)"
      ]
    },
    {
      "cell_type": "code",
      "execution_count": 18,
      "metadata": {
        "colab": {
          "base_uri": "https://localhost:8080/"
        },
        "id": "sNDziClW03nm",
        "outputId": "08f3b52e-3315-4eaf-a1ad-4fb502f0069a"
      },
      "outputs": [
        {
          "output_type": "stream",
          "name": "stdout",
          "text": [
            " [1] \"X\"             \"pos_eco1\"      \"pos_eco2\"      \"pos_eco3\"     \n",
            " [5] \"neg_eco1\"      \"neg_eco2\"      \"neg_eco3\"      \"pos_soc1\"     \n",
            " [9] \"pos_soc2\"      \"pos_soc3\"      \"neg_soc1\"      \"neg_soc2\"     \n",
            "[13] \"neg_soc3\"      \"pos_env1\"      \"pos_env2\"      \"pos_env3\"     \n",
            "[17] \"neg_env1\"      \"neg_env2\"      \"neg_env3\"      \"sup1\"         \n",
            "[21] \"sup2\"          \"sup3\"          \"visit_bi\"      \"stay_reg\"     \n",
            "[25] \"stay_time\"     \"gender\"        \"prior_develop\" \"int_visit\"    \n",
            "[29] \"age\"           \"age_range\"    \n"
          ]
        }
      ],
      "source": [
        "%%R\n",
        "names(incheon0427_ex) "
      ]
    },
    {
      "cell_type": "code",
      "execution_count": 19,
      "metadata": {
        "colab": {
          "base_uri": "https://localhost:8080/"
        },
        "id": "wJeO4wgL54qY",
        "outputId": "64fcc3b8-19b8-485c-9fc6-cb3f1e595a80"
      },
      "outputs": [
        {
          "output_type": "stream",
          "name": "stdout",
          "text": [
            "\n",
            "  1   2 \n",
            "274 282 \n"
          ]
        }
      ],
      "source": [
        "%%R\n",
        "table(incheon0427_ex$gender)"
      ]
    },
    {
      "cell_type": "code",
      "execution_count": 20,
      "metadata": {
        "colab": {
          "base_uri": "https://localhost:8080/"
        },
        "id": "jWZlqE4TipVp",
        "outputId": "fa020370-12f0-4018-b8e3-03bfd895d4f9"
      },
      "outputs": [
        {
          "output_type": "stream",
          "name": "stdout",
          "text": [
            "'data.frame':\t556 obs. of  30 variables:\n",
            " $ X            : int  0 1 2 3 4 5 6 7 8 9 ...\n",
            " $ pos_eco1     : int  4 2 4 4 4 3 1 3 4 3 ...\n",
            " $ pos_eco2     : int  4 3 3 4 4 4 1 3 3 3 ...\n",
            " $ pos_eco3     : int  4 3 3 4 3 4 2 3 3 3 ...\n",
            " $ neg_eco1     : int  4 4 4 4 4 4 4 5 3 4 ...\n",
            " $ neg_eco2     : int  4 5 4 4 2 4 4 5 3 3 ...\n",
            " $ neg_eco3     : int  4 5 4 4 2 3 5 5 3 3 ...\n",
            " $ pos_soc1     : int  4 4 3 3 3 3 2 2 4 3 ...\n",
            " $ pos_soc2     : int  4 3 4 2 2 3 2 2 4 3 ...\n",
            " $ pos_soc3     : int  4 4 3 3 4 2 1 2 5 3 ...\n",
            " $ neg_soc1     : int  4 5 4 4 4 5 3 5 3 4 ...\n",
            " $ neg_soc2     : int  4 5 4 4 3 5 4 5 2 3 ...\n",
            " $ neg_soc3     : int  4 5 4 4 3 4 4 5 4 3 ...\n",
            " $ pos_env1     : int  4 5 3 4 4 5 2 4 4 3 ...\n",
            " $ pos_env2     : int  4 5 3 4 3 3 2 2 4 3 ...\n",
            " $ pos_env3     : int  4 4 3 4 4 3 2 2 4 3 ...\n",
            " $ neg_env1     : int  4 4 4 4 4 3 4 5 3 4 ...\n",
            " $ neg_env2     : int  3 2 3 3 4 2 4 5 3 3 ...\n",
            " $ neg_env3     : int  3 5 4 3 4 3 4 5 3 3 ...\n",
            " $ sup1         : int  4 2 3 3 3 3 2 2 3 3 ...\n",
            " $ sup2         : int  4 3 3 4 4 3 2 2 3 3 ...\n",
            " $ sup3         : int  4 2 4 3 3 3 2 2 3 3 ...\n",
            " $ visit_bi     : int  1 1 2 2 1 2 2 2 2 2 ...\n",
            " $ stay_reg     : chr  \"효성동\" \"효성1\" \"효성\" \"효성\" ...\n",
            " $ stay_time    : int  1 26 20 13 22 15 5 20 5 24 ...\n",
            " $ gender       : int  2 1 2 2 2 1 2 1 1 1 ...\n",
            " $ prior_develop: int  2 2 2 2 2 2 2 2 2 2 ...\n",
            " $ int_visit    : int  2 2 2 2 2 2 2 2 2 2 ...\n",
            " $ age          : int  47 31 26 42 33 21 29 45 25 24 ...\n",
            " $ age_range    : int  3 2 1 3 2 1 1 3 1 1 ...\n"
          ]
        }
      ],
      "source": [
        "%%R\n",
        "str(incheon0427_ex)"
      ]
    },
    {
      "cell_type": "markdown",
      "metadata": {
        "id": "y8x87zFJhR15"
      },
      "source": [
        "## 기술통계"
      ]
    },
    {
      "cell_type": "markdown",
      "metadata": {
        "id": "bydGq9F9j1mD"
      },
      "source": [
        "### 양적변수의 질적변수화"
      ]
    },
    {
      "cell_type": "markdown",
      "metadata": {
        "id": "rpI2DWzRkAS8"
      },
      "source": [
        "분석상 질적변수여야 하는데 데이터 로드시 양적변수로 로드된 변수들에 대하여 질적변수로 바꾸고 빈도분석 실시"
      ]
    },
    {
      "cell_type": "code",
      "execution_count": 21,
      "metadata": {
        "colab": {
          "base_uri": "https://localhost:8080/"
        },
        "id": "-hZNFkcx6S-6",
        "outputId": "9b9a2716-7425-4992-8e9f-92d0df530234"
      },
      "outputs": [
        {
          "output_type": "stream",
          "name": "stderr",
          "text": [
            "R[write to console]: Package `sjPlot` needs to be loaded to print HTML tables.\n",
            "\n"
          ]
        },
        {
          "output_type": "stream",
          "name": "stdout",
          "text": [
            "x <categorical> \n",
            "# total N=556 valid N=556 mean=1.52 sd=0.50\n",
            "\n",
            "Value      |   N | Raw % | Valid % | Cum. %\n",
            "-------------------------------------------\n",
            "방문예정   | 268 | 48.20 |   48.20 |  48.20\n",
            "방문비예정 | 288 | 51.80 |   51.80 | 100.00\n",
            "<NA>       |   0 |  0.00 |    <NA> |   <NA>\n"
          ]
        }
      ],
      "source": [
        "%%R\n",
        "incheon0427_ex$visit_bi <- factor(as.numeric(incheon0427_ex$visit_bi), labels=c('방문예정','방문비예정'))\n",
        "#table(Dataset$gender)\n",
        "frq(incheon0427_ex$visit_bi, out = \"v\")"
      ]
    },
    {
      "cell_type": "code",
      "execution_count": 22,
      "metadata": {
        "colab": {
          "base_uri": "https://localhost:8080/"
        },
        "id": "yf2KEvv47IiG",
        "outputId": "68a2cde6-5f09-415c-ad8b-7a72e88b7d59"
      },
      "outputs": [
        {
          "output_type": "stream",
          "name": "stdout",
          "text": [
            "x: 2 levels, namely 방문예정 (n = 268, 48.20%) and 방문비예정 (n = 288, 51.80%)"
          ]
        }
      ],
      "source": [
        "%%R\n",
        "report(incheon0427_ex$visit_bi)"
      ]
    },
    {
      "cell_type": "code",
      "execution_count": 23,
      "metadata": {
        "colab": {
          "base_uri": "https://localhost:8080/"
        },
        "id": "evBXV-1L8uGg",
        "outputId": "81f2ac77-dd06-48f1-9b3b-d760923c1dcf"
      },
      "outputs": [
        {
          "output_type": "stream",
          "name": "stderr",
          "text": [
            "R[write to console]: Package `sjPlot` needs to be loaded to print HTML tables.\n",
            "\n"
          ]
        },
        {
          "output_type": "stream",
          "name": "stdout",
          "text": [
            "x <categorical> \n",
            "# total N=556 valid N=556 mean=1.51 sd=0.50\n",
            "\n",
            "Value |   N | Raw % | Valid % | Cum. %\n",
            "--------------------------------------\n",
            "남자  | 274 | 49.28 |   49.28 |  49.28\n",
            "여자  | 282 | 50.72 |   50.72 | 100.00\n",
            "<NA>  |   0 |  0.00 |    <NA> |   <NA>\n"
          ]
        }
      ],
      "source": [
        "%%R\n",
        "incheon0427_ex$gender <- factor(as.numeric(incheon0427_ex$gender), labels=c('남자','여자'))\n",
        "#table(Dataset$gender)\n",
        "frq(incheon0427_ex$gender, out = \"v\")"
      ]
    },
    {
      "cell_type": "code",
      "execution_count": 24,
      "metadata": {
        "colab": {
          "base_uri": "https://localhost:8080/"
        },
        "id": "xRWIzSqp8y6Q",
        "outputId": "badac0f5-c58c-4148-e93c-45de16e493c8"
      },
      "outputs": [
        {
          "output_type": "stream",
          "name": "stderr",
          "text": [
            "R[write to console]: Package `sjPlot` needs to be loaded to print HTML tables.\n",
            "\n"
          ]
        },
        {
          "output_type": "stream",
          "name": "stdout",
          "text": [
            "x <categorical> \n",
            "# total N=556 valid N=556 mean=1.53 sd=0.50\n",
            "\n",
            "Value          |   N | Raw % | Valid % | Cum. %\n",
            "-----------------------------------------------\n",
            "개발사전인지   | 262 | 47.12 |   47.12 |  47.12\n",
            "개발사전비인지 | 294 | 52.88 |   52.88 | 100.00\n",
            "<NA>           |   0 |  0.00 |    <NA> |   <NA>\n"
          ]
        }
      ],
      "source": [
        "%%R\n",
        "table(incheon0427_ex$prior_develop)\n",
        "incheon0427_ex$prior_develop <- factor(as.numeric(incheon0427_ex$prior_develop), labels=c('개발사전인지','개발사전비인지'))\n",
        "#table(Dataset$gender)\n",
        "frq(incheon0427_ex$prior_develop, out = \"v\")"
      ]
    },
    {
      "cell_type": "code",
      "execution_count": 25,
      "metadata": {
        "colab": {
          "base_uri": "https://localhost:8080/"
        },
        "id": "vifxDHTs7fXN",
        "outputId": "e7b4778c-adf9-4d98-cf20-9b248db5e469"
      },
      "outputs": [
        {
          "output_type": "stream",
          "name": "stderr",
          "text": [
            "R[write to console]: Package `sjPlot` needs to be loaded to print HTML tables.\n",
            "\n"
          ]
        },
        {
          "output_type": "stream",
          "name": "stdout",
          "text": [
            "x <categorical> \n",
            "# total N=556 valid N=556 mean=1.79 sd=0.40\n",
            "\n",
            "Value  |   N | Raw % | Valid % | Cum. %\n",
            "---------------------------------------\n",
            "예     | 114 | 20.50 |   20.50 |  20.50\n",
            "아니오 | 442 | 79.50 |   79.50 | 100.00\n",
            "<NA>   |   0 |  0.00 |    <NA> |   <NA>\n"
          ]
        }
      ],
      "source": [
        "%%R\n",
        "table(incheon0427_ex$int_visit)\n",
        "incheon0427_ex$int_visit <- factor(as.numeric(incheon0427_ex$int_visit), labels=c('예','아니오'))\n",
        "#table(Dataset$gender)\n",
        "frq(incheon0427_ex$int_visit, out = \"v\")"
      ]
    },
    {
      "cell_type": "code",
      "execution_count": 26,
      "metadata": {
        "colab": {
          "base_uri": "https://localhost:8080/"
        },
        "id": "VPXVezN29EX0",
        "outputId": "f0790fc5-c4e5-4743-d746-1e0a7cc4e11a"
      },
      "outputs": [
        {
          "output_type": "stream",
          "name": "stderr",
          "text": [
            "R[write to console]: Package `sjPlot` needs to be loaded to print HTML tables.\n",
            "\n"
          ]
        },
        {
          "output_type": "stream",
          "name": "stdout",
          "text": [
            "x <categorical> \n",
            "# total N=556 valid N=556 mean=2.64 sd=1.25\n",
            "\n",
            "Value    |   N | Raw % | Valid % | Cum. %\n",
            "-----------------------------------------\n",
            "20대     | 132 | 23.74 |   23.74 |  23.74\n",
            "30대     | 133 | 23.92 |   23.92 |  47.66\n",
            "40대     | 134 | 24.10 |   24.10 |  71.76\n",
            "50대     | 115 | 20.68 |   20.68 |  92.45\n",
            "60대이상 |  42 |  7.55 |    7.55 | 100.00\n",
            "<NA>     |   0 |  0.00 |    <NA> |   <NA>\n"
          ]
        }
      ],
      "source": [
        "%%R\n",
        "incheon0427_ex$age_cate<- rec(incheon0427_ex$age, rec = \"min:29=1; 30:39=2; 40:49=3; 50:59=4; 60:max=5\")\n",
        "incheon0427_ex$age_cate <- factor(as.numeric(incheon0427_ex$age_cate), labels=c('20대','30대','40대','50대','60대이상'))\n",
        "frq(incheon0427_ex$age_cate, out = \"v\")"
      ]
    },
    {
      "cell_type": "code",
      "execution_count": 27,
      "metadata": {
        "colab": {
          "base_uri": "https://localhost:8080/"
        },
        "id": "mIWFX-Ns-OJp",
        "outputId": "ee6c937e-dd43-4db2-b746-ef19e6693132"
      },
      "outputs": [
        {
          "output_type": "stream",
          "name": "stdout",
          "text": [
            "The data contains 556 observations of the following 31 variables:\n",
            "\n",
            "  - X: n = 556, Mean = 277.50, SD = 160.65, Median = 277.50, MAD = 206.08, range: [0, 555], Skewness = 0.00, Kurtosis = -1.20, 0% missing\n",
            "  - pos_eco1: n = 556, Mean = 3.60, SD = 0.81, Median = 4.00, MAD = 0.00, range: [1, 5], Skewness = -1.04, Kurtosis = 1.10, 0% missing\n",
            "  - pos_eco2: n = 556, Mean = 3.39, SD = 0.88, Median = 4.00, MAD = 1.48, range: [1, 5], Skewness = -0.65, Kurtosis = 0.07, 0% missing\n",
            "  - pos_eco3: n = 556, Mean = 3.54, SD = 0.81, Median = 4.00, MAD = 0.00, range: [1, 5], Skewness = -0.77, Kurtosis = 0.80, 0% missing\n",
            "  - neg_eco1: n = 556, Mean = 3.44, SD = 0.84, Median = 4.00, MAD = 1.48, range: [1, 5], Skewness = -0.33, Kurtosis = -0.41, 0% missing\n",
            "  - neg_eco2: n = 556, Mean = 3.36, SD = 0.86, Median = 3.00, MAD = 1.48, range: [1, 5], Skewness = -0.23, Kurtosis = -0.52, 0% missing\n",
            "  - neg_eco3: n = 556, Mean = 3.53, SD = 0.77, Median = 4.00, MAD = 1.48, range: [1, 5], Skewness = -0.38, Kurtosis = 0.05, 0% missing\n",
            "  - pos_soc1: n = 556, Mean = 3.23, SD = 0.80, Median = 3.00, MAD = 1.48, range: [1, 5], Skewness = -0.37, Kurtosis = -0.33, 0% missing\n",
            "  - pos_soc2: n = 556, Mean = 2.99, SD = 0.78, Median = 3.00, MAD = 0.00, range: [1, 5], Skewness = -0.07, Kurtosis = -0.09, 0% missing\n",
            "  - pos_soc3: n = 556, Mean = 3.27, SD = 0.79, Median = 3.00, MAD = 1.48, range: [1, 5], Skewness = -0.38, Kurtosis = 0.12, 0% missing\n",
            "  - neg_soc1: n = 556, Mean = 3.56, SD = 0.84, Median = 4.00, MAD = 1.48, range: [1, 5], Skewness = -0.48, Kurtosis = 0.10, 0% missing\n",
            "  - neg_soc2: n = 556, Mean = 3.47, SD = 0.82, Median = 4.00, MAD = 1.48, range: [1, 5], Skewness = -0.21, Kurtosis = -0.25, 0% missing\n",
            "  - neg_soc3: n = 556, Mean = 3.54, SD = 0.89, Median = 4.00, MAD = 1.48, range: [1, 5], Skewness = -0.22, Kurtosis = -0.41, 0% missing\n",
            "  - pos_env1: n = 556, Mean = 3.76, SD = 0.71, Median = 4.00, MAD = 0.00, range: [1, 5], Skewness = -0.64, Kurtosis = 1.08, 0% missing\n",
            "  - pos_env2: n = 556, Mean = 3.26, SD = 0.76, Median = 3.00, MAD = 1.48, range: [1, 5], Skewness = -0.17, Kurtosis = -0.07, 0% missing\n",
            "  - pos_env3: n = 556, Mean = 3.43, SD = 0.77, Median = 3.00, MAD = 1.48, range: [1, 5], Skewness = -0.31, Kurtosis = -2.30e-03, 0% missing\n",
            "  - neg_env1: n = 556, Mean = 3.72, SD = 0.78, Median = 4.00, MAD = 0.00, range: [1, 5], Skewness = -0.38, Kurtosis = -0.02, 0% missing\n",
            "  - neg_env2: n = 556, Mean = 3.25, SD = 0.83, Median = 3.00, MAD = 1.48, range: [1, 5], Skewness = 0.08, Kurtosis = -0.41, 0% missing\n",
            "  - neg_env3: n = 556, Mean = 3.52, SD = 0.77, Median = 4.00, MAD = 1.48, range: [1, 5], Skewness = -0.11, Kurtosis = -0.23, 0% missing\n",
            "  - sup1: n = 556, Mean = 3.11, SD = 0.81, Median = 3.00, MAD = 1.48, range: [1, 5], Skewness = -0.32, Kurtosis = -2.73e-03, 0% missing\n",
            "  - sup2: n = 556, Mean = 3.26, SD = 0.83, Median = 3.00, MAD = 1.48, range: [1, 5], Skewness = -0.44, Kurtosis = 0.15, 0% missing\n",
            "  - sup3: n = 556, Mean = 3.29, SD = 0.87, Median = 3.00, MAD = 1.48, range: [1, 5], Skewness = -0.51, Kurtosis = 0.14, 0% missing\n",
            "  - visit_bi: 2 levels, namely 방문예정 (n = 268, 48.20%) and 방문비예정 (n = 288, 51.80%)\n",
            "  - stay_reg: 187 entries, such as 간석 (3.24%); 용현 (3.06%); 송도 (2.88%) and 184 others (0 missing)\n",
            "  - stay_time: n = 556, Mean = 11.90, SD = 9.43, Median = 10.00, MAD = 10.38, range: [1, 53], Skewness = 1.00, Kurtosis = 0.70, 0% missing\n",
            "  - gender: 2 levels, namely 남자 (n = 274, 49.28%) and 여자 (n = 282, 50.72%)\n",
            "  - prior_develop: 2 levels, namely 개발사전인지 (n = 262, 47.12%) and 개발사전비인지 (n = 294, 52.88%)\n",
            "  - int_visit: 2 levels, namely 예 (n = 114, 20.50%) and 아니오 (n = 442, 79.50%)\n",
            "  - age: n = 556, Mean = 40.66, SD = 12.24, Median = 40.00, MAD = 14.83, range: [20, 68], Skewness = 0.18, Kurtosis = -1.00, 0% missing\n",
            "  - age_range: n = 556, Mean = 2.64, SD = 1.25, Median = 3.00, MAD = 1.48, range: [1, 5], Skewness = 0.20, Kurtosis = -1.05, 0% missing\n",
            "  - age_cate: 5 levels, namely 20대 (n = 132, 23.74%), 30대 (n = 133, 23.92%), 40대 (n = 134, 24.10%), 50대 (n = 115, 20.68%) and 60대이상 (n = 42, 7.55%)"
          ]
        }
      ],
      "source": [
        "%%R\n",
        "report(incheon0427_ex)"
      ]
    },
    {
      "cell_type": "code",
      "execution_count": 28,
      "metadata": {
        "colab": {
          "base_uri": "https://localhost:8080/"
        },
        "id": "2sVPRInb-cTq",
        "outputId": "90e15341-b5d6-4752-974e-548b19b1062d"
      },
      "outputs": [
        {
          "output_type": "stream",
          "name": "stdout",
          "text": [
            "'data.frame':\t556 obs. of  31 variables:\n",
            " $ X            : int  0 1 2 3 4 5 6 7 8 9 ...\n",
            " $ pos_eco1     : int  4 2 4 4 4 3 1 3 4 3 ...\n",
            " $ pos_eco2     : int  4 3 3 4 4 4 1 3 3 3 ...\n",
            " $ pos_eco3     : int  4 3 3 4 3 4 2 3 3 3 ...\n",
            " $ neg_eco1     : int  4 4 4 4 4 4 4 5 3 4 ...\n",
            " $ neg_eco2     : int  4 5 4 4 2 4 4 5 3 3 ...\n",
            " $ neg_eco3     : int  4 5 4 4 2 3 5 5 3 3 ...\n",
            " $ pos_soc1     : int  4 4 3 3 3 3 2 2 4 3 ...\n",
            " $ pos_soc2     : int  4 3 4 2 2 3 2 2 4 3 ...\n",
            " $ pos_soc3     : int  4 4 3 3 4 2 1 2 5 3 ...\n",
            " $ neg_soc1     : int  4 5 4 4 4 5 3 5 3 4 ...\n",
            " $ neg_soc2     : int  4 5 4 4 3 5 4 5 2 3 ...\n",
            " $ neg_soc3     : int  4 5 4 4 3 4 4 5 4 3 ...\n",
            " $ pos_env1     : int  4 5 3 4 4 5 2 4 4 3 ...\n",
            " $ pos_env2     : int  4 5 3 4 3 3 2 2 4 3 ...\n",
            " $ pos_env3     : int  4 4 3 4 4 3 2 2 4 3 ...\n",
            " $ neg_env1     : int  4 4 4 4 4 3 4 5 3 4 ...\n",
            " $ neg_env2     : int  3 2 3 3 4 2 4 5 3 3 ...\n",
            " $ neg_env3     : int  3 5 4 3 4 3 4 5 3 3 ...\n",
            " $ sup1         : int  4 2 3 3 3 3 2 2 3 3 ...\n",
            " $ sup2         : int  4 3 3 4 4 3 2 2 3 3 ...\n",
            " $ sup3         : int  4 2 4 3 3 3 2 2 3 3 ...\n",
            " $ visit_bi     : Factor w/ 2 levels \"방문예정\",\"방문비예정\": 1 1 2 2 1 2 2 2 2 2 ...\n",
            " $ stay_reg     : chr  \"효성동\" \"효성1\" \"효성\" \"효성\" ...\n",
            " $ stay_time    : int  1 26 20 13 22 15 5 20 5 24 ...\n",
            " $ gender       : Factor w/ 2 levels \"남자\",\"여자\": 2 1 2 2 2 1 2 1 1 1 ...\n",
            " $ prior_develop: Factor w/ 2 levels \"개발사전인지\",..: 2 2 2 2 2 2 2 2 2 2 ...\n",
            " $ int_visit    : Factor w/ 2 levels \"예\",\"아니오\": 2 2 2 2 2 2 2 2 2 2 ...\n",
            " $ age          : int  47 31 26 42 33 21 29 45 25 24 ...\n",
            " $ age_range    : int  3 2 1 3 2 1 1 3 1 1 ...\n",
            " $ age_cate     : Factor w/ 5 levels \"20대\",\"30대\",..: 3 2 1 3 2 1 1 3 1 1 ...\n"
          ]
        }
      ],
      "source": [
        "%%R\n",
        "str(incheon0427_ex)"
      ]
    },
    {
      "cell_type": "code",
      "execution_count": 29,
      "metadata": {
        "colab": {
          "base_uri": "https://localhost:8080/"
        },
        "id": "bvZz7ptZkjBH",
        "outputId": "8b689f04-45f9-40ed-c4e6-7e10c2e59f7c"
      },
      "outputs": [
        {
          "output_type": "stream",
          "name": "stdout",
          "text": [
            "\n",
            "    20대     30대     40대     50대 60대이상 \n",
            "     132      133      134      115       42 \n"
          ]
        }
      ],
      "source": [
        "%%R\n",
        "table(incheon0427_ex$age_cate)"
      ]
    },
    {
      "cell_type": "code",
      "execution_count": 30,
      "metadata": {
        "colab": {
          "base_uri": "https://localhost:8080/"
        },
        "id": "2OZh8Wv5qkv5",
        "outputId": "ab420161-42d2-4c82-c824-d0decebfeef7"
      },
      "outputs": [
        {
          "output_type": "stream",
          "name": "stdout",
          "text": [
            "40대 \n",
            "   3 \n"
          ]
        }
      ],
      "source": [
        "%%R\n",
        "which.max(table(incheon0427_ex$age_cate))"
      ]
    },
    {
      "cell_type": "code",
      "execution_count": 31,
      "metadata": {
        "colab": {
          "base_uri": "https://localhost:8080/"
        },
        "id": "-y2WLU-EkgQC",
        "outputId": "8976c1c4-6121-48cd-a0eb-eaea94cf09f3"
      },
      "outputs": [
        {
          "output_type": "stream",
          "name": "stdout",
          "text": [
            "60대이상 \n",
            "       5 \n"
          ]
        }
      ],
      "source": [
        "%%R\n",
        "which.min(table(incheon0427_ex$age_cate))"
      ]
    },
    {
      "cell_type": "markdown",
      "metadata": {
        "id": "fgeP-_FmlgeK"
      },
      "source": [
        "### 양적변수의 요약"
      ]
    },
    {
      "cell_type": "code",
      "execution_count": 32,
      "metadata": {
        "colab": {
          "base_uri": "https://localhost:8080/"
        },
        "id": "3gcyHP_xlp7G",
        "outputId": "265230ad-fdf9-4140-e47a-0561ec00ff08"
      },
      "outputs": [
        {
          "output_type": "stream",
          "name": "stdout",
          "text": [
            "         select1  select2  select3\n",
            "Min.    1.000000 1.000000 1.000000\n",
            "1st Qu. 3.000000 3.000000 3.000000\n",
            "Median  4.000000 4.000000 4.000000\n",
            "Mean    3.597122 3.388489 3.535971\n",
            "3rd Qu. 4.000000 4.000000 4.000000\n",
            "Max.    5.000000 5.000000 5.000000\n",
            "   Min. 1st Qu.  Median    Mean 3rd Qu.    Max. \n",
            "  1.000   3.000   3.667   3.507   4.000   5.000 \n"
          ]
        }
      ],
      "source": [
        "%%R\n",
        "tar_vars=select(incheon0427_ex,select=c(pos_eco1,pos_eco2,pos_eco3))\n",
        "print(apply(tar_vars,2,summary))\n",
        "incheon0427_ex$pos_eco_avg=rowMeans(tar_vars, na.rm=TRUE)\n",
        "print(summary(incheon0427_ex$pos_eco_avg))"
      ]
    },
    {
      "cell_type": "markdown",
      "metadata": {
        "id": "lWMlvGwol4Lg"
      },
      "source": [
        "데이터 로드시 형성된 3개의 긍정적 경제인식 변수들(pos_eco1,pos_eco2,pos_eco3)의 개별 요약통계치(평균포함)을 구하고 3개의 변수들 평균인 변수(pos_eco_avg)에 대한 평균을 추가로 도출함"
      ]
    },
    {
      "cell_type": "code",
      "execution_count": 33,
      "metadata": {
        "colab": {
          "base_uri": "https://localhost:8080/"
        },
        "id": "Gl71n5F_oMsT",
        "outputId": "cd27000e-1c99-435b-fb86-d3d3c681bf39"
      },
      "outputs": [
        {
          "output_type": "stream",
          "name": "stdout",
          "text": [
            "         select1  select2  select3\n",
            "Min.    1.000000 1.000000 1.000000\n",
            "1st Qu. 3.000000 3.000000 3.000000\n",
            "Median  4.000000 3.000000 4.000000\n",
            "Mean    3.444245 3.361511 3.528777\n",
            "3rd Qu. 4.000000 4.000000 4.000000\n",
            "Max.    5.000000 5.000000 5.000000\n",
            "   Min. 1st Qu.  Median    Mean 3rd Qu.    Max. \n",
            "  1.000   3.000   3.333   3.445   4.000   5.000 \n"
          ]
        }
      ],
      "source": [
        "%%R\n",
        "tar_vars=select(incheon0427_ex,select=c(neg_eco1,neg_eco2,neg_eco3))\n",
        "print(apply(tar_vars,2,summary))\n",
        "incheon0427_ex$neg_eco_avg=rowMeans(tar_vars, na.rm=TRUE)\n",
        "print(summary(incheon0427_ex$neg_eco_avg))"
      ]
    },
    {
      "cell_type": "code",
      "execution_count": 34,
      "metadata": {
        "colab": {
          "base_uri": "https://localhost:8080/"
        },
        "id": "ZKXbmhZ-oWKp",
        "outputId": "a21c8171-b388-4729-d89b-12c0612a300e"
      },
      "outputs": [
        {
          "output_type": "stream",
          "name": "stdout",
          "text": [
            "         select1  select2  select3\n",
            "Min.    1.000000 1.000000 1.000000\n",
            "1st Qu. 3.000000 2.750000 3.000000\n",
            "Median  3.000000 3.000000 3.000000\n",
            "Mean    3.232014 2.985612 3.266187\n",
            "3rd Qu. 4.000000 3.000000 4.000000\n",
            "Max.    5.000000 5.000000 5.000000\n",
            "   Min. 1st Qu.  Median    Mean 3rd Qu.    Max. \n",
            "  1.000   2.667   3.333   3.161   3.667   5.000 \n"
          ]
        }
      ],
      "source": [
        "%%R\n",
        "tar_vars=select(incheon0427_ex,select=c(pos_soc1,pos_soc2,pos_soc3))\n",
        "print(apply(tar_vars,2,summary))\n",
        "incheon0427_ex$pos_soc_avg=rowMeans(tar_vars, na.rm=TRUE)\n",
        "print(summary(incheon0427_ex$pos_soc_avg))"
      ]
    },
    {
      "cell_type": "code",
      "execution_count": 35,
      "metadata": {
        "colab": {
          "base_uri": "https://localhost:8080/"
        },
        "id": "d8VKpp4dobtf",
        "outputId": "56ed5330-b1bd-4f93-8902-191ef8d8673d"
      },
      "outputs": [
        {
          "output_type": "stream",
          "name": "stdout",
          "text": [
            "         select1  select2  select3\n",
            "Min.    1.000000 1.000000 1.000000\n",
            "1st Qu. 3.000000 3.000000 3.000000\n",
            "Median  4.000000 4.000000 4.000000\n",
            "Mean    3.559353 3.467626 3.539568\n",
            "3rd Qu. 4.000000 4.000000 4.000000\n",
            "Max.    5.000000 5.000000 5.000000\n",
            "   Min. 1st Qu.  Median    Mean 3rd Qu.    Max. \n",
            "  1.667   3.000   3.667   3.522   4.000   5.000 \n"
          ]
        }
      ],
      "source": [
        "%%R\n",
        "tar_vars=select(incheon0427_ex,select=c(neg_soc1,neg_soc2,neg_soc3))\n",
        "print(apply(tar_vars,2,summary))\n",
        "incheon0427_ex$neg_soc_avg=rowMeans(tar_vars, na.rm=TRUE)\n",
        "print(summary(incheon0427_ex$neg_soc_avg))"
      ]
    },
    {
      "cell_type": "code",
      "execution_count": 36,
      "metadata": {
        "colab": {
          "base_uri": "https://localhost:8080/"
        },
        "id": "5yrKVi-todNW",
        "outputId": "360c5cac-7bd8-45f4-903a-a25b551a067f"
      },
      "outputs": [
        {
          "output_type": "stream",
          "name": "stdout",
          "text": [
            "         select1  select2  select3\n",
            "Min.    1.000000 1.000000 1.000000\n",
            "1st Qu. 3.000000 3.000000 3.000000\n",
            "Median  4.000000 3.000000 3.000000\n",
            "Mean    3.760791 3.257194 3.428058\n",
            "3rd Qu. 4.000000 4.000000 4.000000\n",
            "Max.    5.000000 5.000000 5.000000\n",
            "   Min. 1st Qu.  Median    Mean 3rd Qu.    Max. \n",
            "  1.333   3.000   3.667   3.482   4.000   5.000 \n"
          ]
        }
      ],
      "source": [
        "%%R\n",
        "tar_vars=select(incheon0427_ex,select=c(pos_env1,pos_env2,pos_env3))\n",
        "print(apply(tar_vars,2,summary))\n",
        "incheon0427_ex$pos_env_avg=rowMeans(tar_vars, na.rm=TRUE)\n",
        "print(summary(incheon0427_ex$pos_env_avg))"
      ]
    },
    {
      "cell_type": "code",
      "execution_count": 37,
      "metadata": {
        "colab": {
          "base_uri": "https://localhost:8080/"
        },
        "id": "vjTMcfrOof7Z",
        "outputId": "64d074e0-1571-4c64-e8db-b4e946786dd5"
      },
      "outputs": [
        {
          "output_type": "stream",
          "name": "stdout",
          "text": [
            "         select1  select2  select3\n",
            "Min.    1.000000 1.000000 1.000000\n",
            "1st Qu. 3.000000 3.000000 3.000000\n",
            "Median  4.000000 3.000000 4.000000\n",
            "Mean    3.723022 3.253597 3.519784\n",
            "3rd Qu. 4.000000 4.000000 4.000000\n",
            "Max.    5.000000 5.000000 5.000000\n",
            "   Min. 1st Qu.  Median    Mean 3rd Qu.    Max. \n",
            "  1.333   3.000   3.667   3.499   4.000   5.000 \n"
          ]
        }
      ],
      "source": [
        "%%R\n",
        "tar_vars=select(incheon0427_ex,select=c(neg_env1,neg_env2,neg_env3))\n",
        "print(apply(tar_vars,2,summary))\n",
        "incheon0427_ex$neg_env_avg=rowMeans(tar_vars, na.rm=TRUE)\n",
        "print(summary(incheon0427_ex$neg_env_avg))"
      ]
    },
    {
      "cell_type": "code",
      "execution_count": 38,
      "metadata": {
        "colab": {
          "base_uri": "https://localhost:8080/"
        },
        "id": "dWr1KiRmuyLk",
        "outputId": "553cc442-b2b3-4320-f14e-312bcbbb4295"
      },
      "outputs": [
        {
          "output_type": "stream",
          "name": "stdout",
          "text": [
            "         select1  select2  select3\n",
            "Min.    1.000000 1.000000 1.000000\n",
            "1st Qu. 3.000000 3.000000 3.000000\n",
            "Median  3.000000 3.000000 3.000000\n",
            "Mean    3.107914 3.258993 3.293165\n",
            "3rd Qu. 4.000000 4.000000 4.000000\n",
            "Max.    5.000000 5.000000 5.000000\n",
            "   Min. 1st Qu.  Median    Mean 3rd Qu.    Max. \n",
            "  1.000   3.000   3.333   3.220   4.000   5.000 \n"
          ]
        }
      ],
      "source": [
        "%%R\n",
        "tar_vars=select(incheon0427_ex,select=c(sup1,sup2,sup3))\n",
        "print(apply(tar_vars,2,summary))\n",
        "incheon0427_ex$sup_avg=rowMeans(tar_vars, na.rm=TRUE)\n",
        "print(summary(incheon0427_ex$sup_avg))"
      ]
    },
    {
      "cell_type": "code",
      "execution_count": 39,
      "metadata": {
        "colab": {
          "base_uri": "https://localhost:8080/"
        },
        "id": "F_IO9G2_n6rH",
        "outputId": "1af24a62-0843-4fdd-eb7f-beac7a9b5726"
      },
      "outputs": [
        {
          "output_type": "stream",
          "name": "stdout",
          "text": [
            " [1] \"X\"             \"pos_eco1\"      \"pos_eco2\"      \"pos_eco3\"     \n",
            " [5] \"neg_eco1\"      \"neg_eco2\"      \"neg_eco3\"      \"pos_soc1\"     \n",
            " [9] \"pos_soc2\"      \"pos_soc3\"      \"neg_soc1\"      \"neg_soc2\"     \n",
            "[13] \"neg_soc3\"      \"pos_env1\"      \"pos_env2\"      \"pos_env3\"     \n",
            "[17] \"neg_env1\"      \"neg_env2\"      \"neg_env3\"      \"sup1\"         \n",
            "[21] \"sup2\"          \"sup3\"          \"visit_bi\"      \"stay_reg\"     \n",
            "[25] \"stay_time\"     \"gender\"        \"prior_develop\" \"int_visit\"    \n",
            "[29] \"age\"           \"age_range\"     \"age_cate\"      \"pos_eco_avg\"  \n",
            "[33] \"neg_eco_avg\"   \"pos_soc_avg\"   \"neg_soc_avg\"   \"pos_env_avg\"  \n",
            "[37] \"neg_env_avg\"   \"sup_avg\"      \n"
          ]
        }
      ],
      "source": [
        "%%R\n",
        "names(incheon0427_ex)"
      ]
    },
    {
      "cell_type": "markdown",
      "metadata": {
        "id": "wZFJgpSepFPx"
      },
      "source": [
        "분석에 사용될 질적변수만 따로 추출하여 빈도분석, apply함수는 여러변수에 대해서 분석을 편하게 하기 위해서 사용되는 함수인데 여기서 \"2\"는 계산의 방향이 열방향임을 뜻함"
      ]
    },
    {
      "cell_type": "code",
      "execution_count": 40,
      "metadata": {
        "colab": {
          "base_uri": "https://localhost:8080/"
        },
        "id": "0-q_a3j_pKqN",
        "outputId": "efbdd66c-c69c-4649-bdc1-aef77764ab4f"
      },
      "outputs": [
        {
          "output_type": "stream",
          "name": "stdout",
          "text": [
            "$visit_bi\n",
            "x <character> \n",
            "# total N=556 valid N=556 mean=1.48 sd=0.50\n",
            "\n",
            "Value      |   N | Raw % | Valid % | Cum. %\n",
            "-------------------------------------------\n",
            "방문비예정 | 288 | 51.80 |   51.80 |  51.80\n",
            "방문예정   | 268 | 48.20 |   48.20 | 100.00\n",
            "<NA>       |   0 |  0.00 |    <NA> |   <NA>\n",
            "\n",
            "$gender\n",
            "x <character> \n",
            "# total N=556 valid N=556 mean=1.51 sd=0.50\n",
            "\n",
            "Value |   N | Raw % | Valid % | Cum. %\n",
            "--------------------------------------\n",
            "남자  | 274 | 49.28 |   49.28 |  49.28\n",
            "여자  | 282 | 50.72 |   50.72 | 100.00\n",
            "<NA>  |   0 |  0.00 |    <NA> |   <NA>\n",
            "\n",
            "$prior_develop\n",
            "x <character> \n",
            "# total N=556 valid N=556 mean=1.47 sd=0.50\n",
            "\n",
            "Value          |   N | Raw % | Valid % | Cum. %\n",
            "-----------------------------------------------\n",
            "개발사전비인지 | 294 | 52.88 |   52.88 |  52.88\n",
            "개발사전인지   | 262 | 47.12 |   47.12 | 100.00\n",
            "<NA>           |   0 |  0.00 |    <NA> |   <NA>\n",
            "\n",
            "$int_visit\n",
            "x <character> \n",
            "# total N=556 valid N=556 mean=1.21 sd=0.40\n",
            "\n",
            "Value  |   N | Raw % | Valid % | Cum. %\n",
            "---------------------------------------\n",
            "아니오 | 442 | 79.50 |   79.50 |  79.50\n",
            "예     | 114 | 20.50 |   20.50 | 100.00\n",
            "<NA>   |   0 |  0.00 |    <NA> |   <NA>\n",
            "\n",
            "$age_cate\n",
            "x <character> \n",
            "# total N=556 valid N=556 mean=2.64 sd=1.25\n",
            "\n",
            "Value    |   N | Raw % | Valid % | Cum. %\n",
            "-----------------------------------------\n",
            "20대     | 132 | 23.74 |   23.74 |  23.74\n",
            "30대     | 133 | 23.92 |   23.92 |  47.66\n",
            "40대     | 134 | 24.10 |   24.10 |  71.76\n",
            "50대     | 115 | 20.68 |   20.68 |  92.45\n",
            "60대이상 |  42 |  7.55 |    7.55 | 100.00\n",
            "<NA>     |   0 |  0.00 |    <NA> |   <NA>\n",
            "\n"
          ]
        }
      ],
      "source": [
        "%%R\n",
        "cate_vars = subset(incheon0427_ex,select=c(visit_bi,gender,prior_develop,int_visit,age_cate))\n",
        "apply(cate_vars,2,frq)"
      ]
    },
    {
      "cell_type": "markdown",
      "metadata": {
        "id": "lXvneHshp2V4"
      },
      "source": [
        "양적변수에 대해서는 빈도분석이 아니라 요약통계량 값을 제시"
      ]
    },
    {
      "cell_type": "code",
      "execution_count": 41,
      "metadata": {
        "colab": {
          "base_uri": "https://localhost:8080/"
        },
        "id": "-2lE7XUnp6X1",
        "outputId": "5aaf02e1-78b8-4983-8ca3-922411724ff5"
      },
      "outputs": [
        {
          "output_type": "stream",
          "name": "stdout",
          "text": [
            "        pos_eco_avg neg_eco_avg pos_soc_avg neg_soc_avg pos_env_avg neg_env_avg\n",
            "Min.       1.000000    1.000000    1.000000    1.666667    1.333333    1.333333\n",
            "1st Qu.    3.000000    3.000000    2.666667    3.000000    3.000000    3.000000\n",
            "Median     3.666667    3.333333    3.333333    3.666667    3.666667    3.666667\n",
            "Mean       3.507194    3.444844    3.161271    3.522182    3.482014    3.498801\n",
            "3rd Qu.    4.000000    4.000000    3.666667    4.000000    4.000000    4.000000\n",
            "Max.       5.000000    5.000000    5.000000    5.000000    5.000000    5.000000\n",
            "         sup_avg\n",
            "Min.    1.000000\n",
            "1st Qu. 3.000000\n",
            "Median  3.333333\n",
            "Mean    3.220024\n",
            "3rd Qu. 4.000000\n",
            "Max.    5.000000\n"
          ]
        }
      ],
      "source": [
        "%%R\n",
        "num_vars = select(incheon0427_ex, contains('_avg'))\n",
        "#num_vars = subset(incheon_resort_test,select=c(pos_eco_avg,neg_eco_avg,prior_develop,int_visit,age_cate))\n",
        "apply(num_vars,2,summary)"
      ]
    },
    {
      "cell_type": "markdown",
      "metadata": {
        "id": "9xi04gjIqIIl"
      },
      "source": [
        "전체 데이터셋의 각 변수에 대한 타입을 확인"
      ]
    },
    {
      "cell_type": "code",
      "execution_count": 42,
      "metadata": {
        "colab": {
          "base_uri": "https://localhost:8080/"
        },
        "id": "F-cniv9sqNDr",
        "outputId": "f7f299cb-4e19-443f-9bcf-d738611940a6"
      },
      "outputs": [
        {
          "output_type": "stream",
          "name": "stdout",
          "text": [
            "                   type\n",
            "X               integer\n",
            "pos_eco1        integer\n",
            "pos_eco2        integer\n",
            "pos_eco3        integer\n",
            "neg_eco1        integer\n",
            "neg_eco2        integer\n",
            "neg_eco3        integer\n",
            "pos_soc1        integer\n",
            "pos_soc2        integer\n",
            "pos_soc3        integer\n",
            "neg_soc1        integer\n",
            "neg_soc2        integer\n",
            "neg_soc3        integer\n",
            "pos_env1        integer\n",
            "pos_env2        integer\n",
            "pos_env3        integer\n",
            "neg_env1        integer\n",
            "neg_env2        integer\n",
            "neg_env3        integer\n",
            "sup1            integer\n",
            "sup2            integer\n",
            "sup3            integer\n",
            "visit_bi         factor\n",
            "stay_reg      character\n",
            "stay_time       integer\n",
            "gender           factor\n",
            "prior_develop    factor\n",
            "int_visit        factor\n",
            "age             integer\n",
            "age_range       integer\n",
            "age_cate         factor\n",
            "pos_eco_avg     numeric\n",
            "neg_eco_avg     numeric\n",
            "pos_soc_avg     numeric\n",
            "neg_soc_avg     numeric\n",
            "pos_env_avg     numeric\n",
            "neg_env_avg     numeric\n",
            "sup_avg         numeric\n"
          ]
        }
      ],
      "source": [
        "%%R\n",
        "type<-sapply(incheon0427_ex,class); type=as.data.frame(type)\n",
        "type"
      ]
    },
    {
      "cell_type": "markdown",
      "metadata": {
        "id": "9-tJofyhof9z"
      },
      "source": [
        "integer는 정수인 양적변수, numeric은 소수점을 포함하는 상수인 양적변수, factor는 질적변수를 의미"
      ]
    },
    {
      "cell_type": "markdown",
      "metadata": {
        "id": "8eUig4FCqjgL"
      },
      "source": [
        "질적변수들에 대한 변수타입 확인"
      ]
    },
    {
      "cell_type": "code",
      "execution_count": 43,
      "metadata": {
        "colab": {
          "base_uri": "https://localhost:8080/"
        },
        "id": "4XRrHsrcqiHz",
        "outputId": "1dce4cca-5cb9-4ed9-9e38-e088ad992e79"
      },
      "outputs": [
        {
          "output_type": "stream",
          "name": "stdout",
          "text": [
            "                type\n",
            "visit_bi      factor\n",
            "gender        factor\n",
            "prior_develop factor\n",
            "int_visit     factor\n",
            "age_cate      factor\n"
          ]
        }
      ],
      "source": [
        "%%R\n",
        "type<-sapply(cate_vars,class); type=as.data.frame(type)\n",
        "type"
      ]
    },
    {
      "cell_type": "code",
      "execution_count": 44,
      "metadata": {
        "colab": {
          "base_uri": "https://localhost:8080/"
        },
        "id": "cc17b19yqaIu",
        "outputId": "44f3ae1c-5641-4b38-8f22-67a33f58a0db"
      },
      "outputs": [
        {
          "output_type": "stream",
          "name": "stdout",
          "text": [
            "[1] \"visit_bi\"      \"gender\"        \"prior_develop\" \"int_visit\"    \n",
            "[5] \"age_cate\"     \n"
          ]
        }
      ],
      "source": [
        "%%R\n",
        "names(cate_vars)"
      ]
    },
    {
      "cell_type": "code",
      "execution_count": 45,
      "metadata": {
        "colab": {
          "base_uri": "https://localhost:8080/"
        },
        "id": "-7Xh3brBqfbI",
        "outputId": "b88e49c4-6b72-4297-e701-9a2e99e002ff"
      },
      "outputs": [
        {
          "output_type": "stream",
          "name": "stdout",
          "text": [
            "[1] \"pos_eco_avg\" \"neg_eco_avg\" \"pos_soc_avg\" \"neg_soc_avg\" \"pos_env_avg\"\n",
            "[6] \"neg_env_avg\" \"sup_avg\"    \n"
          ]
        }
      ],
      "source": [
        "%%R\n",
        "names(num_vars)"
      ]
    },
    {
      "cell_type": "code",
      "execution_count": 46,
      "metadata": {
        "colab": {
          "base_uri": "https://localhost:8080/"
        },
        "id": "YmuBqp4ixT0i",
        "outputId": "5f7c3e71-d438-4eb6-9c75-08d4250f540b"
      },
      "outputs": [
        {
          "output_type": "stream",
          "name": "stdout",
          "text": [
            "  pos_eco_avg neg_eco_avg pos_soc_avg neg_soc_avg pos_env_avg neg_env_avg\n",
            "1    4.000000    4.000000    4.000000    4.000000    4.000000    3.333333\n",
            "2    2.666667    4.666667    3.666667    5.000000    4.666667    3.666667\n",
            "3    3.333333    4.000000    3.333333    4.000000    3.000000    3.666667\n",
            "4    4.000000    4.000000    2.666667    4.000000    4.000000    3.333333\n",
            "5    3.666667    2.666667    3.000000    3.333333    3.666667    4.000000\n",
            "6    3.666667    3.666667    2.666667    4.666667    3.666667    2.666667\n",
            "   sup_avg   visit_bi gender  prior_develop int_visit age_cate\n",
            "1 4.000000   방문예정   여자 개발사전비인지    아니오     40대\n",
            "2 2.333333   방문예정   남자 개발사전비인지    아니오     30대\n",
            "3 3.333333 방문비예정   여자 개발사전비인지    아니오     20대\n",
            "4 3.333333 방문비예정   여자 개발사전비인지    아니오     40대\n",
            "5 3.333333   방문예정   여자 개발사전비인지    아니오     30대\n",
            "6 3.000000 방문비예정   남자 개발사전비인지    아니오     20대\n"
          ]
        }
      ],
      "source": [
        "%%R\n",
        "analy_dataset = cbind(num_vars,cate_vars)\n",
        "head(analy_dataset)"
      ]
    },
    {
      "cell_type": "markdown",
      "metadata": {
        "id": "y9AKHhShjgL6"
      },
      "source": [
        "## 추리통계"
      ]
    },
    {
      "cell_type": "markdown",
      "metadata": {
        "id": "YHppJ4jFrStf"
      },
      "source": [
        "### 회귀분석: 변수(들)이 하나의 종속변수에 미치는 영향력을 보기 위한 분석, 독립변수와 종속변수 모두 양적변수"
      ]
    },
    {
      "cell_type": "markdown",
      "metadata": {
        "id": "oREJxVNgreWK"
      },
      "source": [
        "#### 단순회귀분석: 독립변수가 1개(pos_eco_ave), 종속변수(sup_avg)"
      ]
    },
    {
      "cell_type": "markdown",
      "metadata": {
        "id": "uU80x9uelcW-"
      },
      "source": [
        "lm함수를 통해 회귀분석 실시, `~`을 기준으로 왼쪽이 종속변수 오른쪽이 독립변수임"
      ]
    },
    {
      "cell_type": "code",
      "execution_count": 47,
      "metadata": {
        "colab": {
          "base_uri": "https://localhost:8080/"
        },
        "id": "Jjqy0ANSrk8-",
        "outputId": "03c8620c-7ca9-4a73-b3bf-d5a54ad8a4cd"
      },
      "outputs": [
        {
          "output_type": "stream",
          "name": "stdout",
          "text": [
            "\n",
            "Call:\n",
            "lm(formula = sup_avg ~ pos_eco_avg, data = num_vars)\n",
            "\n",
            "Residuals:\n",
            "     Min       1Q   Median       3Q      Max \n",
            "-3.13411 -0.35661  0.09054  0.47822  1.88644 \n",
            "\n",
            "Coefficients:\n",
            "            Estimate Std. Error t value Pr(>|t|)    \n",
            "(Intercept)  1.07248    0.13220   8.112 3.21e-15 ***\n",
            "pos_eco_avg  0.61233    0.03693  16.581  < 2e-16 ***\n",
            "---\n",
            "Signif. codes:  0 ‘***’ 0.001 ‘**’ 0.01 ‘*’ 0.05 ‘.’ 0.1 ‘ ’ 1\n",
            "\n",
            "Residual standard error: 0.6246 on 554 degrees of freedom\n",
            "Multiple R-squared:  0.3317,\tAdjusted R-squared:  0.3305 \n",
            "F-statistic: 274.9 on 1 and 554 DF,  p-value: < 2.2e-16\n",
            "\n"
          ]
        }
      ],
      "source": [
        "%%R\n",
        "mod1=lm(sup_avg ~ pos_eco_avg, data=num_vars)\n",
        "summary(mod1)"
      ]
    },
    {
      "cell_type": "code",
      "execution_count": 48,
      "metadata": {
        "colab": {
          "base_uri": "https://localhost:8080/"
        },
        "id": "Oafg2Z5MrdS5",
        "outputId": "c2788013-5296-4fd7-e1f9-7abc67f714eb"
      },
      "outputs": [
        {
          "output_type": "stream",
          "name": "stdout",
          "text": [
            "\n",
            "=================================================\n",
            "                         Dependent variable:     \n",
            "                    -----------------------------\n",
            "                               sup_avg           \n",
            "                                coef             \n",
            "-------------------------------------------------\n",
            "pos_eco_avg                     0.612            \n",
            "                            t = 16.581***        \n",
            "Constant                        1.072            \n",
            "                            t = 8.112***         \n",
            "-------------------------------------------------\n",
            "Observations                     556             \n",
            "R2                              0.332            \n",
            "Adjusted R2                     0.330            \n",
            "Residual Std. Error       0.625 (df = 554)       \n",
            "F Statistic           274.919*** (df = 1; 554)   \n",
            "=================================================\n",
            "Note:               *p<0.05; **p<0.01; ***p<0.001\n"
          ]
        }
      ],
      "source": [
        "%%R\n",
        "stargazer(mod1, type = \"text\", report = \"vct*\", star.cutoffs = c(0.05, 0.01, 0.001),\n",
        "          column.labels = c(\"coef\"), \n",
        "          single.row = TRUE)"
      ]
    },
    {
      "cell_type": "code",
      "execution_count": 49,
      "metadata": {
        "colab": {
          "base_uri": "https://localhost:8080/"
        },
        "id": "q8tNNghetDpP",
        "outputId": "6d32528f-1865-4da5-e4fe-490e655ded71"
      },
      "outputs": [
        {
          "output_type": "stream",
          "name": "stdout",
          "text": [
            "We fitted a linear model (estimated using OLS) to predict sup_avg with pos_eco_avg (formula: sup_avg ~ pos_eco_avg). The model explains a statistically significant and substantial proportion of variance (R2 = 0.33, F(1, 554) = 274.92, p < .001, adj. R2 = 0.33). The model's intercept, corresponding to pos_eco_avg = 0, is at 1.07 (95% CI [0.81, 1.33], t(554) = 8.11, p < .001). Within this model:\n",
            "\n",
            "  - The effect of pos eco avg is statistically significant and positive (beta = 0.61, 95% CI [0.54, 0.68], t(554) = 16.58, p < .001; Std. beta = 0.58, 95% CI [0.51, 0.64])\n",
            "\n",
            "Standardized parameters were obtained by fitting the model on a standardized version of the dataset. 95% Confidence Intervals (CIs) and p-values were computed using the Wald approximation."
          ]
        }
      ],
      "source": [
        "%%R\n",
        "report(mod1)"
      ]
    },
    {
      "cell_type": "markdown",
      "metadata": {
        "id": "IQTbFiNVtXE1"
      },
      "source": [
        "pos_eco_avg(공식: sup_avg ~ pos_eco_avg)를 사용하여 sup_avg를 예측하기 위해 선형 모델(OLS를 사용하여 추정)을 장착했습니다. 이 모델은 통계적으로 유의하고 상당한 분산 비율을 설명합니다(R2 = 0.33, F(1, 554) = 274.92, p < .001, 수정 R2 = 0.33). pos_eco_avg = 0에 해당하는 모델의 절편은 1.07(95% CI [0.81, 1.33], t(554) = 8.11, p < .001)에 있습니다. 이 모델 내에서:\n",
        "\n",
        "  - pos eco avg의 효과는 통계적으로 유의하고 긍정적입니다(베타 = 0.61, 95% CI [0.54, 0.68], t(554) = 16.58, p < .001; 표준 베타 = 0.58, 95% CI [0.51, 0.64])\n",
        "\n",
        "표준화된 버전의 데이터 세트에 모델을 피팅하여 표준화된 매개변수를 얻었습니다. 95% 신뢰구간(CI) 및 p-값은 Wald 근사치를 사용하여 계산되었습니다.]"
      ]
    },
    {
      "cell_type": "markdown",
      "metadata": {
        "id": "i7bGjLIzwU-4"
      },
      "source": [
        "그래프 참고자료: https://m.blog.naver.com/PostView.naver?isHttpsRedirect=true&blogId=coder1252&logNo=220945697182"
      ]
    },
    {
      "cell_type": "code",
      "execution_count": 50,
      "metadata": {
        "colab": {
          "base_uri": "https://localhost:8080/",
          "height": 497
        },
        "id": "bGehVfDUwUj_",
        "outputId": "58c0bdbf-d5bb-4ac1-9379-2faa3d45ced5"
      },
      "outputs": [
        {
          "output_type": "display_data",
          "data": {
            "image/png": "[encoded data removed]"
          },
          "metadata": {}
        }
      ],
      "source": [
        "%%R\n",
        "ggplot(num_vars, aes(pos_eco_avg, sup_avg))+geom_point()"
      ]
    },
    {
      "cell_type": "code",
      "execution_count": 51,
      "metadata": {
        "colab": {
          "base_uri": "https://localhost:8080/"
        },
        "id": "_6taYjot9OzK",
        "outputId": "d951cf53-d5a6-4052-b3b0-3de30294c2ee"
      },
      "outputs": [
        {
          "output_type": "stream",
          "name": "stdout",
          "text": [
            "[1] 3.220024\n"
          ]
        }
      ],
      "source": [
        "%%R\n",
        "mean_y=mean(num_vars$sup_avg)\n",
        "mean_y"
      ]
    },
    {
      "cell_type": "code",
      "execution_count": 52,
      "metadata": {
        "colab": {
          "base_uri": "https://localhost:8080/",
          "height": 497
        },
        "id": "y5E5pcP1tBpY",
        "outputId": "c63b19ce-98ce-49f9-c80d-34e0d493f2c9"
      },
      "outputs": [
        {
          "output_type": "display_data",
          "data": {
            "image/png": "[encoded data removed]"
          },
          "metadata": {}
        }
      ],
      "source": [
        "%%R\n",
        "ggplot(num_vars, aes(pos_eco_avg, sup_avg))+geom_point() +\n",
        "geom_hline(yintercept=mean_y, linetype='dashed', color='red', size=1)"
      ]
    },
    {
      "cell_type": "code",
      "execution_count": 53,
      "metadata": {
        "colab": {
          "base_uri": "https://localhost:8080/",
          "height": 497
        },
        "id": "2tkN2EP7_Npo",
        "outputId": "a865ddbc-4d0e-4ec3-bb29-53f1c9e91aa1"
      },
      "outputs": [
        {
          "output_type": "display_data",
          "data": {
            "image/png": "[encoded data removed]"
          },
          "metadata": {}
        }
      ],
      "source": [
        "%%R\n",
        "ggplot(num_vars, aes(pos_eco_avg, sup_avg))+geom_point() +\n",
        "geom_hline(yintercept=mean_y, linetype='dashed', color='red', size=1) +\n",
        "geom_abline(intercept= 1.072, slope=0.612, color='blue', size = 1.5)"
      ]
    },
    {
      "cell_type": "code",
      "execution_count": 54,
      "metadata": {
        "colab": {
          "base_uri": "https://localhost:8080/"
        },
        "id": "Z4OcE3P0t93u",
        "outputId": "234e31f4-e009-4177-ab4d-e06eb7c8912b"
      },
      "outputs": [
        {
          "output_type": "stream",
          "name": "stdout",
          "text": [
            "$$\n",
            "\\operatorname{\\widehat{sup\\_avg}} = 1.07 + 0.61(\\operatorname{pos\\_eco\\_avg})\n",
            "$$\n"
          ]
        }
      ],
      "source": [
        "%%R\n",
        "equatiomatic::extract_eq(mod1, use_coefs = TRUE)"
      ]
    },
    {
      "cell_type": "markdown",
      "metadata": {
        "id": "TLeMKMXvuF-T"
      },
      "source": [
        "$$\n",
        "\\operatorname{\\widehat{sup\\_avg}} = 1.07 + 0.61(\\operatorname{pos\\_eco\\_avg})\n",
        "$$"
      ]
    },
    {
      "cell_type": "markdown",
      "metadata": {
        "id": "tmHcfW32Ahwp"
      },
      "source": [
        "#### 다중회귀분석: 독립변수(pos_eco_avg, pos_soc_avg), 종속변수(sup_avg)"
      ]
    },
    {
      "cell_type": "code",
      "execution_count": 55,
      "metadata": {
        "colab": {
          "base_uri": "https://localhost:8080/"
        },
        "id": "Htyfib1AAxR3",
        "outputId": "faa04b75-6b4f-4544-ebde-2d343624d48f"
      },
      "outputs": [
        {
          "output_type": "stream",
          "name": "stdout",
          "text": [
            "\n",
            "Call:\n",
            "lm(formula = sup_avg ~ pos_eco_avg + pos_soc_avg, data = num_vars)\n",
            "\n",
            "Residuals:\n",
            "     Min       1Q   Median       3Q      Max \n",
            "-2.76392 -0.35346  0.04972  0.37451  1.91613 \n",
            "\n",
            "Coefficients:\n",
            "            Estimate Std. Error t value Pr(>|t|)    \n",
            "(Intercept)  0.51056    0.13920   3.668 0.000268 ***\n",
            "pos_eco_avg  0.40803    0.04160   9.808  < 2e-16 ***\n",
            "pos_soc_avg  0.40440    0.04573   8.843  < 2e-16 ***\n",
            "---\n",
            "Signif. codes:  0 ‘***’ 0.001 ‘**’ 0.01 ‘*’ 0.05 ‘.’ 0.1 ‘ ’ 1\n",
            "\n",
            "Residual standard error: 0.5852 on 553 degrees of freedom\n",
            "Multiple R-squared:  0.4145,\tAdjusted R-squared:  0.4123 \n",
            "F-statistic: 195.7 on 2 and 553 DF,  p-value: < 2.2e-16\n",
            "\n"
          ]
        }
      ],
      "source": [
        "%%R\n",
        "mod2=lm(sup_avg ~ pos_eco_avg+pos_soc_avg, data=num_vars)\n",
        "summary(mod2)"
      ]
    },
    {
      "cell_type": "code",
      "execution_count": 56,
      "metadata": {
        "colab": {
          "base_uri": "https://localhost:8080/"
        },
        "id": "uMkkDPPuuSuE",
        "outputId": "52866f87-29c6-4c90-e081-28f0c6322fd1"
      },
      "outputs": [
        {
          "output_type": "stream",
          "name": "stdout",
          "text": [
            "\n",
            "=================================================\n",
            "                         Dependent variable:     \n",
            "                    -----------------------------\n",
            "                               sup_avg           \n",
            "                                coef             \n",
            "-------------------------------------------------\n",
            "pos_eco_avg                     0.408            \n",
            "                            t = 9.808***         \n",
            "pos_soc_avg                     0.404            \n",
            "                            t = 8.843***         \n",
            "Constant                        0.511            \n",
            "                            t = 3.668***         \n",
            "-------------------------------------------------\n",
            "Observations                     556             \n",
            "R2                              0.414            \n",
            "Adjusted R2                     0.412            \n",
            "Residual Std. Error       0.585 (df = 553)       \n",
            "F Statistic           195.716*** (df = 2; 553)   \n",
            "=================================================\n",
            "Note:               *p<0.05; **p<0.01; ***p<0.001\n"
          ]
        }
      ],
      "source": [
        "%%R\n",
        "stargazer(mod2, type = \"text\", report = \"vct*\", star.cutoffs = c(0.05, 0.01, 0.001),\n",
        "          column.labels = c(\"coef\"), \n",
        "          single.row = TRUE)"
      ]
    },
    {
      "cell_type": "code",
      "execution_count": 57,
      "metadata": {
        "colab": {
          "base_uri": "https://localhost:8080/"
        },
        "id": "1q5XvnqZuYL3",
        "outputId": "846cb316-5424-457b-d24d-bc99ec709896"
      },
      "outputs": [
        {
          "output_type": "stream",
          "name": "stdout",
          "text": [
            "We fitted a linear model (estimated using OLS) to predict sup_avg with pos_eco_avg and pos_soc_avg (formula: sup_avg ~ pos_eco_avg + pos_soc_avg). The model explains a statistically significant and substantial proportion of variance (R2 = 0.41, F(2, 553) = 195.72, p < .001, adj. R2 = 0.41). The model's intercept, corresponding to pos_eco_avg = 0 and pos_soc_avg = 0, is at 0.51 (95% CI [0.24, 0.78], t(553) = 3.67, p < .001). Within this model:\n",
            "\n",
            "  - The effect of pos eco avg is statistically significant and positive (beta = 0.41, 95% CI [0.33, 0.49], t(553) = 9.81, p < .001; Std. beta = 0.38, 95% CI [0.31, 0.46])\n",
            "  - The effect of pos soc avg is statistically significant and positive (beta = 0.40, 95% CI [0.31, 0.49], t(553) = 8.84, p < .001; Std. beta = 0.35, 95% CI [0.27, 0.42])\n",
            "\n",
            "Standardized parameters were obtained by fitting the model on a standardized version of the dataset. 95% Confidence Intervals (CIs) and p-values were computed using the Wald approximation."
          ]
        }
      ],
      "source": [
        "%%R\n",
        "report(mod2)"
      ]
    },
    {
      "cell_type": "code",
      "execution_count": 58,
      "metadata": {
        "colab": {
          "base_uri": "https://localhost:8080/"
        },
        "id": "wZ2mehHMvl47",
        "outputId": "2b08511b-2b54-4256-c02f-49a593346e56"
      },
      "outputs": [
        {
          "output_type": "stream",
          "name": "stdout",
          "text": [
            "$$\n",
            "\\operatorname{\\widehat{sup\\_avg}} = 0.51 + 0.41(\\operatorname{pos\\_eco\\_avg}) + 0.4(\\operatorname{pos\\_soc\\_avg})\n",
            "$$\n"
          ]
        }
      ],
      "source": [
        "%%R\n",
        "equatiomatic::extract_eq(mod2, use_coefs = TRUE)"
      ]
    },
    {
      "cell_type": "markdown",
      "metadata": {
        "id": "-QOl_Qonvs3p"
      },
      "source": [
        "$$\n",
        "\\operatorname{\\widehat{sup\\_avg}} = 0.51 + 0.41(\\operatorname{pos\\_eco\\_avg}) + 0.4(\\operatorname{pos\\_soc\\_avg})\n",
        "$$"
      ]
    },
    {
      "cell_type": "markdown",
      "metadata": {
        "id": "m-YHCx2EB1KC"
      },
      "source": [
        "https://www.dataquest.io/blog/statistical-learning-for-predictive-modeling-r/"
      ]
    },
    {
      "cell_type": "code",
      "execution_count": 59,
      "metadata": {
        "colab": {
          "base_uri": "https://localhost:8080/"
        },
        "id": "BHKzUx4IBq25",
        "outputId": "91e16b56-b1e9-4d2e-9257-5817dec30670"
      },
      "outputs": [
        {
          "output_type": "stream",
          "name": "stdout",
          "text": [
            "   pos_eco_avg pos_soc_avg\n",
            "1            1           1\n",
            "2            2           1\n",
            "3            3           1\n",
            "4            4           1\n",
            "5            5           1\n",
            "6            1           2\n",
            "7            2           2\n",
            "8            3           2\n",
            "9            4           2\n",
            "10           5           2\n",
            "11           1           3\n",
            "12           2           3\n",
            "13           3           3\n",
            "14           4           3\n",
            "15           5           3\n",
            "16           1           4\n",
            "17           2           4\n",
            "18           3           4\n",
            "19           4           4\n",
            "20           5           4\n",
            "21           1           5\n",
            "22           2           5\n",
            "23           3           5\n",
            "24           4           5\n",
            "25           5           5\n"
          ]
        }
      ],
      "source": [
        "%%R\n",
        "library(base)\n",
        "pos_eco_avg <- seq(1,5, by=1) ## make a girth vector\n",
        "pos_soc_avg <- seq(1,5, by=1) ## make a height vector\n",
        "pred_grid <- expand.grid(pos_eco_avg = pos_eco_avg, pos_soc_avg = pos_soc_avg)\n",
        "pred_grid\n",
        "## make a grid using the vectors"
      ]
    },
    {
      "cell_type": "code",
      "execution_count": 60,
      "metadata": {
        "id": "lwV_XUt1CSwD"
      },
      "outputs": [],
      "source": [
        "%%R\n",
        "pred_grid$Volume2 <-predict(mod2, new = pred_grid)"
      ]
    },
    {
      "cell_type": "code",
      "execution_count": 61,
      "metadata": {
        "colab": {
          "base_uri": "https://localhost:8080/",
          "height": 497
        },
        "id": "KVMoolxJC5R2",
        "outputId": "3be3c2b3-aae6-4c4d-8f43-fc6ca76c96e1"
      },
      "outputs": [
        {
          "output_type": "display_data",
          "data": {
            "image/png": "[encoded data removed]"
          },
          "metadata": {}
        }
      ],
      "source": [
        "%%R\n",
        "fit_2_sp <- scatterplot3d(pred_grid$pos_eco_avg , pred_grid$pos_soc_avg , pred_grid$Volume2,\n",
        "                          angle = 60, color = \"dodgerblue\", pch = 1, ylab = \"pos_soc_avg\", xlab = \"pos_eco_avg\", zlab = \"sup_avg\" )"
      ]
    },
    {
      "cell_type": "code",
      "execution_count": 62,
      "metadata": {
        "id": "AWP5N9cjD3em"
      },
      "outputs": [],
      "source": [
        "# %%R\n",
        "# fit_2_sp$points3d(num_vars$pos_eco_avg, pos_soc_avg$Height, num_vars$sup_avg, pch=16)"
      ]
    },
    {
      "cell_type": "markdown",
      "metadata": {
        "id": "3mz8P_deud1R"
      },
      "source": [
        "#### 최적의 다중회귀분석"
      ]
    },
    {
      "cell_type": "markdown",
      "metadata": {
        "id": "8pNG0tZKvwTl"
      },
      "source": [
        "현재 우리는 num_var데이터셋 내에서 sup_avg라는 종속변수에 대해서 6개의 독립변수가 존재하고 있음  \n",
        "그런데 6개의 변수를 동시에 고려하는 것은 쉽지 않음. 어떠한 통계적 방법과 연구자의 직관에 따라 중요한 독립변수를 추출하는 것이 중요함"
      ]
    },
    {
      "cell_type": "markdown",
      "metadata": {
        "id": "4AzkoeHayJmK"
      },
      "source": [
        " 모든 변수에 대한 회귀분석"
      ]
    },
    {
      "cell_type": "markdown",
      "metadata": {
        "id": "h7cXp55RoHwW"
      },
      "source": [
        "회귀식 설정에서 `.`이 의미하는 것은 모든 독립변수"
      ]
    },
    {
      "cell_type": "code",
      "execution_count": 63,
      "metadata": {
        "colab": {
          "base_uri": "https://localhost:8080/"
        },
        "id": "lutuIqD8udXU",
        "outputId": "e79c5128-15be-4e9f-cf24-fbedf81f3ad1"
      },
      "outputs": [
        {
          "output_type": "stream",
          "name": "stdout",
          "text": [
            "\n",
            "Call:\n",
            "lm(formula = sup_avg ~ ., data = num_vars)\n",
            "\n",
            "Residuals:\n",
            "     Min       1Q   Median       3Q      Max \n",
            "-2.07093 -0.28879  0.00994  0.33451  1.96083 \n",
            "\n",
            "Coefficients:\n",
            "            Estimate Std. Error t value Pr(>|t|)    \n",
            "(Intercept)  1.28783    0.20956   6.146 1.53e-09 ***\n",
            "pos_eco_avg  0.26681    0.04086   6.531 1.49e-10 ***\n",
            "neg_eco_avg -0.01483    0.04460  -0.332  0.73968    \n",
            "pos_soc_avg  0.25777    0.04439   5.806 1.08e-08 ***\n",
            "neg_soc_avg -0.14934    0.04656  -3.207  0.00142 ** \n",
            "pos_env_avg  0.39432    0.04970   7.935 1.19e-14 ***\n",
            "neg_env_avg -0.17559    0.04101  -4.282 2.18e-05 ***\n",
            "---\n",
            "Signif. codes:  0 ‘***’ 0.001 ‘**’ 0.01 ‘*’ 0.05 ‘.’ 0.1 ‘ ’ 1\n",
            "\n",
            "Residual standard error: 0.5284 on 549 degrees of freedom\n",
            "Multiple R-squared:  0.526,\tAdjusted R-squared:  0.5208 \n",
            "F-statistic: 101.5 on 6 and 549 DF,  p-value: < 2.2e-16\n",
            "\n"
          ]
        }
      ],
      "source": [
        "%%R\n",
        "model_all = lm(sup_avg ~ .,data=num_vars)\n",
        "summary(model_all)"
      ]
    },
    {
      "cell_type": "markdown",
      "metadata": {
        "id": "CLLEHpRRyNSh"
      },
      "source": [
        "stepwise방법에 의한 중요한 독립변수만 도출"
      ]
    },
    {
      "cell_type": "code",
      "execution_count": 64,
      "metadata": {
        "colab": {
          "base_uri": "https://localhost:8080/"
        },
        "id": "mnIA0o2LyI2r",
        "outputId": "12d31d8a-82e0-4d00-cef4-4f227db36f44"
      },
      "outputs": [
        {
          "output_type": "stream",
          "name": "stdout",
          "text": [
            "Start:  AIC=-702.34\n",
            "sup_avg ~ pos_eco_avg + neg_eco_avg + pos_soc_avg + neg_soc_avg + \n",
            "    pos_env_avg + neg_env_avg\n",
            "\n",
            "              Df Sum of Sq    RSS     AIC\n",
            "- neg_eco_avg  1    0.0309 153.33 -704.23\n",
            "<none>                     153.30 -702.34\n",
            "- neg_soc_avg  1    2.8726 156.17 -694.02\n",
            "- neg_env_avg  1    5.1203 158.42 -686.07\n",
            "- pos_soc_avg  1    9.4139 162.71 -671.20\n",
            "- pos_eco_avg  1   11.9087 165.21 -662.74\n",
            "- pos_env_avg  1   17.5801 170.88 -643.98\n",
            "\n",
            "Step:  AIC=-704.23\n",
            "sup_avg ~ pos_eco_avg + pos_soc_avg + neg_soc_avg + pos_env_avg + \n",
            "    neg_env_avg\n",
            "\n",
            "              Df Sum of Sq    RSS     AIC\n",
            "<none>                     153.33 -704.23\n",
            "+ neg_eco_avg  1    0.0309 153.30 -702.34\n",
            "- neg_soc_avg  1    4.4705 157.80 -690.25\n",
            "- neg_env_avg  1    5.2132 158.54 -687.64\n",
            "- pos_soc_avg  1    9.3882 162.72 -673.19\n",
            "- pos_eco_avg  1   11.8823 165.21 -664.73\n",
            "- pos_env_avg  1   17.5502 170.88 -645.97\n"
          ]
        }
      ],
      "source": [
        "%%R\n",
        "mod_stepwise = step(model_all,direction=\"both\")"
      ]
    },
    {
      "cell_type": "code",
      "execution_count": 65,
      "metadata": {
        "colab": {
          "base_uri": "https://localhost:8080/"
        },
        "id": "NE_02SnOyriu",
        "outputId": "f927c49d-9f0c-4d82-bfba-4627d0d2eec0"
      },
      "outputs": [
        {
          "output_type": "stream",
          "name": "stdout",
          "text": [
            "\n",
            "Call:\n",
            "lm(formula = sup_avg ~ pos_eco_avg + pos_soc_avg + neg_soc_avg + \n",
            "    pos_env_avg + neg_env_avg, data = num_vars)\n",
            "\n",
            "Residuals:\n",
            "     Min       1Q   Median       3Q      Max \n",
            "-2.07469 -0.28475  0.01523  0.33607  1.96954 \n",
            "\n",
            "Coefficients:\n",
            "            Estimate Std. Error t value Pr(>|t|)    \n",
            "(Intercept)  1.27642    0.20656   6.180 1.25e-09 ***\n",
            "pos_eco_avg  0.26585    0.04072   6.529 1.51e-10 ***\n",
            "pos_soc_avg  0.25727    0.04433   5.803 1.10e-08 ***\n",
            "neg_soc_avg -0.15759    0.03935  -4.004 7.07e-05 ***\n",
            "pos_env_avg  0.39375    0.04963   7.934 1.19e-14 ***\n",
            "neg_env_avg -0.17665    0.04085  -4.324 1.82e-05 ***\n",
            "---\n",
            "Signif. codes:  0 ‘***’ 0.001 ‘**’ 0.01 ‘*’ 0.05 ‘.’ 0.1 ‘ ’ 1\n",
            "\n",
            "Residual standard error: 0.528 on 550 degrees of freedom\n",
            "Multiple R-squared:  0.5259,\tAdjusted R-squared:  0.5216 \n",
            "F-statistic:   122 on 5 and 550 DF,  p-value: < 2.2e-16\n",
            "\n"
          ]
        }
      ],
      "source": [
        "%%R\n",
        "summary(mod_stepwise)"
      ]
    },
    {
      "cell_type": "code",
      "execution_count": 66,
      "metadata": {
        "colab": {
          "base_uri": "https://localhost:8080/"
        },
        "id": "jvA7TnUd1CE3",
        "outputId": "a0456570-e400-4b41-f583-985caf3503db"
      },
      "outputs": [
        {
          "output_type": "stream",
          "name": "stdout",
          "text": [
            "\n",
            "Call:\n",
            "lm(formula = sup_avg ~ . - neg_eco_avg, data = num_vars)\n",
            "\n",
            "Residuals:\n",
            "     Min       1Q   Median       3Q      Max \n",
            "-2.07469 -0.28475  0.01523  0.33607  1.96954 \n",
            "\n",
            "Coefficients:\n",
            "            Estimate Std. Error t value Pr(>|t|)    \n",
            "(Intercept)  1.27642    0.20656   6.180 1.25e-09 ***\n",
            "pos_eco_avg  0.26585    0.04072   6.529 1.51e-10 ***\n",
            "pos_soc_avg  0.25727    0.04433   5.803 1.10e-08 ***\n",
            "neg_soc_avg -0.15759    0.03935  -4.004 7.07e-05 ***\n",
            "pos_env_avg  0.39375    0.04963   7.934 1.19e-14 ***\n",
            "neg_env_avg -0.17665    0.04085  -4.324 1.82e-05 ***\n",
            "---\n",
            "Signif. codes:  0 ‘***’ 0.001 ‘**’ 0.01 ‘*’ 0.05 ‘.’ 0.1 ‘ ’ 1\n",
            "\n",
            "Residual standard error: 0.528 on 550 degrees of freedom\n",
            "Multiple R-squared:  0.5259,\tAdjusted R-squared:  0.5216 \n",
            "F-statistic:   122 on 5 and 550 DF,  p-value: < 2.2e-16\n",
            "\n"
          ]
        }
      ],
      "source": [
        "%%R\n",
        "#model_opti = lm(sup_avg ~ pos_eco_avg + pos_soc_avg + neg_soc_avg + pos_env_avg + neg_env_avg ,data=num_vars)\n",
        "model_opti = lm(sup_avg ~ . - neg_eco_avg, data=num_vars)\n",
        "summary(model_opti)"
      ]
    },
    {
      "cell_type": "markdown",
      "metadata": {
        "id": "72X1hIcUi08d"
      },
      "source": [
        "다중공선성 점검: https://mindscale.kr/course/basic-stat-r/collinearity/  \n",
        "다중공선성은 독립변수들끼리 연관성이 매우 높아서 회귀분석의 결과가 왜곡되는 현상을 의미함"
      ]
    },
    {
      "cell_type": "code",
      "execution_count": 67,
      "metadata": {
        "colab": {
          "base_uri": "https://localhost:8080/"
        },
        "id": "Hwq4IFg2HKfR",
        "outputId": "84c9d73b-574f-4a97-d2cf-02d6aa3425ad"
      },
      "outputs": [
        {
          "output_type": "stream",
          "name": "stdout",
          "text": [
            "pos_eco_avg pos_soc_avg neg_soc_avg pos_env_avg neg_env_avg \n",
            "   1.701647    1.669177    1.413897    1.738723    1.438551 \n"
          ]
        }
      ],
      "source": [
        "%%R\n",
        "vif(model_opti)"
      ]
    },
    {
      "cell_type": "markdown",
      "metadata": {
        "id": "IEkua9Y0HZw2"
      },
      "source": [
        "car package의 vif는 GVIF(generalized variance inflation factor), df(number of coefficients in the subset)을 출력한다. 이를테면 다음과 같다. 이때 GVIF^(1/(2*df)) > 2인 독립변인은 다중공선성이 있다고 간주하여, 가장 그 값이 큰 변인부터 하나씩 제거해야 한다. 하나씩 제거하는 이유는 한 변인이 제거됨으로써 다른 변인들의 다중공선성이 감소하기 때문이다.  \n",
        "\n",
        "*만약 VIF 지표만 출력된다면, 10을 넘었을 때 다중공선성이 있다고 판단한다."
      ]
    },
    {
      "cell_type": "markdown",
      "metadata": {
        "id": "_QSp0216jAKM"
      },
      "source": [
        "대처  \n",
        "- 계수가 통계적으로 유의미하지 않다면 대처\n",
        "  - 계수가 통계적으로 유의미하다면 VIF가 크더라도 특별히 대처할 필요없음\n",
        "변수들을 더하거나 빼서 새로운 변수를 만든다\n",
        "  - (개념적으로나 이론적으로) 두 예측변수를 더하거나 빼더라도 문제가 없는 경우\n",
        "  - 예) 남편의 수입과 아내의 수입이 서로 상관이 높다면, 두 개를 더해 가족 수입이라는 하나의 변수로 투입한다\n",
        "- 더하거나 빼기 어려운 경우는 변수를 모형에서 제거한다\n",
        "단, 변수를 제거하는 것은 자료의 다양성을 해치고, 분석하려던 가설이나 이론에 영향을 미칠 수 있기 때문에 가급적 자제"
      ]
    },
    {
      "cell_type": "markdown",
      "metadata": {
        "id": "NDR_7hswzfSi"
      },
      "source": [
        "가정의 확인: 회귀분석은 보통 최소자승법에 의해 도출되는데 이 방법은 비교적 좋은 결과를 도출한다고 알려져 있음. 다만 최소자승법에 의한 가정이 만족되는 경우에"
      ]
    },
    {
      "cell_type": "markdown",
      "metadata": {
        "id": "OMRZ4_fQ0HR5"
      },
      "source": [
        "- ref : http://r-statistics.co/Assumptions-of-Linear-Regression.html\n",
        "  - 위의 링크는 조금 더 많은 가정을 체크하지만, 일단 아래 네개정도만 봐도 헉헉이라 \n",
        "- Assumptions\n",
        "  - 정규성(Normality) \n",
        "  - 독립성(Independence) \n",
        "  - 선형성(Linearity) \n",
        "  - 등분산성(Homoscedasticity)\n",
        "- 일단 종합 검진 gvlma\n",
        "  - ref : https://cran.r-project.org/web/packages/gvlma/gvlma.pdf\n",
        "  - Global Stat 값을 보면되는데, 이 값이 통과과 되지 않는다고 하면, 뭐가 문제인지 하나하나 봐야한다. p-value가 0.05보다 작으면 가정 불만족\n",
        "\n",
        "Global stat: 선형성(종속 변인과 독립 변인들 간 선형적 관계가 나타나는가?), 일부는 이를 전반적 지표로 받아들이기도 한다.  \n",
        "Skewness, Kurtosis: 왜도와 첨도 -> 잔차의 정규성을 나타내는 지표  \n",
        "Link Function: 종속변인이 정확히 연속형(continuous) 변수인가?  \n",
        "Heteroscedasticity: 이분산성(등분산성의 반의어)  "
      ]
    },
    {
      "cell_type": "code",
      "execution_count": 68,
      "metadata": {
        "colab": {
          "base_uri": "https://localhost:8080/"
        },
        "id": "F1z9RprZ2UxM",
        "outputId": "35b7427a-13b8-4cb4-8b28-b3796b15fa3d"
      },
      "outputs": [
        {
          "output_type": "stream",
          "name": "stdout",
          "text": [
            "\n",
            "Call:\n",
            "lm(formula = sup_avg ~ . - neg_eco_avg, data = num_vars)\n",
            "\n",
            "Residuals:\n",
            "     Min       1Q   Median       3Q      Max \n",
            "-2.07469 -0.28475  0.01523  0.33607  1.96954 \n",
            "\n",
            "Coefficients:\n",
            "            Estimate Std. Error t value Pr(>|t|)    \n",
            "(Intercept)  1.27642    0.20656   6.180 1.25e-09 ***\n",
            "pos_eco_avg  0.26585    0.04072   6.529 1.51e-10 ***\n",
            "pos_soc_avg  0.25727    0.04433   5.803 1.10e-08 ***\n",
            "neg_soc_avg -0.15759    0.03935  -4.004 7.07e-05 ***\n",
            "pos_env_avg  0.39375    0.04963   7.934 1.19e-14 ***\n",
            "neg_env_avg -0.17665    0.04085  -4.324 1.82e-05 ***\n",
            "---\n",
            "Signif. codes:  0 ‘***’ 0.001 ‘**’ 0.01 ‘*’ 0.05 ‘.’ 0.1 ‘ ’ 1\n",
            "\n",
            "Residual standard error: 0.528 on 550 degrees of freedom\n",
            "Multiple R-squared:  0.5259,\tAdjusted R-squared:  0.5216 \n",
            "F-statistic:   122 on 5 and 550 DF,  p-value: < 2.2e-16\n",
            "\n",
            "\n",
            "ASSESSMENT OF THE LINEAR MODEL ASSUMPTIONS\n",
            "USING THE GLOBAL TEST ON 4 DEGREES-OF-FREEDOM:\n",
            "Level of Significance =  0.05 \n",
            "\n",
            "Call:\n",
            " gvlma(x = model_opti) \n",
            "\n",
            "                      Value   p-value                   Decision\n",
            "Global Stat        73.27878 4.552e-15 Assumptions NOT satisfied!\n",
            "Skewness            7.15948 7.457e-03 Assumptions NOT satisfied!\n",
            "Kurtosis           65.71818 5.551e-16 Assumptions NOT satisfied!\n",
            "Link Function       0.30759 5.792e-01    Assumptions acceptable.\n",
            "Heteroscedasticity  0.09353 7.597e-01    Assumptions acceptable.\n"
          ]
        }
      ],
      "source": [
        "%%R\n",
        "gvmodel<-gvlma(model_opti)\n",
        "summary(gvmodel)"
      ]
    },
    {
      "cell_type": "markdown",
      "metadata": {
        "id": "NIAzbdUMtKrL"
      },
      "source": [
        "Global Stat와 Link Function은 linearity 가정이 충족되었는지를 보여주며, 그렇지 않다면 (X에 대한) data transformation을 하거나 회귀처럼 선형 모델이 아닌 비선형 모델을 사용해보는 방법이 있다.\n",
        "Skewness와 Kurtosis는 잔차의 normality 가정이 충족되었는지를 보여주며, 그렇지 않다면 Y에 대한 data transformation을 해야 할 수 있다. \n",
        "Heteroscedasticity는 constant variance 가정이 충족되었는지를 보여준다.\n",
        "\n",
        "gvlma를 이용하면 간편하기는 하지만, statistical testing 기법이 갖는 한계점처럼 유의수준 0.05에서 [가정 충족 || 가정 충족하지 않음]의 경계를 잘라 버리다 보니 융통성이 부족하다는 점이 있다. 선형회귀는 이런 가정 충족에 대해서 비교적 robust 한 편이다 보니 이 결과만 보고 비선형적 모델로 바로 넘어가는 등의 속단은 위험할 수 있다고 생각한다. "
      ]
    },
    {
      "cell_type": "markdown",
      "metadata": {
        "id": "OgUQBj9E8ytj"
      },
      "source": [
        "Heteroscedasticity(이분산)의 경우 p-value가 7.597e-01로서 0.05보다 커서 귀무가설 채택\n",
        "   - 귀무가설: 잔차가 등분산임(p-value가 0.05보다 큰 경우)\n",
        "   - 연구가설: 잔차가 이분산임(p-value가 0.05보다 작은 경우)"
      ]
    },
    {
      "cell_type": "code",
      "execution_count": 69,
      "metadata": {
        "colab": {
          "base_uri": "https://localhost:8080/"
        },
        "id": "X8gfyJQQ7Zde",
        "outputId": "787364cf-16f5-4026-ddee-6a4221872370"
      },
      "outputs": [
        {
          "output_type": "stream",
          "name": "stdout",
          "text": [
            " lag Autocorrelation D-W Statistic p-value\n",
            "   1     -0.03846682      2.069411   0.406\n",
            " Alternative hypothesis: rho != 0\n"
          ]
        }
      ],
      "source": [
        "%%R\n",
        "## 독립성(Independence) : 종속 변수의 독립성 검정 \n",
        "##                  ( 시계열 데이터에서 짧은 간격으로 수집된 데이터등에서는, 높은 자기상관을 가질 수 있음 )\n",
        "# 그래프로는 확인이 안되고 별도의 함수를 사용하자. \n",
        "# H1 이 자기상관 ( Alternative hypothesis: rho != 0 )\n",
        "# 높은 자기상관을 갖는 경우, Cochrane - Orcutt 방법과 Prais - winsten 방법을 사용한다. \n",
        "#dwtest(model_opti)\n",
        "durbinWatsonTest(model_opti)"
      ]
    },
    {
      "cell_type": "markdown",
      "metadata": {
        "id": "xhoPUeTS9Tjt"
      },
      "source": [
        "Autocorrelation(자기상관)의 경우 p-value가 0.436로서 0.05보다 커서 귀무가설 채택\n",
        "   - 귀무가설: 잔차가 자기상관이 아님(p-value가 0.05보다 큰 경우)\n",
        "   - 연구가설: 잔차가 자기상관임(p-value가 0.05보다 작은 경우)\n",
        "  "
      ]
    },
    {
      "cell_type": "markdown",
      "metadata": {
        "id": "TbaGqRsXup6q"
      },
      "source": [
        "귀무가설이 우리에게 유리한 것이기 때문에 p-value는 0.05보다 커야함"
      ]
    },
    {
      "cell_type": "markdown",
      "metadata": {
        "id": "eMTeMNY8uRUU"
      },
      "source": [
        "여러가지 검증중에서도 계량경제학 분야에서는 자기상관(dwtest)과 이분산(heteroscedasticity)을 중요하게 생각함"
      ]
    },
    {
      "cell_type": "markdown",
      "metadata": {
        "id": "e5v367x35Gg4"
      },
      "source": [
        "잔차도출: 실제값 - 추정(예측값)"
      ]
    },
    {
      "cell_type": "code",
      "execution_count": 70,
      "metadata": {
        "colab": {
          "base_uri": "https://localhost:8080/"
        },
        "id": "i35ohztm5FU6",
        "outputId": "56b6a994-c71c-485e-c981-f8c605a9b717"
      },
      "outputs": [
        {
          "output_type": "stream",
          "name": "stdout",
          "text": [
            "          1           2           3           4           5           6 \n",
            " 0.27529778 -0.99716670  0.41001244 -0.04834327  0.09847077 -0.17451163 \n",
            "          7           8           9          10 \n",
            " 0.43726775  0.03269768 -0.84970083  0.08710733 \n"
          ]
        }
      ],
      "source": [
        "%%R\n",
        "model_opti$residual[1:10]"
      ]
    },
    {
      "cell_type": "code",
      "execution_count": 71,
      "metadata": {
        "colab": {
          "base_uri": "https://localhost:8080/"
        },
        "id": "nJnfvS9dHAXd",
        "outputId": "3dec3847-3de6-4fef-894d-9b2250e21271"
      },
      "outputs": [
        {
          "output_type": "stream",
          "name": "stdout",
          "text": [
            "\n",
            "\tShapiro-Wilk normality test\n",
            "\n",
            "data:  model_opti$residual\n",
            "W = 0.97824, p-value = 2.343e-07\n",
            "\n"
          ]
        }
      ],
      "source": [
        "%%R\n",
        "shapiro.test(model_opti$residual)"
      ]
    },
    {
      "cell_type": "code",
      "execution_count": 72,
      "metadata": {
        "colab": {
          "base_uri": "https://localhost:8080/"
        },
        "id": "NZC2XAbv5o_W",
        "outputId": "da51faa0-56cd-43f4-97e5-94458333c2b7"
      },
      "outputs": [
        {
          "output_type": "stream",
          "name": "stdout",
          "text": [
            " [1] 4.000000 2.333333 3.333333 3.333333 3.333333 3.000000 2.000000 2.000000\n",
            " [9] 3.000000 3.000000\n"
          ]
        }
      ],
      "source": [
        "%%R\n",
        "num_vars$sup_avg[1:10]"
      ]
    },
    {
      "cell_type": "code",
      "execution_count": 73,
      "metadata": {
        "colab": {
          "base_uri": "https://localhost:8080/"
        },
        "id": "7DM-AOyJ6acc",
        "outputId": "a7926483-7e26-47be-ca88-884ce4fe2090"
      },
      "outputs": [
        {
          "output_type": "stream",
          "name": "stdout",
          "text": [
            " [1] \"coefficients\"  \"residuals\"     \"effects\"       \"rank\"         \n",
            " [5] \"fitted.values\" \"assign\"        \"qr\"            \"df.residual\"  \n",
            " [9] \"xlevels\"       \"call\"          \"terms\"         \"model\"        \n"
          ]
        }
      ],
      "source": [
        "%%R\n",
        "names(model_opti)"
      ]
    },
    {
      "cell_type": "code",
      "execution_count": 74,
      "metadata": {
        "colab": {
          "base_uri": "https://localhost:8080/"
        },
        "id": "Tqxs02Lm57rq",
        "outputId": "8a88e207-ae90-4542-dbb4-3a376306aa06"
      },
      "outputs": [
        {
          "output_type": "stream",
          "name": "stdout",
          "text": [
            "       1        2        3        4        5        6        7        8 \n",
            "3.724702 3.330500 2.923321 3.381677 3.234863 3.174512 1.562732 1.967302 \n",
            "       9       10 \n",
            "3.849701 2.912893 \n"
          ]
        }
      ],
      "source": [
        "%%R\n",
        "model_opti$fitted.values[1:10]"
      ]
    },
    {
      "cell_type": "markdown",
      "metadata": {
        "id": "Bk4Flhgnjj9d"
      },
      "source": [
        "### 연관성분석: 변수A와 B가 얼마나 서로 관계가 있느냐?  \n",
        "\n",
        "*   교차분석: 질적변수간의 관계\n",
        "*   상관분석: 양적변수간의 관계"
      ]
    },
    {
      "cell_type": "markdown",
      "metadata": {
        "id": "9FZusDstjm5B"
      },
      "source": [
        "#### 교차분석  \n",
        "□ 질적변수(성별, 소득, 직업), 질적변수(성별, 소득, 직업): 성별-직업"
      ]
    },
    {
      "cell_type": "code",
      "execution_count": 75,
      "metadata": {
        "colab": {
          "base_uri": "https://localhost:8080/"
        },
        "id": "vTm57MYulMX2",
        "outputId": "6dd51a48-00d4-427d-8175-8afb3fd74358"
      },
      "outputs": [
        {
          "output_type": "stream",
          "name": "stdout",
          "text": [
            "\n",
            " \n",
            "   Cell Contents\n",
            "|-------------------------|\n",
            "|                       N |\n",
            "| Chi-square contribution |\n",
            "|           N / Row Total |\n",
            "|           N / Col Total |\n",
            "|         N / Table Total |\n",
            "|-------------------------|\n",
            "\n",
            " \n",
            "Total Observations in Table:  556 \n",
            "\n",
            " \n",
            "                   | incheon0427_ex$ct2 \n",
            "incheon0427_ex$ct1 |   개발사전인지 | 개발사전비인지 | Row Total | \n",
            "-------------------|-----------|-----------|-----------|\n",
            "              남자 |       150 |       124 |       274 | \n",
            "                   |     3.378 |     3.011 |           | \n",
            "                   |     0.547 |     0.453 |     0.493 | \n",
            "                   |     0.573 |     0.422 |           | \n",
            "                   |     0.270 |     0.223 |           | \n",
            "-------------------|-----------|-----------|-----------|\n",
            "              여자 |       112 |       170 |       282 | \n",
            "                   |     3.282 |     2.925 |           | \n",
            "                   |     0.397 |     0.603 |     0.507 | \n",
            "                   |     0.427 |     0.578 |           | \n",
            "                   |     0.201 |     0.306 |           | \n",
            "-------------------|-----------|-----------|-----------|\n",
            "      Column Total |       262 |       294 |       556 | \n",
            "                   |     0.471 |     0.529 |           | \n",
            "-------------------|-----------|-----------|-----------|\n",
            "\n",
            " \n",
            "\n",
            "\tPearson's Chi-squared test with Yates' continuity correction\n",
            "\n",
            "data:  mytable\n",
            "X-squared = 12, df = 1, p-value = 0.0005319\n",
            "\n"
          ]
        }
      ],
      "source": [
        "%%R\n",
        "# 교차분석 그래프 그리기와 통계분석\n",
        "# 교차분석 ct1, ct2 변수할당\n",
        "incheon0427_ex$ct1=incheon0427_ex$gender; incheon0427_ex$ct2=incheon0427_ex$prior_develop\n",
        "# 추리통계학으로 확인하기\n",
        "CrossTable(incheon0427_ex$ct1, incheon0427_ex$ct2)\n",
        "mytable<-xtabs( ~ ct1+ct2,data=incheon0427_ex)\n",
        "chisq.test(mytable) "
      ]
    },
    {
      "cell_type": "markdown",
      "metadata": {
        "id": "wQnlHLMZmNgt"
      },
      "source": [
        "* ct1은 성별(1:남자, 2:여자)을 ct2는 개발이전에 복합리조트 인지(1: 이전에 알고 있었음, 2: 이전에 모르고 있었음)를 얘기해 줌\n",
        "* 전체적으로 남자는 274명(49.3%), 여자는 282명(50.7%)로 여자가 약간 많음\n",
        "전체적으로 이전에 알고 있었던 사람은 262명(47.1%), 이전에 모르고 있었던 사람은 294명(52.9%)로 전에 알고 있었던 사람이 더 많음\n",
        "* 남자의 경우 이전에 알고 있었던 사람은 150명으로 이전에 모르고 있었던 사람(124명)에 비해 많고, 여자의 경우 이전에 알고 있었던 사람은 112명으로 이전에 모르던 사람(170명)에 비해 적었음\n",
        "* 이전에 알고 있었던 사람의 경우 남자가 150명으로 여자(112명)에 비해 많고, 이전에 알고 모르던 사람 경우에는 여자가 170명으로 남자(124명)에 비해 많았음\n",
        "남자를 기준으로 이전에 알고 있었던 사람은 54.7%, 이전에 모르고 있었던 사람은 45.3%였음\n",
        "* 여자를 기준으로 이전에 알고 있었던 사람은 39.7%, 이전에 모르고 있었던 사람은 60.3%였음\n",
        "* 이전에 알고 있었던 사람을 기준으로 남자는 57.3%, 여자는 42.7%였음\n",
        "* 이전에 모르고 있었던 사람을 기준으로 남자는 42.2%, 여자는 57.8%였음\n",
        "* 전체를 기준으로 여자-개발사전비인지 (30.6%)로 가장 많았고 그 다음으로는 남자-이전에 알고 있었음(27%), 남자-이전에 모르고 있었음(22.3%), 여자-개발사전인지(20.1%)의 순으로 나타났음"
      ]
    },
    {
      "cell_type": "markdown",
      "metadata": {
        "id": "1d7544HRnk07"
      },
      "source": [
        "* chisq.test() 함수를 이용한 교차분석의 결과를 보면, p-value(유의확률)가 0.0005319로 0.05보다 작아서 귀무가설을 기각하고 연구가설을 채택하여 성별과 개발이전에 복합리조트 인지 변수와는 통계적으로 유의한 연관성이 있다고 할 수 있음\n",
        "  - 귀무가설: 성별과 개발이전에 복합리조트 인지 변수와는 통계적으로 유의한 연관성 없다(채택되려면 p-value가 0.05보다 커야 함)\n",
        "  - 연구가설: 성별과 개발이전에 복합리조트 인지 변수와는 통계적으로 유의한 연관성 있다(채택되려면 p-value가 0.05보다 작아야 함)"
      ]
    },
    {
      "cell_type": "markdown",
      "metadata": {
        "id": "mqMyKUGijxBw"
      },
      "source": [
        "#### 상관분석  \n",
        "□ 양적변수(연령, 체류기간, 만족도), 양적변수(연령, 체류기간, 만족도): 체류기간-만족도"
      ]
    },
    {
      "cell_type": "code",
      "execution_count": 76,
      "metadata": {
        "colab": {
          "base_uri": "https://localhost:8080/",
          "height": 497
        },
        "id": "HkHgKBa7pUow",
        "outputId": "39804eb6-9d45-4867-ff14-f63c0be4e038"
      },
      "outputs": [
        {
          "output_type": "display_data",
          "data": {
            "image/png": "[encoded data removed]"
          },
          "metadata": {}
        }
      ],
      "source": [
        "%%R\n",
        "# 상관분석 x1, x2 변수할당\n",
        "incheon0427_ex$cor1=incheon0427_ex$pos_eco_avg\n",
        "incheon0427_ex$cor2=incheon0427_ex$pos_soc_avg\n",
        "# 그래프로 이해하기\n",
        "ggplot(incheon0427_ex, aes(x=cor1, y=cor2)) + \n",
        "  geom_point(size = 3, color = \"red\")+ # 포인트색 설정: red(빨강)\n",
        "  xlab(' ') +             # x축이름 설정\n",
        "  ylab(' ')               # y축이름 설정"
      ]
    },
    {
      "cell_type": "markdown",
      "metadata": {
        "id": "kVv7FwEAuYGh"
      },
      "source": [
        "![image.png](data:image/png;base64,iVBORw0KGgoAAAANSUhEUgAAAtoAAAC6CAIAAAAf530XAAAgAElEQVR4nOzdd5hd1Xko/HeVXU8vc86Z3mekURdISBghQIAAYzC4wTW2wXFsJ8Elvkmccu93k9x8+eK4pNixYydxHGM7BmwwHUkIEBKqqI1GfTQaTW+nt93WWt8fI2QBEpIxcDTD/j0PPMNh7zNrr9nl3au8CwkhwOVyuVwul6tycKUL4HK5XC6X673ODUdcLpfL5XJVmBuOuFwul8vlqjA3HHG5XC6Xy1VhbjjicrlcLperwtxwxOVyuVwuV4W54YjL5XK5XK4Kc8MRl8vlcrlcFeaGIy6Xy+VyuSrMDUdcLpfL5XJVmBuOuFwul8vlqjA3HHG5XC6Xy1VhbjjicrlcLperwtxwxOVyuVwuV4W54YjL5XK5XK4Kc8MRl8vlcrlcFeaGIy6Xy+VyuSrMDUdcLpfL5XJVmBuOuFwul8vlqjA3HHG5XC6Xy1VhMz8cEQwEq3QhXC6X62yi0gWY7YQA7lS6EJcqMSNPP1rpAvy2kik7mTS9XqmmRq90WWYYxkQqbQKgqqhS6bK4XLOLYIBm/N31HSc4AAB67VuxcC6m6uxcjpfLciyG8Mx/qT4vIbiDsHT6v7gNZ36+AGZnCk4mwx3H09J40XtV2My+YAYGCxtfGO3vz3MBd3+kpasrWOkSzSSZjPmz/z6heqTPfbqj0mV5t02WbMGEV8G6PLMvAdcliBcKwnGQomBNq3RZLm0In6MZCZEL7icMI/nkE+W+kw1f+QpWKSKz9YUKobNr4yIDXMF4oZR87jlrcCB/oKfl3nvVlSuRNAMiksrHlYbBxifKfX25icny6ER+YKCQz9ucX7itqf9U4acP9iUS2h9+aT6z+YaNQ+fbSwgolRzT4m932SuvXGbj4+XBwULZeLXHSkC57IyNlS2LA0C+6BjGuTuz0hlr3/6kZb3nuromc9bm/uyfvTDwZG9GCOGwWXhiuCpGCLH7FfTtf3Y2brRNa4Y2m78LhG3bk5Plk/3cMADEdFzCTdMcHhG2LTgX5bIold5QgQK4Iwyj0HeS5XKzuXoZs6YmjaEha3SgdOKEceKEk0wKfoGbFReCFUoD3/42AlFz36d9ixaObdlsZzLn2144Di+V3u6iv0WVD0cGhwo//NHR2+5Y//OH+59bP/6Xf7Pnm/9wYHy8fMEdt7w8tm/v1Kor4z4v/cIfdH3sI60Yozduxh1u2uxnD/bu2Zt8B4pfSZyLUwP5f/uPI3ff88K27aMA4DBuWezFl0b/4v95pfdEDgB+9MDxTZvHGHvNRcs4BwDOuNdDO1p8FSl8BXl1em1DIK5JhyYNhBAllb8KXLMHQnjxEt7ZRXftooW84NY5tpke9PDeHvrA0+nxXzzc84l7cvv2CsaAcwAo9nSf+OIf2KOjLJ/PPfNM9tFHnHz+9RWFEHMcAEGjEcBYiBnw3v8W8FJp4pFHj37ucwPf+KfigQND3/2Xgf/71/meQxfYiwt7YtLuOaS3dxCPJ373/6j+9GdoMHy+7Uu9vRMPPfR2l/0tqvyNuKnJt/aGBofh1VfF7ryj6Qt/vOiBnx4/eHDogmFvMmkIxr1eCWNUXa0nEuduF7U4Nw326KMDfX25d6D4lYQxamv133lHM2MilbYBABzhcDE1ZWIEkoSZyRyL8TfUJEYYABxHUJmEw+q7X/LKIiB8GlUkzC/0quFyvRWyDDIFzgTGiMjn2ACTX//7vYpEIpGbb8FeHysWQYAQAEKYI2O2wzAhAFAuFYv5vGDstRWFAGFWLkPZ8DY3I0rxrHyd4Db2eCJr18oNDVJdbXjt2tovfNEYHEj/7EcgGC+f93WdYlQ8edKRKJIVjrEUrVKqAlg695kmGCvt25F6YSMAOA6reEtT5TvOJYoRCE3FCCGPh7ZV64LjVFrmAhAC0+bAhaoQIYQjQMKIccGZYAgsJqJRHQAQQgDAuLAsLkmYktNtJJbFCRaqTEulMmMsMhsHbFKKbZtXRVW/VwIAhAAhSKcNTSOyjIlCvvSFeWi6ggA4F+UyU1SCAEyTGZZjmqy2ThcANuMYIXqu5qXZigsgCAGAEOLVGoKCxfIWK9tck3BYo+N5C2OU8MgIQcZwfApljB2fMOrCckiT0Xuotly/ATF9ZmCMmMMsRs6MT+JcZNJgO4AxBIM8l8NCoFBIACDHAUothzvZjKwoNOCvYPnfJYQQSUKcA8Lo1Zs2A0CSDAhRnyd+992IvFp1QnDTBEoxxsIoOvk8KxZEIIgwFnYJSerrx8POdJgCIEASIoQ5jKgqjcZRMGTki4Aw1jTBGLcsoiqAsHAcAECUgmkKSu3xUaRrNBAiGAAEIIWbJqIUkdNBibBt5DigqrxUMgbHlYYmAKC08sFx5cMRIUTZsDkXApBpsiNHs4lqtbXVyzk/djQ/mjJS4+W5nQHG2ZGTxeVLouNjpQP7U61tgRPHc8WCfaAnXVejY4oOHc1OTBjC4VddFdc0OjJSnJw0R4aTc7sShZIjyWgyZZ/oy9fXe2RpVp24tsOLRevUqULPwbTDuOOIY8dyuleiFAHA0+sGL19alYhpyZR58mQumTTzJUeRcD5vNTQqCLgniHfvT+7cPdnZHlyzKlHpo3k3YIyEAEeIkEqmu6wRgBCQN61ne7MjBXsgZxxPWX+0onr/aPHJE+nv3NjsU+lfvTTw5eU1AYU+2pe+vOi5tjmgy5W/gF2XIs7Fq3NGiHT6QSuKRXbkCB8YwJk0Gh8Xa663R4bl3hPiIx/BwaB94ACpSchNzXjzS0jXYe1aAA648vfndxQihMqyOTBQOHwMmAMA+f6TRNccQlC+WNy9W2pu1poaRMnIHTrEcjkjldJjVSSfx7pH2DZVVWNgILPpBa2tLXDlVWcet7OB4IAwCAeBkDAG4Paxw6JQ8K2+BgS3BobKo6P2yIhUl1Ditbldu0IdHUzX8089QxbMK/eesFOp0uEearWSmkS+5xDLpKFU8s9fgGtrjYEBZ2KCjY6gYEiqqbYnJki0qnTsmNrQgNUKt5RX/nRHCEkylSScnDK6LeeXv+z/8hcXtrT4TpwovfDicEuT/5FfngyFlHldwV89PjBxe+PocHFopDw0agwMFBybv7I/mctbqaSZShuFAvvPHx372teWqzJ6/sXRK1dVP/DTwcuXGf6QUiqx44dT4aAUi6mzKRxxOLdtVirz/T1pQMiwOQje159bsihKMM7m7D/7s53f/c7yqkDtE0+eKpXY4kWRH/zH0WzavO/eDoplIRAzjEd+cfKJJ05VV6vXPXUjmiFTwn4bBGFbCEcIAEBnta7tHCxOlZw7uyIBhXz8V8dfGbE+vrDqO3snuqfKXVFtfX/ujjmRhVUUAIIqIe+lliTXb0Sc/gcExsAdRDBwxzl6FD/2GL3/fuT12o8+SnfvVu++20ml8bFjaPXq4t69/ql6aGhCkgQYA4AQDF0C9+d3FBJCMJZ/ZRemhBUKyOsztm3lhaLEuTk1derb/9xx1yfsaKzw0ovpffv8y6/IPf/c6M5dNfd/Qe+M8mxWn5yc3LM7uf5ZNRTxzumiVVWVPqC3DyIAgBwbUwnpWrmvP7Vtm6drXvzDHzSHR5OPP07r6nLbthZPnqy5777B73/fvOF6ULX0ixu18RF7bIyb5dRz64lxNTvYkzveq1VVjX7rm21/+GV85YqJhx72LV5aOtWf+5dvV3/1z4u9vbLDivv3q+EAqApAJW9rlT/dOReWxeJx9dRQIRyU7/pY+4K5vomk+dAvj7d3Busb9K754fo6z5UrYoePZMtldt21NdddW5PNWf/8bS5J6L6Ptz340Iknnx78iz9dfPhwZs31UV0lG54fmdsVWrMqgZmIVinjU+apE/l7Pt7W0R6o9OG+zSjGGKF4TL391oYbrq+1LKdQZCNDZY+XAgJFBSQwRsp4yvz5Qyf+4Zsr53YGM+XOH/zLkY99tOXlrePHj2e7u40P39nU3ub/0X8dMy1e6fj43WAzJhDiAihM3/cFF2BxsWWk0OhTalVqAdzcHEyWDdPhC+PqVMkCrOkS6c86LWGnN2l/brGm0NkT1LreXtg0IZUsVyc0eXrgCGJAxFQSaQoEvEjReUeH2LQJYS4CARgZMctlZWoSBQK8mHGoRJuaACMEs7Bz+XWE4DLwyI1rQ7feigAwQsBYZuMGGwAJgQmR5rSWhweHfvbTpq98xbtooVxV1bPp7uiqVcWpKT6VzJwaVOZ2dtxyy/A3vs7TaZhN4Qh3ABPGwc7nSTaXeWW3vmBB6KqrEELD3/5uqb+/9e67reFhItuRVVcXn1uf7+6u/9zn6+67DzRt+Pvfd0rFhj+435qY6P/y/bH/+VXJ69Wuuop1dOXXvyBX10RuvllrayO19XrXXLmurum++5SFCyt9wACXwlBWALAszrm48orwjTfULVoYEASlM+aTTw1xxxwcKt9wXc3dH2t1HDE2XjIN54rlVRgj2+AOQ4ouAUDvidzAqfzQSFlSyVe+dDkXoliwWxr83OZXrox1zQmV8o6iYIyR4GL2JUs0TU4olmUAEBgjShBCp8cB25YQgEBgRFE6bR89kuGOlZss1tfrCCGEYGzcME0+f344mTIxRop0rmF3s45MiRBg2Cyg4enOGoeLvGkfmCgiJIhMFIqzFguq1CfBdQ2BiSLbOVy4pyt6eLLUnyx/tMsbUGdRs7Dr7SfAYYqsIIwRpoJzc2xc5HJgWghhAJA4E0IAUYjfx6amRDKpCCFyObZrL4TDpKmpsi+p7xrHtpBXJ+EIFhxPD2cVnEarAGOwbWqbQkJIkhBAcfNmUTbNiQmtuZGpKgA4pYJJif+a1fZUUmgaCngrfTRvK0wBEEYCI6Q2NEZv/2DgypUIY142zIkJVioVDh3yL1tW95X/DYoyPftXbW1FPp9glp1KCccBIYyhIVEy7YEBO52p+dzvq42NhaMHPHPnCG6rLc3Vd9whLJvl81xRLpFJXpVvHZmmaxRjIlEAAMZ5seiMj5tzOqPzuyKYIMe2BBeEIL9PwgQBgG0xxkxFUgAgl7NVla5eFQcAStHOV4pDwwWMAVMsc5OBbDucUKQHZDTrGti5wy2TUQlTiQIgQrDjOGWThUKyImPHAUqRouKAl3zinpoduyYbGrzZgvjsZ9owRoyJgF+asyAoS9i2GWNi9tXP+Uw3hxxNGr2TZVuIdNkeylshFW8ayC6PeVUJn8qYn5gf9Sr08hrv/940GPGEP9IRvvvJo61h6bOXJeRZOZjf9XZxmF3MSmVZDA1ynx9MU9mzh4UCdt9JaXhUyDIbGMSLloIkQbQKSuM0m4RbPwCPPiqoRm+/BZTZ3y5yms2Y6iGqcmYsuXC44FzyeKxUCgCQ5pPjNeEbbxr7+c9o1zx7ZLj+S1+SoiE+PAayolcnZEkpO7YXCPXMrsG/3AZMLYMhj1cK+KgkACEAwR0b5dK+zs7AipWIYGYLBAwBSLEqoqoAgDBFBFOfjyMJ7LJRLkduuQV7vYhQa3zInEyxySmEqXCEcEwAAYITXb9EJnlV/q7KBWTSJiYgy5QQjBBCCFXXeW5cW/2DHxx7acvYtm3jI6PJYsmemDBaW/0SJQDgMK6qSk1CB4Bly2LjE8YPf3R01+6p7p50XYPCuHjgJ0e3bh/ftmuoUDDj1frhI9n1Tw329uWt2ZUMjSPIlGwEIFEMANzmkoSDAXn3nuT+AylZEpbFjhxJp4q8syNk22Jw1Lzjoy0L5scQgnze9HhRY0IHAErw6JhxrC/3XsmKJkSjVwIBe8eKLw3kftydylv8i8sSHom80Du5a7RwU1toQbVXpmRORGv0yStrvHURqTOqzwvrsjtsxPXmCJE1H/g81tFj9r79zrZtCAGdv4Atmc+3bWdHjuBQFbn6fUiSIBLFTYuw5kOdHby1jV62kCTeE8PJp7FMmhTy2LaFQEIgQAgrUuFgz9TzG4VVdkqFyZ07RSHjbWuhPp95sq/qqlXRG28iqm6WCzyZCra1IUqJ46RO9hUOHWL5fKUP6G2EAIAih+WziBBEFIQlEILoujJ/UWbH9vSmFwu7dzuHurkQmdEJPRxFwQAIDoC4bav19UQRSkMLk+TB7303v2NXZscuRrC3uWXoP/8z9cILuVd2OqOjWFYQYxMPP1Q4cszOVr72yF/+5V9WtgRCiEzWpBQvuzyqahQQohh7PbSlyXegJ5PKWuUya26JKjJhnF93XW0krADA8FjxQHd62fKq2hpPQ4NX1ene/cmSxTVNWrIkFvQp+w6kCyVHUTzVCT0WlXp7c+mMGY1pNdW6NIt6/RFALmvLEl6yOBIMKphgQpCq0b4T2WhM6mzzTE5ZoaDS2OhZt2788OG0JyANHs8xDtXVumMzWZauWB4DAMsS2ZxZX++trtGV80xSn00EFx1BdVVjoEmjUa80r0q/psnfENSWxX1ElRr8ysp6r0cmAKBQvDzubfArikzmV2nzEh7JjUZcbwrJMrS1wdwOlKgGXUeRCJk/D0er0PxFIEkkFiOXL0WUAgBSFdzWCrEEkgnu6EC1tbNqesiFWIUS59y3dCkNBRFCgICAsEbGBGfhzjm2ze2pKbm+zh4cnHjySSkWN1JJXigo8TizLFuI4E1rsaYLYM7wKJckvaVl9mTlRxgAOeUSCPBctkwOBQEABEOEqi3tdjJZ7t7PLRvHYnKimuWL0soVnrp64ExwkVr3rH/J5WpTM9UUNZHIbnlZ5LIgmLRwqa+lqdTbZ46NEYJpc6scCSOzbB4+TBMJKRygHi9UNHsBEhVPfQLAmGBMSNKZBBkAp4e4cgFAMJqes+o4QpKQw7lEyN79U489PviHX5ob8KvT/6tsOgQjWSKEIs6EaTGEEKWIYIQQmBYXXEgSIXS2ZYtgTDAuJPrr2uNcmCajFEkUG+UyltRUynh23anhkVI65RzvLQYC5A9+b+6yy6sYE5KEAcBhwraYJGHynso9AgDidAYm/GrtMSEQnLvbSrxHuvRdbxchTg/jwuj0ucP56exALgDBuXAYpgReXQZPcCZMCwjGVOK2DZw7+Xx6w3pjaMhKpcxT/SyXr/vMZ4I332JxoekaIDT9qACMkSTNtorlXDAGlJ79ZAQB3LbAcYAQRCnCRDi2IASBwx2CgJ38q/8Tv+tu74IFgtsgiDBNQAhRCpQAd4TNhRCY0umvFbYtbBvJMiKk4rV3SYwdIQQhJtBr6wJjpKoEAJjFMMYAIMsIACRCAKBUMvx+6vMqNmMSIYhxn0c6+wt17TWHpioEBHDG0ax7oBCCCDlX1XEAhGRNGx4pf+dfDs+b5/+fX1miyvjUYOGv/nrvhudHll1exTmb7rCjBFHtkjgZ3m0IXvdwIOe/JmfbqeN6p70x8pjNy8/+xhDGQNnZdYIwQZommAlIYFnitjPxi4fN4eHW//dvAUBwNvDnfzG5bl3gujWqpsGr6eaYLBOEZ+H1iTEC/vrjQoCIQLIuuI2mx3wQwBgDyEQGa3xUisWJ1wcACLBADOs6AAhuIYQBY5A4JhpwZ/prkSRdOqvrXSpPICyf9yolryabKpWdAwfSxaIdq9KOHptYeUWtcLgkEwAgykW0cCLAs6ib5s0hhIAAADCbOzbr7U3F47JZdmREBwYKNTX6NWtqMUaKcqmciO8QLsSZzCIu19tDsItZddZ1Mc6Z6OjXK/QyZg4OcofxXA77/cVDPUyWord+AGsaOmvAL53FQd65UuFN18+ZqkNYSr74osjltPa21IYNnuZWOZ6YfuCdufEhLAMAIHo60e0lmWGv8mNHppmOc8FTilC0f3/yxU2jZYfXJbyr3hcnlM7CiPj8ppe+Qwhx5/QPF9yFYKxqqLbW23MwUywXRketqYw1tzNw1cr4OVccnGWmR0ZXuhSzSjlTdASXpF/fzoQQlmFjit8rVY2Q21J28YRTRoBek8RdMABxMWndESFyLOb0n2SmZUxM2KPjJBiM3HAD8XjewRJXlGAGCIZeGy4IZqI3DSCKRw4Xdu9hU1MkFPJfsVyORt/hYr4jKjx2RJy1vBsHuOC4BdvmfSfzkoRammfXtK6Lw7lA8OvMKb9RPDE2Xu45mCKEzr8sXOWd5Y0iAJAuOQfGi5NlJyBjr0SKNq8PSG1RHV/okSkEFCwmEaRSLIQolJmqkunhq8mc5fdIEnmPPops2xlJTjw28suyWbp3wX1xb2x6uZ/dY3uGxoaua77SF5iRN8HfCOvtRaf6WVM9aWo/vXgb52xsTJRKpLEOSW8ljaDgDlg2ohJQKmwTbAep6iUy9/K3JbjgAmH82k6r6XvYxV5HvFjM798vhPA0N0s1NW97GS8dQgjgHGH0+liN8wt281lj43x8TF20CAQDeMM3zAQVax0RAibS5p49U1u2jg8MFg4fyWzdPqGpNBxW3uQpSwiKRtRQSMkXDYuDQjFjzDAtQIhgnM1ZhsHUWZqiKpUyd+6c2L594nhv9viJ/O69U0QmkbB8wecr4zxZsCWFzO0ItDR5uRAECYyxYbBM1tL1S7HV7rdnOezolPHw0dR4yeqs8hxJG+v6skGN1vkvkNShaLHv7hpNlZ32kJIqOv+6c7QxogUkMpgy/2bbcGdUi+izP5g7J8adglM+kNn7wNGf+KXEZYkFDrMwIj8+/MCJwsnVjWswIhgjmzECs7M7Q3Ab0il49Fds01YxZy4JhwS3oFgW69eDaaL6JiS9lavJOXZEvLKHhQLE4+Wv7BI7dkFtNdL0t7387zJhWcVDPcknnkDlslxXd+aBWjp02Dp2jIbDSL6ovItIltX6erWhgfh8ACAY447BgWCMeKkkpia5ruNZ0F/jOMV9+1PrnrVSSbWuHhBHiABAub+/sGunVlsH9M3OLuL10ulZ4ug1wZ8QgufzmFLAWNg2jI0h/yX6Ml/JPyGlADL55jd7Dh3KaBrNFey/+f/2HuvNXXDHsfHSD/794C8ePcWFOHI0/avH+iezNgA8/czgH/3J9qN9lZ8//U6QJCga7DvfO7Ll5QmPh/afzP/1X+7etn3ygjtOThp/+3/3/fKhvlzOGRsvff3vD06lbADY353846/uTKWtd77sFRDQpJs6Qo1+udorr6zzfaA9NJw3Hug+XV2mfe4shKbtIARxn5zwCkD4cNp4aiAzlbccwTHAnKgWUCkAWM65s7MY5/na2UGW5IZI4tamWyNq5IHj/75jfAfFGJihy3pzqFZXFFtYAEAJuTR7pn973EKouV0sXykGT5Hn1ol8HrgDto2Gh9DcuVhTAEA4ZRBMOKeXgBfMBBCC22/4LgfEqzmQenphzx6gBAC4L8AScSASCA7i9OkkuPW6H2YKRdHy+/ef+F9/ltu/DwC4zQFg9JFHJl7eChIIdrGHI5hx5ufCge6Bv/t7bJkAkNm8+cif/qk9PvEOlP3dJoQAJLI7dhz76p+l9+xnBoDgwJ3Ms8+O/eQBwRgz3kpSKJ7Pj/3TP9oTEwBQ2Lfv4BfuN3Nl4DZcApNqX6di4QhCEPbJVy+vchxeX+dde33tJ+9qTU6V9h1MXXBfieL62nB9TEWADh3OvbQ5JVMMADU1+tLLqrzKzA+Tz8XnU5YsiiTiWmtb4Ppraz7/2bm9J3K7dgyD4EKI6WElb2QzJkm4a06gqdEnEWd01Fz3bH+xaANAMCAvWBCmdBZ2PQgBAmCybMsEaRRjBD6Kw6pkOhwAuBAYE5MJxk9fkA4XJhOmwyVCPDL5+LzoyrqoAEiWnEVxX41HJhjXRdXPL41HNGoxgTAGAM5F2ebT3yGEsLnAmJz5ztnHYVwIyBn51fWrqz2xr+38etE0EdVkrMhU5yBkLI8Vx35x4he7BneX7XKly/v2IyoFuyw0mf6Pu53RIdHbi6gOAIAweL0gGAgOSBZMAJp+7xcIUcE4MBC2LYpFUSqCYIIxwYR49dQBy8CSRIMRQEia0ymvugr7vcJhIDAACLMEDIFgAACCCNueTgFeqUr4DRAkdXSEb7s90z84+dOf2ukMwjYAENsiDQ1Y8QqOAcB0zhXEn5W2XHALkV/3gpWOHpt68snpa1CKx/X5C7AsCWaeL1ZjMyS1I5Ikz8JFVbd/UFKk5IM/5cwEhAERYZRoLAaagiUHAOCNoe1pAl6zBoqYrkPn+LHs4YPMsgCABPz+K69EBE9PKTy3yiWMr+RLjABgbPohykEAlUhTU1BcRNbUSET96IebBRcIQbnMZRlFAzIArF5VvXpV9dlbFktFSZFkMhuWYhEApu0oKqYSBgHRqFpbqzOGp8drnm96qkRIJEx+99Od0/9ZMPMNdR5dIQDQ2Rns7AyevbFt2yCYJM+CZfQECBAABYt3RigAnMiaAtCt7QEQbO9I8UjSmDRYrVd6f1tIwuKlgULGZMM58+pqX1tC/4+9E3fMDauA9o2Vpkr2lpH8AlPjCHYOF7pi+kuD+ZhOP9gZdoT4xcHMNc3ejrC2d6TYnzOGC/ayau+yGu+sTNyKMUKAjILZ6eu8Onb11/b93fODL7y/9Rav4pGxBAC7Jl45me7zge9HR390dfLqDy/8MJkFTehnEdwGRIFxtGIlNU3YvJk3NiIAUBRACBARuSx/5RUwDLAdcvvtIpvjBw84RJJO9gGAYBytep+QJHtgmA4NimiUXHmFk0zhk8eFaTn7u2lHOwz2Q6nMmprIs+tFVxdevFjkcuLl7WjFMgjHWHc3SidRoYhWrMDV1Rcqb4UxgQkAVZTwqqtKvccz6x+v+tgnAUCKJxSvHwQgwQCo8mofBLc5fnW5dcGEPTUuRcMIS6dnhUx/zjmA0Do6p2fW+BYv9i1efPYv5aUS4hx5f72EzZm5mZc+p1TCPn/w2uvyu3amntuQuOMOUS7KwSDy+oADogoAwHkWXbfSWaIQovte/QBNN1KWx8eVlubpBHF6R2fDH/3x2XsJyxKlEg6e9SCoXNNmJcMRjFDBZrbFFUVCBBVLVqlkd80N2g7ffyC96aWR40eya9bU3n57o4BFIZ0AACAASURBVFl21m/sHxq2Uxnr/TfX19XoTz41eN21MU9Q27Zzcni4+Njjp9rb/d3dqUzBuem66De+dWTZFf5P3bNgcpL91wNHbrw+sXJF7dPPDPafyvf0pO7/g3ldnd7z/VEvWUgA4QgAFAkhjPbsm2JMtLSHAKG9+5Pbdk4dOTR21VUNt9xS79XoT/+7d3yiPDpcvu22hvZ2//f+7ejNn2pV8+zRh08WitbTzw6uXBHL58tbt6Z+7/c7v/UPB6ui2u/+TufwQHnd8yNdXcErV8a2v5LcunkkX2S33lK//PIZtlQmFwIAgQAANJK3HjgwNZgpr20N3NoRPjZV3j9eTngki/HvvTIaUIhKyVDevKLO3z2W35cqVofV9X3ZVdXempAyVbbmRrWWoOIleMNgbv9E8bKYXuul/7Z38qp6f1AhQ/nygQkMjtgxkrumLrD5VLYvXe6q0mUs1Lc0jOBSNj1KKS9n/ZJvec2K1RPXPDXwwqqG1bqka0TjJt848Nwc75y1HTceKR19bOjxFc1X1PsbhBCzJihBmAqwAACEQNdeZ3/jG86hQ/rChSIQAMZEOs2f32i0t6upFPr5g05XF+o/aaUz8vJlcPgQ7HoFPv85MTEJL29l779dOnUSrV8nmpuwpiOMwe8j0QgHie3aQzgn7Z1seByl09DaimQVeg6IJUtg104HUbm9w/nxP9FQCC75cIRSAgBYUao/9TvG1pfGHnpUW3mtt6EehMAYAIRRNIwNz6V27cIEV997r1JbN/7II8b4uNV3QqmtKx890vi334D8aGF/d/bll+Tq2prPfIb3n8zu3Cky6bGf/dS7aAEen5p8ZVf0ppuH//3fQkuWVN336fLAYG7LS96ll/mWLClu2zq5ew8bG626/YP+5csrXR8XRh1H5LI1q68Z5WL4H74VW7PGsbmteUggyAE5yWRu68uF/d3cceIf+bDU1lF48QVzbNQaGpK8PmNqsvqee2SPN7WvO/fSC3JjU/Vdd5nJ5NgTj1vjExOP/DJ05ft4Pp/fty96zeqRp55Sa+sSH/948ejRyV88VPWRu7SO5twrezI7d7HJydhH7/IvqsAavxW+TSDHpBIeGS0+s27okUcHPnxnU0dHYHTC2PTicGO9t63d/8tfnezpSXcfTB07XlowP6KrqK8vWyjYmzaNpDOORyYyES2NnkRc9/vlFzeNbXzumKZJpTLb8vLUyGgpVqXv2DnVP1D85SP9E5Pl1pbAK69Mbd02abEZeH9EwAAQwMmT+Y0vjG7YMPzxu1uvWhE/eDC9YeOI30PmL0h87197du4Y3bJ1/NjxXGt7QNZQ38n85KT5s5/0qgVOADnMaGwMNDX5AgHl6EBm9/6kKkuWyTduHDZMhiV05Ejm1KnCK3uShw+nFy+KdHcnt748LoRwzjNa4tJEMCYYcYtbjqNIpMEnrWoIrG0NIQTPDWRHCtYtneG7F8QUiW4bzGXK9o7hUn/K+PzS6usbQ+DwmIcQghSKfTJuC6hLazwhvywEhFQp4pc/0lWlUDFVtmQKDX7ZJ+Hv7BtHCJ0qWfUB7f2tIU3Csy8WmVY0SuU8kbGiyfIdTXfkSqNPn3hSB50gvDu1d9LItkbbKOK3Jm7GEprIT76hAXmGExyEQPk8ZDMoGpWuuEJ56EFrYkIEg4Axz+R43zGZC2E7YsUK7PWInn3y/PmkqRktWAiyTLrmoXjcXrhQq4mJhmY7iKBUIuEwi0RFPEEaGqhXQQhhrxd7vXjN1WBZYmoSEBLzFwCA2LtHzqVhcoo0L0FNTZWui4vDmMjlkKZE7v00Qzj7+GPMcYBSUBXGRf6JX9mmFXrf+1Lr1xdP9I/98AfsVL+vvT2sB1NPPO7t6qLcHPzHbwmMvW3theeedVIp4fWBrCjtHVpjE/GFcr29xvYtxOPhpjX+7LN2KkUj4dLIaH50JLVpU6bnYGDx4vTzzyU3rIfT43guadyxWSqFFbXmnnuIrg/9y7eRJBDBsq6jUiGzbp2Ty3uaW9Lrnslu2555/LHyoUNaUzM4ztgjv5TCYVYoDv7Dt1gm5V2ydPD7/1ro7pY0jU1MeNrbve0doOvZgwdz3ftB94hyefCf/5E7jHNujI4Wew6ktmwv7tgZ7OoyjvdOPPDjihx+hZ/KDNmMCa9Xamr0rr4yfsOaWomih3/V7/Mrt9zccO8nO+qq9U0vjRZLxZ07JyiB+z/ffs3qmnzBZpz7vJLfJ9XXe+d0Bq+4oqqu1iNJ2OMJxRP+z312rlFGhw9nSiXn6lURTVUef+KUYTiOw9feXL9kSRjPwBVZhQDLdGQZx2v0hnrPB25t/OAHmwJB6ecP9QV80ofuaPrspztrEoHDh5JjY6V9+5NGwf7D++esuabGMJlh8qqAHApIkbBv7tzg8surqqtUbsuN9R4A+OAHG31+qedgmnGYtzBS2x54bsPw+EjJtPnVVyWuXBlFCM3EF1yEQKG4LaCsbgqsavTrEmZcDGdNhSIAUCmu9Utpg13dEJgTUf9u+/DXdowQ5HAAXSKSQrgQgECmIE7324NXIRQjLkRbSD+RMvIl7pFwRKW7hnM1PqXaK9/aEVrTHJzFi9rkrOwY67O5BQAdVe1rGq5/9NSvnu1fpxHtROZE1pyUiISIYvBSTI/5VB9wZ3bVhQDuAOLg8SBFQTfdAIyT5zbwbB77fM5kEjAgvx81NqFbb8WRKCeIDw6e3jMWE0KgYJCqqt3d7QycpGXFUTWnUCiVLdDPWmzFcQAA1TeIQh7yeT40gFpawCijQsHxelEgiNdcj+vrK3L8vym7UBDFImGOWl8XuXFt8tln8kePStXVoEiFw4czu3ezfNYaHY7ecafS3Dj6g+9LdfXh668P3P85omvB667Fuu6/fHlo5YrQ9TcAoYLZJBKRQ0HvvPmB971PTcRFuUQSdUpNTeyuuyRdN/v6RDotV1UpspJ65mlzdNScnAxfvTp61So4O7vapcpmjINgPq/a1pb41KdSzzydWr/RI0DyeYs9ByefeRo4Z44Tu+mWwLKl5Zc3g6aGVq0Kr71JioR88+brra1y17zAypXxm28Gzu1MRqquJfGEf/684FVXaXV1iBJaVSVq6kI33Eg03Tp8hNuOFK8mTU2Zp58SssyZE1i+LHbbBypy+BV+xuQtVZZxOKzMnRNctCSieyTO+Y4to8GgLEtIknAsrpfK7MplVTdcH/rqn++4/8u7bZPnczbnoKpSKm0hBMqrM3sVBXl1DAAL5vvyBWtwKPPcxqE5HVGPThzOE3FPZ6f33k+2LV0cnaELs+QKzLZ5vEppb/N3zQ0qCNlcbN02IatE0ygzWWurzkG+dnX8/Tc3fOe7h//X/+lW1LJts1LRchiYJrNtPp01I2MxcPh0dvlwSPV6pH37kuPjZb+HRnXa359fuCDc1uL/6IebL7ssBnCeRVwuVYxzxgWSsEeh6llpQpAAZApleiCqw71YmhPVvTL6vcvjf311gjF4tj8/lbe5hXxYACDBiYQReXVZs4hKVYIVihdVeQ6MF7eN5m9sD9scKRIOatKiuKcjos2sivpNDRlDJ4t9ClYBgBJ6V8ddKtJeGNsYUsNXVC2nljxeHgWAY+aJxdHFzf5qQPQNOa5nMkTLmTy3GRAKCKFQFH/xC9BzEB3YD2BJU2M4b9HmZtLRjqNRkCR09S1400vWTx4sJZP8Qx9CGPO9+0RvL5q3GBEFFQs4XiscR3/dbVjTACHk8wpJMo+fcBBFNTUWlcC2pUQCd7ThmhqYISvtsVKplEkTTUMA1R/7GApFxr7zbSuVIt5westmQKDPmavPXxT/2Me8jQ2cKMWxUcdxSn19Wucc6vVPL4GRfvFFduiQWTYAE6dsC8sChAQzmG3bVAKvjyGi1FSjQLA4Nl4YHBaMCYStkRHPvC5PW3vi87/vW7Wq0jVxUXguXzzZr4TDSFGqPnCb94abRn7847LjqLJc6jsI6aR36VLv5ZfV3Huv1jEnN5ksHjgAGJdHR7XmFq2xkQSDSJan1q1LvrSZSpR4veBYTioJhAqMBGMsl5eDQYk7UjisNjXm9r6CwKHxuB4OO6lUfMECpbG56kMf9l9VmeqqcDhiO4JKp1McTk8PsS0gGGdylmPzQsEuG+zKa6sncuSOD83/0z9ZQil67PH+YFCRFCKwEEJYTACAZXOHCdMUDIRlc1VTdE3auj2NCVmyJBIKKv0nC5GoXFPtq4rqDrvwaNlLlBAAYDOYzsrKQSAATPDYSMEwmCVgdLTc1KiZFtz+gYb//RdLTNP50Y+HKUWSTBHw6b5/KiHGhE6wAKTIxLJ5LEbicfLgg33ZrLFsaZgzblhMl0VTsz8UUs8zZeeSNt1ZkyvYwzmbndVXgDFqS+gvDuSePp7eeDI7L67e0hL89q6Jb+8Y64wEmoMKwUST8UDJ3Hgqb1u2LsGGvuym45m+yZLJ+f6JYvdkQQC0BNRdo+W5VVpUo20RclVt4J92Dj9yJPlwz+SekcKMmPTw1ozmx6cKyXmeBQQRAPDqnk/Pvfe2utsFR63RliU1i39+6MG/2/n3yWL6ffErFdmPMZ5lCbzlU33MMMDjme6Hwp1z+PxF4PMJU/A5XeDY9ve/72zeYj//gmAmLmWdIODLFihLlkitLSAEGhtD+/eKvqOQSwtfAO3ZgYXAnPETvdaBbm6YQDDr62Mjw0AlmqhWDh4AiaJICNXWISrxxx4rHTxovPiiSF14BuKloNzfb/edQLIMCNFAoP7eT5aOHk0+/ZTkUQlCdr5I/H7v/HlSICAYn//3XzcP7xv/j38vdnfHP3EPiYYzWzbnjh5VW1uLI6OOaQshMBUYIcAEBEWMIcbANDBiUnOb3tCQefpJTZWjN63FMjWzWaIoeke7HI1y+3yzUS4tdipl9R3EsgQAxKPV3HqbSKYnHnsUEQJI47Yj6bq3tRVFwphIjZ+8106nhr71LTQ1Wfehj0lNDZNPP13s6fEtXGilknI5TyhBmINhMIcJmwFjWFWschkAaDDg6Zqf3Ly5dKI/ftttvFxy0uky43prqxSPi3POdXrnVThJ/PBwacP6oTXX1bS2+BFCGCGJYtMWjz/eP6c92DdQLBvOjWtqf/qT3mNHkjffXFUuIUUlra3+Z54d8Afk1malp2ds2/ZMQ70XIdi+Y+Lo0ezyFXGPVzo5UBg4VbjtAw3tbX5dJ9u2T2zdOqHoZNu2yXBYjoRn2OQRh3GM0Mhoad/+zPy5gblzQwAACCjBjs2e3zQaTujHj+UcxldfXfPD/zrW25tbtSqRThvBsNbU6Hv4oRNtbX5/TB8fKe3vToUj6tSUOZa1Nr8wunBhOBhUjx7PPfHE0Cc/1dY1J6TptLt76Jn1U4GQfORYVpFRJDLDqmuaEEIVZFG15n91dUCMUK1fCSr0RNrUJbKqwV8bVCiIpGH3po1Gn7K6IRD0SCWLdfiU9rge98qjJeajpCOm1/ukqZLdFpSr/aoukbhKr2ryY4Q8stQSUK0ScxA0aXJjVPXIb7IM38zmU3yLYwtbIk1nsk7VeeoXhReFfSGVqk2+xhZ/S2OocVn88jpv7WzITPUGZjLD6+rl2jpEMAgAhFBDPVQncLwKBQJQXy+GhgXCuKWFVMXE6Bhs2iYGh2BiXGAE0Tj3eUvcEf6gvGCBFY2ibIY0NjmRMCsWIBgiiQRgLCSJ1NUh3SM0DTo7aH0DUlRKqaiuFqWSk80ptbUokUBvmhTrEpHdvLl0cG9o7ftpMAjcVmvrCwMDPJcLXHe9f/681K8eLZ8aIJqW2fySEk+kDx7kZct39erA8mVqUz0gktuypbB1ixSJOLZtnuxTmpsVj1Y8eKi062V/S7solcy+vuRzG3xLFms1NWZfX2rzS1V33Kl3dEihUPbll1PPPy+Fw9ktLwMCta6u0pVxYYXu7qln1lf/7mcBEQBOgmGemyju2Ru95xM0HJncsKF0qIdoembPXjkcNo4fNcbGox/4gH/FctrYjAAmH36wePw4kahWV5968SXP3LlaLJ49eKjcc4D6/BzA6O/Pb9ki19XpLS3O5GT6qSdr7rxTmzePUFI+0D25caMUT5QOHRKOI09nVHt3VXrNGiYScX3RokggcHoqF8KotdWn+aSDh7OhgHrL2tpIUPGH5b7e3LFjpbbWwJrrahWFMMb9fmXJwphH1yYmyqpC5s8L+f0SxrBofjgWURSJLF0SWbo4KklY06SVK+K5nD00XLpyRdWcDr8kzYymzjMwRoDAkMEfURfNCYVCyvSHGKO5c/z+Kv3ksamaav22W2tqEr54TD18PNfbl+uYH73hmhpdo96AHI8ri+aF21r9hw+nw2FlyeJoyE8dx3zflaGA30MImTcvcM3quCRJqkLnzq0ixO45kLtsSbS92SdfzAqFlx6PQjvjWuC1KxV7ZDInqreFlPlxLaJLGKHagNIVVeuD6oKY5teoQvGimN4S1SSKY15paZXSHlFCXjnikedE9KaQjhB4FTI3pp9JHxzS6MIab3NQmZvw+JRZG4sAgE/2xfX42WvTEII9qq4SBQA8sqfWX1vnrfMr/lkZiwAAjQbkRDWiBF5dChp5PDiRQFRGhOBoFZ7XIZpacDyOHYevfxZfcw1uakKUoCefFskpsmKF3N6hNDXhYFCqq0O1tdjvJ1Ux2tlGq2uxIuN4HLc0Yl8AEYKjUZxInEldisJh1NlK6xtJXd2lswrrm7MzaTVRr1++HBMMiAClgfZ2f0enVhuXYglve7tVKpWOH/evuEJrbtGy2f4f/nvyV4+VenqwpGjNLdDUwrMZraY2fOONSnW1NTLi61pAa+vLg4PC4/UunIdDYcq47/LlNBqRQPg7Oz3LliNCsKKGlixBqmqdOuVZvtzf1YXVS/6dinOWz6sNDb6lSxFGCGEsUV9Ti2/xUtzeqcVj3kULy4NDTrkcWHa5Vl1dnJicfPjhzLonCwf2C8B6S4va2maXylpVVWjNaqVjjmVYtLEteu1qZyqpEuJZsoQGAojxyLIFJBYn4ajP61WvuQ7LgniD/vnzuW2Xens98xd5OtqxUoFxNhVeswYA8gVb1wh57dhS02IjI6VQSAkGZAAQQiRTRiZjV1WpAb8MAOmMRQn4fDIXYmrKwBhFI2q5zEo288hEVUm+YPvOWplFcJHN29msXVOtSdJMvVHaTDDO3jhrw3HE2HgpFiHyq5fc2Hi5WHJqajRNodzhJYNhgnSNAsDwSFFRSDSiWhbPl5xIUAaAcpnJ5DUT9LM5K5m04zHF45kBL2G/Jc7Fe2FBwXeU4JYjCEYIv+erUnAhyiXx7LMOc+T334o8HlEo8EcegeER/OUvIVUBhEAwQHTWLw7MzKJwgL5uxTvOhRDTI7LsTMbJZNXahDk4PP7oI1I0igBYMpnZtjl08/trPnkfy+VA0alHZaYBqTSKxhFGdnIKEMhVVbbtkEIe+XyIUmEbIPCvE88Lxi3HmpxQa+tgZrwiCG6XgeE3iZycTIaVSkp1tTE4kF6/nus+DIwOjw88+avEB++o/szvgmUiVUW6BgKcqSkcDGKKnVwBOQ6JRoVl2YWCHA5PfxsvFvGZP43gwrKN0VE1kUAVCt0q/6TxnWs5N0UmzU1n0rkAQiga0aKRXw8+DwVPn3MYoVjV6c81jWgaOffXCggG5GBgZudDkwiSyDn+ZJSiutrXXPCJ+K/rClPs9f46AqutOb2lLOPIq5fumXo7I+CXpyO/94LZO9jjXeJwp2ybClKJPDPe2t9Z3BHCEaeGiUqFYQhKnbExUiyK225HigIgADCgyt973wVE8cAbX7PPClilYFDoXl4qTvzXf4I/GLvzw9Tn5amUk8tZo+PCsmgoMD3GkcjymVQrUjSIsAQAkkQhFJr+8I3rF2JFUetmxhQkAABAWNLhTS8gGvATn24xPvnkU9ww6j55n8CAbCs5fMoaH2OmJUUjwB0AAZjQWAwAQDD6apYzJMtnYhEAwK8NE5GiaA21FczINVPbCX5T6L26CqvrYrwxiaph2I8enhrIGOfc3nU2LvjO0YO//+IXnzj5ZKXL8g4S3LrIwBVRiXgD+L5P8qoq9thT9qZNvK8P3v9+Om8uYAyI2NmS0b2fZzKzu2nkIknYEgJKk1PF/fucbBYAQNPKQ0PRtWuxrgMip9s2zlqiFl3MI3NW1i3C4AhsC2t0tNTTg7FFKWWlMpuc1BYvksIBAABMX3PsF1kP09Vb0eyg797YEWYxhJDN+NuVweLwsez6DcOxeq93li7hy4VgNv/tU6RwIRBCk5PG0+sGO9oCZNZFZkWbZw2nYLGs4TAG2m/dGcc4PzhhfG/P5MK4XnueFYAFF9NDKAQXNhczJSu8cJykmewbOfri8PajuSMSlzRJk8hbvweZtoMx7J3auWVo88qaFR2hjjduYztOwS4SJBGMSmauyAyVqtPdxOiSb0UXpgG5HBiGKJaBOdOTRC5mR6SpuL4e1VWT6hrU3Eyj0TM7iqFTfN0GnKjG0ej5fzGfIV0MryMEsxAmgtmCc4QxXGimN8ISliTvwkV2NpPdsd1OTpX7+gKrr/UtWIAkCQR38oXkE4/LmkqCwZlZJ2+GWwzABsEEwxfz2owoxRL2NDTYhULyiSeN0VFrfDxy3ZrAihVY06ara+yBB5A3IIVD6E3WpoHpqZr87Divst6lBsN8wbYtDgC2zb1e6W0ZjrBr58T3/+3o1VcnYIZ3wbyRYbBSyQEAh3FJpSHf2xCxDo8Uf/jDY7fcVD9zh86cU9ZkWwfy/VnDsEV/rpzwKF9YHPOeqwfw4hGMSxaj5Lyz3bKGM5Iy59Z4uOAnU+X9k8adcyO/zW98dziM9YweeCm1OYFr5njn9/Gjf7rtT/9kyZ8sr3vr+bMpIUIwxp3mQEeDv+Gc2/T29W53dt3YcGOtN75pdOvxdO8Xl9wPYjojySX9LiHyeb53rxgdBSpDchKpCrppLY5d7KQD5Pcjrwb4rEtOMACMDIPm8vYbu0gBQAiezUChCOEg1r3iVL9gHFdXg6a9cdtLkGDcShcpLnIhqETB57+ovDOEqI0N1ffeZ01OUo8OCEvRKKYEhOBMWKl0399/veNrfxdqan7HD+DdJSzLKRQwAHccqsjg911kY4bS1pa45x57bAx7vVhR5FjszKqKTjI59d8/8y1cCKIJEHqzPhCELqkL8N0IRwQzH3t8YNOWCZmi7u7kmutqvviF+eHQWx+46xgOVWk6bRYKVnX43M2nBavgFFkg4BcAvSdykYgcCc+M6zmXt556duilF8eojEaGinPmBH//83NrXzs05DcynW7ENkrlknW+xuZUzk4adntMB4CBwULJ4nNa/W/5N75rxnPW9/ZMVHvp3fOifpWO5Kyfdo8/fCJz36K3vsiOaTuKRNO2g4Fq9NzX6u6TuaeH8t+o8ZgMftyTeebE5I0tQe8lP//oxFTfvx7/wWc6PjM/Nl+hZAHuNC1L5x4hxFtupXAYkyjGWNEVWcavv6hNxwHEfp7+OWYYNTIA8Jb8ATkAAAhf6tUFAPYzzxCrRO78oBBUEIq+8XWxcxfc+pvkrHxd6/d0m4csg0xl37nugUKI7TvSp0757rxT0b3shRfEyX7+O5+hDTNjDISxfdvgQw8iVTdP9OJQqPVPvqq0t1/kvlIwKAWDr/1MIMzALKNCgQSC536PN00rmZESMYSROTbKCkW9re23PYx3hSiXUy+8kHpuPTNMY2SEIjT3m98iLS0XubsUCkmvjpsBgDNdWk4hg7nJJInx/5+9946z66ruxdfa5Zxz2/Q+oxn1LlnFqrZxtyXbQHAcCAkJJLTQQt57JITPL4WQUMLjpSePBHiPHgMmGIzBBVcJ2ZJl9VEZSaMZTa+331N2Wb8/7kgauWEJy2Pz9P1jPufeM/ecffZee6911l7ru4Cx5/IyWt/3T5yIz5+PsRgVi+bECbFsGbw2ksYv+Yvy6b7CZ79wCBn/xMeu+O9/tOLf/vWqXD48ejQDU3XOgKbRVNkzxdnLB8/5OHVMZAUDABXZeEwIL0ln/21altAXPt/55W/1ZwOllP36N45/81sng1BBOejdnKeTz1aEN5ZopqvDDw0XvvgfR3Vk/vhjV/y3P1z5l3+x1o3x7TuGjbXG2nLzzBliMjOtl8jS2YPpF6Qz/5/TsmNOxfSkhzLvXPngq//n6J988OlyB37rP0999SuH/SCKnlenxlg6m4plZ7qvIm139Oe6s/5NcyuTLmcILRXy15fWtkzzvU2nvFPGwLRHMNa+YFqZIVTGFDQ0xEWZTv7M7c71xtF81JwQAOBy/N0VNV+6bf4L2iKlaZXNI23MjDLKkaG7T97dEe9Y2bzCFQ4yYS3d2nprc0WbMkYZkwkzE7lJY6wlipTKR/lIawLKBlk/8AtBQWltyOSDvK8CAgp1NFIaMRAZXRou9AvgzdhQvlHGz46Xxo0xiJZr2zV5rD5Wn6IKILN29tq3zrsTyhPZ0khpJBNmlDYA4KsgF+QBwFiTC3OlcIYDd9QPf8gHBvCW2zCWYvEY9zzzhmtp/gIAIBMBgNV2qgyK1WfroZAJgQyQLX+wasrHRlaV69ESICgFqRQ6iTOnIiACMkCGrMWxsQov6dRWAQDeuoW/+928sWGqTdNuVP447aYzy1dIanx08J/+cWzb9tYPfqjtgx+a/+nPVM+bN3LfjwCg3Day5syMI5qaC2cLMJytbTStyBFZstYabrWyACyesCo6c8oAGTIaiHI7dw7989+TXwAyEw882POZvzEjI9OuMG2Ok4EzKmDGl3rr+8Nf+1p4+nTbh/+w408+Pv8zn6m67rrhhx4ypRJQuXDxtMWczJTz4+wonxGw874hC4RAkupbhBCcAUM681sCIjK6ePTo8f/2UX9wEMiUnt198t+/qEulsxecPkbTB+LMMF1aXHKb6KcP9Me84LYtsxJxZIAo2G1b2xoaXyChBQAAIABJREFUXySPiAgICct7Wr/4de0FnZ1lHD8RzJ8rEq7giO/+vUVcoHzNVzVTSj+1s39wsPiOt89P1boJhwHEw7Atn1NISPgL5s9Ln/YzkeOwF3wHjjQZgLraqf55+9tma21cR7wodcSZJeXljNGlw4Svt/UX3rigel5NTFsCAIY4tybWmHChHFBSUgAQl7wyLnIl7Stbm4Cipr5MWBsTBLYqJgCwNxvNSsm4KyZLWmnLECvjwmjbUuEkHQ4A6dAoZXORbkq5SckyockrU+XxdGhiDGo9ET/jRMkHOh+awFJtXMYFy4dmuKhaU05k6dSk31rp1cZmbKcsUnrf2L7fWvR2hztnl7nKVMoSccYGC4PPjOweKubWVi9eUbuie6hnZ7j75ubrRvXI7uH97fHW8WBsSfWS2kTtfafuW1u/YVnt4oODBw4Xj9e6rdc3rAaAWqc97ia01f25wSOjh7tK3Zsqr109e+FEPl+ISjmTG0gPzhcde4afrZWVS2Yt01r3jA0/NvFTh6U2VqxZ3LbwYP/B7lL3G+e8cTAcfODEQ/XJ9rsWbSFCOROE6OT7fN8+qKxgDQ1n12Kxfv0UO7smmxlHrSmewJRLpYDSaaivB6Lw9GmnphoIIB5HKWFkxFZUYKqSAkXGB62wsgp8n4pFQCQbgWUqUxTKx1QCPGlDRtks1NZSMQAP0PMgEUdHAoAtFiEMoViE+nr0PJvPU6mItXXakBgdJddlDQ0v8USXuL8gt+uZ9M6dC/72805bG9kIABO3btGTExd6nWmLCgECcsaLJS0lvshyFGUzQb5QFujaW26pXLcOpyWPvDahjLE9PfmDB1o+/GHR3s6BEMmtrcvt3ftij/myQVDIyVTKcb3zvizT5CBXY2MskSzTingrVs5qaODx+Itd6VVe4C+thj5xMnesK71pc2t11TmP5U03TG0wW0uEwBiefWpkDBDIUhBqz5NnHci5bFSRkkwwAEBAeSbeJ1Uh4Uw5lTA0gOg6U6dUoGuqXMkZAMyZMy1nmCERKG04ZwyRaGov4+zBDKLzcO573x1886/Nqa3zuJnidF935dl9BwwCo61Jxs8lOQMAIhaLESKLlfm+EH1fxWJTHV4sRFzwmAdhZFtakmedndrXCk3McwGgmFc6tIsW15QvOLsjRXQuYqzkBwjM8xxE4AzPGiG/9LT5ZZGLTOdY8X+sqQKAs0WIGGLK4/nAPHgi/cjp3Kl0tLk9+YGl9T88kf5RT+Yjaxp3DhW/3Tl6x/yqY5Phb6+olwzf95NTX7993qqW2PePZnYP5gfy4f+8ac5ISVU6IsYZAPzk2ER/oXjPkexdi+r/YG3jrv78g93pupiUgm9qTX6vczzu8I9tasnl1QOnck/0p4+lwzcvqL5rceVfbRs5nQ8+e23LiUn14YdPv31J9V9d15GaoT2d0YmRgWCgPImAIgC3HFTOEf1Ifanzy7/Rcmf1YOb9h9735Td8WZXsY0MPTZZGjwwdrayuK0X+eFTsync1uc1PDD7R5Db1pE9mdHZF1VWf2vsnkfldT3jFcJLH+O6RPd89+aMPLHrXGI199vCf/23V54KwuG9iz1UNmwvZIm9zvn36W8tqli2Ztay30Puffd9+35z33d139+8dfNf2Nz1ZjHKPnHosZdsOBtt/3H2f0eaGuo0N9S8e7HkpoUZHOWd2ziIG53ITzvIxlPbudfYe4qe69IJl9KYtrKvLfP7z8KefEJMT7re/TQsXQqGgtm4VQuivfAW3vFHcck245wAfGbFdx+wHPugIQdYCImWL5ugRGBiEXTvtypX4xjdBzykcGuLZbLRzJ1++nN19N7Y0wW/cBcDo0Uept4cdPmI3bdJbb1eHD8Xvvhs/9rFoZIR98YvQ0sI++9kZ6SsAMKVSftcud+5cp62NrEKUgFixevXUaWRABFahKHfgmaWdbBAEAlzhcUAEIj/nO0lvKtweORIhQwjCZGsLi3nILABYZaNC4FXFy4GfYnxC1tUilzaI3OZmt6VlWrsQKAJwzmgYBmV9MZNsW0RWCbDHv/IVp63Na2sTZzZKZGNj7ZYt5WMEBKJpGomVV2QT+EYLJzn1RP5kCROO57lAEPmGC8WEp6KIV1QaKRzGAYCIAj9yPckYQjZTGhhILF/OHMeExKur42e3e84fIzJAREwgkCEifFXSlC6tOdJ1PDvQ79dUOVDORJi2U5DJRo8+NnD8eK7rRG7p4qq73jr30L6Jf/v3I1/4/Ibv/7B32xMDW7d0/Pgnpz/yoaX7D0xu3z7yoQ8uWji/cseuicOdk4c6M//ypavJYS0tSQA4cHDyqZ1jgsMjjw5u2tjwrnct2rVrbGikuHd/+vs/OHX71vaPffzp27bM2nLrrP6B3OPbxgb6ij2n89dc1XDzdTXfu3f0Zz8b/Ld/2XTfT/q//OWj11/f/Kd/uqpmhmJjh4aKJ07m29viQgB3zhuasfHwyW2Dx7pyJ05mFy+tvu1N7Z2HMnd/o+u9717ceSR7z3dP3n5H+3339X7mM+tOdWf/71e7/uLT62uS7pFDE6f7it2ncv/0d+ui0MRdhoCDg4X77u+Lx+X27cNLl1Z/9CPLdhyY2LN3LBYXP/hh7+pVNd/9QU/S4+9/7+Kx0dy2HSPHuoIjRyevv6b+2mubHnpkrLMz8wfvW3T4SOYf/qnz5pua//tHl1dXzwxnjrYUGhvhczfgjbV7RorHMuGfX9V6eNz/j30jT9R4G2anunL6ge7s6ubEN9+8sM4T/7Fn9P6uyXcua/ivOxd2VMjvHp5cWh/f3JL8w4f7JnzDEUJLQuBTpzMDBf3meY23tNX89c6hNxVr1rYlO1LuO+bXrllQ6Yfa41AfE8rQQ6dz+8eL/99Vs548nf3OkfSapsTvrKj9yYn0/SeLVzYn/u6mjv0jxcGCWjRD5og0FONTr0EGplyFxurIhF86+NWErGioa5rdNO8NwfUHM513Lb6zJlMX2PC2xbfe2H7jhD/5gxP3niqmNzdv+q0lX9ox8PTjg4//Tvs7Bmz/moaVm1s2f/XI/xUgLdmSKi2Lz3VR1Lv1eZXvL/Svql3JGV9ev+yKOUsRURnVAe0AcPexu9fWrW5uaLqeXf/E0BPbxn9eUZnK8+w4697ccNWy6uX/fPCfJ2i0nmpf5ewbsgqZwHwOxsZRlr+JkDlQ3lkmQ/v3y6EhfvtNNrpOfvrTpq2JbdrA586NBk8RuvoTn2BS0LbtUCppY/hf/gXYKLz/QX7NNXzObDsxKvr7TEWlrKpCAHPyuD3VLW/dCi3N9sAhNjHB5nRQc7OZP9/ZtAk9j/r6oLUVUPiP/ExxGbvz1/E3GPz9PzirVztr19J999nREXaqG9/9+/CDe4NIeVIAwqv5VkuGgIGemMgfPlz5hmvheVm4tlCYePLJYmdneLzLSyYbPvThqL9/4B//oeWjf6TGRvv+9/+u//W7Mo/8rOXtv0XJxNCXv1T7xjdVblxXOHg4mkinv/Ofcz75V0GxyIQAIj0yOXL//SKRyO182mo1968/7Z88OfjkE8jZ+D33xNeszT7yUGlgaMHnPqcmJycfedQ/fjQ6esKZ3dL0W+8qHTrQ/U//uOjP/iyKor5//VensX7ep/7Gbe8AmoHUEiqE0dPP1P/eu8RzfBhEJoyKzzyV2bVHjY44uVL9H3047D3d//WvJm+6JdHRMfo/P5tYuz7beSi1bn1y6bITf/mXsz/wgeobbsjt2xv19k4+9VTHH/+xJSKGwLnKTE7cfz9z3PQTj6PjdnzyU8HJk/mfPaSDcPz++6s3biwcO5bb/czsP/0EIKUfe6x4qDOaGJepVOuHPjLx6KPphx+qe8udVjqDX/i829o6++N/Gl/4AnlzryAu7TCUitoP9QuSNH7r2yeKJfObb533/vcsvveHvUMDxSVLq/N5tW370KoV1Z/99Jq73txeU+N2Hc86Mf53X9jAGP9ff9+5eWPDyivqOFcTw34sLhJxDgA7nho9diz7pjd2LFlctWdPRkWmrtZbvKRmy5a2669tIaJSKSLAMDT33Ns3d3bsnb+zYMstbX/39wf7R+zaNXWnevKPPDY8qy3+ib9a8/Ofj0yO+8+PmXh1EIYmnY7IEpy/r2kt/dcPTnUeSr/rdxa8+/cWPfno4LNPjV17VUN9nffDH/WsXl//j/+48e1vm8c527FjtLEx8b/+dvX82RXf+97JTZsaNl/TNJn2s7lCNhelKhxEGBpK9/Vlb7qx5brrmh99bAAA2htirS2JrbfOuu4NTUKwkcESIFoL3793YGLSvut3F7z9txc88sToyJi++cZWa+137znV1Bj7/XctONyZGRzyzQxFkXDEyMBw+rnFsSJttvflWlOypdK9oim2qMY7OlGq8kRglCbc0JJc05Ksj4naGE+6Yl6le3VHattA8cSk6ctFO4cKn1jTuKIx1psNjAYwtLwpsaE+USko0FQu9igANFEywatdHlkoaEpJMZiPOsdLa5viLZXuhtaKpoRzbCKQjPXlVUzgqqbEolqRcrkFOhuy8yqjprJWMD6SH7FkGcMzg4aFoPhI3yMd8dkpkXK5O6t61mSYdrjTk+0WjN0+9/aUrKhyq8bC0YRJrq1ZGxfJYX/w4MSBvqivxqv9o1UfbU42FVXRkzGm9KraFQuqFxwsdHZOdM6umB1z4q4TK+caSiYAQFpZl6oDgO5sdzNrAoAUS82NzevOjEvuTZYmCqqwoXWd4NxDzwk5vuocdcgkADLpICKm0wBQtkWmEEXw9NO8ppq1tYl5c+zcuVEpb5wYxGNieJhv3ixXrmT1tUiWDwyI1av57HYUMXbooM5mzek+tngZX7TY5HPAEBDZoiW4ehXkcyabQ98HKYFJAGKexxIJnLZL5f7g3jhnorkZ6qqpuoqyWZAICNDfH9uyFZqaMYq4nQH/LjKLAMqSDQNedf4uCWkAyu7aZU/3Nr/tba0f/FD29OnRH//YW7bcVlUNfOlLFIvP/eQnG++8MzZ7duHgwdKBg61/8MGaK9f1/M1nWSJZuW4dxmI0MY7WyupKRAxHxybv+1HVhg11W7aagZ5oZCTe1uZ1tFesW195882xlmacSKNWYO34j++L+k83v/P3Gj/yocy2bZOPPpy8ZrPb0DC+7UkKw9l/8SmulBoff/W7CwjIcgDIpsdDMNMdIOX4oeKhQwNf+j+1d7yx5T3vLYEe/t73UqtXJ9eszT34gB4aav/cFxrf+15v/sLsk9usMUv+9nNVN9ww+I2vG22S199ARFAsmWyGJRKYqAgHh3M7d1Ws39Dwll9Pb9sO2YyoqsZURc0dd9TetsVtbAz6+xEIGMs9szu/a3fj236z4TfeWuofyD78UMXq1U5La/rhhyGTbn73e9TwUKHz0KXum0trjlRWOWQwCCwAqGlLMJnwvvtOG40dHcnFiypnzUr0pqPKCpmIy/Gs2npj65rVTckqd2LcT0+GH/3AsmWLUwKjkZHSnj2TvT25j//x2pWLq4qTOh4XAPAbd81560cXJ2PGFQZYCQGkBMmwIslralzSpepqUVPtKk093eP1VW5LS3zNqtpC3qTztiIlGxud4yeyG9Y3LpuTIgtAaGco5LCiwklViHQ2AkQ/Oqdl86EZngxrG+ItTc5VG+tcl/f1FphFslBV5Sybm9i4vrGu1vVcMTBY2LyxYfNVHfv2TxZyavfu8QN7J/7kf6xqba23RJYjICxY0PSWX1tUk5IG0RoAAIwMIjY0xKqrXa2tNtRQ4xaL+vTpYktTvK01ft3mRsF5NqNiMet63HH54kWV69bUenGuNfEZIgVPOXxOpfOVo2O54LyM3IyCQkhVrgAARKYscc4BYCAfuBIW1MUAINJ230TQlHI7GmKI2J0JKjx7x4LUB65sun1ljSdYSVEVx5jEXN48MZR/bKC0fbhYE5OewASgr2xFXAKABcgEJulAOtRHJ/wKhwOAQOiodJpTbsLlmcA0JGRNTJya1EoTR0TEV4p654LgVMY7KtvvPX1vT7aHIZYHLTI+V6xoS34xC4ScscGgf3HVwpIqYcQtkctdxnAimMiojOPJmBeXnIda1YqaW2bdvL55XaVTabVvrS1FpYjB3Z33/Kj/R1c1XVWfrJ/0JyUXvq8ICJABctIlq4kAAeBUvrevOAgAGpT05LrmxUqpuEi2JJsdhr4Kqr2qqnjdjJEizGmH1hboOWUj/9yXFACAzmRKQk6RTcViFjlZgGwOG9qwpoZ0CSziqR42MoxVVShcmBgXrhdrb3duusnZupVXVXnFYtmBYXxfHexUnYf12HjAGVQngQgcB88nt420wUwGuIOIyF2QkjhH7qr6Gus5UBFDYyiRkJ4AxFd7w58sAHHhcs/TE2PnnSECAP/EsWh81GlpSaxYkVy0KDx5XMQTyY7ZNijGFy2quuYNTlMTAyic6Gp9z3sqr7nWT2chk1aHD2cee6T5N9+e3HprrJBToUJEOWfBnE/9Na+v0SrSmqG1BpGQM8d1qquZ50HMdaurKQyot8txXKeprnLdOkpVBePjQnoN8Rq/rz+1YWPlujWiuoYQAYjo1a1ei4DMAIBg4I+NnVc7F1mkIdPZKevrncaG2IIF1evXhwODkErF8jm3oT6xbGly5UqvvSPR2OioYnLu3Kpbt/h9fdHoqN/bO/nwww2/9paK664zfuDU1SEYb+6Cxnf+vpCS3JjQiqREsipf8GJxnqqMuAeIorYOGcvv3+90dLhtbc7CJYn29tLevTyRQCAEm1i2vGrlSlFRaYMQAEiXLl3fXNqpPm9hlZC459lRAGDl6ReZKDSBtrlChGgBABGrqt3Z1ZGxYIg62hLM4daSshSPiY6OFBfoR3DwcNH1+K+9qfmjH12+cUO9sQTMAKAx1Hlo8om7e3fsyhw8klehk6qU6az2IxVLSAAAJghAcBOEamTMGGQAQICuy6sSIoyUUrD2yrpEnAVRtnVWTDhsRrQFALQ0x9vbkz97dKhUMnzamjLcVxzpyxsFwIQl1tgYq6wU6LCu49lZbbGGhlgxUOUQnNaWhOcJAOg+lnZcvOmmxve9Z9GG9Q0mMpNpJQEQoLc3v/3ng088NXL4wCSXDABCS4RQW+MCgDUoBRLi2Jg/Nh5IwYjIWN3e4aQquA7ZwEBx86aG2jpvbDJKxmUyKYy2M7IVWxcXN8+tfqwn+2hPdigflULTmwlPjfsm1FUue+J0NozMWD6q9fjVs1KRoSrXmVs1tbODDhMI1Wf4IBrj8uBI6dBoOJSPerOh0uRyPhTqwVz0yacGPIHLGuKRoXSgI2WL2ihjuseLmSAKlYlJ1p9XgqDWE08OFDK+PjzuFyM1v8YdK0QJSY1xwRBKERWUtZEJzYztW3986cersPqf9/3rzv4dz449e2D44H0nH8mp4jsWvvuHwz9+aOChzonDcYwvr1tEQK7rXFd9bfmHEqTExLz4PIHCEC2tW1owpS92fXH/6P7d3XsKgU44iaHS0IQ/8ezErhQkj4wdHc6NJN3UeC5tuKrz6k9kT3TnuhVJYHAgfWAyk76x9frHJh/fO7avK9vlMmdl/fIIIle6K6uvAJJxJ5ZXhZ5ibyn0X/qhLhG4E7PrrzL9A3D/AzQ5oYLAjIyooyetVtjR7h3vokzaZDOQyzkd7YIiOzoKdfXoeSjiRESJhG6bBY4DAKa5FbWi3h5Kp83QEGgNjFEYqkjho4+7E5POlWsFWa4UpLOACH5Ak1nKZiCKAACKBRkGVF2NowM2n7dDQxCLsYYGIJIj49A2B0UMACgITKFAYQCv8tsUMgCUFa7b3Jrfvs1GERkqu7TIgFWRGMuYMs+etWSMl6qA0Df9p2PzFiSaGsuB8VQqpmbPRtcFsHZkkBimrr225X3vr33rW1FTrlCSiRhKqfu6Jx98oPDUruDYsWB8wvU8WyySUiyVBESrAlOKIJG0hbw/OKEcB7kLANxxmOepKBrqOZJatNCpqw1GRligUQgAhJdmZb8E/YUorBOrvv6G4sGDOpc7m15EOqTxMRoYAGuZlEDGSSVjlSlEzGeywoslFi8oB6EH+TzWNbDaOgDQk5MoZeOvvaX9gx9puOstQKQzWSBgUob9p9OPP5re8VTp4L6orOyNAbJufT3nTDJLWjEvpnylxye4EAAgkBvkmEwCQHT6NK+t9xYsiIpFUVsra2oAoNyllwiXVu+2tcRuu63tgQf7f/DD3nQmSufVsZP5PXvHVYj19fzEiVyuEJ3qyaeSTnNTnVY2l4uuWFlLRNZa0pTL64ZGhzOQEquqnGNdue5uf2Is6D5VCIKokIsmM2Hv6cJ3vndqIh20tiSjCCJlJsYjhpCeCPv7iwNDPhAVC7qvP3Akz2fV/gOZogr6x7O33NrW2BCbmIy6TxWWLU5yjiMTTj5n0ulwZrQrwLx5FW/77QVP7xj58U/683mdzUbHurK7d4+HUT4I9O7dYxPFaN+B8aoqZ/Wq+nw69AOVSsU45wKw5Oux0dLcOV4yKQBg3tzU4GCpvz+cTIcnuwuRsVrbdC7qH/S/8a0TpUAvXlSVyYTFggIAIJNNhydO5ibTYRAoIhgZ8b2YyGbCvfsniyW9c+dYTXVqwfzK/qFAK5NKSWtoYiLwQ53JhEo9d7vk1QFD+vUltR9Y3fRve4bvPjT+aE/uwRPpnUOF5kp3fWtqIBft6MsdGQ+W1SfXt6YCbVtTzoamZPm3paKeX+kur53auL1rSU1zyvlhV/reY5PbenOhtrMr3bFA7Rkp1cbEvuHiEz3Z29sqEMSJySAMaEF98ien8/uHCiqvm2Py2ZGitnTDnIpdA/nHe7Knc9HKhsScKi+vqC0VX1gTQ8TFjTFP2L1jhVw0M1uBADCvcd6fr/0zl7vfPH73N45988enf7y4alFrbctbOm5dWL3wob6HHul95PcX/359vBUBV1esmlMzu/xDDu6ymoWrW1dJJhjgxub171z6u8+M7v7+yf/SjkolkytrV1o0Y4WJq+uu6S2e3je5723z71yYWngsc1QZ/cGVH+zOdz81/LQfBFe2rj1e7Oru73nH4ne4wvna0a8N50fet+x9AJByKtY3rm9PNiLHeam58yvnPzr42GQuPVPdxTdeye+8U3ft8+//Ubhzl9q50x8eAe7glVeyoWGzfbs+1Km2bqX5C0AIaGzUdXVgp+YCNTbqdevKtdBkXR0tX2qfeFL/fIfdvYeCQFfXUDqr0mlFGGaz0YGDxnVFTbXds58Yg7paOno0OnxYFwvU3g7ZjB0bgTvuMKNj+tnd+qmncMMGbGuLjLGtraK6EgAgFlNJL+jqskWfXmXvCHJAFKmq2ptvDvv7Bv79i35fj8nndF9fbtculU/bysqgt9eMjUXDw8xzvQ0bbBSFE+nEosUQi5MxAKADP1ZXhxKZ4LHW1qDreKm7W6XTuSNHo0KBca4m0tHo6ORDD+X37XNaW0ypxJVSQeBwJhjXp3rD8XHMF61kQX8fAkNHFnbvtJmMf+JEqr09tWYthX4wNsbrG9DzbKBDZtXEBAUBvMreEQAAEDGn5T3v0en0yD33FE/1RPkg6OnJHzqsR0ZidXV+90k1PBz09GRPnIxv3Gx0YJA51TXI3bKAhadOei1tXnMjADjNzcHgYPGpn6vMRPFkL4UhIkSjo2p8bPS7d+uJcWfOXGDMFgqmVDLWcoTJA/v1+DjlcmCMGhlmypeeU3p6uy0Wg54TYHTq+htsqIAzL5USgptSyRYLxvdNKX9Ju+XSksRzhvPnVfT0Fr72jePW2LHR4Gc/63c9vnhxTTLhbd8xgo549pnhG29qWL6s3i8Wd+1J375lVkWFQ0Slkvn+f3X/5ttm19TFXClinty2feDAgfTERHDiZGHpUm/f3vyOHSPLltUcPJjeu3e8viXuOMwPDDl88eLKnU+Pd3fnhIAli5I/fWhseCy8YXMinQsff3yUS6erM/Ped7Y2tVad6isV8tEdt3dUpJzhifC+H/TOX1DZ1pIsbwO9yuAcl8xODoyUvvb1Lsfhw8PBo48OjYwHb769XSl45plR1xUH9qdXLK+69ea2/oHi6Gi4YX3dnNkVQrBCQf18x8htW2e3tsUZYl1d7Cc/Hdi/fyKK9MGDk1dcUT004B/qnKxMOX39+V07xxjD2XNSJ7uz8+dVpFLm5MngiW1D9bUxzsVkNuzsnLzh+uZiST/99GgiIfYeyG1YV7tieW3X8YyK7Mb1DdVVbn9/8ZFHBoVgK1fUvUTG9SXsLsZcwTa3p65uSGYiUzB0a2Nq8/xKxnBOtbux1XtmMLiiKX5VR4Vg6DJclnRn17uCMwCIObw9JluqvYTLASAm+ZZ51SnBEfAti6uq43J1vddUIVc1xba2V8VcvmVB9byG+LpaTyEsak6sbkq4DOdUxpa2JVsrcEFtYk1Lckl9/OaW1LFctGlW6g2zKxlireAba+OtdTEEaIzLekcuaUg0JWeMRJgBNCZrb5p9821ztm5p33JN6zWNyTrOuOe6N8268baOrRuaN1THqwTnnvCu7rgqGZuy3ipjySsb1zYlGhkyRARiS2oX3znvLdfPun5O9RzBxNLapXfMuaMp1biq5Yo3zX/TlY1rE07lde3XbmzZUOGmVtev3jp7y8raFZ7rrmlYc0vHLS0NzVVO/JaOLVs6tqxtXJMSLjLREG/Y3LKJCwkAtfHamztuuqptc0Ui9ZLPdCmBms1fZJesZCNjIltyrtnsrVjBHMnq6mHtWpvNY9ssd/ky4bkoZWnObG/OHHRjAACeBx0d1N5eTppAIeyiZcVkSoAVV1/FEgl0XWipc2Y16YWLdW2tM2+eu3Eja6gHY7G5Wc+eZ5FkRztvag5a2tmC+byxiS1ZEra0w+SEWLWKL1wEnJMCWLGE1dch49bz1Jz5Xl0tq61ENhOMBojenDmWi9P/8SWey8tSKfPs7mBwsHL9Ju4iiCKrAAAgAElEQVSI8QceNGT58IjX1lb7xjeZYqZ05FhizZrYnPkADBmO3f+T1NVXxxcvIw2yrTF/tCv/9FNY8jPbt6dWLLWFfObAAVFby4kmH3kYHcdJVRireaoi3t7u9/fld+4AIax0orGxyYcfarrlFs3F5EMPy3jcP3rUvXJd3Y03s5HR3NHO6s1XxxYuMlGQ+eG9YGxqdgdWpV6dtJHpfQUAsq5eVFb0/Mu/UGYSwiCzc6ff2Vn1hmtFa2vusUeVNkFvrwnDxt/6bTU6Hg30xxYvji9ahFxQGOZ3PyObmys3b/YDnWyoL+55dvSnPyXBi7t3xeYv4NZktj8JyEmr7LZtwdHDNUuWFo93Oe0d8eZmpU36pz91Ghq14FQoFp950lu0JL5g4dgjP+NVVWH3CZ5w6+54sz80SqPD8Q0bYx3tNggyjz6qR4a9lWuc6cRrr3jHvCAT1CuLIDBHjmT2HZioqJAbNzQ01nlcslCZzsPZ7lP5VVdUz52d4oyVAjXQX+poTzqSkyVt7cHO7OKFFWXLgAwNjZaeeHKorS2xbm2d58kTJ/OdR9O33FA3NmZ3H5hcvbyqtS2x8+kxLsy6tfW9p4Njx3Mrl1e3tMQPHckEhpbPr0CAAwcn+vqLmzc1tDQniGAyE41EemG9JzkvlvQjTw4vXV49rzUxgzm/YRQdO5retTtTWSWvXFNfXx9LJoTWpvNI9lBndtUVVQsXVkjOC8XS8KRpqPIqUhIAfF91dxfaZiXOluEdHw+e3DZUVeWuXlVbXe0Oj/g9Pfkr11SOT5pn9k6s3dhQk5B7909MTARbbm49fix34ODEunX1sztS+/dPFErBhisbLLHOI5nunsL61bXts5LIsX8yyOdUe3Ms4YpCQT2+fWTRosoFc2ZOYZyBtlY8b4st0sZ5EVrVS3RHADD2FavKdOlQJiB8NTNWrKUZCjF6BUA2AoMon8evCnABoS1W/YL6ZGTIGuTlPMTovPjZcxfRMCPWxssDWRUMjOae3mGjKLV8ubdwsfBcAip1d5f27PHmz08uXYquS34+6B9wm1pZamrpKO7b58yaJWunKi0Evl/a+ZTxw6pNm2RVlcrkck/vqFh1BbmxwrYnvaVLvbY2M9BfHByqWL/epDO5nTud2bNTK5b4PX1+z6mqjRvIjRcPH/KPHktdcUU5H4QKORifgPoGTCSAKLvraS+Vcpcun7HOAqAoUoODk/v3i0I+NW8+W7tOSg4A6uTJ7LFjTn2dt2q1I6UtFu3EKKuoYlXVAGBVKTzZLyqS8kxKMxUK2b37TCZTsXaNbGnR2XThYGds3lyIJwt7nq1oaBTz55S6e8JTpxIbNyDwwlM/jzU2eiuW+oUg7DxUsXo1j8X8EycKBw96CxbEliwRrkv5POWyWFeHrmdVmN/5DPO85BVXPHcWvKJ4NcwRqy0TrFjSAJCIT2fMpCg0nveioZCW6DlcIL5vuABHcgCwlrQhwYkIlQHBUXCMlEUgKRkAhpGVEhmiNtYCOhzJkDakjfU8/oJrcaCsFMhnmoCELJUCAwCex8/WZiOCkq89l5eT8i0R0LRK3VMBgue1PAwNIjhOOfscjLFCMEukFLkOs9paxDA0ibjQmrS2QrIzfQhSMEDSSkcKYx7Hc804p8ZCZSXH16+a+X8WBAC/BDH8ReD5c/kypkAakM8so+ArBassMkWKyBjmusgAGC8njJhAoZRsSpkRkJ1enIWMQcbOkh2ZyDBmrTZMsrJ9ZqOICQGMkVLIOTAGRBRF6DgEYCPFOEMhwFoqU5WQBUTrh8x1CTRy9zkJvWQ0IrwWbDsbhqg1uA4wmrJBiSgMgTEQWM6aJmuRnQlSJksWzyu2ZxURI6WZI4ExACBdjowB0hoYt0SMIQQBuS5jjKIIEFHKcpofExzIkjU2nD5G54GMASK8xFzyr4Y58gqCLBHRSxe5tcqyX60qcReNQGnvNc9FexmXcRm/YiATID+Pjoi0Xw65fbmwGpC9gPOJCEgDk1PM5VPaWiErx6Ve+I1mHGef6Nw3FshesKlEGgDLRl6ktVM2R0z4/ODT54/OtFMv8P+vGl5n5shlXMZlXMZlXMZl/OrhwrwImUxm1+5nyqXILuMiEATBocOdM5WK8voF2WgynY4u99uLY2x87GR390xR5rxOUSwWB4eGZroVr1FEWodRtHffviiagdyT1zV27dp18uTJmW7F6w8XYI6ESvf09v7tZz937MjRS9egX22k0+l//Zd/6+ntm+mGvJ5glX1q556vf/M7gwODM92W1yK0NtbSgw8+dM/3/0sbY8LLyuNlwVq74+md373n+zPdkNcomIJsNvuVr3xl+7YnLlskLx9E9KlPf/qBhx+a6Ya8/nAB5ggj8P3gmd27f3DvvYVi0UTRL/7NZZyPMPD37N3zkwd+oo2Z8QrXrwuY0ERW3fujH337W18dGxsHgBlhWH8tQ3DI5zIPPPjQgf37ozBi8rJc/QIQERFlMrnvfuc7e/fsmenmvEZhEaIoOnjw4Df/8+5sNkMzR9/3OgIRdZ/qObhv/2D/wGVv7oXiAswRC/bEiRP5XO7QoYNRGAH9KoSCv8o41tU1PDj41M9/7pd8Tfpy4M4vhAErAYaG+oeHhorFIpwrBnoZZ4C86/iJXbue6u7u7u45hS+dTXoZAGQJCJRW3d3d/QP9mWxmplv0WoRweE9v78jIyNGjR/KFjDKXHSS/ACYyluyze/cMDQ8dPnJ0dGgUAKy+/Pr0cnEB5ohfKj3xxOOWaHhouFAsAF3OXnm5IEtWWyD45rfvLhSLh48cKfklXi4hcxkvCc50d99AV1dXsVDo7TttjLmcL/p89A0Mjo9NDAwO7N+3n4gur4AvDUIghFw2233yRF9v7/YdP1eXN7meB8bwiScfLxQKe/c82z8w4jiXzdxfgHK27PHjx6UUx493nR4aAADEy3L1cnFhqUQVlZW33Lpl2Yqlw8MjrWc4WC7jFwOBACIVJRPJDRs2rF6zpvf06crKSg9nLKXqdQEyZIjv3LWztbmttrp2//4Db7zjlpqqhilqgcsAAIB8Ia+1vuXWW3O5HBccEZBf9rq9FDhjxWLx6Z1PL12+PJ/PP/n4tq033Yrssg33XDjC2bBpU2VFKpvN+r4fi72uEmhfdQhPZLO59lmzbt2yVUpZJsojEJeXqpeJCyGJN+AlYsjE77zjHalUMpVKsdc8++RrBIiICIyz2rr6UhB84P3v91y3IpUSl5hV5lcABBD4QXtHx6orVs6a1bZk6VJHOIiX/UrnEARBbXVNdU1tZWXFTTfeVlNTOWNVcF8/KBZLmVx21apVNbV1mzasXzB/PrAXpkb8fxkVsWTBL33gA3/Q1NiYSCTkpWTk/NVAoIPFCxYNDA2tWbP6qquvinne5Renl48LUIdewluyaFHn4SMI0NrcEEYamSVtDFgAlExYBkZrAHCZQBejSFtjEfEsBSQRuSgts8pqxqXVmnFujUHGiMhDqcgYMoxzIiJrGedGG0SIeW7JD7iURinGOVnLuLDGuEygMKEia21cehFprTVjnLjh4KCxhgEZwzkSktXAkFsyHncMs0ppJkEaGVmFnBttuBRWawBgyIEbDlJpxRmLxV6YMeaCgIgIuHTJws7Dh4yxHbPaTWi0r4lFoQYiEpIJK0MbAYBE7sScYlACAiBExggNI2FBS5IMMSJDZAEAGUNEi5prjoIzQ9GZilBTp6wWjAsSvgnLcRee6/pBwJmwZCRyK5gxERC46KAwgSIgQkDJhGZE2hBQIh5TSmttLRlkjOzUrclal0nDjNa2PJRMCKs1IgNhXONGVhmyqWTiIjuNoWRi08YNfCf0Dw1dc9XVjDtRoABBsQg0J7KJeCwMQyJDTArGOKEPvtDSAsVibhAFBCStNAhkyQjFtBDIhMt9PwRhGTjMkmZKGqnQMs6ZJktkpXaMy5j2tWFCAFJMusWSL5AboWM8FgShBUKJHndtZCOm0YK11nNdsGGgwHEdImCaNGpryGXScqMNWmskl44jokBpMgTkMKm4RsOAGWkdzSyB9rjHxMuyKiorKitTlWPj45zzjvambC7vuB63EFmFHCUJIFJgiSwCCi50ueuY4cxhmjRYTxplJCBqrZBzYVE6OtDCGgNAHBlyrrVCxgQx6YmSHzDOjdblSQ0ITII0DhAptGQtY8yCAYuMcwu6fCNFGgCQc6s1l9IoLRl3Y07oR5aBNUZyqY1GZJaMRCGkCTQSMwxRGieyEXJutOZSCgOh1Ym4d9FvRNXVVTffeOO+/QdiXuzGG64vqlBaLlzhR6EkbhGQgdFkyXAhPEeqQGuyACAY00hlIXekkEKEvtJcoeGCMcUUag5EnucgwzAMLaLVJuZ6QRgiMg4oPWlCbdBoYxzmEIIyiiNnjDECBYaQyJDLHIOkWcQMl66AkELSKMgxkjs81CEZRmQ9z/WNj5aRtYlYnAwFJhBGGLJuzC35PnKUxKXnKBtBBDLmvEz1qAM9Z+G8poNNgR8uXbI4CELt6xA0WcuEQG0lE4GNEJhAZjlac25RssZwIcrqIBGL+UFIQMg5TS0RBgUxFEzDlFQwBohkDAogjYm4VwiKYJAxdBw3DEMmBGmDyDxpfY1kLUoQVmqjCBERJXDmsDBURFYKCdwqq0BzPCNyiMxaE3e8yJbVBCMAxjkZU9ZQLnMiqwgomYhfnFABQFWyEgBqamo62torvGShUHK5o5kympgQ1hgGjJCICIE86YY2tBokCilNYJjRBoAkF5KBrw0gcsGFwdBqFGC1dZkDCJFWKDgCSGKBicpmdLnbAUBycAQGVpzTsMiILBMCjXU911cl0IyAzmpY5JwZ8mJuMSiBANc4AKistmAZZxyQEYvIWGs87hBAZDUAMY7ImDBMW+PF3F/e8LoAc4QMaWMYIjIWhAYRBWKExJEREDFiCBYBACwnUhYIyosFEgFjABQEATjgcImAYC1njIjKfxGRBIAhRgyIkAgZAyLOEBGNslEUxhhjjCERY4zIMgTLCYEjGsZQk2GAjJUJgjnjZBmANYyxKIiYYJwLAEIAEmi1ZYyhASuImXIzEK1lU4TnBJYhRzAUKN91JWOvTOkTsmSM5VwEUQgIQjpalR8UkBhx4sDK5kCkFAdOCIhgySIhIilfWYdc6aChct+Wg2E5cWLAEQ0ahgwBLFkEIGsYMgIgAaEfeq7LGQdLnDFEYoiEIJABcAtkOTErEBRjzBIBB05gEACwWPKJiDPOGSMAQChfljFmOZGBc0N5ZljRcMtBKRWG4UWbI2VoZQgYQxaGoRuE3HMR0AREoBigVTbSxlrDEaTrRloZA4YiKWUUqSg01poIjee6kQmYZooijEmrrNaaNMViYMiowBgGRBTjXIHRRoNB4VGkyVjSQciRKRDWUmAjZph2jbaGCMCQdQVIZorKAkkutTFhaBigX/Jd6RpGUaTIApfcGoiiEBkILkIdKaMtEZGVMUHKaqMRgTukoggIQqFi4mXt5Vki0kRAWqkwCoXgDMhgeWYBMSKgssBYImDALLdAnLiDTDFNymSCyHHIcRzGWLm6jAEXKGIMABgiQwREQCLipMtzh4gxZMj8MCBrYyxOZdGwwBgjIoYMGRJZBsxBFqHiOCWxnDG0FhmUIt8KAgQg4JwBAiBMSSYjQxJJgUEupGUWCICIMeScLKDVJgq1F7v4eoRWWQBSKgzC0ESaJFhFOjKKlCMkA65UxBA1KIvcoFGRIiAe86zSxlhrFZAm44YmJEWAlnsORaBMyJEHobJkjLUAlgPXVhmjCcByjpaHJtJaIyJKLYBbYzVqBx0iVCYCQLIkXGGsMREZUJxxbZQxBhQYZh3uGkXGKoZgtKGQNCnGue+HiKiUiUgLIbS1Wms0zKKFiLQmpZVGinsvS66YYCYyCMi58IOAiFAiakKGaC0wsBIwAgQyaF2UIRpWHmIAxhCJjNYEYI1FBgyYLS+w1iICGmQCiBO359YxxhhZQgZW2ciPXNdlyKw1DBGsRSzTdjpIETKGFpEBWmSIREScjDYIhIypSCHDstwCAJwtI8XQgMVy88oOVmsRkQFYIJKECouFguNJh1+kH6hcEUVwroxVZJABcULLEA1aiwDl13NEJAJNpmxyWbQaJJIGoFKpFE8kGJeIFhERyHLggGSBIRISICCD8gS0jDixsjliLQVB4LiuJa5JoDVsSocyKutTa4GB0gotBwYIeFbDKqUCpVAgAgMNlhMiABFHVh5Oywg0McbIIdKIBAwZEUjgmpkwiiRJAb+slrwAc0QZY4wplkqMYTw+tYkonPOu4L7k4mCMYQ46jnTghQdbvgijuTZGSicW817Qm+pMcyG68NwWlGu1xDxn+s6InF5Z7cUFTwqey9tXMIdIaz0xPu5yGT+zC+s8l8/4paYBAiJn7kvFlL3ogAouvJgnGIfnjVq5btOZ27/AFfKFIucsfuFeIgYJrX8p0rxIG8YQEIw1UopkMlG2GLlIlEuvMMaSMkZECIwhcs5c5pIlxhARhRRhGCmlPNdxXIGEFoiVX6ekLGtBksJ1XUQgAM6YlLJMJlYuFySZ4JIjAmNMCE5ACMgYCsHLeVHlG/FUggjKV3aEQEQ/DJVRqVjCkbJ8ChBc10EEBoyIHOFAWT1zJoUkorN30UpfwG6UIcYxl8sVikXPdS3gLyoceE5+uOTkOmE64oy7znlzR54vmdOlzoHplacMY79YNmLyuU3SRiulSFMifu5G7vny70wT1POmtgBrzC85L5lkURSFQRiPxaxry/7EslSUB0tKwRAtWM64R8xxnLLAlAc0l89LKYUUSaf8aMgYOlJaSwyRyioWARAYISJKLgEBEBmiRYEMYnEPyzLmSkJigEAgUSLBGYGRNGWEMUeKss7O5HJu3InHPQAEIIZMSmGJcOpFChxXAgEyZIg8mQQEBEQkIZF8q6IIXp45ggytMZOTk4h4dr2Ky/Okwpm2qMafr40QtLHCEeICgxSJSAjpuZ4oS/L5i3rcOdeGFwywLfoBWUrGL9jJ4QgZBgG3/KIVa9mjOT4xUV/fEHs5/Tz90aSITKS0dIR0HPkSscPnzYWzhwTGmGQyccYKuwCLSmqTN9Z1nOka9jkNOKfc+XnzlBMPwwheiSzRC5CS8tLAf4ltaSGkYy8mWgIRhZQXV2UKARzG8aKcuqExjuu8dImcC2wNImP6Yq8nJFfmIgPuHOnwi02G8rhDFzU/iYH78ta+F4PDeTkpCQA4P1dtkZ0tKAXAkJ0VjanBOlNfijPmcjm1oQAMEDicO1U+QEQ+rR4VIvAzI05AyuikJ1/gpudL1PSP5TZIIcovYNNPna3OiOfmPT7nypyzyNDLD6y0CAynLkhE3OIFLf6I6LqucC7SzeBIx9qLsTgZcE+6sfhF7oRyIdgvzQ5NRHD+GE2vxlyWirJqQsTzxg7BcT3G2JTj6AzOyhICnFuvEOCsZAIAgBN3bAiMT73X4rRfcDgvLursKTzzPu84jrTiTFmuqVP8RdZGfu6miAgedyP+cskwQqMZY47ran2R/Bmc8el18i4IUsiLrs3pOdJerHbk/BWooEoEF9d2YYVgwnUvyjeDIB0ZaXMRdcqQoXPx1c1QOs7Fadjn4AIu8f8T96bRliRHmeBnZu4Rcd97+XKtzKxFVSrVKlWVqkpdWhohCe2IFmqB0AKikYBmGXrOzNA99PSZhuH0DMP0nF7mDJw+o8PScAQDw3JAC0ISkqhCEpJKO4LSUvu+ZFVl5fbevRHuZjY/4r59yXv9PoT9yZsvwsM9PHwxN/vss54GR70cf+7uFopGiYPU+9Pw9EVhVFg2CP+9sG4XK5JmQQrnirk5FdZbTNnGBqeZOtDUnACCuVvRR8wwnuEczaX6t7tzKaY+gCe3yW1GYMapK1VVZCtjwXE1Kupeg6tbsfHM3fUfFCNIVj6hCB4YKNr3zKz3ixWIQiefyRX1GD4XKdyonEBFx6dexStfJtWsOJMJUaEqsRdicCLOVhIb7O6m2pSpf46yWdwXJveitXmzTLPUEqhsAq2ImeVUMkocnoq+EACQJ0tl+6l3lnKeYgZPJmWnSQDZvCvqQO00pVTMZ5pcy9qsbmk0U9g9B2ZWIpgCRR/CzEapnaEJhUPe3ZMVMhdPNeRsdd0mAuBpuq+c1XLOCiuLVkqWFEXjyj2llMoWBPfc5b1ZAncSyz4a7XI9m3rpljdKuUewF5RNqXxFyq49Wn8S6VSJejRdYXWmmor6yOFt6rz06NtlTaVqruY8C/+sTTn7Nhd3S7lDkTWKQKrWFul/Du80aVvYaUn3ZjJOofZ2pZvoevHw7U6/R06hyEMEQAXsKD2K7CgVFbYnm8Uih4tUIq1Q6UG/hxju1jD1nCxGlk3GGyk9P24SUxEUk9jOEqBoxXsOELWwXjbkiYcd2YbAXuXpHPWhB7OhUO8SCVrK10lEZecbIpLIwWY9xe507re2TX/9mXDrJ/KLXiivfG1YKA+12L5epVTadhE202kpo9Zk4h4XG1soHEA/C7Z4XjznZz7z18tfv+PgK189f/XV2DiM3L3YxMHM5XHXxaO5t6ZzmWsaAFacaCtnA/eJ3sIyiPtpLCLKXoRpAAhBZRrQyIr0MLiq1OGyR1vkFNXXe0GSQfbtZkTwPpymaHQ2MYQqUKl/ZCfRUqd3U4XYlBpOZ4AaBRLZObaoTfaxjz38H//z1z728YfzRj5QN5+RIcTVzQQcQNPmn14T/YfIQe1wpcJ6jafotU1G1oLB1cRazoN+3bn2UpMbE9WhqicNO91ar+vMuq5utbm6Ae733ENfv7W7YeCP/y397Vdhhhm00q3CQsVtNzOZAc02xTpQkWHFCk/bo0C6Bx88/ce/Hp68/aH/+1e602exsT+jxKr0JOAzLFi1SFOV71a0N7k7CECeZHa4e9LcZgBRAjN7kbnR3Qnw6X21AHoQd+r+AdbJDc2Y/FbtFLOlfXO3UK53llerlLuJTZTrpc1ZzfbcWYNSnaxLuS16EQDw4t0c6mY7GE7d/d4Hzr7/gw9c+7x7P/GXdw2HuunyrH5YArMSHI4yn0AkmTBidpvKWbhUCxcJRKXhgjyFEWxF4UYPdpRq6ilGFWLpa5pbWRh8z21TlmHH3bPNbBvBdusZEUB85IA0x6q/eSzgIF10MZi3nmdqjqE0/p+Fq6YuO/3XdVOsmEcKzcRzwcwZvONxwhVuqiO994HDl6alL9zu7XCTe8Xcih3ERFRsWUmz6DJAsWVlg7gBiHL+ETI680x6z6898au/aidPKjkzByucUABS0dGLQCwzoEf2SKYY1lKJz/ahiLgrhoAUVwqKHqui1VYS3Fz2HNlU9kAHFFasGzGsFFVq8J3UEYKz5nvvPXvqpD788End6HYlYp9tbhORq/gMEyVLXqWGm0rc3LpcBlgBYKplOD4AQZkmVkjY0R+1s5s5Upr0ZT0PXTtN2g7TaFQIrxGWyeHersPV30a+nEdlZl4iCsyZZ8yYSiFsVYYIAF1wnP7pW/R7fpC+58182WUAthLdZvZC0AwAQs65LPojpa6Yzl4ZGZNuV7L7jSQgbi694sK3/US++9Ib/pdfkv2HSDboOrOoI5ghWaaZpTYXDi1gFuT7lOKeR/pXn8r4qp267+H/8l/43LmUurKmq5uaxSIt3dxz0noGk9KeyBTVm1q5sxcA4O71FvqBv29xuEK3pdM4rxjD3c19b9O2FYJRCAaPpYFz/Pc0zYgvu+zAz/0P19zxzQfe/e7LFxY29jPNek7pI2t6FzQV2ag9UyrK9E1MHERLzVEOn3zp31p6ck/E6lcVEAM04RRzNc1kQ4/7VNV9Yj/3RlHTSTFJrm7k3rJEELu5qo6GbTM3te2qdyGIzchZ7ma2vd+bmC84Xh0+At5x3dCcQ2lwY1azXBgYZGYZhcwYplknVpE5MFoAYGI379lLNt9T13NvfrM98Y/lqqsK2rO7FC8c7GRUeA5yfNty1TvcYMhPPtE8oscGaB9/NKs6cdkBmEFM5FKCK3K3nLNlk2/7Br1epqFBM+uJGYsrI6K9sLBOLcV19gHCZJiZbm6DFAcohiBEeTMr0ISVWk94uPfSNPKa1172opdcMj8fwmZecyomD+iFA7slIph6saGimErcYcWBvlQOD4ASwgRm3nFFvgJP7OdmMtTnb7M99US67Vfi6BF61b/F4FgfN1fW2gkjIDS1uPO38Mywu/6Hq4PHx2XLgFnuli2U4l3WP2Y3g+/fW+ofT+UOYKKdHSh7Kp2qmXZtK7IbqpQWF2Vxcc9rN7NiZ42SF2uKhJmAmZZsDc163qpIKNLgjW/KoxQ7q3/kTVD1e+9cuvGWA9NXTUwgsrKxQSQiyQrV3NIz8maZQh2pY8BsENpQsxepBkzcxLpsEhKoplAWVBKbUIe451BWLz1wSxAujcqpq2qLrjCpNFztPkotYf/+bZQkcdqbNIGmIoWqcMWhgIpjVdQL9T8mbs4HjHD3Tz909r1ffeoFF8792M0X1Cv7KzMmj56wVaKECW0b7r683P3V+yu71weV3/UHzQt+VkIomV6OinF2eakRioPdUgH4cAl3vs/uuwfk9Dd/4i/70SBVU8fBeiJn1x5HeF5KJWJamK/aGQIyezkPo8aui0YtFU+sMm6S2ETKhZbmak52Ij07r9RUtRPToIGJWaq6Vt11j+tn5cq7uLuNOo5GYRAkhM1zdjKHP9GgHuwCn99dmjoW71SxrkvZIoH1kTUTCnE8eox++J+xZtV88hd/4cDJxx+94JL5X/wFmdvH06RQVrNY12V6LoEqic1ufN+7la2p3hMHwhR9Z9lmjC3WzspiStwtW1dWu49ZvIoYtHRW2oxtJZTSClm2XApHyFk1l5YdZ9/YoVVmwx2i7Q0+Y1SLZZsxskbdss4AMiiN8zY3PZ+T//Ry/rUvPXnD4bu+9uh9jy2Nes8gAFKI72IAACAASURBVC87GfZlzqt0eoYYHzUsnaIzJzCYs6411em1PbdzZ+TLv3vwT38i3fq76dSpXW9WDE/CnWqn0ZMkAzOomq0bk+5oH3+8vePz1p4+73bSJitGbqy1aQYoWzYtjioCPGuhMpVHVgwCyyupNyeRVQPDTrgxoPeFq6/HZqnqMyf99DIANevWRyRNHvfrSJqKKTfbLpfx2aCHfO05tcOuQkRh3z4+sKhnTp898SC9/doDjz6yfOc96KZjLRJmy0kKXU2eXLWIrKVnBZvRKd/LFAs8Cc1Ig6ZaSLXkQC4/CbmW2v08mTlmQWNtK8UQPIeXAafRk2WVfrxdVrGs/rU7Tv3O7913/wPLW686z4C9BQCQ0IyRNeo2C7VuVQxQcGQ/z4cORKe7rtl36iydCljL+jUVj+wqlLWfnecHSHKkei7c8la/8mX+3NfztW/rOLhPH5LtwJlv4pm7ccX1svR1v/9ru90cI657C1goM13//QDMkbL2bEZuHQB/5Mvywf+m/ot/gY//Zx8NXXdE17p7Tnn29W8Wr4d6gQI3ljZlt0RF263NMKMUOnnpiZYaggJtt/bM01/4wrd+/Efv++X/vX38cd8UkUc0sf/Lcy6kiQMQmcvoyLqsmmdAfJUKERFxvf/QwvFn3fmeTz521zfu/pc/+8Cv/MpUD1GzlNWKXMQOaM7FKXm1zyc6s0yhjvSjc5ZKiSidb4HevuAMKOuxs7VIMjv53iNASUusIw4ks2LqJ3dD6aFqFxq0p5889d73/s0Tj376F//dX37zW2c2V6pWTK04rprITWYMzykXRzcD4cR5P/TCXPj3r74sjV7+zue95Pi+tewtU0XW9LJqK+BJFHcSnjvKL/053PyTtO/iPvPf1H1MRNWzWZi//MGc99Gx3cCMFAay76Lwxl+il/5ruei5qw/oybyJK7jbyScx4O4t/9zPPAIdEe/oIyMiiVJ6EFyTPTnSFUgdA8a5jKcWAqZIaDSDRCUzNdsZPqWavva1B773DSf+2Q+3X/mym40efPDMrR+68kcujXjiyd/49RCjqQFw1TNf/NITP/9v8198FO1EMVwiUk5llq3Md1AFwQyQL2DzBtlOGOZGADEfPHDo3/zCwbf+GF14+PqffvVF37hj6f77c24n3HWFWYjqstQz7oAXU8qWrB7byTQp9EKY0VnT1MHLIqr7TJtls5dQhViIHRFBtffYkUKwEdBEKYbX1XVVnKcyyo6dcOIpHQ7t7d9/6D2/kYfDzdbFKsRUmpttVZS8D/ooztJUBmXtg4JmoYakCebL847MHW3ifC1hndLsAkx8+O83ZV45Wkyur5I0Io2rzw2qULSK0QVHl276ab/slXPHr+WDxyapkQ4e7ynFhLiumsFgZXgQ8QXPzqMj8qUv6ZUvpaoiz9iZuMUdZTmM1ksxxrmX8kjUXJ7vxtzZuGwqE3hyGyMHBhMxbe+scbWTJ+l9f3jh644unWke+eAHL736mjgYVHNHTt1679GFfXzsOHzMZzO6//78//3+wtJDow8/0oQQXvXq87STqAqh+OuEJhSn0KuqapY0sW6+fqmcTjkQjsePXfBd33Xgto8t/9X9J+f3P/vwYT95WvcvSD0RL3AIUc0L8pox82AwCEWBvj3uZE+wI1NUr5321rPi7ERdl6dG+gAA3DxbqqlEI3H3NqVBUYwoZc85AzPlpN2uTYXltDMTL2Os6rpUxaoMBJc1C/G2o+WyS/c///oL/8//NHzzm6+64or9m64mzV3XYX4mju0wJocsJJxmkaYInEZEIlJsGmehIBOpYkcWNm+65j55mrRVcOBqivmphIRCil2XqqoqiDDUxeNYPC5T0aiTACAmER7m4SCM8Xp87Gr/vv8tVMmbAxTnd5ns3kfWlCJJ1z+nuGwjlRTrx4Erqsq0mcX5WBwhF0kmx7Nz5DUaNNeeK2vtMrEv7G8vveKe3/5IfeGlh9/9A1JHGhy+4F3vSl++ziTUL3rxKKWUE9BY6haffHJ0WV23pmfOnnf9cveUVUIhw14eZXOP80XrZOrqui7CdQPAbGdXIhiOHZ/75f/QnT31rAuOtV/4fPfxv7TveMmhN37vJOVVc5VDiapKZOZ5lMP0rN8Ob3MnsXg2rMkUdUslRCTCLKHTDh1CFbqUGaTkUUSE2za5Wd3U7p6TspORAjAidl9uhwNHElgyc2IikZyU2ckETYw5K6GzHJVcnJQdbgIB+3BpWHtlAgeUUqVR4S6oJGhScnggdhB12aKqDga1qbVdV9d12w7NtG5qhkElS4paZRgR6jrmVjObUFYLeYhzI50bSNNQXcdz7XKXuzkb7EFP933IvH//fgKyae5SVdVtTmzETlkSeTC4qHOUEKQbpZ6+lQ0GVHUY6rCy2mtfHrURkkMSjeRQdjZUVTR413aBxAkQVSU3xMghhNFoGBGkFjIi0azkoCqICOdRTp4Hg8bNu6ziSG5RLEPIjZXV1FplJY02PEfDYd6/WLEYgH37qh9+51Vv/CeX7d8fq+Cahm0CCUBhEGOXuq6bJX0dtFUOIJgazH0VBTIGSwAgWssTv7I3e++nBrm7eDrXpcUm9NqMAwxyWrP0EWj1nL16qb/NzCJntdi7C1d3LwKNqVA2VbrSHgA5qeY0N7fmgsHKE9aXIqAzLCVrAjcyrkWEJjecsoMIzGxu7h6C9IBYR58Lee2NNnUXE3qM99l2WFWRaIxLIICZ1Wz1pYjIxi0n6vOOjjuZLCf0YZnjGEkHwCsJO1bem3zlf0xjLhq1vNyOAgfjcaXEEg8d7ZlAyByElaYSEWwd9olA6qk1q0ryc6z/IOS0OqiIsMJws1IjVjyVvvJqfXYfdx+hrbUKK5Fuvu7VVho5/vumwQOCmnWjVnicLchWvhTGH2f8NPhKpSAndwcBZ5fTvkFt7Fi5ZCtMGZuiVtZ9tfGlRJa6LjYTddqoTQCCBFPNRtbl0MSuy2LI4u5aV3V649uuveZaGQzw3BsSaU6pXtwfXvbyRGrctGfOOMHNw3Oec/qf/3j86B/bi18RX/Oa5eVWmGMdVDWl7KKVVgpXSeKVGKSS5dGyACbRWMUEQBINxqGO2RI60pgbaXKX3ZCgTV3BPScjR6sJ4uhEDJkzGQc2t5DdQhReYXUkIElXm2RjCNUxDEftaDicG8yFGWj4AezftzAYDLTTYWprjlly0JjFREnZCc5OSghGmV0MxgaIGLLbKKscONgcP778xS8+/pv/4bIbDi79wSOnLrpk/oYb2q6rJDpg7AFqKhaSaOWOLF2wMOqGWXWOajOP4tmCIkcLWVyUTJzdYKKS2CL1llTzQDREq61JNVhKy0GjcgoWvWdwEYU7m6hkWFDpglZwMChJhoHAXdcNBs35++V8Mp0qJEHm5/cRACODpazEcDchzwrNZu4kSG0mhgezxCAiBiV3JjipGWWiQJ4dQqpCPV8NmbZq7AoOBBFYNoKDmAJ3o46IjMFk2RE0KivADtOkBmchy6bi4tHhzKwjzcFJuF8ohdhB5kziAdFYXZ1F2jbDDCCXkDr7wJ8//MlPP/zsSw/8+LuvOnKYmBhWngVqqxARE3epNXN3Sl1mWomGMCY3wCmIm3dtBjsD6iBBIB6NutwZxWzZmcjF4UwEcyODs3cp9+Enxv2Kx0zuBFMfeSawM5jchVWZyYk8a0aSREpCaZQ9AO5GLkRJWUBG3FrKOTPzUjd8+kn+3fd+88GHnnrFy658w+uPHTjQtKM0aKg+XhEoa+6yhABTJ0LKSrSDpXfyHhMyFwPXdaVq55aWV9m6+h91rLvcmdn6s6a7c0UDb5bzaNSOgoR21LVdG0JQ1SpWRpa7TEQhRLK1fNFVrLInTebuTdUsDc8BEFERGUg91NbMRCRwSJo2na3dXUSEpUsdEalmVXOCqfYp39jHlzaUMr7t0eHtj5264sDc6y/fd3RQjVLXdV2IoZlshhMTES0u7j944JC2urQ8nGsGatqlxMwDqVvqLPebnFexUtX+g85XcTllVe1S13O9d13Xv+B8PVgajbHJTCxR2lHLzMISJLSp7d+3ipWZqeWl4VAoMNDmzt3rqq44jHKbcmbmQWhatJbdzObqQWudq6uqmcWmOre0bGYhhMgyyl2vRDJzFaoud6oaYwwso64VEVWVyILQtt3Cwm6hxZNIrOL+fYvDtsspxRCZOeVkZkGCMLepJeL+ddQs5+TuVR1doaaj0VArXT2+m9lcUw9bI1JiNlWRMV8tgaoQR6ntp3+Msjwc5ZydwMRC3OaOiPqAu5QTM6tqUzXmljW7exPqzDl3SkSjdlSFGqlTN5A3Uo/yBidpr/owsVTSDttVlwcRte1IJjYpVSxrJwl3I0ttBtwDu6u4mFm9r6JbXmSAu3kG3NvUCTEQu1GXTAmUzVhp7pYX4VmXYf8B1HNInbJZymwQIs/BI6AgDSBXAvcmSfEMY2cjZ2E2cvI0ykbGEBjnrIk1iIhz7tRIA1My71IS45phcDYhcnNReBD27Eqm4gIxdTFJRuh3a8rETEQys99BQhxnpRRWcQIbHGYuLCCHuZMQZRgTWb/NmbuQq7ubZoNWxCxzR+xctbhYj+BCcHd1Z8BhZqJkEaIEcicNTuROEtmVDMhZjC1QACsbU2DzRM5KGkice9IdBoMDZCgKc4IYG0w0urgbENgM7NRBI9gZ5EJjBjeQEwPCrFYO614v0zlrNNu5c2cNHmNEWFHbdzEPy9i96sEBmM+5eIgBhCgOog0PCRAijHMZji+Ny9dRUcVaCKuOirB6DMW6w8f6U4iMTwWo67qu6xBWWrNyblu9uQ8Efma5/cRffv0nf6r7zd+gux9YOny4aUIFQnH4+1bJqqdPn25CXYXgIliFiBKCr60aK2fo8XFzPLAlMIOROVATqv627fo/ENG4x9dJqpumqjgwEfUXV/tv0Fv34rhfsfGzehWXuyU2qZv6z/78rqY58YYfk8+/7+Hrrzt49Ohi31R2J6Kelmr9J1CTQTNF6PxW4cBJlZhzTiI8Pz+HLUfAWAnWHQ1XzAAgp4V6LlaVptTUVW8AwPjN4dX4HO+OGmsIhsqD1+NOAC+klObnBn1F8z5YtTFUOyTdJFBdRwe6rlPzuaZejXohp6qOmwwqJ54cffjek7csnvujbzz63MM3XXIgShWaQTW5daQ/HJ8688ypU89IHRqXqorusW7q/swtkFV/I62c4Psj+3yMDpw5c7au67qKMQasXFpY72IjVHGFvIUoVtK/FIN6k8zcXNOP0wqxt5owaBCbZuU2wQD1+NAfIHCo2dLSckVB5qsVQxHFOq75njCuqL8UqrBq9wLIfD74jKysaNvu3Llzg6b2uuqNE1UVfMUIFOu4agSCA+jbSatmiViFGNc+KBNJAJF7N0IzWI9XI1Csw2q3s0jXDgdNA2ICIiJWntygwnh49MaSatwzCP0gVc11jBx59Wlhy1BcnQJVWHkFAICEoHnSYALX3jWfWXpZW6Cij2f6Kq1ID+7aUD4ECGWkIAzmyIRnX+YA3LfmkFpdlFZl0AxCbMK6StflO1t73wAhohWLUui3FGE286peu228Wm6wUa1sMb1EEKFxtM1gtvhRADh1+vTS8rJEmVsNFgkYr8yAe9jcJKK+B5GdE89Xc6GW+IIXND/2M/zpT/Lrv2Ph+us5yPzcYKuDL6xbrlNuQtiQtpCI4OIgIgrrfdZruycRoaopjzRWQivWvtXm9aWqtT+G1Y1p9WFz83vjQJhGHWG4u5vRqtW3b+IEbraxqkg0iM14/6XxP5sfstbda48NLANuGFvynK77NqvfaeMHI8CbKOuJBdeTYY9/MNw8CMUgH3z/yeHwwBVXgIQkhNAqaJMRtER8hTrT3FRoSzs3/HfD75WqmSmEwBQ3NX77/t/4dHcPMUiQDZ2P3ebd6mOJUHlNkYT52msu+NSnT3zpy8/ccstFR48OsO7LAhiN8unTed++MDcY+16bqlaalbiFQOQOdybadtDv6IOnfh1nVJGYNuBmCMD6Tlh/ae13FaDK68+X2962TbVADDFatwGOR9iK3Tl0oHJNp+1kJRcEIRAJkXZTwCTJQGOEIhGhMlnJ5bDtDHUihhuo38sIjqZpmrradC7c3ICNOuDqz5ojACZe0avXLvHG/XjDbwKc5uIgNowdbtv0301dV8Vq9tyW1CeKW89gQDvUuGGQEIAqVBJk04AUS/rxj+tTj8o/filfee2O78IcQr3KoiYbn7yxiZs/Yt0MXGj9uNptqGy8UkF8YuxIx2amaootc2TrYrtNGwiVhJB5LezCe4P39qe7DdZNIIYYmHdaFbeUXWseEYSFeXPGg/Ur1fpim54TQ5gdk2Q9+/gOTMebF/B1W6EgzIVmnLY9xvrFL7Gbbuam6a9y6nR5ifftoy25lvqK5psAiVtm7ipL4qa/r5uqwk3TbMIOb9Nj6xu/8mruiFwXs1evl6kia4TGJ/VCUbWu6+p6amSouY20CwgF4UTu1CZrxFb7OmV76MGlJ54aXXPV4uFDDfpVWejIkeZ/+tffefc9py951uKRQwvCPOySqa6pEjOI78VDLKkJT25uXatdPaWkVVWWmryzFEwiws03HfzZf3Xjww8uXXft/gsu2OBKGC6nP//wQ5/53GM33nD0zW+6ZPHAAEBKOQ+tiNR0TQQGU6zfM6aR5JpTRkGAj6NL5V8tazY7/wSr6/CuGy/66hOL/+vLF645umKQ8CkSZ2wiDFHeNWu2G0jg2psuAbh5p60PbdA0BSHxI+0ALEyfJsNgwzxCJ9VkUQPrxd27nHYyUH17pNOusRrrJ5Rbvudu/uD7/eUX2p/+sfzcz/cm7a1DyLKllKsq5pMn6fHH5YIL6OjRCesdDYdxYb4sb0VyzZrjZICbKNISgbh4p+k0KXRcnaXle+531cFzruTzRnC4d6kLUYpgmciqblYG+U8pZc17wyU9vRhsKY0ocW+nBBPFqh8/6eRJ+8xH9PNfp+9+Q3PLC2nLgubmyyOVKg+mJ1c18+FwKJgrylnjKXchcHGC61WZstOJZzmQuJkVrSA+EwbebWPhE8907/n1bz704N0vfemN7/zBKw8dWlOPnnP5/ssu3bcKPo9Gy+bqmD3Ud33qllCKpnBCVq2nh+9xYKA8nn61/4PQc69YvPryfVtDME481X7oo/f8wE8u/vZ//Jubblx4/oGmrzHrTNaRLmcmMuLeMlf2kEIaNAKt2BnKSk+ovL/4WftvvGhxLmCDeX9ifcSxCmV0AHGXBcVNlx7HiVN25OK4b9+4IiFtNdShjJ7H3Qq9mQ4zIytBwBER3BPP6q2ZIhexuZ88iROP0+FDdPRof8TfvCgRUdNgYZ6bs7R4xHVEUm9rWCUmZvKTJ8+9732LX/mKPf8GftOb6PiFk7SEiIoJDX0aJsFsRrRbtpqJalyJOz/9pa+c+O3/R5f94p/8qX0veTF2NpOMC86QxZuR2nJ+Jp986u25uLmbqa0ObCJh1xFJ88xtt537xIcuefZc+ycfGB07Prjiik1l+5DsQo2A4O6d6aBI/9sr/p4p1N4uK2ZzWrBI2Y5CGw2/UxYmFk6tPn2yPflMa+b33nUmRPuFfzP32c/dd/8DZzfei/WBcKHZjMDYE0ml1NRqFosTKtB5aNDMd0QBSdhkat5mFNQ1HzxUPfy1JxYWj1aDubYnaebSvWpFqhDIaUZ+iGJhFitNMATAJiNdFqb5yOt1kSw+ufa4iZW13bnS/Nh99P7/mf7iX9Cn/p2de3L178RcxjsCIEj0ojMKMTiQhS1jaQLss7ubY/bJOUW6hqce89//HfzWr9oH3+ePPo7tl2Ciiy/L3/tmfuJqes3bSJqd1suclJj0nnsWTzygP3KtHX9E77xrwoaYWVm2hGlFFFh5AVcv+MoMWvWvP/0HfxQPY+7q+tStt4L4vFnXhKV4j8seQmkfSQg+Q9ZP7TbMvmk7jQQiEjcEVBNJA4ByJiJZPJTZsd162BPuVmWkBgAzl+Ws6ds4s+kfmNZZM2NlIsJFo2QVJllSFiCOX/zayds//fWc973l+6+68spFy/L7f3Tg2uft7wEQO4llq+JexFNvlOKcNVVVzjZTxzrsqtKZOWH7uPlo57eLH7lg8CPvvvHjf/HAT/3ERZdftlBHAcAu1RY3Z4GMYxy/zTqJw1yL9WCHF5MQyDROUV/vxQVklwQjT301k8izb7RTQzp7FvuOo9dxYyy2TjMRF5Vl5ypUm3miLOuJh4mID1+MnR9LRFWMs8VsAZMQ6q/e+cTT2R/HWy/3rzxVP/UULr54W8sBR44vfondeJPsyrVDgaEmVz3HHryBPvZNvvb5fPNNE7YkhEClG7VAJicR9z5ext1My0ayiIzZ3lz3X3VN+tydab5qXvGa8xYkUGCZYa0LVqqrElFxhkIAvNEb7uZTGR3ZJUiQapvN7sj3fM/+fbDP/O2+N7+BL7l06w3CXMVYSkFO1QxkK3ErYKVIpqVBmwk8llInNVcFbmb3lFNdF2IQRsv5V/7T373spSeffPLUpz61/10/ePnP/PfXPXDPuZtvmJvflb7JknWpq6o91kiKvSZ5lDzwXBHSqm27GONORVPKDzw0mpuX40ebratAZ52oYNcDdGC64er9V156XVOLrCxeajpK7RxmC65hZUJxzppp5ZnlXFc8FxiElRwyJUKgaYne18rqFGxmq86afiXaxUotl31H+tYX8K3b5OU/SgdWcpird13HzHVdF9CgdTkB60KTJhZ1a9uOIM06Ggw9+zBu/z+yXM7Xfne4crcdWjXTzHnNJzfW8hVXyJ030Ye/qs+7Bc9+NoBBRdseUqmKAGPXSRpE4M4HD9P3vgmveRXVc5g4d6uIxFIVP5CcN63jqtgYDVpum0yqqooaID74rnfml92io7a+7sbzFnT4KLWhKkxB3qYsRNPvM+iy5pwzLJYSWG/S23jKN1DXLnWi1MhmJyYtLFSvfrO/7HtoMNh2dLl66jpquJn+3OZuo2EbLBTQoAHe5S5Ent2GPR0N2qwRJo44KY5qS9HSLVxbDWLXXrtv1A1TOnLsaGUBlx2fu+z4+QF0GkB57z0FafIc35vaw5DyVII7Upbn7Ld//qnf+K/3PP8GvO2tz7vk4oObCJUM4An2R2aan9swokhkxt7TTjnA7duR1crcv/no0icefvqyfc3rrjpSBzJNxdn3fGfn13lFZQrP+aqzxsdkDTvfuf/C+q3/3kcjl2qVH7lfMZmoQBcBEEIozlDovp42DJ5z/urn4/1fCpcm+8K3cOVv7VIwqzU8K95QJra50twc3vw2fss7VgsMO6srxXbY8G1Pt+ulTclyW8V5qmtMCe3POY9S21QlVNGtdNpO+rHqEFqMoz3VnAhT6+buAHnOS/c/aI881FxzxeD4JRMWLQDsr1Vrns2mD5lAFWTJnY1KtZF1YZtl5xgH4CHvoA5V1VYEa18riEhmSHFLBJDUM+j3e2EdmWKrsDwrsomYu9JktueVnLW33dx739Mf+ehjjz661KfG4IqZ/ad/+rlHj17zoluOvOw7j03udWImOFz3+FROVriMCkhLN/ddUtmdPDn6y1ufOHo0PfPMQx/4s8ex1eW58r+UNXWTpnQCAJiWphToRSoxEyfZ67TK28jZkf7S7Y+0+WsfuPvuB04OHeSQCWmqhzl/66nlE0vDtT/RdMjB9UJOk2dJW1NcVugXzvPwptmQq8EAUEGOD1s6m//uY+GxvxafNZZ7LCy8eJDm510dR27e5UYiCszKs9Y7FQQvTKWv7YoPC2AzLkuh57McCqfpsH4RcDciEi6xE7o7h3Dujr97+tf+r2fe83OP/eavdU88MXnZ4tckYJo1ak0sm2O2M/fatC1+CqWpcwob+swS7oUJXx3uKE6h1z9hdpliX0xumA1DK8IoBNqc30TRM4vcd//Zj3z0wc9+7pt33nX9D73j8iNHFogQgx8/OnjnO54DQjVN0pysxsI8G2HwVrHSs74TNcWQwyruNFCbJlx55cLtXzx36JBcduk+bDE5CgszPfDg2U/f/iSyvfY1x45esG+SSsW5mjmFXk/QLUJlByYKLjpZQcNiJfsWusE5yiwAzM3Nuiy7q7Du+Oojyx+659zFi/TO58bF+Z5MrDznn7HvAgHZXDs2RAXHKfNgkVCMYTrEseXcLfsdH89f+sPqiPANJ3HtD0xVKQAiijHGdSciYgrPe0l3/MfkyWfJc1543uJSDOtekVlWM6IdU4XbmTM0P7fLtiCBQ5bNpO6TSQgSiyOcAybPo9m5AeAZ0jYRUxXDyYcerufPHnrLSx767In2iUeqo0fdEp0vndMs4MgYCy12LMwiRruGyu8qaytnGbJJPMQQp/S2aDeSeh7mQYIWQQGIKNYyrWtpVTjuDZZ1iup70NlMOpCjLssZ2JNC7vTC7k8/cfazn3/ysSfO3nXXqQcePPHa1xy86+7Hv/LVU31pDg0RxTi136AJQaq9x09WpcEmMUyRkHOT7AJUWlwMN998KBBfdPGNr3718W3uINSx+q+/ddfnP/uNv/qrz3/i1ofa4UTnLJ15iGqnxu5wg2vRuwcNFU006vbPh59+wfF7nrzl+YevuvJgzURBuJKwiy7igAOPLHUfvf+pQX3isXNPf+SB0506AJ7BURWUJ4823BRZM5oyFMjdKUJ29uVtV0QwehqPfpYufS5Y6cEvTFVjLz2t3yb7MNX76gt/JFz/Mlo4j77LzFK0mKyXYjcTAJEgW9ZPXRrpbbfmj3yw++ZukTIGp8ClqENQ8bbhIU4MuBGFmbrZLobV8zzBCebxxhtH1VXfes8dR6550cK114NoG13E3ZaW85mTvkqrPwM6ktkLYUWEKsS4dzTc04qYiISpyD+G997VvvcPTv/+7+UnT3BFTRGunAjBY7HDJeDbDmW1PKu5PKtym+vB1Mdlcx+1fswVaQAAIABJREFUbYxh23d+8JGzH/nIfX/3d/c973nHX/jCyy86fvFtn3zilpsvuvbaQwDc0bbdoKko8LSJkbTVlHMdfE+yJ69KcWL0LmslQBH6ZnmUF+a396Y+eWL4hS/ec/bcoydOnH3k4SNXPOfQphtUczYZzEndDMmVYK37JJ5ZdqQ0k0VdKvGs7AabgopjvSTXLnfVZFjLmy5auPaCuSAUmNCnY/BdTVnuABYrOVTlU+1jRAv7q4v7XUY1W/aybNDGzhPrXpNH1mwrmi0Ns9RBIBPSDJJQ2P8sveaV+JsP2dKArnv5TvNKzz3C1T6qFre5pDYcDgFr6k2oPQKff4Srqhtk+sVkvcwShZ5zEqZqnUZi5vm+e+IHPuC3zMn77sB1v7wjDZp5l1JZoFxKKWmuJ+iirWKak9qE8L3MzizETMRu3tPwTFWdkrdte+CSS/b/zH+Ld/0oDh7cBvrgGRT0oYftwx997OknFt/wxv03XAeRNndSFdqlTTUrypTVUTuqqmryvMd7K+rWtV1kmcjG6RkUnvj9P1w4+Y1zdz1+buns/nf8UIphPTv+hGJmozSKQc4Le9pWutSFMKlfexeZot29z2KWbdndfXZCsS1yxzfOfu7zJ1720vzlL58+frx7xzuueMn9R6+9ZnFxsV/mvNg5ksWRpwdwnU/KCH4cMDM1iUUrsJmZ29bzHID7Hjr3la+eevnL7MtfOvX1byxvVUeIKCf90Xdd/Tu/i5PPtN/1iiv2DSZa0fYmtRKbE5mV06BNVxtZ4ADA3Lusrrth4voFerGS777qkj+8o776cPOqyw/0qgyBqlCoioUgOnEi5A2RNQSbciF1gpnRtJsNBbn6dTh+zWk1mXvW/u1uyd/4JE7dlvFsuuGfhIXDO9Revu6XMl2tyh6j1D1rVotdS/MLfuxIX8O2dwZhQaFthJlnC3CcVIJSB1AfxDQDFQfgtG8e+/f7xjFty8v61FN87JjU4eytH6me+OrCY08uv+/c4rH/ji48bmbF8Qudbs+NNIkQwN+O3t1RzHRCIJcl4gpSi1wSzz28eKxqPFkxvNvdOy+kQQNmDHIZyxRt72bDJAIIIhVpweF+dxq0G687+OB9F9/+hX1XXjH33GsXjx0dHFvPJkIUd3H07CrRORGrWhm3+k5SRrNDQF1FlEbWVDHs1IfPfta+K6+4+FOfWrj6moVrrtnGSN7Tkx47Ovgf/+X5g/TWC0eKpWCXVVEXB4XAPHMuiUmkWrF2MlEQmTC05uojcz//iss2/XGUKJZZRzq1iRfFDZE1jjClshuDhBBKNmYJcvAKGZ4OW7rIrYM73/qLftlV/Ogn/ch16fLFGML6RYsYIYaq1E1PRMVUV6vNTBPnk9um8JY9Q6owd8O19upXyRPPDF/3+l2WuTzKxR4QVd2dQGivJA6CjVTNpJQniYmJHDROS0RSAz1EltPjj53+8w/rPXctvv71g5d+Z7d4gV5YheccOvBo1as+MUQqfc0IyaXdS7xLaNr5RTtdb2BoU97MrLN77YIY4oQONa4EwMWvet2J//fxuauO73vlq7SutCTAGcxcVVUxDVoIYU8O7dPRoDk25yWaSojIciiwMhLRLnjSiy6ae/vbr7zp5tOXPmv+wi3huwRIqbpLTCK8t7rILOLqRTkFAGAXR9XRo4N3/MDl/+jmMxcen7v00m2StnNp3gqycjjnmvR7Ldx295v8PYi7FXNbuDvNtLJNXNGmFHnT93dPsFJWe0PbHKiIK9fsl98MPufzA28GgR2uWA/icZATRy1Lv8LMs6+Ak7y1dx3FSd3qxFH+6ZtBvLDraZGjMFl5OiTSULLpIJBsSfW9o1gymoV4pw9B2NJMTZmIn77ttsH9n9h/4BB98E/s0suOvPKVT73/1Jn7HrzoB95KR4/6bDyfxOUw5yCzsKCNfQirKUGm0kUAkLEQb2/E3qnGF7zg+M03wh0clpeHXGwWmoFhifnbHlmjrcI9TcZ7va2YWVd1BRPJ3HPO2NkPf2B/9cJ/dGT7DnVYQtkZjAPraI+CGMeN6VMiF346h+dRDvMlLzPs8sLOXAWHDzcHD9U7rQEqydXi9B+OjFLXYVeGyvOKsBKguThsdiaJpVHZRLRt2ZPL7Z/deeZ0l7/vqkOXHNz+i3AU7yadaH3CaXNVy6ASwoasuWtHUQbnpe7eKrrDMZQk+Et/Dl95r13z2njRVbTlFOLk2dLyCPNzJd5HVVXGXLFtuW/k+XYefegh+8xfo274hS+Uiy/eUHan5ZuDJeO4qzoizInKcnOKlEfWCCRPPItaVyJOKRUDKdTV8uYMmhIrN2suuuTkVw5X3Zfk8Gt4YYH3L17wzh8+YjbW/NzV1NzKWLzBXszO0OWuoiClaT/7yJrUdQWR8wCMrbNU5Wq6cb1CJKuqg0FJj5l713WDpsiW6+hSDmGamNUdZBoatFqYZWFh3tzbdghlriR3auRs4CjmK4NAuGLusjrGYdBGHoy6LlUxdilpZ8bODjgZOzlAJIHYSLMRyMjJEWpZXta77j576FA4cAjt8jgvkoAyOTu5UBU4tWrkwVkit10KYCUPJIhISYPzKHeptboNYINTGMSczJOZoI4xt9ndnWA9VNLJyYORCyV0atlNaY+w1iLh4MFDhrw8bMUQmtC2CQA7eaDg1LmykVSSzTg7B7ZsRg4iUhumtmqqrNq1yQliZCvptNipbkIaJo5IRqxwciOIkTMEpDl3y20buJbQpcwOI48hGMxMHXBwLSF3GYATXFCF0HaJ1NsuSTB2VnIxUnYA5HBCU1WWVbMZj9Ne9bzQ5t40cZhGxcCdXrRVDkSwGIVZzLxfxJ2MnB1una23jq7REAHaqjTs7jmn9cGKvZmdiFYtq6ultNNQszv192jSzg0tcWTrjGsmJxDcjUA9+RCAvjFYx+slzGo5ZY0WfbzteVYLQX7vb0/e8fjdJ9N8ZP6h6w8v1qwGIhDI4J6dAoZpSJAJ1wYSIqKFuYX5uXlTPzdaGlSVGzpXcgyamM1zl40QnDmQZVcYiOo66Cglz61UjGhOw9EIgIBjIzmZJTN2ERYjVTNyYq4q0c4yjBVGPhoNnQBHVcWU1c0Ca3IRIxlcgJf+KwIM1I1aN2enOAjaaoKRuqrNVaHtUlYVI64E2RKMHRIDM/XjvBYjaXKbMjk5IByF2y4tzBlmzBYN9Mc67RSCLmsdY88A7JaZGZ/7nN/9OTpn0Ozf9/29+uBwApmZmvoKGzkBptZzErhgdbz1Q8vhgDPY4HAstUuWvKpDD52hnhbo9GntNBze72Ovlq/aBeHknVHDcOScOu1qq52cfHUQOo0j4h0rw7LLWgUZU3gQufu5bnlyr1zl3BH27VvsUm5TZ0nruhl1XT/N2SlUoUuJHMRcRWnbxE4qIHMQkfkotcysWbsuhRh6VDs7GWP+hbcsP/zgQ1+pLnjt9y4ePNR2ydIwuTSWTQWBc87tkFrJTV2ZjjSJsotTaEIa5X7Bp4qtVWWPMI6VA13KrD7SjhhkY83LGKwwgSgQiRUJxk5wGDs5gZyNJEinnatJeZwvzJ2Jjh09OjdoRm2H7BYgUM/j9kuULmc2YnioKXfk7iqo48piOxoRcUQl3rlFEGIVRl0CIEYSGEBnyk4SJamKwhgOj4BqOntuKQauqqofgCkbq/eDQ9nZKVahTYlWcoazEzk65JTTudFS9KjkwYkr6VIOzgqLIRBTmxIbeaBInHJmJyNUMYA8dQlNSS7MTTI1RUF/sldng9XOgAuRs7taCGNHe2RWNyJHMg9MRJQsCZlbb3MHu5kRM7FLP2zMK4mjrNkyETOMRD77uSe+8KWnH3xg+dDh6rWvOXzjDQ3MiYDArmZwUQYbyIXI2AlmcCM3OAVSU6jlACdzM6/IlRTGbq4GdjM3M3ByiPf5RYmCUMqGEIS5S+4GnyaByHk6kIiZLTkTnGHmzORqCVYhOEOMMpk4R+aOUlYLwm7Ohs4zo08hYeRugAvcnBQUyPueZeQMhzkTHEIEgTATUdbs7G7m4k4GZjjUrYl8bjmLsAg5ucFY2N1F2M0JUFMzI2MI0JkGcvPA7AATmZl5hvRpNNzMRcTNQhA1c/MZoawcWN0NLBLgGHWdqxETGK5gUKxjm7oez2lu/V4SGO4conRd6to25ZRVc84EdtLAAYSUFEDs3MVTygQGUMWobWrN3a2u6zZ17s7MUKrr2LZdHyoRg2jW8Zv1a5cR2GAUoqQuVxTartOsqnOddnCKJAaD8AOnuxDpaB1a1ZTyCCahUlXPbvAqVl1KaZSJFHMTEYebORNEJIRgveuGkd0ouwvcLWUjQIiSa8UBAegcAnMzNnFa+Ls/pdPPpOd/H80fRGAwzE1zBxYhQnZEtmxg4v6SdsTiAncnpn4gmZkIGahViuJgG3UamGE5VDUz5azOas4JStkh5OaZTZyFKEEbl0xuakxsqmOMlbpJNNXkGokdECYzV8utzZwPiUjd3L3TLEzCNBy1DJAIwckyu6Oea9PTtXFKWdWiiMKh1nYjAEToj2D9Qp9ydjJXcG9nInd3CCqOXe7IqI+0SaOsqpoqhTCTm/MD9/rtt+mpc/biV6Sbnk9mUdidzNwoB44CGrUtnFJOWTN3rOQwCsKq7mQEwNnJ+sg9BsUYRqO2nxFEZDAzn9x3SkyEFV+rQs3hzkAyi33ouzsTVK0KYjACErSikMlI3QVqStSzAfqo6wIzHAkawAo69o4fPPr2t6c29ZecKiJ3Cpl0wHHJDBFCWbN0CRIAdRJyNydHNlTs7uYmxAbpulTFAPds6jA4mRmFsabnTG4OYQY5O3VOkbIZZyCACAgAA5nM3QqN6X2XoFcg1IiIOuSaoyYncXFVEqgKUSYjYXOBaMoaXdyc1MEUY6U5zzVNO6JQ9REMzkA2g0FE3J06R4S7BSZVdRBl64TUwJU7WA1n776re/zxxec+zw8c6OcpZedI7iZjHdwBuICEg3IiRmZnAxGE3J0dCcr91mIGNRfudWODsxCZ93v3XmX0nc5Zo1mHwxETzTV1T+ET44YFYTNucTW9dg0nCFP0MSv+ZgYgBwiDQegDSD3rt+4++3t/cPf999115IKLmU7de+8Lb3lBFcM4Q2TVF3eAsH5NiqHqNSYCIgIinBBFhLk3Yo8vDbDWhiirD0OPGK3HbQtxYUTtHtKgZc3PPHNSYmxWzGJ9j21rtd3QmY6GmpwSMQcRxLjWgeu6shnE9X/4+jdOfehDj7/xjUevvebQvoV9c4Nm5auNn9xlBcv8fFitPcoGfpIYAxo0w5oDSyV9v2/+dnHtg266FNlEZtoySMjViDmnzlwHdbVq0tBOTUiEGdG168CBQhUkjzJXAocIG7yu6xBDFUMM4jpy1My9kZ5iEAJl09gEgFxNophw5dYvnU2ss2stlVRMRAyCj60R/RE2aRYjjmzJHC5NIAIrS8UVGhMNgRmVm4dq3LHvfsHRP78zLCV73XPmDy3UbZtiCMgkA7bOQpTg0tuoJpQ+sub0udOnz5wOzD00VQJoPEkwWPGGr32dOP4VALv/E/75r9RHH/A7n6lf9gur3y/ObUCexhA2XFoZMTVFANKE1Sevm/Sr/JgEoI5V71iKgzjWYIBKQxiE1ZsjwoYhVMXVRtfVRv/H/ALPHFoDdyHuE/IxEzEJuKcghSVQsBe/2OfmgmW58aZQV56HFGJ0B5A013VVVdHVtdMwCEQkwnmUOTBLBteuZsmkEgKpx6oSU+Mg4tRakqoORJ6NKvJ778HZe+hioy/eLs+/DhRDDCC4QzsJlcChGcGpqwcxVIFDFbl/uLtbMq44D9WDRKTeskZE2a2OQVvlStSNgiNPuppx4Oz53PIygLqpKq+I0IS6XrdYxRhW1644F/vfNcbfvKlkZEmizMfB6mfduERwDGHTpQqAY76Zr+se00mxirTOtdWPn9U1ev0gq2KEI///xL1ptCTHdSZ2740lq+rtve/daHQD3Y2VJHaKWEbUiBRJkJJlkTIpi5Ko0YxGi2UdnTkz42ON5pw5tse2xpLHM8cjH0uUKWm4ACJFakiR4CIuIAku4AIQILE1lt7Qe/d7rzIz4t7rH1FVr16997qroprg/dFdryozIzMi8saNu3yfsIj45T8tn1ddPbb8bqy1gOBy6SShy3b+0ktH5+bWF975NGk7d7Kk5vuatd53n8taQCCionCIuOyNc7b/bnuP1nkW6LjsDGFhBcmWL7009Vd/8eLiOXPixIa3vpWa/Qted9XuLXgAANBsNiD5cXtXdq5/YSqc7yl/t/xlnJ6ays477pdRzBGzDGhyuMyupQ8I4AwE7YQ9B09HUIATp8qP/+0L7VLvu2/zV7956uzp87e8Bh548MLb3trYu7fVXUX6Tl9xEx26gP4bUAiRe2hm/WesdbHeh1jmM8SsJQoAKzCAL+9+wc4bJTXbpoGBZxw8FkLkY0fbf/R/PrZt67kPPXjyd/+7Ow1QjNxPjKyqgBRYXX/19co7QRBUITbQWdZWvVlc7Wwlx9K+RNLPMELJ0Zyuj2i7VfW9D2gITKNQZYXOatcVb60QLbbTRhbRdvwNLKpI86UUDpdQzsgAABFS8nggmAZpjbYL1dVvmCZ/eK8Mpz9glI53xqC1iDiQfXzdhua+qS3OUUo6azQ8AKTtJhUGABCh2WwMn1+UKmsIjCELANFAx44YmN+rzhlEPd8meEKmDobvP928G0A55SAODuayN2fpj5pqYGr1aZIVzfX/j8oMyf0ggKLYHHwxV2qGVb/XIahhhhMEANNNj1gaLHIAYHbvNrt3g0qnNiTNH0wDVyAiAqJB6j0F9qafAQC01EO6TFmNCenENa0GTRMAjXAE2LmNz83o8+ftgT0EgF0mM8TOdALsXMEF771P56YeQMT0wTVtr+kkqVYi7QAJDAQXh0btLOtgIJlmCH1jPqCs+v/E5aMYIhjuoJysOb4rfsKUV0S1Q0Ms8TvfOfXZz2hZbX73e8y2LaufMzC3034dBy870CQOfguIICL9Ad88MdYR2aXLd/9btRP6vxUOMdbeW8TBvKZld7tqJyqAorJTFvnq1+mpp7beMf3i371/6nX3NbfaWmCQXL3vIsy8WJWTzdbKDhk4fmVnqgIHviIFH6NV1gCMwIG5UtoVGwtrFfpWFT/00PMvvPB0mNBPP9S+556dP3hiU7s9+c73bLrz5nUHr53OLtFQljxvkiKEOkijuLLQI5SbicaBhwRkRMT5hfDk98/9+D0nPvrxOgQRywP40N/45un/8tCRQwfX/ez9Oy99tVqijZSRyy9RQhiXpcigwuVqao5cqP76ybPThb3/mtnZ5rIbreqwkjfn5GL49LPnHz06//qdM/9g/6xfFXtXFaJmgx+oSgi6ap1zcTmqKo6COmxF/DgwaEgWdt5Nmx7HpugtPwEAo2azarwUHdJKkYf/b5R53f0a2fG6wNHH0picTGdhrhUal8Mav7QMvaWTlQDWVVUXuQQIEiRE9l4JEcgaD7p3P7RfD5vm6TWvwUuy+1ZV6QpTUE7TQSPzsAk33phSBRJzTeJyGbFqQ1SiSgbbMyiEkgurULZPfOB9fvIiHzl87osH5u5/Cw2RblmHONx2eRUJIUTuRqPGkawywMgQItd1TLuU0RoUCSH4whtr3A2vMl/+IvzgxNbb7/XrpzmUzl3qLUsmBVuxOSa+BolOxw2cwqi5I2OKqvaUpQJE5n7CexE4e05eOuKbE6FYX+/eNfULv3To1In2La/Z4AwstttrXPVygiqYmU3pTCjHK3VbVTJ9zArKKjiU6reGtu2Y/MVfvvaxJybf/KapZtO266of7PLY8cWPfOx71nz38W9u3LOzdeON6/wPAaGOJdMQ7JfLrnanF8PHnjrB5tGT1eQXXrrxLfs3Xvaan332wunzT96668Snnt6yZcOrb9682ruKqGvUGpW1fO65898/V/7idRtmJ9d6DzG7+o0AdOhdbA8GLcmonDV2w7qjd/3m+tYRP7NvpBOTiOiQGyOVul78O/jBl8xVW+kb/4/MXg20vuYcjGEVlSh27DVj2NLx4UgGhhe0qGHZ+GJrwtxyG8DlPaXGGBwV6q5Phk8tlyiJl0dBx4NBG1nk+edlbgMgoXGVac5//TEiXFe4IaHjLMUYc/FsErb9j05UVW3OgkWGACEgGmP8tXv53b8ER49N3Xnn4T/6Y3n8iW133V384s/TWpZu8mYp26xSNU2QR2PLCK9ZrMYtefXO20hJ/YQQmMnQEv56o0FveuPO9kJYKONPvWFXq+kOXu117xQiMnORg6cMAICKHn2e8w1t05hcM2htEahzTkOwheWhV/fZKfdzP7v36Asbdu1sek/MPmWMp43OfFtePgHX7L/6B0/h2TMVisLa5ogjS1nGijPWjU2hF5UEjSiuBUIcBY7OizHNwO4FGqpvt07Z585NHz9xfGZmy9wlNwSsceVu8vGj8x977uScO/sfH5V/esumycJml/uvKnEUCr2VnDWj8SwiTsyQmzpIWcS8xhINh/GAgHRkk6DqmUV86Slb2tYE+laOawQJXcNnkpf2ySsDb7pSoog3K94oROUKL1dQJaKwBt2zzM/rY9+FLVvNzp2wWr13gR6HJuFiC1JpNqMFAFgyOAr+h8bFuBBO/n9/3jp6or1heuoX3o0bNm595y+c+cgUrV+//u7XDbleKRV58IMAYKwdCfZjQAZg0EYVi6ZZNJo2s0rFmS6eIaK54Qa6/sb2Y9+d/MRHy9fuP/n+/7T9596mziIZWBFoIERfuEaR4+FAwIYrrgjA8SiAcWPXFYsII1qAU6fLBx54+sSp+Cvv3r9t24SIGCJC3Lt78jd/47qoMNXojGg3+QYjo8+p0gdAyNZagRlUVa7w5gCHJJhdIQrqRgnRTRbmmv1z6TMzC6jpAl5t39r82ft3f+UbZ26/ber2WzdYe6kHVBXNghViuALeEVJEACKVNXi31zftT+/b8OGn3cam/Yd7V8UrH5Q7d0413FXfP73lzh1Tu9cA/+jIah0zH7hqX7xp95EPfq+5GNZPFGblcQqqaywblxWL5jJcOf0NjcdZAwCqGkLIDD0sS367pJAz+27F8u3xqWfo/rfD3MaqDhg5zzGuKjJ2+f04nDXjiDemWs1LcVlbBJLNuRJ6U6MulPzXH9LyWXpsW7jzdfbaa5F0gP0naBzevCBAAsIxuHVVRwvuI3k+efT0Jz85+5v3xff+ffjJN/qNm1oHD7YOHhytYcznalZVm0WKmySbFDeJkIjIQJLfsOeqiuqSIldRUZqcWZhbRy8emdi8FVRXpoR1jlWQqHkU0woahW02y3SfjII7QjTmbiJyVKNQ0V994NkL5xZnZx7/9Gf4/rfcMDuzpAeby8PqySWioJwLX6GqMUaXBWbqjFmInVU8r/VVxecifXLN0YgdIvG7XQcAaHRJB7nkEEOhvmf3txrm7h/feeMtmzfMFSv3aQMSVWzWwsosYxLNcMVsuZvHu/ox1uBN2yb3zjomM9ccakoX1tyxY/qOHatQuw0euVow4fqtk7ed3Pb4qeav3bhtruHNajsDRNTsTGiW4Q3gXrAmj7NGgjBzqII3Dkf3gXEQhmHzA8gQ3Xi/HKyN9zFK5LLWysHIDhJRrUNsEGaxSfbkCnPWDC+hjLWw9zlqJZXsLv9OVUUvXLCf+4z86rXhsWflxb3mmoMrAZEFhIdmQo0dct38pZ2Vh0ddAwCVUExP79tz1eF//1Gd2Gwml72e3G6f/+ajkwj+rrsufZ3IQqx5kDTMHARysa9HTq8ZEGGtQk0NtDBUkX+/ECILR5ZOCgRZImhctWv29/4FP/P09M03m3Xr0oZeuUSzzAGjqpFjLKMbjoxsQK4MN9lojL5BACnDUo6sZ05X84thZpoMsQCcPV3VQc+enai3jMyyO7IgZG9S23UgwlUXm3GEc68nqG4I/ghR5VpVEbrVWKZhqDYDiXuFo80brgB2zSWECMecpqYwxIqXM0YRYXoNvuJxBJEqqVcyoK6fdO941cYji7MH1q+tNbQLPjG6MI7A4zXAWTPqZEeDhsg4m6dJR13Ro6j3nTJURPTRZ5gUhGiJIsUhiZrXkLE4a1YRkfjyseq/fMIZ417/ety+Y60DTWFpIeCKzWh95ix8/pPoJuw99+Lk5Oo3rbqCsQGRvGyY5Xe8M37lizq5p7jpejKrpN/C5VNTlsQxlsKcthNL9VY/REHb1PXe/cqvbHj0Udq1y23a3PtJQ6j//vP6sY+is/XJU+4NP4nerXU/qPms6en0bFlypWfmFiAiOs5AwO6IHchMRJy941a4Y3laUkQAXhbOQwCAXADqpSuMKa9EKuvXv3HqgQefPX8hvOktu9/4+k3O0i++a8/nvnjqzOnJt7xp9+Tk5e8BYQxEfcWR4pf9YhTrFKi4stms2dNdITCvul/vCbN897EzH3zgeyE0f/d3ru9jE/wRhMkJUMam4VUhBUoIclfkrkZoWmUtOquppj1wSU+MgipluvSMjGCzDgRrMoRFOtifoyuVUVF3e9uPhGAbQTIdHNitxx5DrjCj78WL+MlPu8kj7Dx96uP23b+61pESWXFl7TLbz366PPNtqxPVdzY07rwNQFctdFp1mIxv0d33mh27cXoKt24b92EAyBPW1HGxZFM3jShojL3ppg033rTYbkMfo5uEcObxx6eviqpn5ZGvwr33wtop25aQr6g/O0uyshUJXcMy5EQ+JL1RK5vVLphwOuzlE/KpT8mhQ/6GG2GJLhS8tzZ3obxSMsJTkyOFHPy1hz710s4dL73t5vOf/cLijQdnr9pT7N4z9/YNk7XC1JpVCctEx3AYIqozWTExAF9YZzPTYC8h2ehNEy1/aaObKz4zH//dHz3+jp87f/T44QceLN71zoPTUw4AQDSbOLtJPg8LThTWyj8dXpgUiRIcbcY7SiJKAAAgAElEQVTpHq00M7OwiYzxdR2jHx0ZyZDJx1NSIB52lgxW1hSjNYqEjSnfzM39m2zYdpaLAQknGi3fyCUR9ZTDxnnlpLCOlmdciXNxdkP80tfUt+X2fZcYBuNNYVfQjKPREy/jhUVLZ3RxPhm0K/WWn7BrsWRjUeDBA5e4Z7JueD7RihmzWf4AAKAw3mUy62qMEYol1xcVxfo77oQ/+faRWdr+8/fARItPno5PP+lvuR1XUHFxD6xldEGAcVKkl1yMWQ/ujMFQcN7WUXR152gfjWH7+cMv/eEfri+PnX7487v/5b/y2zpmKwKRmlplFT7MV1BG0FwhcsbmCQBe9ar1n/7s2ccf41tu3TyzvhMdaEy6H26coCuqGCJZl4U7wjrfjpMTV9giUchcHesgrNpqrDljTGFcm7duaT3y9fPHjs3ddWfD9rIBDAplUlLVyEZy8AM0IbyPJ4kMJttDFkm0GhbDo19UlQNHMM3h8lEGTwcNFZtWzusd7RiVNWG0yhoV5VJLqRvFsOOrHHX+pHzrQ1gE2f8WnboMbs2qggp1DFxLc21mxzVvQDXWrKhFHulX33WyzxVR5GXxENNq6b0/phvXOdF46FJmgYhyKdoczJHHt95vvvnF2ER7ww09XrQB4RIqDUUWF7xhrSVe2r3aEw9UqY7jVA0SGTWPfBiWjw4aU7z6Zv6nv7EewNxww+Kzz5/84387W7RPfuLvtv+Pf4DL7X6LGF44cvrhv6eJuXX33G1nZ0doFICJM6n7xpY61otV2WyMnDgCKTHL4CVMKeU2z8/XTz85+Y/vxI8fgxde1NkZaHgkKyo1h6nmKnTur6SMMFGykWHuvWfr9h1T58+Wu3Y3pxqvvA9t9HB6V+rIKV3ZXFFzBHMtUJbLw45MTrnf/q3rP/2Z2dtvs7fduq3V6g6x6KWm6qXbZcYs7wiqGdMfHpgtSid0nSXCwlluFUQkgyFm2o4qOlIeX7+YETJZr0BlTQhhNEeOAD/+CfPUR2BinS4U4a5fG7lJAEEJHHxWQn6CrBw/eW5FEsYIEiSurHC209P2zjskSnHJCgtRjbJKPIG27zBz9yMArV3/zMwwHPjQKvescXgXY3aKW09EhXOZdXEF5A82m+Y1N0+jVeZw6nj7e19b9+abL375e+HUKb9ly7Ij6+rCgx+Ap75RT+FZ4Y1ve5uwDlnzggBGzI/MRyD50W0VVYFIa+KRIflix+517/rl45//ZLH72kYdzIMPwN33mJ27VEGYuWY7om/1ysrolPGjtzEx4W6+cQ4A5hcWA9T5WTqZgqumdA0j3oQqlRRdUSkoa4VTAFa+XO2DNbh1S/OdP78PlrsTFODKUQEOKyKyEhF1JHHGBAYBCrnQuuNIXnRy6fRczYKj0JMPVNYwjeYJSrSXI3me0FmszkDdhslSTx7LTAcVBIUQox/aK9MTFeAgYxZV/vAqay57YwYp0e+u1KfmckAsIpztcEQHw4PLUFBNS9yPQmQ1BEUkp6qq1Lz2wMZ733z0E1/Y+YafsTODtf0GtHr2B+t3byrjyfbhwwCAGIakqlAAHhJI54cmYmKGO7dTWBcjrOU5Q+Nmpube9tP2tXfNHz78wv/1v+y8157442/s+lf/BhoNBajHS2YdX0YJ1lQRUrll1+Bl0RCkKIatDjTG5G6GsHAuL1SEAI4Gi0qGlADeuXHB31ZKxaN1gogCAiG6xjIwuBD44sVYFGZiYvCCK1cXbz2tnmt/eWmQU5OzKhfOxWLcghdSJCKbCxrryGpWqA4AENAMUcq0qpDFIjdNkztsj8M1BMsqaxyPVv7qrWk0C0ejPSYdersoqNCZQ2/emuXyJKRG0Ww2c0pjEgza2DQZGnNdX5ByR3LnJCL6hh+9lEmV48z8RTxzRjdvwqmpUdv10asd1no03lBtVlYLDy9EppFFjouALd9c1VhERHRYrF8P//g3Wm98S+Pqq1cijWrR3Piu98jHP+j83uL1PwmIwwC6JCla3ki2/xokdqzkUTYUS2LRNJutps2sF3PONdxlzm00C92+XZ99rn7pWH3Vm8Ijh5UZiVqNRh7yEAIWbkUiVJaMlMpqUiAxZTWGwI8+du70yfadt22anR3qMZhZzGpggZcV1RDZFzmZ/7qGoT2MWMV6vM396jL0yJVBzp+pfEEz0x4QQohI1Ox24de/c/rjHzu8b9+6t75518zMZYYgSEjkqxkSlPPSu6LEcTR+EkFNpFZ5e9laQl6wRhN/ee7uUBgYOU+v5MPLAzCNvAJEZqbRPNS0eQdOvgdEZrBol1WzOTp2CEgdKm9MHoqlCANropPMlnFQIgKzN9nrVgJSGu19ZJZ4+Dnz/g8pi+zaSe94B6Z98NB7rZGCNQAgKT0yV1QliK6sk7/8iaAV16SNSzxYsWmjrp/F1QjDY1S9/sbWpi1oCbduHanpUHIxke8d6TnG8ooxhaRul4bQZ+UGMXONXFx2B6UwceDA+vt/5uKHv7nlx99qmk0WrepgyWa8jAoaItuRkKDXkJFg0BD7FvVvfuPU7//rL27dcvozD93yv/7bVw9zBRGJUVxGUiGAGslNHtAomatCrRxjZJErG6+R4dAOWORv/ua5f/7Pv3nvfVt++7euv/HQHERF0uR0VC4f/OBz09OnPvf3L+zaPnH3j21GwkuoVxUQzdqqALBKHk0GCY0ZrAEAi5KqQvOiqggo3XtQ1RhlSEw8REQHWuY6q1V16OqYAREcIZVVALpIBwgIZsRGpZZYxwCl9zRSPSdOzAAAtMvIWRYnKiC0QzXpc3DiVTQX3PjKiGjeBhgAIJYxCBcjIghQCPbrj8qBk7BuFzzynMaIfhU44EuIjIKSjAYJVhDLjiLC+YGlVUtWlwviGgSKiLV1jvbuyWlXMrdeV0SEdZyouogM48VGa/yWzZt+6/dg8SJNz6AzCbCScoHXf0QwaITWGFU4P189ffjMgQOTt93a/uuPnBQOioYUq7IGAFtYVKhCcM6EKA3vRFWYq6okh6EmiRJQWoVHwCgc6uicNUQxskQx3hhDCBhi5MjOWxatFquGLRDRoCnrmgxJFOctIHDNKuoaFgDKOlhDErVR+CgcA1tnYoyL7bLZ8MwRwVhvOTIAaFRfuCgcawYCg+gKF2OsIzsgV9hQVcbQFbFFevv7yckpb1wdgopaZ6sqGERlRU/OmGqxNs4gonP4/PMXn3zy2O/+wYnqxMzDXzp+w8Gpiuumb6rEsqqt1TryglQXFiYWaw7CBkmDhjpaZ6yxzAyosWZy5IyLsY7BgQIZClU0FlUACS2Zug4AYJxBwCoGVbVAzltViDEyqIoEEeDKOFIW3/AxsrKoqC98jBEQgkjDewWIMUpk64wxpl2XdajG6TeumCxiRzthR78RoKKqEqIiaIdYA1+8WP/nx0+XMbznps3bZpqQwDQS27jqJ54++1ePn2/axXt3bfqvr1ufKMhTvpyoIvRdUBQADAEEMEqRGQGMMTEyIiqoJcPCqoCIqmqQGAU1/UQsogosjArpFEiIVwqdRgFUgRAT3IdBElBFAUVDxCJGUYZGdE2VNWQJEZRVjKIIAiafULeLFBQQgYgSyggiGlIW7NR/k1UgjkwvP6af+P2ojn7i5+3WN0ZwxphkzYJ2sgsT1pOKEmFVlQgYIxtjVESg05Pp3tJhBklQE64JH3lKH/1bO3OGr/910oaZbgiLoKIiASYC2VRfSoZiZAAgJEVR0FQin55IVDC7Yr4rSKQE6QZIEaljPSfaTE009YgKCghpfA2SgoqoYgfPG6AzDTr3KUsWAmEnC4iQtGe+EIAFXWRUCGUbv//d+vvfK26+k/ZcBdZxSn9OswIllfoiEqGwc3DXHe2PPWUff8nc+1PYaLIoIgozIihAGuLuByTA3tXSZEvQFEN2TlUFQLTWCnNdBw7sm16YVUGCkCXjTCgDEpIhazAEkSimMMyiCqQQmQEgRq7rQIqmMBwFOlml6qwTERZBgprZglEWsgiAztuqqpy1pNE1fKwjEnAQ440hqmPUKLawRBjLiJY4sCssAIY6WGfKGlhKJJRaENE2rDCrgERxTaeqEksAB4zRihVSlYjQLHwoQxWqiPnweilY02pNFYVnkbJdNxpOVasQHZLxFhUi1xoRAHzh26G2RCDgChtjjBxVFFmZJFYBAKy3hNQONSJgBN/wAhLLiITWWQVNufYkqAhVXaEFXxfWGhUJdSRrWJQARMUaAwrO2xCiipJFmJ4WUA6hrAMRlXUQFmfIWKsKIQRriWuxzgIBBwYA7x0ziwoSxiC2sCA6/p4zyWi4I8bYyYkJEbFY33zj5i9+4dQXvrTlv3nH1e2yVDQGqIo1AFhgQqpDXQdw1kY27bLd8XxHqCEEDqpaA6KBOjDHGGLwhQ01iwgyNnwBSO2yDQB1DN56VVhslwjgfSHEVbuCTmanqUIFALFkUIjc8zyoqIYY6oiIGGNcWGRELByqallXwoKAQlLXQVWJSAsndaiqSlUZSUBCDGk5Gx8GTbtgbs66MlS+rFS1qRhCXasSkRdfxVDGChmNMaq2MUkbNq/7wsc27tnTvOceq1zHGKraqFBZBWJ6189f89nPtt7+M7OvvnmuLMuGK2oOMcY6YqPhQamqK1UlITYiou2qpJqarUJUy8VaVa211lNVBwCwYhEphBoAAkAEi2p6xkTHORHBOxcCV3WVpqAihhhYGBENIAG1qzYAVAGavlnVlRkxKWFAyKZaYfTeicjCYlslrQ2kIAbJFL4sKwQCCZ96tk16fHvr4p9+1/7GqzcUBjnGqq4MGa6rR4+fa8iRgzPhsdNTb5ivAQOoeu8TQHJaRAtfRO4EmApvF9tV5FBwg4gmiuZCuZgCKYX3dR0UtLMOASmJMiCh964qK0CMHEE1SCREUXHOg0Dg0F2slJAEBBSKwsUgAqwC3vsQQl3XxpjmcMl3aBABpyZmpqbnq1iFwEXhCagOAQAKW0Rg5pic7kXD1VUUUUSYapqFUkQkxNrUprK2vbg4deLbuH0T7tlPX/2b+fteE8yM9wURBg6gYIx1aMtQIpGKOOtUQVTmFxaKwgtr5IBoevmP6bDJhlsMIhLVNpuP/i3yC3q6bb77/nDg7Ram5hcWFZWAnHGBQ4qOWTKmQdViSJ/JmsB1ovEpbBFNbLfL5kSOW6VfnLWzs7NlWQUJpMb6rmlujEWsYoRkagAgKiiKSOE9K3OUEAOTpABimgbeFUFq5TQrAECJUEQRsbC+jnXHHkFQ0cjxYhXwe08UX/9bDAv60VPlT/8MbN1WhRoJlaUoGqzMkRHRGqsaoyjNzi6+/p3THOOmjdVCG0ALV5ShTMliac8DAKpqDFlyVahS5M8gBQllu2wNzVnora1qnJ6aRqKyqpjZGFNxlWDmSciACaHTXd6ZdhlE2IktnA/MVQwhBmtsrGMdahEpsHDOVjFwyQBQNFiCBo4AYJ0FMkFj+mkSWgBQViUhKaIiVO0SFIwaZ326WuDonKtjpQEAIIIYgyHGKtQAoAoLC20AbbiCa+ndNpcizCyCKIX1RqAMlXTg8LWuKpWx6ihTsKbZdABUtsuqroGEI4toAGhoAUR1DBIVAQU1hLpWICIGSUsPALTr0qmrQ1pMowGTPhMRRoohpE5zYFQwxggK1llnLCHW7cBGkhpRVQhQ+AIJQx3quiYiVqmqKl2tME5A21VJRESU7M6A4KyzxrJItVgBgAcVkG7YHQPXsWt/IELoOEdf2dwRrpiZL87PG0MTE1PXHYL/8O9fB8sTIZqwBCbS6vvs/RQAzC9YRJxoNaEPkL8/rb65XP0WRYezIMboo5+emuzmy/h+RX1Jrd0EhYX5xaLp+6lepvsAmJuNZQAo/egLFuxiLK8IJGu6CDOfPXfG+mJ6qnMDAzBQzb4u2Lax+CfvOfQT9+6Aptm3pQUGG01oeO+cTclbt9xkb33Nzf2nD0CDNBpLf1ahnJqatMk4cMtGp+n7c8GW9UYLCgC4OL9grenvKN8HidhY3uhso49pwk+058fyjqBBZSGiEGoinF4NObvZjbNarJ89yfde9/KzF/ahdRMNCwBcNWsU4931m2bf/8TZr50pf/dVjdmZxsCT9knfBHAFBBULhbMAMOOXkgcbayNeNIoCACRKzbyCJHONRvvnc6OoF+vhXZ8sSgTnz5+7cOF8o2i0DJmGAYBmc/W2+iYFTDsAgHbdTH3Y8DNx5hB+4T/Yx7/Ot//yxPQc+d5oLl2t6CO2YIkAMLU0LqtDJkz51FAws6WeRtyxQSeas3Mt8q7ZFyYfmEuN6b5Zuuw198Q4PmtXWZYXzp5rTSxppP5JfmlgpFTCOpBO21x7V93/bqpqKCtfWFHWltPZHfjdBcfRNotm6zJ4TNYO5v8Wa/OMNJYfWbaiG9qlVHJU0TNnzxoyS/pqIBGk6NPkRZ9+AABotssyRm60ikbf2Pn+aP2Awu9eXFWLomg1Gz2l3eybtY0+ndkcWDMaAADlQgVYN1qTvTXSw+qI+wDQD13TajTkrAqMC914+vSZrVs2T0y0JlazmPt1Qv9L2mwUAFCWAQ0Wzrb6f+p/+9bm3a1qP9UktK10uf6fir51rblcdzVbDRWtQlUUxUSrb0DBrfo6D+DWFOovzi+80iDxYgG6zsnuVwoEo5hFavJq81bUoA8vCsokebYbUwfK+srCoA1fpIIA+/ctre6WqIqxh8mIdgS0HALKxh3JxmZEpvFB4oeHQXvz/umW3+Xjvt+6fXKmC8tYYx1rAe9ev3f22g2HAsuutdN+Ty6E4/P1XNNum/KEqMAAWGSkOwFE4Yx0xSRYkIZh/Z/UIelgjgEURg4Aq5SLiyiNZGDRzpvkZ96LYcFu3Iv+8hSDRGb4WtCG0fra/9b84AGtntdDP32hMl6rVi6UGWXVQ/YJWuuyY96L7bJRZFb3cJQg0WGB1x/SqqJHv6133W2uvnqYF62s2mQwDwaNWBdjNVUMhXbVMLZG4DFT0fPZgDO1Lrfb+tLzUFa8b5+ZGA3XK0Vpx8kd6XHWiCAAKOtItJR1Hcqq3WwV2fwtpbgMDDUWqargbV8JUnqpf8gsRQMyCgyaMYCYBxaeREQ1wlikVzmSOGtylI6RxJV5hWHQMhMcFSSOkVSL2Rjx+SKqeSXW/YIKMBwxysZJ/6b9m0Bhqg+4VhnTRrbp6JpLMN4BVFH+32+d+Oaxcwfm7K/etnf7pOOoopxD8pbquXIxoCQIjKgTCSgFDgKzH4ZnMQpceFkLNc0NANArICJrcOue4QsjRXj4ZQONtxu34sQvaGMRdQPMz48F+qm5RdgdyecJT6ePkb6nrKgA1JigW26Faw7Q5AQOV3Q4jn0fNQ5/y3WKAlijqj2sgeymR5UU/8o48dxXvnLmT/9jOH1hw6/9+qb77x/4VRcvLv7gmXj6dOtVN7t161e9gmBmyn+/ZOtpEdERa/WTqCjIOGVQKtHk+4WuxOoyap9hPxQimtGcFoao4V/5NVFHZfnqiXGBsgqTLy0uG8UIcCyoxFyrP1sJkTHZnZ+kCjEiqzGBL6/9EXGqMFPLQfSH96xdLPn589Uv33b0nJx57rl5RCTCbFZeJMRcIGMEGJ5XVHoDqwDL42hrijK8+Ez1F38U/vp/krPHETHGLoAm0vC2SJKRaIkMGZpcZ+wORUBDfgz8ywz82QHB3j+vrNTMJJ0RxqIwGzfgCvCMtcQYY3NxHdGN4K0wgiIpzSK9CJmwT3lClMMeDwDnv/Qlf2jD5BuuLx/+kvJgpPjcFx8+8j///hO//O7TH/ygLi4M/IqERMaMkSLdx1mjADCSawQAEAkBMyGwCcma4YNxy08G6DqHAABU5dz5eOJlrQe7aNVz0V6Z12iEx04waOOIda7mLB8jknc+74kRsVk08vboaJuF81ewyhcBEDDoaCv0hYshRgEE23TN0SEskxTODs+eNSCenFutvv+yYgSajbHyDQtnrRpUcCZTPTmyfgisrcA83TDrmvbPv7YbZcvuPZMiKppPa2LIFLlU5ZFGIH3swaD1OGsuc4Kyzp/SL/2Bv6VJVIbnP2w8TE208uIOzns7isUmC8fl2HfkzFFCdYW1eawRCt7SiGiCq8g4rjvrbPZesuG9LRxkoZ64xijL5XJV46N3Q0NdGW8QiVJhUZY443wWzSECOrR5NcbThw4tfO2lhc8/M3HbbUhuicpOIgAsPvPM9B17r/0ffnL65Wfh/IWBc1XUNcwV8I3kCgG2iqbNBOdSY8gWeZiE2Gw2XTcJqf21rx37R7/y3Te94fnf+2fV0aOXPhcVPRZXxHM2Cu7IcGgNl5AQakc5q6mqhBiLwmVYJKpa1XXT5BD2cc1VXTlnaQy4pGU3A6Cgw3tcYuQfPHXx4Ydfvmb/zKtevc5gZGvyLJIQ2TmfF2qrJVohO/pGlomrumy1xgVmBQBW1axRiMpVVV2WsdYZAwC/c/u2k2cWWpONHVOeAAghk10TgJljEJv16A5NhNG9SsNz1tgCNl6Dp5/Fc6dr/a9CyaW2m81GRqg4hgArMxzXusGqip9/rzn/aJCt9k3/kk2zlKoxOoQaANRBxvAsd+9nDAT0yNESmSxHBdfMCcx7dCVet6NrCmR5lYLGWPOaIOJrSLZFHiVGkYxYp4KWsTJZ6mruDW9oXn89xNjYs2fZfCYLALOvvefEnz917lvP7fjdt+D6davccxWNz4WvHlsYuB3KhldDOYojRmYkMzqbsaiWZWkUrScA1SNHjn/rGzg5CZ996NSWXVt+57fJwVpOUwWtQ21sY/xt+yiFvoQ6HmuViEYclk+yX3QsxYFAmSiXAQQArpQt0pPhncyHn1/4s/d+/8ixI19+ZG5hcf99922MuZFjURGQPO2ZTd2ieAWygBkBELNVv+oI3IHrW259a4n/k3AMxy2C5obllEdAnVuCQSMairMGDTZn8fbf0mf/Eq+aal19aygNkslLWxspUhN5UV96hO++s/HBP6pPvos37rdZ+4TkZhyf420skXxtaDwJr0pZc3lBRBmCmlGiSBVx4Rw2HE3NpMEdCWWVa0bMpNFOkgB/8s41JjNhz7RasmsbRrMSPB4AJm68bu//9u/WOhcJmSUIjr31zhUFAHCcw4KMCeAoF1FWVQOIRQsAxcGDe/cfWiyemNuNbv58PHO+2Lbpknetr3hlTZAualSmEFE27lu24BgxZqOIiFcEd6T/IhUOSxtRluL8/E13tM8e23B2MSKiz68wgmz6CULM4z4ltiplXqNJuGJDyJFFJdWU9iSwHj5fvXCq3jjjrl1fXJpDNU9EWUaMrC2JanamjyAMb0IlGDSADtbZkJw1NDurN79HWch6rOazV1aREVjWXGuOd+7mL39Dtt1mt27PrXjryPi5I688KWOSqoogqw+wzM/DsWM4Pa0bN626EdIh08NPneRP/q078WTYuMe+5e00uy7lMQz/yOKQK2GVbCZIQqLceKVoflpmAV5tzLRmjKFxgGjH46zpoDJSju9LEtqjzUzxMUSN5DaTaA4cmPnf/zC+78+f++ajG3/pxk3bNinXa2HgAoAZNUdmDXnlCfxe6cQxBcje4JIzVu0ViYr1X8INzZt4zf7pt77luj/9M3PL67b/1Bt2EEE2a9c47BOObN64qWZD+3eEHLEoGRLFgY34icXwfzxydNv0809+b+e/vmfHVXOr77PR6BXnZB5GEMnk6mJriOOwZlCCQQPoBGuG56xB8kgAKr7RaGQVMwMAgI7kIMEf+z18+Xuw/npqbSiC9KMBvfIyTrgHbb7nwFujICtPV6n129+KX36I1+/w9/0E7dm98lxjjBnmpTpxwrx4WP/BRjxyWs+8DHPrAACNMUOv8kaAgAgoO50fEUelZuydWFifrXiNM5LrJLA2az3vypicNdaapm8OyWIx2DSitTZP4xCS90VnmSILAHTNNet/75/NtNtmehoALmGLACBZk13R3S+jMPp28IbH2k9I4LGQAjIEVTBzg6s1V1XlvRt/PetXPbJisqnC2YV6umnt8mip93TbrVtuu3VL+rOsKo5gJrImK1G2OVJxsEAZGA8JtzSzVQBIdR4QCUFEZDkUcRXV1Gfec82ZPzi3PawNqe7EaRZJW5L8yhpElwUOAQB1zUMtOQDQhUHrCY1qfSNJjJibIq2qI0UzaXIrTW5t16EhxCHk4WckCVQX48EGZPMjAoAHn416gAbtakajVhwff1zuWgffeoq+MgmrmSOuKGSIDscd23HTTvyr79qbbqKde1I8zwnB0NlMNUiqSsv2IbFw5KzcEdV2VRrbymPNDGUMwC7L0q2qyhf+RxUGjCK1BK0uhXV2CQkhODB5TgZhLktdQtgzBqdbVEya5mUvpyHUeSbUgIxw4wmYckznphnL9MwRVLRDeyMGhBGIrgxnTb8MvN0LC/HJ77/wyDdOX33N1vteu82tCDokdYCAsc58xwBAQABf6RQtQ+YK0Bkoqog1g4n2cw2zY8PWf/HwzIGNrfWtNbul1lhXdTNr2UMgljoPKkdE6sgTQxdw9osFjEOXQfWCNUQGEWXE+ilRret6kbCVdatEOUh3Te9i5CpUtrS+kTmlXSYz5pKME6ypYl2QN1krFweu6to5O2CsU7NJu/fQ4w/DhSl9zeoMcOVie3qycdlUVly/Ht/5Tjh/XtdvhG7td62BowwJg2YEtVeX8oqDYuUZIkkiqcv1eyEuY4odVbjmPIbqJKpSh3r46qfl5ypoZrCGVapQTy1HjUPyowBtXgEZkUJvPFERjfQKw6ApKEMmOCZg4moZbf83zD31y3ceO/vHf/zFn3pT8eEHFrbumblh99QqpyACgLXEuf5/BIRs3uxRmLf6RcYGx5EggrQqavNcw/76LVvaQRqWJi65KmQjR+kQOYNrn5vvlmMDwxsVvRwE6fBq5tXDA6hkrDciMg7pazTB54aMeWxgvyuLtjyCrOlSpHAAACAASURBVB04ta+9S3ZvkcY0bdu++qkqcbi6Gmq1YAVDzfDvgvEGqu7QvrLonDB2Wo9GGY7xaVCY4zjzmcbMYBMABWEGN/JLIaIj8DUPiAIASC0mFyrpisCgjUahB+OlfhBRdq3BSPHpZYKIJjOyZQSQSDNT4IeVRmGnZrZv2dpeNzuH86tkufaUJhmTvbKOgbMPhGizADBVxIyXHECOUEKiKR2Y8YhQGJj0ro58iUgtWvVZuw0AIDJF7i4NEX329h11eLNTu0jcSAgIZkTQ39R1iJS35JgxkFGNMZ5d5k4B0Wab110ZZ81L4GB55xpv/RovMk5OmQM3GYCVEF5JiAhzsePIOjM0UnAdx1qYAcCQEcqFoDQmW2E1nK0ui76zhnjn88k0+mHQssSiKXzhMeedMoactRQ1pyqH0FprLx+XWV2Iho8tX/I6wx8axva6O2Ot5ChoQrTZYVoAZzLzP9GTd84QCQtkV1isek99cujg9C/94nWfeWjLrbfMXndo7hLnkaLL1f7Oumzt6b3Pq6wpvHXOgYKwcJYhpazKRnV1/MwEFuIvadEbNiZr3VJVDrE2mRSABs0I1boD5zKlhXKY8gLswqCxgurIQJAA4JzLDgJaQyPBoPWEDBXWZftKkdAUViWOA/ubN6uTWFwRPhxeUMHopU9fC+bBOpdfKsjgjBuyZsV17dr8xyS08ZWGQQMAVPC5Xgp0iAZZRFgyqmPGqAcCAFBUIASX8+CqikSYm/eSnZOAAIUxhMTMMEYyFozMWQMAADFyFaOVVOcMUQUAjYApTB04fYg1M6llFAISiEZJsaxr4yzVyKRWULDzkyFSUWJAiyAQUbyBmtEwkKWgAoHLUFk0xpnIIqiWkRxJlEhqBLHLHBaEDSM5CsxGkAkUtCzLhivYg0MKwgBgBMkTB0l3Mvgg3sTAAIAY5ucXDE33fANVFY1Bm+3RAgAAFVZVDpJumwhuu2XTjTds8I4kLHuiyKKoloxEMZ4WwiKhtWQEnUZFALCoUQV14ImMI4kxAqadMykstheR0GFKLwCMqggDY2SQFJQioEFQCCikSAIX2/OFd4qN3hgFFBIkBfIUg3Q+RBFUpyQEyMoIynFh/iKqLhGlSqgjDgVkngRBsOPbjiw9P1V/jDYwO2PqGH13TZUojJpmbM2xDnWPU1RZAQERhTslecoKBJHFWVNHTsaNcg3kBFQj1siOqH+ZTy1WMRbWpptBS4nUI7JYQwAaYxkZUt6JBImonSurxijWUmoxXTCKGKIUEzOEjLpkQkuoBAtSWAPgErudQqoSJBi1YjWqcQQCaDBEdqS1gFUSA0aDkk8NCdfCJoSwqNBoNEi6TlDCyGKQA6MRJEdBxBCmWUeG0kYmRimrCpCMGBZ1xAzWEGkQcsQ1oyMJYr0JzEYxglglQCBLdR3KurJgW44YlRjIkEQxhUnA5Ch1FEsC5ElSzJSBLKFBiVWoY13h1JRNplisGQDsqGF7xDTWgpb6/IchcoJF742RBEk9I90xKkOFBvud2wPELmkuBWZrDIvYrroPkSFKVQfvCkJkkf6mE0kWi/aM7DTZUtOgUFeV9wYj9uICvXdBAVJDS9+opq5LT1FxraKJRTzpaib1a8QFTGGkFBVV0BC4p8Y1kXkhMKm3NgYmAeNNCIwATEqCimoEQ6ijMEQygklHCQEppFmBCuhJkspK+jxINGoEQXWxbjdMw4hJ00+iJF3HlO5BSTvrCKMaQSbF1I9R23WNgAqxtzD11qP0FgfoaDZTmNC9/xiYSdsLpUPnC5/GQ4KgiTg6emcUiTUbEyVaJgDQ3oN0NHz3PQqRk/YOkTnExfYCpt2jgkKnk8OKhTW5QtODAAAJKEBdVWDVsU9jNKDG0xhJ6m1LQSWdRQqVxnbZJmuskBAIqhMghzWrWT401pvQKRzoPFHNXIVS63JqskOhXFXRWspAeR7BHOGKVYUQpyanvDE9f6HrflLVlIapqialEnWBq9JgtopGeklW/gSm64AkcGAUwJlOgNQBKeKUnUivn00voQEAoATy2qeCXPfG0uuXmrCtCSRMbrT+FKfeTQ4+CKjp4KMUs5P25ZMnv/Hoo7t27bxqz57JiYnx482JOrXbROeJWs3UOvY/ke1qHOMIFCaLCSTs7Ol6FrRb2pz2nkgB0Nr+5WticrLo6h0DAB5h1YEA7H3q8YnM+RlYOhOAwMPSBLDLH6RzVLpJ6+d09tzC+S99+eEdO3ds3rhpdmbGjWL7I6ElRBVE9M6hdlwB5NNDKig6MgDaxxun1NH9CoAN49WpgmJauDvLvJLtpB6kl9YZA6DOdi6bFFBi4kbEFO1X7Fyk02LH+lHjqcv6ANakCiYk61ueUqCPLHUfWhHQOZPIyaB7k5ZIO2hmCKqNwi0uth97/HuTk1N7du/21gwTL7TWWW9M2jak9ghUNbEDpMx3AwDok5WqqkjOEDRarYFUX1U1hAC2t1S5pFyWj521NNm0aBoAqQSd0hqIFlU1rd/GkaqmAenXFYV3KpLeBQuYZiF50h5CDy1tcQmRuipCVdH4ojDzC/NffeQHRHjjDTd4XyCC6mhRWVEl69B4SjBOnV5WZ0waaWc6Pd+xXFNsCwEUvC+Msb1Ari7hJaoCooJPM4qMAvTNR3DGCGGDCiTUtCvtxYMVEMEgEaWytM49gGov3OqcAyAypF1LlJIRpgAIFgm0840CIGDHkFYAhMlW6/jLLx9+/vCGDRs2b9qI9lLeoTLGRBwzNTmRXu2BNTmNte30jCY90K9RW77ZO7SrObpfuCXN1juF/JI+n/HT/SPZAaxyyxxx/epr6UEcNkwjTXvojIcOqHrfNw9795+OmZuYubBw8TOf++y2bdt3bN82NzuLOIKDpxesaRbeOALw5JfFIFZZs7p2p7PGWWPR2L7k7tTJKxfWgQdJMgkTK5M/fN+61tHV3YW1d3YTfMO7tLT1lHj/Ktwbml6PLV3fGiyaZ8+dfeSRR2bXzV119Z51U3N5q+QoIPGFITIX5xce+vSnp6eXmMeJjKggLFFC939YOkY4vWQiXYINxASghEgKg4iv6RToMpgjgnT2taSqvTyCBO3VA+rpnQWAifRJmDtnpb3LikKA/oYGHL+ISERPPPnkBz/w/na7fcMNN15/3aF9+/e/7rU/Njc3C6MLEanK5/7+862UYrbaIoNEq+MOKZCh5FvpZLSoQqe0QbududSrA09kiFiW+q3HC59cfKnFgVFLnagq1lpmTh3Y9yDpSO2NyMDQAICotJqtJ5988i/f9z4G2bf36gMHDuzbt+91P3b35k0bh/TFKsfIfPr02edfeGHh4iJRRMQghKpIAmwUAUmAiQwyiAGJYhDRYFQhUak5VSQREpIIIxgUEQOEqmpUFVAVABnIkigSCxsAYNDI0VnrjKrYAAHVKAIJIAkDWQBjRESjGAAghZT0gYqsAggGSFAREAhJBEmEDZCAkBokZUSNSkZBiIyyqiHginVhYf5DDzx49MhL11133b59+6Ympw4dOrht69ZV+qcbyHrm2We+9OWvdMZRgUwaDujMfKRUdx1jtNaqKgKKMBJZa+o6AKAhgm5hp4oiAiKJSnprOrCPqbgXUUTSguqsrauaDHWtAUy5z8Z26qqMSR+WdBQRxRitIRYlJOZonUvk7J1SLAUkRMDI0TknLICAgCySTENfuGPHj33g/R984fnnX/2aV11//Q3r16274/Y7d+5cPQN0VWGOR48dOX7ieLtdJ/ArRTDIIkZQUQARBdVZw0EUuvaoKoqyF2OIqrTDBMVOUIMgRLCkAKJIomLUdOMdLEpKQEEYRIxzaaoQAKOCAgESMatR0IScaBVVhYEtuohKCowsVl2wimAUk++wd6tGEZKLInHdKwpq2kADiVHz/JEXP/yRvzlz6uTtd9y+ddu2LZu3HDhwzdTExMrMIVJAhBDrz3z2M5s3b4U+NS6r6Nulke39iojGmBgi4LIj+/VMUj5dFYRIqCKqYCylzMzlCq1z8X6lN6jSFYgQuuvFyhZhQPshKgBIx2lKREeOHHnve/+sLqtde3Zfd+jQrt2777v33u3btg2/xBKZb3/nu8b67srSf4eY7Mq1+tBaA4qRY//VVnTyKmsWAjabjTqEGOMqx/StNcu7UVL2WXJmMDOmYAVhOmZpdehbmDr9T6giIjw1OXX8+PE/+ZP/dPbcuYMHD1536LoDBw7cfffrZmdmYBQZLWA8Ozf72rvuOHvm7KnTpzu3hZgCbJTePEQA4MSdgYgIUdQQpbyBiYmWRG6XJXStMO1uOLoXwf4SjnSiRVSi1kRz/sL84E+EUTQ13buaQWTV9JNBFNVWqxlDrOqaCHuoxekKqUWDmIi3LaGICoAlEhFjbaPRQABEfPbZZ86dO/vC4cM/+3M/xyEzXD05MXH361734osvLbbbhNj17na6rnfb3b4lUVn6RqHVaohoWZaAmI7v3b90MDkTgipE0dSrlkhURXV6anJhYREAWTidm/7tH4jeN2k963SV6tT0ZAixbJeWKOrSgJrOKgUp+JM6UBXSg6QdnTCrgiJ+/auPHD967KUjR5vNVojD4tICACtt3b7tie//4IknniwKn25PRHrvmzE2YYMiIiJ1v+yshdZYQIwxpBNVtf9E7r726UtjrAgDIBGlP1VVhPvozpMG7LN6sQeUqUSm/4Jp0U0vNiICdC6S1GhSS9K1EVMT2E0s9c5ef/2hj37kwx/6wAfm1q+//fbbf/W//0ermiMp6Lt7956Xjhw9duxYx2UEacoAQsdu6O6QQVSJKNmyyYCYWz+7eHGh3S4T4JWqEhGzpO1+OkZUCamj0lU62wDVVmuCEC7OLyRTu6eyJYHXMSMAGqMiqpoGBQFSQ1NTE4uLZYwxtZgWHxFJrwYZAtX+u00tJu0x0WpNtiYmpyaffOKJb33rm3v373vTT7351ltvHX5eEdG6ubnFhcWvfPWRGKOIAGAarJSfyxz71X1SwcYYVWWOjYlG5AgRe4f10u1749jtCjHdjk0/JVFVFkZAVenONEHspO0zR0QkMr05k5poTTUvLs5T7NxnKqdCpO5L0fm+Ow/RGMPC0L3I9PR0s1k8+OADDzz4wObNm//hT77h13/9n1yzb99KqDPvLGLjtXfe9cwzT505fbp/n9HTrtwdl56u7ugBxKhaNLxz9sK5i2m4+5V2OjeZcAYhpWkoAAEQIYtOTk+2F9qRO8oqXTD9Swiq0FPaydUn2lVfqs1mE0EX26U1RvoMAUsmdrVf3+pDogKqhlAAp6emQl23Wq2Hv/jFF1968fDhw298wxuru8JI5Qz33nv30z/4/tnTp0KfndSvz7urT2deJ+xvQ2SsaTWbdagXF8v0sMs72azU3paQRVWBCDdu2LDQXpi/uGCIVjmmu8KmrutpbxG11k5OTpbtdlWHtJvoDQ2LYmKiAKC04HZ8gUaFFUBVDFEIdYzxe48/fvSlI0eOHm1NtKqqHrrDOoJ9q/9wkoZFAbD/49IvS0f1/T0wlj2f6spDlr5Zu6FlPykg9n5apcnedfsyxzoXHfim/56XPqs+/dyzf/lX79+8ecv+fXtvvunmdVl+kVV7cWVfLeuolT3b7Y3k1F3qnJW3PfBEK6/f13vQNyJLHdY/Rv0XWT4iMNDyiqEBhedfeOG973vfti1b9l591fWHbti4cUOGJ+/o8eMXL86ne9X+jfblpGdJWGPiMOnYab+V3jORzgot0g+xj6poSFZLWyNCYVkZM3DW1CH0w3tbQyFyehBjSLjvcqqL7cWHv/TwQw996up9+3fs3LX36qtues11uzevgot1uce5tB5d4+ehtO/yg0ZS2CM1uMpvCoDnzp3/i//8/pMnX961c+eBa/bffPP/396Zh0dVZAv8VNXtJemQfelOZycL2QOBJAQVR5hRn9t7Pld4OuMs773vm88ZB5RBdBRwxmUcZGYE/Z4LOrjiACqCDKtsQgj7kgQIKhCyL2Tt7d6q8/64SQxhEYLSSbp+f910qrurqqtOnao6S57/OX6tF8fldtfU1qnqdyvHvVumXgTnhNJexaK7WmePk7NqfNa/UHDBmHKWw++lXTUJzs8Nk6pfIHHOGVP0h54yugJEKSFccBTY2dmxfNnHx44dSR2VERcXmxgfV1hUGBJ8MQv6/oIXzhIC/Qv1e+grZvtLn/OJr/N+44XWgnPecK5AO69QuviaVVNb++ait0JCQpOTk9JHjYqPjRvwwL7ENat/JS+8ZvXr8fP2WM+1dPfrcKF1+btW2H4/Td9Fp5+EBwKtbW1vLHqLa1pmRnpBQUFkRMQAuuuy1RGhCqIQzoXCmMq5QqmGgiFBCkIgA0KZAKKoGqcIzMBAaBpQFKgQiohUoShQE8KgMP1BUZgQggEHakCOGgqDwrgQwIFe4IuAA1EIaoIZmKZxRqkmBCOEEgFU0Q2idaO8XpNG/YF1bxI1Qg1CE4IAA0IoAVQ5sJ76IxCqaoIgKAamqe6OTofJbO4NEiW4GHA0RgBAjoQSvUWEEkTUuKBI9OjvGgpDTz40rnKiUEpI74OmcqZQjQsCwBhFDbtPlpFQpafaAApjfVuk95huWaEK1LNiEQ66AbmiMBSoP3AhGAigyre/EUcOSAUAI8iRKpRz3v2LEKqBANTvxTUgSndDFMI1ofT8NMixravd32w0mbuXClXl30sIv+GNw+HYtG2rLdKakT7KZLq8EApcIO1JftZrg6mDHM9yvREanC+Md7939Wbi6AsKlfSxru33lsul12Dz3Eqe55OFCtRQXVUtAO326O6QWajBgDwkfYr2lqZdew/FJcSmJCdf4ltUjSuEEka4KoABo1R/QASFEUABhJ39L8Io4aogjABHQYEBIexbOQZC40AJB1AI57r4AgBQOSqEckDE7odvJY+Bcu1bycMBFUo1zhljBEDjnCkMEDkXiqIfXwlFYQJR/3w4Z73QW9TbNL2Zuvhq7+hQmGKxdMsroQpCyeU6rAkuBAF94etuSN86MKpxoRBKiIbUoGmcImEK1SeaJoTCqFCFoEAIMEr1eaq/onem3odCICOEMqo3hAMSAYIgRd3cUGiC6J1JGEEEjXd/EQpEgRdayvUVtt9PQwB0ed6vIaghUmxpbTWbTSMsAQAAgPqouKweg4GcjgwCrjDy3TBDqEIDQZCQS/As4B5OqCY4U0w+KriRoyo4IBoVct6VuBeBiFxVNWEy0gGY1l85HDkbaIj6q4bwCA24QoAqhis5HRkAuq3JVf3KK4O7OTJBBAEgF5dgHo1TgQhIcSD54i/OkOs3AOBurlFkSAT9Dsd+ANA8GgIOOEWDT6EJ0b1LHwQMSXWk9zLV2xUZFOhXzqDbEFy0TxAQBQohyA8Q+X6o0NtdutfAxYtyIXSzhisJWX0lDH7NW4juUJDf3Z8+DwrUHWcZ+46+6h2l3SZH8H2mgdS4YPQKoiJ6AyGEnhT9IjOxe8fPyKVOcMnZqea9ztBTR5xOZ3nFET+zX1pqysAj2g4XnC7Xrl27Dx06OCIwaHRuZmpahukCEUg1rn1d99WBHYdqamvtdntRYWGM/TJ8EIYHgnvKKipLSkoQRW5ObmZGRsCIgAsVPnKkfM++Aw31DWmj0saMHh0VGSmlWy9cCEZpe3t7yc7SY8eOmc2mCUUTUtJSrjAkzzDG4/GUHTi899B+VdXG5Ofn5WRfKFgw56L8yNFDB/Y7Xc6Y2LiCcWNDgr8He7WhCoqm5uYt276sra2Nj08YnZdrs1kvFL+uvaOjvLyiorycU8jNzU5PTwswXXCCS1rb28rLj+RkZQUEXFIaox8aNnv2bG/X4VJB7kZC123Y8Nijj1kCA8aMGcNAIwNKYD08UFV18bvvznr88YMHDlYer1y6bDlTDMlJ8Waz+Vzbv9Jdu56Y9cSSD5acOHFy1cqVX277MiEpMdpm89a+/yqjuwJt2LDh4d/+ZvMXm06c+Gb5xx+bTKbMrKx+Oe6FRxBGNm7aMmvWE59++smJU6dWrVxZcaQ8pTA1MmAg9lnDFbfH8/obbz791FMHDx3aUbJz7bq1drs9JeVSLRJ8CqfT+cmnK2bMnLF9R0lZ2eHly5ZSpmRnZwnduboHj8YBYfOWLdOm/W7VqlWnq6uXLVt2cP+BzIzMsPAwL9bfWyB3V52u+f3Mx1999dVTp06t/nx16e7SMXn5oaHniWzR0Nj4yiuvPP/884fLyrZs3vzJ8k8cDkd6Woq/JQCFSgb9vedVQyByzimlC1597e23Fo0dmx8VFeXtSgEAdPueDX6EEC5H25bSrUXFxYqizJn7jMvlVp2qt+vlNdyqtnP3roLCovumTl27Yd3qtWuvn3RDQmLS5i1f9i0muOAq9zg8D/7sofj4hLfeenvb9u0v/OUvFovl3nvvbWpq8jh8pQ8rjhy99tprr7n2un8uXfrFps1Tpv5XYlLS6tWr9euGvnxTfbKgsDAuLu7lhQu27yiZN3++Ldo2Y+Ysd1ebR9W8UvlBBVe54HzNuvU5ubk//fnP165f9+mKz3Lz8oqKiyoqKhARsX+X+jg7SnamZ2T8+Mabli7/eOPGjQ8+9LOcvNztJSWaq/9wKiuvmDR5cnJy6htvLtpRWvLCiy9GWq1Pz57t6nB5pebexeVyzZg5MyEx8Zlnn/ti85YXXpwXZbM98rtpHe0dfYtxD0eBKz//3Gq13nbbbes2rv9s5aofTZpkj4lZtXq1QHTLadsHIURra9ur//daRERkenr6lztKvF2jbobM0UJ1Tc0br72+Zv26xsaGwKCg7mzKjF9u6JRhg1Fh773zntPpmPn7mTlZmUKg3R592y23rlmzurAgv9cXAwGRYGtX+xdfbLz5ppumTJ1iNBhSkpNLS3eXV5TX1TcEpvnEOTDn4uNPPj5WWfmPtxb/5CeTCSWhYaFTptz/znvvjcnP7+uWJoSorjtNKHn44d/8/KcP+Vv8RyYlbtm8+e1Fb/7v//x3TPTluZIOS6hCW880v/fuO2HhEX+aM9tutwHQrq7O6dOnb9y0KSUlBZEriheMfwcbKJAQ4vS4P1/9eWdnx59feCEnJ4sQEmm1PvjAgx8u+Wh8YeG3hTkSSs6cOePnb3nyqdkPTr0bgBWNK9z+5faSkp0tXa1Wv0iAgeQkGrqcrPr6sxUr7rv3vlmPzaAKva54Qmtr6/p1a6tOnkjPyuothgQQsLysnDFl2vRHr594HQAgwK9+8YvDhw/dfOONA87yMyw5ceLkn198ccP69dZoG+0OFzooDJyHzEF9WVnZywteLi6e8MjvprndbgAgAJQPmfp/7zQ0NpaW7kzPyIixhQMACMxMT08emVxaWtrV1YWI3SnrCCAgpdRkNLacOaOH1XO7XDWnq4wGo9lsogPMfDnEqGto2LF9e0JiYt6YXEIJ9/DUkclZGVn79+2rr68H/ZwcAAAIIRmJGa8sfPWBhx7Q41i43O7m5ubQsFCDQWFUCjYAgPKjxzZs2JA+Ki0sLMzl1oCQCcXFsTExZWWHVVWlTDo1APSY23c5nCUlJSlpaTnZWRw5Itpttoz09D17d7W7278tzAgQyM5MffbZZ+/891v1yGZVVdVNjQ1ms5kxBQmIS0/0PPQRqthZus+jqpMmTyKUaJoGFG677dbGxoa9Bw+dVRQBgISHh3tUT0tPiM7qmhpVU4ODQwBA+JAKd2EQhCZcbs/q1asrjlY8NuOxe++9x+Vydd96DYIuGjJHC5mZmYvefvuGH/1o27YvUXSHmcLB0IVXHUQkhJw4ebK5qXlswViz3wgAQAqM0HCr9XjlUY+rAzCECAAKlFDKaLAlcMbvZyx8eeGMmY+npabu27u3trZm2qPTbTYbDjVb5stFd07paO+oqjpts0ZFhoUgAjVQs9Hs52duaW52u9wA0HvQRggJCQkOCc5DEC1nzqxZv+azFSu7HI65z/wxPDyCyk0/AADU1NQ1NjREREQoBqOqaQAkKsoWZY+ur29oa++IijR/90cMX7gQBAh6ODJOmREFb2trS0xMopSCBoQSk8kcERlRVl7W3NYcGBnYN7xVYFBYVmAoIaSpsXb9xq2L31nc0dE5bfqjIwIDCSXUByQe93BqoKqqIULVyVOMUrvdTihhAIRAtDXK4XTU1tUB9Il+RgEAiycUFxYWzX1m7sGyMkbpik8/mTR58jXXTSCEyEBHAAAEqEIJp8UTiidePzEtNfX/Xn/daDTq5oODwU5/yKgjMdFWa9S/KZRoHg8iIgqBgjIYQk34vtA0YTAwrmlujzsoMFi3xKSCAAM/kwm5QNF/7jETKyoc/+677/3j7UUjRyZ//fXX+QVjb77pZrPJNPxNWRkBgK5OR1dnZ+CIFACFC6EJYTYoISGhGucdnZ0AQJSzZqPgwqM61m/YsOj1N3fv3p2RmZWTnWVSDFzoueV8Ha5pJrM5KCgIAEyMAoDJZDAb/VrPNLvdbt0aZwApPYcHFJEQLhSmC3kiVEQMDwsDAEIQCCGMGEYYuhxdrTXtEAm9yaV1NJUrBrZq9bq/zJt36sTJrJzsuLg4P6NB92byXrN+cLpDUxoocmSMelStqaWFKUxvNReEUoKE+Pv7t7W2Qu/9AgE9W16c3TbphhvmzJm96PXXDEZjbU3NlKlTE2JjoccRzLutGySYTEpubo4QGnKiaSoXA0x48kMwdNZy3eGc9iRVAUIJpZyC750K65p+UGCgyWRWmSr6XB+omoZ6SjwCggAF0BeGxubG3zz8sNFofP2NRQnx8bv37Hn9tdeenDPrj889kxyd4r2mXA30xCt+fkajyQgECCMKENAEAJhMJhRCVT1wzuaAKtRI/SdMmJCUlPTVV8f/+re/3X///R998GFiYhJQudMCk59/SHCI0WAAAA8I/TBECG4wGBRFoZT0pM3xOYQQm7ZsdbmcejDtxMREa0QwQXQ4HABAGAUgIFBzcq5xu2u0kAAACtpJREFUl8sFPemCezEYFCAw8dprs5PTjp76Zv78+U8//dTChQvjY+MGwwX/D4Ee4fdwRXl1TQ2iQIGKQSkck2MymoTWLd8YRSAo3NzldDmdTgAghANhvSdLy5Z/vGjRoqkPPHjP3XcJLt5evPiVhQtCwoN/OuVB0LB/PmLfwOF0dnV26s+E0qDAIINBIUAoYXoWKjKYztuGjjoChFIEAKYoAAQIASADiUM7XLCMCAwMHNHR1M7dHBTQk18Y9XzwlBIEgj2ZV1HdXbrrwMH9c5955j/uuJ0xlpOd3dra+rf5L227YUfyT4e5OqKrGZYA/5CQkJYzZ7ocDou/v8o8Cirt7W2Kovj5WwAA0INo1JUSzjkXwqAo0dE2m82amTHqdE3Nk48//q916375i58zefALEBI8wt/fv629HRGNFFCoDs3tcjv1PCy6Y82V5FIYiiBHAOCCz5r1+DfffAMAnPO77r7nL39+YURQsKppACg0JBScHpW7VH+LJTBQH3ugJ1sGAM6FEJwxlpCYGJeQMHp8QeXx4y88/3zl15Vx9thBcaT+A4CcEQofLlny7uLFDqdDUZRoe/Sbb74VHx8rQLgcbug5HaEGikKEhUcAAFIFEAkAEKipq126/JOIyMjHZ860WaMIITGxMffcvW/NqjW33HhrhO+5SQvN2elU5//178uWLdVDh4aFhb2ycEFaUho1Ui5AMTLSndLL23XtYQipI3p+DYMQvCcxkM9uwAAAIsLDAiwBDXWNbpfHYrEgaAC08nhlaFi40WgEAoIg0QAJOlzq1u3bw8MjiosKEQlXNYWRO+64Y/5L8yqOlHu7HT88ggNV/Pz8IyIiqqqqWppbLP7+ZiBut7uuod5qs1kjIwAAqElwwRjhgpdXHNlVWnrD5EmxMTFc434m44Tx441GY9nhQw6Hw2z2acMInaDAIIPJWF9fzzlHpIqitLY1tbW0ZmRnjAi0EEoG1a7r6qD7vDDCpv1uemt7K3JBKBk1ahQICAiwVJ06BUJDAAIMhKhrbAiPDE+LS4Ce/CYKIwBQcfTo/v37r7nmmrhYu6ZpCihFBYVRkVEH9h++bvx1BtPwPA3WcxL9++23JycnqW6VKorF3z/WHnMyKpIgnK6tzsnLppQSAjW1Nf4WS0JiHACgQI56XhVafbr60KEDt91ya2R4mMflUYwseeTIiROv37p1S0NjQ3hYKAwO84irhgAjY5iUmFBUVAQAyHnAiBH+/hY954DCiCYEAnLONW2w3NcMKXWEGgCgbzw+X/Zy8PfzGztu3No1/6qurQkLD1UUU3lZ2elTVVOmTPX3txBCDIyBvo0nYDSa2tvajh77Ki9vDKUKCnXfiZ2apoWF+sCmgSoAEBYamj92XElJSfmRI3Z7NKHGwxVlhw4eHl883m6PAQBCgCkUAASKyuOVc+fOOVF1avojjwQFBTmdzpKdO91ud7Q9xmg0ulXNZBhSE+f7BjmOSk0rnnDN4cOHa+vqEuLjCSHbvtj29Ymvpzww1eIXIDQ3UoNv3tZTSu+6685e41RCiKZq+fn5ixf/o6LyeHraKABSU1N9tOLIpMmTlYAAAKAKpXqeQkb37tnzhz88OXPWE//zy18yqlBGDx4+2NBQb7dZFUUhAmD4ns0VFIwbOy6/N8kxpbSosGhEYOCWrdv/7eabKCWdnV2frfw8MDCoYOw4AKCU0J7usPhbwsLCa2vrOt1dwQHBhJBTp04fOXIkMCjYYrH4oHKsKIwxv7vvuuuO22/X7w0JIbqrICIiR8oIIDBKlXOyY3qLoRSVVefYscql//znxBuuLx4/XmGc+LBLYZQ1ctXKVQcPHUpNTa2qOj1nzhyHy/Xo9N8mxCc4Xe5333//7wsWpI8aFW2zxcfFr1mzZtvWbalpqQDk409XzvvT/Ojo6GnTpkdG+kSkUUqpn7957bp1B/btT0/PdLndc2fPbm9vf/IPTyQnjQQCq1Z9/qfnnhuZPDLaajMaTStWfLZt69agkFCbzbp8+fL5L80fERg0e/Zsuy3a4PNx0AlwxaCggHfefae+oWFs/pj9+/b8fuaslLSUR37z29CQEEKVwZMI4+pDdCfdHihllCorV362Z/eelNTU5ubm2XPmutzOmU//wRYRCQAfLFkyb/5LVpvNbo8GSnaWlGzcuCHSGsk5/2jp0pdffjkzK/vXv/51cHAwEhjeHdun2wgAKIpSVlHx0YcfBIUER0RELn7nnQUv//1nD/3sx5MnG43GyuPHZ816cv+BA+PHF0WEhHc4Oz784MOO9q60pLhvTp6e99f5mzZt/NWvfnXjj39MwAcVEiCEKIpiMplMJqPJaDb1OC4QQgglHs737tu/Z/euW2+9PTZmcCQMuapB174PPl+9Ojra/uxzzzmdTrfD4+3qeBOPy/HB+x+Myc/PzskZPWZMdm7O+0uWOLocKLCjo2PGzJkpqalbt27VC/9rzZqf/OTGzKzs/LHjUlJTb7zp5i82bXa73d5twlVDcOF0ulasXD3x+utz83Lzx47Lys5++x+LnU4X93BEnPfS/Pj4+K3btqFA1aOW7Cy99fbb00aNGltQkJ6ecc99923ZslVVVY1zbzdlsNDa2jZv3vy80aPHFRZm5eRcd/2P1m/8gnMZj/U8dHV2LPnoo6LiCWPG5Ofk5ubk5Lz3/gdud7f4emrOnLy8vKXLl3POVVXdsnXbzbfckpKampOXm5CYeOd/3rWjpETz+GJcUSHEocOH75syZWRycv7YsUkjR9573/3fnDqhx+PeUVKSO3r0f9x5p9Pp4iqvbqyZ+cSsxJFJBQWFObm56ZkZc+Y+U1tXj4hC8+VhKVBoXD2P4FqwcOHo/DG79+y9+nU6L0Mvhd7J+lOl20uzM7LTUlMBYVjamV86bre7vr6+6nQ15zw2NsYeHW00GIGAEKKlpaWjo8Nqtfr5+QGApmlNTU0tDS21TfVRUZER4eERkZHDe6d1Lpqm1Tc0nD5d1eVwxNhj4+JizSaTHr2gpaXlzJkz0dHRfn5++iv1DQ11dXX19fXRtmirzRoWGupTd8+XgsPhaGxsrDpdjYiJiQlRUZEGxXdPKy8KqqpWX19fU13rVF0JsbFRkRFmv+68Zc0tLR3t7eHh4QEBAQDAOW9qaqqrrmvtbLNZrSEhIaGhYT7rNS2EaDlzpqmpsbauLnBEUHxcXGhYqG6D6XS56urqTEaTzWYFAEJIR0dHfUNDY2OTxjV7dHRkRIQlIEBO2gtR+dVXxyqPTSwuCAgcFLf2Q08dkfQFAQC7bfKx56H7XwgA/V7p+bNP2CWfozd00tnddZ5XEAEIEEBE3zzs/U4uMvwkF+Gcqaq7h5xvqgL49nQFgG89j847Z6GfjSoiyAE5NPFRjXvYgIiC9/gZ8bM0S4HY95WzSgrf1UERUfeKFhyhbzcgCH6Wbo6C68JOv3+4yvUcEmCfMdZv+EkuQr++Qo6A/IIFcLA4PngLwYXeIeeOMS6w/4vYnfZCDsghhzwdkUgkEolE4mXk6YhEIpFIJBIvI9URiUQikUgkXkaqIxKJRCKRSLyMVEckEolEIpF4GamOSCQSiUQi8TJSHZFIJBKJROJlpDoikUgkEonEy0h1RCKRSCQSiZeR6ohEIpFIJBIvI9URiUQikUgkXkaqIxKJRCKRSLyMVEckEolEIpF4GamOSCQSiUQi8TJSHZFIJBKJROJl/h+4mjD0DMiWGAAAAABJRU5ErkJggg==)"
      ]
    },
    {
      "cell_type": "code",
      "execution_count": 77,
      "metadata": {
        "colab": {
          "base_uri": "https://localhost:8080/"
        },
        "id": "jTm0DXe3qhJw",
        "outputId": "ee71d31b-1e1c-411c-8aa8-a6ab13c1c41d"
      },
      "outputs": [
        {
          "output_type": "stream",
          "name": "stdout",
          "text": [
            "\n",
            "\tPearson's product-moment correlation\n",
            "\n",
            "data:  incheon0427_ex$cor1 and incheon0427_ex$cor2\n",
            "t = 15.716, df = 554, p-value < 2.2e-16\n",
            "alternative hypothesis: true correlation is not equal to 0\n",
            "95 percent confidence interval:\n",
            " 0.4950086 0.6102786\n",
            "sample estimates:\n",
            "     cor \n",
            "0.555305 \n",
            "\n"
          ]
        }
      ],
      "source": [
        "%%R\n",
        "# 추리통계학으로 확인하기\n",
        "cor_test=cor.test(incheon0427_ex$cor1, incheon0427_ex$cor2)\n",
        "cor_test"
      ]
    },
    {
      "cell_type": "markdown",
      "metadata": {
        "id": "VA8g1k3wtPrx"
      },
      "source": [
        "- Pearson 상관계수(r)는 0.554이고, 이에 대한 p-value는 2.2e-16(2.2를 기준으로 소수점이 왼쪽으로 16자리 이동을 의미, +일 경우 오른쪽으로 이동함을 뜻함)로서 기준이 되는 0.05보다 현저히 작은 값임 → 귀무가설 기각  \n",
        "- 이때 p-value가 기준값(critical value, criteria)보다 작아서(귀무가설 기각) 내재되어 있는 귀무가설(모집단에서 상관계수가 0이다, true correlation is equal to 0)을 기각하여 연구가설(모집단에서 상관계수는 0이 아니다, true correlation is not equal to 0)을 채택하게 되므로 두 변수(긍정적 경제인식과 긍정적 사회인식)는 유의수준 0.05(95% 신뢰수준)에서 서로 상관관계(0.554)가 있다고 할 수 있음"
      ]
    },
    {
      "cell_type": "code",
      "execution_count": 78,
      "metadata": {
        "colab": {
          "base_uri": "https://localhost:8080/"
        },
        "id": "oahW7OKvsUim",
        "outputId": "3ace8a8d-c638-4629-dc0a-32176a80d956"
      },
      "outputs": [
        {
          "output_type": "stream",
          "name": "stdout",
          "text": [
            "Effect sizes were labelled following Funder's (2019) recommendations.\n",
            "\n",
            "The Pearson's product-moment correlation between incheon0427_ex$cor1 and incheon0427_ex$cor2 is positive, statistically significant, and very large (r = 0.56, 95% CI [0.50, 0.61], t(554) = 15.72, p < .001)"
          ]
        }
      ],
      "source": [
        "%%R\n",
        "# Correlations\n",
        "report(cor_test)\n",
        "#report(res2)"
      ]
    },
    {
      "cell_type": "markdown",
      "metadata": {
        "id": "j-B-Bwznsl5s"
      },
      "source": [
        "`incheon0427_ex$cor1`과 `incheon0427_ex$cor2` 간의 Pearson 곱-모멘트 상관은 양의 값을 가지며 통계적으로 유의하며 매우 큽니다(r = 0.56, 95% CI [0.50, 0.61], t(554) = 15.72, p < .001).\n",
        "\n",
        "  - 귀무가설: `incheon0427_ex$cor1`과 `incheon0427_ex$cor2`는 통계적으로 유의한 연관성 없다(채택되려면 p-value가 0.05보다 커야 함)\n",
        "  - 연구가설: `incheon0427_ex$cor1`과 `incheon0427_ex$cor2`는 통계적으로 유의한 연관성 있다(채택되려면 p-value가 0.05보다 작아야 함)"
      ]
    },
    {
      "cell_type": "markdown",
      "metadata": {
        "id": "fZeIdjhGvWYB"
      },
      "source": [
        "## 차이분석: 질적 그룹변수에 따른 양적변수의 차이에 대한 추리통계"
      ]
    },
    {
      "cell_type": "markdown",
      "metadata": {
        "id": "Flko5tIxvZBu"
      },
      "source": [
        "\\### t-test: 질적 그룹변수의 카테고리가 2개인 경우"
      ]
    },
    {
      "cell_type": "code",
      "execution_count": 79,
      "metadata": {
        "id": "iKu-8HXpyQsG",
        "colab": {
          "base_uri": "https://localhost:8080/"
        },
        "outputId": "7215efda-cb41-412d-b051-0d63b1b07b46"
      },
      "outputs": [
        {
          "output_type": "stream",
          "name": "stdout",
          "text": [
            "\n",
            "\tClassical Levene's test based on the absolute deviations from the mean\n",
            "\t( zero.correction not applied because the location is not set to median\n",
            "\t)\n",
            "\n",
            "data:  analy_dataset$sup_avg\n",
            "Test Statistic = 2.3562, p-value = 0.1254\n",
            "\n"
          ]
        }
      ],
      "source": [
        "%%R\n",
        "### t-test\n",
        "# if (!require(lawstat)) {install.packages(\"lawstat\")\n",
        "#   library(lawstat)}\n",
        "print(lawstat::levene.test(analy_dataset$sup_avg, analy_dataset$gender,                             # 형식: 양적변수, 질적변수\n",
        "            location = \"mean\", correction.method = \"zero.correction\"))"
      ]
    },
    {
      "cell_type": "markdown",
      "metadata": {
        "id": "NM5b1-j5Afld"
      },
      "source": [
        "등분산 검증결과 p-value가 0.05보다 크므로 귀무가설 채택\n",
        "  - 귀무가설: sup_avg가 성별에 대해서 등분산임\n",
        "  - 연구가설: sup_avg가 성별에 대해서 등분산이 아님"
      ]
    },
    {
      "cell_type": "code",
      "execution_count": 80,
      "metadata": {
        "id": "7lSzRwdzAdVJ",
        "colab": {
          "base_uri": "https://localhost:8080/"
        },
        "outputId": "0c196a02-5ecc-41de-a5b9-ba85cdbd750d"
      },
      "outputs": [
        {
          "output_type": "stream",
          "name": "stdout",
          "text": [
            "\n",
            "\tTwo Sample t-test\n",
            "\n",
            "data:  analy_dataset$sup_avg by analy_dataset$gender\n",
            "t = 1.8614, df = 554, p-value = 0.06322\n",
            "alternative hypothesis: true difference in means between group 남자 and group 여자 is not equal to 0\n",
            "95 percent confidence interval:\n",
            " -0.006648239  0.247179032\n",
            "sample estimates:\n",
            "mean in group 남자 mean in group 여자 \n",
            "          3.281022           3.160757 \n",
            "\n",
            "Effect sizes were labelled following Cohen's (1988) recommendations.\n",
            "\n",
            "The Two Sample t-test testing the difference of analy_dataset$sup_avg by analy_dataset$gender (mean in group 남자 = 3.28, mean in group 여자 = 3.16) suggests that the effect is positive, statistically not significant, and very small (difference = 0.12, 95% CI [-6.65e-03, 0.25], t(554) = 1.86, p = 0.063; Cohen's d = 0.16, 95% CI [-8.70e-03, 0.32])"
          ]
        }
      ],
      "source": [
        "%%R\n",
        "print(t.test(analy_dataset$sup_avg ~ analy_dataset$gender, var.equal=T))\n",
        "#print(t.test(analy_dataset$sup_avg ~ analy_dataset$gender, var.equal=F))\n",
        "report(t.test(analy_dataset$sup_avg ~ analy_dataset$gender, var.equal = TRUE))"
      ]
    },
    {
      "cell_type": "markdown",
      "metadata": {
        "id": "VG4ghgfkBV3z"
      },
      "source": [
        "`Analy_dataset$gender`(남자 그룹의 평균 = 3.28, 여자 그룹의 평균 = 3.16)에 의한 `analy_dataset$sup_avg`의 차이를 테스트하는 Two Sample t-test는 효과가 긍정적이고 통계적으로 유의하지 않으며 매우 작음을 시사합니다(차이 = 0.12 , 95% CI [-6.65e-03, 0.25], t(554) = 1.86, p = 0.063, Cohen의 d = 0.16, 95% CI [-8.70e-03, 0.32])"
      ]
    },
    {
      "cell_type": "markdown",
      "metadata": {
        "id": "a2qqW3Bow4jL"
      },
      "source": [
        "- 귀무가설: 성별에 따라 지지도의 차이는 (모집단에서) 존재하지 않음\n",
        "- 연구가설: 성별에 따라 지지도의 차이는 (모집단에서) 존재함"
      ]
    },
    {
      "cell_type": "markdown",
      "metadata": {
        "id": "A9ELffiEvbUr"
      },
      "source": [
        "### One-way Anova: 질적 그룹변수의 카테고리가 3개 이상인 경우"
      ]
    },
    {
      "cell_type": "code",
      "execution_count": 81,
      "metadata": {
        "colab": {
          "base_uri": "https://localhost:8080/"
        },
        "id": "ljgxO1COxNX5",
        "outputId": "538add12-c293-4f7d-8ab4-b01f8d112c6a"
      },
      "outputs": [
        {
          "output_type": "stream",
          "name": "stdout",
          "text": [
            "    20대     30대     40대     50대 60대이상 \n",
            "3.032828 3.142857 3.218905 3.423188 3.500000 \n",
            "     20대      30대      40대      50대  60대이상 \n",
            "0.8194620 0.7400129 0.7033806 0.7123551 0.7971834 \n"
          ]
        }
      ],
      "source": [
        "%%R\n",
        "print(tapply(analy_dataset$sup_avg,analy_dataset$age_cate,mean))\n",
        "tapply(analy_dataset$sup_avg,analy_dataset$age_cate,sd)"
      ]
    },
    {
      "cell_type": "code",
      "execution_count": 82,
      "metadata": {
        "colab": {
          "base_uri": "https://localhost:8080/"
        },
        "id": "roM35OX7x4xQ",
        "outputId": "a9f41f4f-e4de-45e4-bcba-cb819b7ee1e1"
      },
      "outputs": [
        {
          "output_type": "stream",
          "name": "stdout",
          "text": [
            "\n",
            "\tBartlett test of homogeneity of variances\n",
            "\n",
            "data:  sup_avg by age_cate\n",
            "Bartlett's K-squared = 4.1633, df = 4, p-value = 0.3844\n",
            "\n"
          ]
        }
      ],
      "source": [
        "%%R\n",
        "# 등분산 확인하는 방법\n",
        "bartlett.test(sup_avg ~ age_cate, data=analy_dataset) # q3: 연령"
      ]
    },
    {
      "cell_type": "code",
      "execution_count": 83,
      "metadata": {
        "colab": {
          "base_uri": "https://localhost:8080/"
        },
        "id": "M9aup8q_yVsO",
        "outputId": "3ab74144-6d7e-4f24-daf7-4c27d8a9fe5d"
      },
      "outputs": [
        {
          "output_type": "stream",
          "name": "stdout",
          "text": [
            "             Df Sum Sq Mean Sq F value   Pr(>F)    \n",
            "age_cate      4  13.46   3.364    5.98 0.000103 ***\n",
            "Residuals   551 309.96   0.563                     \n",
            "---\n",
            "Signif. codes:  0 ‘***’ 0.001 ‘**’ 0.01 ‘*’ 0.05 ‘.’ 0.1 ‘ ’ 1\n"
          ]
        }
      ],
      "source": [
        "%%R\n",
        "# 등분산 만족시\n",
        "#incheon0427$q3=as.factor(incheon0427$q3)\n",
        "round(tapply(analy_dataset$sup_avg,analy_dataset$age_cate,mean),3)\n",
        "round(tapply(analy_dataset$sup_avg,analy_dataset$age_cate,sd),3)\n",
        "anova<-aov(sup_avg ~ age_cate, data=analy_dataset)\n",
        "print(summary(anova))"
      ]
    },
    {
      "cell_type": "code",
      "execution_count": 84,
      "metadata": {
        "colab": {
          "base_uri": "https://localhost:8080/"
        },
        "id": "Z0L9T0t_0wMS",
        "outputId": "25e46daa-ef5b-4e7e-ac37-2046c49fdfd3"
      },
      "outputs": [
        {
          "output_type": "stream",
          "name": "stderr",
          "text": [
            "R[write to console]: For one-way between subjects designs, partial eta squared is equivalent to eta squared.\n",
            "Returning eta squared.\n",
            "\n"
          ]
        },
        {
          "output_type": "stream",
          "name": "stdout",
          "text": [
            "The ANOVA (formula: sup_avg ~ age_cate) suggests that:\n",
            "\n",
            "  - The main effect of age_cate is statistically significant and small (F(4, 551) = 5.98, p < .001; Eta2 = 0.04, 95% CI [0.01, 1.00])\n",
            "\n",
            "Effect sizes were labelled following Field's (2013) recommendations."
          ]
        }
      ],
      "source": [
        "%%R\n",
        "report(anova)"
      ]
    },
    {
      "cell_type": "markdown",
      "metadata": {
        "id": "dDzfoT061Fn3"
      },
      "source": [
        "ANOVA(공식: sup_avg ~ age_cate)는 다음을 제안합니다.\n",
        "\n",
        "  - `age_cate`의 주효과는 통계적으로 유의하고 작음(F(4, 551) = 5.98, p < .001; Eta2 = 0.04, 95% CI [0.01, 1.00])\n",
        "\n",
        "효과 크기는 Field(2013) 권장 사항에 따라 레이블이 지정되었습니다."
      ]
    },
    {
      "cell_type": "markdown",
      "metadata": {
        "id": "mImHAs_c0pq6"
      },
      "source": [
        "위의 결과에서 p-value가 0.05보다 작으므로 귀무가설 기각\n",
        "- 귀무가설: 연령에 따라 지지도의 차이는 (모집단에서) 존재하지 않음\n",
        "- 연구가설: 연령에 따라 지지도의 차이는 (모집단에서) 존재함"
      ]
    },
    {
      "cell_type": "markdown",
      "metadata": {
        "id": "L32RGqdF1l49"
      },
      "source": [
        "사후분석: 등분산 만족시"
      ]
    },
    {
      "cell_type": "code",
      "execution_count": 85,
      "metadata": {
        "colab": {
          "base_uri": "https://localhost:8080/"
        },
        "id": "CMT2UrMC1lK9",
        "outputId": "6dc81f09-1a46-41bc-9e36-3d2d7fc24272"
      },
      "outputs": [
        {
          "output_type": "stream",
          "name": "stdout",
          "text": [
            "  Tukey multiple comparisons of means\n",
            "    95% family-wise confidence level\n",
            "\n",
            "Fit: aov(formula = sup_avg ~ age_cate, data = analy_dataset)\n",
            "\n",
            "$age_cate\n",
            "                    diff          lwr       upr     p adj\n",
            "30대-20대     0.11002886 -0.142165670 0.3622234 0.7548510\n",
            "40대-20대     0.18607719 -0.065648167 0.4378025 0.2562419\n",
            "50대-20대     0.39036012  0.128518850 0.6522014 0.0004943\n",
            "60대이상-20대 0.46717172  0.103517586 0.8308258 0.0043112\n",
            "40대-30대     0.07604833 -0.175199849 0.3272965 0.9217928\n",
            "50대-30대     0.28033126  0.018948700 0.5417138 0.0285235\n",
            "60대이상-30대 0.35714286 -0.006181129 0.7204668 0.0566700\n",
            "50대-40대     0.20428293 -0.056646978 0.4652128 0.2036032\n",
            "60대이상-40대 0.28109453 -0.081903948 0.6440930 0.2132615\n",
            "60대이상-50대 0.07681159 -0.293273653 0.4468968 0.9796208\n",
            "\n"
          ]
        }
      ],
      "source": [
        "%%R\n",
        "# 사후분석\n",
        "print(TukeyHSD(anova))"
      ]
    },
    {
      "cell_type": "markdown",
      "metadata": {
        "id": "gWObQAp31zoV"
      },
      "source": [
        "쌍대비교를 해본결과 통계적으로 유의한 차이가 나는 그룹은 50대-20대, 60대이상-20대, 50대-30대로 나타났음"
      ]
    },
    {
      "cell_type": "markdown",
      "metadata": {
        "id": "jZwjjPtT2nFv"
      },
      "source": [
        "실제결과는 등분산을 만족하지만 등분산을 만족하지 못한다고 가정하여 분석해보면"
      ]
    },
    {
      "cell_type": "code",
      "execution_count": 86,
      "metadata": {
        "colab": {
          "base_uri": "https://localhost:8080/"
        },
        "id": "-g6nNo06yYjz",
        "outputId": "2d756daa-5924-45df-d3ee-4746036b1cb7"
      },
      "outputs": [
        {
          "output_type": "stream",
          "name": "stdout",
          "text": [
            "\n",
            "\tOne-way analysis of means (not assuming equal variances)\n",
            "\n",
            "data:  sup_avg and age_cate\n",
            "F = 5.6423, num df = 4.00, denom df = 200.85, p-value = 0.0002527\n",
            "\n"
          ]
        }
      ],
      "source": [
        "%%R\n",
        "# 등분산 불만족시\n",
        "oneway.test(sup_avg ~ age_cate, data=analy_dataset) # 정규분포는 하나 등분산은 아닐 때"
      ]
    },
    {
      "cell_type": "code",
      "execution_count": 87,
      "metadata": {
        "id": "f7Ey0s-T88Bf"
      },
      "outputs": [],
      "source": [
        "%%R\n",
        "posthocTGH <- function(y, x, method=c(\"games-howell\", \"tukey\"),\n",
        "                       conf.level = 0.95, digits=2,\n",
        "                       p.adjust=\"none\", formatPvalue = TRUE) {\n",
        "  ### Based on http://www.psych.yorku.ca/cribbie/6130/games_howell.R\n",
        "  method <- tolower(method);\n",
        "  tryCatch(method <- match.arg(method), error=function(err) {\n",
        "    stop(\"Argument for 'method' not valid!\");\n",
        "  });\n",
        "  \n",
        "  res <- list(input = as.list(environment()));\n",
        "  \n",
        "  res$intermediate <- list(x = factor(x[complete.cases(x,y)]),\n",
        "                           y = y[complete.cases(x,y)]);\n",
        "  res$intermediate$n <- tapply(y, x, length);\n",
        "  res$intermediate$groups <- length(res$intermediate$n);\n",
        "  res$intermediate$df <- sum(res$intermediate$n) - res$intermediate$groups;\n",
        "  res$intermediate$means <- tapply(y, x, mean);\n",
        "  res$intermediate$variances <- tapply(y, x, var);\n",
        "  res$intermediate$names <- levels(res$intermediate$x)\n",
        "  res$intermediate$pairNames <- combn(res$intermediate$groups,2,function(ij){\n",
        "    paste0(rev(res$intermediate$names[ij]),collapse=\"-\");\n",
        "  })\n",
        "  \n",
        "  res$intermediate$descriptives <- cbind(res$intermediate$n,\n",
        "                                         res$intermediate$means,\n",
        "                                         res$intermediate$variances);\n",
        "  rownames(res$intermediate$descriptives) <- levels(res$intermediate$x);\n",
        "  colnames(res$intermediate$descriptives) <- c('n', 'means', 'variances');\n",
        "  \n",
        "  ### Start on Tukey\n",
        "  res$intermediate$errorVariance <-\n",
        "    sum((res$intermediate$n-1) * res$intermediate$variances) /\n",
        "    res$intermediate$df;\n",
        "  res$intermediate$se <- combn(res$intermediate$groups,2, function(ij) {\n",
        "    sqrt(res$intermediate$errorVariance*sum(1/res$intermediate$n[ij]));\n",
        "  } )\n",
        "  res$intermediate$dmeans <- combn(res$intermediate$groups, 2, function(ij) {\n",
        "    diff(res$intermediate$means[ij]) } )\n",
        "  res$intermediate$t <- abs(res$intermediate$dmeans)/res$intermediate$se\n",
        "  res$intermediate$p.tukey <- ptukey(res$intermediate$t*sqrt(2),\n",
        "                                     res$intermediate$groups,\n",
        "                                     res$intermediate$df,\n",
        "                                     lower.tail=FALSE);\n",
        "  res$intermediate$alpha <- (1-conf.level);\n",
        "  res$intermediate$qcrit <- qtukey(res$intermediate$alpha,\n",
        "                                   res$intermediate$groups,\n",
        "                                   res$intermediate$df,\n",
        "                                   lower.tail=FALSE) / sqrt(2);\n",
        "  res$intermediate$tukey.low <- res$intermediate$dmeans - (res$intermediate$qcrit * res$intermediate$se);\n",
        "  res$intermediate$tukey.high <- res$intermediate$dmeans + (res$intermediate$qcrit * res$intermediate$se);\n",
        "  res$output <- list();\n",
        "  res$output$tukey <- data.frame(res$intermediate$dmeans,\n",
        "                                 res$intermediate$tukey.low,\n",
        "                                 res$intermediate$tukey.high,\n",
        "                                 res$intermediate$t,\n",
        "                                 res$intermediate$df,\n",
        "                                 res$intermediate$p.tukey)\n",
        "  columnNames <- c('diff', 'ci.lo', 'ci.hi', 't', 'df', 'p');\n",
        "  if (p.adjust != \"none\") {\n",
        "    res$output$tukey$p.tukey.adjusted <- p.adjust(res$intermediate$p.tukey,\n",
        "                                                  method = p.adjust);\n",
        "    columnNames <- c(columnNames, 'p.adjusted');\n",
        "  }\n",
        "\n",
        "  rownames(res$output$tukey) <- res$intermediate$pairNames;\n",
        "  colnames(res$output$tukey) <- columnNames;\n",
        "  \n",
        "  ### Start on Games-Howell\n",
        "  res$intermediate$df.corrected <- combn(res$intermediate$groups, 2, function(ij) {               \n",
        "    sum(res$intermediate$variances[ij] /\n",
        "          res$intermediate$n[ij])^2 / \n",
        "      sum((res$intermediate$variances[ij] /\n",
        "             res$intermediate$n[ij])^2 / \n",
        "            (res$intermediate$n[ij]-1));\n",
        "  } )\n",
        "  res$intermediate$se.corrected <- combn(res$intermediate$groups,2, function(ij) {\n",
        "    sqrt(sum(res$intermediate$variances[ij]/res$intermediate$n[ij]));\n",
        "  } )\n",
        "  res$intermediate$t.corrected <- abs(res$intermediate$dmeans)/res$intermediate$se.corrected\n",
        "  \n",
        "  res$intermediate$qcrit.corrected <- \n",
        "    qtukey(res$intermediate$alpha,\n",
        "           res$intermediate$groups,\n",
        "           res$intermediate$df.corrected,\n",
        "           lower.tail=FALSE) / sqrt(2)\n",
        "  \n",
        "  res$intermediate$gh.low <- res$intermediate$dmeans - \n",
        "    res$intermediate$qcrit.corrected*res$intermediate$se.corrected\n",
        "  res$intermediate$gh.high <- res$intermediate$dmeans + \n",
        "    res$intermediate$qcrit.corrected*res$intermediate$se.corrected\n",
        "  \n",
        "  \n",
        "  res$intermediate$p.gameshowell <- ptukey(res$intermediate$t.corrected*sqrt(2),\n",
        "                                           res$intermediate$groups,\n",
        "                                           res$intermediate$df.corrected,\n",
        "                                           lower.tail=FALSE)  \n",
        "  res$output$games.howell <- data.frame(res$intermediate$dmeans,\n",
        "                                        res$intermediate$gh.low,\n",
        "                                        res$intermediate$gh.high,\n",
        "                                        res$intermediate$t.corrected,\n",
        "                                        res$intermediate$df.corrected,\n",
        "                                        res$intermediate$p.gameshowell);\n",
        "  columnNames <- c('diff', 'ci.lo', 'ci.hi', 't', 'df', 'p');\n",
        "  if (p.adjust != \"none\") {\n",
        "    res$output$games.howell$p.gameshowell.adjusted <- p.adjust(res$intermediate$p.gameshowell,\n",
        "                                                               method = p.adjust);\n",
        "    columnNames <- c(columnNames, 'p.adjusted');\n",
        "  }\n",
        "  rownames(res$output$games.howell) <- res$intermediate$pairNames;\n",
        "  colnames(res$output$games.howell) <- columnNames;\n",
        "  \n",
        "  ### Set class and return object\n",
        "  class(res) <- 'posthocTGH';\n",
        "  return(res);\n",
        "  \n",
        "}"
      ]
    },
    {
      "cell_type": "code",
      "execution_count": 88,
      "metadata": {
        "colab": {
          "base_uri": "https://localhost:8080/"
        },
        "id": "vlgKt4sX5zAp",
        "outputId": "91399507-e187-49b3-f7f2-322fbc6d1e2c"
      },
      "outputs": [
        {
          "output_type": "stream",
          "name": "stdout",
          "text": [
            "           n    means variances\n",
            "20대     132 3.032828 0.6715180\n",
            "30대     133 3.142857 0.5476190\n",
            "40대     134 3.218905 0.4947443\n",
            "50대     115 3.423188 0.5074498\n",
            "60대이상  42 3.500000 0.6355014\n",
            "                    diff       ci.lo     ci.hi         t        df            p\n",
            "30대-20대     0.11002886 -0.15352369 0.3735814 1.1468376 259.90276 0.7813640642\n",
            "40대-20대     0.18607719 -0.07133579 0.4434902 1.9859176 256.87949 0.2757929128\n",
            "50대-20대     0.39036012  0.12250050 0.6582197 4.0050390 244.99935 0.0007781186\n",
            "60대이상-20대 0.46717172  0.06911960 0.8652238 3.2855255  70.70285 0.0133227660\n",
            "40대-30대     0.07604833 -0.16668373 0.3187804 0.8605507 264.10435 0.9109537177\n",
            "50대-30대     0.28033126  0.02649790 0.5341646 3.0352601 243.16041 0.0221850838\n",
            "60대이상-30대 0.35714286 -0.03215761 0.7464433 2.5742126  64.85807 0.0872503067\n",
            "50대-40대     0.20428293 -0.04316311 0.4517290 2.2691481 240.35189 0.1585995067\n",
            "60대이상-40대 0.28109453 -0.10432895 0.6665180 2.0488339  62.30644 0.2554823099\n",
            "60대이상-50대 0.07681159 -0.31520874 0.4688319 0.5494455  66.37028 0.9816422502\n"
          ]
        }
      ],
      "source": [
        "%%R\n",
        "# 사후분석\n",
        "#library(userfriendlyscience)\n",
        "densityplot(sup_avg ~ age_cate, data=analy_dataset)\n",
        "# posthocTGH(incheon0427$q3, y = incheon0427$q10, method = 'games-howell')\n",
        "games_howell=posthocTGH(analy_dataset$age_cate, y = analy_dataset$sup_avg, method = 'games-howell')\n",
        "print(games_howell$intermediate$descriptives)\n",
        "print(games_howell$output$games.howell)\n",
        "\n",
        "# pairwise.t.test(incheon0427$q10, incheon0427$q3,\n",
        "#                  p.adjust.method = \"BH\", pool.sd = FALSE)"
      ]
    }
  ],
  "metadata": {
    "colab": {
      "collapsed_sections": [],
      "name": "incheon0427data 22.05.30",
      "provenance": [],
      "toc_visible": true,
      "include_colab_link": true
    },
    "kernelspec": {
      "display_name": "Python 3",
      "name": "python3"
    },
    "language_info": {
      "name": "python"
    }
  },
  "nbformat": 4,
  "nbformat_minor": 0
}