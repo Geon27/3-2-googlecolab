{
  "cells": [
    {
      "cell_type": "markdown",
      "metadata": {
        "id": "view-in-github",
        "colab_type": "text"
      },
      "source": [
        "<a href=\"https://colab.research.google.com/github/Geon27/3-2-googlecolab/blob/main/%EA%B5%AC%EA%B8%80%ED%8A%B8%EB%A0%8C%EB%93%9C_%ED%8C%80%ED%94%8C_0602_.ipynb\" target=\"_parent\"><img src=\"https://colab.research.google.com/assets/colab-badge.svg\" alt=\"Open In Colab\"/></a>"
      ]
    },
    {
      "cell_type": "markdown",
      "metadata": {
        "id": "IUEjWxlcFSIW"
      },
      "source": [
        "# **기본 셋팅 전 폴더 만들기**\n",
        "\n",
        "---\n",
        "\n",
        "\n",
        "* Colab Notebooks 폴더 만들기:코랩에 관련된 파일들을 이곳에 저장하기 위함\n",
        "* package_collection 폴더 만들기: 파이썬 패키지들을 보관하기 위한 장소\n",
        "* r-lib폴더 만들기: R패키지들을 보관하기 위한 장소"
      ]
    },
    {
      "cell_type": "markdown",
      "source": [
        "# 새 섹션"
      ],
      "metadata": {
        "id": "8RyRLDwl9rPX"
      }
    },
    {
      "cell_type": "markdown",
      "metadata": {
        "id": "3-gYetd6FSIX"
      },
      "source": [
        "## **한글폰트 사용을 위한 셋팅**\n",
        "\n",
        "* 코랩에서 한글폰트를 사용하기 위해 실행해야 함\n",
        "* 한편 아래코드는 두번 실행을 해야 하는데 한번 실행 후 **런타임을 다시시작 (ctrl + M .)** 한뒤 한번 더 실행 해야함\n",
        "* 영역을 한번에 실행하기: **(Ctrl + Shift + Enter)**\n",
        "* 셀만 실행하기: **(Ctrl + Enter)**"
      ]
    },
    {
      "cell_type": "code",
      "execution_count": null,
      "metadata": {
        "colab": {
          "base_uri": "https://localhost:8080/"
        },
        "id": "y_9ZjXlBFSIX",
        "outputId": "a1a33168-827c-40ca-b367-eb63c6df3601"
      },
      "outputs": [
        {
          "output_type": "stream",
          "name": "stdout",
          "text": [
            "Reading package lists... Done\n",
            "Building dependency tree       \n",
            "Reading state information... Done\n",
            "The following package was automatically installed and is no longer required:\n",
            "  libnvidia-common-460\n",
            "Use 'sudo apt autoremove' to remove it.\n",
            "The following NEW packages will be installed:\n",
            "  fonts-nanum\n",
            "0 upgraded, 1 newly installed, 0 to remove and 42 not upgraded.\n",
            "Need to get 9,604 kB of archives.\n",
            "After this operation, 29.5 MB of additional disk space will be used.\n",
            "Get:1 http://archive.ubuntu.com/ubuntu bionic/universe amd64 fonts-nanum all 20170925-1 [9,604 kB]\n",
            "Fetched 9,604 kB in 0s (23.3 MB/s)\n",
            "debconf: unable to initialize frontend: Dialog\n",
            "debconf: (No usable dialog-like program is installed, so the dialog based frontend cannot be used. at /usr/share/perl5/Debconf/FrontEnd/Dialog.pm line 76, <> line 1.)\n",
            "debconf: falling back to frontend: Readline\n",
            "debconf: unable to initialize frontend: Readline\n",
            "debconf: (This frontend requires a controlling tty.)\n",
            "debconf: falling back to frontend: Teletype\n",
            "dpkg-preconfigure: unable to re-open stdin: \n",
            "Selecting previously unselected package fonts-nanum.\n",
            "(Reading database ... 155629 files and directories currently installed.)\n",
            "Preparing to unpack .../fonts-nanum_20170925-1_all.deb ...\n",
            "Unpacking fonts-nanum (20170925-1) ...\n",
            "Setting up fonts-nanum (20170925-1) ...\n",
            "Processing triggers for fontconfig (2.12.6-0ubuntu2) ...\n",
            "/usr/share/fonts: caching, new cache contents: 0 fonts, 1 dirs\n",
            "/usr/share/fonts/truetype: caching, new cache contents: 0 fonts, 3 dirs\n",
            "/usr/share/fonts/truetype/humor-sans: caching, new cache contents: 1 fonts, 0 dirs\n",
            "/usr/share/fonts/truetype/liberation: caching, new cache contents: 16 fonts, 0 dirs\n",
            "/usr/share/fonts/truetype/nanum: caching, new cache contents: 10 fonts, 0 dirs\n",
            "/usr/local/share/fonts: caching, new cache contents: 0 fonts, 0 dirs\n",
            "/root/.local/share/fonts: skipping, no such directory\n",
            "/root/.fonts: skipping, no such directory\n",
            "/var/cache/fontconfig: cleaning cache directory\n",
            "/root/.cache/fontconfig: not cleaning non-existent cache directory\n",
            "/root/.fontconfig: not cleaning non-existent cache directory\n",
            "fc-cache: succeeded\n"
          ]
        }
      ],
      "source": [
        "# http://corazzon.github.io/matplotlib_font_setting\n",
        "# 한글폰트 불러오기: 런타임을 다시 시작한 후 적용되기 때문에 실행 후\n",
        "# 런타임 다시 시작 후 다시 한번 실행하기\n",
        "!sudo apt-get install -y fonts-nanum\n",
        "!sudo fc-cache -fv\n",
        "!rm ~/.cache/matplotlib -rf\n",
        "# 필요한 패키지와 라이브러리를 가져옴\n",
        "import matplotlib as mpl\n",
        "import matplotlib.pyplot as plt\n",
        "import matplotlib.font_manager as fm\n",
        "plt.rc('font', family='NanumBarunGothic') \n",
        "# 그래프를 노트북 안에 그리기 위해 설정\n",
        "%matplotlib inline\n",
        "# 그래프에서 마이너스 폰트 깨지는 문제에 대한 대처\n",
        "mpl.rcParams['axes.unicode_minus'] = False"
      ]
    },
    {
      "cell_type": "markdown",
      "metadata": {
        "id": "C-oFcEkYFSIX"
      },
      "source": [
        "* 아래 코드를 사용하여 한글세팅 확인을 위한 임의 데이터 생성\n",
        "* 아래 코드를 실행할 때 만약 한글 셋팅이 잘 안되었다면 그래프가 깨지게 됨"
      ]
    },
    {
      "cell_type": "code",
      "execution_count": null,
      "metadata": {
        "colab": {
          "base_uri": "https://localhost:8080/"
        },
        "id": "pIzHrjh3FSIX",
        "outputId": "eb7ec319-2eeb-4849-bf42-d530bab3dd06"
      },
      "outputs": [
        {
          "output_type": "execute_result",
          "data": {
            "text/plain": [
              "Text(0.5, 0, '시간(분)')"
            ]
          },
          "metadata": {},
          "execution_count": 2
        },
        {
          "output_type": "stream",
          "name": "stderr",
          "text": [
            "findfont: Font family ['NanumBarunGothic'] not found. Falling back to DejaVu Sans.\n",
            "/usr/local/lib/python3.7/dist-packages/matplotlib/backends/backend_agg.py:214: RuntimeWarning: Glyph 49884 missing from current font.\n",
            "  font.set_text(s, 0.0, flags=flags)\n",
            "/usr/local/lib/python3.7/dist-packages/matplotlib/backends/backend_agg.py:214: RuntimeWarning: Glyph 44036 missing from current font.\n",
            "  font.set_text(s, 0.0, flags=flags)\n",
            "/usr/local/lib/python3.7/dist-packages/matplotlib/backends/backend_agg.py:214: RuntimeWarning: Glyph 48324 missing from current font.\n",
            "  font.set_text(s, 0.0, flags=flags)\n",
            "/usr/local/lib/python3.7/dist-packages/matplotlib/backends/backend_agg.py:214: RuntimeWarning: Glyph 44032 missing from current font.\n",
            "  font.set_text(s, 0.0, flags=flags)\n",
            "/usr/local/lib/python3.7/dist-packages/matplotlib/backends/backend_agg.py:214: RuntimeWarning: Glyph 44201 missing from current font.\n",
            "  font.set_text(s, 0.0, flags=flags)\n",
            "/usr/local/lib/python3.7/dist-packages/matplotlib/backends/backend_agg.py:214: RuntimeWarning: Glyph 52628 missing from current font.\n",
            "  font.set_text(s, 0.0, flags=flags)\n",
            "/usr/local/lib/python3.7/dist-packages/matplotlib/backends/backend_agg.py:214: RuntimeWarning: Glyph 51060 missing from current font.\n",
            "  font.set_text(s, 0.0, flags=flags)\n",
            "findfont: Font family ['NanumBarunGothic'] not found. Falling back to DejaVu Sans.\n",
            "/usr/local/lib/python3.7/dist-packages/matplotlib/backends/backend_agg.py:214: RuntimeWarning: Glyph 48516 missing from current font.\n",
            "  font.set_text(s, 0.0, flags=flags)\n",
            "/usr/local/lib/python3.7/dist-packages/matplotlib/backends/backend_agg.py:183: RuntimeWarning: Glyph 49884 missing from current font.\n",
            "  font.set_text(s, 0, flags=flags)\n",
            "/usr/local/lib/python3.7/dist-packages/matplotlib/backends/backend_agg.py:183: RuntimeWarning: Glyph 44036 missing from current font.\n",
            "  font.set_text(s, 0, flags=flags)\n",
            "/usr/local/lib/python3.7/dist-packages/matplotlib/backends/backend_agg.py:183: RuntimeWarning: Glyph 48516 missing from current font.\n",
            "  font.set_text(s, 0, flags=flags)\n",
            "/usr/local/lib/python3.7/dist-packages/matplotlib/backends/backend_agg.py:214: RuntimeWarning: Glyph 51452 missing from current font.\n",
            "  font.set_text(s, 0.0, flags=flags)\n",
            "/usr/local/lib/python3.7/dist-packages/matplotlib/backends/backend_agg.py:214: RuntimeWarning: Glyph 49885 missing from current font.\n",
            "  font.set_text(s, 0.0, flags=flags)\n",
            "/usr/local/lib/python3.7/dist-packages/matplotlib/backends/backend_agg.py:183: RuntimeWarning: Glyph 51452 missing from current font.\n",
            "  font.set_text(s, 0, flags=flags)\n",
            "/usr/local/lib/python3.7/dist-packages/matplotlib/backends/backend_agg.py:183: RuntimeWarning: Glyph 49885 missing from current font.\n",
            "  font.set_text(s, 0, flags=flags)\n",
            "/usr/local/lib/python3.7/dist-packages/matplotlib/backends/backend_agg.py:183: RuntimeWarning: Glyph 44032 missing from current font.\n",
            "  font.set_text(s, 0, flags=flags)\n",
            "/usr/local/lib/python3.7/dist-packages/matplotlib/backends/backend_agg.py:183: RuntimeWarning: Glyph 44201 missing from current font.\n",
            "  font.set_text(s, 0, flags=flags)\n",
            "/usr/local/lib/python3.7/dist-packages/matplotlib/backends/backend_agg.py:183: RuntimeWarning: Glyph 48324 missing from current font.\n",
            "  font.set_text(s, 0, flags=flags)\n",
            "/usr/local/lib/python3.7/dist-packages/matplotlib/backends/backend_agg.py:183: RuntimeWarning: Glyph 52628 missing from current font.\n",
            "  font.set_text(s, 0, flags=flags)\n",
            "/usr/local/lib/python3.7/dist-packages/matplotlib/backends/backend_agg.py:183: RuntimeWarning: Glyph 51060 missing from current font.\n",
            "  font.set_text(s, 0, flags=flags)\n"
          ]
        },
        {
          "output_type": "display_data",
          "data": {
            "text/plain": [
              "<Figure size 720x576 with 1 Axes>"
            ],
            "image/png": "[encoded data removed]"
          },
          "metadata": {
            "needs_background": "light"
          }
        }
      ],
      "source": [
        "# 데이터 준비\n",
        "import numpy as np\n",
        "#임의 데이터 생성\n",
        "data = np.random.randint(-200, 100, 50).cumsum()\n",
        "plt.figure(figsize=(10,8)); plt.plot(range(50), data, 'r'); plt.title('시간별 가격추이')\n",
        "plt.ylabel('주식가격'); plt.xlabel('시간(분)')"
      ]
    },
    {
      "cell_type": "markdown",
      "metadata": {
        "id": "8-5tyqMiFSIX"
      },
      "source": [
        "# **기본 시스템 세팅**\n",
        "\n",
        "\n",
        "---\n",
        "\n",
        "\n",
        "\n",
        "\n",
        "1.  구글 드라이브 연동\n",
        "2.  구글 코랩의 작업환경과 구글 드라이브의 작업폴더 동기화\n",
        "\n",
        "\n",
        "\n"
      ]
    },
    {
      "cell_type": "markdown",
      "metadata": {
        "id": "uQun8iJGFSIY"
      },
      "source": [
        "* 구글 드라이브 연동**(구글 계정 필수로 있어야 함)**"
      ]
    },
    {
      "cell_type": "code",
      "execution_count": null,
      "metadata": {
        "colab": {
          "base_uri": "https://localhost:8080/"
        },
        "id": "mZE_Db-8FSIY",
        "outputId": "f7feb04c-b8db-4897-8531-346b46842e54"
      },
      "outputs": [
        {
          "output_type": "stream",
          "name": "stdout",
          "text": [
            "Mounted at /content/drive\n"
          ]
        }
      ],
      "source": [
        "#구글 드라이브 연동\n",
        "from google.colab import drive\n",
        "drive.mount('/content/drive') \n",
        "\n",
        "# 아래 출력되는 URL에 접속하여 이용 동의 후 생성되는 인증코드를 복사해서 붙여넣기"
      ]
    },
    {
      "cell_type": "markdown",
      "metadata": {
        "id": "FQljeuSEFSIY"
      },
      "source": [
        "* 구글 드라이브와 동기화를 위해 폴더설정 및 경로설정"
      ]
    },
    {
      "cell_type": "code",
      "execution_count": null,
      "metadata": {
        "id": "PvITcG-ZFSIY"
      },
      "outputs": [],
      "source": [
        "# 폴더설정, 같은 런타임에서 두번실행할때 에러 발생하지만 문제는 아님\n",
        "import os, sys\n",
        "nb_path = '/content/notebooks'\n",
        "#create a symbolic link for pointing to /content/mnt/My Drive/Colab Notebooks\n",
        "os.symlink('/content/mnt/My Drive/Colab Notebooks', nb_path)\n",
        "sys.path.insert(0, nb_path) "
      ]
    },
    {
      "cell_type": "code",
      "execution_count": null,
      "metadata": {
        "colab": {
          "base_uri": "https://localhost:8080/"
        },
        "id": "AYTA62hPFSIY",
        "outputId": "613abc3f-1da1-4875-ea75-13a2afe528dd"
      },
      "outputs": [
        {
          "output_type": "execute_result",
          "data": {
            "text/plain": [
              "'/content/drive/MyDrive/Colab Notebooks'"
            ],
            "application/vnd.google.colaboratory.intrinsic+json": {
              "type": "string"
            }
          },
          "metadata": {},
          "execution_count": 5
        }
      ],
      "source": [
        "# 작업할 경로를 google drive가 있는 위치로 변경(작업폴더설정)\n",
        "os.chdir('/content/drive/MyDrive/Colab Notebooks/') \n",
        "os.getcwd()"
      ]
    },
    {
      "cell_type": "markdown",
      "metadata": {
        "id": "g1WG__0IFSIZ"
      },
      "source": [
        "## **R추가 사용을 위한 셋팅**\n",
        "\n",
        "---\n",
        "1.   R magic설정\n",
        "\n",
        "2.   패키지의 경로를 지정\n",
        "3.  리눅스 형태로 설치해야 하는 패키지 설치\n",
        "\n",
        "4. 패키지 개별설치 자동로드\n",
        "5. 패키지 자동설치 자동로드\n",
        "6. 파이썬 패키지 설치 및 장소 지정\n",
        "7. 추가 파이썬 패키지 한번에 인스톨\n",
        "8. 필요한 파이썬 패키지 로드\n",
        "\n",
        "<U> **위 사항들을 모두 정상적으로 마쳐야 분석을 실행할 때 에러가 발생하지 않는다.**\n",
        "\n"
      ]
    },
    {
      "cell_type": "code",
      "execution_count": null,
      "metadata": {
        "id": "l8c5o5ayFSIZ"
      },
      "outputs": [],
      "source": [
        "#R magic설정\n",
        "# Load in the r magic\n",
        "%reload_ext rpy2.ipython\n",
        "%config IPCompleter.greedy=True\n",
        "%config InlineBackend.figure_format = 'retina'"
      ]
    },
    {
      "cell_type": "code",
      "execution_count": null,
      "metadata": {
        "id": "UsIFIGogFSIZ"
      },
      "outputs": [],
      "source": [
        "# 설치되어 있는 패키지 확인 및 라이브러리 경로 설정\n",
        "%%R\n",
        "#print(library())\n",
        ".libPaths(\"/content/drive/MyDrive/Colab Notebooks/r-lib\")"
      ]
    },
    {
      "cell_type": "code",
      "execution_count": null,
      "metadata": {
        "colab": {
          "base_uri": "https://localhost:8080/"
        },
        "id": "zqWN_mrWFSIZ",
        "outputId": "66b1d31f-2923-4f78-a8c1-792b1b021779"
      },
      "outputs": [
        {
          "output_type": "stream",
          "name": "stdout",
          "text": [
            "Reading package lists... Done\n",
            "Building dependency tree       \n",
            "Reading state information... Done\n",
            "The following package was automatically installed and is no longer required:\n",
            "  libnvidia-common-460\n",
            "Use 'sudo apt autoremove' to remove it.\n",
            "The following additional packages will be installed:\n",
            "  libv8-3.14.5\n",
            "The following NEW packages will be installed:\n",
            "  libv8-3.14.5 libv8-dev\n",
            "0 upgraded, 2 newly installed, 0 to remove and 42 not upgraded.\n",
            "Need to get 1,272 kB of archives.\n",
            "After this operation, 4,534 kB of additional disk space will be used.\n",
            "Get:1 http://archive.ubuntu.com/ubuntu bionic/universe amd64 libv8-3.14.5 amd64 3.14.5.8-11ubuntu1 [1,214 kB]\n",
            "Get:2 http://archive.ubuntu.com/ubuntu bionic/universe amd64 libv8-dev amd64 3.14.5.8-11ubuntu1 [57.7 kB]\n",
            "Fetched 1,272 kB in 0s (4,075 kB/s)\n",
            "debconf: unable to initialize frontend: Dialog\n",
            "debconf: (No usable dialog-like program is installed, so the dialog based frontend cannot be used. at /usr/share/perl5/Debconf/FrontEnd/Dialog.pm line 76, <> line 2.)\n",
            "debconf: falling back to frontend: Readline\n",
            "debconf: unable to initialize frontend: Readline\n",
            "debconf: (This frontend requires a controlling tty.)\n",
            "debconf: falling back to frontend: Teletype\n",
            "dpkg-preconfigure: unable to re-open stdin: \n",
            "Selecting previously unselected package libv8-3.14.5.\n",
            "(Reading database ... 155647 files and directories currently installed.)\n",
            "Preparing to unpack .../libv8-3.14.5_3.14.5.8-11ubuntu1_amd64.deb ...\n",
            "Unpacking libv8-3.14.5 (3.14.5.8-11ubuntu1) ...\n",
            "Selecting previously unselected package libv8-dev.\n",
            "Preparing to unpack .../libv8-dev_3.14.5.8-11ubuntu1_amd64.deb ...\n",
            "Unpacking libv8-dev (3.14.5.8-11ubuntu1) ...\n",
            "Setting up libv8-3.14.5 (3.14.5.8-11ubuntu1) ...\n",
            "Setting up libv8-dev (3.14.5.8-11ubuntu1) ...\n",
            "Processing triggers for libc-bin (2.27-3ubuntu1.3) ...\n",
            "/sbin/ldconfig.real: /usr/local/lib/python3.7/dist-packages/ideep4py/lib/libmkldnn.so.0 is not a symbolic link\n",
            "\n",
            "Reading package lists... Done\n",
            "Building dependency tree       \n",
            "Reading state information... Done\n",
            "The following package was automatically installed and is no longer required:\n",
            "  libnvidia-common-460\n",
            "Use 'sudo apt autoremove' to remove it.\n",
            "The following additional packages will be installed:\n",
            "  fonts-droid-fallback fonts-noto-mono ghostscript gir1.2-freedesktop\n",
            "  gir1.2-gdkpixbuf-2.0 gir1.2-rsvg-2.0 gsfonts imagemagick-6-common\n",
            "  libcairo-script-interpreter2 libcairo2-dev libcupsfilters1 libcupsimage2\n",
            "  libdjvulibre-dev libdjvulibre-text libdjvulibre21 libgdk-pixbuf2.0-dev\n",
            "  libgs9 libgs9-common libijs-0.35 libjbig2dec0 liblcms2-dev liblqr-1-0\n",
            "  liblqr-1-0-dev libmagick++-6-headers libmagick++-6.q16-7\n",
            "  libmagick++-6.q16-dev libmagickcore-6-arch-config libmagickcore-6-headers\n",
            "  libmagickcore-6.q16-3 libmagickcore-6.q16-3-extra libmagickcore-6.q16-dev\n",
            "  libmagickwand-6-headers libmagickwand-6.q16-3 libmagickwand-6.q16-dev\n",
            "  libpixman-1-dev librsvg2-dev libwmf-dev libwmf0.2-7 libxcb-shm0-dev\n",
            "  poppler-data\n",
            "Suggested packages:\n",
            "  fonts-noto ghostscript-x libcairo2-doc inkscape libjxr-tools librsvg2-doc\n",
            "  libwmf-doc libwmf0.2-7-gtk poppler-utils fonts-japanese-mincho\n",
            "  | fonts-ipafont-mincho fonts-japanese-gothic | fonts-ipafont-gothic\n",
            "  fonts-arphic-ukai fonts-arphic-uming\n",
            "The following NEW packages will be installed:\n",
            "  fonts-droid-fallback fonts-noto-mono ghostscript gir1.2-freedesktop\n",
            "  gir1.2-gdkpixbuf-2.0 gir1.2-rsvg-2.0 gsfonts imagemagick-6-common\n",
            "  libcairo-script-interpreter2 libcairo2-dev libcupsfilters1 libcupsimage2\n",
            "  libdjvulibre-dev libdjvulibre-text libdjvulibre21 libgdk-pixbuf2.0-dev\n",
            "  libgs9 libgs9-common libijs-0.35 libjbig2dec0 liblcms2-dev liblqr-1-0\n",
            "  liblqr-1-0-dev libmagick++-6-headers libmagick++-6.q16-7\n",
            "  libmagick++-6.q16-dev libmagick++-dev libmagickcore-6-arch-config\n",
            "  libmagickcore-6-headers libmagickcore-6.q16-3 libmagickcore-6.q16-3-extra\n",
            "  libmagickcore-6.q16-dev libmagickwand-6-headers libmagickwand-6.q16-3\n",
            "  libmagickwand-6.q16-dev libpixman-1-dev librsvg2-dev libwmf-dev libwmf0.2-7\n",
            "  libxcb-shm0-dev poppler-data\n",
            "0 upgraded, 41 newly installed, 0 to remove and 42 not upgraded.\n",
            "Need to get 31.3 MB of archives.\n",
            "After this operation, 93.2 MB of additional disk space will be used.\n",
            "Get:1 http://archive.ubuntu.com/ubuntu bionic/main amd64 fonts-droid-fallback all 1:6.0.1r16-1.1 [1,805 kB]\n",
            "Get:2 http://archive.ubuntu.com/ubuntu bionic-updates/main amd64 imagemagick-6-common all 8:6.9.7.4+dfsg-16ubuntu6.12 [60.3 kB]\n",
            "Get:3 http://archive.ubuntu.com/ubuntu bionic-updates/main amd64 libmagickcore-6-arch-config amd64 8:6.9.7.4+dfsg-16ubuntu6.12 [25.4 kB]\n",
            "Get:4 http://archive.ubuntu.com/ubuntu bionic-updates/main amd64 libmagickcore-6-headers all 8:6.9.7.4+dfsg-16ubuntu6.12 [47.2 kB]\n",
            "Get:5 http://archive.ubuntu.com/ubuntu bionic-updates/main amd64 libmagickwand-6-headers all 8:6.9.7.4+dfsg-16ubuntu6.12 [10.5 kB]\n",
            "Get:6 http://archive.ubuntu.com/ubuntu bionic-updates/main amd64 libmagick++-6-headers all 8:6.9.7.4+dfsg-16ubuntu6.12 [47.2 kB]\n",
            "Get:7 http://archive.ubuntu.com/ubuntu bionic/main amd64 liblqr-1-0 amd64 0.4.2-2.1 [27.7 kB]\n",
            "Get:8 http://archive.ubuntu.com/ubuntu bionic-updates/main amd64 libmagickcore-6.q16-3 amd64 8:6.9.7.4+dfsg-16ubuntu6.12 [1,621 kB]\n",
            "Get:9 http://archive.ubuntu.com/ubuntu bionic-updates/main amd64 libmagickwand-6.q16-3 amd64 8:6.9.7.4+dfsg-16ubuntu6.12 [292 kB]\n",
            "Get:10 http://archive.ubuntu.com/ubuntu bionic-updates/main amd64 libmagick++-6.q16-7 amd64 8:6.9.7.4+dfsg-16ubuntu6.12 [139 kB]\n",
            "Get:11 http://archive.ubuntu.com/ubuntu bionic-updates/main amd64 libdjvulibre-text all 3.5.27.1-8ubuntu0.4 [49.4 kB]\n",
            "Get:12 http://archive.ubuntu.com/ubuntu bionic-updates/main amd64 libdjvulibre21 amd64 3.5.27.1-8ubuntu0.4 [561 kB]\n",
            "Get:13 http://archive.ubuntu.com/ubuntu bionic/main amd64 libwmf0.2-7 amd64 0.2.8.4-12 [150 kB]\n",
            "Get:14 http://archive.ubuntu.com/ubuntu bionic-updates/main amd64 libmagickcore-6.q16-3-extra amd64 8:6.9.7.4+dfsg-16ubuntu6.12 [62.4 kB]\n",
            "Get:15 http://archive.ubuntu.com/ubuntu bionic-updates/main amd64 libdjvulibre-dev amd64 3.5.27.1-8ubuntu0.4 [2,382 kB]\n",
            "Get:16 http://archive.ubuntu.com/ubuntu bionic-updates/main amd64 liblcms2-dev amd64 2.9-1ubuntu0.1 [9,096 kB]\n",
            "Get:17 http://archive.ubuntu.com/ubuntu bionic/main amd64 liblqr-1-0-dev amd64 0.4.2-2.1 [69.1 kB]\n",
            "Get:18 http://archive.ubuntu.com/ubuntu bionic/main amd64 gir1.2-freedesktop amd64 1.56.1-1 [9,080 B]\n",
            "Get:19 http://archive.ubuntu.com/ubuntu bionic/main amd64 gir1.2-gdkpixbuf-2.0 amd64 2.36.11-2 [7,748 B]\n",
            "Get:20 http://archive.ubuntu.com/ubuntu bionic-updates/main amd64 gir1.2-rsvg-2.0 amd64 2.40.20-2ubuntu0.2 [3,764 B]\n",
            "Get:21 http://archive.ubuntu.com/ubuntu bionic/main amd64 libgdk-pixbuf2.0-dev amd64 2.36.11-2 [46.8 kB]\n",
            "Get:22 http://archive.ubuntu.com/ubuntu bionic-updates/main amd64 libcairo-script-interpreter2 amd64 1.15.10-2ubuntu0.1 [53.5 kB]\n",
            "Get:23 http://archive.ubuntu.com/ubuntu bionic/main amd64 libpixman-1-dev amd64 0.34.0-2 [244 kB]\n",
            "Get:24 http://archive.ubuntu.com/ubuntu bionic-updates/main amd64 libxcb-shm0-dev amd64 1.13-2~ubuntu18.04 [6,684 B]\n",
            "Get:25 http://archive.ubuntu.com/ubuntu bionic-updates/main amd64 libcairo2-dev amd64 1.15.10-2ubuntu0.1 [626 kB]\n",
            "Get:26 http://archive.ubuntu.com/ubuntu bionic-updates/main amd64 librsvg2-dev amd64 2.40.20-2ubuntu0.2 [10.7 kB]\n",
            "Get:27 http://archive.ubuntu.com/ubuntu bionic/main amd64 libwmf-dev amd64 0.2.8.4-12 [172 kB]\n",
            "Get:28 http://archive.ubuntu.com/ubuntu bionic-updates/main amd64 libmagickcore-6.q16-dev amd64 8:6.9.7.4+dfsg-16ubuntu6.12 [974 kB]\n",
            "Get:29 http://archive.ubuntu.com/ubuntu bionic-updates/main amd64 libmagickwand-6.q16-dev amd64 8:6.9.7.4+dfsg-16ubuntu6.12 [290 kB]\n",
            "Get:30 http://archive.ubuntu.com/ubuntu bionic-updates/main amd64 libmagick++-6.q16-dev amd64 8:6.9.7.4+dfsg-16ubuntu6.12 [119 kB]\n",
            "Get:31 http://archive.ubuntu.com/ubuntu bionic-updates/main amd64 libmagick++-dev all 8:6.9.7.4+dfsg-16ubuntu6.12 [1,408 B]\n",
            "Get:32 http://archive.ubuntu.com/ubuntu bionic/main amd64 poppler-data all 0.4.8-2 [1,479 kB]\n",
            "Get:33 http://archive.ubuntu.com/ubuntu bionic/main amd64 fonts-noto-mono all 20171026-2 [75.5 kB]\n",
            "Ign:34 http://archive.ubuntu.com/ubuntu bionic-updates/main amd64 libcupsimage2 amd64 2.2.7-1ubuntu2.8\n",
            "Get:35 http://archive.ubuntu.com/ubuntu bionic/main amd64 libijs-0.35 amd64 0.35-13 [15.5 kB]\n",
            "Get:36 http://archive.ubuntu.com/ubuntu bionic/main amd64 libjbig2dec0 amd64 0.13-6 [55.9 kB]\n",
            "Get:37 http://archive.ubuntu.com/ubuntu bionic-updates/main amd64 libgs9-common all 9.26~dfsg+0-0ubuntu0.18.04.16 [5,093 kB]\n",
            "Err:34 http://security.ubuntu.com/ubuntu bionic-updates/main amd64 libcupsimage2 amd64 2.2.7-1ubuntu2.8\n",
            "  404  Not Found [IP: 91.189.91.39 80]\n",
            "Get:38 http://archive.ubuntu.com/ubuntu bionic-updates/main amd64 libgs9 amd64 9.26~dfsg+0-0ubuntu0.18.04.16 [2,265 kB]\n",
            "Get:39 http://archive.ubuntu.com/ubuntu bionic-updates/main amd64 ghostscript amd64 9.26~dfsg+0-0ubuntu0.18.04.16 [51.3 kB]\n",
            "Get:40 http://archive.ubuntu.com/ubuntu bionic/main amd64 gsfonts all 1:8.11+urwcyr1.0.7~pre44-4.4 [3,120 kB]\n",
            "Get:41 http://archive.ubuntu.com/ubuntu bionic-updates/main amd64 libcupsfilters1 amd64 1.20.2-0ubuntu3.1 [108 kB]\n",
            "Fetched 31.3 MB in 1s (34.4 MB/s)\n",
            "E: Failed to fetch http://security.ubuntu.com/ubuntu/pool/main/c/cups/libcupsimage2_2.2.7-1ubuntu2.8_amd64.deb  404  Not Found [IP: 91.189.91.39 80]\n",
            "E: Unable to fetch some archives, maybe run apt-get update or try with --fix-missing?\n"
          ]
        }
      ],
      "source": [
        "# 1.리눅스 형태로 설치안되는 패키지 설치 (필요시 계속 추가)\n",
        "!sudo apt-get install -y libv8-dev # V8\n",
        "!sudo apt install libmagick++-dev  # Magick++ for summarytools, 불가할때 있음"
      ]
    },
    {
      "cell_type": "code",
      "execution_count": 63,
      "metadata": {
        "colab": {
          "base_uri": "https://localhost:8080/"
        },
        "id": "714_DoxXFSIZ",
        "outputId": "ad137c1a-f97d-48e6-dd4c-44e8459e0fba"
      },
      "outputs": [
        {
          "output_type": "stream",
          "name": "stderr",
          "text": [
            "R[write to console]: Installing package into ‘/usr/local/lib/R/site-library’\n",
            "(as ‘lib’ is unspecified)\n",
            "\n",
            "R[write to console]: also installing the dependencies ‘listenv’, ‘parallelly’, ‘future’, ‘globals’, ‘coda’, ‘furrr’, ‘httpuv’, ‘xtable’, ‘fontawesome’, ‘sourcetools’, ‘broom.mixed’, ‘shiny’\n",
            "\n",
            "\n",
            "R[write to console]: trying URL 'https://cran.rstudio.com/src/contrib/listenv_0.8.0.tar.gz'\n",
            "\n",
            "R[write to console]: Content type 'application/x-gzip'\n",
            "R[write to console]:  length 36762 bytes (35 KB)\n",
            "\n",
            "R[write to console]: =\n",
            "R[write to console]: =\n",
            "R[write to console]: =\n",
            "R[write to console]: =\n",
            "R[write to console]: =\n",
            "R[write to console]: =\n",
            "R[write to console]: =\n",
            "R[write to console]: =\n",
            "R[write to console]: =\n",
            "R[write to console]: =\n",
            "R[write to console]: =\n",
            "R[write to console]: =\n",
            "R[write to console]: =\n",
            "R[write to console]: =\n",
            "R[write to console]: =\n",
            "R[write to console]: =\n",
            "R[write to console]: =\n",
            "R[write to console]: =\n",
            "R[write to console]: =\n",
            "R[write to console]: =\n",
            "R[write to console]: =\n",
            "R[write to console]: =\n",
            "R[write to console]: =\n",
            "R[write to console]: =\n",
            "R[write to console]: =\n",
            "R[write to console]: =\n",
            "R[write to console]: =\n",
            "R[write to console]: =\n",
            "R[write to console]: =\n",
            "R[write to console]: =\n",
            "R[write to console]: =\n",
            "R[write to console]: =\n",
            "R[write to console]: =\n",
            "R[write to console]: =\n",
            "R[write to console]: =\n",
            "R[write to console]: =\n",
            "R[write to console]: =\n",
            "R[write to console]: =\n",
            "R[write to console]: =\n",
            "R[write to console]: =\n",
            "R[write to console]: =\n",
            "R[write to console]: =\n",
            "R[write to console]: =\n",
            "R[write to console]: =\n",
            "R[write to console]: =\n",
            "R[write to console]: =\n",
            "R[write to console]: =\n",
            "R[write to console]: =\n",
            "R[write to console]: =\n",
            "R[write to console]: =\n",
            "R[write to console]: \n",
            "\n",
            "R[write to console]: downloaded 35 KB\n",
            "\n",
            "\n",
            "R[write to console]: trying URL 'https://cran.rstudio.com/src/contrib/parallelly_1.31.1.tar.gz'\n",
            "\n",
            "R[write to console]: Content type 'application/x-gzip'\n",
            "R[write to console]:  length 121211 bytes (118 KB)\n",
            "\n",
            "R[write to console]: =\n",
            "R[write to console]: =\n",
            "R[write to console]: =\n",
            "R[write to console]: =\n",
            "R[write to console]: =\n",
            "R[write to console]: =\n",
            "R[write to console]: =\n",
            "R[write to console]: =\n",
            "R[write to console]: =\n",
            "R[write to console]: =\n",
            "R[write to console]: =\n",
            "R[write to console]: =\n",
            "R[write to console]: =\n",
            "R[write to console]: =\n",
            "R[write to console]: =\n",
            "R[write to console]: =\n",
            "R[write to console]: =\n",
            "R[write to console]: =\n",
            "R[write to console]: =\n",
            "R[write to console]: =\n",
            "R[write to console]: =\n",
            "R[write to console]: =\n",
            "R[write to console]: =\n",
            "R[write to console]: =\n",
            "R[write to console]: =\n",
            "R[write to console]: =\n",
            "R[write to console]: =\n",
            "R[write to console]: =\n",
            "R[write to console]: =\n",
            "R[write to console]: =\n",
            "R[write to console]: =\n",
            "R[write to console]: =\n",
            "R[write to console]: =\n",
            "R[write to console]: =\n",
            "R[write to console]: =\n",
            "R[write to console]: =\n",
            "R[write to console]: =\n",
            "R[write to console]: =\n",
            "R[write to console]: =\n",
            "R[write to console]: =\n",
            "R[write to console]: =\n",
            "R[write to console]: =\n",
            "R[write to console]: =\n",
            "R[write to console]: =\n",
            "R[write to console]: =\n",
            "R[write to console]: =\n",
            "R[write to console]: =\n",
            "R[write to console]: =\n",
            "R[write to console]: =\n",
            "R[write to console]: =\n",
            "R[write to console]: \n",
            "\n",
            "R[write to console]: downloaded 118 KB\n",
            "\n",
            "\n",
            "R[write to console]: trying URL 'https://cran.rstudio.com/src/contrib/future_1.26.1.tar.gz'\n",
            "\n",
            "R[write to console]: Content type 'application/x-gzip'\n",
            "R[write to console]:  length 365509 bytes (356 KB)\n",
            "\n",
            "R[write to console]: =\n",
            "R[write to console]: =\n",
            "R[write to console]: =\n",
            "R[write to console]: =\n",
            "R[write to console]: =\n",
            "R[write to console]: =\n",
            "R[write to console]: =\n",
            "R[write to console]: =\n",
            "R[write to console]: =\n",
            "R[write to console]: =\n",
            "R[write to console]: =\n",
            "R[write to console]: =\n",
            "R[write to console]: =\n",
            "R[write to console]: =\n",
            "R[write to console]: =\n",
            "R[write to console]: =\n",
            "R[write to console]: =\n",
            "R[write to console]: =\n",
            "R[write to console]: =\n",
            "R[write to console]: =\n",
            "R[write to console]: =\n",
            "R[write to console]: =\n",
            "R[write to console]: =\n",
            "R[write to console]: =\n",
            "R[write to console]: =\n",
            "R[write to console]: =\n",
            "R[write to console]: =\n",
            "R[write to console]: =\n",
            "R[write to console]: =\n",
            "R[write to console]: =\n",
            "R[write to console]: =\n",
            "R[write to console]: =\n",
            "R[write to console]: =\n",
            "R[write to console]: =\n",
            "R[write to console]: =\n",
            "R[write to console]: =\n",
            "R[write to console]: =\n",
            "R[write to console]: =\n",
            "R[write to console]: =\n",
            "R[write to console]: =\n",
            "R[write to console]: =\n",
            "R[write to console]: =\n",
            "R[write to console]: =\n",
            "R[write to console]: =\n",
            "R[write to console]: =\n",
            "R[write to console]: =\n",
            "R[write to console]: =\n",
            "R[write to console]: =\n",
            "R[write to console]: =\n",
            "R[write to console]: =\n",
            "R[write to console]: \n",
            "\n",
            "R[write to console]: downloaded 356 KB\n",
            "\n",
            "\n",
            "R[write to console]: trying URL 'https://cran.rstudio.com/src/contrib/globals_0.15.0.tar.gz'\n",
            "\n",
            "R[write to console]: Content type 'application/x-gzip'\n",
            "R[write to console]:  length 33099 bytes (32 KB)\n",
            "\n",
            "R[write to console]: =\n",
            "R[write to console]: =\n",
            "R[write to console]: =\n",
            "R[write to console]: =\n",
            "R[write to console]: =\n",
            "R[write to console]: =\n",
            "R[write to console]: =\n",
            "R[write to console]: =\n",
            "R[write to console]: =\n",
            "R[write to console]: =\n",
            "R[write to console]: =\n",
            "R[write to console]: =\n",
            "R[write to console]: =\n",
            "R[write to console]: =\n",
            "R[write to console]: =\n",
            "R[write to console]: =\n",
            "R[write to console]: =\n",
            "R[write to console]: =\n",
            "R[write to console]: =\n",
            "R[write to console]: =\n",
            "R[write to console]: =\n",
            "R[write to console]: =\n",
            "R[write to console]: =\n",
            "R[write to console]: =\n",
            "R[write to console]: =\n",
            "R[write to console]: =\n",
            "R[write to console]: =\n",
            "R[write to console]: =\n",
            "R[write to console]: =\n",
            "R[write to console]: =\n",
            "R[write to console]: =\n",
            "R[write to console]: =\n",
            "R[write to console]: =\n",
            "R[write to console]: =\n",
            "R[write to console]: =\n",
            "R[write to console]: =\n",
            "R[write to console]: =\n",
            "R[write to console]: =\n",
            "R[write to console]: =\n",
            "R[write to console]: =\n",
            "R[write to console]: =\n",
            "R[write to console]: =\n",
            "R[write to console]: =\n",
            "R[write to console]: =\n",
            "R[write to console]: =\n",
            "R[write to console]: =\n",
            "R[write to console]: =\n",
            "R[write to console]: =\n",
            "R[write to console]: =\n",
            "R[write to console]: =\n",
            "R[write to console]: \n",
            "\n",
            "R[write to console]: downloaded 32 KB\n",
            "\n",
            "\n",
            "R[write to console]: trying URL 'https://cran.rstudio.com/src/contrib/coda_0.19-4.tar.gz'\n",
            "\n",
            "R[write to console]: Content type 'application/x-gzip'\n",
            "R[write to console]:  length 74239 bytes (72 KB)\n",
            "\n",
            "R[write to console]: =\n",
            "R[write to console]: =\n",
            "R[write to console]: =\n",
            "R[write to console]: =\n",
            "R[write to console]: =\n",
            "R[write to console]: =\n",
            "R[write to console]: =\n",
            "R[write to console]: =\n",
            "R[write to console]: =\n",
            "R[write to console]: =\n",
            "R[write to console]: =\n",
            "R[write to console]: =\n",
            "R[write to console]: =\n",
            "R[write to console]: =\n",
            "R[write to console]: =\n",
            "R[write to console]: =\n",
            "R[write to console]: =\n",
            "R[write to console]: =\n",
            "R[write to console]: =\n",
            "R[write to console]: =\n",
            "R[write to console]: =\n",
            "R[write to console]: =\n",
            "R[write to console]: =\n",
            "R[write to console]: =\n",
            "R[write to console]: =\n",
            "R[write to console]: =\n",
            "R[write to console]: =\n",
            "R[write to console]: =\n",
            "R[write to console]: =\n",
            "R[write to console]: =\n",
            "R[write to console]: =\n",
            "R[write to console]: =\n",
            "R[write to console]: =\n",
            "R[write to console]: =\n",
            "R[write to console]: =\n",
            "R[write to console]: =\n",
            "R[write to console]: =\n",
            "R[write to console]: =\n",
            "R[write to console]: =\n",
            "R[write to console]: =\n",
            "R[write to console]: =\n",
            "R[write to console]: =\n",
            "R[write to console]: =\n",
            "R[write to console]: =\n",
            "R[write to console]: =\n",
            "R[write to console]: =\n",
            "R[write to console]: =\n",
            "R[write to console]: =\n",
            "R[write to console]: =\n",
            "R[write to console]: =\n",
            "R[write to console]: \n",
            "\n",
            "R[write to console]: downloaded 72 KB\n",
            "\n",
            "\n",
            "R[write to console]: trying URL 'https://cran.rstudio.com/src/contrib/furrr_0.3.0.tar.gz'\n",
            "\n",
            "R[write to console]: Content type 'application/x-gzip'\n",
            "R[write to console]:  length 907591 bytes (886 KB)\n",
            "\n",
            "R[write to console]: =\n",
            "R[write to console]: =\n",
            "R[write to console]: =\n",
            "R[write to console]: =\n",
            "R[write to console]: =\n",
            "R[write to console]: =\n",
            "R[write to console]: =\n",
            "R[write to console]: =\n",
            "R[write to console]: =\n",
            "R[write to console]: =\n",
            "R[write to console]: =\n",
            "R[write to console]: =\n",
            "R[write to console]: =\n",
            "R[write to console]: =\n",
            "R[write to console]: =\n",
            "R[write to console]: =\n",
            "R[write to console]: =\n",
            "R[write to console]: =\n",
            "R[write to console]: =\n",
            "R[write to console]: =\n",
            "R[write to console]: =\n",
            "R[write to console]: =\n",
            "R[write to console]: =\n",
            "R[write to console]: =\n",
            "R[write to console]: =\n",
            "R[write to console]: =\n",
            "R[write to console]: =\n",
            "R[write to console]: =\n",
            "R[write to console]: =\n",
            "R[write to console]: =\n",
            "R[write to console]: =\n",
            "R[write to console]: =\n",
            "R[write to console]: =\n",
            "R[write to console]: =\n",
            "R[write to console]: =\n",
            "R[write to console]: =\n",
            "R[write to console]: =\n",
            "R[write to console]: =\n",
            "R[write to console]: =\n",
            "R[write to console]: =\n",
            "R[write to console]: =\n",
            "R[write to console]: =\n",
            "R[write to console]: =\n",
            "R[write to console]: =\n",
            "R[write to console]: =\n",
            "R[write to console]: =\n",
            "R[write to console]: =\n",
            "R[write to console]: =\n",
            "R[write to console]: =\n",
            "R[write to console]: =\n",
            "R[write to console]: \n",
            "\n",
            "R[write to console]: downloaded 886 KB\n",
            "\n",
            "\n",
            "R[write to console]: trying URL 'https://cran.rstudio.com/src/contrib/httpuv_1.6.5.tar.gz'\n",
            "\n",
            "R[write to console]: Content type 'application/x-gzip'\n",
            "R[write to console]:  length 1815063 bytes (1.7 MB)\n",
            "\n",
            "R[write to console]: =\n",
            "R[write to console]: =\n",
            "R[write to console]: =\n",
            "R[write to console]: =\n",
            "R[write to console]: =\n",
            "R[write to console]: =\n",
            "R[write to console]: =\n",
            "R[write to console]: =\n",
            "R[write to console]: =\n",
            "R[write to console]: =\n",
            "R[write to console]: =\n",
            "R[write to console]: =\n",
            "R[write to console]: =\n",
            "R[write to console]: =\n",
            "R[write to console]: =\n",
            "R[write to console]: =\n",
            "R[write to console]: =\n",
            "R[write to console]: =\n",
            "R[write to console]: =\n",
            "R[write to console]: =\n",
            "R[write to console]: =\n",
            "R[write to console]: =\n",
            "R[write to console]: =\n",
            "R[write to console]: =\n",
            "R[write to console]: =\n",
            "R[write to console]: =\n",
            "R[write to console]: =\n",
            "R[write to console]: =\n",
            "R[write to console]: =\n",
            "R[write to console]: =\n",
            "R[write to console]: =\n",
            "R[write to console]: =\n",
            "R[write to console]: =\n",
            "R[write to console]: =\n",
            "R[write to console]: =\n",
            "R[write to console]: =\n",
            "R[write to console]: =\n",
            "R[write to console]: =\n",
            "R[write to console]: =\n",
            "R[write to console]: =\n",
            "R[write to console]: =\n",
            "R[write to console]: =\n",
            "R[write to console]: =\n",
            "R[write to console]: =\n",
            "R[write to console]: =\n",
            "R[write to console]: =\n",
            "R[write to console]: =\n",
            "R[write to console]: =\n",
            "R[write to console]: =\n",
            "R[write to console]: =\n",
            "R[write to console]: \n",
            "\n",
            "R[write to console]: downloaded 1.7 MB\n",
            "\n",
            "\n",
            "R[write to console]: trying URL 'https://cran.rstudio.com/src/contrib/xtable_1.8-4.tar.gz'\n",
            "\n",
            "R[write to console]: Content type 'application/x-gzip'\n",
            "R[write to console]:  length 564589 bytes (551 KB)\n",
            "\n",
            "R[write to console]: =\n",
            "R[write to console]: =\n",
            "R[write to console]: =\n",
            "R[write to console]: =\n",
            "R[write to console]: =\n",
            "R[write to console]: =\n",
            "R[write to console]: =\n",
            "R[write to console]: =\n",
            "R[write to console]: =\n",
            "R[write to console]: =\n",
            "R[write to console]: =\n",
            "R[write to console]: =\n",
            "R[write to console]: =\n",
            "R[write to console]: =\n",
            "R[write to console]: =\n",
            "R[write to console]: =\n",
            "R[write to console]: =\n",
            "R[write to console]: =\n",
            "R[write to console]: =\n",
            "R[write to console]: =\n",
            "R[write to console]: =\n",
            "R[write to console]: =\n",
            "R[write to console]: =\n",
            "R[write to console]: =\n",
            "R[write to console]: =\n",
            "R[write to console]: =\n",
            "R[write to console]: =\n",
            "R[write to console]: =\n",
            "R[write to console]: =\n",
            "R[write to console]: =\n",
            "R[write to console]: =\n",
            "R[write to console]: =\n",
            "R[write to console]: =\n",
            "R[write to console]: =\n",
            "R[write to console]: =\n",
            "R[write to console]: =\n",
            "R[write to console]: =\n",
            "R[write to console]: =\n",
            "R[write to console]: =\n",
            "R[write to console]: =\n",
            "R[write to console]: =\n",
            "R[write to console]: =\n",
            "R[write to console]: =\n",
            "R[write to console]: =\n",
            "R[write to console]: =\n",
            "R[write to console]: =\n",
            "R[write to console]: =\n",
            "R[write to console]: =\n",
            "R[write to console]: =\n",
            "R[write to console]: =\n",
            "R[write to console]: \n",
            "\n",
            "R[write to console]: downloaded 551 KB\n",
            "\n",
            "\n",
            "R[write to console]: trying URL 'https://cran.rstudio.com/src/contrib/fontawesome_0.2.2.tar.gz'\n",
            "\n",
            "R[write to console]: Content type 'application/x-gzip'\n",
            "R[write to console]:  length 1117463 bytes (1.1 MB)\n",
            "\n",
            "R[write to console]: =\n",
            "R[write to console]: =\n",
            "R[write to console]: =\n",
            "R[write to console]: =\n",
            "R[write to console]: =\n",
            "R[write to console]: =\n",
            "R[write to console]: =\n",
            "R[write to console]: =\n",
            "R[write to console]: =\n",
            "R[write to console]: =\n",
            "R[write to console]: =\n",
            "R[write to console]: =\n",
            "R[write to console]: =\n",
            "R[write to console]: =\n",
            "R[write to console]: =\n",
            "R[write to console]: =\n",
            "R[write to console]: =\n",
            "R[write to console]: =\n",
            "R[write to console]: =\n",
            "R[write to console]: =\n",
            "R[write to console]: =\n",
            "R[write to console]: =\n",
            "R[write to console]: =\n",
            "R[write to console]: =\n",
            "R[write to console]: =\n",
            "R[write to console]: =\n",
            "R[write to console]: =\n",
            "R[write to console]: =\n",
            "R[write to console]: =\n",
            "R[write to console]: =\n",
            "R[write to console]: =\n",
            "R[write to console]: =\n",
            "R[write to console]: =\n",
            "R[write to console]: =\n",
            "R[write to console]: =\n",
            "R[write to console]: =\n",
            "R[write to console]: =\n",
            "R[write to console]: =\n",
            "R[write to console]: =\n",
            "R[write to console]: =\n",
            "R[write to console]: =\n",
            "R[write to console]: =\n",
            "R[write to console]: =\n",
            "R[write to console]: =\n",
            "R[write to console]: =\n",
            "R[write to console]: =\n",
            "R[write to console]: =\n",
            "R[write to console]: =\n",
            "R[write to console]: =\n",
            "R[write to console]: =\n",
            "R[write to console]: \n",
            "\n",
            "R[write to console]: downloaded 1.1 MB\n",
            "\n",
            "\n",
            "R[write to console]: trying URL 'https://cran.rstudio.com/src/contrib/sourcetools_0.1.7.tar.gz'\n",
            "\n",
            "R[write to console]: Content type 'application/x-gzip'\n",
            "R[write to console]:  length 24155 bytes (23 KB)\n",
            "\n",
            "R[write to console]: =\n",
            "R[write to console]: =\n",
            "R[write to console]: =\n",
            "R[write to console]: =\n",
            "R[write to console]: =\n",
            "R[write to console]: =\n",
            "R[write to console]: =\n",
            "R[write to console]: =\n",
            "R[write to console]: =\n",
            "R[write to console]: =\n",
            "R[write to console]: =\n",
            "R[write to console]: =\n",
            "R[write to console]: =\n",
            "R[write to console]: =\n",
            "R[write to console]: =\n",
            "R[write to console]: =\n",
            "R[write to console]: =\n",
            "R[write to console]: =\n",
            "R[write to console]: =\n",
            "R[write to console]: =\n",
            "R[write to console]: =\n",
            "R[write to console]: =\n",
            "R[write to console]: =\n",
            "R[write to console]: =\n",
            "R[write to console]: =\n",
            "R[write to console]: =\n",
            "R[write to console]: =\n",
            "R[write to console]: =\n",
            "R[write to console]: =\n",
            "R[write to console]: =\n",
            "R[write to console]: =\n",
            "R[write to console]: =\n",
            "R[write to console]: =\n",
            "R[write to console]: =\n",
            "R[write to console]: =\n",
            "R[write to console]: =\n",
            "R[write to console]: =\n",
            "R[write to console]: =\n",
            "R[write to console]: =\n",
            "R[write to console]: =\n",
            "R[write to console]: =\n",
            "R[write to console]: =\n",
            "R[write to console]: =\n",
            "R[write to console]: =\n",
            "R[write to console]: =\n",
            "R[write to console]: =\n",
            "R[write to console]: =\n",
            "R[write to console]: =\n",
            "R[write to console]: =\n",
            "R[write to console]: =\n",
            "R[write to console]: \n",
            "\n",
            "R[write to console]: downloaded 23 KB\n",
            "\n",
            "\n",
            "R[write to console]: trying URL 'https://cran.rstudio.com/src/contrib/broom.mixed_0.2.9.4.tar.gz'\n",
            "\n",
            "R[write to console]: Content type 'application/x-gzip'\n",
            "R[write to console]:  length 3991828 bytes (3.8 MB)\n",
            "\n",
            "R[write to console]: =\n",
            "R[write to console]: =\n",
            "R[write to console]: =\n",
            "R[write to console]: =\n",
            "R[write to console]: =\n",
            "R[write to console]: =\n",
            "R[write to console]: =\n",
            "R[write to console]: =\n",
            "R[write to console]: =\n",
            "R[write to console]: =\n",
            "R[write to console]: =\n",
            "R[write to console]: =\n",
            "R[write to console]: =\n",
            "R[write to console]: =\n",
            "R[write to console]: =\n",
            "R[write to console]: =\n",
            "R[write to console]: =\n",
            "R[write to console]: =\n",
            "R[write to console]: =\n",
            "R[write to console]: =\n",
            "R[write to console]: =\n",
            "R[write to console]: =\n",
            "R[write to console]: =\n",
            "R[write to console]: =\n",
            "R[write to console]: =\n",
            "R[write to console]: =\n",
            "R[write to console]: =\n",
            "R[write to console]: =\n",
            "R[write to console]: =\n",
            "R[write to console]: =\n",
            "R[write to console]: =\n",
            "R[write to console]: =\n",
            "R[write to console]: =\n",
            "R[write to console]: =\n",
            "R[write to console]: =\n",
            "R[write to console]: =\n",
            "R[write to console]: =\n",
            "R[write to console]: =\n",
            "R[write to console]: =\n",
            "R[write to console]: =\n",
            "R[write to console]: =\n",
            "R[write to console]: =\n",
            "R[write to console]: =\n",
            "R[write to console]: =\n",
            "R[write to console]: =\n",
            "R[write to console]: =\n",
            "R[write to console]: =\n",
            "R[write to console]: =\n",
            "R[write to console]: =\n",
            "R[write to console]: =\n",
            "R[write to console]: \n",
            "\n",
            "R[write to console]: downloaded 3.8 MB\n",
            "\n",
            "\n",
            "R[write to console]: trying URL 'https://cran.rstudio.com/src/contrib/shiny_1.7.1.tar.gz'\n",
            "\n",
            "R[write to console]: Content type 'application/x-gzip'\n",
            "R[write to console]:  length 2963486 bytes (2.8 MB)\n",
            "\n",
            "R[write to console]: =\n",
            "R[write to console]: =\n",
            "R[write to console]: =\n",
            "R[write to console]: =\n",
            "R[write to console]: =\n",
            "R[write to console]: =\n",
            "R[write to console]: =\n",
            "R[write to console]: =\n",
            "R[write to console]: =\n",
            "R[write to console]: =\n",
            "R[write to console]: =\n",
            "R[write to console]: =\n",
            "R[write to console]: =\n",
            "R[write to console]: =\n",
            "R[write to console]: =\n",
            "R[write to console]: =\n",
            "R[write to console]: =\n",
            "R[write to console]: =\n",
            "R[write to console]: =\n",
            "R[write to console]: =\n",
            "R[write to console]: =\n",
            "R[write to console]: =\n",
            "R[write to console]: =\n",
            "R[write to console]: =\n",
            "R[write to console]: =\n",
            "R[write to console]: =\n",
            "R[write to console]: =\n",
            "R[write to console]: =\n",
            "R[write to console]: =\n",
            "R[write to console]: =\n",
            "R[write to console]: =\n",
            "R[write to console]: =\n",
            "R[write to console]: =\n",
            "R[write to console]: =\n",
            "R[write to console]: =\n",
            "R[write to console]: =\n",
            "R[write to console]: =\n",
            "R[write to console]: =\n",
            "R[write to console]: =\n",
            "R[write to console]: =\n",
            "R[write to console]: =\n",
            "R[write to console]: =\n",
            "R[write to console]: =\n",
            "R[write to console]: =\n",
            "R[write to console]: =\n",
            "R[write to console]: =\n",
            "R[write to console]: =\n",
            "R[write to console]: =\n",
            "R[write to console]: =\n",
            "R[write to console]: =\n",
            "R[write to console]: \n",
            "\n",
            "R[write to console]: downloaded 2.8 MB\n",
            "\n",
            "\n",
            "R[write to console]: trying URL 'https://cran.rstudio.com/src/contrib/equatiomatic_0.3.1.tar.gz'\n",
            "\n",
            "R[write to console]: Content type 'application/x-gzip'\n",
            "R[write to console]:  length 1000254 bytes (976 KB)\n",
            "\n",
            "R[write to console]: =\n",
            "R[write to console]: =\n",
            "R[write to console]: =\n",
            "R[write to console]: =\n",
            "R[write to console]: =\n",
            "R[write to console]: =\n",
            "R[write to console]: =\n",
            "R[write to console]: =\n",
            "R[write to console]: =\n",
            "R[write to console]: =\n",
            "R[write to console]: =\n",
            "R[write to console]: =\n",
            "R[write to console]: =\n",
            "R[write to console]: =\n",
            "R[write to console]: =\n",
            "R[write to console]: =\n",
            "R[write to console]: =\n",
            "R[write to console]: =\n",
            "R[write to console]: =\n",
            "R[write to console]: =\n",
            "R[write to console]: =\n",
            "R[write to console]: =\n",
            "R[write to console]: =\n",
            "R[write to console]: =\n",
            "R[write to console]: =\n",
            "R[write to console]: =\n",
            "R[write to console]: =\n",
            "R[write to console]: =\n",
            "R[write to console]: =\n",
            "R[write to console]: =\n",
            "R[write to console]: =\n",
            "R[write to console]: =\n",
            "R[write to console]: =\n",
            "R[write to console]: =\n",
            "R[write to console]: =\n",
            "R[write to console]: =\n",
            "R[write to console]: =\n",
            "R[write to console]: =\n",
            "R[write to console]: =\n",
            "R[write to console]: =\n",
            "R[write to console]: =\n",
            "R[write to console]: =\n",
            "R[write to console]: =\n",
            "R[write to console]: =\n",
            "R[write to console]: =\n",
            "R[write to console]: =\n",
            "R[write to console]: =\n",
            "R[write to console]: =\n",
            "R[write to console]: =\n",
            "R[write to console]: =\n",
            "R[write to console]: \n",
            "\n",
            "R[write to console]: downloaded 976 KB\n",
            "\n",
            "\n",
            "R[write to console]: \n",
            "\n",
            "R[write to console]: \n",
            "R[write to console]: The downloaded source packages are in\n",
            "\t‘/tmp/RtmpcoMIui/downloaded_packages’\n",
            "R[write to console]: \n",
            "R[write to console]: \n",
            "\n",
            "R[write to console]: \n",
            "equatiomatic installed\n",
            "\n"
          ]
        }
      ],
      "source": [
        "# 2.패키지 개별설치 자동로드\n",
        "%%R\n",
        "if (!require(DiagrammeRsvg)) {install.packages(\"DiagrammeRsvg\") \n",
        "   library(DiagrammeRsvg)}\n",
        "if (!require(DiagrammeR)) {install.packages(\"DiagrammeR\") \n",
        "   library(DiagrammeR)}\n",
        "if (!require(magrittr)) {install.packages(\"magrittr\") \n",
        "   library(magrittr)}\n",
        "# if (!require(rsvg)) {install.packages(\"rsvg\") \n",
        "   #library(rsvg)}\n",
        "#if (!require(summarytools)) {install.packages(\"summarytools\") #, 불가할때 있음\n",
        "#  library(summarytools)}\n",
        "#if (!require(rsvg)) {install.packages(\"rcorr\") \n",
        "#   library(rcorr)}\n",
        "if (!require(pacman)) {install.packages(\"pacman\")\n",
        "   library(pacman)}\n",
        "pacman::p_load(\"corrplot\", \"stargazer\", \"plotly\", \"openxlsx\",\"ggplot2\", #  \"lazyeval\"\n",
        "          \"readxl\",\"dplyr\",\"htmltools\", \"sjmisc\",\"lawstat\",\n",
        "          \"lawstat\",\"Hmisc\",\"gmodels\",\"report\",\"equatiomatic\") # \"webr\",\"moonBook\","
      ]
    },
    {
      "cell_type": "code",
      "execution_count": null,
      "metadata": {
        "id": "-giaVb69FSIZ",
        "colab": {
          "base_uri": "https://localhost:8080/"
        },
        "outputId": "ecf84814-1476-4d95-f06b-5066c9446b1f"
      },
      "outputs": [
        {
          "output_type": "stream",
          "name": "stderr",
          "text": [
            "R[write to console]: Loading required package: astsa\n",
            "\n",
            "R[write to console]: Installing package into ‘/usr/local/lib/R/site-library’\n",
            "(as ‘lib’ is unspecified)\n",
            "\n",
            "R[write to console]: trying URL 'https://cran.rstudio.com/src/contrib/astsa_1.15.tar.gz'\n",
            "\n",
            "R[write to console]: Content type 'application/x-gzip'\n",
            "R[write to console]:  length 639906 bytes (624 KB)\n",
            "\n",
            "R[write to console]: =\n",
            "R[write to console]: =\n",
            "R[write to console]: =\n",
            "R[write to console]: =\n",
            "R[write to console]: =\n",
            "R[write to console]: =\n",
            "R[write to console]: =\n",
            "R[write to console]: =\n",
            "R[write to console]: =\n",
            "R[write to console]: =\n",
            "R[write to console]: =\n",
            "R[write to console]: =\n",
            "R[write to console]: =\n",
            "R[write to console]: =\n",
            "R[write to console]: =\n",
            "R[write to console]: =\n",
            "R[write to console]: =\n",
            "R[write to console]: =\n",
            "R[write to console]: =\n",
            "R[write to console]: =\n",
            "R[write to console]: =\n",
            "R[write to console]: =\n",
            "R[write to console]: =\n",
            "R[write to console]: =\n",
            "R[write to console]: =\n",
            "R[write to console]: =\n",
            "R[write to console]: =\n",
            "R[write to console]: =\n",
            "R[write to console]: =\n",
            "R[write to console]: =\n",
            "R[write to console]: =\n",
            "R[write to console]: =\n",
            "R[write to console]: =\n",
            "R[write to console]: =\n",
            "R[write to console]: =\n",
            "R[write to console]: =\n",
            "R[write to console]: =\n",
            "R[write to console]: =\n",
            "R[write to console]: =\n",
            "R[write to console]: =\n",
            "R[write to console]: =\n",
            "R[write to console]: =\n",
            "R[write to console]: =\n",
            "R[write to console]: =\n",
            "R[write to console]: =\n",
            "R[write to console]: =\n",
            "R[write to console]: =\n",
            "R[write to console]: =\n",
            "R[write to console]: =\n",
            "R[write to console]: =\n",
            "R[write to console]: \n",
            "\n",
            "R[write to console]: downloaded 624 KB\n",
            "\n",
            "\n",
            "R[write to console]: \n",
            "\n",
            "R[write to console]: \n",
            "R[write to console]: The downloaded source packages are in\n",
            "\t‘/tmp/RtmpcoMIui/downloaded_packages’\n",
            "R[write to console]: \n",
            "R[write to console]: \n",
            "\n"
          ]
        }
      ],
      "source": [
        "## 3.패키지 자동설치 자동로드\n",
        "%%R\n",
        "packages = c(\"astsa\",\"openxlsx\",\"Hmisc\",\"stargazer\",\"corrplot\")#\"rsvg\")\n",
        "package.check <- lapply(packages, FUN = function(x) {\n",
        "  if (!require(x, character.only = TRUE)) {\n",
        "    install.packages(x, dependencies = TRUE)\n",
        "    library(x, character.only = TRUE)}})"
      ]
    },
    {
      "cell_type": "markdown",
      "metadata": {
        "id": "T_MWtYgu3mhY"
      },
      "source": [
        "#**구글 코랩에서 파이썬 사용을 위한 셋팅**"
      ]
    },
    {
      "cell_type": "markdown",
      "metadata": {
        "id": "Wc31CvrWvpy2"
      },
      "source": [
        "## **패키지 설치 및 로드**\n",
        "---\n",
        "1. 파이썬 라이브러리 경로설정\n",
        "2. 파이선 패키지 설치 경로설정과 한번에 인스톨 (인스톨 후 #처리)\n",
        "3. 경로설정과 인스톨이 이전에 잘 되었다면 인스톨 과정없이 바로 패키지 로드 가능"
      ]
    },
    {
      "cell_type": "code",
      "execution_count": null,
      "metadata": {
        "colab": {
          "base_uri": "https://localhost:8080/"
        },
        "id": "vecuRpl1FSIZ",
        "outputId": "252dd9d7-171b-447c-d45f-263cb7b49528"
      },
      "outputs": [
        {
          "output_type": "stream",
          "name": "stdout",
          "text": [
            "['/content/notebooks', '', '/content', '/env/python', '/usr/lib/python37.zip', '/usr/lib/python3.7', '/usr/lib/python3.7/lib-dynload', '/usr/local/lib/python3.7/dist-packages', '/usr/lib/python3/dist-packages', '/usr/local/lib/python3.7/dist-packages/IPython/extensions', '/root/.ipython']\n"
          ]
        }
      ],
      "source": [
        "# 파이썬 라이브러리 경로지정\n",
        "import sys\n",
        "print(sys.path)\n",
        "sys.path.append('/content/drive/MyDrive/Colab Notebooks/package_collection')"
      ]
    },
    {
      "cell_type": "code",
      "execution_count": null,
      "metadata": {
        "colab": {
          "base_uri": "https://localhost:8080/"
        },
        "id": "_KMwUrlZu2NY",
        "outputId": "a1b12805-8f64-4648-8497-31c98ad96826"
      },
      "outputs": [
        {
          "output_type": "stream",
          "name": "stdout",
          "text": [
            "Looking in indexes: https://pypi.org/simple, https://us-python.pkg.dev/colab-wheels/public/simple/\n",
            "Collecting pytrends\n",
            "  Downloading pytrends-4.8.0.tar.gz (19 kB)\n",
            "Collecting plotly\n",
            "  Downloading plotly-5.8.0-py2.py3-none-any.whl (15.2 MB)\n",
            "\u001b[K     |████████████████████████████████| 15.2 MB 5.1 MB/s \n",
            "\u001b[?25hCollecting openpyxl\n",
            "  Downloading openpyxl-3.0.10-py2.py3-none-any.whl (242 kB)\n",
            "\u001b[K     |████████████████████████████████| 242 kB 48.2 MB/s \n",
            "\u001b[?25hCollecting numpy\n",
            "  Downloading numpy-1.21.6-cp37-cp37m-manylinux_2_12_x86_64.manylinux2010_x86_64.whl (15.7 MB)\n",
            "\u001b[K     |████████████████████████████████| 15.7 MB 38.6 MB/s \n",
            "\u001b[?25hCollecting pandas\n",
            "  Downloading pandas-1.3.5-cp37-cp37m-manylinux_2_17_x86_64.manylinux2014_x86_64.whl (11.3 MB)\n",
            "\u001b[K     |████████████████████████████████| 11.3 MB 30.9 MB/s \n",
            "\u001b[?25hCollecting matplotlib\n",
            "  Downloading matplotlib-3.5.2-cp37-cp37m-manylinux_2_5_x86_64.manylinux1_x86_64.whl (11.2 MB)\n",
            "\u001b[K     |████████████████████████████████| 11.2 MB 49.9 MB/s \n",
            "\u001b[31mERROR: Could not find a version that satisfies the requirement FinanceDataReader (from versions: none)\u001b[0m\n",
            "\u001b[31mERROR: No matching distribution found for FinanceDataReader\u001b[0m\n",
            "\u001b[?25h"
          ]
        }
      ],
      "source": [
        "# 추가 파이썬 패키지 위치설정과 함께 한번에 인스톨\n",
        "!pip install --target=$nb_path pytrends plotly openpyxl numpy pandas matplotlib FinanceDataReader"
      ]
    },
    {
      "cell_type": "code",
      "execution_count": null,
      "metadata": {
        "colab": {
          "base_uri": "https://localhost:8080/"
        },
        "id": "5dQk0EpoeUgj",
        "outputId": "317c7f9a-7252-4f35-d568-62571a455219"
      },
      "outputs": [
        {
          "output_type": "stream",
          "name": "stdout",
          "text": [
            "Looking in indexes: https://pypi.org/simple, https://us-python.pkg.dev/colab-wheels/public/simple/\n",
            "Collecting finance-datareader\n",
            "  Downloading finance_datareader-0.9.33-py3-none-any.whl (48 kB)\n",
            "\u001b[K     |████████████████████████████████| 48 kB 2.2 MB/s \n",
            "\u001b[?25hRequirement already satisfied: tqdm in /usr/local/lib/python3.7/dist-packages (from finance-datareader) (4.64.0)\n",
            "Requirement already satisfied: lxml in /usr/local/lib/python3.7/dist-packages (from finance-datareader) (4.2.6)\n",
            "Collecting requests-file\n",
            "  Downloading requests_file-1.5.1-py2.py3-none-any.whl (3.7 kB)\n",
            "Requirement already satisfied: requests>=2.3.0 in /usr/local/lib/python3.7/dist-packages (from finance-datareader) (2.23.0)\n",
            "Requirement already satisfied: pandas>=0.19.2 in /usr/local/lib/python3.7/dist-packages (from finance-datareader) (1.3.5)\n",
            "Requirement already satisfied: numpy>=1.17.3 in /usr/local/lib/python3.7/dist-packages (from pandas>=0.19.2->finance-datareader) (1.21.6)\n",
            "Requirement already satisfied: pytz>=2017.3 in /usr/local/lib/python3.7/dist-packages (from pandas>=0.19.2->finance-datareader) (2022.1)\n",
            "Requirement already satisfied: python-dateutil>=2.7.3 in /usr/local/lib/python3.7/dist-packages (from pandas>=0.19.2->finance-datareader) (2.8.2)\n",
            "Requirement already satisfied: six>=1.5 in /usr/local/lib/python3.7/dist-packages (from python-dateutil>=2.7.3->pandas>=0.19.2->finance-datareader) (1.15.0)\n",
            "Requirement already satisfied: chardet<4,>=3.0.2 in /usr/local/lib/python3.7/dist-packages (from requests>=2.3.0->finance-datareader) (3.0.4)\n",
            "Requirement already satisfied: idna<3,>=2.5 in /usr/local/lib/python3.7/dist-packages (from requests>=2.3.0->finance-datareader) (2.10)\n",
            "Requirement already satisfied: certifi>=2017.4.17 in /usr/local/lib/python3.7/dist-packages (from requests>=2.3.0->finance-datareader) (2022.5.18.1)\n",
            "Requirement already satisfied: urllib3!=1.25.0,!=1.25.1,<1.26,>=1.21.1 in /usr/local/lib/python3.7/dist-packages (from requests>=2.3.0->finance-datareader) (1.24.3)\n",
            "Installing collected packages: requests-file, finance-datareader\n",
            "Successfully installed finance-datareader-0.9.33 requests-file-1.5.1\n"
          ]
        }
      ],
      "source": [
        "# 경제데이터를 가져오는 패키지\n",
        "!pip install -U finance-datareader"
      ]
    },
    {
      "cell_type": "code",
      "execution_count": null,
      "metadata": {
        "colab": {
          "base_uri": "https://localhost:8080/"
        },
        "id": "F-R-QH1PGCOH",
        "outputId": "50831db3-df83-4812-c1cf-8ae1cc85abaa"
      },
      "outputs": [
        {
          "output_type": "stream",
          "name": "stdout",
          "text": [
            "Looking in indexes: https://pypi.org/simple, https://us-python.pkg.dev/colab-wheels/public/simple/\n",
            "Collecting pytrends\n",
            "  Using cached pytrends-4.8.0.tar.gz (19 kB)\n",
            "Requirement already satisfied: requests>=2.0 in /usr/local/lib/python3.7/dist-packages (from pytrends) (2.23.0)\n",
            "Requirement already satisfied: pandas>=0.25 in /usr/local/lib/python3.7/dist-packages (from pytrends) (1.3.5)\n",
            "Requirement already satisfied: lxml in /usr/local/lib/python3.7/dist-packages (from pytrends) (4.2.6)\n",
            "Requirement already satisfied: python-dateutil>=2.7.3 in /usr/local/lib/python3.7/dist-packages (from pandas>=0.25->pytrends) (2.8.2)\n",
            "Requirement already satisfied: numpy>=1.17.3 in /usr/local/lib/python3.7/dist-packages (from pandas>=0.25->pytrends) (1.21.6)\n",
            "Requirement already satisfied: pytz>=2017.3 in /usr/local/lib/python3.7/dist-packages (from pandas>=0.25->pytrends) (2022.1)\n",
            "Requirement already satisfied: six>=1.5 in /usr/local/lib/python3.7/dist-packages (from python-dateutil>=2.7.3->pandas>=0.25->pytrends) (1.15.0)\n",
            "Requirement already satisfied: certifi>=2017.4.17 in /usr/local/lib/python3.7/dist-packages (from requests>=2.0->pytrends) (2022.5.18.1)\n",
            "Requirement already satisfied: idna<3,>=2.5 in /usr/local/lib/python3.7/dist-packages (from requests>=2.0->pytrends) (2.10)\n",
            "Requirement already satisfied: chardet<4,>=3.0.2 in /usr/local/lib/python3.7/dist-packages (from requests>=2.0->pytrends) (3.0.4)\n",
            "Requirement already satisfied: urllib3!=1.25.0,!=1.25.1,<1.26,>=1.21.1 in /usr/local/lib/python3.7/dist-packages (from requests>=2.0->pytrends) (1.24.3)\n",
            "Building wheels for collected packages: pytrends\n",
            "  Building wheel for pytrends (setup.py) ... \u001b[?25l\u001b[?25hdone\n",
            "  Created wheel for pytrends: filename=pytrends-4.8.0-py3-none-any.whl size=16126 sha256=43e5d2869b7e0087248774fb22b5b6b78a637621fc89f84ceb874d5bb2427d46\n",
            "  Stored in directory: /root/.cache/pip/wheels/07/6f/5c/8174f98dec1bfbc7d5da4092854afcbcff4b26c3d9b66b5183\n",
            "Successfully built pytrends\n",
            "Installing collected packages: pytrends\n",
            "Successfully installed pytrends-4.8.0\n"
          ]
        }
      ],
      "source": [
        "pip install pytrends"
      ]
    },
    {
      "cell_type": "code",
      "execution_count": null,
      "metadata": {
        "colab": {
          "base_uri": "https://localhost:8080/"
        },
        "id": "HrjcaVJfFSIa",
        "outputId": "a53a7721-edc3-469a-a50e-0b3107134a8e"
      },
      "outputs": [
        {
          "output_type": "display_data",
          "data": {
            "text/html": [
              "        <script type=\"text/javascript\">\n",
              "        window.PlotlyConfig = {MathJaxConfig: 'local'};\n",
              "        if (window.MathJax) {MathJax.Hub.Config({SVG: {font: \"STIX-Web\"}});}\n",
              "        if (typeof require !== 'undefined') {\n",
              "        require.undef(\"plotly\");\n",
              "        requirejs.config({\n",
              "            paths: {\n",
              "                'plotly': ['https://cdn.plot.ly/plotly-2.8.3.min']\n",
              "            }\n",
              "        });\n",
              "        require(['plotly'], function(Plotly) {\n",
              "            window._Plotly = Plotly;\n",
              "        });\n",
              "        }\n",
              "        </script>\n",
              "        "
            ]
          },
          "metadata": {}
        }
      ],
      "source": [
        "# 필요 imports\n",
        "import numpy as np\n",
        "import pandas as pd\n",
        "from pandas import DataFrame\n",
        "import warnings\n",
        "warnings.filterwarnings('ignore')\n",
        "\n",
        "from pytrends.request import TrendReq\n",
        "from tkinter import *\n",
        "#import tkinter.filedialog\n",
        "import matplotlib.font_manager as fm\n",
        "\n",
        "import plotly\n",
        "import plotly.graph_objects as go\n",
        "from plotly.offline import download_plotlyjs, init_notebook_mode, iplot\n",
        "import plotly.offline as pyo\n",
        "init_notebook_mode(connected=True)\n",
        "from IPython.display import HTML\n",
        "import plotly.express as px\n",
        "\n",
        "from collections import Counter\n",
        "from wordcloud import WordCloud\n",
        "from matplotlib import pyplot as plt\n",
        "\n",
        "import urllib.request, datetime, time, json"
      ]
    },
    {
      "cell_type": "markdown",
      "metadata": {
        "id": "pJhz9cwxFSIa"
      },
      "source": [
        "#**구글 코랩에서 파이썬과 R을 이용한 구글 트렌드 활용**"
      ]
    },
    {
      "cell_type": "markdown",
      "metadata": {
        "id": "ZpCOEg6MFSIa"
      },
      "source": [
        "> # 구글트렌드란?\n",
        "* 구글 트렌드는 전 세계 구글 검색량을 기반으로 트렌드를 예측하는 도구로 사용됨.\n",
        "* 구글 검색사이트에서 여러 용어들을 검색할 수 있고 이에 대한 빈도,관련내용 등이 축척된 것이 구글 트렌드 웹사이트이다.\n",
        "* 사람들은 관심 있는 것을 더 많이 검색한다.'라는 가정에 근거해 볼 때 해당 키워드 검색량이 많을수록 인지도는 크다고 할 수 가 있다.\n",
        "* **장점**: 몇 년 치의 통계 데이터를 지표(SVI, search volume index)로 볼 수 있어서 검색어에 대한 변화추이를 볼 수 있다.\n",
        "* **단점**: 이 검색량은 구글에서만 한정되므로 구글을 적게 사용하는 나라에서는 그 신뢰도가 떨어진다고 할 수 있다."
      ]
    },
    {
      "cell_type": "markdown",
      "metadata": {
        "id": "LrW0TlObFSIa"
      },
      "source": [
        "#### 구글트렌드의 카테고리 사이트 주소\n",
        "\n",
        "#### [Google Trends Categories](https://github.com/pat310/google-trends-api/wiki/Google-Trends-Categories)\n",
        "\n",
        "\n",
        "\n"
      ]
    },
    {
      "cell_type": "markdown",
      "metadata": {
        "id": "f8rrFeWyFSIa"
      },
      "source": [
        "# **분석환경설정**"
      ]
    },
    {
      "cell_type": "markdown",
      "metadata": {
        "id": "YIUYx92mFSIa"
      },
      "source": [
        "#### 앞에서 한번에 파이썬 패키지가 설치되지않았다면 핵심 패키지만 아래에서 인스톨, 잘 설치된 경우 생략가능"
      ]
    },
    {
      "cell_type": "code",
      "execution_count": null,
      "metadata": {
        "colab": {
          "base_uri": "https://localhost:8080/"
        },
        "id": "HO4DRDCnFSIb",
        "outputId": "69b80ded-131e-4060-d3c3-22513eb935a9"
      },
      "outputs": [
        {
          "output_type": "stream",
          "name": "stdout",
          "text": [
            "Looking in indexes: https://pypi.org/simple, https://us-python.pkg.dev/colab-wheels/public/simple/\n",
            "Requirement already satisfied: pytrends in /usr/local/lib/python3.7/dist-packages (4.8.0)\n",
            "Requirement already satisfied: pandas>=0.25 in /usr/local/lib/python3.7/dist-packages (from pytrends) (1.3.5)\n",
            "Requirement already satisfied: requests>=2.0 in /usr/local/lib/python3.7/dist-packages (from pytrends) (2.23.0)\n",
            "Requirement already satisfied: lxml in /usr/local/lib/python3.7/dist-packages (from pytrends) (4.2.6)\n",
            "Requirement already satisfied: numpy>=1.17.3 in /usr/local/lib/python3.7/dist-packages (from pandas>=0.25->pytrends) (1.21.6)\n",
            "Requirement already satisfied: pytz>=2017.3 in /usr/local/lib/python3.7/dist-packages (from pandas>=0.25->pytrends) (2022.1)\n",
            "Requirement already satisfied: python-dateutil>=2.7.3 in /usr/local/lib/python3.7/dist-packages (from pandas>=0.25->pytrends) (2.8.2)\n",
            "Requirement already satisfied: six>=1.5 in /usr/local/lib/python3.7/dist-packages (from python-dateutil>=2.7.3->pandas>=0.25->pytrends) (1.15.0)\n",
            "Requirement already satisfied: urllib3!=1.25.0,!=1.25.1,<1.26,>=1.21.1 in /usr/local/lib/python3.7/dist-packages (from requests>=2.0->pytrends) (1.24.3)\n",
            "Requirement already satisfied: chardet<4,>=3.0.2 in /usr/local/lib/python3.7/dist-packages (from requests>=2.0->pytrends) (3.0.4)\n",
            "Requirement already satisfied: idna<3,>=2.5 in /usr/local/lib/python3.7/dist-packages (from requests>=2.0->pytrends) (2.10)\n",
            "Requirement already satisfied: certifi>=2017.4.17 in /usr/local/lib/python3.7/dist-packages (from requests>=2.0->pytrends) (2022.5.18.1)\n",
            "Looking in indexes: https://pypi.org/simple, https://us-python.pkg.dev/colab-wheels/public/simple/\n",
            "Requirement already satisfied: pandas in /usr/local/lib/python3.7/dist-packages (1.3.5)\n",
            "Requirement already satisfied: numpy>=1.17.3 in /usr/local/lib/python3.7/dist-packages (from pandas) (1.21.6)\n",
            "Requirement already satisfied: python-dateutil>=2.7.3 in /usr/local/lib/python3.7/dist-packages (from pandas) (2.8.2)\n",
            "Requirement already satisfied: pytz>=2017.3 in /usr/local/lib/python3.7/dist-packages (from pandas) (2022.1)\n",
            "Requirement already satisfied: six>=1.5 in /usr/local/lib/python3.7/dist-packages (from python-dateutil>=2.7.3->pandas) (1.15.0)\n",
            "Looking in indexes: https://pypi.org/simple, https://us-python.pkg.dev/colab-wheels/public/simple/\n",
            "Requirement already satisfied: matplotlib in /usr/local/lib/python3.7/dist-packages (3.2.2)\n",
            "Requirement already satisfied: numpy>=1.11 in /usr/local/lib/python3.7/dist-packages (from matplotlib) (1.21.6)\n",
            "Requirement already satisfied: pyparsing!=2.0.4,!=2.1.2,!=2.1.6,>=2.0.1 in /usr/local/lib/python3.7/dist-packages (from matplotlib) (3.0.9)\n",
            "Requirement already satisfied: kiwisolver>=1.0.1 in /usr/local/lib/python3.7/dist-packages (from matplotlib) (1.4.2)\n",
            "Requirement already satisfied: python-dateutil>=2.1 in /usr/local/lib/python3.7/dist-packages (from matplotlib) (2.8.2)\n",
            "Requirement already satisfied: cycler>=0.10 in /usr/local/lib/python3.7/dist-packages (from matplotlib) (0.11.0)\n",
            "Requirement already satisfied: typing-extensions in /usr/local/lib/python3.7/dist-packages (from kiwisolver>=1.0.1->matplotlib) (4.2.0)\n",
            "Requirement already satisfied: six>=1.5 in /usr/local/lib/python3.7/dist-packages (from python-dateutil>=2.1->matplotlib) (1.15.0)\n"
          ]
        }
      ],
      "source": [
        "#### 패키지 인스톨 및 로드\n",
        "!pip install pytrends\n",
        "!pip install pandas\n",
        "!pip install matplotlib"
      ]
    },
    {
      "cell_type": "markdown",
      "metadata": {
        "id": "TXYio8AtFSIb"
      },
      "source": [
        "# **키워드 설정**\n",
        "1.   pytrends 호출\n",
        "2.   pytrends 설정\n",
        "\n",
        "\n",
        "\n",
        "\n"
      ]
    },
    {
      "cell_type": "code",
      "execution_count": null,
      "metadata": {
        "id": "dTz3KjbNFSIb"
      },
      "outputs": [],
      "source": [
        "###############################################################\n",
        "###################### pytrends 호출  ##########################\n",
        "###############################################################\n",
        "pytrend = TrendReq()"
      ]
    },
    {
      "cell_type": "markdown",
      "metadata": {
        "id": "47Tywc0dHmpy"
      },
      "source": [
        "# 대만 관광객 분석"
      ]
    },
    {
      "cell_type": "code",
      "execution_count": null,
      "metadata": {
        "id": "94fggOXuEw6T"
      },
      "outputs": [],
      "source": [
        "kw_list=[\"韓國觀光\", \"韓國飯店\", \"韓國機場\", \"韓國免稅店\"]\n",
        "\n",
        "### 한국관광, 한국호텔, 한국공항, 한국면세점\n",
        "\n",
        "pytrend.build_payload(kw_list, # 주제 아니고 검색어\n",
        "                      geo='TW',\n",
        "                      timeframe='2013-01-01 2019-12-31',\n",
        "                      cat=67, \n",
        "                      gprop='')"
      ]
    },
    {
      "cell_type": "markdown",
      "metadata": {
        "id": "6h4O-0YSBy3-"
      },
      "source": [
        "# **SVI지수 도출**\n",
        "\n",
        "\n",
        "*   대략적 그림 그리기(그래프로 보여줌)\n",
        "*   엑셀파일로 저장\n",
        "\n"
      ]
    },
    {
      "cell_type": "code",
      "execution_count": null,
      "metadata": {
        "colab": {
          "base_uri": "https://localhost:8080/"
        },
        "id": "k8sbk5ocBy3-",
        "outputId": "f8739721-2d7d-4bc1-a20c-4c3706418768"
      },
      "outputs": [
        {
          "output_type": "execute_result",
          "data": {
            "text/plain": [
              "            韓國觀光  韓國飯店  韓國機場  韓國免稅店  isPartial\n",
              "date                                          \n",
              "2013-01-01    64    17    32      2      False\n",
              "2013-02-01    53     9    34      7      False\n",
              "2013-03-01    58    14    36      1      False\n",
              "2013-04-01    50     9    22      0      False\n",
              "2013-05-01    48    10    30      4      False\n",
              "...          ...   ...   ...    ...        ...\n",
              "2019-08-01    20    34    81     24      False\n",
              "2019-09-01    13    31    97     34      False\n",
              "2019-10-01    23    38    87     31      False\n",
              "2019-11-01    26    37    81     29      False\n",
              "2019-12-01    17    38    63     23      False\n",
              "\n",
              "[84 rows x 5 columns]"
            ],
            "text/html": [
              "\n",
              "  <div id=\"df-9912a113-f5ae-4fa8-947d-52378aef5a86\">\n",
              "    <div class=\"colab-df-container\">\n",
              "      <div>\n",
              "<style scoped>\n",
              "    .dataframe tbody tr th:only-of-type {\n",
              "        vertical-align: middle;\n",
              "    }\n",
              "\n",
              "    .dataframe tbody tr th {\n",
              "        vertical-align: top;\n",
              "    }\n",
              "\n",
              "    .dataframe thead th {\n",
              "        text-align: right;\n",
              "    }\n",
              "</style>\n",
              "<table border=\"1\" class=\"dataframe\">\n",
              "  <thead>\n",
              "    <tr style=\"text-align: right;\">\n",
              "      <th></th>\n",
              "      <th>韓國觀光</th>\n",
              "      <th>韓國飯店</th>\n",
              "      <th>韓國機場</th>\n",
              "      <th>韓國免稅店</th>\n",
              "      <th>isPartial</th>\n",
              "    </tr>\n",
              "    <tr>\n",
              "      <th>date</th>\n",
              "      <th></th>\n",
              "      <th></th>\n",
              "      <th></th>\n",
              "      <th></th>\n",
              "      <th></th>\n",
              "    </tr>\n",
              "  </thead>\n",
              "  <tbody>\n",
              "    <tr>\n",
              "      <th>2013-01-01</th>\n",
              "      <td>64</td>\n",
              "      <td>17</td>\n",
              "      <td>32</td>\n",
              "      <td>2</td>\n",
              "      <td>False</td>\n",
              "    </tr>\n",
              "    <tr>\n",
              "      <th>2013-02-01</th>\n",
              "      <td>53</td>\n",
              "      <td>9</td>\n",
              "      <td>34</td>\n",
              "      <td>7</td>\n",
              "      <td>False</td>\n",
              "    </tr>\n",
              "    <tr>\n",
              "      <th>2013-03-01</th>\n",
              "      <td>58</td>\n",
              "      <td>14</td>\n",
              "      <td>36</td>\n",
              "      <td>1</td>\n",
              "      <td>False</td>\n",
              "    </tr>\n",
              "    <tr>\n",
              "      <th>2013-04-01</th>\n",
              "      <td>50</td>\n",
              "      <td>9</td>\n",
              "      <td>22</td>\n",
              "      <td>0</td>\n",
              "      <td>False</td>\n",
              "    </tr>\n",
              "    <tr>\n",
              "      <th>2013-05-01</th>\n",
              "      <td>48</td>\n",
              "      <td>10</td>\n",
              "      <td>30</td>\n",
              "      <td>4</td>\n",
              "      <td>False</td>\n",
              "    </tr>\n",
              "    <tr>\n",
              "      <th>...</th>\n",
              "      <td>...</td>\n",
              "      <td>...</td>\n",
              "      <td>...</td>\n",
              "      <td>...</td>\n",
              "      <td>...</td>\n",
              "    </tr>\n",
              "    <tr>\n",
              "      <th>2019-08-01</th>\n",
              "      <td>20</td>\n",
              "      <td>34</td>\n",
              "      <td>81</td>\n",
              "      <td>24</td>\n",
              "      <td>False</td>\n",
              "    </tr>\n",
              "    <tr>\n",
              "      <th>2019-09-01</th>\n",
              "      <td>13</td>\n",
              "      <td>31</td>\n",
              "      <td>97</td>\n",
              "      <td>34</td>\n",
              "      <td>False</td>\n",
              "    </tr>\n",
              "    <tr>\n",
              "      <th>2019-10-01</th>\n",
              "      <td>23</td>\n",
              "      <td>38</td>\n",
              "      <td>87</td>\n",
              "      <td>31</td>\n",
              "      <td>False</td>\n",
              "    </tr>\n",
              "    <tr>\n",
              "      <th>2019-11-01</th>\n",
              "      <td>26</td>\n",
              "      <td>37</td>\n",
              "      <td>81</td>\n",
              "      <td>29</td>\n",
              "      <td>False</td>\n",
              "    </tr>\n",
              "    <tr>\n",
              "      <th>2019-12-01</th>\n",
              "      <td>17</td>\n",
              "      <td>38</td>\n",
              "      <td>63</td>\n",
              "      <td>23</td>\n",
              "      <td>False</td>\n",
              "    </tr>\n",
              "  </tbody>\n",
              "</table>\n",
              "<p>84 rows × 5 columns</p>\n",
              "</div>\n",
              "      <button class=\"colab-df-convert\" onclick=\"convertToInteractive('df-9912a113-f5ae-4fa8-947d-52378aef5a86')\"\n",
              "              title=\"Convert this dataframe to an interactive table.\"\n",
              "              style=\"display:none;\">\n",
              "        \n",
              "  <svg xmlns=\"http://www.w3.org/2000/svg\" height=\"24px\"viewBox=\"0 0 24 24\"\n",
              "       width=\"24px\">\n",
              "    <path d=\"M0 0h24v24H0V0z\" fill=\"none\"/>\n",
              "    <path d=\"M18.56 5.44l.94 2.06.94-2.06 2.06-.94-2.06-.94-.94-2.06-.94 2.06-2.06.94zm-11 1L8.5 8.5l.94-2.06 2.06-.94-2.06-.94L8.5 2.5l-.94 2.06-2.06.94zm10 10l.94 2.06.94-2.06 2.06-.94-2.06-.94-.94-2.06-.94 2.06-2.06.94z\"/><path d=\"M17.41 7.96l-1.37-1.37c-.4-.4-.92-.59-1.43-.59-.52 0-1.04.2-1.43.59L10.3 9.45l-7.72 7.72c-.78.78-.78 2.05 0 2.83L4 21.41c.39.39.9.59 1.41.59.51 0 1.02-.2 1.41-.59l7.78-7.78 2.81-2.81c.8-.78.8-2.07 0-2.86zM5.41 20L4 18.59l7.72-7.72 1.47 1.35L5.41 20z\"/>\n",
              "  </svg>\n",
              "      </button>\n",
              "      \n",
              "  <style>\n",
              "    .colab-df-container {\n",
              "      display:flex;\n",
              "      flex-wrap:wrap;\n",
              "      gap: 12px;\n",
              "    }\n",
              "\n",
              "    .colab-df-convert {\n",
              "      background-color: #E8F0FE;\n",
              "      border: none;\n",
              "      border-radius: 50%;\n",
              "      cursor: pointer;\n",
              "      display: none;\n",
              "      fill: #1967D2;\n",
              "      height: 32px;\n",
              "      padding: 0 0 0 0;\n",
              "      width: 32px;\n",
              "    }\n",
              "\n",
              "    .colab-df-convert:hover {\n",
              "      background-color: #E2EBFA;\n",
              "      box-shadow: 0px 1px 2px rgba(60, 64, 67, 0.3), 0px 1px 3px 1px rgba(60, 64, 67, 0.15);\n",
              "      fill: #174EA6;\n",
              "    }\n",
              "\n",
              "    [theme=dark] .colab-df-convert {\n",
              "      background-color: #3B4455;\n",
              "      fill: #D2E3FC;\n",
              "    }\n",
              "\n",
              "    [theme=dark] .colab-df-convert:hover {\n",
              "      background-color: #434B5C;\n",
              "      box-shadow: 0px 1px 3px 1px rgba(0, 0, 0, 0.15);\n",
              "      filter: drop-shadow(0px 1px 2px rgba(0, 0, 0, 0.3));\n",
              "      fill: #FFFFFF;\n",
              "    }\n",
              "  </style>\n",
              "\n",
              "      <script>\n",
              "        const buttonEl =\n",
              "          document.querySelector('#df-9912a113-f5ae-4fa8-947d-52378aef5a86 button.colab-df-convert');\n",
              "        buttonEl.style.display =\n",
              "          google.colab.kernel.accessAllowed ? 'block' : 'none';\n",
              "\n",
              "        async function convertToInteractive(key) {\n",
              "          const element = document.querySelector('#df-9912a113-f5ae-4fa8-947d-52378aef5a86');\n",
              "          const dataTable =\n",
              "            await google.colab.kernel.invokeFunction('convertToInteractive',\n",
              "                                                     [key], {});\n",
              "          if (!dataTable) return;\n",
              "\n",
              "          const docLinkHtml = 'Like what you see? Visit the ' +\n",
              "            '<a target=\"_blank\" href=https://colab.research.google.com/notebooks/data_table.ipynb>data table notebook</a>'\n",
              "            + ' to learn more about interactive tables.';\n",
              "          element.innerHTML = '';\n",
              "          dataTable['output_type'] = 'display_data';\n",
              "          await google.colab.output.renderOutput(dataTable, element);\n",
              "          const docLink = document.createElement('div');\n",
              "          docLink.innerHTML = docLinkHtml;\n",
              "          element.appendChild(docLink);\n",
              "        }\n",
              "      </script>\n",
              "    </div>\n",
              "  </div>\n",
              "  "
            ]
          },
          "metadata": {},
          "execution_count": 19
        }
      ],
      "source": [
        "# Interest Over Time: SVI지수 도출\n",
        "interest_over_time_df = pytrend.interest_over_time()\n",
        "interest_over_time_df"
      ]
    },
    {
      "cell_type": "code",
      "execution_count": null,
      "metadata": {
        "colab": {
          "base_uri": "https://localhost:8080/"
        },
        "id": "U825o_FCMvLG",
        "outputId": "e809316c-e7a7-465d-f926-b5fb01d24951"
      },
      "outputs": [
        {
          "output_type": "stream",
          "name": "stdout",
          "text": [
            "        date  韓國觀光  韓國飯店  韓國機場  韓國免稅店\n",
            "0 2013-01-01    64    17    32      2\n",
            "1 2013-02-01    53     9    34      7\n",
            "2 2013-03-01    58    14    36      1\n",
            "3 2013-04-01    50     9    22      0\n",
            "4 2013-05-01    48    10    30      4\n",
            "(84, 5)\n",
            "['date', '韓國觀光', '韓國飯店', '韓國機場', '韓國免稅店']\n"
          ]
        }
      ],
      "source": [
        "otime_df = interest_over_time_df\n",
        "otime_df = otime_df.drop('isPartial', axis = 1)\n",
        "otime_df.reset_index(level=0,inplace=True) #reset_index\n",
        "print(otime_df.head())\n",
        "print(otime_df.shape)\n",
        "# Extract column names\n",
        "print(list(otime_df.columns))"
      ]
    },
    {
      "cell_type": "code",
      "execution_count": null,
      "metadata": {
        "id": "au7P-8p25w-r"
      },
      "outputs": [],
      "source": [
        "# ## interest_over_time_df 엑셀파일저장\n",
        "otime_df.to_excel('/content/drive/MyDrive/Colab Notebooks/otime_df.xlsx', sheet_name='sheet1')"
      ]
    },
    {
      "cell_type": "code",
      "execution_count": null,
      "metadata": {
        "colab": {
          "base_uri": "https://localhost:8080/"
        },
        "id": "au7cS2PoBy3-",
        "outputId": "15875740-2f7e-4b57-c2b9-180244c7d34a"
      },
      "outputs": [
        {
          "output_type": "execute_result",
          "data": {
            "text/plain": [
              "<matplotlib.axes._subplots.AxesSubplot at 0x7f8986578b50>"
            ]
          },
          "metadata": {},
          "execution_count": 22
        },
        {
          "output_type": "display_data",
          "data": {
            "text/plain": [
              "<Figure size 864x216 with 0 Axes>"
            ]
          },
          "metadata": {}
        },
        {
          "output_type": "display_data",
          "data": {
            "text/plain": [
              "<Figure size 432x288 with 1 Axes>"
            ],
            "image/png": "[encoded data removed]"
          },
          "metadata": {
            "image/png": {
              "width": 375,
              "height": 261
            },
            "needs_background": "light"
          }
        }
      ],
      "source": [
        "### 대략적 그림 그리기\n",
        "plt.figure(figsize=(12, 3))\n",
        "interest_over_time_df.plot()"
      ]
    },
    {
      "cell_type": "markdown",
      "metadata": {
        "id": "fou0J0UAsYyD"
      },
      "source": [
        "# **출입국 데이터 크롤링**\n",
        "\n",
        "\n",
        "*  관련 국가의 한국방문 관광객수를 크롤링함"
      ]
    },
    {
      "cell_type": "code",
      "execution_count": null,
      "metadata": {
        "id": "MKp5M4lGYo8T"
      },
      "outputs": [],
      "source": [
        "def get_request_url(url):\n",
        "    req = urllib.request.Request(url)\n",
        "    try:\n",
        "        response = urllib.request.urlopen(req)\n",
        "#         print('Success: ' + str(datetime.datetime.now()))\n",
        "        return response.read().decode('utf-8')\n",
        "    except Exception as e:\n",
        "        print(e)\n",
        "        return None"
      ]
    },
    {
      "cell_type": "code",
      "execution_count": null,
      "metadata": {
        "id": "yY84wQtiYo8U"
      },
      "outputs": [],
      "source": [
        "def getNatVisitor(yyyymm,nat_cd,ed_cd):\n",
        "    access_key= '%2F6qJF976MsrShUlma86PLp0i2IJhfeVL1ttB%2FO%2BxAC%2Bpz1A%2BQYmVBreUXeKx%2F9SPsrXw8EOXSz1AQz1qrib5zw%3D%3D'\n",
        "    end_point = 'http://openapi.tour.go.kr/openapi/service/EdrcntTourismStatsService/getEdrcntTourismStatsList'\n",
        "    end_point += '?_type=json'   \n",
        "    end_point += '&YM='+ yyyymm\n",
        "    end_point += '&NAT_CD=' + nat_cd\n",
        "    end_point += '&ED_CD' + ed_cd\n",
        "    end_point += '&serviceKey=' + access_key\n",
        "    retData = get_request_url(end_point)\n",
        "    if retData == None:\n",
        "        return None\n",
        "    else:\n",
        "        return json.loads(retData)"
      ]
    },
    {
      "cell_type": "code",
      "execution_count": null,
      "metadata": {
        "id": "3mTN29hhYo8V"
      },
      "outputs": [],
      "source": [
        "nations = dict(한국=100, 아프가니스탄=101, 바레인=104, 방글라데시=105, 부탄=106, 브루나이=107, 미얀마=108, 영령인도양섬=109\n",
        "               , 캄보디아=110, 스리랑카=111, 중국=112, 대만=113 ,키프로스=114 ,북한=118 ,홍콩=120 ,홍콩난민=121 ,인도=124, 인도네시아=125\n",
        "               , 이란=126, 이라크=127, 이스라엘=128 ,일본=130 ,요르단=131 ,카자흐스탄=133 ,키르기스스탄=134 ,쿠웨이트=135 ,라오스=138\n",
        "               , 레바논=139, 마카오=142, 말레이시아=143, 몰디브=144, 몽골=145, 마요트=146, 네팔=148, 오만=150, 파키스탄=153\n",
        "               , 팔레스타인=154, 필리핀=155, 티모르=156, 카타르=159, 사우디아라비아=162, 시킴왕국=163, 싱가포르=164, 시리아=165\n",
        "               , 타지키스탄=169, 태국=170, 터키=171, 투르크메니스탄=172, 아랍에미리트연합=180, 우즈베키스탄=181, 베트남=185\n",
        "               , 예멘공화국=191, 예멘인민민주공화국=192, 앵귈라=200 ,앤티가바부다=201 ,아르헨티나=202 ,아루바=203 ,바하마=205\n",
        "               , 바베이도스=206, 벨리즈=207 ,볼리비아=208 ,브라질=209 ,버뮤다=210 ,부베트=211 ,케이맨제도=212 ,캐나다=213, 칠레=214\n",
        "               , 콜롬비아=215, 코스타리카=216, 쿠바=217, 도미니카연방=220, 도미니카공화국=221, 이스터제도=223, 에콰도르=224, 엘살바도르=225\n",
        "               , 포클랜드=226 ,불령가이아나=227 ,그레나다=229 ,과들루프=230 ,과테말라=231 ,가이아나=232 ,아이티=235 ,온두라스=236\n",
        "               , 자메이카=240, 마르티니크=247, 멕시코=248 ,몬서래트=249 ,네덜란드령앤틸리스=251, 니카라과=252, 파나마=255, 파라과이=256\n",
        "               , 페루=257, 푸에르토리코=258, 남조지아남샌드위치군도=260, 상피에르미클롱=261, 세인트크리스토퍼네비스=262\n",
        "               , 세인트루시아=263, 세인트빈센트그레나딘=264, 수리남=265 ,트리니다드토바고=268, 터크스케이커스=269, 우루과이=274\n",
        "               , 미국=275, 미국인근섬=276, 베네수엘라=280, 미령버진아일랜드=281, 영령버진아일랜드=282, 알바니아=301, 안도라=302\n",
        "               , 오스트리아=303, 아르메니아=304, 아제르바이잔=305, 벨기에=306, 불가리아=307, 벨로루시=308, 보스니아헤르체고비나=309\n",
        "               , 체코=310, 페로섬=311, 에스토니아=312, 덴마크=313, 영국보호민=314, 영국속국민=315, 영국=316, 영국속령지시민=317\n",
        "               , 영국외지민=318, 영국외지시민=319, 핀란드=320, 프랑스=321, 그루지야=323, 독일=324, 동독=325, 그리스=326, 지브롤터=327\n",
        "               , 그린란드=328, 헝가리=329, 아이슬란드=333, 아일랜드=334, 이탈리아=335, 코소보=337, 라트비아=339, 리히텐슈타인=340\n",
        "               , 룩셈부르크=341, 리투아니아=342, 마케도니아=343, 몰타=344, 모나코=345, 몰도바=346, 몬테네그로=347, 네덜란드=350\n",
        "               , 노르웨이=352, 폴란드=360, 포르투갈=361, 루마니아=365, 러시아연방=366, 세르비아=367, 슬로바크=368, 슬로베니아=370\n",
        "               , 산마리노=371, 스페인=372, 스웨덴=373, 스위스=374, 스발바르=375, 우크라이나=378, 독립국가연합=380, 바티칸=390\n",
        "               , 크로아티아=391, 유고슬라비아=395, 세르비아앤몬테네그로=396, 오스트레일리아=404, 캐롤라인군도=411, 쿡아일랜드=412\n",
        "               , 크리스마스=413, 코코스=414, 피지=418, 불령폴리네시아=419, 불령남태평양섬=420, 괌=423, 허드맥도날드=425, 키리바시=429\n",
        "               , 북마리아나군도=434, 미크로네시아=435, 마라아나군도=436, 마샬군도=437, 미드웨이=438, 나우루=441, 뉴칼레도니아=443\n",
        "               , 뉴질랜드=446, 니우에=447, 노폴크=448, 팔라우=451, 파푸아뉴기니=452, 핏캐른=454, 사모아=461, 미령사모아=462\n",
        "               , 솔로몬군도=463, 호주령솔로몬군도=464, 통가=473, 토켈라우=474, 투발루=475, 비누아투=485, 웨이크아일랜드=490\n",
        "               , 월리스푸투나=491, 알제리=502, 앙골라=503, 보츠와나=506, 부룬디=507, 카메룬=510, 카나리아군도=511, 카보베르데=512\n",
        "               , 중앙아프리카공화국=513, 차드=514, 코모로=515, 콩고=516, 콩고민주공화국=517, 베냉=520, 지부티=521, 이집트=525\n",
        "               , 적도기니=526, 에티오피아=527, 에리트레아=528, 가봉=530, 감비아=531, 가나=532, 기니=533, 기니비사우=534\n",
        "               , 코트디부아르=537, 케냐=540, 레소토=542, 라이베리아=543, 리비아=544, 마다가스카르=550, 말라위=551, 말리=552\n",
        "               , 모리타니=553, 모리셔스=554, 모로코=555, 모잠비크=556, 나미비아=560, 니제르=561, 나이지리아=562, 레위니옹=564\n",
        "               , 짐바브웨=565, 르완다=566, 상투메프린시페=571, 세네갈=572, 세이셸=573, 시에라리온=574, 소말리아=575, 남아프리카공화국=576\n",
        "               , 세인트헬레나=577, 수단=578, 스와질란드=579, 남수단공화국=580, 탄자니아=583, 토고=584, 튀니지=585, 우간다=588\n",
        "               , 부르키나파소=589, 서사하라=591, 자이르=594, 잠비아=595, 남극대륙=620, 공해=666, 국제연합=900, 승무원=998, 교포=999)"
      ]
    },
    {
      "cell_type": "code",
      "execution_count": null,
      "metadata": {
        "colab": {
          "base_uri": "https://localhost:8080/"
        },
        "id": "JWjJmI2HHs0D",
        "outputId": "390676fa-460c-4fea-bcdd-b887789914eb"
      },
      "outputs": [
        {
          "output_type": "execute_result",
          "data": {
            "text/plain": [
              "[113]"
            ]
          },
          "metadata": {},
          "execution_count": 26
        }
      ],
      "source": [
        "nations2=[nations['대만']]\n",
        "nations2"
      ]
    },
    {
      "cell_type": "code",
      "execution_count": null,
      "metadata": {
        "id": "t0W73tQ-Yo8X"
      },
      "outputs": [],
      "source": [
        "for n in nations2:\n",
        "    nation_code = str(n)\n",
        "    ed_cd = \"E\"\n",
        "    #nStartYear = 2005\n",
        "    #nEndYear = 2020\n",
        "    nStartYear = 2013\n",
        "    nEndYear = 2019\n",
        "    jsonResult = []\n",
        "    for year in range(nStartYear, nEndYear+1):\n",
        "        for month in range(1, 13):\n",
        "            yyyymm = \"{0}{1:0>2}\".format(str(year), str(month))\n",
        "            retJson = getNatVisitor(yyyymm, nation_code, ed_cd)\n",
        "            jsonData = retJson['response']['body']['items']['item']\n",
        "            name = jsonData['natKorNm'].replace(' ','')\n",
        "            national_code = jsonData['natCd']\n",
        "            num_Visitors = jsonData['num']\n",
        "            jsonResult.append({'nation' : name, 'nation_code': national_code, 'num_visitors' : num_Visitors, 'yyyymm': yyyymm})\n",
        "    jsonResult\n",
        "    fname = '{0}({1})_해외방문객정보_{2}_{3}'.format(name, nation_code, nStartYear, nEndYear)\n",
        "    with open(fname,'w', encoding='utf8') as f:\n",
        "        retJson = json.dumps(jsonResult,indent=4, sort_keys=True, ensure_ascii=False)\n",
        "        f.write(retJson)"
      ]
    },
    {
      "cell_type": "markdown",
      "metadata": {
        "id": "qnq4FKsHDK0Z"
      },
      "source": [
        "# **데이터 변환**"
      ]
    },
    {
      "cell_type": "markdown",
      "metadata": {
        "id": "EvitU8Fx2fLE"
      },
      "source": [
        "#### 저장된 인바운드관광객수를 로드(현재 visnum_TW)"
      ]
    },
    {
      "cell_type": "code",
      "execution_count": null,
      "metadata": {
        "colab": {
          "base_uri": "https://localhost:8080/"
        },
        "id": "ixhT518qYo8Y",
        "outputId": "820e429f-625c-4d93-e361-52a5b444dcbc"
      },
      "outputs": [
        {
          "output_type": "stream",
          "name": "stdout",
          "text": [
            "   nation  nation_code  num_visitors  yyyymm\n",
            "0      대만          113         45171  201301\n",
            "1      대만          113         45437  201302\n",
            "2      대만          113         42102  201303\n",
            "3      대만          113         35107  201304\n",
            "4      대만          113         41361  201305\n",
            "..    ...          ...           ...     ...\n",
            "79     대만          113        109273  201908\n",
            "80     대만          113        102758  201909\n",
            "81     대만          113        127944  201910\n",
            "82     대만          113        102241  201911\n",
            "83     대만          113         90379  201912\n",
            "\n",
            "[84 rows x 4 columns]\n",
            "    Unnamed: 0       date  韓國觀光  韓國飯店  韓國機場  韓國免稅店\n",
            "0            0 2013-01-01    64    17    32      2\n",
            "1            1 2013-02-01    53     9    34      7\n",
            "2            2 2013-03-01    58    14    36      1\n",
            "3            3 2013-04-01    50     9    22      0\n",
            "4            4 2013-05-01    48    10    30      4\n",
            "..         ...        ...   ...   ...   ...    ...\n",
            "79          79 2019-08-01    20    34    81     24\n",
            "80          80 2019-09-01    13    31    97     34\n",
            "81          81 2019-10-01    23    38    87     31\n",
            "82          82 2019-11-01    26    37    81     29\n",
            "83          83 2019-12-01    17    38    63     23\n",
            "\n",
            "[84 rows x 6 columns]\n",
            "<class 'pandas.core.frame.DataFrame'>\n"
          ]
        }
      ],
      "source": [
        "from pandas import json_normalize\n",
        "visnum_TW = pd.read_json('/content/drive/MyDrive/Colab Notebooks/대만(113)_해외방문객정보_2013_2019') # , orient ='index'\n",
        "otime_df = pd.read_excel('/content/drive/MyDrive/Colab Notebooks/otime_df.xlsx', sheet_name='sheet1')\n",
        "print(visnum_TW) # 출입국 데이터중 인바운드 대만 관광객수\n",
        "print(otime_df)  # 구글 SVI지수\n",
        "print(type(visnum_TW)) # visnum_TW의 변수타입"
      ]
    },
    {
      "cell_type": "code",
      "execution_count": null,
      "metadata": {
        "colab": {
          "base_uri": "https://localhost:8080/"
        },
        "id": "p78buhwMTq2J",
        "outputId": "1e06dcba-908a-48f9-eac6-0b6b82e684d3"
      },
      "outputs": [
        {
          "output_type": "stream",
          "name": "stdout",
          "text": [
            "    Unnamed: 0       date  韓國觀光  韓國飯店  韓國機場  韓國免稅店\n",
            "0            0 2013-01-01    64    17    32      2\n",
            "1            1 2013-02-01    53     9    34      7\n",
            "2            2 2013-03-01    58    14    36      1\n",
            "3            3 2013-04-01    50     9    22      0\n",
            "4            4 2013-05-01    48    10    30      4\n",
            "..         ...        ...   ...   ...   ...    ...\n",
            "79          79 2019-08-01    20    34    81     24\n",
            "80          80 2019-09-01    13    31    97     34\n",
            "81          81 2019-10-01    23    38    87     31\n",
            "82          82 2019-11-01    26    37    81     29\n",
            "83          83 2019-12-01    17    38    63     23\n",
            "\n",
            "[84 rows x 6 columns]\n"
          ]
        }
      ],
      "source": [
        "print(otime_df)  # 구글 SVI지수"
      ]
    },
    {
      "cell_type": "code",
      "execution_count": null,
      "metadata": {
        "colab": {
          "base_uri": "https://localhost:8080/"
        },
        "id": "FI4yq-Z8I2lZ",
        "outputId": "8dff9db7-4fb0-4b57-e9ff-5b6135420689"
      },
      "outputs": [
        {
          "output_type": "stream",
          "name": "stdout",
          "text": [
            "   nation  nation_code  num_visitors  yyyymm date_merge\n",
            "0      대만          113         45171  201301 2013-01-31\n",
            "1      대만          113         45437  201302 2013-02-28\n",
            "2      대만          113         42102  201303 2013-03-31\n",
            "3      대만          113         35107  201304 2013-04-30\n",
            "4      대만          113         41361  201305 2013-05-31\n",
            "..    ...          ...           ...     ...        ...\n",
            "79     대만          113        109273  201908 2019-08-31\n",
            "80     대만          113        102758  201909 2019-09-30\n",
            "81     대만          113        127944  201910 2019-10-31\n",
            "82     대만          113        102241  201911 2019-11-30\n",
            "83     대만          113         90379  201912 2019-12-31\n",
            "\n",
            "[84 rows x 5 columns]\n",
            "    Unnamed: 0       date  韓國觀光  韓國飯店  韓國機場  韓國免稅店 date_merge\n",
            "0            0 2013-01-01    64    17    32      2 2013-01-31\n",
            "1            1 2013-02-01    53     9    34      7 2013-02-28\n",
            "2            2 2013-03-01    58    14    36      1 2013-03-31\n",
            "3            3 2013-04-01    50     9    22      0 2013-04-30\n",
            "4            4 2013-05-01    48    10    30      4 2013-05-31\n",
            "..         ...        ...   ...   ...   ...    ...        ...\n",
            "79          79 2019-08-01    20    34    81     24 2019-08-31\n",
            "80          80 2019-09-01    13    31    97     34 2019-09-30\n",
            "81          81 2019-10-01    23    38    87     31 2019-10-31\n",
            "82          82 2019-11-01    26    37    81     29 2019-11-30\n",
            "83          83 2019-12-01    17    38    63     23 2019-12-31\n",
            "\n",
            "[84 rows x 7 columns]\n"
          ]
        }
      ],
      "source": [
        "visnum_TW['date_merge']=pd.date_range(start='2013-01-01', end='2019-12-31', freq='M') # visnum_TW에서 2013년 1월부터 2020년 1월까지 월별로 날짜를 만들고 이를 date_merge에 저장\n",
        "otime_df['date_merge']=pd.date_range(start='2013-01-01', end='2019-12-31', freq='M')  # otime_df에서 2013년 1월부터 2020년 1월까지 월별로 날짜를 만들고 이를 date_merge에 저장\n",
        "print(visnum_TW)\n",
        "print(otime_df)"
      ]
    },
    {
      "cell_type": "code",
      "execution_count": null,
      "metadata": {
        "colab": {
          "base_uri": "https://localhost:8080/"
        },
        "id": "rWMtc7pMAdhR",
        "outputId": "d5b19f8e-9ac6-4737-ec99-ecb1da9d5345"
      },
      "outputs": [
        {
          "output_type": "execute_result",
          "data": {
            "text/plain": [
              "   nation  nation_code  num_visitors  yyyymm date_merge  Unnamed: 0  \\\n",
              "0      대만          113         45171  201301 2013-01-31           0   \n",
              "1      대만          113         45437  201302 2013-02-28           1   \n",
              "2      대만          113         42102  201303 2013-03-31           2   \n",
              "3      대만          113         35107  201304 2013-04-30           3   \n",
              "4      대만          113         41361  201305 2013-05-31           4   \n",
              "..    ...          ...           ...     ...        ...         ...   \n",
              "79     대만          113        109273  201908 2019-08-31          79   \n",
              "80     대만          113        102758  201909 2019-09-30          80   \n",
              "81     대만          113        127944  201910 2019-10-31          81   \n",
              "82     대만          113        102241  201911 2019-11-30          82   \n",
              "83     대만          113         90379  201912 2019-12-31          83   \n",
              "\n",
              "         date  韓國觀光  韓國飯店  韓國機場  韓國免稅店 date_merge  \n",
              "0  2013-01-01    64    17    32      2 2013-01-31  \n",
              "1  2013-02-01    53     9    34      7 2013-02-28  \n",
              "2  2013-03-01    58    14    36      1 2013-03-31  \n",
              "3  2013-04-01    50     9    22      0 2013-04-30  \n",
              "4  2013-05-01    48    10    30      4 2013-05-31  \n",
              "..        ...   ...   ...   ...    ...        ...  \n",
              "79 2019-08-01    20    34    81     24 2019-08-31  \n",
              "80 2019-09-01    13    31    97     34 2019-09-30  \n",
              "81 2019-10-01    23    38    87     31 2019-10-31  \n",
              "82 2019-11-01    26    37    81     29 2019-11-30  \n",
              "83 2019-12-01    17    38    63     23 2019-12-31  \n",
              "\n",
              "[84 rows x 12 columns]"
            ],
            "text/html": [
              "\n",
              "  <div id=\"df-bf1af9ed-0faa-479a-9fd5-c9d30ee5ffdf\">\n",
              "    <div class=\"colab-df-container\">\n",
              "      <div>\n",
              "<style scoped>\n",
              "    .dataframe tbody tr th:only-of-type {\n",
              "        vertical-align: middle;\n",
              "    }\n",
              "\n",
              "    .dataframe tbody tr th {\n",
              "        vertical-align: top;\n",
              "    }\n",
              "\n",
              "    .dataframe thead th {\n",
              "        text-align: right;\n",
              "    }\n",
              "</style>\n",
              "<table border=\"1\" class=\"dataframe\">\n",
              "  <thead>\n",
              "    <tr style=\"text-align: right;\">\n",
              "      <th></th>\n",
              "      <th>nation</th>\n",
              "      <th>nation_code</th>\n",
              "      <th>num_visitors</th>\n",
              "      <th>yyyymm</th>\n",
              "      <th>date_merge</th>\n",
              "      <th>Unnamed: 0</th>\n",
              "      <th>date</th>\n",
              "      <th>韓國觀光</th>\n",
              "      <th>韓國飯店</th>\n",
              "      <th>韓國機場</th>\n",
              "      <th>韓國免稅店</th>\n",
              "      <th>date_merge</th>\n",
              "    </tr>\n",
              "  </thead>\n",
              "  <tbody>\n",
              "    <tr>\n",
              "      <th>0</th>\n",
              "      <td>대만</td>\n",
              "      <td>113</td>\n",
              "      <td>45171</td>\n",
              "      <td>201301</td>\n",
              "      <td>2013-01-31</td>\n",
              "      <td>0</td>\n",
              "      <td>2013-01-01</td>\n",
              "      <td>64</td>\n",
              "      <td>17</td>\n",
              "      <td>32</td>\n",
              "      <td>2</td>\n",
              "      <td>2013-01-31</td>\n",
              "    </tr>\n",
              "    <tr>\n",
              "      <th>1</th>\n",
              "      <td>대만</td>\n",
              "      <td>113</td>\n",
              "      <td>45437</td>\n",
              "      <td>201302</td>\n",
              "      <td>2013-02-28</td>\n",
              "      <td>1</td>\n",
              "      <td>2013-02-01</td>\n",
              "      <td>53</td>\n",
              "      <td>9</td>\n",
              "      <td>34</td>\n",
              "      <td>7</td>\n",
              "      <td>2013-02-28</td>\n",
              "    </tr>\n",
              "    <tr>\n",
              "      <th>2</th>\n",
              "      <td>대만</td>\n",
              "      <td>113</td>\n",
              "      <td>42102</td>\n",
              "      <td>201303</td>\n",
              "      <td>2013-03-31</td>\n",
              "      <td>2</td>\n",
              "      <td>2013-03-01</td>\n",
              "      <td>58</td>\n",
              "      <td>14</td>\n",
              "      <td>36</td>\n",
              "      <td>1</td>\n",
              "      <td>2013-03-31</td>\n",
              "    </tr>\n",
              "    <tr>\n",
              "      <th>3</th>\n",
              "      <td>대만</td>\n",
              "      <td>113</td>\n",
              "      <td>35107</td>\n",
              "      <td>201304</td>\n",
              "      <td>2013-04-30</td>\n",
              "      <td>3</td>\n",
              "      <td>2013-04-01</td>\n",
              "      <td>50</td>\n",
              "      <td>9</td>\n",
              "      <td>22</td>\n",
              "      <td>0</td>\n",
              "      <td>2013-04-30</td>\n",
              "    </tr>\n",
              "    <tr>\n",
              "      <th>4</th>\n",
              "      <td>대만</td>\n",
              "      <td>113</td>\n",
              "      <td>41361</td>\n",
              "      <td>201305</td>\n",
              "      <td>2013-05-31</td>\n",
              "      <td>4</td>\n",
              "      <td>2013-05-01</td>\n",
              "      <td>48</td>\n",
              "      <td>10</td>\n",
              "      <td>30</td>\n",
              "      <td>4</td>\n",
              "      <td>2013-05-31</td>\n",
              "    </tr>\n",
              "    <tr>\n",
              "      <th>...</th>\n",
              "      <td>...</td>\n",
              "      <td>...</td>\n",
              "      <td>...</td>\n",
              "      <td>...</td>\n",
              "      <td>...</td>\n",
              "      <td>...</td>\n",
              "      <td>...</td>\n",
              "      <td>...</td>\n",
              "      <td>...</td>\n",
              "      <td>...</td>\n",
              "      <td>...</td>\n",
              "      <td>...</td>\n",
              "    </tr>\n",
              "    <tr>\n",
              "      <th>79</th>\n",
              "      <td>대만</td>\n",
              "      <td>113</td>\n",
              "      <td>109273</td>\n",
              "      <td>201908</td>\n",
              "      <td>2019-08-31</td>\n",
              "      <td>79</td>\n",
              "      <td>2019-08-01</td>\n",
              "      <td>20</td>\n",
              "      <td>34</td>\n",
              "      <td>81</td>\n",
              "      <td>24</td>\n",
              "      <td>2019-08-31</td>\n",
              "    </tr>\n",
              "    <tr>\n",
              "      <th>80</th>\n",
              "      <td>대만</td>\n",
              "      <td>113</td>\n",
              "      <td>102758</td>\n",
              "      <td>201909</td>\n",
              "      <td>2019-09-30</td>\n",
              "      <td>80</td>\n",
              "      <td>2019-09-01</td>\n",
              "      <td>13</td>\n",
              "      <td>31</td>\n",
              "      <td>97</td>\n",
              "      <td>34</td>\n",
              "      <td>2019-09-30</td>\n",
              "    </tr>\n",
              "    <tr>\n",
              "      <th>81</th>\n",
              "      <td>대만</td>\n",
              "      <td>113</td>\n",
              "      <td>127944</td>\n",
              "      <td>201910</td>\n",
              "      <td>2019-10-31</td>\n",
              "      <td>81</td>\n",
              "      <td>2019-10-01</td>\n",
              "      <td>23</td>\n",
              "      <td>38</td>\n",
              "      <td>87</td>\n",
              "      <td>31</td>\n",
              "      <td>2019-10-31</td>\n",
              "    </tr>\n",
              "    <tr>\n",
              "      <th>82</th>\n",
              "      <td>대만</td>\n",
              "      <td>113</td>\n",
              "      <td>102241</td>\n",
              "      <td>201911</td>\n",
              "      <td>2019-11-30</td>\n",
              "      <td>82</td>\n",
              "      <td>2019-11-01</td>\n",
              "      <td>26</td>\n",
              "      <td>37</td>\n",
              "      <td>81</td>\n",
              "      <td>29</td>\n",
              "      <td>2019-11-30</td>\n",
              "    </tr>\n",
              "    <tr>\n",
              "      <th>83</th>\n",
              "      <td>대만</td>\n",
              "      <td>113</td>\n",
              "      <td>90379</td>\n",
              "      <td>201912</td>\n",
              "      <td>2019-12-31</td>\n",
              "      <td>83</td>\n",
              "      <td>2019-12-01</td>\n",
              "      <td>17</td>\n",
              "      <td>38</td>\n",
              "      <td>63</td>\n",
              "      <td>23</td>\n",
              "      <td>2019-12-31</td>\n",
              "    </tr>\n",
              "  </tbody>\n",
              "</table>\n",
              "<p>84 rows × 12 columns</p>\n",
              "</div>\n",
              "      <button class=\"colab-df-convert\" onclick=\"convertToInteractive('df-bf1af9ed-0faa-479a-9fd5-c9d30ee5ffdf')\"\n",
              "              title=\"Convert this dataframe to an interactive table.\"\n",
              "              style=\"display:none;\">\n",
              "        \n",
              "  <svg xmlns=\"http://www.w3.org/2000/svg\" height=\"24px\"viewBox=\"0 0 24 24\"\n",
              "       width=\"24px\">\n",
              "    <path d=\"M0 0h24v24H0V0z\" fill=\"none\"/>\n",
              "    <path d=\"M18.56 5.44l.94 2.06.94-2.06 2.06-.94-2.06-.94-.94-2.06-.94 2.06-2.06.94zm-11 1L8.5 8.5l.94-2.06 2.06-.94-2.06-.94L8.5 2.5l-.94 2.06-2.06.94zm10 10l.94 2.06.94-2.06 2.06-.94-2.06-.94-.94-2.06-.94 2.06-2.06.94z\"/><path d=\"M17.41 7.96l-1.37-1.37c-.4-.4-.92-.59-1.43-.59-.52 0-1.04.2-1.43.59L10.3 9.45l-7.72 7.72c-.78.78-.78 2.05 0 2.83L4 21.41c.39.39.9.59 1.41.59.51 0 1.02-.2 1.41-.59l7.78-7.78 2.81-2.81c.8-.78.8-2.07 0-2.86zM5.41 20L4 18.59l7.72-7.72 1.47 1.35L5.41 20z\"/>\n",
              "  </svg>\n",
              "      </button>\n",
              "      \n",
              "  <style>\n",
              "    .colab-df-container {\n",
              "      display:flex;\n",
              "      flex-wrap:wrap;\n",
              "      gap: 12px;\n",
              "    }\n",
              "\n",
              "    .colab-df-convert {\n",
              "      background-color: #E8F0FE;\n",
              "      border: none;\n",
              "      border-radius: 50%;\n",
              "      cursor: pointer;\n",
              "      display: none;\n",
              "      fill: #1967D2;\n",
              "      height: 32px;\n",
              "      padding: 0 0 0 0;\n",
              "      width: 32px;\n",
              "    }\n",
              "\n",
              "    .colab-df-convert:hover {\n",
              "      background-color: #E2EBFA;\n",
              "      box-shadow: 0px 1px 2px rgba(60, 64, 67, 0.3), 0px 1px 3px 1px rgba(60, 64, 67, 0.15);\n",
              "      fill: #174EA6;\n",
              "    }\n",
              "\n",
              "    [theme=dark] .colab-df-convert {\n",
              "      background-color: #3B4455;\n",
              "      fill: #D2E3FC;\n",
              "    }\n",
              "\n",
              "    [theme=dark] .colab-df-convert:hover {\n",
              "      background-color: #434B5C;\n",
              "      box-shadow: 0px 1px 3px 1px rgba(0, 0, 0, 0.15);\n",
              "      filter: drop-shadow(0px 1px 2px rgba(0, 0, 0, 0.3));\n",
              "      fill: #FFFFFF;\n",
              "    }\n",
              "  </style>\n",
              "\n",
              "      <script>\n",
              "        const buttonEl =\n",
              "          document.querySelector('#df-bf1af9ed-0faa-479a-9fd5-c9d30ee5ffdf button.colab-df-convert');\n",
              "        buttonEl.style.display =\n",
              "          google.colab.kernel.accessAllowed ? 'block' : 'none';\n",
              "\n",
              "        async function convertToInteractive(key) {\n",
              "          const element = document.querySelector('#df-bf1af9ed-0faa-479a-9fd5-c9d30ee5ffdf');\n",
              "          const dataTable =\n",
              "            await google.colab.kernel.invokeFunction('convertToInteractive',\n",
              "                                                     [key], {});\n",
              "          if (!dataTable) return;\n",
              "\n",
              "          const docLinkHtml = 'Like what you see? Visit the ' +\n",
              "            '<a target=\"_blank\" href=https://colab.research.google.com/notebooks/data_table.ipynb>data table notebook</a>'\n",
              "            + ' to learn more about interactive tables.';\n",
              "          element.innerHTML = '';\n",
              "          dataTable['output_type'] = 'display_data';\n",
              "          await google.colab.output.renderOutput(dataTable, element);\n",
              "          const docLink = document.createElement('div');\n",
              "          docLink.innerHTML = docLinkHtml;\n",
              "          element.appendChild(docLink);\n",
              "        }\n",
              "      </script>\n",
              "    </div>\n",
              "  </div>\n",
              "  "
            ]
          },
          "metadata": {},
          "execution_count": 31
        }
      ],
      "source": [
        "merge_df_SVI_num = pd.concat([visnum_TW, otime_df], axis=1)\n",
        "merge_df_SVI_num"
      ]
    },
    {
      "cell_type": "code",
      "execution_count": null,
      "metadata": {
        "id": "b7eAd7SvgFB0"
      },
      "outputs": [],
      "source": [
        "merge_df_SVI_num.to_excel('/content/drive/MyDrive/Colab Notebooks/merge_df_SVI_num.xlsx', sheet_name='sheet1')"
      ]
    },
    {
      "cell_type": "markdown",
      "metadata": {
        "id": "jRFzU9yAEnoc"
      },
      "source": [
        "#### merge를 통해 특정 컬럼의 값을 기준으로 통합"
      ]
    },
    {
      "cell_type": "code",
      "execution_count": null,
      "metadata": {
        "colab": {
          "base_uri": "https://localhost:8080/"
        },
        "id": "-eOVfSgdEk4O",
        "outputId": "5cffcc3c-6b5f-4940-c0f4-2f784a0ca3ff"
      },
      "outputs": [
        {
          "output_type": "execute_result",
          "data": {
            "text/plain": [
              "   nation  nation_code  num_visitors  yyyymm date_merge  Unnamed: 0  \\\n",
              "0      대만          113         45171  201301 2013-01-31           0   \n",
              "1      대만          113         45437  201302 2013-02-28           1   \n",
              "2      대만          113         42102  201303 2013-03-31           2   \n",
              "3      대만          113         35107  201304 2013-04-30           3   \n",
              "4      대만          113         41361  201305 2013-05-31           4   \n",
              "..    ...          ...           ...     ...        ...         ...   \n",
              "79     대만          113        109273  201908 2019-08-31          79   \n",
              "80     대만          113        102758  201909 2019-09-30          80   \n",
              "81     대만          113        127944  201910 2019-10-31          81   \n",
              "82     대만          113        102241  201911 2019-11-30          82   \n",
              "83     대만          113         90379  201912 2019-12-31          83   \n",
              "\n",
              "         date  韓國觀光  韓國飯店  韓國機場  韓國免稅店 date_merge  \n",
              "0  2013-01-01    64    17    32      2 2013-01-31  \n",
              "1  2013-02-01    53     9    34      7 2013-02-28  \n",
              "2  2013-03-01    58    14    36      1 2013-03-31  \n",
              "3  2013-04-01    50     9    22      0 2013-04-30  \n",
              "4  2013-05-01    48    10    30      4 2013-05-31  \n",
              "..        ...   ...   ...   ...    ...        ...  \n",
              "79 2019-08-01    20    34    81     24 2019-08-31  \n",
              "80 2019-09-01    13    31    97     34 2019-09-30  \n",
              "81 2019-10-01    23    38    87     31 2019-10-31  \n",
              "82 2019-11-01    26    37    81     29 2019-11-30  \n",
              "83 2019-12-01    17    38    63     23 2019-12-31  \n",
              "\n",
              "[84 rows x 12 columns]"
            ],
            "text/html": [
              "\n",
              "  <div id=\"df-a591f993-6435-410b-920a-a3095bf022e0\">\n",
              "    <div class=\"colab-df-container\">\n",
              "      <div>\n",
              "<style scoped>\n",
              "    .dataframe tbody tr th:only-of-type {\n",
              "        vertical-align: middle;\n",
              "    }\n",
              "\n",
              "    .dataframe tbody tr th {\n",
              "        vertical-align: top;\n",
              "    }\n",
              "\n",
              "    .dataframe thead th {\n",
              "        text-align: right;\n",
              "    }\n",
              "</style>\n",
              "<table border=\"1\" class=\"dataframe\">\n",
              "  <thead>\n",
              "    <tr style=\"text-align: right;\">\n",
              "      <th></th>\n",
              "      <th>nation</th>\n",
              "      <th>nation_code</th>\n",
              "      <th>num_visitors</th>\n",
              "      <th>yyyymm</th>\n",
              "      <th>date_merge</th>\n",
              "      <th>Unnamed: 0</th>\n",
              "      <th>date</th>\n",
              "      <th>韓國觀光</th>\n",
              "      <th>韓國飯店</th>\n",
              "      <th>韓國機場</th>\n",
              "      <th>韓國免稅店</th>\n",
              "      <th>date_merge</th>\n",
              "    </tr>\n",
              "  </thead>\n",
              "  <tbody>\n",
              "    <tr>\n",
              "      <th>0</th>\n",
              "      <td>대만</td>\n",
              "      <td>113</td>\n",
              "      <td>45171</td>\n",
              "      <td>201301</td>\n",
              "      <td>2013-01-31</td>\n",
              "      <td>0</td>\n",
              "      <td>2013-01-01</td>\n",
              "      <td>64</td>\n",
              "      <td>17</td>\n",
              "      <td>32</td>\n",
              "      <td>2</td>\n",
              "      <td>2013-01-31</td>\n",
              "    </tr>\n",
              "    <tr>\n",
              "      <th>1</th>\n",
              "      <td>대만</td>\n",
              "      <td>113</td>\n",
              "      <td>45437</td>\n",
              "      <td>201302</td>\n",
              "      <td>2013-02-28</td>\n",
              "      <td>1</td>\n",
              "      <td>2013-02-01</td>\n",
              "      <td>53</td>\n",
              "      <td>9</td>\n",
              "      <td>34</td>\n",
              "      <td>7</td>\n",
              "      <td>2013-02-28</td>\n",
              "    </tr>\n",
              "    <tr>\n",
              "      <th>2</th>\n",
              "      <td>대만</td>\n",
              "      <td>113</td>\n",
              "      <td>42102</td>\n",
              "      <td>201303</td>\n",
              "      <td>2013-03-31</td>\n",
              "      <td>2</td>\n",
              "      <td>2013-03-01</td>\n",
              "      <td>58</td>\n",
              "      <td>14</td>\n",
              "      <td>36</td>\n",
              "      <td>1</td>\n",
              "      <td>2013-03-31</td>\n",
              "    </tr>\n",
              "    <tr>\n",
              "      <th>3</th>\n",
              "      <td>대만</td>\n",
              "      <td>113</td>\n",
              "      <td>35107</td>\n",
              "      <td>201304</td>\n",
              "      <td>2013-04-30</td>\n",
              "      <td>3</td>\n",
              "      <td>2013-04-01</td>\n",
              "      <td>50</td>\n",
              "      <td>9</td>\n",
              "      <td>22</td>\n",
              "      <td>0</td>\n",
              "      <td>2013-04-30</td>\n",
              "    </tr>\n",
              "    <tr>\n",
              "      <th>4</th>\n",
              "      <td>대만</td>\n",
              "      <td>113</td>\n",
              "      <td>41361</td>\n",
              "      <td>201305</td>\n",
              "      <td>2013-05-31</td>\n",
              "      <td>4</td>\n",
              "      <td>2013-05-01</td>\n",
              "      <td>48</td>\n",
              "      <td>10</td>\n",
              "      <td>30</td>\n",
              "      <td>4</td>\n",
              "      <td>2013-05-31</td>\n",
              "    </tr>\n",
              "    <tr>\n",
              "      <th>...</th>\n",
              "      <td>...</td>\n",
              "      <td>...</td>\n",
              "      <td>...</td>\n",
              "      <td>...</td>\n",
              "      <td>...</td>\n",
              "      <td>...</td>\n",
              "      <td>...</td>\n",
              "      <td>...</td>\n",
              "      <td>...</td>\n",
              "      <td>...</td>\n",
              "      <td>...</td>\n",
              "      <td>...</td>\n",
              "    </tr>\n",
              "    <tr>\n",
              "      <th>79</th>\n",
              "      <td>대만</td>\n",
              "      <td>113</td>\n",
              "      <td>109273</td>\n",
              "      <td>201908</td>\n",
              "      <td>2019-08-31</td>\n",
              "      <td>79</td>\n",
              "      <td>2019-08-01</td>\n",
              "      <td>20</td>\n",
              "      <td>34</td>\n",
              "      <td>81</td>\n",
              "      <td>24</td>\n",
              "      <td>2019-08-31</td>\n",
              "    </tr>\n",
              "    <tr>\n",
              "      <th>80</th>\n",
              "      <td>대만</td>\n",
              "      <td>113</td>\n",
              "      <td>102758</td>\n",
              "      <td>201909</td>\n",
              "      <td>2019-09-30</td>\n",
              "      <td>80</td>\n",
              "      <td>2019-09-01</td>\n",
              "      <td>13</td>\n",
              "      <td>31</td>\n",
              "      <td>97</td>\n",
              "      <td>34</td>\n",
              "      <td>2019-09-30</td>\n",
              "    </tr>\n",
              "    <tr>\n",
              "      <th>81</th>\n",
              "      <td>대만</td>\n",
              "      <td>113</td>\n",
              "      <td>127944</td>\n",
              "      <td>201910</td>\n",
              "      <td>2019-10-31</td>\n",
              "      <td>81</td>\n",
              "      <td>2019-10-01</td>\n",
              "      <td>23</td>\n",
              "      <td>38</td>\n",
              "      <td>87</td>\n",
              "      <td>31</td>\n",
              "      <td>2019-10-31</td>\n",
              "    </tr>\n",
              "    <tr>\n",
              "      <th>82</th>\n",
              "      <td>대만</td>\n",
              "      <td>113</td>\n",
              "      <td>102241</td>\n",
              "      <td>201911</td>\n",
              "      <td>2019-11-30</td>\n",
              "      <td>82</td>\n",
              "      <td>2019-11-01</td>\n",
              "      <td>26</td>\n",
              "      <td>37</td>\n",
              "      <td>81</td>\n",
              "      <td>29</td>\n",
              "      <td>2019-11-30</td>\n",
              "    </tr>\n",
              "    <tr>\n",
              "      <th>83</th>\n",
              "      <td>대만</td>\n",
              "      <td>113</td>\n",
              "      <td>90379</td>\n",
              "      <td>201912</td>\n",
              "      <td>2019-12-31</td>\n",
              "      <td>83</td>\n",
              "      <td>2019-12-01</td>\n",
              "      <td>17</td>\n",
              "      <td>38</td>\n",
              "      <td>63</td>\n",
              "      <td>23</td>\n",
              "      <td>2019-12-31</td>\n",
              "    </tr>\n",
              "  </tbody>\n",
              "</table>\n",
              "<p>84 rows × 12 columns</p>\n",
              "</div>\n",
              "      <button class=\"colab-df-convert\" onclick=\"convertToInteractive('df-a591f993-6435-410b-920a-a3095bf022e0')\"\n",
              "              title=\"Convert this dataframe to an interactive table.\"\n",
              "              style=\"display:none;\">\n",
              "        \n",
              "  <svg xmlns=\"http://www.w3.org/2000/svg\" height=\"24px\"viewBox=\"0 0 24 24\"\n",
              "       width=\"24px\">\n",
              "    <path d=\"M0 0h24v24H0V0z\" fill=\"none\"/>\n",
              "    <path d=\"M18.56 5.44l.94 2.06.94-2.06 2.06-.94-2.06-.94-.94-2.06-.94 2.06-2.06.94zm-11 1L8.5 8.5l.94-2.06 2.06-.94-2.06-.94L8.5 2.5l-.94 2.06-2.06.94zm10 10l.94 2.06.94-2.06 2.06-.94-2.06-.94-.94-2.06-.94 2.06-2.06.94z\"/><path d=\"M17.41 7.96l-1.37-1.37c-.4-.4-.92-.59-1.43-.59-.52 0-1.04.2-1.43.59L10.3 9.45l-7.72 7.72c-.78.78-.78 2.05 0 2.83L4 21.41c.39.39.9.59 1.41.59.51 0 1.02-.2 1.41-.59l7.78-7.78 2.81-2.81c.8-.78.8-2.07 0-2.86zM5.41 20L4 18.59l7.72-7.72 1.47 1.35L5.41 20z\"/>\n",
              "  </svg>\n",
              "      </button>\n",
              "      \n",
              "  <style>\n",
              "    .colab-df-container {\n",
              "      display:flex;\n",
              "      flex-wrap:wrap;\n",
              "      gap: 12px;\n",
              "    }\n",
              "\n",
              "    .colab-df-convert {\n",
              "      background-color: #E8F0FE;\n",
              "      border: none;\n",
              "      border-radius: 50%;\n",
              "      cursor: pointer;\n",
              "      display: none;\n",
              "      fill: #1967D2;\n",
              "      height: 32px;\n",
              "      padding: 0 0 0 0;\n",
              "      width: 32px;\n",
              "    }\n",
              "\n",
              "    .colab-df-convert:hover {\n",
              "      background-color: #E2EBFA;\n",
              "      box-shadow: 0px 1px 2px rgba(60, 64, 67, 0.3), 0px 1px 3px 1px rgba(60, 64, 67, 0.15);\n",
              "      fill: #174EA6;\n",
              "    }\n",
              "\n",
              "    [theme=dark] .colab-df-convert {\n",
              "      background-color: #3B4455;\n",
              "      fill: #D2E3FC;\n",
              "    }\n",
              "\n",
              "    [theme=dark] .colab-df-convert:hover {\n",
              "      background-color: #434B5C;\n",
              "      box-shadow: 0px 1px 3px 1px rgba(0, 0, 0, 0.15);\n",
              "      filter: drop-shadow(0px 1px 2px rgba(0, 0, 0, 0.3));\n",
              "      fill: #FFFFFF;\n",
              "    }\n",
              "  </style>\n",
              "\n",
              "      <script>\n",
              "        const buttonEl =\n",
              "          document.querySelector('#df-a591f993-6435-410b-920a-a3095bf022e0 button.colab-df-convert');\n",
              "        buttonEl.style.display =\n",
              "          google.colab.kernel.accessAllowed ? 'block' : 'none';\n",
              "\n",
              "        async function convertToInteractive(key) {\n",
              "          const element = document.querySelector('#df-a591f993-6435-410b-920a-a3095bf022e0');\n",
              "          const dataTable =\n",
              "            await google.colab.kernel.invokeFunction('convertToInteractive',\n",
              "                                                     [key], {});\n",
              "          if (!dataTable) return;\n",
              "\n",
              "          const docLinkHtml = 'Like what you see? Visit the ' +\n",
              "            '<a target=\"_blank\" href=https://colab.research.google.com/notebooks/data_table.ipynb>data table notebook</a>'\n",
              "            + ' to learn more about interactive tables.';\n",
              "          element.innerHTML = '';\n",
              "          dataTable['output_type'] = 'display_data';\n",
              "          await google.colab.output.renderOutput(dataTable, element);\n",
              "          const docLink = document.createElement('div');\n",
              "          docLink.innerHTML = docLinkHtml;\n",
              "          element.appendChild(docLink);\n",
              "        }\n",
              "      </script>\n",
              "    </div>\n",
              "  </div>\n",
              "  "
            ]
          },
          "metadata": {},
          "execution_count": 33
        }
      ],
      "source": [
        "merge_df = pd.concat([merge_df_SVI_num], axis=1)\n",
        "merge_df"
      ]
    },
    {
      "cell_type": "markdown",
      "metadata": {
        "id": "poVIRgoUvHBu"
      },
      "source": [
        "#### 파이썬의 데이터를 R로 변환"
      ]
    },
    {
      "cell_type": "code",
      "execution_count": null,
      "metadata": {
        "colab": {
          "base_uri": "https://localhost:8080/"
        },
        "id": "udrEGb41Kw4r",
        "outputId": "bc632d9e-1136-4536-847a-95e9196af05f"
      },
      "outputs": [
        {
          "output_type": "stream",
          "name": "stdout",
          "text": [
            "  nation  nation_code  num_visitors  yyyymm date_merge  Unnamed: 0       date  \\\n",
            "0     대만          113         45171  201301 2013-01-31           0 2013-01-01   \n",
            "1     대만          113         45437  201302 2013-02-28           1 2013-02-01   \n",
            "2     대만          113         42102  201303 2013-03-31           2 2013-03-01   \n",
            "3     대만          113         35107  201304 2013-04-30           3 2013-04-01   \n",
            "4     대만          113         41361  201305 2013-05-31           4 2013-05-01   \n",
            "\n",
            "   韓國觀光  韓國飯店  韓國機場  韓國免稅店 date_merge  \n",
            "0    64    17    32      2 2013-01-31  \n",
            "1    53     9    34      7 2013-02-28  \n",
            "2    58    14    36      1 2013-03-31  \n",
            "3    50     9    22      0 2013-04-30  \n",
            "4    48    10    30      4 2013-05-31  \n"
          ]
        }
      ],
      "source": [
        "%R -i merge_df\n",
        "print(merge_df.head())"
      ]
    },
    {
      "cell_type": "code",
      "execution_count": null,
      "metadata": {
        "colab": {
          "base_uri": "https://localhost:8080/"
        },
        "id": "SvVQYK-IlAuP",
        "outputId": "55c3272c-4baa-4543-930d-ee30ac2f22c8"
      },
      "outputs": [
        {
          "output_type": "stream",
          "name": "stdout",
          "text": [
            "  nation nation_code num_visitors yyyymm date_merge Unnamed: 0       date\n",
            "0   대만         113        45171 201301 2013-01-31          0 2013-01-01\n",
            "1   대만         113        45437 201302 2013-02-28          1 2013-02-01\n",
            "2   대만         113        42102 201303 2013-03-31          2 2013-03-01\n",
            "3   대만         113        35107 201304 2013-04-30          3 2013-04-01\n",
            "4   대만         113        41361 201305 2013-05-31          4 2013-05-01\n",
            "5   대만         113        53808 201306 2013-06-30          5 2013-06-01\n",
            "  韓國觀光 韓國飯店 韓國機場 韓國免稅店\n",
            "0       64       17       32          2\n",
            "1       53        9       34          7\n",
            "2       58       14       36          1\n",
            "3       50        9       22          0\n",
            "4       48       10       30          4\n",
            "5       39        8       16          3\n",
            "   nation nation_code num_visitors yyyymm date_merge Unnamed: 0       date\n",
            "78   대만         113       113587 201907 2019-07-31         78 2019-07-01\n",
            "79   대만         113       109273 201908 2019-08-31         79 2019-08-01\n",
            "80   대만         113       102758 201909 2019-09-30         80 2019-09-01\n",
            "81   대만         113       127944 201910 2019-10-31         81 2019-10-01\n",
            "82   대만         113       102241 201911 2019-11-30         82 2019-11-01\n",
            "83   대만         113        90379 201912 2019-12-31         83 2019-12-01\n",
            "   韓國觀光 韓國飯店 韓國機場 韓國免稅店\n",
            "78       19       31       66         24\n",
            "79       20       34       81         24\n",
            "80       13       31       97         34\n",
            "81       23       38       87         31\n",
            "82       26       37       81         29\n",
            "83       17       38       63         23\n",
            " [1] \"nation\"       \"nation_code\"  \"num_visitors\" \"yyyymm\"       \"date_merge\"  \n",
            " [6] \"Unnamed: 0\"   \"date\"         \"韓國觀光\"     \"韓國飯店\"     \"韓國機場\"    \n",
            "[11] \"韓國免稅店\"  \n"
          ]
        }
      ],
      "source": [
        "%%R\n",
        "print(head(merge_df))\n",
        "print(tail(merge_df))\n",
        "print(names(merge_df))"
      ]
    },
    {
      "cell_type": "code",
      "execution_count": null,
      "metadata": {
        "id": "4_y5flGRJGyi"
      },
      "outputs": [],
      "source": [
        "merge_df.to_excel('/content/drive/MyDrive/Colab Notebooks//merge_df_SVI_num.xlsx')"
      ]
    },
    {
      "cell_type": "markdown",
      "metadata": {
        "id": "DCcisniz2zEp"
      },
      "source": [
        "# **상관분석(R)**"
      ]
    },
    {
      "cell_type": "code",
      "execution_count": null,
      "metadata": {
        "colab": {
          "base_uri": "https://localhost:8080/"
        },
        "id": "CByJL_LrLKn4",
        "outputId": "7d93799b-ac57-4555-c869-4f54c0f981fe"
      },
      "outputs": [
        {
          "output_type": "display_data",
          "data": {
            "image/png": "[encoded data removed]"
          },
          "metadata": {}
        }
      ],
      "source": [
        "%%R\n",
        "#### 상관관계 시각화\n",
        "library(corrplot)\n",
        "Dataset <- subset(merge_df,select=c(韓國免稅店,韓國飯店,韓國機場,韓國觀光,num_visitors))\n",
        "M <- cor(Dataset)\n",
        "corrplot(M, order=\"hclust\", addrect=3)"
      ]
    },
    {
      "cell_type": "code",
      "execution_count": null,
      "metadata": {
        "colab": {
          "base_uri": "https://localhost:8080/"
        },
        "id": "2YNBmpMqxWI1",
        "outputId": "1be84ae1-a729-4534-b1bf-08bc6ca2f03f"
      },
      "outputs": [
        {
          "output_type": "stream",
          "name": "stdout",
          "text": [
            "             韓國免稅店 韓國飯店 韓國機場 韓國觀光 num_visitors\n",
            "韓國免稅店        1.000    0.707    0.842   -0.585        0.836\n",
            "韓國飯店          0.707    1.000    0.835   -0.405        0.762\n",
            "韓國機場          0.842    0.835    1.000   -0.533        0.858\n",
            "韓國觀光         -0.585   -0.405   -0.533    1.000       -0.562\n",
            "num_visitors      0.836    0.762    0.858   -0.562        1.000\n",
            "             韓國免稅店 韓國飯店 韓國機場 韓國觀光 num_visitors\n",
            "韓國免稅店           NA 5.40e-14 0.00e+00 5.21e-09      0.0e+00\n",
            "韓國飯店       5.40e-14       NA 0.00e+00 1.31e-04      0.0e+00\n",
            "韓國機場       0.00e+00 0.00e+00       NA 1.78e-07      0.0e+00\n",
            "韓國觀光       5.21e-09 1.31e-04 1.78e-07       NA      2.6e-08\n",
            "num_visitors   0.00e+00 0.00e+00 0.00e+00 2.60e-08           NA\n"
          ]
        }
      ],
      "source": [
        "%%R\n",
        "#### 상관관계 숫자표시\n",
        "library(Hmisc)\n",
        "res2 <- rcorr(as.matrix(Dataset))\n",
        "print(res2$r, digits=3)\n",
        "print(res2$P, digits=3)\n",
        "#한국여행이 가장 상관관계가 높음"
      ]
    },
    {
      "cell_type": "markdown",
      "metadata": {
        "id": "rHMJd_XN24hs"
      },
      "source": [
        "# **회귀분석(R)**"
      ]
    },
    {
      "cell_type": "code",
      "execution_count": null,
      "metadata": {
        "colab": {
          "base_uri": "https://localhost:8080/"
        },
        "id": "MPzq58PL0IWv",
        "outputId": "1b073140-4ba5-4edb-a2f3-ce15c139075a"
      },
      "outputs": [
        {
          "output_type": "display_data",
          "data": {
            "image/png": "[encoded data removed]"
          },
          "metadata": {}
        },
        {
          "output_type": "display_data",
          "data": {
            "image/png": "[encoded data removed]"
          },
          "metadata": {}
        }
      ],
      "source": [
        "%%R\n",
        "x = ts(subset(Dataset,select=c(韓國免稅店,韓國飯店,韓國機場,韓國觀光)))\n",
        "# x_old = ts(subset(Dataset,select=c(Close,POILWTIUSDM)))\n",
        "x_SVI = ts(subset(Dataset,select=c(韓國免稅店,韓國飯店,韓國機場,韓國觀光)))\n",
        "y = ts(subset(Dataset,select=c(num_visitors)))\n",
        "plot(x,y, pch=20,main = \"X versus Y\")\n",
        "# plot(x_old,y, pch=20,main = \"X versus Y\")\n",
        "plot(x_SVI,y, pch=20,main = \"X versus Y\")"
      ]
    },
    {
      "cell_type": "code",
      "execution_count": null,
      "metadata": {
        "id": "KSvQu62R-5U0"
      },
      "outputs": [],
      "source": [
        "# %%R\n",
        "# #library(astsa)\n",
        "# reg_old=lm(y~Close+POILWTIUSDM,data=Dataset)\n",
        "# print(summary(reg_old))\n",
        "# acf2(residuals(reg_old))"
      ]
    },
    {
      "cell_type": "code",
      "execution_count": null,
      "metadata": {
        "colab": {
          "base_uri": "https://localhost:8080/"
        },
        "id": "BOtScjOx_L-E",
        "outputId": "5b1e0044-a0d3-44d9-91c4-fceddce74a44"
      },
      "outputs": [
        {
          "output_type": "stream",
          "name": "stdout",
          "text": [
            "\n",
            "Call:\n",
            "lm(formula = y ~ 韓國免稅店 + 韓國飯店 + 韓國機場 + \n",
            "    韓國觀光, data = Dataset)\n",
            "\n",
            "Residuals:\n",
            "     Min       1Q   Median       3Q      Max \n",
            "-24750.3  -7823.8    537.4   7708.5  25214.8 \n",
            "\n",
            "Coefficients:\n",
            "            Estimate Std. Error t value Pr(>|t|)    \n",
            "(Intercept) 27236.39    6372.31   4.274 5.31e-05 ***\n",
            "韓國免稅店   1013.07     291.29   3.478 0.000825 ***\n",
            "韓國飯店      364.59     213.56   1.707 0.091717 .  \n",
            "韓國機場      425.46     137.11   3.103 0.002657 ** \n",
            "韓國觀光     -134.75      95.55  -1.410 0.162386    \n",
            "---\n",
            "Signif. codes:  0 ‘***’ 0.001 ‘**’ 0.01 ‘*’ 0.05 ‘.’ 0.1 ‘ ’ 1\n",
            "\n",
            "Residual standard error: 11270 on 79 degrees of freedom\n",
            "Multiple R-squared:  0.7918,\tAdjusted R-squared:  0.7812 \n",
            "F-statistic:  75.1 on 4 and 79 DF,  p-value: < 2.2e-16\n",
            "\n",
            "     [,1] [,2] [,3]  [,4]  [,5]  [,6]  [,7]  [,8] [,9] [,10] [,11] [,12] [,13]\n",
            "ACF  0.28 0.20 0.12  0.01 -0.19 -0.02 -0.21 -0.13 0.04  0.11  0.15  0.13  0.09\n",
            "PACF 0.28 0.14 0.04 -0.06 -0.22  0.09 -0.18 -0.01 0.14  0.10  0.13 -0.07 -0.01\n",
            "     [,14] [,15] [,16] [,17] [,18] [,19] [,20]\n",
            "ACF   0.14 -0.04 -0.02 -0.16  0.02 -0.09  0.14\n",
            "PACF  0.10 -0.14  0.06 -0.15  0.22 -0.06  0.15\n"
          ]
        },
        {
          "output_type": "display_data",
          "data": {
            "image/png": "[encoded data removed]"
          },
          "metadata": {}
        }
      ],
      "source": [
        "%%R\n",
        "#library(astsa)\n",
        "reg_SVI=lm(y~韓國免稅店+韓國飯店+韓國機場+韓國觀光,data=Dataset)\n",
        "print(summary(reg_SVI))\n",
        "acf2(residuals(reg_SVI))"
      ]
    },
    {
      "cell_type": "code",
      "execution_count": null,
      "metadata": {
        "colab": {
          "base_uri": "https://localhost:8080/"
        },
        "id": "iYkiWAX-Bb4a",
        "outputId": "2ae5ad12-4e23-4bc9-9365-79a42647ce3d"
      },
      "outputs": [
        {
          "output_type": "stream",
          "name": "stdout",
          "text": [
            "\n",
            "Call:\n",
            "lm(formula = y ~ 韓國免稅店 + 韓國飯店 + 韓國機場 + \n",
            "    韓國觀光, data = Dataset)\n",
            "\n",
            "Residuals:\n",
            "     Min       1Q   Median       3Q      Max \n",
            "-24750.3  -7823.8    537.4   7708.5  25214.8 \n",
            "\n",
            "Coefficients:\n",
            "            Estimate Std. Error t value Pr(>|t|)    \n",
            "(Intercept) 27236.39    6372.31   4.274 5.31e-05 ***\n",
            "韓國免稅店   1013.07     291.29   3.478 0.000825 ***\n",
            "韓國飯店      364.59     213.56   1.707 0.091717 .  \n",
            "韓國機場      425.46     137.11   3.103 0.002657 ** \n",
            "韓國觀光     -134.75      95.55  -1.410 0.162386    \n",
            "---\n",
            "Signif. codes:  0 ‘***’ 0.001 ‘**’ 0.01 ‘*’ 0.05 ‘.’ 0.1 ‘ ’ 1\n",
            "\n",
            "Residual standard error: 11270 on 79 degrees of freedom\n",
            "Multiple R-squared:  0.7918,\tAdjusted R-squared:  0.7812 \n",
            "F-statistic:  75.1 on 4 and 79 DF,  p-value: < 2.2e-16\n",
            "\n",
            "     [,1] [,2] [,3]  [,4]  [,5]  [,6]  [,7]  [,8] [,9] [,10] [,11] [,12] [,13]\n",
            "ACF  0.28 0.20 0.12  0.01 -0.19 -0.02 -0.21 -0.13 0.04  0.11  0.15  0.13  0.09\n",
            "PACF 0.28 0.14 0.04 -0.06 -0.22  0.09 -0.18 -0.01 0.14  0.10  0.13 -0.07 -0.01\n",
            "     [,14] [,15] [,16] [,17] [,18] [,19] [,20]\n",
            "ACF   0.14 -0.04 -0.02 -0.16  0.02 -0.09  0.14\n",
            "PACF  0.10 -0.14  0.06 -0.15  0.22 -0.06  0.15\n"
          ]
        },
        {
          "output_type": "display_data",
          "data": {
            "image/png": "[encoded data removed]"
          },
          "metadata": {}
        }
      ],
      "source": [
        "%%R\n",
        "#library(astsa)\n",
        "reg_all=lm(y~韓國免稅店+韓國飯店+韓國機場+韓國觀光,data=Dataset)\n",
        "print(summary(reg_all))\n",
        "acf2(residuals(reg_all))"
      ]
    },
    {
      "cell_type": "code",
      "execution_count": null,
      "metadata": {
        "colab": {
          "base_uri": "https://localhost:8080/"
        },
        "id": "KwQtu9uCCHcY",
        "outputId": "0dbbf7a4-8112-4985-8d33-9fc599917838"
      },
      "outputs": [
        {
          "output_type": "stream",
          "name": "stdout",
          "text": [
            "\n",
            "============================================================\n",
            "                                   Dependent variable:      \n",
            "                              ------------------------------\n",
            "                                            y               \n",
            "                                  mod.SVI        mod.all    \n",
            "                                    (1)            (2)      \n",
            "------------------------------------------------------------\n",
            "韓國免稅店                            1,013.065      1,013.065   \n",
            "                               t = 3.478***    t = 3.478*** \n",
            "韓國飯店                              364.592        364.592    \n",
            "                                 t = 1.707      t = 1.707   \n",
            "韓國機場                              425.458        425.458    \n",
            "                                t = 3.103**    t = 3.103**  \n",
            "韓國觀光                             -134.755        -134.755   \n",
            "                                t = -1.410      t = -1.410  \n",
            "Constant                        27,236.390      27,236.390  \n",
            "                               t = 4.274***    t = 4.274*** \n",
            "------------------------------------------------------------\n",
            "Observations                        84              84      \n",
            "R2                                 0.792          0.792     \n",
            "Adjusted R2                        0.781          0.781     \n",
            "Residual Std. Error (df = 79)   11,274.580      11,274.580  \n",
            "F Statistic (df = 4; 79)         75.095***      75.095***   \n",
            "============================================================\n",
            "Note:                          *p<0.05; **p<0.01; ***p<0.001\n"
          ]
        }
      ],
      "source": [
        "%%R\n",
        "stargazer(reg_SVI,reg_all, type = \"text\", report = \"vct*\", star.cutoffs = c(0.05, 0.01, 0.001),\n",
        "          column.labels = c(\"mod.SVI\",\"mod.all\"), \n",
        "          single.row = TRUE)"
      ]
    },
    {
      "cell_type": "markdown",
      "source": [
        "#### 데이터 로드"
      ],
      "metadata": {
        "id": "n4oSHD7k-QJj"
      }
    },
    {
      "cell_type": "markdown",
      "source": [
        " - one way anova - 방한횟수에 따른 총 방문객 수\n",
        " - two way anova - 성별과 방한횟수(3,4회)에 따른 총 방문객 수\n",
        " - 다중회귀분석 - 각 관광지, 총 방문객 수\n",
        "교차분석 : 성별 - 직업(질적, 질적)\n",
        "상관분석 : 방한횟수 - 만족도(양적, 양적)\n",
        " - 다중회귀분석 : 대만관광객의 총 방문객 수 - 쇼핑, 관광지매력도, 숙박비, \n",
        " - t-test : 총 방문객 수 - 관광만족도?\n",
        " - 방한횟수(tw_visit)"
      ],
      "metadata": {
        "id": "ZdXqUPGl-TYr"
      }
    },
    {
      "cell_type": "code",
      "source": [
        "%%R\n",
        "### 데이터 로드\n",
        "# if (!require(readxl)) {install.packages(\"readxl\")\n",
        "#   library(readxl)}\n",
        "# url <- \"https://github.com/HakJun-Song/class/blob/master/incheon0427.xlsx?raw=true\"\n",
        "# destfile <- \"incheon0427.xlsx\"\n",
        "# curl::curl_download(url, destfile)\n",
        "# incheon0427 <- read_excel(destfile)\n",
        "\n",
        "tw_data <- read.xlsx(\"https://github.com/Geon27/3-2-googlecolab/raw/main/2019_Taiwan.xlsx\")"
      ],
      "metadata": {
        "id": "Phc2LEQw-Sz0"
      },
      "execution_count": 46,
      "outputs": []
    },
    {
      "cell_type": "markdown",
      "source": [
        "#### 데이터 변환"
      ],
      "metadata": {
        "id": "kaFWPGVB5OGL"
      }
    },
    {
      "cell_type": "code",
      "source": [
        "%%R\n",
        "str(tw_data)"
      ],
      "metadata": {
        "id": "j_9dPryE5RHq",
        "colab": {
          "base_uri": "https://localhost:8080/"
        },
        "outputId": "4767d84d-8565-498f-cab3-9f54f2c738c2"
      },
      "execution_count": null,
      "outputs": [
        {
          "output_type": "stream",
          "name": "stdout",
          "text": [
            "'data.frame':\t1222 obs. of  439 variables:\n",
            " $ Q1            : num  1 5 1 1 1 1 10 2 10 1 ...\n",
            " $ Q2A1          : num  2 3 3 4 3 1 2 1 2 2 ...\n",
            " $ Q2A2          : num  NA NA NA NA NA NA NA NA NA NA ...\n",
            " $ Q2A3          : num  NA NA NA NA NA NA NA NA NA NA ...\n",
            " $ Q2A4          : num  NA NA NA NA NA NA NA NA NA NA ...\n",
            " $ Q2A5          : num  NA NA NA NA NA NA NA NA NA NA ...\n",
            " $ Q2_1          : num  10 2 3 4 3 NA 4 NA 2 4 ...\n",
            " $ Q3A1          : num  1 1 1 1 1 1 1 1 1 1 ...\n",
            " $ Q3A2          : num  NA NA NA NA NA NA NA NA NA NA ...\n",
            " $ Q3A3          : num  NA NA NA NA NA NA NA NA NA NA ...\n",
            " $ Q3A4          : num  NA NA NA NA NA NA NA NA NA NA ...\n",
            " $ Q3B1          : num  98 98 98 98 98 98 98 98 98 98 ...\n",
            " $ Q3B2          : num  98 98 98 98 98 98 98 98 98 98 ...\n",
            " $ Q4            : num  1 1 1 1 1 1 1 1 1 1 ...\n",
            " $ Q4_1A1        : num  NA NA NA NA NA NA NA NA NA NA ...\n",
            " $ Q4_1A2        : num  NA NA NA NA NA NA NA NA NA NA ...\n",
            " $ Q4_1A3        : num  NA NA NA NA NA NA NA NA NA NA ...\n",
            " $ Q4_1A4        : num  NA NA NA NA NA NA NA NA NA NA ...\n",
            " $ Q4_1A5        : num  NA NA NA NA NA NA NA NA NA NA ...\n",
            " $ Q4_1A6        : num  NA NA NA NA NA NA NA NA NA NA ...\n",
            " $ Q4_1A7        : num  NA NA NA NA NA NA NA NA NA NA ...\n",
            " $ Q4_1A8        : num  NA NA NA NA NA NA NA NA NA NA ...\n",
            " $ Q4_1A9        : num  NA NA NA NA NA NA NA NA NA NA ...\n",
            " $ Q4_1A10       : num  NA NA NA NA NA NA NA NA NA NA ...\n",
            " $ Q5_1          : num  1 1 1 3 1 1 1 3 1 1 ...\n",
            " $ Q5_2A1        : num  10 2 1 NA 1 6 1 NA 1 5 ...\n",
            " $ Q5_2A2        : num  1 1 5 NA 9 5 2 NA 2 4 ...\n",
            " $ Q5_2A3        : num  2 12 11 NA 2 2 9 NA NA 1 ...\n",
            " $ Q6_1A1        : num  2 2 6 6 1 3 5 11 5 5 ...\n",
            " $ Q6_1A2        : num  NA 6 NA NA 6 6 6 NA 1 6 ...\n",
            " $ Q6_1A3        : num  NA 7 NA NA NA 1 2 NA NA 1 ...\n",
            " $ Q6_2A1        : num  1 1 NA NA 2 2 3 NA 1 1 ...\n",
            " $ Q6_2A2        : num  3 2 NA NA 1 1 7 NA NA 4 ...\n",
            " $ Q6_2A3        : num  4 4 NA NA 3 3 8 NA NA NA ...\n",
            " $ Q6_3A1        : num  5 2 2 2 1 7 2 2 4 1 ...\n",
            " $ Q6_3A2        : num  4 4 3 6 2 4 3 NA NA NA ...\n",
            " $ Q6_3A3        : num  3 8 NA NA 3 2 4 NA NA NA ...\n",
            " $ Q7            : num  3 4 2 4 5 4 4 1 4 5 ...\n",
            " $ Q8A1          : num  1 1 6 1 1 1 1 2 1 1 ...\n",
            " $ Q8A2          : num  2 NA 1 NA NA 6 5 1 NA 8 ...\n",
            " $ Q8A3          : num  9 NA NA NA NA 2 NA NA NA NA ...\n",
            " $ Q9_1A1        : num  1 1 2 1 1 1 2 11 1 1 ...\n",
            " $ Q9_1A2        : num  2 2 3 2 2 2 5 NA 2 2 ...\n",
            " $ Q9_1A3        : num  3 3 5 4 6 5 8 NA 3 3 ...\n",
            " $ Q9_1A4        : num  5 5 NA 6 NA 7 10 NA NA NA ...\n",
            " $ Q9_1A5        : num  10 NA NA 11 NA NA NA NA NA NA ...\n",
            " $ Q9_1A6        : num  NA NA NA NA NA NA NA NA NA NA ...\n",
            " $ Q9_1A7        : num  NA NA NA NA NA NA NA NA NA NA ...\n",
            " $ Q9_1A8        : num  NA NA NA NA NA NA NA NA NA NA ...\n",
            " $ Q9_1A9        : num  NA NA NA NA NA NA NA NA NA NA ...\n",
            " $ Q9_1A10       : num  NA NA NA NA NA NA NA NA NA NA ...\n",
            " $ Q9_1A11       : num  NA NA NA NA NA NA NA NA NA NA ...\n",
            " $ Q9_1A12       : num  NA NA NA NA NA NA NA NA NA NA ...\n",
            " $ Q9_1A13       : num  NA NA NA NA NA NA NA NA NA NA ...\n",
            " $ Q9_1A14       : num  NA NA NA NA NA NA NA NA NA NA ...\n",
            " $ Q9_1A15       : num  NA NA NA NA NA NA NA NA NA NA ...\n",
            " $ Q9_1A16       : num  NA NA NA NA NA NA NA NA NA NA ...\n",
            " $ Q9_1A17       : num  NA NA NA NA NA NA NA NA NA NA ...\n",
            " $ Q9_1A18       : num  NA NA NA NA NA NA NA NA NA NA ...\n",
            " $ Q9_1A19       : num  NA NA NA NA NA NA NA NA NA NA ...\n",
            " $ Q9_1A20       : num  NA NA NA NA NA NA NA NA NA NA ...\n",
            " $ Q9_2A1        : num  10 2 3 1 6 7 2 11 2 3 ...\n",
            " $ Q9_2A2        : num  1 3 5 6 2 5 5 NA 3 1 ...\n",
            " $ Q9_2A3        : num  5 5 NA 4 1 2 10 NA 1 2 ...\n",
            " $ Q10_1A1       : num  1 1 53 1 6 1 15 14 1 80 ...\n",
            " $ Q10_1A2       : num  3 10 43 3 10 4 1 NA 3 1 ...\n",
            " $ Q10_1A3       : num  14 13 7 4 NA 5 3 NA 71 4 ...\n",
            " $ Q10_1A4       : num  NA 14 27 5 NA 6 4 NA NA 3 ...\n",
            " $ Q10_1A5       : num  NA NA 38 NA NA 10 5 NA NA NA ...\n",
            " $ Q10_1A6       : num  NA NA 10 NA NA 13 9 NA NA NA ...\n",
            " $ Q10_1A7       : num  NA NA NA NA NA 14 20 NA NA NA ...\n",
            " $ Q10_1A8       : num  NA NA NA NA NA NA NA NA NA NA ...\n",
            " $ Q10_1A9       : num  NA NA NA NA NA NA NA NA NA NA ...\n",
            " $ Q10_1A10      : num  NA NA NA NA NA NA NA NA NA NA ...\n",
            " $ Q10_1A11      : num  NA NA NA NA NA NA NA NA NA NA ...\n",
            " $ Q10_1A12      : num  NA NA NA NA NA NA NA NA NA NA ...\n",
            " $ Q10_1A13      : num  NA NA NA NA NA NA NA NA NA NA ...\n",
            " $ Q10_1A14      : num  NA NA NA NA NA NA NA NA NA NA ...\n",
            " $ Q10_1A15      : num  NA NA NA NA NA NA NA NA NA NA ...\n",
            " $ Q10_1A16      : num  NA NA NA NA NA NA NA NA NA NA ...\n",
            " $ Q10_1A17      : num  NA NA NA NA NA NA NA NA NA NA ...\n",
            " $ Q10_1A18      : num  NA NA NA NA NA NA NA NA NA NA ...\n",
            " $ Q10_1A19      : num  NA NA NA NA NA NA NA NA NA NA ...\n",
            " $ Q10_1A20      : num  NA NA NA NA NA NA NA NA NA NA ...\n",
            " $ Q10_1A21      : num  NA NA NA NA NA NA NA NA NA NA ...\n",
            " $ Q10_1A22      : num  NA NA NA NA NA NA NA NA NA NA ...\n",
            " $ Q10_1A23      : num  NA NA NA NA NA NA NA NA NA NA ...\n",
            " $ Q10_1A24      : num  NA NA NA NA NA NA NA NA NA NA ...\n",
            " $ Q10_1A25      : num  NA NA NA NA NA NA NA NA NA NA ...\n",
            " $ Q10_1A26      : num  NA NA NA NA NA NA NA NA NA NA ...\n",
            " $ Q10_1A27      : num  NA NA NA NA NA NA NA NA NA NA ...\n",
            " $ Q10_1A28      : num  NA NA NA NA NA NA NA NA NA NA ...\n",
            " $ Q10_1A29      : num  NA NA NA NA NA NA NA NA NA NA ...\n",
            " $ Q10_1A30      : num  NA NA NA NA NA NA NA NA NA NA ...\n",
            " $ Q10_1B1       : num  1 1 1 1 1 1 1 1 1 1 ...\n",
            " $ Q10_1B2       : num  NA NA NA NA NA NA NA NA NA NA ...\n",
            " $ Q10_1B3       : num  NA NA NA NA NA NA NA NA NA NA ...\n",
            " $ Q10_1B4       : num  NA NA NA NA NA NA 4 NA NA NA ...\n",
            " $ Q10_1B5       : num  NA NA 5 NA NA NA NA NA NA NA ...\n",
            "  [list output truncated]\n"
          ]
        }
      ]
    },
    {
      "cell_type": "markdown",
      "source": [
        "## 추리통계"
      ],
      "metadata": {
        "id": "-jkBI-t7QqDm"
      }
    },
    {
      "cell_type": "markdown",
      "source": [
        "### 회귀분석: 변수(들)이 하나의 종속변수에 미치는 영향력을 보기 위한 분석, 독립변수와 종속변수 모두 양적변수"
      ],
      "metadata": {
        "id": "INjSKcT1Qs-Y"
      }
    },
    {
      "cell_type": "markdown",
      "source": [
        "lm함수를 통해 회귀분석 실시, `~`을 기준으로 왼쪽이 종속변수 오른쪽이 독립변수임"
      ],
      "metadata": {
        "id": "YjKVaJjwwgfS"
      }
    },
    {
      "cell_type": "markdown",
      "source": [
        "#### 단순회귀분석:독립변수(방한목적별, D_Q5_1), 종속변수(총 숙박기간, CQ10_6A1)"
      ],
      "metadata": {
        "id": "4IiDae4kQv3T"
      }
    },
    {
      "cell_type": "code",
      "source": [
        "%%R\n",
        "mod1=lm(CQ10_6A1 ~ D_Q5_1, data=tw_data)\n",
        "summary(mod1)"
      ],
      "metadata": {
        "id": "9R31rLh4Qq__",
        "colab": {
          "base_uri": "https://localhost:8080/"
        },
        "outputId": "4054be62-23cd-45a7-9198-ef101a8f4254"
      },
      "execution_count": 50,
      "outputs": [
        {
          "output_type": "stream",
          "name": "stdout",
          "text": [
            "\n",
            "Call:\n",
            "lm(formula = CQ10_6A1 ~ D_Q5_1, data = tw_data)\n",
            "\n",
            "Residuals:\n",
            "   Min     1Q Median     3Q    Max \n",
            "-3.840 -0.840 -0.202 -0.202  9.798 \n",
            "\n",
            "Coefficients:\n",
            "            Estimate Std. Error t value Pr(>|t|)    \n",
            "(Intercept)  3.88301    0.10192  38.100  < 2e-16 ***\n",
            "D_Q5_1       0.31899    0.06909   4.617 4.31e-06 ***\n",
            "---\n",
            "Signif. codes:  0 ‘***’ 0.001 ‘**’ 0.01 ‘*’ 0.05 ‘.’ 0.1 ‘ ’ 1\n",
            "\n",
            "Residual standard error: 1.704 on 1220 degrees of freedom\n",
            "Multiple R-squared:  0.01717,\tAdjusted R-squared:  0.01637 \n",
            "F-statistic: 21.32 on 1 and 1220 DF,  p-value: 4.305e-06\n",
            "\n"
          ]
        }
      ]
    },
    {
      "cell_type": "code",
      "source": [
        "%%R\n",
        "stargazer(mod1, type = \"text\", report = \"vct*\", star.cutoffs = c(0.05, 0.01, 0.001),\n",
        "          column.labels = c(\"coef\"), \n",
        "          single.row = TRUE)"
      ],
      "metadata": {
        "colab": {
          "base_uri": "https://localhost:8080/"
        },
        "id": "lsogj70n1ECP",
        "outputId": "16bf1392-d42f-449d-9a89-e480878dbeb2"
      },
      "execution_count": 52,
      "outputs": [
        {
          "output_type": "stream",
          "name": "stdout",
          "text": [
            "\n",
            "=================================================\n",
            "                         Dependent variable:     \n",
            "                    -----------------------------\n",
            "                              CQ10_6A1           \n",
            "                                coef             \n",
            "-------------------------------------------------\n",
            "D_Q5_1                          0.319            \n",
            "                            t = 4.617***         \n",
            "Constant                        3.883            \n",
            "                            t = 38.100***        \n",
            "-------------------------------------------------\n",
            "Observations                    1,222            \n",
            "R2                              0.017            \n",
            "Adjusted R2                     0.016            \n",
            "Residual Std. Error       1.704 (df = 1220)      \n",
            "F Statistic           21.317*** (df = 1; 1220)   \n",
            "=================================================\n",
            "Note:               *p<0.05; **p<0.01; ***p<0.001\n"
          ]
        }
      ]
    },
    {
      "cell_type": "code",
      "source": [
        "%%R\n",
        "report(mod1)"
      ],
      "metadata": {
        "colab": {
          "base_uri": "https://localhost:8080/"
        },
        "id": "ghCXcIQK1J-f",
        "outputId": "7b6ad547-13ca-48ab-b395-fade8d4d9acb"
      },
      "execution_count": 56,
      "outputs": [
        {
          "output_type": "stream",
          "name": "stdout",
          "text": [
            "We fitted a linear model (estimated using OLS) to predict CQ10_6A1 with D_Q5_1 (formula: CQ10_6A1 ~ D_Q5_1). The model explains a statistically significant and very weak proportion of variance (R2 = 0.02, F(1, 1220) = 21.32, p < .001, adj. R2 = 0.02). The model's intercept, corresponding to D_Q5_1 = 0, is at 3.88 (95% CI [3.68, 4.08], t(1220) = 38.10, p < .001). Within this model:\n",
            "\n",
            "  - The effect of D Q5 1 is statistically significant and positive (beta = 0.32, 95% CI [0.18, 0.45], t(1220) = 4.62, p < .001; Std. beta = 0.13, 95% CI [0.08, 0.19])\n",
            "\n",
            "Standardized parameters were obtained by fitting the model on a standardized version of the dataset. 95% Confidence Intervals (CIs) and p-values were computed using the Wald approximation."
          ]
        }
      ]
    },
    {
      "cell_type": "markdown",
      "source": [
        "e fitted a linear model (estimated using OLS) to predict CQ10_6A1 with D_Q5_1 (formula: CQ10_6A1 ~ D_Q5_1). The model explains a statistically significant and very weak proportion of variance (R2 = 0.02, F(1, 1220) = 21.32, p < .001, adj. R2 = 0.02). The model's intercept, corresponding to D_Q5_1 = 0, is at 3.88 (95% CI [3.68, 4.08], t(1220) = 38.10, p < .001). Within this model:\n",
        "\n",
        "  - The effect of D Q5 1 is statistically significant and positive (beta = 0.32, 95% CI [0.18, 0.45], t(1220) = 4.62, p < .001; Std. beta = 0.13, 95% CI [0.08, 0.19])\n",
        "\n",
        "Standardized parameters were obtained by fitting the model on a standardized version of the dataset. 95% Confidence Intervals (CIs) and p-values were computed using the Wald approximation.\n",
        "\n",
        "여기에 번역본 정리"
      ],
      "metadata": {
        "id": "eTmU17cN155_"
      }
    },
    {
      "cell_type": "markdown",
      "source": [
        "#### 다중회귀분석: 독립변수(관광지 매력도(Q15_2A6), 방한목적(Q5_1), 선택 고려요인Q5_2A1,Q5_2A2,Q5_2A3), 종속변수(총 숙박기간, CQ10_6A1)"
      ],
      "metadata": {
        "id": "wmyJCl6KQ7PJ"
      }
    },
    {
      "cell_type": "code",
      "source": [
        "%%R\n",
        "mod2=lm(CQ10_6A1 ~ Q15_2A6+Q5_1+Q5_2A1+Q5_2A2+Q5_2A3, data=tw_data)\n",
        "summary(mod2)"
      ],
      "metadata": {
        "id": "Hj4LwJWl3U9X",
        "colab": {
          "base_uri": "https://localhost:8080/"
        },
        "outputId": "e0da9b60-e60f-43ae-8877-cdbe849a58de"
      },
      "execution_count": 51,
      "outputs": [
        {
          "output_type": "stream",
          "name": "stdout",
          "text": [
            "\n",
            "Call:\n",
            "lm(formula = CQ10_6A1 ~ Q15_2A6 + Q5_1 + Q5_2A1 + Q5_2A2 + Q5_2A3, \n",
            "    data = tw_data)\n",
            "\n",
            "Residuals:\n",
            "    Min      1Q  Median      3Q     Max \n",
            "-3.9805 -0.3389 -0.2332 -0.0537 10.0103 \n",
            "\n",
            "Coefficients:\n",
            "            Estimate Std. Error t value Pr(>|t|)    \n",
            "(Intercept)  2.77854    0.36903   7.529 1.16e-13 ***\n",
            "Q15_2A6      0.10256    0.05570   1.841 0.065872 .  \n",
            "Q5_1         0.93912    0.25142   3.735 0.000198 ***\n",
            "Q5_2A1       0.01292    0.01522   0.849 0.396116    \n",
            "Q5_2A2      -0.01109    0.01566  -0.708 0.479004    \n",
            "Q5_2A3       0.01154    0.01259   0.916 0.359638    \n",
            "---\n",
            "Signif. codes:  0 ‘***’ 0.001 ‘**’ 0.01 ‘*’ 0.05 ‘.’ 0.1 ‘ ’ 1\n",
            "\n",
            "Residual standard error: 1.397 on 977 degrees of freedom\n",
            "  (239 observations deleted due to missingness)\n",
            "Multiple R-squared:  0.01897,\tAdjusted R-squared:  0.01395 \n",
            "F-statistic: 3.779 on 5 and 977 DF,  p-value: 0.002146\n",
            "\n"
          ]
        }
      ]
    },
    {
      "cell_type": "code",
      "source": [
        "%%R\n",
        "stargazer(mod2, type = \"text\", report = \"vct*\", star.cutoffs = c(0.05, 0.01, 0.001),\n",
        "          column.labels = c(\"coef\"), \n",
        "          single.row = TRUE)"
      ],
      "metadata": {
        "id": "uLa_ey-c3kEY",
        "colab": {
          "base_uri": "https://localhost:8080/"
        },
        "outputId": "45f4084c-16d8-407c-cae7-a2c0e65f414d"
      },
      "execution_count": 55,
      "outputs": [
        {
          "output_type": "stream",
          "name": "stdout",
          "text": [
            "\n",
            "=================================================\n",
            "                         Dependent variable:     \n",
            "                    -----------------------------\n",
            "                              CQ10_6A1           \n",
            "                                coef             \n",
            "-------------------------------------------------\n",
            "Q15_2A6                         0.103            \n",
            "                              t = 1.841          \n",
            "Q5_1                            0.939            \n",
            "                            t = 3.735***         \n",
            "Q5_2A1                          0.013            \n",
            "                              t = 0.849          \n",
            "Q5_2A2                         -0.011            \n",
            "                             t = -0.708          \n",
            "Q5_2A3                          0.012            \n",
            "                              t = 0.916          \n",
            "Constant                        2.779            \n",
            "                            t = 7.529***         \n",
            "-------------------------------------------------\n",
            "Observations                     983             \n",
            "R2                              0.019            \n",
            "Adjusted R2                     0.014            \n",
            "Residual Std. Error       1.397 (df = 977)       \n",
            "F Statistic             3.779** (df = 5; 977)    \n",
            "=================================================\n",
            "Note:               *p<0.05; **p<0.01; ***p<0.001\n"
          ]
        }
      ]
    },
    {
      "cell_type": "code",
      "source": [
        "%%R\n",
        "report(mod2)"
      ],
      "metadata": {
        "id": "D1aLUYA73lYI",
        "colab": {
          "base_uri": "https://localhost:8080/"
        },
        "outputId": "2763809b-078d-44a6-ddfe-47c9cc5059d3"
      },
      "execution_count": 61,
      "outputs": [
        {
          "output_type": "stream",
          "name": "stdout",
          "text": [
            "We fitted a linear model (estimated using OLS) to predict CQ10_6A1 with Q15_2A6, Q5_1, Q5_2A1, Q5_2A2 and Q5_2A3 (formula: CQ10_6A1 ~ Q15_2A6 + Q5_1 + Q5_2A1 + Q5_2A2 + Q5_2A3). The model explains a statistically significant and very weak proportion of variance (R2 = 0.02, F(5, 977) = 3.78, p = 0.002, adj. R2 = 0.01). The model's intercept, corresponding to Q15_2A6 = 0, Q5_1 = 0, Q5_2A1 = 0, Q5_2A2 = 0 and Q5_2A3 = 0, is at 2.78 (95% CI [2.05, 3.50], t(977) = 7.53, p < .001). Within this model:\n",
            "\n",
            "  - The effect of Q15 2A6 is statistically non-significant and positive (beta = 0.10, 95% CI [-6.74e-03, 0.21], t(977) = 1.84, p = 0.066; Std. beta = 0.06, 95% CI [-3.84e-03, 0.12])\n",
            "  - The effect of Q5 1 is statistically significant and positive (beta = 0.94, 95% CI [0.45, 1.43], t(977) = 3.74, p < .001; Std. beta = 0.12, 95% CI [0.06, 0.18])\n",
            "  - The effect of Q5 2A1 is statistically non-significant and positive (beta = 0.01, 95% CI [-0.02, 0.04], t(977) = 0.85, p = 0.396; Std. beta = 0.03, 95% CI [-0.04, 0.09])\n",
            "  - The effect of Q5 2A2 is statistically non-significant and negative (beta = -0.01, 95% CI [-0.04, 0.02], t(977) = -0.71, p = 0.479; Std. beta = -0.02, 95% CI [-0.09, 0.04])\n",
            "  - The effect of Q5 2A3 is statistically non-significant and positive (beta = 0.01, 95% CI [-0.01, 0.04], t(977) = 0.92, p = 0.360; Std. beta = 0.03, 95% CI [-0.03, 0.09])\n",
            "\n",
            "Standardized parameters were obtained by fitting the model on a standardized version of the dataset. 95% Confidence Intervals (CIs) and p-values were computed using the Wald approximation."
          ]
        }
      ]
    },
    {
      "cell_type": "code",
      "source": [
        "%%R\n",
        "equatiomatic::extract_eq(mod2, use_coefs = TRUE)"
      ],
      "metadata": {
        "id": "gGzzN4-c3nGA",
        "colab": {
          "base_uri": "https://localhost:8080/"
        },
        "outputId": "938ea82b-c2bd-4c73-f36b-f5fb0077b6de"
      },
      "execution_count": 64,
      "outputs": [
        {
          "output_type": "stream",
          "name": "stdout",
          "text": [
            "$$\n",
            "\\operatorname{\\widehat{CQ10\\_6A1}} = 2.78 + 0.1(\\operatorname{Q15\\_2A6}) + 0.94(\\operatorname{Q5\\_1}) + 0.01(\\operatorname{Q5\\_2A1}) - 0.01(\\operatorname{Q5\\_2A2}) + 0.01(\\operatorname{Q5\\_2A3})\n",
            "$$\n"
          ]
        }
      ]
    },
    {
      "cell_type": "markdown",
      "source": [
        "$$\n",
        "\\operatorname{\\widehat{CQ10\\_6A1}} = 2.78 + 0.1(\\operatorname{Q15\\_2A6}) + 0.94(\\operatorname{Q5\\_1}) + 0.01(\\operatorname{Q5\\_2A1}) - 0.01(\\operatorname{Q5\\_2A2}) + 0.01(\\operatorname{Q5\\_2A3})\n",
        "$$"
      ],
      "metadata": {
        "id": "11fg4gTz3pD3"
      }
    },
    {
      "cell_type": "markdown",
      "source": [
        "### 연관성분석: 변수A와 B가 얼마나 서로 관계가 있느냐?  \n",
        "\n",
        "*   교차분석: 질적변수간의 관계\n",
        "*   상관분석: 양적변수간의 관계"
      ],
      "metadata": {
        "id": "p6r3EajhRFv0"
      }
    },
    {
      "cell_type": "markdown",
      "source": [
        "#### 교차분석  : 성별 - 직업\n",
        "□ 질적변수(성별, 소득, 직업), 질적변수(성별, 소득, 직업): 성별 - 직업"
      ],
      "metadata": {
        "id": "vIwDUT1_RInJ"
      }
    },
    {
      "cell_type": "markdown",
      "source": [
        "#### 상관분석  방한횟수-만족도\n",
        "□ 양적변수(연령, 체류기간, 만족도, 방한횟수), 양적변수(연령, 체류기간, 만족도): 방한횟수-만족도"
      ],
      "metadata": {
        "id": "HwjAtM_9ROrQ"
      }
    },
    {
      "cell_type": "markdown",
      "source": [
        "## 차이분석: 질적 그룹변수에 따른 양적변수의 차이에 대한 추리통계"
      ],
      "metadata": {
        "id": "_WF0uGRhRZJL"
      }
    },
    {
      "cell_type": "code",
      "source": [
        ""
      ],
      "metadata": {
        "id": "j6Y0BzIqRavy"
      },
      "execution_count": null,
      "outputs": []
    },
    {
      "cell_type": "markdown",
      "source": [
        "### t-test: 질적 그룹변수의 카테고리가 2개인 경우 (성별 - 관광만족도)"
      ],
      "metadata": {
        "id": "UiLhTr9eRa_5"
      }
    },
    {
      "cell_type": "code",
      "source": [
        "%%R\n",
        "### t-test\n",
        "# if (!require(lawstat)) {install.packages(\"lawstat\")\n",
        "#   library(lawstat)}\n",
        "print(leveneTest(analy_dataset$sup_avg, analy_dataset$gender,                             # 형식: 양적변수, 질적변수\n",
        "            location = \"mean\", correction.method = \"zero.correction\"))"
      ],
      "metadata": {
        "id": "KE3CLr6yRihi"
      },
      "execution_count": null,
      "outputs": []
    },
    {
      "cell_type": "code",
      "source": [
        "%%R\n",
        "print(t.test(analy_dataset$sup_avg ~ analy_dataset$gender, var.equal = T))\n",
        "# print(t.test(analy_dataset$sup_avg ~ analy_dataset$gender, var.equal = F))"
      ],
      "metadata": {
        "id": "31DKGmv_5cnU"
      },
      "execution_count": null,
      "outputs": []
    },
    {
      "cell_type": "code",
      "source": [
        "%%R\n",
        "report(t.test(analy_dataset$sup_avg ~ analy_dataset$gender, var.equal = TRUE))"
      ],
      "metadata": {
        "id": "FbphW2ZH5c5G"
      },
      "execution_count": null,
      "outputs": []
    },
    {
      "cell_type": "markdown",
      "source": [
        "### One-way Anova: 질적 그룹변수의 카테고리가 3개 이상인 경우"
      ],
      "metadata": {
        "id": "xrbIl8q7RiOy"
      }
    },
    {
      "cell_type": "markdown",
      "source": [
        "방한횟수와 총 지출액간의 one-way anova"
      ],
      "metadata": {
        "id": "Vl3NKbDBRlFq"
      }
    },
    {
      "cell_type": "code",
      "source": [
        ""
      ],
      "metadata": {
        "id": "RoIC9mBcRsg4"
      },
      "execution_count": null,
      "outputs": []
    }
  ],
  "metadata": {
    "colab": {
      "collapsed_sections": [],
      "name": "구글트렌드_팀플_0602_",
      "provenance": [],
      "toc_visible": true,
      "include_colab_link": true
    },
    "kernelspec": {
      "display_name": "Python 3",
      "name": "python3"
    }
  },
  "nbformat": 4,
  "nbformat_minor": 0
}