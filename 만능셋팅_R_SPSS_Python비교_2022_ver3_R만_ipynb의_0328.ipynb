{
  "nbformat": 4,
  "nbformat_minor": 0,
  "metadata": {
    "colab": {
      "name": "만능셋팅_R_SPSS_Python비교_2022_ver3_R만.ipynb의 0328",
      "provenance": [],
      "collapsed_sections": [
        "cKUXuFEZpGUe",
        "xCrgceM3pK2r"
      ],
      "include_colab_link": true
    },
    "kernelspec": {
      "name": "python3",
      "display_name": "Python 3"
    }
  },
  "cells": [
    {
      "cell_type": "markdown",
      "metadata": {
        "id": "view-in-github",
        "colab_type": "text"
      },
      "source": [
        "<a href=\"https://colab.research.google.com/github/Geon27/3-2-googlecolab/blob/main/%EB%A7%8C%EB%8A%A5%EC%85%8B%ED%8C%85_R_SPSS_Python%EB%B9%84%EA%B5%90_2022_ver3_R%EB%A7%8C_ipynb%EC%9D%98_0328.ipynb\" target=\"_parent\"><img src=\"https://colab.research.google.com/assets/colab-badge.svg\" alt=\"Open In Colab\"/></a>"
      ]
    },
    {
      "cell_type": "markdown",
      "metadata": {
        "id": "cKUXuFEZpGUe"
      },
      "source": [
        "## 한글폰트 사용을 위한 셋팅"
      ]
    },
    {
      "cell_type": "code",
      "metadata": {
        "id": "n6Rwvx5kfIRk",
        "colab": {
          "base_uri": "https://localhost:8080/"
        },
        "outputId": "3edd3d82-d825-456c-9651-3732acba5adc"
      },
      "source": [
        "# http://corazzon.github.io/matplotlib_font_setting\n",
        "# 한글폰트 불러오기: 런타임을 다시 시작한 후 적용되기 때문에 실행 후\n",
        "# 런타임 다시 시작 후 다시 한번 실행하기\n",
        "!sudo apt-get install -y fonts-nanum\n",
        "!sudo fc-cache -fv\n",
        "!rm ~/.cache/matplotlib -rf\n",
        "# 필요한 패키지와 라이브러리를 가져옴\n",
        "import matplotlib as mpl\n",
        "import matplotlib.pyplot as plt\n",
        "import matplotlib.font_manager as fm\n",
        "plt.rc('font', family='NanumBarunGothic') \n",
        "# 그래프를 노트북 안에 그리기 위해 설정\n",
        "%matplotlib inline\n",
        "# 그래프에서 마이너스 폰트 깨지는 문제에 대한 대처\n",
        "mpl.rcParams['axes.unicode_minus'] = False"
      ],
      "execution_count": null,
      "outputs": [
        {
          "output_type": "stream",
          "name": "stdout",
          "text": [
            "Reading package lists... Done\n",
            "Building dependency tree       \n",
            "Reading state information... Done\n",
            "fonts-nanum is already the newest version (20170925-1).\n",
            "0 upgraded, 0 newly installed, 0 to remove and 39 not upgraded.\n",
            "/usr/share/fonts: caching, new cache contents: 0 fonts, 1 dirs\n",
            "/usr/share/fonts/truetype: caching, new cache contents: 0 fonts, 3 dirs\n",
            "/usr/share/fonts/truetype/humor-sans: caching, new cache contents: 1 fonts, 0 dirs\n",
            "/usr/share/fonts/truetype/liberation: caching, new cache contents: 16 fonts, 0 dirs\n",
            "/usr/share/fonts/truetype/nanum: caching, new cache contents: 10 fonts, 0 dirs\n",
            "/usr/local/share/fonts: caching, new cache contents: 0 fonts, 0 dirs\n",
            "/root/.local/share/fonts: skipping, no such directory\n",
            "/root/.fonts: skipping, no such directory\n",
            "/var/cache/fontconfig: cleaning cache directory\n",
            "/root/.cache/fontconfig: not cleaning non-existent cache directory\n",
            "/root/.fontconfig: not cleaning non-existent cache directory\n",
            "fc-cache: succeeded\n"
          ]
        }
      ]
    },
    {
      "cell_type": "code",
      "metadata": {
        "id": "EMivzV7uiO--",
        "colab": {
          "base_uri": "https://localhost:8080/"
        },
        "outputId": "8e9e70ea-b8e4-48f1-dc00-c908b665336a"
      },
      "source": [
        "# 한글그래프 되는지 확인\n",
        "# 데이터 준비\n",
        "import numpy as np\n",
        "\n",
        "data = np.random.randint(-200, 100, 50).cumsum()\n",
        "data\n",
        "# 한글을 넣어놓고 그러보면 깨진다\n",
        "plt.figure(figsize=(10,8)); plt.plot(range(50), data, 'r'); plt.title('시간별 가격추이')\n",
        "plt.ylabel('주식가격'); plt.xlabel('시간(분)')"
      ],
      "execution_count": null,
      "outputs": [
        {
          "output_type": "execute_result",
          "data": {
            "text/plain": [
              "Text(0.5, 0, '시간(분)')"
            ]
          },
          "metadata": {},
          "execution_count": 2
        },
        {
          "output_type": "display_data",
          "data": {
            "text/plain": [
              "<Figure size 720x576 with 1 Axes>"
            ],
            "image/png": "[encoded data removed]"
          },
          "metadata": {
            "needs_background": "light"
          }
        }
      ]
    },
    {
      "cell_type": "markdown",
      "metadata": {
        "id": "xCrgceM3pK2r"
      },
      "source": [
        "## 기본 시스템 셋팅"
      ]
    },
    {
      "cell_type": "code",
      "metadata": {
        "id": "M4npGoV_x_Ad",
        "colab": {
          "base_uri": "https://localhost:8080/"
        },
        "outputId": "24179d51-b83d-4e6d-d654-12ef35899dac"
      },
      "source": [
        "from google.colab import drive\n",
        "drive.mount('/content/drive') \n",
        "\n",
        "# 아래 출력되는 URL에 접속하여 이용 동의 후 생성되는 인증코드를 복사해서 붙여넣기"
      ],
      "execution_count": null,
      "outputs": [
        {
          "output_type": "stream",
          "name": "stdout",
          "text": [
            "Mounted at /content/drive\n"
          ]
        }
      ]
    },
    {
      "cell_type": "code",
      "metadata": {
        "id": "g1SKP44oeAd1"
      },
      "source": [
        "# 폴더설정, 같은 런타임에서 두번실행할때 에러 발생하지만 문제는 아님\n",
        "import os, sys\n",
        "nb_path = '/content/notebooks'\n",
        "#create a symbolic link for pointing to /content/mnt/My Drive/Colab Notebooks\n",
        "os.symlink('/content/mnt/My Drive/Colab_Notebooks', nb_path)\n",
        "sys.path.insert(0, nb_path) "
      ],
      "execution_count": null,
      "outputs": []
    },
    {
      "cell_type": "code",
      "metadata": {
        "id": "4iKYOpB5x-wu",
        "colab": {
          "base_uri": "https://localhost:8080/"
        },
        "outputId": "ca9c35fa-eae1-4909-8ba5-5b3a7a296c3e"
      },
      "source": [
        "# 작업할 경로를 google drive가 있는 위치로 변경\n",
        "os.chdir('/content/drive/My Drive/') \n",
        "os.getcwd()"
      ],
      "execution_count": null,
      "outputs": [
        {
          "output_type": "execute_result",
          "data": {
            "text/plain": [
              "'/content/drive/My Drive'"
            ],
            "application/vnd.google.colaboratory.intrinsic+json": {
              "type": "string"
            }
          },
          "metadata": {},
          "execution_count": 5
        }
      ]
    },
    {
      "cell_type": "code",
      "metadata": {
        "colab": {
          "base_uri": "https://localhost:8080/"
        },
        "id": "HW7fOcAMe2Tb",
        "outputId": "a2c28b4b-e342-4d5a-de43-e2de6fbecb81"
      },
      "source": [
        "# 파이썬 라이브러리 경로지정\n",
        "print(sys.path)\n",
        "sys.path.append('/content/drive/MyDrive/Colab_Notebooks/package_collection')"
      ],
      "execution_count": null,
      "outputs": [
        {
          "output_type": "stream",
          "name": "stdout",
          "text": [
            "['/content/notebooks', '', '/content', '/env/python', '/usr/lib/python37.zip', '/usr/lib/python3.7', '/usr/lib/python3.7/lib-dynload', '/usr/local/lib/python3.7/dist-packages', '/usr/lib/python3/dist-packages', '/usr/local/lib/python3.7/dist-packages/IPython/extensions', '/root/.ipython']\n"
          ]
        }
      ]
    },
    {
      "cell_type": "markdown",
      "metadata": {
        "id": "1vqKxrnPitRr"
      },
      "source": [
        "## R추가 사용을 위한 셋팅"
      ]
    },
    {
      "cell_type": "code",
      "metadata": {
        "id": "uT0x_Q6OirAL"
      },
      "source": [
        "# Load in the r magic\n",
        "%reload_ext rpy2.ipython\n",
        "%config IPCompleter.greedy=True\n",
        "%config InlineBackend.figure_format = 'retina'"
      ],
      "execution_count": null,
      "outputs": []
    },
    {
      "cell_type": "code",
      "metadata": {
        "id": "msJRKRISjpaN"
      },
      "source": [
        "# 설치되어 있는 패키지 확인 및 라이브러리 경로 설정\n",
        "%%R\n",
        ".libPaths(\"/content/drive/MyDrive/Colab_Notebooks/r-lib\")"
      ],
      "execution_count": null,
      "outputs": []
    },
    {
      "cell_type": "code",
      "metadata": {
        "id": "Dxin1wWlkyys",
        "colab": {
          "base_uri": "https://localhost:8080/"
        },
        "outputId": "6951c801-2194-4f0b-dc75-8e5f55e1bb1b"
      },
      "source": [
        "# 3.패키지 자동설치 자동로드1\n",
        "%%R\n",
        "if (!require(pacman)) {install.packages(\"pacman\")\n",
        "   library(pacman)}\n",
        "pacman::p_load(\"corrplot\", \"stargazer\", \"plotly\", \"openxlsx\",\"ggplot2\", #  \"lazyeval\"\n",
        "          \"readxl\",\"dplyr\",\"htmltools\", \"sjmisc\",\"lawstat\",\n",
        "          \"lawstat\",\"Hmisc\",\"gmodels\") # \"webr\",\"moonBook\",\"gmodels\""
      ],
      "execution_count": null,
      "outputs": [
        {
          "output_type": "stream",
          "name": "stderr",
          "text": [
            "R[write to console]: Installing package into ‘/usr/local/lib/R/site-library’\n",
            "(as ‘lib’ is unspecified)\n",
            "\n",
            "R[write to console]: also installing the dependencies ‘gtools’, ‘gdata’\n",
            "\n",
            "\n",
            "R[write to console]: trying URL 'https://cran.rstudio.com/src/contrib/gtools_3.9.2.tar.gz'\n",
            "\n",
            "R[write to console]: Content type 'application/x-gzip'\n",
            "R[write to console]:  length 240402 bytes (234 KB)\n",
            "\n",
            "R[write to console]: =\n",
            "R[write to console]: =\n",
            "R[write to console]: =\n",
            "R[write to console]: =\n",
            "R[write to console]: =\n",
            "R[write to console]: =\n",
            "R[write to console]: =\n",
            "R[write to console]: =\n",
            "R[write to console]: =\n",
            "R[write to console]: =\n",
            "R[write to console]: =\n",
            "R[write to console]: =\n",
            "R[write to console]: =\n",
            "R[write to console]: =\n",
            "R[write to console]: =\n",
            "R[write to console]: =\n",
            "R[write to console]: =\n",
            "R[write to console]: =\n",
            "R[write to console]: =\n",
            "R[write to console]: =\n",
            "R[write to console]: =\n",
            "R[write to console]: =\n",
            "R[write to console]: =\n",
            "R[write to console]: =\n",
            "R[write to console]: =\n",
            "R[write to console]: =\n",
            "R[write to console]: =\n",
            "R[write to console]: =\n",
            "R[write to console]: =\n",
            "R[write to console]: =\n",
            "R[write to console]: =\n",
            "R[write to console]: =\n",
            "R[write to console]: =\n",
            "R[write to console]: =\n",
            "R[write to console]: =\n",
            "R[write to console]: =\n",
            "R[write to console]: =\n",
            "R[write to console]: =\n",
            "R[write to console]: =\n",
            "R[write to console]: =\n",
            "R[write to console]: =\n",
            "R[write to console]: =\n",
            "R[write to console]: =\n",
            "R[write to console]: =\n",
            "R[write to console]: =\n",
            "R[write to console]: =\n",
            "R[write to console]: =\n",
            "R[write to console]: =\n",
            "R[write to console]: =\n",
            "R[write to console]: =\n",
            "R[write to console]: \n",
            "\n",
            "R[write to console]: downloaded 234 KB\n",
            "\n",
            "\n",
            "R[write to console]: trying URL 'https://cran.rstudio.com/src/contrib/gdata_2.18.0.tar.gz'\n",
            "\n",
            "R[write to console]: Content type 'application/x-gzip'\n",
            "R[write to console]:  length 1058430 bytes (1.0 MB)\n",
            "\n",
            "R[write to console]: =\n",
            "R[write to console]: =\n",
            "R[write to console]: =\n",
            "R[write to console]: =\n",
            "R[write to console]: =\n",
            "R[write to console]: =\n",
            "R[write to console]: =\n",
            "R[write to console]: =\n",
            "R[write to console]: =\n",
            "R[write to console]: =\n",
            "R[write to console]: =\n",
            "R[write to console]: =\n",
            "R[write to console]: =\n",
            "R[write to console]: =\n",
            "R[write to console]: =\n",
            "R[write to console]: =\n",
            "R[write to console]: =\n",
            "R[write to console]: =\n",
            "R[write to console]: =\n",
            "R[write to console]: =\n",
            "R[write to console]: =\n",
            "R[write to console]: =\n",
            "R[write to console]: =\n",
            "R[write to console]: =\n",
            "R[write to console]: =\n",
            "R[write to console]: =\n",
            "R[write to console]: =\n",
            "R[write to console]: =\n",
            "R[write to console]: =\n",
            "R[write to console]: =\n",
            "R[write to console]: =\n",
            "R[write to console]: =\n",
            "R[write to console]: =\n",
            "R[write to console]: =\n",
            "R[write to console]: =\n",
            "R[write to console]: =\n",
            "R[write to console]: =\n",
            "R[write to console]: =\n",
            "R[write to console]: =\n",
            "R[write to console]: =\n",
            "R[write to console]: =\n",
            "R[write to console]: =\n",
            "R[write to console]: =\n",
            "R[write to console]: =\n",
            "R[write to console]: =\n",
            "R[write to console]: =\n",
            "R[write to console]: =\n",
            "R[write to console]: =\n",
            "R[write to console]: =\n",
            "R[write to console]: =\n",
            "R[write to console]: \n",
            "\n",
            "R[write to console]: downloaded 1.0 MB\n",
            "\n",
            "\n",
            "R[write to console]: trying URL 'https://cran.rstudio.com/src/contrib/gmodels_2.18.1.tar.gz'\n",
            "\n",
            "R[write to console]: Content type 'application/x-gzip'\n",
            "R[write to console]:  length 33783 bytes (32 KB)\n",
            "\n",
            "R[write to console]: =\n",
            "R[write to console]: =\n",
            "R[write to console]: =\n",
            "R[write to console]: =\n",
            "R[write to console]: =\n",
            "R[write to console]: =\n",
            "R[write to console]: =\n",
            "R[write to console]: =\n",
            "R[write to console]: =\n",
            "R[write to console]: =\n",
            "R[write to console]: =\n",
            "R[write to console]: =\n",
            "R[write to console]: =\n",
            "R[write to console]: =\n",
            "R[write to console]: =\n",
            "R[write to console]: =\n",
            "R[write to console]: =\n",
            "R[write to console]: =\n",
            "R[write to console]: =\n",
            "R[write to console]: =\n",
            "R[write to console]: =\n",
            "R[write to console]: =\n",
            "R[write to console]: =\n",
            "R[write to console]: =\n",
            "R[write to console]: =\n",
            "R[write to console]: =\n",
            "R[write to console]: =\n",
            "R[write to console]: =\n",
            "R[write to console]: =\n",
            "R[write to console]: =\n",
            "R[write to console]: =\n",
            "R[write to console]: =\n",
            "R[write to console]: =\n",
            "R[write to console]: =\n",
            "R[write to console]: =\n",
            "R[write to console]: =\n",
            "R[write to console]: =\n",
            "R[write to console]: =\n",
            "R[write to console]: =\n",
            "R[write to console]: =\n",
            "R[write to console]: =\n",
            "R[write to console]: =\n",
            "R[write to console]: =\n",
            "R[write to console]: =\n",
            "R[write to console]: =\n",
            "R[write to console]: =\n",
            "R[write to console]: =\n",
            "R[write to console]: =\n",
            "R[write to console]: =\n",
            "R[write to console]: =\n",
            "R[write to console]: \n",
            "\n",
            "R[write to console]: downloaded 32 KB\n",
            "\n",
            "\n",
            "R[write to console]: \n",
            "\n",
            "R[write to console]: \n",
            "R[write to console]: The downloaded source packages are in\n",
            "\t‘/tmp/RtmpKIEolt/downloaded_packages’\n",
            "R[write to console]: \n",
            "R[write to console]: \n",
            "\n",
            "R[write to console]: \n",
            "gmodels installed\n",
            "\n"
          ]
        }
      ]
    },
    {
      "cell_type": "markdown",
      "metadata": {
        "id": "ESuFRAt3iD8X"
      },
      "source": [
        "### 데이터 로드"
      ]
    },
    {
      "cell_type": "code",
      "metadata": {
        "id": "ESI6hVJ1h7iA"
      },
      "source": [
        "%%R\n",
        "### 데이터 로드\n",
        "# if (!require(readxl)) {install.packages(\"readxl\")\n",
        "#   library(readxl)}\n",
        "# url <- \"https://github.com/HakJun-Song/class/blob/master/incheon0427.xlsx?raw=true\"\n",
        "# destfile <- \"incheon0427.xlsx\"\n",
        "# curl::curl_download(url, destfile)\n",
        "# incheon0427 <- read_excel(destfile)\n",
        "\n",
        "incheon0427 <- read.xlsx(\"https://github.com/HakJun-Song/class/blob/master/incheon0427.xlsx?raw=true/incheon0427.xlsx\")"
      ],
      "execution_count": null,
      "outputs": []
    },
    {
      "cell_type": "markdown",
      "metadata": {
        "id": "kemLlO79Loxd"
      },
      "source": [
        "### 기술통계 및 그래픽"
      ]
    },
    {
      "cell_type": "code",
      "metadata": {
        "id": "EdluIT8CiFeB",
        "colab": {
          "base_uri": "https://localhost:8080/"
        },
        "outputId": "4b799fe2-27e9-4d54-b3f2-eaa16f010cc8"
      },
      "source": [
        "%%R\n",
        "### 기술통계\n",
        "target_vars = subset(incheon0427,select=c(q10,q11,q12))\n",
        "summary(target_vars)"
      ],
      "execution_count": null,
      "outputs": [
        {
          "output_type": "stream",
          "name": "stdout",
          "text": [
            "      q10             q11             q12       \n",
            " Min.   :1.000   Min.   :1.000   Min.   :1.000  \n",
            " 1st Qu.:3.000   1st Qu.:3.000   1st Qu.:3.000  \n",
            " Median :4.000   Median :4.000   Median :4.000  \n",
            " Mean   :3.599   Mean   :3.394   Mean   :3.538  \n",
            " 3rd Qu.:4.000   3rd Qu.:4.000   3rd Qu.:4.000  \n",
            " Max.   :5.000   Max.   :5.000   Max.   :5.000  \n"
          ]
        }
      ]
    },
    {
      "cell_type": "code",
      "metadata": {
        "id": "6SBam9gRLyu4",
        "colab": {
          "base_uri": "https://localhost:8080/"
        },
        "outputId": "dbee47a9-8cf9-4fb2-eb8f-390983fbc444"
      },
      "source": [
        "%%R\n",
        "### 빈도분석\n",
        "target_vars_cate <- subset(incheon0427,select=c(q1,q3,q84))\n",
        "frq(target_vars_cate, out = \"v\")"
      ],
      "execution_count": null,
      "outputs": [
        {
          "output_type": "stream",
          "name": "stderr",
          "text": [
            "R[write to console]: Package `sjPlot` needs to be loaded to print HTML tables.\n",
            "\n"
          ]
        },
        {
          "output_type": "stream",
          "name": "stdout",
          "text": [
            "q1 <numeric> \n",
            "# total N=563 valid N=563 mean=1.50 sd=0.50\n",
            "\n",
            "Value |   N | Raw % | Valid % | Cum. %\n",
            "--------------------------------------\n",
            "    1 | 280 | 49.73 |   49.73 |  49.73\n",
            "    2 | 283 | 50.27 |   50.27 | 100.00\n",
            " <NA> |   0 |  0.00 |    <NA> |   <NA>\n",
            "\n",
            "q3 <numeric> \n",
            "# total N=563 valid N=563 mean=2.64 sd=1.26\n",
            "\n",
            "Value |   N | Raw % | Valid % | Cum. %\n",
            "--------------------------------------\n",
            "    1 | 135 | 23.98 |   23.98 |  23.98\n",
            "    2 | 134 | 23.80 |   23.80 |  47.78\n",
            "    3 | 135 | 23.98 |   23.98 |  71.76\n",
            "    4 | 116 | 20.60 |   20.60 |  92.36\n",
            "    5 |  43 |  7.64 |    7.64 | 100.00\n",
            " <NA> |   0 |  0.00 |    <NA> |   <NA>\n",
            "\n",
            "q84 <numeric> \n",
            "# total N=563 valid N=563 mean=2.51 sd=0.89\n",
            "\n",
            "Value |   N | Raw % | Valid % | Cum. %\n",
            "--------------------------------------\n",
            "    1 | 112 | 19.89 |   19.89 |  19.89\n",
            "    2 |  91 | 16.16 |   16.16 |  36.06\n",
            "    3 | 320 | 56.84 |   56.84 |  92.90\n",
            "    4 |  40 |  7.10 |    7.10 | 100.00\n",
            " <NA> |   0 |  0.00 |    <NA> |   <NA>\n"
          ]
        }
      ]
    },
    {
      "cell_type": "code",
      "metadata": {
        "id": "i3YKwZ0tL6Cj",
        "colab": {
          "base_uri": "https://localhost:8080/",
          "height": 497
        },
        "outputId": "3896b0fa-81b1-4360-9229-3a053086f54f"
      },
      "source": [
        "%%R\n",
        "### 빈도분석_그래프\n",
        "incheon0427$q1=as.factor(incheon0427$q1)\n",
        "cnt <- incheon0427 %>% group_by(q1) %>% summarise(n=n()) %>% mutate(freq = n/sum(n))\n",
        "cnt  # 도수 값\n",
        "ggplot(cnt, aes(x=\"\", y=freq, fill=q1)) +\n",
        "  #facet_grid(facets=.~q1) +\n",
        "  geom_bar(stat=\"identity\", width=1) +\n",
        "  coord_polar(theta=\"y\")"
      ],
      "execution_count": null,
      "outputs": [
        {
          "output_type": "display_data",
          "data": {
            "image/png": "[encoded data removed]"
          },
          "metadata": {}
        }
      ]
    },
    {
      "cell_type": "markdown",
      "metadata": {
        "id": "g21DLkhaMGnP"
      },
      "source": [
        "### 독립표본 t-test"
      ]
    },
    {
      "cell_type": "code",
      "metadata": {
        "id": "W5YUbBpDMDS3",
        "colab": {
          "base_uri": "https://localhost:8080/"
        },
        "outputId": "c7f88e4e-2685-4834-cfa6-5cc47bd743a8"
      },
      "source": [
        "%%R\n",
        "### t-test\n",
        "# if (!require(lawstat)) {install.packages(\"lawstat\")\n",
        "#   library(lawstat)}\n",
        "print(levene.test(incheon0427$q10, incheon0427$q1, \n",
        "            location = \"mean\", correction.method = \"zero.correction\"))\n",
        "print(t.test(incheon0427$q10 ~ incheon0427$q1, var.equal=T))\n",
        "print(t.test(incheon0427$q10 ~ incheon0427$q1, var.equal=F))"
      ],
      "execution_count": null,
      "outputs": [
        {
          "output_type": "stream",
          "name": "stdout",
          "text": [
            "\n",
            "\tClassical Levene's test based on the absolute deviations from the mean\n",
            "\t( zero.correction not applied because the location is not set to\n",
            "\tmedian )\n",
            "\n",
            "data:  incheon0427$q10\n",
            "Test Statistic = 5.4084, p-value = 0.0204\n",
            "\n",
            "\n",
            "\tTwo Sample t-test\n",
            "\n",
            "data:  incheon0427$q10 by incheon0427$q1\n",
            "t = -0.58538, df = 561, p-value = 0.5585\n",
            "alternative hypothesis: true difference in means between group 1 and group 2 is not equal to 0\n",
            "95 percent confidence interval:\n",
            " -0.17336001  0.09375375\n",
            "sample estimates:\n",
            "mean in group 1 mean in group 2 \n",
            "       3.578571        3.618375 \n",
            "\n",
            "\n",
            "\tWelch Two Sample t-test\n",
            "\n",
            "data:  incheon0427$q10 by incheon0427$q1\n",
            "t = -0.58499, df = 550.96, p-value = 0.5588\n",
            "alternative hypothesis: true difference in means between group 1 and group 2 is not equal to 0\n",
            "95 percent confidence interval:\n",
            " -0.17345399  0.09384773\n",
            "sample estimates:\n",
            "mean in group 1 mean in group 2 \n",
            "       3.578571        3.618375 \n",
            "\n"
          ]
        }
      ]
    },
    {
      "cell_type": "markdown",
      "source": [
        "### One-way ANOVA"
      ],
      "metadata": {
        "id": "jizDBZB0NqFq"
      }
    },
    {
      "cell_type": "code",
      "source": [
        "%%R\n",
        "print(tapply(incheon0427$q10,incheon0427$q3,mean))\n",
        "tapply(incheon0427$q10,incheon0427$q3,sd)"
      ],
      "metadata": {
        "id": "VmB8N2yjww45",
        "colab": {
          "base_uri": "https://localhost:8080/"
        },
        "outputId": "29422dfe-a691-4b50-b4c3-7608915c42e4"
      },
      "execution_count": null,
      "outputs": [
        {
          "output_type": "stream",
          "name": "stdout",
          "text": [
            "       1        2        3        4        5 \n",
            "3.466667 3.574627 3.577778 3.767241 3.697674 \n",
            "        1         2         3         4         5 \n",
            "0.9125984 0.8529195 0.7771616 0.6640817 0.6738264 \n"
          ]
        }
      ]
    },
    {
      "cell_type": "code",
      "source": [
        "%%R\n",
        "# 등분산 확인하는 방법\n",
        "bartlett.test(q10 ~ q3, data=incheon0427) # q3: 연령"
      ],
      "metadata": {
        "id": "ZJRlXCGwNt9c",
        "colab": {
          "base_uri": "https://localhost:8080/"
        },
        "outputId": "958189f1-4829-4eac-c40f-be2e3ada98a4"
      },
      "execution_count": null,
      "outputs": [
        {
          "output_type": "stream",
          "name": "stdout",
          "text": [
            "\n",
            "\tBartlett test of homogeneity of variances\n",
            "\n",
            "data:  q10 by q3\n",
            "Bartlett's K-squared = 15.651, df = 4, p-value = 0.003525\n",
            "\n"
          ]
        }
      ]
    },
    {
      "cell_type": "code",
      "source": [
        "%%R\n",
        "# 등분산 만족시\n",
        "incheon0427$q3=as.factor(incheon0427$q3)\n",
        "round(tapply(incheon0427$q10, incheon0427$q3, mean),3)\n",
        "round(tapply(incheon0427$q10, incheon0427$q3, sd),3)\n",
        "anova<-aov(q10 ~ q3, data=incheon0427)\n",
        "print(summary(anova))"
      ],
      "metadata": {
        "id": "r2annIvbOcoL",
        "colab": {
          "base_uri": "https://localhost:8080/"
        },
        "outputId": "4b1929db-2c49-4b3f-8933-735755bd85cb"
      },
      "execution_count": null,
      "outputs": [
        {
          "output_type": "stream",
          "name": "stdout",
          "text": [
            "             Df Sum Sq Mean Sq F value Pr(>F)  \n",
            "q3            4    6.2  1.5516   2.411 0.0481 *\n",
            "Residuals   558  359.1  0.6435                 \n",
            "---\n",
            "Signif. codes:  0 ‘***’ 0.001 ‘**’ 0.01 ‘*’ 0.05 ‘.’ 0.1 ‘ ’ 1\n"
          ]
        }
      ]
    },
    {
      "cell_type": "code",
      "source": [
        "# 사후분석\n",
        "#print(TukeyHSD(anova))\n",
        "#post<-TukeyHSD(anova); post"
      ],
      "metadata": {
        "id": "RQFQJ5GI5ptQ"
      },
      "execution_count": null,
      "outputs": []
    },
    {
      "cell_type": "code",
      "source": [
        "%%R\n",
        "# 등분산 불만족시\n",
        "oneway.test(q10 ~ q3,data=incheon0427,var.equal=FALSE) # 정규분포는 하나 등분산은 아닐 때"
      ],
      "metadata": {
        "id": "d3jk1N4aPKXA",
        "colab": {
          "base_uri": "https://localhost:8080/"
        },
        "outputId": "329e43f8-5a50-4cad-e287-c71e88f2d51c"
      },
      "execution_count": null,
      "outputs": [
        {
          "output_type": "stream",
          "name": "stdout",
          "text": [
            "\n",
            "\tOne-way analysis of means (not assuming equal variances)\n",
            "\n",
            "data:  q10 and q3\n",
            "F = 2.6871, num df = 4.00, denom df = 211.25, p-value = 0.03234\n",
            "\n"
          ]
        }
      ]
    },
    {
      "cell_type": "markdown",
      "source": [
        "### 사용자 정의 함수"
      ],
      "metadata": {
        "id": "VK8h8PD9lQCO"
      }
    },
    {
      "cell_type": "code",
      "source": [
        "%%R\n",
        "posthocTGH <- function(y, x, method=c(\"games-howell\", \"tukey\"),\n",
        "                       conf.level = 0.95, digits=2,\n",
        "                       p.adjust=\"none\", formatPvalue = TRUE) {\n",
        "  ### Based on http://www.psych.yorku.ca/cribbie/6130/games_howell.R\n",
        "  method <- tolower(method);\n",
        "  tryCatch(method <- match.arg(method), error=function(err) {\n",
        "    stop(\"Argument for 'method' not valid!\");\n",
        "  });\n",
        "  \n",
        "  res <- list(input = as.list(environment()));\n",
        "  \n",
        "  res$intermediate <- list(x = factor(x[complete.cases(x,y)]),\n",
        "                           y = y[complete.cases(x,y)]);\n",
        "  res$intermediate$n <- tapply(y, x, length);\n",
        "  res$intermediate$groups <- length(res$intermediate$n);\n",
        "  res$intermediate$df <- sum(res$intermediate$n) - res$intermediate$groups;\n",
        "  res$intermediate$means <- tapply(y, x, mean);\n",
        "  res$intermediate$variances <- tapply(y, x, var);\n",
        "  res$intermediate$names <- levels(res$intermediate$x)\n",
        "  res$intermediate$pairNames <- combn(res$intermediate$groups,2,function(ij){\n",
        "    paste0(rev(res$intermediate$names[ij]),collapse=\"-\");\n",
        "  })\n",
        "  \n",
        "  res$intermediate$descriptives <- cbind(res$intermediate$n,\n",
        "                                         res$intermediate$means,\n",
        "                                         res$intermediate$variances);\n",
        "  rownames(res$intermediate$descriptives) <- levels(res$intermediate$x);\n",
        "  colnames(res$intermediate$descriptives) <- c('n', 'means', 'variances');\n",
        "  \n",
        "  ### Start on Tukey\n",
        "  res$intermediate$errorVariance <-\n",
        "    sum((res$intermediate$n-1) * res$intermediate$variances) /\n",
        "    res$intermediate$df;\n",
        "  res$intermediate$se <- combn(res$intermediate$groups,2, function(ij) {\n",
        "    sqrt(res$intermediate$errorVariance*sum(1/res$intermediate$n[ij]));\n",
        "  } )\n",
        "  res$intermediate$dmeans <- combn(res$intermediate$groups, 2, function(ij) {\n",
        "    diff(res$intermediate$means[ij]) } )\n",
        "  res$intermediate$t <- abs(res$intermediate$dmeans)/res$intermediate$se\n",
        "  res$intermediate$p.tukey <- ptukey(res$intermediate$t*sqrt(2),\n",
        "                                     res$intermediate$groups,\n",
        "                                     res$intermediate$df,\n",
        "                                     lower.tail=FALSE);\n",
        "  res$intermediate$alpha <- (1-conf.level);\n",
        "  res$intermediate$qcrit <- qtukey(res$intermediate$alpha,\n",
        "                                   res$intermediate$groups,\n",
        "                                   res$intermediate$df,\n",
        "                                   lower.tail=FALSE) / sqrt(2);\n",
        "  res$intermediate$tukey.low <- res$intermediate$dmeans - (res$intermediate$qcrit * res$intermediate$se);\n",
        "  res$intermediate$tukey.high <- res$intermediate$dmeans + (res$intermediate$qcrit * res$intermediate$se);\n",
        "  res$output <- list();\n",
        "  res$output$tukey <- data.frame(res$intermediate$dmeans,\n",
        "                                 res$intermediate$tukey.low,\n",
        "                                 res$intermediate$tukey.high,\n",
        "                                 res$intermediate$t,\n",
        "                                 res$intermediate$df,\n",
        "                                 res$intermediate$p.tukey)\n",
        "  columnNames <- c('diff', 'ci.lo', 'ci.hi', 't', 'df', 'p');\n",
        "  if (p.adjust != \"none\") {\n",
        "    res$output$tukey$p.tukey.adjusted <- p.adjust(res$intermediate$p.tukey,\n",
        "                                                  method = p.adjust);\n",
        "    columnNames <- c(columnNames, 'p.adjusted');\n",
        "  }\n",
        "\n",
        "  rownames(res$output$tukey) <- res$intermediate$pairNames;\n",
        "  colnames(res$output$tukey) <- columnNames;\n",
        "  \n",
        "  ### Start on Games-Howell\n",
        "  res$intermediate$df.corrected <- combn(res$intermediate$groups, 2, function(ij) {               \n",
        "    sum(res$intermediate$variances[ij] /\n",
        "          res$intermediate$n[ij])^2 / \n",
        "      sum((res$intermediate$variances[ij] /\n",
        "             res$intermediate$n[ij])^2 / \n",
        "            (res$intermediate$n[ij]-1));\n",
        "  } )\n",
        "  res$intermediate$se.corrected <- combn(res$intermediate$groups,2, function(ij) {\n",
        "    sqrt(sum(res$intermediate$variances[ij]/res$intermediate$n[ij]));\n",
        "  } )\n",
        "  res$intermediate$t.corrected <- abs(res$intermediate$dmeans)/res$intermediate$se.corrected\n",
        "  \n",
        "  res$intermediate$qcrit.corrected <- \n",
        "    qtukey(res$intermediate$alpha,\n",
        "           res$intermediate$groups,\n",
        "           res$intermediate$df.corrected,\n",
        "           lower.tail=FALSE) / sqrt(2)\n",
        "  \n",
        "  res$intermediate$gh.low <- res$intermediate$dmeans - \n",
        "    res$intermediate$qcrit.corrected*res$intermediate$se.corrected\n",
        "  res$intermediate$gh.high <- res$intermediate$dmeans + \n",
        "    res$intermediate$qcrit.corrected*res$intermediate$se.corrected\n",
        "  \n",
        "  \n",
        "  res$intermediate$p.gameshowell <- ptukey(res$intermediate$t.corrected*sqrt(2),\n",
        "                                           res$intermediate$groups,\n",
        "                                           res$intermediate$df.corrected,\n",
        "                                           lower.tail=FALSE)  \n",
        "  res$output$games.howell <- data.frame(res$intermediate$dmeans,\n",
        "                                        res$intermediate$gh.low,\n",
        "                                        res$intermediate$gh.high,\n",
        "                                        res$intermediate$t.corrected,\n",
        "                                        res$intermediate$df.corrected,\n",
        "                                        res$intermediate$p.gameshowell);\n",
        "  columnNames <- c('diff', 'ci.lo', 'ci.hi', 't', 'df', 'p');\n",
        "  if (p.adjust != \"none\") {\n",
        "    res$output$games.howell$p.gameshowell.adjusted <- p.adjust(res$intermediate$p.gameshowell,\n",
        "                                                               method = p.adjust);\n",
        "    columnNames <- c(columnNames, 'p.adjusted');\n",
        "  }\n",
        "  rownames(res$output$games.howell) <- res$intermediate$pairNames;\n",
        "  colnames(res$output$games.howell) <- columnNames;\n",
        "  \n",
        "  ### Set class and return object\n",
        "  class(res) <- 'posthocTGH';\n",
        "  return(res);\n",
        "  \n",
        "}"
      ],
      "metadata": {
        "id": "f7Ey0s-T88Bf"
      },
      "execution_count": null,
      "outputs": []
    },
    {
      "cell_type": "code",
      "source": [
        "%%R\n",
        "# 사후분석\n",
        "#library(userfriendlyscience)\n",
        "densityplot(q10 ~ q3, data=incheon0427)\n",
        "# posthocTGH(incheon0427$q3, y = incheon0427$q10, method = 'games-howell')\n",
        "games_howell=posthocTGH(incheon0427$q3, y = incheon0427$q10, method = 'games-howell')\n",
        "print(games_howell$intermediate$descriptives)\n",
        "print(games_howell$output$games.howell)\n",
        "\n",
        "# pairwise.t.test(incheon0427$q10, incheon0427$q3,\n",
        "#                  p.adjust.method = \"BH\", pool.sd = FALSE)"
      ],
      "metadata": {
        "id": "vlgKt4sX5zAp",
        "colab": {
          "base_uri": "https://localhost:8080/"
        },
        "outputId": "af5c59e7-e555-4359-eb09-7afd4cf70a2b"
      },
      "execution_count": null,
      "outputs": [
        {
          "output_type": "stream",
          "name": "stdout",
          "text": [
            "    n    means variances\n",
            "1 135 3.466667 0.8328358\n",
            "2 134 3.574627 0.7274717\n",
            "3 135 3.577778 0.6039801\n",
            "4 116 3.767241 0.4410045\n",
            "5  43 3.697674 0.4540421\n",
            "            diff       ci.lo     ci.hi          t        df          p\n",
            "2-1  0.107960199 -0.18783046 0.4037509 1.00246967 266.03965 0.85408961\n",
            "3-1  0.111111111 -0.17227534 0.3944976 1.07702010 261.36905 0.81824264\n",
            "4-1  0.300574713  0.02613476 0.5750147 3.01012747 242.66330 0.02390852\n",
            "5-1  0.231007752 -0.12864676 0.5906623 1.78608041  95.22539 0.38768086\n",
            "3-2  0.003150912 -0.27018115 0.2764830 0.03166335 264.34702 0.99999977\n",
            "4-2  0.192614514 -0.07141971 0.4566487 2.00480772 245.34794 0.26674309\n",
            "5-2  0.123047553 -0.22904446 0.4751396 0.97314097  88.87167 0.86656546\n",
            "4-3  0.189463602 -0.06051257 0.4394398 2.08268550 248.99395 0.23083863\n",
            "5-3  0.119896641 -0.22224404 0.4620373 0.97787544  80.59600 0.86443016\n",
            "5-4 -0.069566961 -0.40463227 0.2654983 0.58051372  74.17657 0.97755533\n"
          ]
        }
      ]
    },
    {
      "cell_type": "markdown",
      "metadata": {
        "id": "C4XB7JvIMa8J"
      },
      "source": [
        "### 상관분석"
      ]
    },
    {
      "cell_type": "code",
      "metadata": {
        "id": "wgSrDvTkMdyU",
        "colab": {
          "base_uri": "https://localhost:8080/"
        },
        "outputId": "4c84ea33-9c64-4c76-f976-e5c6f5c0782e"
      },
      "source": [
        "%%R\n",
        "### 상관분석\n",
        "# if (!require(Hmisc)) {install.packages(\"Hmisc\")\n",
        "#   library(Hmisc)}\n",
        "res2 <- rcorr(as.matrix(target_vars))\n",
        "print(res2$r, digits=3)\n",
        "print(res2$P, digits=3)"
      ],
      "execution_count": null,
      "outputs": [
        {
          "output_type": "stream",
          "name": "stdout",
          "text": [
            "      q10   q11   q12\n",
            "q10 1.000 0.676 0.555\n",
            "q11 0.676 1.000 0.600\n",
            "q12 0.555 0.600 1.000\n",
            "    q10 q11 q12\n",
            "q10  NA   0   0\n",
            "q11   0  NA   0\n",
            "q12   0   0  NA\n"
          ]
        }
      ]
    },
    {
      "cell_type": "markdown",
      "metadata": {
        "id": "uu8EkA-qMis9"
      },
      "source": [
        "### 회귀분석"
      ]
    },
    {
      "cell_type": "code",
      "metadata": {
        "id": "F71DVnR_Mn73",
        "colab": {
          "base_uri": "https://localhost:8080/"
        },
        "outputId": "a36934a5-23c9-4e19-f530-a96ea2adf622"
      },
      "source": [
        "%%R\n",
        "### 회귀분석\n",
        "# if (!require(stargazer)) {install.packages(\"stargazer\")\n",
        "#   library(stargazer)}\n",
        "mod<-lm(q48~q10+q23, data=incheon0427)\n",
        "summary(mod)\n",
        "stargazer(mod, type = \"text\", report = \"vct*\", star.cutoffs = c(0.05, 0.01, 0.001),\n",
        "          column.labels = c(\"coef\"), \n",
        "          single.row = TRUE)"
      ],
      "execution_count": null,
      "outputs": [
        {
          "output_type": "stream",
          "name": "stdout",
          "text": [
            "\n",
            "=================================================\n",
            "                         Dependent variable:     \n",
            "                    -----------------------------\n",
            "                                 q48             \n",
            "                                coef             \n",
            "-------------------------------------------------\n",
            "q10                             0.343            \n",
            "                            t = 8.849***         \n",
            "q23                             0.228            \n",
            "                            t = 5.782***         \n",
            "Constant                        1.095            \n",
            "                            t = 7.323***         \n",
            "-------------------------------------------------\n",
            "Observations                     563             \n",
            "R2                              0.244            \n",
            "Adjusted R2                     0.242            \n",
            "Residual Std. Error       0.680 (df = 560)       \n",
            "F Statistic            90.487*** (df = 2; 560)   \n",
            "=================================================\n",
            "Note:               *p<0.05; **p<0.01; ***p<0.001\n"
          ]
        }
      ]
    },
    {
      "cell_type": "markdown",
      "source": [
        "### **교차분석**"
      ],
      "metadata": {
        "id": "1sUAke2blxVz"
      }
    },
    {
      "cell_type": "code",
      "source": [
        "%%R\n",
        "### 데이터 로드\n",
        "# if (!require(readxl)) {install.packages(\"readxl\")\n",
        "#   library(readxl)}\n",
        "# url <- \"https://github.com/HakJun-Song/class/blob/master/incheon0427.xlsx?raw=true\"\n",
        "# destfile <- \"incheon0427.xlsx\"\n",
        "# curl::curl_download(url, destfile)\n",
        "# incheon0427 <- read_excel(destfile)\n",
        "\n",
        "incheon0427 <- read.xlsx(\"https://github.com/HakJun-Song/class/blob/master/incheon0427.xlsx?raw=true/incheon0427.xlsx\")"
      ],
      "metadata": {
        "id": "gZKYlLT2kz2B"
      },
      "execution_count": null,
      "outputs": []
    },
    {
      "cell_type": "code",
      "source": [
        "%%R\n",
        "head(incheon0427)\n",
        "#head(incheon0427)\n",
        "# print(head(incheon0427))\n",
        "# printf(names(incheon0427))"
      ],
      "metadata": {
        "colab": {
          "base_uri": "https://localhost:8080/"
        },
        "id": "YvM1Tc-QoMDW",
        "outputId": "b2710a1c-7b5f-4136-caa2-02f534bf27a9"
      },
      "execution_count": null,
      "outputs": [
        {
          "output_type": "stream",
          "name": "stdout",
          "text": [
            "  no q1 q2_1 q3 q4 q4_4   q5_1 q6_1 q7 q8 q9_1 q9_2 q9_3 q9_4 q9_5 q9_6 q9_7\n",
            "1  2  1   43  3  4    4 구월동   10  1  2   NA   NA   NA   NA   NA   NA   NA\n",
            "2  3  1   55  4  4    4   간석   40  1  1    1   NA   NA   NA   NA   NA   NA\n",
            "3  4  2   45  3  4    2  계양1    5  2  2   NA   NA   NA   NA   NA   NA   NA\n",
            "4  5  2   28  1  4    4   구월   23  2  1   NA   NA   NA    4   NA   NA   NA\n",
            "5  6  2   23  1  4    6 부평동    1  2  2   NA   NA   NA   NA   NA   NA   NA\n",
            "6  7  1   48  3  4    6   갈산   17  2  2   NA   NA   NA   NA   NA   NA   NA\n",
            "  q9_8 q9_9 q9_9a q10 q11 q12 q13 q14 q15 q16 q17 q18 q19 q20 q21 q22 q23 q24\n",
            "1   NA   NA  <NA>   4   4   4   4   3   4   3   4   2   4   4   4   2   4   3\n",
            "2   NA   NA  <NA>   4   5   5   5   3   5   1   5   3   3   3   1   3   2   3\n",
            "3   NA   NA  <NA>   4   3   4   3   3   3   3   4   3   3   4   3   4   3   2\n",
            "4   NA   NA  <NA>   4   3   3   3   2   4   2   2   3   4   4   4   3   4   2\n",
            "5   NA   NA  <NA>   3   2   2   2   2   2   2   2   2   2   2   2   2   3   1\n",
            "6   NA   NA  <NA>   3   4   4   4   2   2   2   5   5   5   2   5   4   1   1\n",
            "  q25 q26 q27 q28 q29 q30 q31 q32 q33 q34 q35 q36 q37 q38 q39 q40 q41 q42 q43\n",
            "1   4   4   3   4   4   4   3   3   4   4   3   4   4   5   4   4   3   4   2\n",
            "2   3   2   1   2   1   3   3   4   2   1   3   3   2   1   2   1   1   3   3\n",
            "3   2   3   2   2   2   4   3   4   3   3   4   4   3   4   3   3   3   4   4\n",
            "4   3   3   2   4   4   2   4   2   3   4   2   3   4   4   3   3   4   4   3\n",
            "5   1   2   1   2   2   1   2   3   3   3   3   3   3   3   2   2   2   4   3\n",
            "6   1   2   2   3   3   4   4   4   5   5   5   5   5   3   2   2   2   4   3\n",
            "  q44 q45 q46 q47 q48 q49 q50 q51 q52 q53 q54 q55 q56 q57 q58 q59 q60 q61 q62\n",
            "1   2   2   4   4   4   4   4   3   3   4   3   4   4   4   3   3   3   2   2\n",
            "2   2   1   1   1   3   3   1   1   1   3   3   3   1   1   3   1   3   1   3\n",
            "3   4   4   3   4   2   2   2   2   2   2   1   1   3   3   3   3   3   3   3\n",
            "4   3   3   4   2   3   3   3   3   2   2   2   2   3   3   3   4   2   3   3\n",
            "5   4   4   4   4   2   1   2   2   2   2   2   2   3   3   3   3   3   4   3\n",
            "6   3   2   2   2   2   1   2   2   2   1   1   1   2   2   1   2   2   2   2\n",
            "  q63 q64 q65 q66 q67 q68 q69 q70 q71 q72 q73 q74 q75 q76 q77 q78 q79 q80 q81\n",
            "1   3   3   3   3   4   4   3   4   3   3   4   4   4   3   3   3   4   4   4\n",
            "2   5   4   4   3   3   2   3   1   1   2   3   3   1   3   3   3   1   2   3\n",
            "3   2   2   2   2   2   3   3   3   3   1   2   2   1   1   1   1   1   3   3\n",
            "4   2   3   3   3   3   4   3   4   4   3   3   4   3   2   2   2   3   3   4\n",
            "5   4   3   3   3   2   3   3   4   3   2   2   2   2   2   2   1   1   2   1\n",
            "6   1   1   1   1   1   1   2   2   2   3   3   2   2   1   4   3   3   3   2\n",
            "  q82 q83 q84 q85 q85_3 q86 q87 q87_12 q88 q88_1 q89 q89_1  q90_1\n",
            "1   4   1   3   2  <NA>   5   2   <NA>   1     2   2    NA   <NA>\n",
            "2   3   1   4   2  <NA>   3   1   <NA>   2    NA   2    NA   <NA>\n",
            "3   2   2   3   2  <NA>   6   6   <NA>   2    NA   2    NA   <NA>\n",
            "4   2   1   2   1  <NA>   3   1   <NA>   2    NA   1     1 마카오\n",
            "5   1   2   2   1  <NA>   2   1   <NA>   2    NA   2    NA   <NA>\n",
            "6   2   1   1   2  <NA>   5   1   <NA>   2    NA   2    NA   <NA>\n"
          ]
        }
      ]
    },
    {
      "cell_type": "code",
      "source": [
        "%%R\n",
        "x <- incheon0427$q1\n",
        "y <- incheon0427$q3\n",
        "class(x)"
      ],
      "metadata": {
        "colab": {
          "base_uri": "https://localhost:8080/"
        },
        "id": "FqsV4qmxk3JJ",
        "outputId": "37cfed39-2d85-4a8f-936f-b8f7c6487620"
      },
      "execution_count": null,
      "outputs": [
        {
          "output_type": "stream",
          "name": "stdout",
          "text": [
            "[1] \"numeric\"\n"
          ]
        }
      ]
    },
    {
      "cell_type": "code",
      "source": [
        "\n",
        "%%R\n",
        "result <- data.frame(Leval = x, Pass = y)"
      ],
      "metadata": {
        "id": "0jMqDmOdk3DJ"
      },
      "execution_count": null,
      "outputs": []
    },
    {
      "cell_type": "code",
      "source": [
        "%%R\n",
        "head(result)"
      ],
      "metadata": {
        "colab": {
          "base_uri": "https://localhost:8080/"
        },
        "id": "ErrzRXATk28p",
        "outputId": "62b3f6ae-1d84-413b-f263-14b40383230c"
      },
      "execution_count": null,
      "outputs": [
        {
          "output_type": "stream",
          "name": "stdout",
          "text": [
            "  Leval Pass\n",
            "1     1    3\n",
            "2     1    4\n",
            "3     2    3\n",
            "4     2    1\n",
            "5     2    1\n",
            "6     1    3\n"
          ]
        }
      ]
    },
    {
      "cell_type": "code",
      "source": [
        "%%R\n",
        "table(result)"
      ],
      "metadata": {
        "colab": {
          "base_uri": "https://localhost:8080/"
        },
        "id": "BGBrI9N8k21o",
        "outputId": "b2066827-e253-45ab-e514-ef56169ceb0e"
      },
      "execution_count": null,
      "outputs": [
        {
          "output_type": "stream",
          "name": "stdout",
          "text": [
            "     Pass\n",
            "Leval  1  2  3  4  5\n",
            "    1 66 65 67 59 23\n",
            "    2 69 69 68 57 20\n"
          ]
        }
      ]
    },
    {
      "cell_type": "code",
      "source": [
        "%%R\n",
        "CrossTable(result$Leval, result$Pass)"
      ],
      "metadata": {
        "colab": {
          "base_uri": "https://localhost:8080/"
        },
        "id": "LOxS8_3sk_Ea",
        "outputId": "0ecf4a19-dae5-4615-a4a8-ceced23e40ac"
      },
      "execution_count": null,
      "outputs": [
        {
          "output_type": "stream",
          "name": "stdout",
          "text": [
            "\n",
            " \n",
            "   Cell Contents\n",
            "|-------------------------|\n",
            "|                       N |\n",
            "| Chi-square contribution |\n",
            "|           N / Row Total |\n",
            "|           N / Col Total |\n",
            "|         N / Table Total |\n",
            "|-------------------------|\n",
            "\n",
            " \n",
            "Total Observations in Table:  563 \n",
            "\n",
            " \n",
            "             | result$Pass \n",
            "result$Leval |         1 |         2 |         3 |         4 |         5 | Row Total | \n",
            "-------------|-----------|-----------|-----------|-----------|-----------|-----------|\n",
            "           1 |        66 |        65 |        67 |        59 |        23 |       280 | \n",
            "             |     0.019 |     0.041 |     0.000 |     0.030 |     0.122 |           | \n",
            "             |     0.236 |     0.232 |     0.239 |     0.211 |     0.082 |     0.497 | \n",
            "             |     0.489 |     0.485 |     0.496 |     0.509 |     0.535 |           | \n",
            "             |     0.117 |     0.115 |     0.119 |     0.105 |     0.041 |           | \n",
            "-------------|-----------|-----------|-----------|-----------|-----------|-----------|\n",
            "           2 |        69 |        69 |        68 |        57 |        20 |       283 | \n",
            "             |     0.019 |     0.040 |     0.000 |     0.029 |     0.121 |           | \n",
            "             |     0.244 |     0.244 |     0.240 |     0.201 |     0.071 |     0.503 | \n",
            "             |     0.511 |     0.515 |     0.504 |     0.491 |     0.465 |           | \n",
            "             |     0.123 |     0.123 |     0.121 |     0.101 |     0.036 |           | \n",
            "-------------|-----------|-----------|-----------|-----------|-----------|-----------|\n",
            "Column Total |       135 |       134 |       135 |       116 |        43 |       563 | \n",
            "             |     0.240 |     0.238 |     0.240 |     0.206 |     0.076 |           | \n",
            "-------------|-----------|-----------|-----------|-----------|-----------|-----------|\n",
            "\n",
            " \n"
          ]
        }
      ]
    }
  ]
}